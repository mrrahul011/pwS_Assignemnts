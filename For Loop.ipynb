{
 "cells": [
  {
   "cell_type": "markdown",
   "id": "46efce40-70e1-43bc-91a2-76f7f02445fd",
   "metadata": {},
   "source": [
    "Basic Level:"
   ]
  },
  {
   "cell_type": "markdown",
   "id": "17c33df0-4502-4129-900c-be1243951f6a",
   "metadata": {},
   "source": [
    "1. Write a Python program to print the numbers from 1 to 10 using a `for` loop."
   ]
  },
  {
   "cell_type": "code",
   "execution_count": 1,
   "id": "be93d04d-b54c-49af-8030-bf2374deee6b",
   "metadata": {},
   "outputs": [
    {
     "name": "stdout",
     "output_type": "stream",
     "text": [
      "1\n",
      "2\n",
      "3\n",
      "4\n",
      "5\n",
      "6\n",
      "7\n",
      "8\n",
      "9\n",
      "10\n"
     ]
    }
   ],
   "source": [
    "for _ in range(1,11):\n",
    "    print(_)"
   ]
  },
  {
   "cell_type": "markdown",
   "id": "7d0eb933-e1b6-452a-a51d-5ad6ab400748",
   "metadata": {},
   "source": [
    "2. Create a program that calculates the sum of all numbers in a list using a `for` loop."
   ]
  },
  {
   "cell_type": "code",
   "execution_count": 2,
   "id": "2b64aa04-10d9-4344-a504-2069c8e677f0",
   "metadata": {},
   "outputs": [
    {
     "name": "stdout",
     "output_type": "stream",
     "text": [
      "Sum of list:  64\n"
     ]
    }
   ],
   "source": [
    "l = [1,23,2,5,8,9,6,10]\n",
    "\n",
    "s = 0\n",
    "for i in l:\n",
    "    s += i\n",
    "    \n",
    "print(\"Sum of list: \", s)"
   ]
  },
  {
   "cell_type": "markdown",
   "id": "128810b6-812c-4982-8cb5-67f75d19c12a",
   "metadata": {},
   "source": [
    "3. Write a program to print the characters of a string in reverse order using a `for` loop."
   ]
  },
  {
   "cell_type": "code",
   "execution_count": 9,
   "id": "5dcb9a62-54d6-49c0-bcdb-85db3474c55a",
   "metadata": {},
   "outputs": [
    {
     "data": {
      "text/plain": [
       "'luhar'"
      ]
     },
     "execution_count": 9,
     "metadata": {},
     "output_type": "execute_result"
    }
   ],
   "source": [
    "string = 'rahul'\n",
    "reverse_string = ''\n",
    "for i in range(1,len(string)+1):\n",
    "    reverse_string += string[-i]\n",
    "reverse_string"
   ]
  },
  {
   "cell_type": "markdown",
   "id": "46a704ba-31b1-4ec3-b952-c2c1080f32c5",
   "metadata": {},
   "source": [
    "4. Develop a program that finds the factorial of a given number using a `for` loop."
   ]
  },
  {
   "cell_type": "code",
   "execution_count": 10,
   "id": "f0a3e5ab-1a8c-438f-8b3a-e49a52e17d0a",
   "metadata": {},
   "outputs": [
    {
     "name": "stdin",
     "output_type": "stream",
     "text": [
      "Enter the number:  5\n"
     ]
    },
    {
     "name": "stdout",
     "output_type": "stream",
     "text": [
      "Factorial of 5 is 120\n"
     ]
    }
   ],
   "source": [
    "number = int(input(\"Enter the number: \"))\n",
    "factorial = 1\n",
    "for i in range(1, number+1):\n",
    "    factorial *= i\n",
    "print(f\"Factorial of {number} is {factorial}\")"
   ]
  },
  {
   "cell_type": "markdown",
   "id": "84099d0c-6af5-462b-a624-ee687030fe3d",
   "metadata": {},
   "source": [
    "5. Create a program to print the multiplication table of a given number using a `for` loop."
   ]
  },
  {
   "cell_type": "code",
   "execution_count": 11,
   "id": "331b16ab-fa02-42d3-ba52-8ac3439b36da",
   "metadata": {},
   "outputs": [
    {
     "name": "stdin",
     "output_type": "stream",
     "text": [
      "Enter the number:  10\n"
     ]
    },
    {
     "name": "stdout",
     "output_type": "stream",
     "text": [
      "The multiplication table of 10\n",
      "10 x 1 = 10\n",
      "10 x 2 = 20\n",
      "10 x 3 = 30\n",
      "10 x 4 = 40\n",
      "10 x 5 = 50\n",
      "10 x 6 = 60\n",
      "10 x 7 = 70\n",
      "10 x 8 = 80\n",
      "10 x 9 = 90\n",
      "10 x 10 = 100\n"
     ]
    }
   ],
   "source": [
    "number = int(input(\"Enter the number: \"))\n",
    "print(f\"The multiplication table of {number}\")\n",
    "for i in range(1,11):\n",
    "    print(f\"{number} x {i} = {number*i}\")"
   ]
  },
  {
   "cell_type": "markdown",
   "id": "ea2b5ce4-56c9-47a9-b645-3a56898268c9",
   "metadata": {},
   "source": [
    "6. Write a program that counts the number of even and odd numbers in a list using a `for` loop."
   ]
  },
  {
   "cell_type": "code",
   "execution_count": 13,
   "id": "4dfa139c-2cfa-4ce6-b516-a0f6c6eb9c1f",
   "metadata": {},
   "outputs": [
    {
     "name": "stdout",
     "output_type": "stream",
     "text": [
      "The list contain 7 even numbers and 8 odd numbers\n"
     ]
    }
   ],
   "source": [
    "l = [1,23,54,7,5,8,90,125,45,48,3,6,75,48,28]\n",
    "\n",
    "count_even = 0\n",
    "cout_odd = 0\n",
    "\n",
    "for i in l:\n",
    "    if i%2 == 0:\n",
    "        count_even += 1\n",
    "    elif i%2 != 0:\n",
    "        cout_odd += 1\n",
    "    else:\n",
    "        pass\n",
    "    \n",
    "print(f\"The list contain {count_even} even numbers and {cout_odd} odd numbers\")"
   ]
  },
  {
   "cell_type": "markdown",
   "id": "7c087353-b15c-48fa-afe0-8122a3cfba2e",
   "metadata": {},
   "source": [
    "7. Develop a program that prints the squares of numbers from 1 to 5 using a `for` loop."
   ]
  },
  {
   "cell_type": "code",
   "execution_count": 14,
   "id": "2c7d5f3e-78eb-4d62-b622-3444525661b7",
   "metadata": {},
   "outputs": [
    {
     "name": "stdout",
     "output_type": "stream",
     "text": [
      "1 squre is 1\n",
      "2 squre is 4\n",
      "3 squre is 9\n",
      "4 squre is 16\n",
      "5 squre is 25\n"
     ]
    }
   ],
   "source": [
    "for i in range(1,6):\n",
    "    print(f\"{i} squre is {i*i}\")"
   ]
  },
  {
   "cell_type": "markdown",
   "id": "61226b21-d12b-4fb6-a4cf-fa52bba629f5",
   "metadata": {},
   "source": [
    "8. Create a program to find the length of a string without using the `len()` function."
   ]
  },
  {
   "cell_type": "code",
   "execution_count": 16,
   "id": "bf3b9add-6332-4da7-aa8f-bdd6c213aa77",
   "metadata": {},
   "outputs": [
    {
     "name": "stdout",
     "output_type": "stream",
     "text": [
      "program lenth is 7\n"
     ]
    }
   ],
   "source": [
    "string = \"program\"\n",
    "length = 0\n",
    "for i in string:\n",
    "    length += 1 \n",
    "print(f\"{string} lenth is {length}\")"
   ]
  },
  {
   "cell_type": "markdown",
   "id": "aad7577a-b2af-473c-9cd2-5091c6de149c",
   "metadata": {},
   "source": [
    "9. Write a program that calculates the average of a list of numbers using a `for` loop."
   ]
  },
  {
   "cell_type": "code",
   "execution_count": 20,
   "id": "a8664d06-3de3-486c-a9b4-b7901eaecc1b",
   "metadata": {},
   "outputs": [
    {
     "name": "stdout",
     "output_type": "stream",
     "text": [
      "The average of list is 37.73\n"
     ]
    }
   ],
   "source": [
    "l = [1,23,54,7,5,8,90,125,45,48,3,6,75,48,28]\n",
    "\n",
    "average = 0.0\n",
    "for i in l:\n",
    "    average += i/len(l)\n",
    "\n",
    "print(f\"The average of list is {round(average,2)}\")"
   ]
  },
  {
   "cell_type": "markdown",
   "id": "3511f957-e8f7-4523-bb5d-5bf792a5aa5f",
   "metadata": {},
   "source": [
    "10. Develop a program that prints the first `n` Fibonacci numbers using a `for` loop."
   ]
  },
  {
   "cell_type": "code",
   "execution_count": 35,
   "id": "8a084d47-e683-45bc-9021-158fe38dd4dd",
   "metadata": {},
   "outputs": [
    {
     "name": "stdin",
     "output_type": "stream",
     "text": [
      "Enter the number:  10\n"
     ]
    },
    {
     "name": "stdout",
     "output_type": "stream",
     "text": [
      "0\n",
      "1\n",
      "1\n",
      "2\n",
      "3\n",
      "5\n",
      "8\n",
      "13\n",
      "21\n",
      "34\n"
     ]
    }
   ],
   "source": [
    "n = int(input(\"Enter the number: \"))\n",
    "x = 0\n",
    "y = 1\n",
    "print(x)\n",
    "print(y)\n",
    "next_num = 0\n",
    "for i in range(1,n-1):\n",
    "    next_num = x+y\n",
    "    print(next_num)\n",
    "    x,y = y, next_num\n",
    "    \n"
   ]
  },
  {
   "cell_type": "markdown",
   "id": "ef5ba97e-0d50-4c5c-b9e8-803ea01c7e5b",
   "metadata": {},
   "source": [
    "Intermediate Level:"
   ]
  },
  {
   "cell_type": "markdown",
   "id": "a22af954-1d45-4795-96e8-2eb3e8dc141e",
   "metadata": {},
   "source": [
    "11. Write a program to check if a given list contains any duplicates using a `for` loop."
   ]
  },
  {
   "cell_type": "code",
   "execution_count": 10,
   "id": "cec73142-97a0-4a19-904e-cd246ac3abe2",
   "metadata": {},
   "outputs": [
    {
     "name": "stdout",
     "output_type": "stream",
     "text": [
      "No duplicate element\n"
     ]
    }
   ],
   "source": [
    "l1 = [1,2,1,2,3,4,5,1,1,2,5,6,7,8,9,9]\n",
    "\n",
    "flag = False\n",
    "for i in l1:\n",
    "    n = l1.count(i)\n",
    "    if n >1:\n",
    "        \n",
    "        flag = True\n",
    "if flag == True:\n",
    "    print(\"Duplicate element found\")\n",
    "else:\n",
    "    print(\"No duplicate element\")\n"
   ]
  },
  {
   "cell_type": "markdown",
   "id": "665b7171-2a96-45c0-8d6a-11a5348d10bf",
   "metadata": {},
   "source": [
    "12. Create a program that prints the prime numbers in a given range using a `for` loop."
   ]
  },
  {
   "cell_type": "code",
   "execution_count": 20,
   "id": "241d8b44-7cc2-44b4-8ac2-2e86fe9fb4f9",
   "metadata": {},
   "outputs": [
    {
     "name": "stdin",
     "output_type": "stream",
     "text": [
      "Enter starting range:  0\n",
      "Enter stoping range:  11\n"
     ]
    },
    {
     "name": "stdout",
     "output_type": "stream",
     "text": [
      "2 3 5 7 11 "
     ]
    }
   ],
   "source": [
    "a = int(input(\"Enter starting range: \"))\n",
    "b = int(input(\"Enter stoping range: \"))\n",
    "\n",
    "for i in range(a, b+1):\n",
    "    if i <= 1:\n",
    "        continue\n",
    "    flag = False\n",
    "    for j in range(2,i//2 +1):\n",
    "        if i % j == 0:\n",
    "            flag = True\n",
    "            break\n",
    "    if flag == False:\n",
    "        print(i, end = ' ')\n",
    "        "
   ]
  },
  {
   "cell_type": "markdown",
   "id": "f2a3d4cb-beae-45b6-b4d1-131a4927fae4",
   "metadata": {},
   "source": [
    "13. Develop a program that counts the number of vowels in a string using a `for` loop."
   ]
  },
  {
   "cell_type": "code",
   "execution_count": 23,
   "id": "cdb7e231-b286-4a89-bb54-3b259491cbec",
   "metadata": {},
   "outputs": [
    {
     "name": "stdout",
     "output_type": "stream",
     "text": [
      "Number of vowels in programming language is 7\n"
     ]
    }
   ],
   "source": [
    "l = 'programming language'\n",
    "counter = 0\n",
    "for i in l:\n",
    "    if i.lower() in ['a','e','i','o','u']:\n",
    "        counter  += 1\n",
    "print(f \"Number of vowels in {l} is {counter}\")"
   ]
  },
  {
   "cell_type": "markdown",
   "id": "420a013f-c4c9-4d14-b5a1-aaffa498c20c",
   "metadata": {},
   "source": [
    "14. Write a program to find the maximum element in a 2D list using a nested `for` loop."
   ]
  },
  {
   "cell_type": "code",
   "execution_count": 30,
   "id": "872f673a-5f89-4f6d-882a-4dffd4b20ae5",
   "metadata": {},
   "outputs": [
    {
     "name": "stdout",
     "output_type": "stream",
     "text": [
      "The maximum number in list is: 100\n"
     ]
    }
   ],
   "source": [
    "l = [[100,2,3,4,5,6],[8,5,2,14,5,6,]]\n",
    "max_number = 0\n",
    "for i in l:\n",
    "    for j in i:\n",
    "        if j > max_number:\n",
    "            max_number = j\n",
    "print(f\"The maximum number in list is: {max_number}\")        "
   ]
  },
  {
   "cell_type": "markdown",
   "id": "f635c0c4-e8a6-4e76-b789-cb2e180fce0e",
   "metadata": {},
   "source": [
    "15. Create a program that removes all occurrences of a specific element from a list using a `for` loop."
   ]
  },
  {
   "cell_type": "code",
   "execution_count": 33,
   "id": "5e40b5c4-c6cf-46a3-afcf-bd1a8b254f93",
   "metadata": {},
   "outputs": [
    {
     "name": "stdout",
     "output_type": "stream",
     "text": [
      "New list:  [1, 1, 3, 4, 5, 1, 1, 5, 6, 7, 8, 9, 9]\n"
     ]
    }
   ],
   "source": [
    "l1 = [1,2,1,2,3,4,5,1,1,2,5,6,7,8,9,9]\n",
    "remove = 2\n",
    "new_l1 = []\n",
    "\n",
    "for i in l1:\n",
    "    if i == remove:\n",
    "        l1.remove(i)\n",
    "print(\"New list: \", l1)"
   ]
  },
  {
   "cell_type": "markdown",
   "id": "f4b9b970-a8b9-4923-886e-30100892ce7a",
   "metadata": {},
   "source": [
    "16. Develop a program that generates a multiplication table for numbers from 1 to 5 using a nested `for` loop."
   ]
  },
  {
   "cell_type": "code",
   "execution_count": 34,
   "id": "e62082ce-ac63-4c74-8f74-19431c5fbb52",
   "metadata": {},
   "outputs": [
    {
     "name": "stdout",
     "output_type": "stream",
     "text": [
      "Multiplication table of 1\n",
      "1 x 1 = 1\n",
      "1 x 2 = 2\n",
      "1 x 3 = 3\n",
      "1 x 4 = 4\n",
      "1 x 5 = 5\n",
      "1 x 6 = 6\n",
      "1 x 7 = 7\n",
      "1 x 8 = 8\n",
      "1 x 9 = 9\n",
      "1 x 10 = 10\n",
      "---------------------\n",
      "Multiplication table of 2\n",
      "2 x 1 = 2\n",
      "2 x 2 = 4\n",
      "2 x 3 = 6\n",
      "2 x 4 = 8\n",
      "2 x 5 = 10\n",
      "2 x 6 = 12\n",
      "2 x 7 = 14\n",
      "2 x 8 = 16\n",
      "2 x 9 = 18\n",
      "2 x 10 = 20\n",
      "---------------------\n",
      "Multiplication table of 3\n",
      "3 x 1 = 3\n",
      "3 x 2 = 6\n",
      "3 x 3 = 9\n",
      "3 x 4 = 12\n",
      "3 x 5 = 15\n",
      "3 x 6 = 18\n",
      "3 x 7 = 21\n",
      "3 x 8 = 24\n",
      "3 x 9 = 27\n",
      "3 x 10 = 30\n",
      "---------------------\n",
      "Multiplication table of 4\n",
      "4 x 1 = 4\n",
      "4 x 2 = 8\n",
      "4 x 3 = 12\n",
      "4 x 4 = 16\n",
      "4 x 5 = 20\n",
      "4 x 6 = 24\n",
      "4 x 7 = 28\n",
      "4 x 8 = 32\n",
      "4 x 9 = 36\n",
      "4 x 10 = 40\n",
      "---------------------\n",
      "Multiplication table of 5\n",
      "5 x 1 = 5\n",
      "5 x 2 = 10\n",
      "5 x 3 = 15\n",
      "5 x 4 = 20\n",
      "5 x 5 = 25\n",
      "5 x 6 = 30\n",
      "5 x 7 = 35\n",
      "5 x 8 = 40\n",
      "5 x 9 = 45\n",
      "5 x 10 = 50\n",
      "---------------------\n"
     ]
    }
   ],
   "source": [
    "for i in range(1,6):\n",
    "    print(f\"Multiplication table of {i}\")\n",
    "    for j in range(1,11):\n",
    "        print(f\"{i} x {j} = {i*j}\" )\n",
    "    print(\"---------------------\")"
   ]
  },
  {
   "cell_type": "markdown",
   "id": "d6d68153-7cec-4f79-aa89-3f1a5bc747d4",
   "metadata": {},
   "source": [
    "17. Write a program that converts a list of Fahrenheit temperatures to Celsius using a `for` loop."
   ]
  },
  {
   "cell_type": "code",
   "execution_count": 37,
   "id": "37540b8b-1e70-48a1-8c08-298691c5993b",
   "metadata": {},
   "outputs": [
    {
     "name": "stdout",
     "output_type": "stream",
     "text": [
      "Fahrenheit temperatures [20, 30, 4, 96, 145, 232, 32]\n",
      "Celsius temperatures [-6.67, -1.11, -15.56, 35.56, 62.78, 111.11, 0.0]\n"
     ]
    }
   ],
   "source": [
    "fahrenheit=  [20,30,4,96,145,232,32]\n",
    "fahrenheit_celsius = [round((int(x)-32)*5/9,2) for x in fahrenheit]\n",
    "print(\"Fahrenheit temperatures\", fahrenheit)\n",
    "print(\"Celsius temperatures\", fahrenheit_celsius)"
   ]
  },
  {
   "cell_type": "markdown",
   "id": "099f2f70-8510-45df-8a86-5d84c0138bb6",
   "metadata": {},
   "source": [
    "18. Create a program to print the common elements from two lists using a `for` loop."
   ]
  },
  {
   "cell_type": "code",
   "execution_count": 39,
   "id": "64b4969e-2751-44f3-85a8-78a93156c538",
   "metadata": {},
   "outputs": [
    {
     "data": {
      "text/plain": [
       "[4, 96, 145, 232, 32]"
      ]
     },
     "execution_count": 39,
     "metadata": {},
     "output_type": "execute_result"
    }
   ],
   "source": [
    "list1=  [20,30,4,96,145,232,32]\n",
    "list2 = [4,96,145,232,32]\n",
    "\n",
    "common_list = [x for x in list1 if x in list2]\n",
    "common_list"
   ]
  },
  {
   "cell_type": "markdown",
   "id": "0921c409-cec8-42be-8784-82704830fcf6",
   "metadata": {},
   "source": [
    "19. Develop a program that prints the pattern of right-angled triangles using a `for` loop. Use ‘*’ to draw the pattern"
   ]
  },
  {
   "cell_type": "code",
   "execution_count": 42,
   "id": "9eebc750-d8df-4eff-9eb3-4163f22a482f",
   "metadata": {},
   "outputs": [
    {
     "name": "stdin",
     "output_type": "stream",
     "text": [
      "Enter the height:  5\n"
     ]
    },
    {
     "name": "stdout",
     "output_type": "stream",
     "text": [
      "* \n",
      "* * \n",
      "* * * \n",
      "* * * * \n",
      "* * * * * \n"
     ]
    }
   ],
   "source": [
    "height=int(input(\"Enter the height: \"))\n",
    "\n",
    "for i in range(1,height+1):\n",
    "    for j in range(i):\n",
    "        print(\"* \", end=\"\")\n",
    "    print('')"
   ]
  },
  {
   "cell_type": "markdown",
   "id": "f80132b1-c73b-4130-8378-264e0f18d39a",
   "metadata": {},
   "source": [
    "20. Write a program to find the greatest common divisor (GCD) of two numbers using a `for` loop."
   ]
  },
  {
   "cell_type": "code",
   "execution_count": 57,
   "id": "9dc8945f-9edb-456e-957e-48240518af49",
   "metadata": {},
   "outputs": [
    {
     "name": "stdin",
     "output_type": "stream",
     "text": [
      "Enter first number:  297\n",
      "Enter second number:  127\n"
     ]
    },
    {
     "name": "stdout",
     "output_type": "stream",
     "text": [
      "GCD of 297 and 127 is 1\n"
     ]
    }
   ],
   "source": [
    "x= int(input(\"Enter first number: \"))\n",
    "y= int(input(\"Enter second number: \"))\n",
    "common1 = [x]\n",
    "common2 = [y]\n",
    "\n",
    "for i in range(1, x+1 // 2):\n",
    "    if i == 1:\n",
    "        common1.append(i)\n",
    "        continue\n",
    "\n",
    "    if x % i == 0:\n",
    "        common1.append(int(i))\n",
    "for i in range(1, y+1 // 2):\n",
    "    if i == 1:\n",
    "        common2.append(i)\n",
    "        continue\n",
    "\n",
    "    if y % i == 0:\n",
    "        common2.append(int(i))  \n",
    "\n",
    "GCD = [i for i in common1 if i in common2]\n",
    "print(f\"GCD of {x} and {y} is {max(GCD)}\")"
   ]
  },
  {
   "cell_type": "markdown",
   "id": "3ee9d286-3918-4a79-8498-89377eea4095",
   "metadata": {},
   "source": [
    "Advanced Level:"
   ]
  },
  {
   "cell_type": "markdown",
   "id": "ba7c8780-2838-43ad-bb0d-fc7b53566a2f",
   "metadata": {},
   "source": [
    "21. Create a program that calculates the sum of the digits of numbers in a list using a list comprehension."
   ]
  },
  {
   "cell_type": "code",
   "execution_count": 69,
   "id": "bd8fa7aa-a1bd-4676-97e9-60c088aad53d",
   "metadata": {},
   "outputs": [
    {
     "data": {
      "text/plain": [
       "[2, 3, 4, 15, 10, 7, 5]"
      ]
     },
     "execution_count": 69,
     "metadata": {},
     "output_type": "execute_result"
    }
   ],
   "source": [
    "list_number =  [20,30,4,96,145,232,32]\n",
    "\n",
    "def sum_list(number):\n",
    "    s = 0\n",
    "    for i in str(number):\n",
    "        s += int(i)\n",
    "    return s\n",
    "\n",
    "sum_list = [sum_list(n) for n in list_number]\n",
    "sum_list"
   ]
  },
  {
   "cell_type": "markdown",
   "id": "265bb232-9898-4e28-94a5-977cce2bd255",
   "metadata": {},
   "source": [
    "22. Write a program to find the prime factors of a given number using a `for` loop and list comprehension."
   ]
  },
  {
   "cell_type": "code",
   "execution_count": 86,
   "id": "a50a9406-99b9-4ecb-b160-ee2cd397783b",
   "metadata": {},
   "outputs": [
    {
     "name": "stdin",
     "output_type": "stream",
     "text": [
      "Enter a number:  30\n"
     ]
    },
    {
     "name": "stdout",
     "output_type": "stream",
     "text": [
      "The prime factors of 30: [1, 2, 3, 5]\n"
     ]
    }
   ],
   "source": [
    "def prime(n):\n",
    "    prime_list = []\n",
    "    for i in range(1, n+1):\n",
    "        if i == 1:\n",
    "            prime_list.append(i)\n",
    "            continue\n",
    "        else:\n",
    "            for j in range(2, int(i/2)+1):\n",
    "                if i % j == 0:\n",
    "                    break\n",
    "            else:\n",
    "                prime_list.append(i)\n",
    "    return prime_list\n",
    "\n",
    "def factors(n):\n",
    "    factor_list = [n]\n",
    "    for i in range(1, n+1 // 2):\n",
    "        if i == 1:\n",
    "            factor_list.append(i)\n",
    "            continue\n",
    "\n",
    "        if n % i == 0:\n",
    "            factor_list.append(int(i))\n",
    "    return sorted(factor_list)\n",
    "n = int(input(\"Enter a number: \"))\n",
    "\n",
    "prime_factor = [x for x in factors(n) if x in prime(n)]\n",
    "print(f\"The prime factors of {n}: {prime_factor}\")"
   ]
  },
  {
   "cell_type": "markdown",
   "id": "27ff11fa-1634-497c-9a3b-dae48871bdfb",
   "metadata": {},
   "source": [
    "23. Develop a program that extracts unique elements from a list and stores them in a new list using a list\n",
    "comprehension."
   ]
  },
  {
   "cell_type": "code",
   "execution_count": 93,
   "id": "7692ee57-3b9c-410e-bed2-4f199921e827",
   "metadata": {},
   "outputs": [
    {
     "name": "stdout",
     "output_type": "stream",
     "text": [
      "Unique elements: [20, 30]\n"
     ]
    }
   ],
   "source": [
    "list_number =  [20,30,4,96,145,232,32, 4,96,145,232,32]\n",
    "unique_list = [x for x in list_number if list_number.count(x) == 1]\n",
    "print(\"Unique elements:\", unique_list)"
   ]
  },
  {
   "cell_type": "markdown",
   "id": "2f96e1dd-c3da-45b1-ba1c-f522ac0e783d",
   "metadata": {},
   "source": [
    "24.  Create a program that generates a list of all palindromic numbers up to a specified limit using a list comprehension."
   ]
  },
  {
   "cell_type": "code",
   "execution_count": 95,
   "id": "64e7f853-3d05-4d1b-9308-64e43b50e1b7",
   "metadata": {},
   "outputs": [
    {
     "name": "stdin",
     "output_type": "stream",
     "text": [
      "Enter the limit to print palindrom:  100\n"
     ]
    },
    {
     "name": "stdout",
     "output_type": "stream",
     "text": [
      "List of palindromic number till 100:\n",
      "[1, 2, 3, 4, 5, 6, 7, 8, 9, 11, 22, 33, 44, 55, 66, 77, 88, 99]\n"
     ]
    }
   ],
   "source": [
    "def palindrom(n):\n",
    "    return str(n) == str(n)[::-1]\n",
    "\n",
    "number = int(input(\"Enter the limit to print palindrom: \"))\n",
    "\n",
    "list_palindrom = [x for x in range(1, number+1) if palindrom(x)]\n",
    "\n",
    "print(f\"List of palindromic number till {number}:\")\n",
    "print(list_palindrom)"
   ]
  },
  {
   "cell_type": "markdown",
   "id": "9ec3a91b-017c-4ebf-bdfc-00918d24a75b",
   "metadata": {},
   "source": [
    "25.  Write a program to flatten a nested list using list comprehension."
   ]
  },
  {
   "cell_type": "code",
   "execution_count": 98,
   "id": "dce80d60-21ec-4913-8725-c08a2206d394",
   "metadata": {},
   "outputs": [
    {
     "name": "stdout",
     "output_type": "stream",
     "text": [
      "Nested list:  [[20, 30, 4, 96], [145, 232, 32, 4], [96, 145, 232, 32]]\n",
      "Combined list:  [20, 30, 4, 96, 145, 232, 32, 4, 96, 145, 232, 32]\n"
     ]
    }
   ],
   "source": [
    "list_nested =  [[20,30,4,96],[145,232,32, 4],[96,145,232,32]]\n",
    "print(\"Nested list: \", list_nested)\n",
    "combined_list = [i for x in list_nested for i in x]\n",
    "print(\"Combined list: \", combined_list)"
   ]
  },
  {
   "cell_type": "markdown",
   "id": "25901e3e-15c4-4d95-9f1d-a92bf74090b7",
   "metadata": {},
   "source": [
    "26. Develop a program that computes the sum of even and odd numbers in a list separately using list\n",
    "comprehension."
   ]
  },
  {
   "cell_type": "code",
   "execution_count": 118,
   "id": "65190cb6-8777-462e-a6b9-b22b4f74b0a3",
   "metadata": {},
   "outputs": [
    {
     "name": "stdout",
     "output_type": "stream",
     "text": [
      "List of even number: [20, 30, 4, 96, 232, 32, 4, 96, 232, 32] and their sum 778\n",
      "List of odd number: [145, 145, 25, 49] and their sum 364\n"
     ]
    }
   ],
   "source": [
    "list_number =  [20,30,4,96,145,232,32, 4,96,145,232,32,25,49]\n",
    "\n",
    "list_even = [x for x in list_number if x%2 == 0]\n",
    "list_odd = [x for x in list_number if x%2 != 0]\n",
    "\n",
    "print(f\"List of even number: {list_even} and their sum {sum(list_even)}\")\n",
    "print(f\"List of odd number: {list_odd} and their sum {sum(list_odd)}\")"
   ]
  },
  {
   "cell_type": "markdown",
   "id": "62fe1ded-1685-4b52-ab03-5a85d7adc515",
   "metadata": {},
   "source": [
    "27.  Create a program that generates a list of squares of odd numbers between 1 and 10 using list comprehension."
   ]
  },
  {
   "cell_type": "code",
   "execution_count": 120,
   "id": "9b4195b5-4564-40cc-93d8-6b64c775c955",
   "metadata": {},
   "outputs": [
    {
     "name": "stdout",
     "output_type": "stream",
     "text": [
      " list of squares of odd numbers between 1 and 10:  [1, 9, 25, 49, 81]\n"
     ]
    }
   ],
   "source": [
    "square_list = [x**2 for x in range(1,11) if x%2 != 0]\n",
    "print(\" list of squares of odd numbers between 1 and 10: \", square_list)"
   ]
  },
  {
   "cell_type": "markdown",
   "id": "e47962ee-0a15-4d93-aaf8-deaffc15ae4f",
   "metadata": {},
   "source": [
    "28. Write a program that combines two lists into a dictionary using list comprehension."
   ]
  },
  {
   "cell_type": "markdown",
   "id": "74cc9ada-4d38-402c-a8c3-310e97c68ae5",
   "metadata": {},
   "source": [
    "list_character = ['a','b','c','d','e']\n",
    "list_number =  [20,30,4,96,145]\n",
    "\n",
    "dictionary = {key : value for key, value in zip(list_character, list_number)}\n",
    "dictionary"
   ]
  },
  {
   "cell_type": "markdown",
   "id": "21f3643a-2a0d-4c63-8147-4ae9b243eaf0",
   "metadata": {},
   "source": [
    "29.  Develop a program that extracts the vowels from a string and stores them in a list using list comprehension."
   ]
  },
  {
   "cell_type": "code",
   "execution_count": 125,
   "id": "04253b9e-9a8b-4205-b0a7-7fe802d9407f",
   "metadata": {},
   "outputs": [
    {
     "name": "stdout",
     "output_type": "stream",
     "text": [
      "List of vowels in 'Develop a program' are ['a', 'o', 'e']\n"
     ]
    }
   ],
   "source": [
    "string = \"Develop a program\"\n",
    "list_vowels = list(set([v for v in string if v.lower() in ['a','e','i','o','u']]))\n",
    "print(f\"List of vowels in '{string}' are {list_vowels}\")"
   ]
  },
  {
   "cell_type": "markdown",
   "id": "8def273c-2833-4123-8d0e-486d989ffb8e",
   "metadata": {},
   "source": [
    "30.  Create a program that removes all non-numeric characters from a list of strings using list comprehension."
   ]
  },
  {
   "cell_type": "code",
   "execution_count": 140,
   "id": "8ca7df12-46f0-4a71-8892-7e3e1ed4a0f6",
   "metadata": {},
   "outputs": [
    {
     "name": "stdout",
     "output_type": "stream",
     "text": [
      "Main list: ['a234', 'basdasd1254', 'cvaa165564']\n",
      "Numeric list:  ['234', '1254', '165564']\n"
     ]
    }
   ],
   "source": [
    "list_character = ['a234','basdasd1254','cvaa165564']\n",
    "\n",
    "numeric_list = [''.join(filter(str.isdigit, x)) for x in list_character]\n",
    "\n",
    "\n",
    "print(\"Main list:\", list_character)\n",
    "print(\"Numeric list: \",numeric_list)"
   ]
  },
  {
   "cell_type": "code",
   "execution_count": null,
   "id": "c3f2bdb7-ec89-4bf3-9522-d546a35c91b1",
   "metadata": {},
   "outputs": [],
   "source": []
  },
  {
   "cell_type": "markdown",
   "id": "4981fd0f-fbeb-4599-bae4-a73c455303f1",
   "metadata": {},
   "source": [
    "  Challenge Level:"
   ]
  },
  {
   "cell_type": "markdown",
   "id": "70a9c5eb-332d-4db0-9ea5-89379e74776b",
   "metadata": {},
   "source": [
    "31. Write a program to generate a list of prime numbers using the Sieve of Eratosthenes algorithm and list comprehension."
   ]
  },
  {
   "cell_type": "code",
   "execution_count": 145,
   "id": "d31d1503-5149-4e80-b58e-49b1ab1cfd6d",
   "metadata": {},
   "outputs": [
    {
     "name": "stdin",
     "output_type": "stream",
     "text": [
      "Enter the number:  50\n"
     ]
    },
    {
     "name": "stdout",
     "output_type": "stream",
     "text": [
      "2 3 5 7 11 13 17 19 23 29 31 37 41 43 47 "
     ]
    }
   ],
   "source": [
    "def SieveOfEratosthenes(num):\n",
    "    prime = [True for i in range(num+1)]\n",
    "    p = 2\n",
    "    while (p * p <= num):\n",
    "        if (prime[p] == True):\n",
    "            for i in range(p * p, num+1, p):\n",
    "                prime[i] = False\n",
    "        p += 1\n",
    "    for p in range(2, num+1):\n",
    "        if prime[p]:\n",
    "            print(p, end=' ')\n",
    "n = int(input(\"Enter the number: \"))\n",
    "SieveOfEratosthenes(n)"
   ]
  },
  {
   "cell_type": "markdown",
   "id": "aeae1a21-742c-4554-8307-a1fa8ff51689",
   "metadata": {},
   "source": [
    "32. Create a program that generates a list of all Pythagorean triplets up to a specified limit using list comprehension."
   ]
  },
  {
   "cell_type": "code",
   "execution_count": 150,
   "id": "50cb7511-6047-400b-a2d5-aecf91375166",
   "metadata": {},
   "outputs": [
    {
     "name": "stdin",
     "output_type": "stream",
     "text": [
      "Enter the number:  20\n"
     ]
    },
    {
     "name": "stdout",
     "output_type": "stream",
     "text": [
      "Pythagorean triplets up to 20:\n",
      "[(3, 4, 5), (5, 12, 13), (6, 8, 10), (8, 15, 17), (9, 12, 15), (12, 16, 20)]\n"
     ]
    }
   ],
   "source": [
    "#Pythagorean triplets: a^2 + b^2 = c^2\n",
    "\n",
    "n = int(input(\"Enter the number: \"))\n",
    "pythagorean_list= [(a, b, c) for a in range(1, n+1) for b in range(a, n+1) for c in range(b, n+1) if a**2 + b**2 == c**2]\n",
    "\n",
    "print(f\"Pythagorean triplets up to {n}:\")\n",
    "print(pythagorean_list)"
   ]
  },
  {
   "cell_type": "markdown",
   "id": "b8b5e362-ae35-415f-89e0-e04a4e4c2c01",
   "metadata": {},
   "source": [
    "33. Develop a program that generates a list of all possible combinations of two lists using list comprehension."
   ]
  },
  {
   "cell_type": "code",
   "execution_count": 152,
   "id": "aeedded9-e85a-418b-bbf2-193da1f71083",
   "metadata": {},
   "outputs": [
    {
     "name": "stdout",
     "output_type": "stream",
     "text": [
      "[(1, 'a'), (1, 'b'), (2, 'a'), (2, 'b'), (3, 'a'), (3, 'b')]\n"
     ]
    }
   ],
   "source": [
    "import itertools\n",
    "\n",
    "list1 = [1, 2, 3]\n",
    "list2 = ['a', 'b']\n",
    "\n",
    "combination_list = [combination for combination in list(itertools.product(list1, list2))]\n",
    "print(combination_list)"
   ]
  },
  {
   "cell_type": "markdown",
   "id": "5549aec0-dde7-477d-82e1-a516cad333ad",
   "metadata": {},
   "source": [
    "34. Write a program that calculates the mean, median, and mode of a list of numbers using list comprehension."
   ]
  },
  {
   "cell_type": "code",
   "execution_count": 181,
   "id": "ff54ef1c-6dab-4759-a151-615c5ab67ddb",
   "metadata": {},
   "outputs": [
    {
     "name": "stdout",
     "output_type": "stream",
     "text": [
      "List:  [1, 1, 2, 3, 4, 5, 6, 6, 7, 8, 9, 10]\n",
      "Mean:  5.17\n",
      "Median:  5.5\n",
      "Mode:  {1, 6}\n"
     ]
    }
   ],
   "source": [
    "numbers = [1,1, 2, 3, 4, 5, 6,6, 7, 8, 9, 10]\n",
    "\n",
    "def mean(l):\n",
    "    return round(sum(l)/ len(l), 2)\n",
    "\n",
    "def median(l):\n",
    "    if len(l) % 2 != 0:\n",
    "        return l[(len(l) // 2)+1]\n",
    "    else:\n",
    "        m1 = l[(len(l) // 2)]\n",
    "        m2 = l[(len(l) // 2)-1]\n",
    "        return round((m1+ m2)/2,2)\n",
    "mode = set([s for s in numbers if numbers.count(s) > 1 ])\n",
    "\n",
    "print(\"List: \", numbers)\n",
    "print(\"Mean: \", mean(numbers))\n",
    "print(\"Median: \", median(numbers))\n",
    "print(\"Mode: \", mode)"
   ]
  },
  {
   "cell_type": "markdown",
   "id": "1a9db48d-38cc-4440-9ed0-d5e2549bdba3",
   "metadata": {},
   "source": [
    "35. Create a program that generates Pascal's triangle up to a specified number of rows using list comprehension.\n"
   ]
  },
  {
   "cell_type": "code",
   "execution_count": 182,
   "id": "a15b5023-1eee-4855-9e98-1f69d20cb002",
   "metadata": {},
   "outputs": [
    {
     "name": "stdin",
     "output_type": "stream",
     "text": [
      "Enter the number:  10\n"
     ]
    },
    {
     "name": "stdout",
     "output_type": "stream",
     "text": [
      "          1\n",
      "         1 1\n",
      "        1 2 1\n",
      "       1 3 3 1\n",
      "      1 4 6 4 1\n",
      "     1 6 1 0 5 1\n",
      "    1 7 7 1 5 6 1\n",
      "   1 9 4 8 7 1 7 1\n",
      "  2 1 4 3 5 8 8 8 1\n",
      " 2 3 5 7 9 4 7 6 9 1\n"
     ]
    }
   ],
   "source": [
    "#11**i\n",
    "# input n\n",
    "n = int(input(\"Enter the number: \"))\n",
    " \n",
    "# iterarte upto n\n",
    "for i in range(n):\n",
    "    # adjust space\n",
    "    print(' '*(n-i), end='')\n",
    " \n",
    "    # compute power of 11\n",
    "    print(' '.join(map(str, str(11**i))))"
   ]
  },
  {
   "cell_type": "markdown",
   "id": "c09e584a-4e71-4c14-81de-33e3dc69d799",
   "metadata": {},
   "source": [
    "36. Develop a program that calculates the sum of the digits of a factorial of numbers from 1 to 5 using list comprehension."
   ]
  },
  {
   "cell_type": "code",
   "execution_count": 185,
   "id": "2bf0c4dd-20c9-4ba4-9d6f-8011e160249c",
   "metadata": {},
   "outputs": [
    {
     "name": "stdout",
     "output_type": "stream",
     "text": [
      "The factorial of 1 is 1, and the sum of its digits is 1\n",
      "The factorial of 2 is 2, and the sum of its digits is 2\n",
      "The factorial of 3 is 6, and the sum of its digits is 6\n",
      "The factorial of 4 is 24, and the sum of its digits is 6\n",
      "The factorial of 5 is 120, and the sum of its digits is 3\n"
     ]
    }
   ],
   "source": [
    "def factorial(n):\n",
    "    if n == 0:\n",
    "        return 1\n",
    "    else:\n",
    "        return n * factorial(n - 1)\n",
    "\n",
    "def sum_digits(number):\n",
    "    return sum(int(digit) for digit in str(number))\n",
    "\n",
    "# Calculate and print the sum of digits for factorials of numbers from 1 to 5\n",
    "for n in range(1, 6):\n",
    "    fact = factorial(n)\n",
    "    sumdigits = sum_digits(fact)\n",
    "    print(f\"The factorial of {n} is {fact}, and the sum of its digits is {sumdigits}\")"
   ]
  },
  {
   "cell_type": "markdown",
   "id": "1a9c466b-b306-49e5-9c29-d055a703b270",
   "metadata": {},
   "source": [
    "37. Write a program that finds the longest word in a sentence using list comprehension."
   ]
  },
  {
   "cell_type": "code",
   "execution_count": 186,
   "id": "303a03f9-66ab-41aa-be8a-ccbdd0ed6c27",
   "metadata": {},
   "outputs": [
    {
     "name": "stdin",
     "output_type": "stream",
     "text": [
      "Enter a sentence:  The word with the longest length\n"
     ]
    },
    {
     "name": "stdout",
     "output_type": "stream",
     "text": [
      "The longest word in the sentence is: longest\n"
     ]
    }
   ],
   "source": [
    "# Input a sentence\n",
    "sentence = input(\"Enter a sentence: \")\n",
    "words = sentence.split()\n",
    "longestword = max(words, key=lambda w: len(w))\n",
    "\n",
    "print(\"The longest word in the sentence is:\", longestword)"
   ]
  },
  {
   "cell_type": "markdown",
   "id": "c80afb79-e69e-4ddc-90e4-263b2563c24b",
   "metadata": {},
   "source": [
    "38. Create a program that filters a list of strings to include only those with more than three vowels using list comprehension."
   ]
  },
  {
   "cell_type": "code",
   "execution_count": 199,
   "id": "f1a58cc5-ec67-4036-88c7-18533bf7664c",
   "metadata": {},
   "outputs": [
    {
     "name": "stdout",
     "output_type": "stream",
     "text": [
      "string with more than three vowels:  ['ADIEU', 'LOUIE']\n"
     ]
    }
   ],
   "source": [
    "def vowel(s):\n",
    "    counter = 0\n",
    "    for i in str(s):\n",
    "        #print (i)\n",
    "        if i.lower() in ['a','e','i','o','u']:\n",
    "            counter +=1\n",
    "    return counter\n",
    "\n",
    "string = [\"hello\", \"world\", \"python\", \"programming\", \"example\", \"ADIEU\", \"LOUIE\"]\n",
    "\n",
    "three_vowles = [word for word in string if vowel(word) > 3]\n",
    "print(\"string with more than three vowels: \", three_vowles)"
   ]
  },
  {
   "cell_type": "markdown",
   "id": "29fb7a16-7e6a-4ebd-87c9-ee3bf3942e9b",
   "metadata": {},
   "source": [
    "39.  Develop a program that calculates the sum of the digits of numbers from 1 to 1000 using list comprehension."
   ]
  },
  {
   "cell_type": "code",
   "execution_count": 204,
   "id": "4bfd2d56-a452-4d77-b315-7a6a99d86c18",
   "metadata": {},
   "outputs": [
    {
     "name": "stdout",
     "output_type": "stream",
     "text": [
      "The list of  sum of its digits from 1 to 1000 is [1, 2, 3, 4, 5, 6, 7, 8, 9, 1, 2, 3, 4, 5, 6, 7, 8, 9, 10, 2, 3, 4, 5, 6, 7, 8, 9, 10, 11, 3, 4, 5, 6, 7, 8, 9, 10, 11, 12, 4, 5, 6, 7, 8, 9, 10, 11, 12, 13, 5, 6, 7, 8, 9, 10, 11, 12, 13, 14, 6, 7, 8, 9, 10, 11, 12, 13, 14, 15, 7, 8, 9, 10, 11, 12, 13, 14, 15, 16, 8, 9, 10, 11, 12, 13, 14, 15, 16, 17, 9, 10, 11, 12, 13, 14, 15, 16, 17, 18, 1, 2, 3, 4, 5, 6, 7, 8, 9, 10, 2, 3, 4, 5, 6, 7, 8, 9, 10, 11, 3, 4, 5, 6, 7, 8, 9, 10, 11, 12, 4, 5, 6, 7, 8, 9, 10, 11, 12, 13, 5, 6, 7, 8, 9, 10, 11, 12, 13, 14, 6, 7, 8, 9, 10, 11, 12, 13, 14, 15, 7, 8, 9, 10, 11, 12, 13, 14, 15, 16, 8, 9, 10, 11, 12, 13, 14, 15, 16, 17, 9, 10, 11, 12, 13, 14, 15, 16, 17, 18, 10, 11, 12, 13, 14, 15, 16, 17, 18, 19, 2, 3, 4, 5, 6, 7, 8, 9, 10, 11, 3, 4, 5, 6, 7, 8, 9, 10, 11, 12, 4, 5, 6, 7, 8, 9, 10, 11, 12, 13, 5, 6, 7, 8, 9, 10, 11, 12, 13, 14, 6, 7, 8, 9, 10, 11, 12, 13, 14, 15, 7, 8, 9, 10, 11, 12, 13, 14, 15, 16, 8, 9, 10, 11, 12, 13, 14, 15, 16, 17, 9, 10, 11, 12, 13, 14, 15, 16, 17, 18, 10, 11, 12, 13, 14, 15, 16, 17, 18, 19, 11, 12, 13, 14, 15, 16, 17, 18, 19, 20, 3, 4, 5, 6, 7, 8, 9, 10, 11, 12, 4, 5, 6, 7, 8, 9, 10, 11, 12, 13, 5, 6, 7, 8, 9, 10, 11, 12, 13, 14, 6, 7, 8, 9, 10, 11, 12, 13, 14, 15, 7, 8, 9, 10, 11, 12, 13, 14, 15, 16, 8, 9, 10, 11, 12, 13, 14, 15, 16, 17, 9, 10, 11, 12, 13, 14, 15, 16, 17, 18, 10, 11, 12, 13, 14, 15, 16, 17, 18, 19, 11, 12, 13, 14, 15, 16, 17, 18, 19, 20, 12, 13, 14, 15, 16, 17, 18, 19, 20, 21, 4, 5, 6, 7, 8, 9, 10, 11, 12, 13, 5, 6, 7, 8, 9, 10, 11, 12, 13, 14, 6, 7, 8, 9, 10, 11, 12, 13, 14, 15, 7, 8, 9, 10, 11, 12, 13, 14, 15, 16, 8, 9, 10, 11, 12, 13, 14, 15, 16, 17, 9, 10, 11, 12, 13, 14, 15, 16, 17, 18, 10, 11, 12, 13, 14, 15, 16, 17, 18, 19, 11, 12, 13, 14, 15, 16, 17, 18, 19, 20, 12, 13, 14, 15, 16, 17, 18, 19, 20, 21, 13, 14, 15, 16, 17, 18, 19, 20, 21, 22, 5, 6, 7, 8, 9, 10, 11, 12, 13, 14, 6, 7, 8, 9, 10, 11, 12, 13, 14, 15, 7, 8, 9, 10, 11, 12, 13, 14, 15, 16, 8, 9, 10, 11, 12, 13, 14, 15, 16, 17, 9, 10, 11, 12, 13, 14, 15, 16, 17, 18, 10, 11, 12, 13, 14, 15, 16, 17, 18, 19, 11, 12, 13, 14, 15, 16, 17, 18, 19, 20, 12, 13, 14, 15, 16, 17, 18, 19, 20, 21, 13, 14, 15, 16, 17, 18, 19, 20, 21, 22, 14, 15, 16, 17, 18, 19, 20, 21, 22, 23, 6, 7, 8, 9, 10, 11, 12, 13, 14, 15, 7, 8, 9, 10, 11, 12, 13, 14, 15, 16, 8, 9, 10, 11, 12, 13, 14, 15, 16, 17, 9, 10, 11, 12, 13, 14, 15, 16, 17, 18, 10, 11, 12, 13, 14, 15, 16, 17, 18, 19, 11, 12, 13, 14, 15, 16, 17, 18, 19, 20, 12, 13, 14, 15, 16, 17, 18, 19, 20, 21, 13, 14, 15, 16, 17, 18, 19, 20, 21, 22, 14, 15, 16, 17, 18, 19, 20, 21, 22, 23, 15, 16, 17, 18, 19, 20, 21, 22, 23, 24, 7, 8, 9, 10, 11, 12, 13, 14, 15, 16, 8, 9, 10, 11, 12, 13, 14, 15, 16, 17, 9, 10, 11, 12, 13, 14, 15, 16, 17, 18, 10, 11, 12, 13, 14, 15, 16, 17, 18, 19, 11, 12, 13, 14, 15, 16, 17, 18, 19, 20, 12, 13, 14, 15, 16, 17, 18, 19, 20, 21, 13, 14, 15, 16, 17, 18, 19, 20, 21, 22, 14, 15, 16, 17, 18, 19, 20, 21, 22, 23, 15, 16, 17, 18, 19, 20, 21, 22, 23, 24, 16, 17, 18, 19, 20, 21, 22, 23, 24, 25, 8, 9, 10, 11, 12, 13, 14, 15, 16, 17, 9, 10, 11, 12, 13, 14, 15, 16, 17, 18, 10, 11, 12, 13, 14, 15, 16, 17, 18, 19, 11, 12, 13, 14, 15, 16, 17, 18, 19, 20, 12, 13, 14, 15, 16, 17, 18, 19, 20, 21, 13, 14, 15, 16, 17, 18, 19, 20, 21, 22, 14, 15, 16, 17, 18, 19, 20, 21, 22, 23, 15, 16, 17, 18, 19, 20, 21, 22, 23, 24, 16, 17, 18, 19, 20, 21, 22, 23, 24, 25, 17, 18, 19, 20, 21, 22, 23, 24, 25, 26, 9, 10, 11, 12, 13, 14, 15, 16, 17, 18, 10, 11, 12, 13, 14, 15, 16, 17, 18, 19, 11, 12, 13, 14, 15, 16, 17, 18, 19, 20, 12, 13, 14, 15, 16, 17, 18, 19, 20, 21, 13, 14, 15, 16, 17, 18, 19, 20, 21, 22, 14, 15, 16, 17, 18, 19, 20, 21, 22, 23, 15, 16, 17, 18, 19, 20, 21, 22, 23, 24, 16, 17, 18, 19, 20, 21, 22, 23, 24, 25, 17, 18, 19, 20, 21, 22, 23, 24, 25, 26, 18, 19, 20, 21, 22, 23, 24, 25, 26, 27, 1]\n"
     ]
    }
   ],
   "source": [
    "def sum_digits(number):\n",
    "    return sum(int(digit) for digit in str(number))\n",
    "\n",
    "sumdigits = [sum_digits(n) for n in range(1, 1001)]\n",
    "\n",
    "print(f\"The list of  sum of its digits from 1 to 1000 is {sumdigits}\")"
   ]
  },
  {
   "cell_type": "markdown",
   "id": "d78e1194-689b-4afb-9be0-428890545132",
   "metadata": {},
   "source": [
    "40. Write a program that generates a list of prime palindromic numbers using list comprehension."
   ]
  },
  {
   "cell_type": "code",
   "execution_count": 205,
   "id": "90d5b07b-5acf-4828-af41-36ce030d6ebf",
   "metadata": {},
   "outputs": [
    {
     "name": "stdout",
     "output_type": "stream",
     "text": [
      "Prime palindromic numbers up to 50: [2, 3, 5, 7, 11]\n"
     ]
    }
   ],
   "source": [
    "def is_prime(n):\n",
    "    if n <= 1:\n",
    "        return False\n",
    "    if n <= 3:\n",
    "        return True\n",
    "    if n % 2 == 0 or n % 3 == 0:\n",
    "        return False\n",
    "    i = 5\n",
    "    while i * i <= n:\n",
    "        if n % i == 0 or n % (i + 2) == 0:\n",
    "            return False\n",
    "        i += 6\n",
    "    return True\n",
    "\n",
    "def is_palindrome(n):\n",
    "    return str(n) == str(n)[::-1]\n",
    "\n",
    "prime_palindromes = [num for num in range(1, 50) if is_prime(num) and is_palindrome(num)]\n",
    "\n",
    "\n",
    "print(\"Prime palindromic numbers up to 50:\", prime_palindromes)\n"
   ]
  },
  {
   "cell_type": "markdown",
   "id": "145a55c5-7a7f-455c-b01f-f5f2b9153fb5",
   "metadata": {},
   "source": []
  },
  {
   "cell_type": "code",
   "execution_count": null,
   "id": "74834136-f4b3-4119-8988-5c31bdd54aec",
   "metadata": {},
   "outputs": [],
   "source": []
  }
 ],
 "metadata": {
  "kernelspec": {
   "display_name": "Python 3 (ipykernel)",
   "language": "python",
   "name": "python3"
  },
  "language_info": {
   "codemirror_mode": {
    "name": "ipython",
    "version": 3
   },
   "file_extension": ".py",
   "mimetype": "text/x-python",
   "name": "python",
   "nbconvert_exporter": "python",
   "pygments_lexer": "ipython3",
   "version": "3.10.8"
  }
 },
 "nbformat": 4,
 "nbformat_minor": 5
}
