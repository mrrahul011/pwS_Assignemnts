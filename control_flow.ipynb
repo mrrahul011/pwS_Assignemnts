{
 "cells": [
  {
   "cell_type": "markdown",
   "id": "cd9aee59-68f0-43b3-95f7-07724ea37839",
   "metadata": {},
   "source": [
    "Basic If-Else Statements:"
   ]
  },
  {
   "cell_type": "markdown",
   "id": "5918fe97-e614-497d-921f-7a89ecb083ca",
   "metadata": {},
   "source": [
    "1. Write a Python program to check if a given number is positive or negative."
   ]
  },
  {
   "cell_type": "code",
   "execution_count": 2,
   "id": "3c67630d-f19b-4c18-9fab-06f918923d2b",
   "metadata": {},
   "outputs": [
    {
     "name": "stdin",
     "output_type": "stream",
     "text": [
      "Enter a number: -1\n"
     ]
    },
    {
     "name": "stdout",
     "output_type": "stream",
     "text": [
      "-1 is negative number\n"
     ]
    }
   ],
   "source": [
    "n = int(input(\"Enter a number:\"))\n",
    "\n",
    "if n >= 0:\n",
    "    print(f\"{n} is positive number\")\n",
    "else:\n",
    "    print(f\"{n} is negative number\")"
   ]
  },
  {
   "cell_type": "markdown",
   "id": "bb1b72da-d462-4d41-be93-3c241e06d15e",
   "metadata": {},
   "source": [
    "2. Create a program that determines if a person is eligible to vote based on their age."
   ]
  },
  {
   "cell_type": "code",
   "execution_count": 4,
   "id": "5708099b-249d-4087-bfb5-4ba7a433e5cc",
   "metadata": {},
   "outputs": [
    {
     "name": "stdin",
     "output_type": "stream",
     "text": [
      "Enter your age:  50\n"
     ]
    },
    {
     "name": "stdout",
     "output_type": "stream",
     "text": [
      "You are eligible to vote.\n"
     ]
    }
   ],
   "source": [
    "# Input: Get the user's age\n",
    "age = int(input(\"Enter your age: \"))\n",
    "if age >= 18:\n",
    "    print(\"You are eligible to vote.\")   \n",
    "else:\n",
    "    print(\"You are a minor.\")"
   ]
  },
  {
   "cell_type": "markdown",
   "id": "4ac2653d-24cc-4ea9-b4e3-7e4908f3aabc",
   "metadata": {},
   "source": [
    "3. Develop a program to find the maximum of two numbers using if-else statements."
   ]
  },
  {
   "cell_type": "code",
   "execution_count": 5,
   "id": "e04a02fe-3032-4efa-b562-f3617595e4ba",
   "metadata": {},
   "outputs": [
    {
     "name": "stdin",
     "output_type": "stream",
     "text": [
      "Enter a number1: 54\n",
      "Enter a number2: 23\n"
     ]
    },
    {
     "name": "stdout",
     "output_type": "stream",
     "text": [
      "54 is greater than 23\n"
     ]
    }
   ],
   "source": [
    "number1 = int(input(\"Enter a number1:\"))\n",
    "number2 = int(input(\"Enter a number2:\"))\n",
    "\n",
    "if number1>number2:\n",
    "    print(f\"{number1} is greater than {number2}\")\n",
    "else:\n",
    "    print(f\"{number2} is greater than {number1}\")"
   ]
  },
  {
   "cell_type": "markdown",
   "id": "d49ab43d-9afa-45db-b50b-11f593aa28b2",
   "metadata": {},
   "source": [
    "4. Write a Python script to classify a given year as a leap year or not."
   ]
  },
  {
   "cell_type": "code",
   "execution_count": 6,
   "id": "ce974b9c-a2bc-423a-b1ca-585c44de4e1d",
   "metadata": {},
   "outputs": [
    {
     "name": "stdin",
     "output_type": "stream",
     "text": [
      "Enter a year:  1996\n"
     ]
    },
    {
     "data": {
      "text/plain": [
       "'1996 is Leap Year'"
      ]
     },
     "execution_count": 6,
     "metadata": {},
     "output_type": "execute_result"
    }
   ],
   "source": [
    "def leap_year(year):\n",
    "    \n",
    "    if ((year % 4 == 0 and year % 100 != 0) or (year % 400 == 0)):\n",
    "        return f\"{year} is Leap Year\"\n",
    "    else:\n",
    "        return f\"{year} is not Leap Year\"\n",
    "\n",
    "n = int(input(\"Enter a year: \"))\n",
    "    \n",
    "leap_year(n)"
   ]
  },
  {
   "cell_type": "markdown",
   "id": "85e59676-b50c-4d34-8185-b977406fdff5",
   "metadata": {},
   "source": [
    "5. Create a program that checks whether a character is a vowel or a consonant."
   ]
  },
  {
   "cell_type": "code",
   "execution_count": 7,
   "id": "1d461c78-20c3-4422-8fc6-8f04a11cf57d",
   "metadata": {},
   "outputs": [
    {
     "name": "stdin",
     "output_type": "stream",
     "text": [
      "Enter the character:  k\n"
     ]
    },
    {
     "name": "stdout",
     "output_type": "stream",
     "text": [
      "k is not a vowel\n"
     ]
    }
   ],
   "source": [
    "character = input(\"Enter the character: \")\n",
    "vowels ={'a','e','i','o','u'}\n",
    "\n",
    "if character.lower() in vowels:\n",
    "    print(f\"{character} is a vowel\")\n",
    "else:\n",
    "    print(f\"{character} is not a vowel\")"
   ]
  },
  {
   "cell_type": "markdown",
   "id": "3e1f08cd-42bb-43d3-8751-d6e3b6adbceb",
   "metadata": {},
   "source": [
    "6. Implement a program to determine whether a given number is even or odd."
   ]
  },
  {
   "cell_type": "code",
   "execution_count": 8,
   "id": "fd899565-1ef4-4435-a709-a4da05e59a87",
   "metadata": {},
   "outputs": [
    {
     "name": "stdin",
     "output_type": "stream",
     "text": [
      "Enter a number: 10\n"
     ]
    },
    {
     "name": "stdout",
     "output_type": "stream",
     "text": [
      "10 is even\n"
     ]
    }
   ],
   "source": [
    "n = int(input(\"Enter a number:\"))\n",
    "\n",
    "if n % 2 == 0:\n",
    "    print(f\"{n} is even\")\n",
    "else:\n",
    "    print(f\"{n} is odd\")"
   ]
  },
  {
   "cell_type": "markdown",
   "id": "39547ed8-2f9f-48d7-a672-940ed0d6d589",
   "metadata": {},
   "source": [
    "7. Write a Python function to calculate the absolute value of a number without using the `abs()` function."
   ]
  },
  {
   "cell_type": "code",
   "execution_count": 10,
   "id": "74ae80d5-fa56-4baf-81a5-dfa973de9a3e",
   "metadata": {},
   "outputs": [
    {
     "name": "stdin",
     "output_type": "stream",
     "text": [
      "Enter a number:  -59\n"
     ]
    },
    {
     "name": "stdout",
     "output_type": "stream",
     "text": [
      "The absolute value of -59 is: 59\n"
     ]
    }
   ],
   "source": [
    "n = int(input(\"Enter a number: \"))\n",
    "\n",
    "if n > 0:\n",
    "    print(f\"The absolute value of {n} is: {n}\")\n",
    "else:\n",
    "    print(f\"The absolute value of {n} is: {n * -1}\")"
   ]
  },
  {
   "cell_type": "markdown",
   "id": "8c4e2860-6af3-4182-8b06-c8a41dfcedf1",
   "metadata": {},
   "source": [
    "8. Develop a program that determines the largest of three given numbers using if-else statements."
   ]
  },
  {
   "cell_type": "code",
   "execution_count": 11,
   "id": "d7471ecc-29be-4142-8396-1496d61c65ef",
   "metadata": {},
   "outputs": [
    {
     "name": "stdin",
     "output_type": "stream",
     "text": [
      "Enter a number 1:  5\n",
      "Enter a number 2:  8\n",
      "Enter a number 3:  1\n"
     ]
    },
    {
     "name": "stdout",
     "output_type": "stream",
     "text": [
      "The largest is  8\n"
     ]
    }
   ],
   "source": [
    "n1 = int(input(\"Enter a number 1: \"))\n",
    "n2 = int(input(\"Enter a number 2: \"))\n",
    "n3 = int(input(\"Enter a number 3: \"))\n",
    "\n",
    "if n1 > n2:\n",
    "    if n1 > n3:\n",
    "        print(\"The largest is \", n1)\n",
    "    else:\n",
    "        print(\"The largest is \", n3)\n",
    "elif n2>n1:\n",
    "    if n2 > n3:\n",
    "        print(\"The largest is \", n2)\n",
    "    else:\n",
    "        print(\"The largest is \", n3)\n",
    "else:\n",
    "    print(\"all are equal\")"
   ]
  },
  {
   "cell_type": "markdown",
   "id": "df4b9911-4f42-4f2a-96c5-0921b564fb4a",
   "metadata": {},
   "source": [
    "9. Create a program that checks if a given string is a palindrome."
   ]
  },
  {
   "cell_type": "code",
   "execution_count": 16,
   "id": "3c185b86-18c2-43de-85ef-501b05657ed4",
   "metadata": {},
   "outputs": [
    {
     "name": "stdin",
     "output_type": "stream",
     "text": [
      "Enter a string: Malayalam\n"
     ]
    },
    {
     "name": "stdout",
     "output_type": "stream",
     "text": [
      "Malayalam is Palindrome\n"
     ]
    }
   ],
   "source": [
    "string = (input(\"Enter a string:\"))\n",
    "\n",
    "if string.lower() == string[::-1].lower():\n",
    "    print(f\"{string} is Palindrome\")\n",
    "else:\n",
    "    print(f\"{string} is not Palindrome\")\n",
    "          "
   ]
  },
  {
   "cell_type": "markdown",
   "id": "ae39d533-52c5-4148-85d9-8b4f77d897f1",
   "metadata": {},
   "source": [
    "10. Write a Python program to calculate the grade based on a student's score."
   ]
  },
  {
   "cell_type": "code",
   "execution_count": 17,
   "id": "224226a9-83fa-4061-9c33-d58e8439da4d",
   "metadata": {},
   "outputs": [
    {
     "name": "stdin",
     "output_type": "stream",
     "text": [
      "Enter the subject score:  87\n"
     ]
    },
    {
     "name": "stdout",
     "output_type": "stream",
     "text": [
      "Grade: A\n"
     ]
    }
   ],
   "source": [
    "#100-80 A, 60-79 B, 50-59 C, 40-49 D, < 40 Failed\n",
    "\n",
    "n = int(input(\"Enter the subject score: \"))\n",
    "\n",
    "if 80 <= n <= 100:\n",
    "    print(\"Grade: A\")\n",
    "elif 60<= n < 80:\n",
    "    print(\"Grade: B\")\n",
    "elif 50<= n < 60:\n",
    "    print(\"Grade: C\")\n",
    "elif 40<= n < 50:\n",
    "    print(\"Grade: D\")\n",
    "else:\n",
    "    print(\"Falied\")"
   ]
  },
  {
   "cell_type": "markdown",
   "id": "38c57335-d0b6-42c6-be14-c5726320dc01",
   "metadata": {},
   "source": [
    "Nested If-Else Statements:"
   ]
  },
  {
   "cell_type": "markdown",
   "id": "b63d9897-26e1-410a-93f5-d8061b154646",
   "metadata": {},
   "source": [
    "11. Write a program to find the largest among three numbers using nested if-else statements."
   ]
  },
  {
   "cell_type": "code",
   "execution_count": 18,
   "id": "0deef718-039a-44d6-9239-5b53fa68276e",
   "metadata": {},
   "outputs": [
    {
     "name": "stdin",
     "output_type": "stream",
     "text": [
      "Enter a number 1:  25\n",
      "Enter a number 2:  48\n",
      "Enter a number 3:  2\n"
     ]
    },
    {
     "name": "stdout",
     "output_type": "stream",
     "text": [
      "The largest is  48\n"
     ]
    }
   ],
   "source": [
    "n1 = int(input(\"Enter a number 1: \"))\n",
    "n2 = int(input(\"Enter a number 2: \"))\n",
    "n3 = int(input(\"Enter a number 3: \"))\n",
    "\n",
    "if n1 > n2:\n",
    "    if n1 > n3:\n",
    "        print(\"The largest is \", n1)\n",
    "    else:\n",
    "        print(\"The largest is \", n3)\n",
    "elif n2>n1:\n",
    "    if n2 > n3:\n",
    "        print(\"The largest is \", n2)\n",
    "    else:\n",
    "        print(\"The largest is \", n3)\n",
    "else:\n",
    "    print(\"all are equal\")"
   ]
  },
  {
   "cell_type": "markdown",
   "id": "1e444655-4c02-4eea-9d06-13b393125b52",
   "metadata": {},
   "source": [
    "12. Implement a program to determine if a triangle is equilateral, isosceles, or scalene."
   ]
  },
  {
   "cell_type": "code",
   "execution_count": 1,
   "id": "a66b8c54-492b-4d7b-91c8-a9806c913685",
   "metadata": {},
   "outputs": [
    {
     "name": "stdin",
     "output_type": "stream",
     "text": [
      "Enter side 1:  10\n",
      "Enter side 2:  10\n",
      "Enter side 3:  20\n"
     ]
    },
    {
     "name": "stdout",
     "output_type": "stream",
     "text": [
      "Triangle: Isosceles\n"
     ]
    }
   ],
   "source": [
    "a = int(input(\"Enter side 1: \"))\n",
    "b = int(input(\"Enter side 2: \"))\n",
    "c = int(input(\"Enter side 3: \"))\n",
    "\n",
    "if (a == b) and (b == c):\n",
    "    print(\"Triangle: Equilateral\")\n",
    "elif (a == b) or (b == c) or (a == c):\n",
    "    print(\"Triangle: Isosceles\")\n",
    "else:\n",
    "    print(\"Triangle: Scalne\")"
   ]
  },
  {
   "cell_type": "markdown",
   "id": "56024265-4181-4598-ad13-b18c334fb331",
   "metadata": {},
   "source": [
    "13. Develop a program that checks if a year is a leap year and also if it is a century year."
   ]
  },
  {
   "cell_type": "code",
   "execution_count": 7,
   "id": "6095cd06-064e-42b5-8fd9-95a62d0e1a87",
   "metadata": {},
   "outputs": [
    {
     "name": "stdin",
     "output_type": "stream",
     "text": [
      "Enter a year:  2000\n"
     ]
    },
    {
     "name": "stdout",
     "output_type": "stream",
     "text": [
      "2000 is Leap Year and a century year\n"
     ]
    }
   ],
   "source": [
    "year = int(input(\"Enter a year: \"))\n",
    "if ((year % 4 == 0 and year % 100 != 0) or (year % 400 == 0)):\n",
    "    if year % 100 == 0:\n",
    "        print(f\"{year} is Leap Year and a century year\")    \n",
    "    else:\n",
    "        print(f\"{year} is not Leap Year and century year\")    "
   ]
  },
  {
   "cell_type": "markdown",
   "id": "a26d1fd3-5df8-4bc2-93b6-9ae127c663cf",
   "metadata": {},
   "source": [
    "14. Write a Python script to determine if a number is positive, negative, or zero."
   ]
  },
  {
   "cell_type": "code",
   "execution_count": 8,
   "id": "b7132655-29cf-474b-ac2e-22d922cb0e6a",
   "metadata": {},
   "outputs": [
    {
     "name": "stdin",
     "output_type": "stream",
     "text": [
      "Enter a number: 0\n"
     ]
    },
    {
     "name": "stdout",
     "output_type": "stream",
     "text": [
      "0 is zero\n"
     ]
    }
   ],
   "source": [
    "n = int(input(\"Enter a number:\"))\n",
    "\n",
    "if n > 0:\n",
    "    print(f\"{n} is positive number\")\n",
    "elif n < 0:\n",
    "    print(f\"{n} is negative number\")\n",
    "else:\n",
    "    print(f\"{n} is zero\")"
   ]
  },
  {
   "cell_type": "markdown",
   "id": "e40bfbb6-b605-4f6e-a67c-91b43570f2ff",
   "metadata": {},
   "source": [
    "15. Create a program to check if a person is a teenager (between 13 and 19 years old)."
   ]
  },
  {
   "cell_type": "code",
   "execution_count": 9,
   "id": "dba398df-cded-4e38-949e-da64b8b965db",
   "metadata": {},
   "outputs": [
    {
     "name": "stdin",
     "output_type": "stream",
     "text": [
      "Enter your age:  20\n"
     ]
    },
    {
     "name": "stdout",
     "output_type": "stream",
     "text": [
      "person is not a teenager.\n"
     ]
    }
   ],
   "source": [
    "age = int(input(\"Enter your age: \"))\n",
    "if 13 <= age <= 19:\n",
    "    print(\"person is a teenager.\")   \n",
    "else:\n",
    "    print(\"person is not a teenager.\")"
   ]
  },
  {
   "cell_type": "markdown",
   "id": "aeb566a2-2f33-4743-8913-edf9132efed7",
   "metadata": {},
   "source": [
    "16. Develop a program that determines the type of angle based on its measure (acute, obtuse, or right)."
   ]
  },
  {
   "cell_type": "code",
   "execution_count": 28,
   "id": "e12aefdc-828f-4e6e-a09a-db38ea7d39f7",
   "metadata": {},
   "outputs": [
    {
     "name": "stdin",
     "output_type": "stream",
     "text": [
      "Enter an angle in degree:  0\n"
     ]
    },
    {
     "name": "stdout",
     "output_type": "stream",
     "text": [
      "0 is acute angle\n"
     ]
    }
   ],
   "source": [
    "angle = int(input(\"Enter an angle in degree: \"))\n",
    "if angle > 180:\n",
    "    if 0 <= (angle%180) < 90:\n",
    "        print(f\"{angle} is acute angle\")\n",
    "    elif (angle%180) > 90:\n",
    "        print(print(f\"{angle} is obtuse angle\"))\n",
    "    else:\n",
    "        print(print(f\"{angle} is right angle\"))\n",
    "else:\n",
    "    if 0 <= (angle) < 90:\n",
    "        print(f\"{angle} is acute angle\")\n",
    "    elif (angle) > 90:\n",
    "        print(print(f\"{angle} is obtuse angle\"))\n",
    "    else:\n",
    "        print(print(f\"{angle} is right angle\"))"
   ]
  },
  {
   "cell_type": "markdown",
   "id": "6e5e1612-047b-4b47-abb6-d9b1d9162b5e",
   "metadata": {},
   "source": [
    "17. Write a Python program to calculate the roots of a quadratic equation."
   ]
  },
  {
   "cell_type": "code",
   "execution_count": 29,
   "id": "8fffc8fd-251f-4976-9798-4261cdcea30c",
   "metadata": {},
   "outputs": [
    {
     "name": "stdin",
     "output_type": "stream",
     "text": [
      "Enter coefficient a:  10\n",
      "Enter coefficient b:  20\n",
      "Enter coefficient c:  5\n"
     ]
    },
    {
     "name": "stdout",
     "output_type": "stream",
     "text": [
      "Roots are real and distinct: -0.29 and -1.71\n"
     ]
    }
   ],
   "source": [
    "#aX^2 + bX + c = 0\n",
    "\n",
    "a = float(input(\"Enter coefficient a: \"))\n",
    "b = float(input(\"Enter coefficient b: \"))\n",
    "c = float(input(\"Enter coefficient c: \"))\n",
    "\n",
    "d = b**2 - (4*a*c)\n",
    "\n",
    "if d > 0:\n",
    "    root1 = (-b + d**0.5) / (2*a)\n",
    "    root2 = (-b - d**0.5) / (2*a)\n",
    "    print(f\"Roots are real and distinct: {round(root1, 2)} and {round(root2, 2)}\")\n",
    "elif d == 0:\n",
    "    root = (-b + d**0.5) / (2*a)\n",
    "    print(f\"Root is real and equal: {round(root)}\")\n",
    "else:\n",
    "    real = -b / 2*a\n",
    "    imaginary = abs(d**0.5)/ 2*a\n",
    "    print(f\"Roots are complex: {round(real, 2)} + {round(imaginary,  2)}i and {round(real, 2)} - {round(imaginary,  2)}i\")"
   ]
  },
  {
   "cell_type": "markdown",
   "id": "e614e328-6495-4723-83ae-bdfe0bb86b03",
   "metadata": {},
   "source": [
    "18. Implement a program to determine the day of the week based on a user-provided number (1 for Monday, 2 for Tuesday, etc.)."
   ]
  },
  {
   "cell_type": "code",
   "execution_count": 31,
   "id": "12e72677-c227-476c-bcaa-67878e4c4356",
   "metadata": {},
   "outputs": [
    {
     "name": "stdin",
     "output_type": "stream",
     "text": [
      "Enter a number:  1\n"
     ]
    },
    {
     "name": "stdout",
     "output_type": "stream",
     "text": [
      "Monday\n"
     ]
    }
   ],
   "source": [
    "n = int(input(\"Enter a number: \"))\n",
    "\n",
    "if n % 7 == 0:\n",
    "    print(\"Sunday\")\n",
    "if n % 7 == 1:\n",
    "    print(\"Monday\")\n",
    "elif n % 7 == 2:\n",
    "    print(\"Tuesday\")\n",
    "elif n % 7 == 3:\n",
    "    print(\"Wednesday\")\n",
    "elif n % 7 == 4:\n",
    "    print(\"Thursday\")\n",
    "elif n % 7 == 5:\n",
    "    print(\"Friday\")\n",
    "elif n % 7 == 6:\n",
    "    print(\"Saturday\")"
   ]
  },
  {
   "cell_type": "markdown",
   "id": "25fa313d-315b-410e-ba87-3b2534fec40c",
   "metadata": {},
   "source": [
    "19. Create a program that determines if a year is a leap year and also if it is evenly divisible by 400."
   ]
  },
  {
   "cell_type": "code",
   "execution_count": 36,
   "id": "96dba74c-8f15-464e-ba01-37ba00724edb",
   "metadata": {},
   "outputs": [
    {
     "name": "stdin",
     "output_type": "stream",
     "text": [
      "Enter a year:  1996\n"
     ]
    },
    {
     "name": "stdout",
     "output_type": "stream",
     "text": [
      "1996 is a leap year but not evenly divisible by 400\n"
     ]
    }
   ],
   "source": [
    "year = int(input(\"Enter a year: \"))\n",
    "if ((year % 4 == 0 and year % 100 != 0) or (year % 400 == 0)):\n",
    "    if year % 400 == 0:\n",
    "        print(f\"{year} is a leap year and also it is evenly divisible by 400\")    \n",
    "    else:\n",
    "        print(f\"{year} is a leap year but not evenly divisible by 400\")    \n",
    "else:\n",
    "    print(f\"{year} is a not leap year\")    "
   ]
  },
  {
   "cell_type": "markdown",
   "id": "4792ccbb-fd24-4bc7-83f8-471bbc4783e9",
   "metadata": {},
   "source": [
    "20. Develop a program that checks if a given number is prime or not using nested if-else statements."
   ]
  },
  {
   "cell_type": "code",
   "execution_count": 37,
   "id": "40492d63-e738-4b6a-b1a3-d1f514029486",
   "metadata": {},
   "outputs": [
    {
     "name": "stdin",
     "output_type": "stream",
     "text": [
      "Enter a number:  11\n"
     ]
    },
    {
     "name": "stdout",
     "output_type": "stream",
     "text": [
      "11 is a prime number.\n"
     ]
    }
   ],
   "source": [
    "num = int(input(\"Enter a number: \"))\n",
    "\n",
    "if num <= 1:\n",
    "    is_prime = False\n",
    "elif num == 2:\n",
    "    is_prime = True\n",
    "elif num % 2 == 0:\n",
    "    is_prime = False\n",
    "else:\n",
    "    is_prime = True\n",
    "\n",
    "if is_prime:\n",
    "    for i in range(3, int(num**0.5) + 1, 2):\n",
    "        if num % i == 0:\n",
    "            is_prime = False\n",
    "            break\n",
    "\n",
    "if is_prime:\n",
    "    print(num, \"is a prime number.\")\n",
    "else:\n",
    "    print(num, \"is not a prime number.\")"
   ]
  },
  {
   "cell_type": "markdown",
   "id": "29cc22e3-06df-4ca7-88ce-addc6fa5d11f",
   "metadata": {},
   "source": [
    "Elif Statements:"
   ]
  },
  {
   "cell_type": "markdown",
   "id": "fe6daf4e-ec38-4eb3-bcc2-b3db9932a995",
   "metadata": {},
   "source": [
    "21. Write a Python program to assign grades based on different ranges of scores using elif statements."
   ]
  },
  {
   "cell_type": "code",
   "execution_count": 38,
   "id": "b9aad891-8065-430e-a7ac-7c2c5672cf87",
   "metadata": {},
   "outputs": [
    {
     "name": "stdin",
     "output_type": "stream",
     "text": [
      "Enter the subject score:  50\n"
     ]
    },
    {
     "name": "stdout",
     "output_type": "stream",
     "text": [
      "Grade: C\n"
     ]
    }
   ],
   "source": [
    "#100-80 A, 60-79 B, 50-59 C, 40-49 D, < 40 Failed\n",
    "n = int(input(\"Enter the subject score: \"))\n",
    "if 80 <= n <= 100:\n",
    "    print(\"Grade: A\")\n",
    "elif 60<= n < 80:\n",
    "    print(\"Grade: B\")\n",
    "elif 50<= n < 60:\n",
    "    print(\"Grade: C\")\n",
    "elif 40<= n < 50:\n",
    "    print(\"Grade: D\")\n",
    "else:\n",
    "    print(\"Falied\")"
   ]
  },
  {
   "cell_type": "markdown",
   "id": "bdad9f7f-9d8a-437e-8c42-dd3d607fad33",
   "metadata": {},
   "source": [
    "22. Implement a program to determine the type of a triangle based on its angles."
   ]
  },
  {
   "cell_type": "code",
   "execution_count": 39,
   "id": "48f91667-0ee9-4811-b8ee-3544ec91a8c5",
   "metadata": {},
   "outputs": [
    {
     "name": "stdin",
     "output_type": "stream",
     "text": [
      "Enter an angle in degree:  90\n"
     ]
    },
    {
     "name": "stdout",
     "output_type": "stream",
     "text": [
      "90 is right angle\n",
      "None\n"
     ]
    }
   ],
   "source": [
    "angle = int(input(\"Enter an angle in degree: \"))\n",
    "if 0 <= (angle) < 90:\n",
    "     print(f\"{angle} is acute angle\")\n",
    "elif (angle) > 90:\n",
    "    print(print(f\"{angle} is obtuse angle\"))\n",
    "else:\n",
    "    print(print(f\"{angle} is right angle\"))"
   ]
  },
  {
   "cell_type": "code",
   "execution_count": 40,
   "id": "bf7f07ad-e07c-4c72-af66-400c1fb1a9df",
   "metadata": {},
   "outputs": [
    {
     "name": "stdin",
     "output_type": "stream",
     "text": [
      "Enter the first angle of the triangle:  60\n",
      "Enter the second angle of the triangle:  60\n",
      "Enter the third angle of the triangle:  60\n"
     ]
    },
    {
     "name": "stdout",
     "output_type": "stream",
     "text": [
      "The triangle is a Equilateral Triangle\n"
     ]
    }
   ],
   "source": [
    "angle1 = float(input(\"Enter the first angle of the triangle: \"))\n",
    "angle2 = float(input(\"Enter the second angle of the triangle: \"))\n",
    "angle3 = float(input(\"Enter the third angle of the triangle: \"))\n",
    "\n",
    "if angle1 + angle2 + angle3 == 180:\n",
    "    if angle1 == angle2 == angle3:\n",
    "        triangle_type = \"Equilateral Triangle\"\n",
    "    elif angle1 == angle2 or angle1 == angle3 or angle2 == angle3:\n",
    "        triangle_type = \"Isosceles Triangle\"\n",
    "    else:\n",
    "        triangle_type = \"Scalene Triangle\"\n",
    "else:\n",
    "    triangle_type = \"Invalid Triangle (Angles do not sum to 180 degrees)\"\n",
    "\n",
    "print(\"The triangle is a\", triangle_type)\n"
   ]
  },
  {
   "cell_type": "markdown",
   "id": "0ec597e3-a774-4a95-aa70-faae9aa04bb5",
   "metadata": {},
   "source": [
    "23. Develop a program to categorize a given person's BMI into underweight, normal, overweight, or obese using elif statements."
   ]
  },
  {
   "cell_type": "code",
   "execution_count": 41,
   "id": "0383fb0e-15ec-415a-a54e-d25cc5df9bcd",
   "metadata": {},
   "outputs": [
    {
     "name": "stdin",
     "output_type": "stream",
     "text": [
      "Enter a weight in Kg:  89\n",
      "Enter a height in meter:  1.65\n"
     ]
    },
    {
     "name": "stdout",
     "output_type": "stream",
     "text": [
      "Obese Class I\n"
     ]
    }
   ],
   "source": [
    "#BMI is weight in kilograms divided by height in meters squared\n",
    "w = float(input(\"Enter a weight in Kg: \"))\n",
    "h = float(input(\"Enter a height in meter: \"))\n",
    "\n",
    "bmi = w / (h**2)\n",
    "\n",
    "if bmi < 16: \n",
    "    print(\"Severe Thinness\")\n",
    "elif 16 <= bmi < 17:\n",
    "    print(\"Moderate Thinness\")\n",
    "elif 17 <= bmi < 18.5:\n",
    "    print(\"Mild Thinness\")\n",
    "elif 18.5 <= bmi < 25:\n",
    "    print(\"Normal\")\n",
    "elif 25 <= bmi < 30:\n",
    "    print(\"Overweight\")\n",
    "elif 30 <= bmi < 35:\n",
    "    print(\"Obese Class I\")\n",
    "elif 35 <= bmi < 40:\n",
    "    print(\"Obese Class II\")\n",
    "else:\n",
    "    print(\"Obese Class III\")"
   ]
  },
  {
   "cell_type": "markdown",
   "id": "a4106f94-b641-4a5b-96a0-7b170948e229",
   "metadata": {},
   "source": [
    "24. Create a program that determines whether a given number is positive, negative, or zero using elif statements."
   ]
  },
  {
   "cell_type": "code",
   "execution_count": 42,
   "id": "ef72a610-8c34-4c11-8bfb-1233848d1d05",
   "metadata": {},
   "outputs": [
    {
     "name": "stdin",
     "output_type": "stream",
     "text": [
      "Enter a number: -9\n"
     ]
    },
    {
     "name": "stdout",
     "output_type": "stream",
     "text": [
      "-9 is negative number\n"
     ]
    }
   ],
   "source": [
    "n = int(input(\"Enter a number:\"))\n",
    "\n",
    "if n > 0:\n",
    "    print(f\"{n} is positive number\")\n",
    "elif n < 0:\n",
    "    print(f\"{n} is negative number\")\n",
    "else:\n",
    "    print(f\"{n} is zero\")"
   ]
  },
  {
   "cell_type": "markdown",
   "id": "938d8359-c01f-4350-96cf-79bbeb4ee694",
   "metadata": {},
   "source": [
    "25. Write a Python script to determine the type of a character (uppercase, lowercase, or special) using elif statements."
   ]
  },
  {
   "cell_type": "code",
   "execution_count": 44,
   "id": "71e5a5d9-5d34-4f5d-907d-930dd7f132b1",
   "metadata": {},
   "outputs": [
    {
     "name": "stdin",
     "output_type": "stream",
     "text": [
      "Enter a character:  @\n"
     ]
    },
    {
     "name": "stdout",
     "output_type": "stream",
     "text": [
      "@ is special character\n"
     ]
    }
   ],
   "source": [
    "char = str(input(\"Enter a character: \"))\n",
    "special = '[@_!#$%^&*()<>?/\\|}{~:]'\n",
    "if char.islower():\n",
    "    print(f\"{char} is lower case\")\n",
    "elif char.isupper():\n",
    "    print(f\"{char} is upper case\")\n",
    "elif char in special:\n",
    "    print(f\"{char} is special character\")\n",
    "\n",
    "else:\n",
    "    print(f\"{char} is not uppercase, lowercase, or special\")"
   ]
  },
  {
   "cell_type": "markdown",
   "id": "87208638-820f-4f85-b914-c5a897e43834",
   "metadata": {},
   "source": [
    "26. Implement a program to calculate the discounted price based on different purchase amounts using elif statements."
   ]
  },
  {
   "cell_type": "code",
   "execution_count": 45,
   "id": "658ee71a-d79a-4a04-84bc-4dd6dca2e2bf",
   "metadata": {},
   "outputs": [
    {
     "name": "stdin",
     "output_type": "stream",
     "text": [
      "Enter the purchase amount:  2872\n"
     ]
    },
    {
     "name": "stdout",
     "output_type": "stream",
     "text": [
      "You've received a discount of RS 287.20\n",
      "Total amount to pay: RS 2584.80\n"
     ]
    }
   ],
   "source": [
    "purchase_amount = float(input(\"Enter the purchase amount: \"))\n",
    "\n",
    "discount_rate_1 = 0.05  # 5% discount for purchases over 1000 rs\n",
    "discount_rate_2 = 0.1   # 10% discount for purchases over 2000 rs\n",
    "\n",
    "\n",
    "discount_amount = 0.0\n",
    "\n",
    "\n",
    "if purchase_amount > 2000:\n",
    "    discount_amount = purchase_amount * discount_rate_2\n",
    "elif purchase_amount > 1000:\n",
    "    discount_amount = purchase_amount * discount_rate_1\n",
    "\n",
    "# Output the discount amount and the total amount to pay\n",
    "if discount_amount > 0:\n",
    "    total_amount = purchase_amount - discount_amount\n",
    "    print(f\"You've received a discount of RS {discount_amount:.2f}\")\n",
    "    print(f\"Total amount to pay: RS {total_amount:.2f}\")\n",
    "else:\n",
    "    print(\"No discount applied. Total amount to pay:\", purchase_amount)"
   ]
  },
  {
   "cell_type": "markdown",
   "id": "38cd8edf-f80d-406f-a7f1-de88ef012d94",
   "metadata": {},
   "source": [
    "27. Develop a program to calculate the electricity bill based on different consumption slabs using elif statements."
   ]
  },
  {
   "cell_type": "code",
   "execution_count": 48,
   "id": "c1831564-e562-4c67-95d7-e8b1e09bb7a5",
   "metadata": {},
   "outputs": [
    {
     "name": "stdin",
     "output_type": "stream",
     "text": [
      "Enter the unit of electricity consumed:  450\n"
     ]
    },
    {
     "name": "stdout",
     "output_type": "stream",
     "text": [
      "Electricity bill for 450 is 8250 INR\n"
     ]
    }
   ],
   "source": [
    "units= int(input(\"Enter the unit of electricity consumed: \"))\n",
    "if units <= 100: #1 - 100 unit 10/unit\n",
    "    print(f\"Electricity bill for {unit} is {units * 10} INR\") \n",
    "elif (units <= 200):#101 - 200 unit 15/unit\n",
    "    print(f\"Electricity bill for {unit} is {(100 * 10) + (unit - 100) * 15} INR\") \n",
    "elif (units <= 300):#201 - 300 unit 20/unit\n",
    "    print(f\"Electricity bill for {unit} is {(100 * 10) + (100 * 15) + (unit - 200) * 20} INR\")  \n",
    "elif (units > 300):#300 above 25/unit\n",
    "    print(f\"Electricity bill for {unit} is {(100 * 10) + (100 * 15) + (100 * 20) + (unit - 300) * 25} INR\")  "
   ]
  },
  {
   "cell_type": "markdown",
   "id": "04f22976-3b24-48f3-bbb6-2dbbf1fbb7af",
   "metadata": {},
   "source": [
    "28. Create a program to determine the type of quadrilateral based on its angles and sides using elif statements."
   ]
  },
  {
   "cell_type": "code",
   "execution_count": 51,
   "id": "6df258f5-c6fd-4163-b105-73a447090401",
   "metadata": {},
   "outputs": [
    {
     "name": "stdin",
     "output_type": "stream",
     "text": [
      "Enter the first angle of the quadrilateral (in degrees):  90\n",
      "Enter the second angle of the quadrilateral (in degrees):  90\n",
      "Enter the third angle of the quadrilateral (in degrees):  90\n",
      "Enter the fourth angle of the quadrilateral (in degrees):  90\n",
      "Enter the length of the first side of the quadrilateral:  10\n",
      "Enter the length of the second side of the quadrilateral:  5\n",
      "Enter the length of the third side of the quadrilateral:  10\n",
      "Enter the length of the fourth side of the quadrilateral:  5\n"
     ]
    },
    {
     "name": "stdout",
     "output_type": "stream",
     "text": [
      "The quadrilateral is a Rectangle\n"
     ]
    }
   ],
   "source": [
    "angle1 = float(input(\"Enter the first angle of the quadrilateral (in degrees): \"))\n",
    "angle2 = float(input(\"Enter the second angle of the quadrilateral (in degrees): \"))\n",
    "angle3 = float(input(\"Enter the third angle of the quadrilateral (in degrees): \"))\n",
    "angle4 = float(input(\"Enter the fourth angle of the quadrilateral (in degrees): \"))\n",
    "\n",
    "side1 = float(input(\"Enter the length of the first side of the quadrilateral: \"))\n",
    "side2 = float(input(\"Enter the length of the second side of the quadrilateral: \"))\n",
    "side3 = float(input(\"Enter the length of the third side of the quadrilateral: \"))\n",
    "side4 = float(input(\"Enter the length of the fourth side of the quadrilateral: \"))\n",
    "\n",
    "if angle1 + angle2 + angle3 + angle4 == 360 and side1 + side2 + side3 + side4 > 0:\n",
    "    if angle1 == angle2 == angle3 == angle4 == 90:\n",
    "        if side1 == side2 == side3 == side4:\n",
    "            quadrilateral_type = \"Square\"\n",
    "        else:\n",
    "            quadrilateral_type = \"Rectangle\"\n",
    "        \n",
    "    elif ((angle1 == angle3 and angle2 == angle4) or (angle1 == angle2 and angle3 == angle4)): \n",
    "        if (side1 == side2 == side3 == side4):\n",
    "            quadrilateral_type = \"Rhombus\"\n",
    "        elif ((side1 == side3 and side2 == side4) or (side1 == side2 and side3 == side4)):\n",
    "            quadrilateral_type = \"Parallelogram\"\n",
    "else:\n",
    "    quadrilateral_type = \"Invalid Quadrilateral (Angles do not sum to 360 degrees or sides are non-positive)\"\n",
    "\n",
    "print(\"The quadrilateral is a\", quadrilateral_type)"
   ]
  },
  {
   "cell_type": "markdown",
   "id": "a161e3c3-332e-4c2d-ae70-9dac7e794fac",
   "metadata": {},
   "source": [
    "29. Write a Python script to determine the season based on a user-provided month using elif statements."
   ]
  },
  {
   "cell_type": "code",
   "execution_count": 52,
   "id": "d8b737f1-aa5c-4a41-9085-64b6a20bb36d",
   "metadata": {},
   "outputs": [
    {
     "name": "stdin",
     "output_type": "stream",
     "text": [
      "Enter a month (e.g., January, February, etc.):  may\n"
     ]
    },
    {
     "name": "stdout",
     "output_type": "stream",
     "text": [
      "The season for May is Spring.\n"
     ]
    }
   ],
   "source": [
    "month = input(\"Enter a month (e.g., January, February, etc.): \")\n",
    "\n",
    "if month.lower() in (\"december\", \"january\", \"february\"):\n",
    "    season = \"Winter\"\n",
    "elif month.lower() in (\"march\", \"april\", \"may\"):\n",
    "    season = \"Spring\"\n",
    "elif month.lower() in (\"june\", \"july\", \"august\"):\n",
    "    season = \"Summer\"\n",
    "elif month.lower() in (\"september\", \"october\", \"november\"):\n",
    "    season = \"Fall (Autumn)\"\n",
    "else:\n",
    "    season = \"Invalid Month\"\n",
    "\n",
    "# Output the result\n",
    "if season != \"Invalid Month\":\n",
    "    print(f\"The season for {month.capitalize()} is {season}.\")\n",
    "else:\n",
    "    print(\"Invalid input. Please enter a valid month.\")"
   ]
  },
  {
   "cell_type": "markdown",
   "id": "bd862885-e326-4166-8f69-0ff37d0a7f40",
   "metadata": {},
   "source": [
    "30. Implement a program to determine the type of a year (leap or common) and month (30 or 31 days) using elif statements."
   ]
  },
  {
   "cell_type": "code",
   "execution_count": 54,
   "id": "4bf60afc-dbcf-45da-83bd-3606a8aa7f26",
   "metadata": {},
   "outputs": [
    {
     "name": "stdin",
     "output_type": "stream",
     "text": [
      "Enter a year:  2000\n",
      "Enter a month:  february\n"
     ]
    },
    {
     "name": "stdout",
     "output_type": "stream",
     "text": [
      "2000 is a Leap Year, and February has 29 days.\n"
     ]
    }
   ],
   "source": [
    "year = int(input(\"Enter a year: \"))\n",
    "\n",
    "month = input(\"Enter a month: \")\n",
    "\n",
    "month = month.lower()\n",
    "\n",
    "if (year % 4 == 0 and year % 100 != 0) or (year % 400 == 0):\n",
    "    year_type = \"Leap Year\"\n",
    "else:\n",
    "    year_type = \"Common Year\"\n",
    "\n",
    "if month in (\"january\", \"march\", \"may\", \"july\", \"august\", \"october\", \"december\"):\n",
    "    month_days = 31\n",
    "elif month in (\"april\", \"june\", \"september\", \"november\"):\n",
    "    month_days = 30\n",
    "elif month == \"february\":\n",
    "    if year_type == \"Leap Year\":\n",
    "        month_days = 29\n",
    "    else:\n",
    "        month_days = 28\n",
    "else:\n",
    "    month_days = \"Invalid Month\"\n",
    "\n",
    "if month_days != \"Invalid Month\":\n",
    "    print(f\"{year} is a {year_type}, and {month.capitalize()} has {month_days} days.\")\n",
    "else:\n",
    "    print(\"Invalid input. Please enter a valid month.\")"
   ]
  },
  {
   "cell_type": "raw",
   "id": "797e357a-b00f-4708-ae6c-ce8752d89e5c",
   "metadata": {},
   "source": [
    "Basic Level:"
   ]
  },
  {
   "cell_type": "markdown",
   "id": "d66895f8-03ee-4e59-9782-947cd4303ceb",
   "metadata": {},
   "source": [
    "1. Write a Python program that checks if a given number is positive, negative, or zero."
   ]
  },
  {
   "cell_type": "code",
   "execution_count": 55,
   "id": "9c1c9124-f9e4-4f0e-aa46-8557de97711d",
   "metadata": {},
   "outputs": [
    {
     "name": "stdin",
     "output_type": "stream",
     "text": [
      "Enter a number: 0\n"
     ]
    },
    {
     "name": "stdout",
     "output_type": "stream",
     "text": [
      "0 is zero\n"
     ]
    }
   ],
   "source": [
    "n = int(input(\"Enter a number:\"))\n",
    "\n",
    "if n > 0:\n",
    "    print(f\"{n} is positive number\")\n",
    "elif n < 0:\n",
    "    print(f\"{n} is negative number\")\n",
    "else:\n",
    "    print(f\"{n} is zero\")"
   ]
  },
  {
   "cell_type": "markdown",
   "id": "9fe87735-7a6c-4bcd-96c7-5fa533b35443",
   "metadata": {},
   "source": [
    "2. Create a program to determine if a person is eligible to vote based on their age."
   ]
  },
  {
   "cell_type": "code",
   "execution_count": 56,
   "id": "ad581fb9-8663-4963-9135-896baff5c3e6",
   "metadata": {},
   "outputs": [
    {
     "name": "stdin",
     "output_type": "stream",
     "text": [
      "Enter your age:  5\n"
     ]
    },
    {
     "name": "stdout",
     "output_type": "stream",
     "text": [
      "You are a minor.\n"
     ]
    }
   ],
   "source": [
    "# Input: Get the user's age\n",
    "age = int(input(\"Enter your age: \"))\n",
    "if age >= 18:\n",
    "    print(\"You are eligible to vote.\")   \n",
    "else:\n",
    "    print(\"You are a minor.\")"
   ]
  },
  {
   "cell_type": "markdown",
   "id": "f7f440f9-7bc0-4bd9-a6ef-13b12cde58b7",
   "metadata": {},
   "source": [
    "3. Write a program to find the maximum of two given numbers using conditional statements."
   ]
  },
  {
   "cell_type": "code",
   "execution_count": 57,
   "id": "eee358a1-b41b-4de7-8738-ebbd58c84fc3",
   "metadata": {},
   "outputs": [
    {
     "name": "stdin",
     "output_type": "stream",
     "text": [
      "Enter a number1: 20\n",
      "Enter a number2: 25\n"
     ]
    },
    {
     "name": "stdout",
     "output_type": "stream",
     "text": [
      "25 is greater than 20\n"
     ]
    }
   ],
   "source": [
    "number1 = int(input(\"Enter a number1:\"))\n",
    "number2 = int(input(\"Enter a number2:\"))\n",
    "\n",
    "if number1>number2:\n",
    "    print(f\"{number1} is greater than {number2}\")\n",
    "else:\n",
    "    print(f\"{number2} is greater than {number1}\")"
   ]
  },
  {
   "cell_type": "markdown",
   "id": "ab7bdd1d-2c32-4c7e-9e84-69a6ab73802c",
   "metadata": {},
   "source": [
    "4. Develop a program that calculates the grade of a student based on their exam score."
   ]
  },
  {
   "cell_type": "code",
   "execution_count": 58,
   "id": "ee46e173-34a5-4a7a-9f17-fc5437e196ff",
   "metadata": {},
   "outputs": [
    {
     "name": "stdin",
     "output_type": "stream",
     "text": [
      "Enter the subject score:  55\n"
     ]
    },
    {
     "name": "stdout",
     "output_type": "stream",
     "text": [
      "Grade: C\n"
     ]
    }
   ],
   "source": [
    "#100-80 A, 60-79 B, 50-59 C, 40-49 D, < 40 Failed\n",
    "n = int(input(\"Enter the subject score: \"))\n",
    "\n",
    "if 80 <= n <= 100:\n",
    "    print(\"Grade: A\")\n",
    "elif 60<= n < 80:\n",
    "    print(\"Grade: B\")\n",
    "elif 50<= n < 60:\n",
    "    print(\"Grade: C\")\n",
    "elif 40<= n < 50:\n",
    "    print(\"Grade: D\")\n",
    "else:\n",
    "    print(\"Falied\")"
   ]
  },
  {
   "cell_type": "markdown",
   "id": "977a5e0e-7ab2-4729-bc88-68733556ae71",
   "metadata": {},
   "source": [
    "5. Create a program that checks if a year is a leap year or not."
   ]
  },
  {
   "cell_type": "code",
   "execution_count": 63,
   "id": "b40d6581-5013-4aeb-9f89-e6198e3761b3",
   "metadata": {},
   "outputs": [
    {
     "name": "stdin",
     "output_type": "stream",
     "text": [
      "Enter a year:  2023\n"
     ]
    },
    {
     "name": "stdout",
     "output_type": "stream",
     "text": [
      "2023 is not Leap Year.\n"
     ]
    }
   ],
   "source": [
    "year = int(input(\"Enter a year: \"))\n",
    "if ((year % 4 == 0 and year % 100 != 0) or (year % 400 == 0)):\n",
    "    print(f\"{year} is Leap Year.\")    \n",
    "else:\n",
    "    print(f\"{year} is not Leap Year.\")    "
   ]
  },
  {
   "cell_type": "markdown",
   "id": "b5554d45-e5de-443b-9bec-9e8cbb3a4fea",
   "metadata": {},
   "source": [
    "6. Write a program to classify a triangle based on its sides' lengths."
   ]
  },
  {
   "cell_type": "code",
   "execution_count": 64,
   "id": "b905f05e-9e47-4cd4-92fd-9bc61dcf1aec",
   "metadata": {},
   "outputs": [
    {
     "name": "stdin",
     "output_type": "stream",
     "text": [
      "Enter side 1:  5\n",
      "Enter side 2:  5\n",
      "Enter side 3:  5\n"
     ]
    },
    {
     "name": "stdout",
     "output_type": "stream",
     "text": [
      "Triangle: Equilateral\n"
     ]
    }
   ],
   "source": [
    "a = int(input(\"Enter side 1: \"))\n",
    "b = int(input(\"Enter side 2: \"))\n",
    "c = int(input(\"Enter side 3: \"))\n",
    "\n",
    "if (a == b) and (b == c):\n",
    "    print(\"Triangle: Equilateral\")\n",
    "elif (a == b) or (b == c) or (a == c):\n",
    "    print(\"Triangle: Isosceles\")\n",
    "else:\n",
    "    print(\"Triangle: Scalne\")"
   ]
  },
  {
   "cell_type": "markdown",
   "id": "3fe8b3f2-67c1-47bd-aa95-f86680176925",
   "metadata": {},
   "source": [
    "7. Build a program that determines the largest of three given numbers."
   ]
  },
  {
   "cell_type": "code",
   "execution_count": 65,
   "id": "9628393a-9eca-4ba9-b8d6-57880316abea",
   "metadata": {},
   "outputs": [
    {
     "name": "stdin",
     "output_type": "stream",
     "text": [
      "Enter a number 1:  25\n",
      "Enter a number 2:  246\n",
      "Enter a number 3:  1000\n"
     ]
    },
    {
     "name": "stdout",
     "output_type": "stream",
     "text": [
      "The largest is  1000\n"
     ]
    }
   ],
   "source": [
    "n1 = int(input(\"Enter a number 1: \"))\n",
    "n2 = int(input(\"Enter a number 2: \"))\n",
    "n3 = int(input(\"Enter a number 3: \"))\n",
    "\n",
    "if n1 > n2:\n",
    "    if n1 > n3:\n",
    "        print(\"The largest is \", n1)\n",
    "    else:\n",
    "        print(\"The largest is \", n3)\n",
    "elif n2>n1:\n",
    "    if n2 > n3:\n",
    "        print(\"The largest is \", n2)\n",
    "    else:\n",
    "        print(\"The largest is \", n3)\n",
    "else:\n",
    "    print(\"all are equal\")"
   ]
  },
  {
   "cell_type": "markdown",
   "id": "dff123af-0294-4f4b-9c7f-16f1cc14f1ed",
   "metadata": {},
   "source": [
    "8. Develop a program that checks whether a character is a vowel or a consonant."
   ]
  },
  {
   "cell_type": "code",
   "execution_count": 74,
   "id": "363043ec-5cd7-40ef-be5e-b1a8caa9b671",
   "metadata": {},
   "outputs": [
    {
     "name": "stdin",
     "output_type": "stream",
     "text": [
      "Enter a character:  k\n"
     ]
    },
    {
     "name": "stdout",
     "output_type": "stream",
     "text": [
      "Character is a consonant\n"
     ]
    }
   ],
   "source": [
    "char = (input(\"Enter a character: \"))\n",
    "\n",
    "vowels = {'a', 'e', 'i', 'o', 'u'}\n",
    "\n",
    "if char.isalpha():\n",
    "    if char.lower() in vowels:\n",
    "        print(\"Character is a vowel\")\n",
    "    else:\n",
    "        print(\"Character is a consonant\")\n",
    "else:\n",
    "    print(\"Enter a characher\")"
   ]
  },
  {
   "cell_type": "markdown",
   "id": "69c35828-08ce-4851-a05e-d156fd0c761f",
   "metadata": {},
   "source": [
    "9. Create a program to calculate the total cost of a shopping cart based on discounts."
   ]
  },
  {
   "cell_type": "code",
   "execution_count": 75,
   "id": "6dda8ce0-8a2b-4aa3-ba5f-d215737d5222",
   "metadata": {},
   "outputs": [
    {
     "name": "stdin",
     "output_type": "stream",
     "text": [
      "Enter the purchase amount:  4500\n"
     ]
    },
    {
     "name": "stdout",
     "output_type": "stream",
     "text": [
      "You've received a discount of RS 450.00\n",
      "Total amount to pay: RS 4050.00\n"
     ]
    }
   ],
   "source": [
    "purchase_amount = float(input(\"Enter the purchase amount: \"))\n",
    "\n",
    "discount_rate_1 = 0.05  # 5% discount for purchases over 1000 rs\n",
    "discount_rate_2 = 0.1   # 10% discount for purchases over 2000 rs\n",
    "\n",
    "\n",
    "discount_amount = 0.0\n",
    "\n",
    "\n",
    "if purchase_amount > 2000:\n",
    "    discount_amount = purchase_amount * discount_rate_2\n",
    "elif purchase_amount > 1000:\n",
    "    discount_amount = purchase_amount * discount_rate_1\n",
    "\n",
    "# Output the discount amount and the total amount to pay\n",
    "if discount_amount > 0:\n",
    "    total_amount = purchase_amount - discount_amount\n",
    "    print(f\"You've received a discount of RS {discount_amount:.2f}\")\n",
    "    print(f\"Total amount to pay: RS {total_amount:.2f}\")\n",
    "else:\n",
    "    print(\"No discount applied. Total amount to pay:\", purchase_amount)"
   ]
  },
  {
   "cell_type": "markdown",
   "id": "4c6c9792-984d-4885-84df-91be56514391",
   "metadata": {},
   "source": [
    "10. Write a program that checks if a given number is even or odd."
   ]
  },
  {
   "cell_type": "code",
   "execution_count": 76,
   "id": "a4019175-3bbc-4ea1-a12e-2a5544db0438",
   "metadata": {},
   "outputs": [
    {
     "name": "stdin",
     "output_type": "stream",
     "text": [
      "Enter a number: 56\n"
     ]
    },
    {
     "name": "stdout",
     "output_type": "stream",
     "text": [
      "56 is even\n"
     ]
    }
   ],
   "source": [
    "n = int(input(\"Enter a number:\"))\n",
    "\n",
    "if n % 2 == 0:\n",
    "    print(f\"{n} is even\")\n",
    "else:\n",
    "    print(f\"{n} is odd\")"
   ]
  },
  {
   "cell_type": "markdown",
   "id": "60c26077-6f4e-43ac-b1b0-2f8fbae179fe",
   "metadata": {},
   "source": [
    "Intermediate Level:"
   ]
  },
  {
   "cell_type": "markdown",
   "id": "b6efdc56-70c0-4c61-95d6-3b7bda5b124e",
   "metadata": {},
   "source": [
    "11.  Write a program that calculates the roots of a quadratic equation ."
   ]
  },
  {
   "cell_type": "code",
   "execution_count": 77,
   "id": "be943168-15c6-4de1-97d2-b4ebd847051b",
   "metadata": {},
   "outputs": [
    {
     "name": "stdin",
     "output_type": "stream",
     "text": [
      "Enter coefficient a:  10\n",
      "Enter coefficient b:  25\n",
      "Enter coefficient c:  10\n"
     ]
    },
    {
     "name": "stdout",
     "output_type": "stream",
     "text": [
      "Roots are real and distinct: -0.5 and -2.0\n"
     ]
    }
   ],
   "source": [
    "#aX^2 + bX + c = 0\n",
    "\n",
    "a = float(input(\"Enter coefficient a: \"))\n",
    "b = float(input(\"Enter coefficient b: \"))\n",
    "c = float(input(\"Enter coefficient c: \"))\n",
    "\n",
    "d = b**2 - (4*a*c)\n",
    "\n",
    "if d > 0:\n",
    "    root1 = (-b + d**0.5) / (2*a)\n",
    "    root2 = (-b - d**0.5) / (2*a)\n",
    "    print(f\"Roots are real and distinct: {round(root1, 2)} and {round(root2, 2)}\")\n",
    "elif d == 0:\n",
    "    root = (-b + d**0.5) / (2*a)\n",
    "    print(f\"Root is real and equal: {round(root)}\")\n",
    "else:\n",
    "    real = -b / 2*a\n",
    "    imaginary = abs(d**0.5)/ 2*a\n",
    "    print(f\"Roots are complex: {round(real, 2)} + {round(imaginary,  2)}i and {round(real, 2)} - {round(imaginary,  2)}i\")"
   ]
  },
  {
   "cell_type": "markdown",
   "id": "fc1c9b58-ab44-41d5-bcba-773081614093",
   "metadata": {},
   "source": [
    "12. Create a program that determines the day of the week based on the day number (1-7)."
   ]
  },
  {
   "cell_type": "code",
   "execution_count": 78,
   "id": "8175f9bb-7718-413b-a725-94d90d084cbd",
   "metadata": {},
   "outputs": [
    {
     "name": "stdin",
     "output_type": "stream",
     "text": [
      "Enter a number:  5\n"
     ]
    },
    {
     "name": "stdout",
     "output_type": "stream",
     "text": [
      "Friday\n"
     ]
    }
   ],
   "source": [
    "n = int(input(\"Enter a number: \"))\n",
    "\n",
    "if n % 7 == 0:\n",
    "    print(\"Sunday\")\n",
    "if n % 7 == 1:\n",
    "    print(\"Monday\")\n",
    "elif n % 7 == 2:\n",
    "    print(\"Tuesday\")\n",
    "elif n % 7 == 3:\n",
    "    print(\"Wednesday\")\n",
    "elif n % 7 == 4:\n",
    "    print(\"Thursday\")\n",
    "elif n % 7 == 5:\n",
    "    print(\"Friday\")\n",
    "elif n % 7 == 6:\n",
    "    print(\"Saturday\")"
   ]
  },
  {
   "cell_type": "markdown",
   "id": "1d24bc31-f35e-4a66-a5bf-589dedad7c5c",
   "metadata": {},
   "source": [
    "13. Develop a program that calculates the factorial of a given number using recursion."
   ]
  },
  {
   "cell_type": "code",
   "execution_count": 82,
   "id": "fdf8a6d5-f3ee-4254-bd08-aaa13f3647c7",
   "metadata": {},
   "outputs": [
    {
     "name": "stdin",
     "output_type": "stream",
     "text": [
      "Enter a number:  5\n"
     ]
    },
    {
     "data": {
      "text/plain": [
       "120"
      ]
     },
     "execution_count": 82,
     "metadata": {},
     "output_type": "execute_result"
    }
   ],
   "source": [
    "def fact(n):\n",
    "    if n <= 1:\n",
    "        return 1\n",
    "    else:\n",
    "        return n * fact(n-1)\n",
    "n = int(input(\"Enter a number: \"))\n",
    "fact(n)"
   ]
  },
  {
   "cell_type": "markdown",
   "id": "1bd7835f-9049-44d4-a1e0-bc215601bc21",
   "metadata": {},
   "source": [
    "14. Write a program to find the largest among three numbers without using the `max()` function."
   ]
  },
  {
   "cell_type": "code",
   "execution_count": 86,
   "id": "7d4d01d8-dec9-46c3-8476-9fa38ff2dc84",
   "metadata": {},
   "outputs": [
    {
     "name": "stdin",
     "output_type": "stream",
     "text": [
      "Enter a number 1:  25\n",
      "Enter a number 2:  45\n",
      "Enter a number 3:  84\n"
     ]
    },
    {
     "name": "stdout",
     "output_type": "stream",
     "text": [
      "The maximun value from 25 45 and 84 is 84.\n"
     ]
    }
   ],
   "source": [
    "n1 = int(input(\"Enter a number 1: \"))\n",
    "n2 = int(input(\"Enter a number 2: \"))\n",
    "n3 = int(input(\"Enter a number 3: \"))\n",
    "\n",
    "print(f\"The maximun value from {n1} {n2} and {n3} is {max(n1,n3,n2)}.\")\n"
   ]
  },
  {
   "cell_type": "markdown",
   "id": "9800a871-0bf6-42b4-b054-46ef9730ba15",
   "metadata": {},
   "source": [
    "15. Create a program that simulates a basic ATM transaction menu."
   ]
  },
  {
   "cell_type": "code",
   "execution_count": 92,
   "id": "94d25f93-e9ff-40b6-88ac-16044dd84c58",
   "metadata": {},
   "outputs": [
    {
     "name": "stdout",
     "output_type": "stream",
     "text": [
      "Welcome to Bank of India\n"
     ]
    },
    {
     "name": "stdin",
     "output_type": "stream",
     "text": [
      "Enter your 4 digit pin number:  1234\n"
     ]
    },
    {
     "name": "stdout",
     "output_type": "stream",
     "text": [
      "1-Withdraw\n",
      "2-Balance Enquiry\n",
      "3-Fast Cash\n"
     ]
    },
    {
     "name": "stdin",
     "output_type": "stream",
     "text": [
      "Please choose transactions [1,2,3]:  2\n"
     ]
    },
    {
     "name": "stdout",
     "output_type": "stream",
     "text": [
      "Your available amount :  25000\n"
     ]
    }
   ],
   "source": [
    "print(\"Welcome to Bank of India\")\n",
    "pin=int(input(\"Enter your 4 digit pin number: \"))\n",
    "balance = 25000\n",
    "if(pin == 1234):\n",
    "    print(\"1-Withdraw\")\n",
    "    print(\"2-Balance Enquiry\")\n",
    "    print(\"3-Fast Cash\")\n",
    "    c = int(input(\"Please choose transactions [1,2,3]: \"))\n",
    "    if (c == 1):\n",
    "        withdraw = int(input(\"Enter withdraw amount: \"))\n",
    "        if (withdraw < balance and withdraw % 100 == 0):\n",
    "            print(\"Please take your amount:\", withdraw)\n",
    "        else:\n",
    "            print(\"Invalid cash\")\n",
    "\n",
    "    elif(c==2):\n",
    "        print(\"Your available amount : \",balance)\n",
    "\n",
    "    elif (c == 3):\n",
    "        print(\"1->5,000\")\n",
    "        print(\"2->10,000\")\n",
    "        print(\"3->15,000\")\n",
    "        print(\"4->20,000\")\n",
    "        fast_cash = int(input(\"Enter fast cash option: \"))\n",
    "        if (fast_cash == 1 and 5000 < balance):\n",
    "            print(\"please take cash 5000\")\n",
    "        elif (fast_cash == 2 and 10000 < balance):\n",
    "            print(\"please take cash 10000\")\n",
    "        elif (fast_cash == 3 and 15000 < balance):\n",
    "            print(\"please take cash 15000\")\n",
    "        elif (fast_cash == 4 and 20000 < balance):\n",
    "            print(\"please take cash 20000\")\n",
    "        else:\n",
    "            print(\"Invalid fast cash option\")\n",
    "    else:\n",
    "        print(\"Wrong choice\")\n",
    "else:\n",
    "    print(\"Wrong pin number\")"
   ]
  },
  {
   "cell_type": "markdown",
   "id": "87ba08b9-3084-4964-ad52-fc93ef19d8f0",
   "metadata": {},
   "source": [
    "16. Build a program that checks if a given string is a palindrome or not."
   ]
  },
  {
   "cell_type": "code",
   "execution_count": 93,
   "id": "443755da-23f8-40e9-9142-e4f5a694418d",
   "metadata": {},
   "outputs": [
    {
     "name": "stdin",
     "output_type": "stream",
     "text": [
      "Enter a string: pw skills\n"
     ]
    },
    {
     "name": "stdout",
     "output_type": "stream",
     "text": [
      "pw skills is not Palindrome\n"
     ]
    }
   ],
   "source": [
    "string = (input(\"Enter a string:\"))\n",
    "\n",
    "if string.lower() == string[::-1].lower():\n",
    "    print(f\"{string} is Palindrome\")\n",
    "else:\n",
    "    print(f\"{string} is not Palindrome\")"
   ]
  },
  {
   "cell_type": "markdown",
   "id": "036be228-9396-47f4-91ff-18af34ad589f",
   "metadata": {},
   "source": [
    "17. Write a program that calculates the average of a list of numbers, excluding the smallest and largest values."
   ]
  },
  {
   "cell_type": "code",
   "execution_count": 44,
   "id": "663497d3-8f7e-41bd-917e-ee969502b7ce",
   "metadata": {},
   "outputs": [
    {
     "name": "stdout",
     "output_type": "stream",
     "text": [
      "Average of list: 5.5\n"
     ]
    }
   ],
   "source": [
    "l = [2,3,4,5,6,1,2,7,8,9,10,3,4,5,6,7,8,9,10]  \n",
    "#l = [1, 2, 3, 4, 5, 6, 7, 8, 9, 10]\n",
    "sorted_list = sorted(l)\n",
    "smallest = sorted_list[0]\n",
    "largest = sorted_list[len(l)-1]\n",
    "\n",
    "counter = 0\n",
    "sum_list = 0\n",
    "for i in range(0,len(l)):\n",
    "    if sorted_list[i] == smallest or sorted_list[i] == largest:\n",
    "        counter += 1\n",
    "    else:\n",
    "        sum_list += sorted_list[i]\n",
    "        #print(sorted_list[i])\n",
    "\n",
    "print(f\"Average of list: {round((sum_list/(len(l)-counter)),2)}\")\n",
    "        "
   ]
  },
  {
   "cell_type": "markdown",
   "id": "735c9b4a-7e72-4bca-b505-1f9b0e77bc8a",
   "metadata": {},
   "source": [
    "18. Develop a program that converts a given temperature from Celsius to Fahrenheit."
   ]
  },
  {
   "cell_type": "code",
   "execution_count": 48,
   "id": "08600cb0-57f3-48d0-875d-1d969f51049d",
   "metadata": {},
   "outputs": [
    {
     "name": "stdin",
     "output_type": "stream",
     "text": [
      "Enter the temperature in clesius:  50\n"
     ]
    },
    {
     "name": "stdout",
     "output_type": "stream",
     "text": [
      "Temperature in Fahrenheit:  122.0\n"
     ]
    }
   ],
   "source": [
    "def cel_fah(temp):\n",
    "    return round((temp * (9/5)) + 32 , 2)\n",
    "\n",
    "temp_cel = float(input(\"Enter the temperature in clesius: \"))\n",
    "\n",
    "print(\"Temperature in Fahrenheit: \", cel_fah(temp_cel))"
   ]
  },
  {
   "cell_type": "markdown",
   "id": "7e35e910-7234-4f79-9d5e-0772eb8262ee",
   "metadata": {},
   "source": [
    "19. Create a program that simulates a basic calculator for addition, subtraction, multiplication, and division.\n"
   ]
  },
  {
   "cell_type": "code",
   "execution_count": 51,
   "id": "62a925d1-a3db-4142-a5c0-b9f0fb34e47e",
   "metadata": {},
   "outputs": [
    {
     "name": "stdout",
     "output_type": "stream",
     "text": [
      "Welcome to Calculator\n",
      "1-Addition\n",
      "2-Subtraction\n",
      "3-Multiplication\n",
      "4-Division\n"
     ]
    },
    {
     "name": "stdin",
     "output_type": "stream",
     "text": [
      "Enter your choice:  1\n",
      "Enter first number:  25\n",
      "Enter second number:  25\n"
     ]
    },
    {
     "name": "stdout",
     "output_type": "stream",
     "text": [
      "25.0 + 25.0 = 50.0\n"
     ]
    }
   ],
   "source": [
    "print(\"Welcome to Calculator\")\n",
    "print(\"1-Addition\")\n",
    "print(\"2-Subtraction\")\n",
    "print(\"3-Multiplication\")\n",
    "print(\"4-Division\")\n",
    "operation =int(input(\"Enter your choice: \"))\n",
    "\n",
    "num1 = float(input(\"Enter first number: \"))\n",
    "num2 = float(input(\"Enter second number: \"))\n",
    "\n",
    "if operation == 1:\n",
    "    print(f\"{num1} + {num2} = {num1 + num2}\")\n",
    "\n",
    "elif operation == 2:\n",
    "    print(f\"{num1} - {num2} = {num1 - num2}\")\n",
    "\n",
    "elif operation == 3:\n",
    "    print(f\"{num1} x {num2} = {num1 * num2}\")\n",
    "    \n",
    "elif operation == 4:\n",
    "    print(f\"{num1} / {num2} = {num1 / num2}\")\n",
    "\n",
    "else:\n",
    "    print(\"Invalid Input\")"
   ]
  },
  {
   "cell_type": "markdown",
   "id": "adfb7ffd-14ce-4a91-a614-84274cc6ba78",
   "metadata": {},
   "source": [
    "20. Write a program that determines the roots of a cubic equation using the Cardano formula."
   ]
  },
  {
   "cell_type": "code",
   "execution_count": 72,
   "id": "00c61d80-80e4-422f-bcb2-d3f790ab3b0e",
   "metadata": {},
   "outputs": [
    {
     "name": "stdin",
     "output_type": "stream",
     "text": [
      "Enter coefficient of x^3 ie a:  1\n",
      "Enter coefficient of x^2 ie b:  -15\n",
      "Enter coefficient of x^1 ie c:  -4\n",
      "Enter coefficient of x^0 ie d:  0\n"
     ]
    },
    {
     "name": "stdout",
     "output_type": "stream",
     "text": [
      "all roots are real, and unequal.\n",
      "ROOTS\n",
      "x1 = (15.262087348130011+0j)\n",
      "x2 = (-0.26208734813000606+0j)\n",
      "x3 = (-5.162537064506978e-15-0j)\n"
     ]
    }
   ],
   "source": [
    "# ax3+bx2+cx+d=0 with a≠0\n",
    "\n",
    "a = float(input(\"Enter coefficient of x^3 ie a: \"))\n",
    "b = float(input(\"Enter coefficient of x^2 ie b: \"))\n",
    "c = float(input(\"Enter coefficient of x^1 ie c: \"))\n",
    "d = float(input(\"Enter coefficient of x^0 ie d: \"))\n",
    "\n",
    "Q = ((3*a*c) - (b**2))/(9*a**2)\n",
    "R = ((9*a*b*c) - (27*(a**2)*d) - (2*(b**3)))/(54*(a**3))\n",
    "D = (Q**3) + (R**2)\n",
    "S = (R + (D**(1/2)))**(1/3)\n",
    "T = (R - (D**(1/2)))**(1/3)\n",
    "\n",
    "x1 = S + T - (b/(3*a))\n",
    "x2 = -((S + T)/2) - (b/(3*a)) + 0.5j * (3**(1/2)) * (S - T)\n",
    "x3 = -((S + T)/2) - (b/(3*a)) - 0.5j * (3**(1/2)) * (S - T)\n",
    "if D > 0:\n",
    "    \n",
    "    print(\"one root is real and two are complex\")\n",
    "          \n",
    "elif D == 0:\n",
    "    print(\"all roots are real, and at least two are equal.\")\n",
    "\n",
    "elif D < 0:\n",
    "    print(\"all roots are real, and unequal.\")\n",
    "\n",
    "print(\"ROOTS\")\n",
    "print(f\"x1 = {x1}\")\n",
    "print(f\"x2 = {x2}\")\n",
    "print(f\"x3 = {x3}\")"
   ]
  },
  {
   "cell_type": "markdown",
   "id": "d3a4f642-1548-4223-9552-df20931bd774",
   "metadata": {},
   "source": [
    "Advanced Level:"
   ]
  },
  {
   "cell_type": "markdown",
   "id": "8ff4d7a9-cb7d-411a-beb3-535c33b4c1f5",
   "metadata": {},
   "source": [
    "21. Create a program that calculates the income tax based on the user's income and tax brackets."
   ]
  },
  {
   "cell_type": "markdown",
   "id": "8def6775-da41-43f9-8630-43e4d66e3d2d",
   "metadata": {},
   "source": [
    "AMOUNT                             INCOME TAX RATE\n",
    "Up to ₹2,50,000                     0%\n",
    "₹2,50,001 – ₹5,00,000           5% above ₹2,50,000\n",
    "₹5,00,001 – ₹7,50,000           10% above ₹5,00,000 + ₹12,500\n",
    "₹7,50,001 – ₹10,00,000         15% above ₹7,50,000 + ₹37,500\n",
    "₹10,00,001 – ₹12,50,000       20% above ₹10,00,000 + ₹75,000\n",
    "₹12,50,001 – ₹15,00,000       25% above ₹12,50,000 + ₹1,25,000\n",
    "Above ₹15,00,001                  30% above ₹15,00,000 + ₹1,87,500"
   ]
  },
  {
   "cell_type": "code",
   "execution_count": 75,
   "id": "55a762dd-2c10-4d49-9310-a24110beb542",
   "metadata": {},
   "outputs": [
    {
     "name": "stdin",
     "output_type": "stream",
     "text": [
      "annual income:  750010\n"
     ]
    },
    {
     "name": "stdout",
     "output_type": "stream",
     "text": [
      "Total tax applicable at ₹750010.0 is ₹37501.5\n"
     ]
    }
   ],
   "source": [
    "def calculate(amount, percent):\n",
    "    return (amount * percent) / 100\n",
    "  \n",
    "def calculate_income_tax(total_income: float) -> float:\n",
    "    if total_income <= 250000:\n",
    "        return 0\n",
    "    elif total_income <= 500000:\n",
    "        return calculate(total_income - \n",
    "                         250000, 5)\n",
    "    elif total_income <= 750000:\n",
    "        return calculate(total_income - \n",
    "                         500000, 10) + 12500\n",
    "    elif total_income <= 1000000:\n",
    "        return calculate(total_income - \n",
    "                         750000, 15) + 37500\n",
    "    elif total_income <= 1250000:\n",
    "        return calculate(total_income - \n",
    "                         1000000, 20) + 75000\n",
    "    elif total_income <= 1500000:\n",
    "        return calculate(total_income - \n",
    "                         1250000, 25) + 125000\n",
    "    else:\n",
    "        return calculate(total_income - \n",
    "                         1500000, 30) + 187500\n",
    "total_income = float(input(\"annual income: \"))\n",
    "tax = calculate_income_tax(total_income)\n",
    "print(f\"Total tax applicable at ₹{total_income} is ₹{tax}\")"
   ]
  },
  {
   "cell_type": "markdown",
   "id": "397ed032-f41d-4265-9e6b-47f527004cf9",
   "metadata": {},
   "source": [
    "22. Write a program that simulates a rock-paper-scissors game against the computer."
   ]
  },
  {
   "cell_type": "code",
   "execution_count": 78,
   "id": "bc2d2182-c6f0-4415-b54c-c70ba40be5ca",
   "metadata": {},
   "outputs": [
    {
     "name": "stdout",
     "output_type": "stream",
     "text": [
      "Rock, Paper, Scissors - Shoot!\n"
     ]
    },
    {
     "name": "stdin",
     "output_type": "stream",
     "text": [
      "Enter your choice (rock/paper/scissors):  rock\n"
     ]
    },
    {
     "name": "stdout",
     "output_type": "stream",
     "text": [
      "Computer chooses rock\n",
      "It's a tie!\n"
     ]
    },
    {
     "name": "stdin",
     "output_type": "stream",
     "text": [
      "Play again? (yes/no):  no\n"
     ]
    }
   ],
   "source": [
    "import random\n",
    "\n",
    "# Function to get the computer's choice\n",
    "def get_computer_choice():\n",
    "    choices = [\"rock\", \"paper\", \"scissors\"]\n",
    "    return random.choice(choices)\n",
    "\n",
    "# Function to determine the winner\n",
    "def determine_winner(player_choice, computer_choice):\n",
    "    if player_choice == computer_choice:\n",
    "        return \"It's a tie!\"\n",
    "    elif (player_choice == \"rock\" and computer_choice == \"scissors\") or \\\n",
    "         (player_choice == \"paper\" and computer_choice == \"rock\") or \\\n",
    "         (player_choice == \"scissors\" and computer_choice == \"paper\"):\n",
    "        return \"You win!\"\n",
    "    else:\n",
    "        return \"Computer wins!\"\n",
    "\n",
    "# Main game loop\n",
    "while True:\n",
    "    print(\"Rock, Paper, Scissors - Shoot!\")\n",
    "    player_choice = input(\"Enter your choice (rock/paper/scissors): \").lower()\n",
    "\n",
    "    if player_choice not in [\"rock\", \"paper\", \"scissors\"]:\n",
    "        print(\"Invalid choice. Please choose rock, paper, or scissors.\")\n",
    "        continue\n",
    "\n",
    "    computer_choice = get_computer_choice()\n",
    "    print(f\"Computer chooses {computer_choice}\")\n",
    "\n",
    "    result = determine_winner(player_choice, computer_choice)\n",
    "    print(result)\n",
    "\n",
    "    play_again = input(\"Play again? (yes/no): \").lower()\n",
    "    if play_again != \"yes\":\n",
    "        break"
   ]
  },
  {
   "cell_type": "markdown",
   "id": "dfd73863-b4b0-42e1-a29b-1a1ff73c11d6",
   "metadata": {},
   "source": [
    "23. Develop a program that generates a random password based on user preferences (length, complexity)."
   ]
  },
  {
   "cell_type": "code",
   "execution_count": 83,
   "id": "a2620947-50db-4ef2-b528-a4fb15c5815f",
   "metadata": {},
   "outputs": [
    {
     "name": "stdin",
     "output_type": "stream",
     "text": [
      "Enter the desired password length:  15\n",
      "Use lowercase letters? (yes/no):  yes\n",
      "Use uppercase letters? (yes/no):  yes\n",
      "Use digits? (yes/no):  yes\n",
      "Use special characters? (yes/no):  yes\n"
     ]
    },
    {
     "name": "stdout",
     "output_type": "stream",
     "text": [
      "Password:  @B9]ez,A;djWg9y\n"
     ]
    }
   ],
   "source": [
    "import random\n",
    "import string\n",
    "\n",
    "# Function to generate a random password\n",
    "def generate_password(length, use_lowercase, use_uppercase, use_digits, use_special_chars):\n",
    "    # Define character sets based on complexity preferences\n",
    "    lowercase_chars = string.ascii_lowercase if use_lowercase else \"\"\n",
    "    uppercase_chars = string.ascii_uppercase if use_uppercase else \"\"\n",
    "    digit_chars = string.digits if use_digits else \"\"\n",
    "    special_chars = \"!@#$%^&*()_+-=[]{}|;:<>,.?/\" if use_special_chars else \"\"\n",
    "\n",
    "    # Combine the character sets\n",
    "    all_chars = lowercase_chars + uppercase_chars + digit_chars + special_chars\n",
    "\n",
    "    # Check if there are characters to choose from\n",
    "    if not all_chars:\n",
    "        return \"Password complexity too low. Please select at least one character type.\"\n",
    "\n",
    "    # Generate the random password\n",
    "    password = ''.join(random.choice(all_chars) for _ in range(length))\n",
    "    return password\n",
    "\n",
    "# Input user preferences\n",
    "length = int(input(\"Enter the desired password length: \"))\n",
    "use_lowercase = input(\"Use lowercase letters? (yes/no): \").lower() == \"yes\"\n",
    "use_uppercase = input(\"Use uppercase letters? (yes/no): \").lower() == \"yes\"\n",
    "use_digits = input(\"Use digits? (yes/no): \").lower() == \"yes\"\n",
    "use_special_chars = input(\"Use special characters? (yes/no): \").lower() == \"yes\"\n",
    "\n",
    "# Generate and print the password\n",
    "password = generate_password(length, use_lowercase, use_uppercase, use_digits, use_special_chars)\n",
    "print(\"Password: \", password)"
   ]
  },
  {
   "cell_type": "markdown",
   "id": "f83bdf02-4571-45d5-a448-c5371cc126dd",
   "metadata": {},
   "source": [
    "24. Create a program that implements a simple text-based adventure game with branching scenarios."
   ]
  },
  {
   "cell_type": "code",
   "execution_count": 84,
   "id": "70251847-abf0-4219-b5fa-ea43336374ae",
   "metadata": {},
   "outputs": [
    {
     "name": "stdout",
     "output_type": "stream",
     "text": [
      "Welcome to the Adventure Game!\n",
      "You find yourself in a dark forest. You can hear strange sounds in the distance.\n",
      "\n",
      "Your choices:\n",
      "1. Explore deeper into the forest\n",
      "2. Follow a faint path\n"
     ]
    },
    {
     "name": "stdin",
     "output_type": "stream",
     "text": [
      "Enter the number of your choice:  2\n"
     ]
    },
    {
     "name": "stdout",
     "output_type": "stream",
     "text": [
      "You follow the path and discover an old cabin.\n",
      "Inside the cabin, you find a treasure chest!\n",
      "\n",
      "Your choices:\n",
      "1. Open the chest\n",
      "2. Leave it alone\n"
     ]
    },
    {
     "name": "stdin",
     "output_type": "stream",
     "text": [
      "Enter the number of your choice:  2\n"
     ]
    },
    {
     "name": "stdout",
     "output_type": "stream",
     "text": [
      "You decide to leave the chest untouched and continue your adventure.\n",
      "You explore further and find a hidden cave.\n",
      "Game over! You've discovered a dragon's lair and become its dinner.\n",
      "Thanks for playing the Adventure Game!\n"
     ]
    }
   ],
   "source": [
    "import time\n",
    "\n",
    "# Function to wait and simulate typing\n",
    "def type_delay(text, delay=0.03):\n",
    "    for char in text:\n",
    "        print(char, end='', flush=True)\n",
    "        time.sleep(delay)\n",
    "    print()\n",
    "\n",
    "# Function to present choices and get the player's decision\n",
    "def get_choice(choices):\n",
    "    while True:\n",
    "        print(\"\\nYour choices:\")\n",
    "        for index, choice in enumerate(choices, start=1):\n",
    "            print(f\"{index}. {choice}\")\n",
    "\n",
    "        choice = input(\"Enter the number of your choice: \")\n",
    "        if choice.isdigit() and 1 <= int(choice) <= len(choices):\n",
    "            return int(choice)\n",
    "        else:\n",
    "            print(\"Invalid choice. Please enter a valid number.\")\n",
    "\n",
    "# Start the game\n",
    "type_delay(\"Welcome to the Adventure Game!\")\n",
    "type_delay(\"You find yourself in a dark forest. You can hear strange sounds in the distance.\")\n",
    "\n",
    "# First decision point\n",
    "choice1 = get_choice([\"Explore deeper into the forest\", \"Follow a faint path\"])\n",
    "if choice1 == 1:\n",
    "    type_delay(\"You venture deeper into the forest, but it gets darker and scarier.\")\n",
    "    type_delay(\"Suddenly, you encounter a wild animal and have to run back.\")\n",
    "    type_delay(\"Game over! You survived but didn't find anything.\")\n",
    "else:\n",
    "    type_delay(\"You follow the path and discover an old cabin.\")\n",
    "    type_delay(\"Inside the cabin, you find a treasure chest!\")\n",
    "    choice2 = get_choice([\"Open the chest\", \"Leave it alone\"])\n",
    "    if choice2 == 1:\n",
    "        type_delay(\"You open the chest and find a pile of gold coins!\")\n",
    "        type_delay(\"Congratulations! You are rich and have won the game.\")\n",
    "    else:\n",
    "        type_delay(\"You decide to leave the chest untouched and continue your adventure.\")\n",
    "        type_delay(\"You explore further and find a hidden cave.\")\n",
    "        type_delay(\"Game over! You've discovered a dragon's lair and become its dinner.\")\n",
    "\n",
    "# End of the game\n",
    "type_delay(\"Thanks for playing the Adventure Game!\")"
   ]
  },
  {
   "cell_type": "markdown",
   "id": "962b5817-16a4-4b9f-af33-565379a100b9",
   "metadata": {},
   "source": [
    "25. Build a program that solves a linear equation for x, considering different cases."
   ]
  },
  {
   "cell_type": "code",
   "execution_count": 85,
   "id": "b81b1a11-5fe1-464c-99c6-7d0bb872b70f",
   "metadata": {},
   "outputs": [
    {
     "name": "stdin",
     "output_type": "stream",
     "text": [
      "Enter the coefficient 'a':  10\n",
      "Enter the coefficient 'b':  10\n"
     ]
    },
    {
     "name": "stdout",
     "output_type": "stream",
     "text": [
      "The solution is x = -1.0\n"
     ]
    }
   ],
   "source": [
    "# Function to solve a linear equation ax + b = 0 for x\n",
    "def solve_linear(a, b):\n",
    "    if a == 0:\n",
    "        if b == 0:\n",
    "            return \"Infinite solutions (all real numbers)\"\n",
    "        else:\n",
    "            return \"No solution\"\n",
    "    else:\n",
    "        x = -b / a\n",
    "        return f\"The solution is x = {x}\"\n",
    "\n",
    "# Input coefficients 'a' and 'b'\n",
    "a = float(input(\"Enter the coefficient 'a': \"))\n",
    "b = float(input(\"Enter the coefficient 'b': \"))\n",
    "\n",
    "result = solve_linear(a, b)\n",
    "print(result)"
   ]
  },
  {
   "cell_type": "markdown",
   "id": "e038d21d-1b57-4461-bc0a-b4b3771c1854",
   "metadata": {},
   "source": [
    "26. Write a program that simulates a basic quiz game with multiple-choice questions and scoring."
   ]
  },
  {
   "cell_type": "code",
   "execution_count": 86,
   "id": "10158128-4c91-4168-8453-33d79702c1a7",
   "metadata": {},
   "outputs": [
    {
     "name": "stdout",
     "output_type": "stream",
     "text": [
      "Welcome to the Quiz Game!\n",
      "What is the chemical symbol for gold?\n",
      "A. Au\n",
      "B. Ag\n",
      "C. Fe\n",
      "D. Hg\n"
     ]
    },
    {
     "name": "stdin",
     "output_type": "stream",
     "text": [
      "Enter your answer (A/B/C/D):  a\n"
     ]
    },
    {
     "name": "stdout",
     "output_type": "stream",
     "text": [
      "Correct!\n",
      "\n",
      "What is the largest mammal in the world?\n",
      "A. Elephant\n",
      "B. Giraffe\n",
      "C. Blue Whale\n",
      "D. Dolphin\n"
     ]
    },
    {
     "name": "stdin",
     "output_type": "stream",
     "text": [
      "Enter your answer (A/B/C/D):  c\n"
     ]
    },
    {
     "name": "stdout",
     "output_type": "stream",
     "text": [
      "Correct!\n",
      "\n",
      "Who wrote 'Romeo and Juliet'?\n",
      "A. Charles Dickens\n",
      "B. Jane Austen\n",
      "C. William Shakespeare\n",
      "D. J.K. Rowling\n"
     ]
    },
    {
     "name": "stdin",
     "output_type": "stream",
     "text": [
      "Enter your answer (A/B/C/D):  c\n"
     ]
    },
    {
     "name": "stdout",
     "output_type": "stream",
     "text": [
      "Correct!\n",
      "\n",
      "What is the capital of France?\n",
      "A. Paris\n",
      "B. London\n",
      "C. Berlin\n",
      "D. Madrid\n"
     ]
    },
    {
     "name": "stdin",
     "output_type": "stream",
     "text": [
      "Enter your answer (A/B/C/D):  a\n"
     ]
    },
    {
     "name": "stdout",
     "output_type": "stream",
     "text": [
      "Correct!\n",
      "\n",
      "Which planet is known as the Red Planet?\n",
      "A. Venus\n",
      "B. Mars\n",
      "C. Jupiter\n",
      "D. Saturn\n"
     ]
    },
    {
     "name": "stdin",
     "output_type": "stream",
     "text": [
      "Enter your answer (A/B/C/D):  b\n"
     ]
    },
    {
     "name": "stdout",
     "output_type": "stream",
     "text": [
      "Correct!\n",
      "\n",
      "Your final score is: 5/5\n"
     ]
    }
   ],
   "source": [
    "import random\n",
    "\n",
    "# Define a dictionary of quiz questions and answers\n",
    "quiz_questions = {\n",
    "    \"What is the capital of France?\": [\"A. Paris\", \"B. London\", \"C. Berlin\", \"D. Madrid\", \"A\"],\n",
    "    \"Which planet is known as the Red Planet?\": [\"A. Venus\", \"B. Mars\", \"C. Jupiter\", \"D. Saturn\", \"B\"],\n",
    "    \"What is the largest mammal in the world?\": [\"A. Elephant\", \"B. Giraffe\", \"C. Blue Whale\", \"D. Dolphin\", \"C\"],\n",
    "    \"Who wrote 'Romeo and Juliet'?\": [\"A. Charles Dickens\", \"B. Jane Austen\", \"C. William Shakespeare\", \"D. J.K. Rowling\", \"C\"],\n",
    "    \"What is the chemical symbol for gold?\": [\"A. Au\", \"B. Ag\", \"C. Fe\", \"D. Hg\", \"A\"]\n",
    "}\n",
    "\n",
    "# Function to present a question and get the user's answer\n",
    "def ask_question(question, choices):\n",
    "    print(question)\n",
    "    for choice in choices:\n",
    "        print(choice)\n",
    "    user_answer = input(\"Enter your answer (A/B/C/D): \").strip().upper()\n",
    "    return user_answer\n",
    "\n",
    "# Function to check the user's answer and update the score\n",
    "def check_answer(question, user_answer, correct_answer, score):\n",
    "    if user_answer == correct_answer:\n",
    "        print(\"Correct!\\n\")\n",
    "        return score + 1\n",
    "    else:\n",
    "        print(f\"Wrong! The correct answer is {correct_answer}.\\n\")\n",
    "        return score\n",
    "\n",
    "# Function to display the final score\n",
    "def display_score(score):\n",
    "    print(f\"Your final score is: {score}/{len(quiz_questions)}\")\n",
    "\n",
    "# Shuffle the quiz questions for variety\n",
    "questions = list(quiz_questions.keys())\n",
    "random.shuffle(questions)\n",
    "\n",
    "# Initialize the score\n",
    "score = 0\n",
    "\n",
    "# Start the quiz game\n",
    "print(\"Welcome to the Quiz Game!\")\n",
    "for question in questions:\n",
    "    choices = quiz_questions[question][:-1]  # Exclude the last element (correct answer)\n",
    "    correct_answer = quiz_questions[question][-1]\n",
    "    user_answer = ask_question(question, choices)\n",
    "    score = check_answer(question, user_answer, correct_answer, score)\n",
    "\n",
    "# Display the final score\n",
    "display_score(score)"
   ]
  },
  {
   "cell_type": "markdown",
   "id": "6606fa69-d0cf-4555-bc3a-a086079698dc",
   "metadata": {},
   "source": [
    "27. Develop a program that determines whether a given year is a prime number or not."
   ]
  },
  {
   "cell_type": "code",
   "execution_count": 88,
   "id": "35e82b33-d228-45a9-b8f3-e6720209b6c2",
   "metadata": {},
   "outputs": [
    {
     "name": "stdin",
     "output_type": "stream",
     "text": [
      "Enter a year:  1997\n"
     ]
    },
    {
     "name": "stdout",
     "output_type": "stream",
     "text": [
      "1997 is prime\n"
     ]
    }
   ],
   "source": [
    "n = int(input(\"Enter a year: \"))\n",
    "is_prime = True\n",
    "if n <=1:\n",
    "    print(\"{n} is not prime\")\n",
    "else:\n",
    "    for i in range(2, int(n/2)+1):\n",
    "        if n % i == 0:\n",
    "            is_prime = False\n",
    "            break\n",
    "        \n",
    "if is_prime:\n",
    "    print(f\"{n} is prime\")\n",
    "else:        \n",
    "    print(f\"{n} is not prime\")"
   ]
  },
  {
   "cell_type": "markdown",
   "id": "2b8fa82a-85d6-46cd-99a4-6f2e912a675b",
   "metadata": {},
   "source": [
    "28. Create a program that sorts three numbers in ascending order using conditional statements."
   ]
  },
  {
   "cell_type": "code",
   "execution_count": 3,
   "id": "c77dce2c-5131-4f0c-9ca5-2608fcaa780b",
   "metadata": {},
   "outputs": [
    {
     "name": "stdin",
     "output_type": "stream",
     "text": [
      "Enter a number 1:  51\n",
      "Enter a number 2:  48\n",
      "Enter a number 3:  0\n"
     ]
    },
    {
     "name": "stdout",
     "output_type": "stream",
     "text": [
      "ascending order\n",
      "0 < 48 < 51\n"
     ]
    }
   ],
   "source": [
    "n1 = int(input(\"Enter a number 1: \"))\n",
    "n2 = int(input(\"Enter a number 2: \"))\n",
    "n3 = int(input(\"Enter a number 3: \"))\n",
    "\n",
    "print(\"ascending order\")\n",
    "if(n1>n2>n3):\n",
    "    print(f\"{n3} < {n2} < {n1}\")\n",
    "elif(n1>n3>n2):\n",
    "    print(f\"{n2} < {n3} < {n1}\")\n",
    "elif(n2>n3>n1):\n",
    "    print(f\"{n1} < {n3} < {n2}\")\n",
    "elif(n3>n2>n1):\n",
    "    print(f\"{n1} < {n2} < {n3}\")\n",
    "elif(n3>n1>n2):\n",
    "    print(f\"{n2} < {n1} < {n3}\")\n",
    "elif(n2>n1>n3):\n",
    "    print(f\"{n3} < {n1} < {n2}\")\n",
    "else:\n",
    "    print(\"Enter valid numbers\")\n",
    "        "
   ]
  },
  {
   "cell_type": "markdown",
   "id": "7838044e-5b6e-46cd-9612-7d84c20f7704",
   "metadata": {},
   "source": [
    "29. Build a program that determines the roots of a quartic equation using numerical methods.\n"
   ]
  },
  {
   "cell_type": "code",
   "execution_count": 10,
   "id": "a9a298d8-a84c-461e-b74d-26438c241130",
   "metadata": {},
   "outputs": [
    {
     "name": "stdin",
     "output_type": "stream",
     "text": [
      "Enter coefficient of x^2 ie a:  1\n",
      "Enter coefficient of x ie b:  -5\n",
      "Enter coefficient of constant ie c:  -6\n"
     ]
    },
    {
     "name": "stdout",
     "output_type": "stream",
     "text": [
      "The root of equation: 1.0x^2 + -5.0x + -6.0 = 0 is\n",
      "Root: -1.0 and 6.0\n"
     ]
    }
   ],
   "source": [
    "#ax^2 + bx + c = 0\n",
    "''' b >= 0\n",
    "    x1 = (-b - ((b**2) - (4*a*c))**(0.5)) / (2*a)\n",
    "    x2 = (2*c) / (-b - ((b**2) - (4*a*c))**(0.5))\n",
    "    \n",
    "    b < 0\n",
    "    x1 = (2*c) / (-b + ((b**2) - (4*a*c))**(0.5)) \n",
    "    x2 = (-b + ((b**2) - (4*a*c))**(0.5)) / (2*a)\n",
    "'''\n",
    "a = float(input(\"Enter coefficient of x^2 ie a: \"))\n",
    "b = float(input(\"Enter coefficient of x ie b: \"))\n",
    "c = float(input(\"Enter coefficient of constant ie c: \"))\n",
    "\n",
    "if b >= 0 :\n",
    "    x1 = round((-b - ((b**2) - (4*a*c))**(0.5)) / (2*a),3)\n",
    "    x2 = round((2*c) / (-b - ((b**2) - (4*a*c))**(0.5)), 3)\n",
    "    \n",
    "    print(f\"The root of equation: {a}x^2 + {b}x + {c} = 0 is\")\n",
    "    print(f\"Root: {x1} and {x2}\")\n",
    "elif b < 0 :\n",
    "    x1 = round((2*c) / (-b + ((b**2) - (4*a*c))**(0.5)), 3)\n",
    "    x2 = round((-b + ((b**2) - (4*a*c))**(0.5)) / (2*a), 3) \n",
    "    print(f\"The root of equation: {a}x^2 + {b}x + {c} = 0 is\")\n",
    "    print(f\"Root: {x1} and {x2}\")\n",
    "else:\n",
    "    print(\"Enter a valid input\")"
   ]
  },
  {
   "cell_type": "markdown",
   "id": "bdecbf84-ee91-43fb-a8bf-8c8d738a3f71",
   "metadata": {},
   "source": [
    "30. Write a program that calculates the BMI (Body Mass Index) and provides health recommendations based on the user's input."
   ]
  },
  {
   "cell_type": "code",
   "execution_count": 13,
   "id": "11033ffc-d1d6-4ff7-a239-039f54286492",
   "metadata": {},
   "outputs": [
    {
     "name": "stdin",
     "output_type": "stream",
     "text": [
      "Enter a weight in Kg:  89\n",
      "Enter a height in meter:  1.65\n"
     ]
    },
    {
     "name": "stdout",
     "output_type": "stream",
     "text": [
      "Obese Class I\n",
      "Health Recommendation\n",
      "You are obese. It's important to consult a doctor and make healthy lifestyle changes.\n"
     ]
    }
   ],
   "source": [
    "#BMI is weight in kilograms divided by height in meters squared\n",
    "w = float(input(\"Enter a weight in Kg: \"))\n",
    "h = float(input(\"Enter a height in meter: \"))\n",
    "\n",
    "bmi = w / (h**2)\n",
    "\n",
    "if bmi < 16: \n",
    "    print(\"Severe Thinness\")\n",
    "elif 16 <= bmi < 17:\n",
    "    print(\"Moderate Thinness\")\n",
    "elif 17 <= bmi < 18.5:\n",
    "    print(\"Mild Thinness\")\n",
    "elif 18.5 <= bmi < 25:\n",
    "    print(\"Normal\")\n",
    "elif 25 <= bmi < 30:\n",
    "    print(\"Overweight\")\n",
    "elif 30 <= bmi < 35:\n",
    "    print(\"Obese Class I\")\n",
    "elif 35 <= bmi < 40:\n",
    "    print(\"Obese Class II\")\n",
    "else:\n",
    "    print(\"Obese Class III\")\n",
    "    \n",
    "print(\"Health Recommendation\")\n",
    "\n",
    "if bmi < 18.5:\n",
    "    print(\"You are underweight. Consider increasing your calorie intake and consulting a doctor.\")\n",
    "elif 18.5 <= bmi < 25:\n",
    "    print(\"You have a healthy weight. Keep up the good work!\")\n",
    "elif 25 <= bmi < 30:\n",
    "    print(\"You are overweight. Consider reducing your calorie intake and increasing physical activity.\")\n",
    "else:\n",
    "    print(\"You are obese. It's important to consult a doctor and make healthy lifestyle changes.\")"
   ]
  },
  {
   "cell_type": "markdown",
   "id": "48d63612-fc49-43de-a0a2-1259b144f03d",
   "metadata": {},
   "source": [
    "Challenge Level:"
   ]
  },
  {
   "cell_type": "markdown",
   "id": "3a529344-5466-44dc-92ce-f925eff149d1",
   "metadata": {},
   "source": [
    "31. Create a program that validates a password based on complexity rules (length, characters, etc.)."
   ]
  },
  {
   "cell_type": "code",
   "execution_count": 1,
   "id": "e2f989cc-e930-49d4-a486-3d85b3b7fb6e",
   "metadata": {},
   "outputs": [
    {
     "name": "stdin",
     "output_type": "stream",
     "text": [
      "Enter a password:  pw@Skill\n"
     ]
    },
    {
     "name": "stdout",
     "output_type": "stream",
     "text": [
      "Password must contain at least one digit.\n"
     ]
    }
   ],
   "source": [
    "import re\n",
    "\n",
    "def validate_password(password):\n",
    "    if len(password) < 8:\n",
    "        return \"Password must be at least 8 characters long.\"\n",
    "    if not any(char.isupper() for char in password):\n",
    "        return \"Password must contain at least one uppercase letter.\"\n",
    "    if not any(char.islower() for char in password):\n",
    "        return \"Password must contain at least one lowercase letter.\"\n",
    "    if not any(char.isdigit() for char in password):\n",
    "        return \"Password must contain at least one digit.\"\n",
    "    if not re.search(r'[!@#\\$]', password):\n",
    "        return \"Password must contain at least one special character (!, @, #, $).\"\n",
    "    return \"Password is valid.\"\n",
    "password = input(\"Enter a password: \")\n",
    "result = validate_password(password)\n",
    "print(result)"
   ]
  },
  {
   "cell_type": "markdown",
   "id": "86ec76b3-0dca-4c19-a6ac-34709b486c2b",
   "metadata": {},
   "source": [
    "32. Develop a program that performs matrix addition and subtraction based on user input."
   ]
  },
  {
   "cell_type": "code",
   "execution_count": 2,
   "id": "b767a04e-c036-4845-8081-8d2291d18100",
   "metadata": {},
   "outputs": [
    {
     "name": "stdout",
     "output_type": "stream",
     "text": [
      "Enter the Matrix\n"
     ]
    },
    {
     "name": "stdin",
     "output_type": "stream",
     "text": [
      "Enter the number of rows:  2\n",
      "Enter the number of columns:  2\n"
     ]
    },
    {
     "name": "stdout",
     "output_type": "stream",
     "text": [
      "Enter the elemts of matrix A\n"
     ]
    },
    {
     "name": "stdin",
     "output_type": "stream",
     "text": [
      "Enter element at row 1, column 1:  1\n",
      "Enter element at row 1, column 2:  2\n",
      "Enter element at row 2, column 1:  3\n",
      "Enter element at row 2, column 2:  4\n"
     ]
    },
    {
     "name": "stdout",
     "output_type": "stream",
     "text": [
      "Enter the elemts of matrix B\n"
     ]
    },
    {
     "name": "stdin",
     "output_type": "stream",
     "text": [
      "Enter element at row 1, column 1:  1\n",
      "Enter element at row 1, column 2:  2\n",
      "Enter element at row 2, column 1:  3\n",
      "Enter element at row 2, column 2:  4\n"
     ]
    },
    {
     "name": "stdout",
     "output_type": "stream",
     "text": [
      "1. Addition\n",
      "2. Subtraction\n"
     ]
    },
    {
     "name": "stdin",
     "output_type": "stream",
     "text": [
      "Enter desired matrix operation (1 or 2):  1\n"
     ]
    },
    {
     "name": "stdout",
     "output_type": "stream",
     "text": [
      "\n",
      "Matrix Addition Result:\n",
      "[2.0, 4.0]\n",
      "[6.0, 8.0]\n"
     ]
    }
   ],
   "source": [
    "print (\"Enter the Matrix Dimensions\")\n",
    "\n",
    "m = int(input(\"Enter the number of rows: \"))\n",
    "n = int(input(\"Enter the number of columns: \"))\n",
    "\n",
    "\n",
    "print(f\"Enter the elemts of matrix A\")\n",
    "matrix_A = []\n",
    "for i in range(1,m+1):\n",
    "    row = []\n",
    "    for j in range(1, n+1):        \n",
    "        element = float(input(f\"Enter element at row {i}, column {j}: \"))\n",
    "        row.append(element)\n",
    "    matrix_A.append(row)\n",
    "        \n",
    "print(f\"Enter the elemts of matrix B\")\n",
    "matrix_B = []\n",
    "for i in range(1,m+1):\n",
    "    row = []\n",
    "    for j in range(1, n+1):       \n",
    "        element = float(input(f\"Enter element at row {i}, column {j}: \"))\n",
    "        row.append(element)\n",
    "    matrix_B.append(row)\n",
    "    \n",
    "print(\"1. Addition\")\n",
    "print(\"2. Subtraction\")\n",
    "option = int(input(\"Enter desired matrix operation (1 or 2): \"))\n",
    "\n",
    "if option == 1:\n",
    "    add_result = []\n",
    "    for i in range(len(matrix_A)):\n",
    "        row = []\n",
    "        for j in range(len(matrix_A[0])):\n",
    "            row.append(matrix_A[i][j] + matrix_B[i][j])\n",
    "        add_result.append(row)\n",
    "        \n",
    "    print(\"\\nMatrix Addition Result:\")\n",
    "    for row in add_result:\n",
    "        print(row)\n",
    "\n",
    "elif option == 2:\n",
    "    sub_result = []\n",
    "    for i in range(len(matrix_A)):\n",
    "        row = []\n",
    "        for j in range(len(matrix_A[0])):\n",
    "            row.append(matrix_A[i][j] - matrix_B[i][j])\n",
    "        sub_result.append(row)\n",
    "        \n",
    "    print(\"\\nMatrix Addition Result:\")\n",
    "    for row in sub_result:\n",
    "        print(row)\n",
    "else:\n",
    "    print(\"Invalid option\")"
   ]
  },
  {
   "cell_type": "markdown",
   "id": "f81cd517-e123-43ca-81bd-eebfcfbdb86c",
   "metadata": {},
   "source": [
    "33. Write a program that calculates the greatest common divisor (GCD) of two numbers using the Euclidean algorithm."
   ]
  },
  {
   "cell_type": "code",
   "execution_count": 3,
   "id": "00e9944e-7b70-4837-a0bd-dc7936d1dd44",
   "metadata": {},
   "outputs": [
    {
     "name": "stdin",
     "output_type": "stream",
     "text": [
      "Enter the number1:  5\n",
      "Enter the number2:  20\n"
     ]
    },
    {
     "name": "stdout",
     "output_type": "stream",
     "text": [
      "GCD of 5 and 20 is 5\n"
     ]
    }
   ],
   "source": [
    "def GCD(x,y):\n",
    "    if y == 0:\n",
    "        return x\n",
    "    else:\n",
    "        return GCD(y, x%y)\n",
    "\n",
    "m = int(input(\"Enter the number1: \"))\n",
    "n = int(input(\"Enter the number2: \"))\n",
    "print(f\"GCD of {m} and {n} is {GCD(m,n)}\")"
   ]
  },
  {
   "cell_type": "markdown",
   "id": "3d133953-cd3f-44c8-960e-db94a4f86726",
   "metadata": {},
   "source": [
    "34. Build a program that performs matrix multiplication using nested loops and conditional statements."
   ]
  },
  {
   "cell_type": "code",
   "execution_count": 7,
   "id": "563d77d4-dae7-4319-ad26-111f56822523",
   "metadata": {},
   "outputs": [
    {
     "name": "stdout",
     "output_type": "stream",
     "text": [
      "Enter the Dimensions Matrix  A\n"
     ]
    },
    {
     "name": "stdin",
     "output_type": "stream",
     "text": [
      "Enter the number of rows:  2\n",
      "Enter the number of columns:  2\n"
     ]
    },
    {
     "name": "stdout",
     "output_type": "stream",
     "text": [
      "Enter the Dimensions Matrix  B\n"
     ]
    },
    {
     "name": "stdin",
     "output_type": "stream",
     "text": [
      "Enter the number of rows:  2\n",
      "Enter the number of columns:  3\n"
     ]
    },
    {
     "name": "stdout",
     "output_type": "stream",
     "text": [
      "Enter the elemts of matrix A\n"
     ]
    },
    {
     "name": "stdin",
     "output_type": "stream",
     "text": [
      "Enter element at row 1, column 1:  1\n",
      "Enter element at row 1, column 2:  2\n",
      "Enter element at row 2, column 1:  3\n",
      "Enter element at row 2, column 2:  4\n"
     ]
    },
    {
     "name": "stdout",
     "output_type": "stream",
     "text": [
      "Enter the elemts of matrix B\n"
     ]
    },
    {
     "name": "stdin",
     "output_type": "stream",
     "text": [
      "Enter element at row 1, column 1:  5\n",
      "Enter element at row 1, column 2:  6\n",
      "Enter element at row 1, column 3:  7\n",
      "Enter element at row 2, column 1:  8\n",
      "Enter element at row 2, column 2:  9\n",
      "Enter element at row 2, column 3:  0\n"
     ]
    },
    {
     "name": "stdout",
     "output_type": "stream",
     "text": [
      "------------------RESULT-----------------\n",
      "[21.0, 24.0, 7.0]\n",
      "[47.0, 54.0, 21.0]\n"
     ]
    }
   ],
   "source": [
    "print (\"Enter the Dimensions Matrix  A\")\n",
    "m1 = int(input(\"Enter the number of rows: \"))\n",
    "n1 = int(input(\"Enter the number of columns: \"))\n",
    "\n",
    "print (\"Enter the Dimensions Matrix  B\")\n",
    "m2 = int(input(\"Enter the number of rows: \"))\n",
    "n2 = int(input(\"Enter the number of columns: \"))\n",
    "\n",
    "if n1 != m2:\n",
    "    print(\"Matrix multiplication is invalid\")\n",
    "else:\n",
    "    print(f\"Enter the elemts of matrix A\")\n",
    "    matrix_A = []\n",
    "    for i in range(1,m1+1):\n",
    "        row = []\n",
    "        for j in range(1, n1+1):        \n",
    "            element = float(input(f\"Enter element at row {i}, column {j}: \"))\n",
    "            row.append(element)\n",
    "        matrix_A.append(row)\n",
    "\n",
    "    print(f\"Enter the elemts of matrix B\")\n",
    "    matrix_B = []\n",
    "    for i in range(1,m2+1):\n",
    "        row = []\n",
    "        for j in range(1, n2+1):       \n",
    "            element = float(input(f\"Enter element at row {i}, column {j}: \"))\n",
    "            row.append(element)\n",
    "        matrix_B.append(row)\n",
    "    print(\"------------------RESULT-----------------\")\n",
    "    result = []\n",
    "    for i in range(len(matrix_A)):\n",
    "        row = []\n",
    "        for j in range(len(matrix_B[0])):\n",
    "            total = 0\n",
    "            for k in range(len(matrix_B)):\n",
    "                total += matrix_A[i][k] * matrix_B[k][j]\n",
    "            row.append(total)\n",
    "        result.append(row)\n",
    "    for row in result:\n",
    "        print(row)"
   ]
  },
  {
   "cell_type": "markdown",
   "id": "55d9eb49-489c-4f46-a17d-43cdb7cef72f",
   "metadata": {},
   "source": [
    "35. Create a program that simulates a basic text-based tic-tac-toe game against the computer."
   ]
  },
  {
   "cell_type": "code",
   "execution_count": 10,
   "id": "d6d125ee-1936-426a-84c5-9fdf40d19f80",
   "metadata": {},
   "outputs": [
    {
     "name": "stdout",
     "output_type": "stream",
     "text": [
      "Welcome to Tic-Tac-Toe!\n",
      "  |   |  \n",
      "-------------\n",
      "  |   |  \n",
      "-------------\n",
      "  |   |  \n",
      "-------------\n"
     ]
    },
    {
     "name": "stdin",
     "output_type": "stream",
     "text": [
      "Enter your move (row and column, e.g., 1 2):  1 1\n"
     ]
    },
    {
     "name": "stdout",
     "output_type": "stream",
     "text": [
      "X |   |  \n",
      "-------------\n",
      "  |   |  \n",
      "-------------\n",
      "  |   |  \n",
      "-------------\n",
      "X |   |  \n",
      "-------------\n",
      "  |   |  \n",
      "-------------\n",
      "  | O |  \n",
      "-------------\n"
     ]
    },
    {
     "name": "stdin",
     "output_type": "stream",
     "text": [
      "Enter your move (row and column, e.g., 1 2):  2 2\n"
     ]
    },
    {
     "name": "stdout",
     "output_type": "stream",
     "text": [
      "X |   |  \n",
      "-------------\n",
      "  | X |  \n",
      "-------------\n",
      "  | O |  \n",
      "-------------\n",
      "X |   |  \n",
      "-------------\n",
      "  | X |  \n",
      "-------------\n",
      "  | O | O\n",
      "-------------\n"
     ]
    },
    {
     "name": "stdin",
     "output_type": "stream",
     "text": [
      "Enter your move (row and column, e.g., 1 2):  1 3\n"
     ]
    },
    {
     "name": "stdout",
     "output_type": "stream",
     "text": [
      "X |   | X\n",
      "-------------\n",
      "  | X |  \n",
      "-------------\n",
      "  | O | O\n",
      "-------------\n",
      "X |   | X\n",
      "-------------\n",
      "  | X |  \n",
      "-------------\n",
      "O | O | O\n",
      "-------------\n",
      "Computer wins. Better luck next time!\n"
     ]
    }
   ],
   "source": [
    "import random\n",
    "\n",
    "# Function to print the game board\n",
    "def print_board(board):\n",
    "    for row in board:\n",
    "        print(\" | \".join(row))\n",
    "        print(\"-\" * 13)\n",
    "\n",
    "# Function to check if a player has won\n",
    "def check_win(board, player):\n",
    "    for row in board:\n",
    "        if all(cell == player for cell in row):\n",
    "            return True\n",
    "    for col in range(3):\n",
    "        if all(board[row][col] == player for row in range(3)):\n",
    "            return True\n",
    "    if all(board[i][i] == player for i in range(3)) or all(board[i][2 - i] == player for i in range(3)):\n",
    "        return True\n",
    "    return False\n",
    "\n",
    "# Function to check if the board is full\n",
    "def is_board_full(board):\n",
    "    return all(cell != \" \" for row in board for cell in row)\n",
    "\n",
    "# Function for the computer's move\n",
    "def computer_move(board, computer, player):\n",
    "    for row in range(3):\n",
    "        for col in range(3):\n",
    "            if board[row][col] == \" \":\n",
    "                board[row][col] = computer\n",
    "                if check_win(board, computer):\n",
    "                    return row, col\n",
    "                board[row][col] = \" \"\n",
    "    \n",
    "    for row in range(3):\n",
    "        for col in range(3):\n",
    "            if board[row][col] == \" \":\n",
    "                board[row][col] = player\n",
    "                if check_win(board, player):\n",
    "                    return row, col\n",
    "                board[row][col] = \" \"\n",
    "\n",
    "    while True:\n",
    "        row = random.randint(0, 2)\n",
    "        col = random.randint(0, 2)\n",
    "        if board[row][col] == \" \":\n",
    "            return row, col\n",
    "\n",
    "# Initialize the game\n",
    "board = [[\" \" for _ in range(3)] for _ in range(3)]\n",
    "player = \"X\"\n",
    "computer = \"O\"\n",
    "turn = \"player\"\n",
    "\n",
    "print(\"Welcome to Tic-Tac-Toe!\")\n",
    "print_board(board)\n",
    "\n",
    "# Game loop\n",
    "while True:\n",
    "    if turn == \"player\":\n",
    "        row, col = map(int, input(\"Enter your move (row and column, e.g., 1 2): \").split())\n",
    "        if board[row - 1][col - 1] != \" \":\n",
    "            print(\"Invalid move. Try again.\")\n",
    "            continue\n",
    "        board[row - 1][col - 1] = player\n",
    "    else:\n",
    "        row, col = computer_move(board, computer, player)\n",
    "        board[row][col] = computer\n",
    "\n",
    "    print_board(board)\n",
    "\n",
    "    if check_win(board, player):\n",
    "        print(\"Congratulations! You win!\")\n",
    "        break\n",
    "    elif check_win(board, computer):\n",
    "        print(\"Computer wins. Better luck next time!\")\n",
    "        break\n",
    "    elif is_board_full(board):\n",
    "        print(\"It's a tie!\")\n",
    "        break\n",
    "\n",
    "    turn = \"computer\" if turn == \"player\" else \"player\"\n"
   ]
  },
  {
   "cell_type": "markdown",
   "id": "d2293320-516a-4114-aefb-fa32c454ee7d",
   "metadata": {},
   "source": [
    "36. Write a program that generates Fibonacci numbers up to a specified term using iterative methods."
   ]
  },
  {
   "cell_type": "code",
   "execution_count": 15,
   "id": "f5c8f584-48be-4987-bac0-be77b77a5615",
   "metadata": {},
   "outputs": [
    {
     "name": "stdin",
     "output_type": "stream",
     "text": [
      "Enter number to generate fibonacci seires:  10\n"
     ]
    },
    {
     "data": {
      "text/plain": [
       "[0, 1, 1, 2, 3, 5, 8, 13, 21, 34]"
      ]
     },
     "execution_count": 15,
     "metadata": {},
     "output_type": "execute_result"
    }
   ],
   "source": [
    "def fibonacci(n):\n",
    "    fib_list = [0, 1]\n",
    "    \n",
    "    for i in range(2, n):\n",
    "        new = fib_list[i -1] + fib_list[i-2]\n",
    "        fib_list.append(new)\n",
    "    return fib_list\n",
    "n = int(input(\"Enter number to generate fibonacci seires: \"))\n",
    "fibonacci(n)"
   ]
  },
  {
   "cell_type": "markdown",
   "id": "15b1efd9-d801-431b-84d3-435bd2cc1b2c",
   "metadata": {},
   "source": [
    "37. Develop a program that calculates the nth term of the Fibonacci sequence using memoization."
   ]
  },
  {
   "cell_type": "code",
   "execution_count": 16,
   "id": "7e09d14e-142f-4975-911e-401d16429760",
   "metadata": {},
   "outputs": [
    {
     "name": "stdin",
     "output_type": "stream",
     "text": [
      "Enter nth term for Fibonacci sequence:  10\n"
     ]
    },
    {
     "data": {
      "text/plain": [
       "55"
      ]
     },
     "execution_count": 16,
     "metadata": {},
     "output_type": "execute_result"
    }
   ],
   "source": [
    "def fib(n):\n",
    "    if n == 0:\n",
    "        return 0\n",
    "    elif n == 1 or n == 2:\n",
    "        return 1\n",
    "    else:\n",
    "        return fib(n-1) + fib(n-2) \n",
    "n = int(input(\"Enter nth term for Fibonacci sequence: \"))\n",
    "\n",
    "fib(n)"
   ]
  },
  {
   "cell_type": "markdown",
   "id": "593dbd33-d8c2-4173-b81f-adc942257759",
   "metadata": {},
   "source": [
    "38. Create a program that generates a calendar for a given month and year using conditional statements."
   ]
  },
  {
   "cell_type": "code",
   "execution_count": 5,
   "id": "15f1708c-5d70-44af-ae3b-06a3af367ca8",
   "metadata": {},
   "outputs": [
    {
     "name": "stdin",
     "output_type": "stream",
     "text": [
      "Enter the year:  2023\n",
      "Enter the month:  9\n"
     ]
    },
    {
     "name": "stdout",
     "output_type": "stream",
     "text": [
      "Calendar for September 2023:\n",
      "\n",
      "   September 2023\n",
      "Mo Tu We Th Fr Sa Su\n",
      "             1  2  3\n",
      " 4  5  6  7  8  9 10\n",
      "11 12 13 14 15 16 17\n",
      "18 19 20 21 22 23 24\n",
      "25 26 27 28 29 30\n",
      "\n"
     ]
    }
   ],
   "source": [
    "import calendar\n",
    "\n",
    "def month_year(year, month):\n",
    "    cal = calendar.month(year, month)\n",
    "    print(f\"Calendar for {calendar.month_name[month]} {year}:\\n\")\n",
    "    print(cal)\n",
    "\n",
    "year = int(input(\"Enter the year: \"))\n",
    "month = int(input(\"Enter the month: \"))\n",
    "\n",
    "if 1 <= month <= 12:\n",
    "    month_year(year, month)\n",
    "else:\n",
    "    print(\"Invalid month. Please enter a month between 1 and 12.\")"
   ]
  },
  {
   "cell_type": "markdown",
   "id": "09e389ba-2dc0-403e-a0cd-09c010e0debf",
   "metadata": {},
   "source": [
    "39. Build a program that simulates a basic text-based blackjack game against the computer."
   ]
  },
  {
   "cell_type": "code",
   "execution_count": 8,
   "id": "ecbf3aa7-a5ed-4da0-9cc5-6569daea36e6",
   "metadata": {},
   "outputs": [
    {
     "name": "stdout",
     "output_type": "stream",
     "text": [
      "Cards Player Has: [('6', 'Clubs'), ('3', 'Diamonds')]\n",
      "Score Of The Player: 9\n",
      "\n",
      "\n"
     ]
    },
    {
     "name": "stdin",
     "output_type": "stream",
     "text": [
      "What do you want? [\"play\" to request another card, \"stop\" to stop]:  play\n"
     ]
    },
    {
     "name": "stdout",
     "output_type": "stream",
     "text": [
      "Cards Player Has: [('6', 'Clubs'), ('3', 'Diamonds'), ('Queen', 'Clubs')]\n",
      "Score Of The Player: 19\n",
      "\n",
      "\n"
     ]
    },
    {
     "name": "stdin",
     "output_type": "stream",
     "text": [
      "What do you want? [\"play\" to request another card, \"stop\" to stop]:  play\n"
     ]
    },
    {
     "name": "stdout",
     "output_type": "stream",
     "text": [
      "Cards Player Has: [('6', 'Clubs'), ('3', 'Diamonds'), ('Queen', 'Clubs'), ('10', 'Diamonds')]\n",
      "Score Of The Player: 29\n",
      "\n",
      "\n"
     ]
    },
    {
     "name": "stdin",
     "output_type": "stream",
     "text": [
      "What do you want? [\"play\" to request another card, \"stop\" to stop]:  stop\n"
     ]
    },
    {
     "name": "stdout",
     "output_type": "stream",
     "text": [
      "Cards Dealer Has: [('9', 'Clubs'), ('3', 'Spades'), ('2', 'Clubs'), ('4', 'Hearts')]\n",
      "Score Of The Dealer: 18\n",
      "\n",
      "\n",
      "Cards Dealer Has: [('9', 'Clubs'), ('3', 'Spades'), ('2', 'Clubs'), ('4', 'Hearts')]\n",
      "Score Of The Dealer: 18\n",
      "Cards Player Has: [('6', 'Clubs'), ('3', 'Diamonds'), ('Queen', 'Clubs'), ('10', 'Diamonds')]\n",
      "Score Of The Player: 29\n",
      "Player wins (Player Has High Score than Dealer)\n"
     ]
    }
   ],
   "source": [
    "import random\n",
    "  \n",
    "card_categories = ['Hearts', 'Diamonds', 'Clubs', 'Spades']\n",
    "cards_list = ['Ace', '2', '3', '4', '5', '6', '7', '8', '9', '10', 'Jack', 'Queen', 'King']\n",
    "deck = [(card, category) for category in card_categories for card in cards_list]\n",
    "  \n",
    "def card_value(card):\n",
    "    if card[0] in ['Jack', 'Queen', 'King']:\n",
    "        return 10\n",
    "    elif card[0] == 'Ace':\n",
    "        return 11\n",
    "    else:\n",
    "        return int(card[0])\n",
    "  \n",
    "random.shuffle(deck)\n",
    "player_card = [deck.pop(), deck.pop()]\n",
    "dealer_card = [deck.pop(), deck.pop()]\n",
    "  \n",
    "while True:\n",
    "    player_score = sum(card_value(card) for card in player_card)\n",
    "    dealer_score = sum(card_value(card) for card in dealer_card)\n",
    "    print(\"Cards Player Has:\", player_card)\n",
    "    print(\"Score Of The Player:\", player_score)\n",
    "    print(\"\\n\")\n",
    "    choice = input('What do you want? [\"play\" to request another card, \"stop\" to stop]: ').lower()\n",
    "    if choice == \"play\":\n",
    "        new_card = deck.pop()\n",
    "        player_card.append(new_card)\n",
    "    elif choice == \"stop\":\n",
    "        break\n",
    "    else:\n",
    "        print(\"Invalid choice. Please try again.\")\n",
    "        continue\n",
    "  \n",
    "    if player_score > 21:\n",
    "        print(\"Cards Dealer Has:\", dealer_card)\n",
    "        print(\"Score Of The Dealer:\", dealer_score)\n",
    "        print(\"Cards Player Has:\", player_card)\n",
    "        print(\"Score Of The Player:\", player_score)\n",
    "        print(\"Dealer wins (Player Loss Because Player Score is exceeding 21)\")\n",
    "        break\n",
    "  \n",
    "while dealer_score < 17:\n",
    "    new_card = deck.pop()\n",
    "    dealer_card.append(new_card)\n",
    "    dealer_score += card_value(new_card)\n",
    "  \n",
    "print(\"Cards Dealer Has:\", dealer_card)\n",
    "print(\"Score Of The Dealer:\", dealer_score)\n",
    "print(\"\\n\")\n",
    "  \n",
    "if dealer_score > 21:\n",
    "    print(\"Cards Dealer Has:\", dealer_card)\n",
    "    print(\"Score Of The Dealer:\", dealer_score)\n",
    "    print(\"Cards Player Has:\", player_card)\n",
    "    print(\"Score Of The Player:\", player_score)\n",
    "    print(\"Player wins (Dealer Loss Because Dealer Score is exceeding 21)\")\n",
    "elif player_score > dealer_score:\n",
    "    print(\"Cards Dealer Has:\", dealer_card)\n",
    "    print(\"Score Of The Dealer:\", dealer_score)\n",
    "    print(\"Cards Player Has:\", player_card)\n",
    "    print(\"Score Of The Player:\", player_score)\n",
    "    print(\"Player wins (Player Has High Score than Dealer)\")\n",
    "elif dealer_score > player_score:\n",
    "    print(\"Cards Dealer Has:\", dealer_card)\n",
    "    print(\"Score Of The Dealer:\", dealer_score)\n",
    "    print(\"Cards Player Has:\", player_card)\n",
    "    print(\"Score Of The Player:\", player_score)\n",
    "    print(\"Dealer wins (Dealer Has High Score than Player)\")\n",
    "else:\n",
    "    print(\"Cards Dealer Has:\", dealer_card)\n",
    "    print(\"Score Of The Dealer:\", dealer_score)\n",
    "    print(\"Cards Player Has:\", player_card)\n",
    "    print(\"Score Of The Player:\", player_score)\n",
    "    print(\"It's a tie.\")"
   ]
  },
  {
   "cell_type": "markdown",
   "id": "5a9c4a0d-9332-4ef5-8f73-86f52bfaf5d5",
   "metadata": {},
   "source": [
    "40. Write a program that generates the prime factors of a given number using trial division."
   ]
  },
  {
   "cell_type": "code",
   "execution_count": 9,
   "id": "abc7248c-4247-4505-86ff-936e38138ba9",
   "metadata": {},
   "outputs": [
    {
     "name": "stdin",
     "output_type": "stream",
     "text": [
      "Enter a positive integer:  26\n"
     ]
    },
    {
     "name": "stdout",
     "output_type": "stream",
     "text": [
      "The prime factors of 26 are: 2, 13.\n"
     ]
    }
   ],
   "source": [
    "# Function to find and print prime factors\n",
    "def prime_factors(n):\n",
    "    factors = []\n",
    "    divisor = 2  # Start with the smallest prime number\n",
    "\n",
    "    while divisor <= n:\n",
    "        if n % divisor == 0:\n",
    "            factors.append(divisor)\n",
    "            n = n // divisor  # Integer division\n",
    "        else:\n",
    "            divisor += 1\n",
    "\n",
    "    return factors\n",
    "\n",
    "# Input a number from the user\n",
    "number = int(input(\"Enter a positive integer: \"))\n",
    "\n",
    "if number < 2:\n",
    "    print(\"Prime factors are not applicable for numbers less than 2.\")\n",
    "else:\n",
    "    factors = prime_factors(number)\n",
    "\n",
    "    if len(factors) == 1:\n",
    "        print(f\"The prime factor of {number} is {factors[0]}.\")\n",
    "    else:\n",
    "        print(f\"The prime factors of {number} are: {', '.join(map(str, factors))}.\")\n"
   ]
  },
  {
   "cell_type": "code",
   "execution_count": null,
   "id": "e1a897fc-0905-41e6-872f-0d6c41500395",
   "metadata": {},
   "outputs": [],
   "source": []
  }
 ],
 "metadata": {
  "kernelspec": {
   "display_name": "Python 3 (ipykernel)",
   "language": "python",
   "name": "python3"
  },
  "language_info": {
   "codemirror_mode": {
    "name": "ipython",
    "version": 3
   },
   "file_extension": ".py",
   "mimetype": "text/x-python",
   "name": "python",
   "nbconvert_exporter": "python",
   "pygments_lexer": "ipython3",
   "version": "3.10.8"
  }
 },
 "nbformat": 4,
 "nbformat_minor": 5
}
