{
 "cells": [
  {
   "cell_type": "markdown",
   "metadata": {},
   "source": [
    "Q.1 Can you explain the logic and working of the Tower of Hanoi algorithm by writing a Java program?\n",
    "How does the recursion work, and how are the movements of disks between rods accomplished?"
   ]
  },
  {
   "cell_type": "code",
   "execution_count": null,
   "metadata": {},
   "outputs": [],
   "source": [
    "def tower_of_hanoi(n, source, auxiliary, destination):\n",
    "    if n == 0:\n",
    "        return\n",
    "    # Move n-1 disks from source to auxiliary, so they are out of the way\n",
    "    tower_of_hanoi(n-1, source, destination, auxiliary)\n",
    "    # Move the nth disk from source to destination\n",
    "    print(f\"Move disk {n} from {source} to {destination}\")\n",
    "    # Move the n-1 disks from auxiliary to destination\n",
    "    tower_of_hanoi(n-1, auxiliary, source, destination)"
   ]
  },
  {
   "cell_type": "code",
   "execution_count": 8,
   "metadata": {},
   "outputs": [
    {
     "name": "stdout",
     "output_type": "stream",
     "text": [
      "Move disk 1 from A to C\n",
      "Move disk 2 from A to B\n",
      "Move disk 1 from C to B\n",
      "Move disk 3 from A to C\n",
      "Move disk 1 from B to A\n",
      "Move disk 2 from B to C\n",
      "Move disk 1 from A to C\n"
     ]
    }
   ],
   "source": [
    "# Example usage:\n",
    "num_disks = 3\n",
    "tower_of_hanoi(num_disks, 'A', 'B', 'C')"
   ]
  },
  {
   "cell_type": "markdown",
   "metadata": {},
   "source": [
    "# Tower of Hanoi using Recursion\n",
    "\n",
    "Step 1:\n",
    "shift the top n-1 disks to the helper rod 'B' -> recursive call\n",
    "\n",
    "Step 2:\n",
    "Shift the last disk from the initial rod to the final rod\n",
    "\n",
    "Strp 3:\n",
    "Shift the n-1 disks from the helper rod to the destination rod ->recursive call\n"
   ]
  },
  {
   "cell_type": "markdown",
   "metadata": {},
   "source": [
    "----------------"
   ]
  },
  {
   "cell_type": "markdown",
   "metadata": {},
   "source": [
    "Q.2 Given two strings word1 and word2, return the minimum number of operations required to convert word1\n",
    "to word2."
   ]
  },
  {
   "cell_type": "code",
   "execution_count": 9,
   "metadata": {},
   "outputs": [
    {
     "name": "stdout",
     "output_type": "stream",
     "text": [
      "3\n"
     ]
    }
   ],
   "source": [
    "def minDistance(word1, word2):\n",
    "    def helper(i, j):\n",
    "        # Base cases\n",
    "        if i == len(word1):  # If word1 is exhausted, insert remaining word2 characters\n",
    "            return len(word2) - j\n",
    "        if j == len(word2):  # If word2 is exhausted, delete remaining word1 characters\n",
    "            return len(word1) - i\n",
    "        \n",
    "        if word1[i] == word2[j]:  # If the current characters match, move to the next character\n",
    "            return helper(i + 1, j + 1)\n",
    "        \n",
    "        # If characters do not match, consider all three operations\n",
    "        insert_op = 1 + helper(i, j + 1)  # Insert character from word2 into word1\n",
    "        delete_op = 1 + helper(i + 1, j)  # Delete character from word1\n",
    "        replace_op = 1 + helper(i + 1, j + 1)  # Replace character from word1 with character from word2\n",
    "        \n",
    "        return min(insert_op, delete_op, replace_op)\n",
    "    \n",
    "    return helper(0, 0)\n",
    "\n",
    "# Example usage:\n",
    "word1 = \"horse\"\n",
    "word2 = \"ros\"\n",
    "print(minDistance(word1, word2))  # Output: 3\n"
   ]
  },
  {
   "cell_type": "markdown",
   "metadata": {},
   "source": [
    "--------"
   ]
  },
  {
   "cell_type": "markdown",
   "metadata": {},
   "source": [
    "Q. 3 Print the max value of the array [ 13, 1, -3, 22, 5]."
   ]
  },
  {
   "cell_type": "code",
   "execution_count": 10,
   "metadata": {},
   "outputs": [
    {
     "name": "stdout",
     "output_type": "stream",
     "text": [
      "The maximum value in the array is: 22\n"
     ]
    }
   ],
   "source": [
    "def find_max(arr, n):\n",
    "    # Base case: If the array contains only one element, return that element\n",
    "    if n == 1:\n",
    "        return arr[0]\n",
    "    \n",
    "    # Recursive case: Find the maximum of the rest of the array\n",
    "    max_of_rest = find_max(arr, n - 1)\n",
    "    \n",
    "    # Return the maximum of the first element and the maximum of the rest of the array\n",
    "    return max(arr[n - 1], max_of_rest)\n",
    "\n",
    "# Example usage:\n",
    "arr = [13, 1, -3, 22, 5]\n",
    "max_value = find_max(arr, len(arr))\n",
    "print(f\"The maximum value in the array is: {max_value}\")\n"
   ]
  },
  {
   "cell_type": "markdown",
   "metadata": {},
   "source": [
    "----"
   ]
  },
  {
   "cell_type": "markdown",
   "metadata": {},
   "source": [
    "Q.4 Find the sum of the values of the array [92, 23, 15, -20, 10]."
   ]
  },
  {
   "cell_type": "code",
   "execution_count": 11,
   "metadata": {},
   "outputs": [
    {
     "name": "stdout",
     "output_type": "stream",
     "text": [
      "The sum of the values in the array is: 120\n"
     ]
    }
   ],
   "source": [
    "def sum_array(arr, n):\n",
    "    # Base case: If the array size is 0, return 0\n",
    "    if n == 0:\n",
    "        return 0\n",
    "    \n",
    "    # Recursive case: Return the first element plus the sum of the rest of the array\n",
    "    return arr[n - 1] + sum_array(arr, n - 1)\n",
    "\n",
    "# Example usage:\n",
    "arr = [92, 23, 15, -20, 10]\n",
    "total_sum = sum_array(arr, len(arr))\n",
    "print(f\"The sum of the values in the array is: {total_sum}\")\n"
   ]
  },
  {
   "cell_type": "markdown",
   "metadata": {},
   "source": [
    "------"
   ]
  },
  {
   "cell_type": "markdown",
   "metadata": {},
   "source": [
    "Q.5 Given a number n. Print if it is an armstrong number or not.An armstrong number is a number if the sum\n",
    "of every digit in that number raised to the power of total digits in that number is equal to the number."
   ]
  },
  {
   "cell_type": "code",
   "execution_count": null,
   "metadata": {},
   "outputs": [],
   "source": [
    "def count_digits(n):\n",
    "    if n == 0:\n",
    "        return 0\n",
    "    return 1 + count_digits(n // 10)\n",
    "\n",
    "def sum_of_powers(n, num_digits):\n",
    "    if n == 0:\n",
    "        return 0\n",
    "    return (n % 10) ** num_digits + sum_of_powers(n // 10, num_digits)\n",
    "\n",
    "def is_armstrong(n):\n",
    "    num_digits = count_digits(n)\n",
    "    return n == sum_of_powers(n, num_digits)\n",
    "\n",
    "# Example usage:\n",
    "number = 153\n",
    "if is_armstrong(number):\n",
    "    print(f\"{number} is an Armstrong number.\")\n",
    "else:\n",
    "    print(f\"{number} is not an Armstrong number.\")\n"
   ]
  }
 ],
 "metadata": {
  "kernelspec": {
   "display_name": "Python 3",
   "language": "python",
   "name": "python3"
  },
  "language_info": {
   "codemirror_mode": {
    "name": "ipython",
    "version": 3
   },
   "file_extension": ".py",
   "mimetype": "text/x-python",
   "name": "python",
   "nbconvert_exporter": "python",
   "pygments_lexer": "ipython3",
   "version": "3.9.6"
  }
 },
 "nbformat": 4,
 "nbformat_minor": 2
}
