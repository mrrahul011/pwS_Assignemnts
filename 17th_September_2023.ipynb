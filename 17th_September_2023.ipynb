{
 "cells": [
  {
   "cell_type": "markdown",
   "id": "81897a54-a0e3-4bdb-aadf-ea3b42c1a5f2",
   "metadata": {},
   "source": [
    "For Loop"
   ]
  },
  {
   "cell_type": "markdown",
   "id": "6c658a2c-d806-40df-9706-2339b444386f",
   "metadata": {},
   "source": [
    "1. Write a Python program to print numbers from 1 to 10 using a for loop.\n"
   ]
  },
  {
   "cell_type": "code",
   "execution_count": 2,
   "id": "8360681d-cb7a-40a0-b251-16550c84575c",
   "metadata": {},
   "outputs": [
    {
     "name": "stdout",
     "output_type": "stream",
     "text": [
      "1\n",
      "2\n",
      "3\n",
      "4\n",
      "5\n",
      "6\n",
      "7\n",
      "8\n",
      "9\n",
      "10\n"
     ]
    }
   ],
   "source": [
    "for _ in range(1,11):\n",
    "    print(_)"
   ]
  },
  {
   "cell_type": "markdown",
   "id": "1160c14b-57de-47cf-9fda-2605d282df75",
   "metadata": {},
   "source": [
    "2. Explain the difference between a for loop and a while loop in Python.\n"
   ]
  },
  {
   "cell_type": "markdown",
   "id": "8e1f87f4-ec7a-43f0-a40d-9495995e4099",
   "metadata": {},
   "source": [
    "In Python, both for loops and while loops are used for repetitive execution of code, but they have different structures and use cases. \n",
    "\n",
    "Syntax and Structure:\n",
    "For Loop: A for loop is used for iterating over a sequence (such as a list, tuple, string, or range) or other iterable objects. It follows a specific structure where you define a variable (often referred to as an iterator) that takes on the values of the elements in the sequence one by one.\n",
    "While Loop: A while loop, on the other hand, is used for executing a block of code as long as a specified condition is true. It doesn't require an iterable, and it will continue running until the condition becomes false.\n",
    "\n",
    "Use Cases:\n",
    "For Loop: For loops are typically used when you know the number of iterations or when you want to iterate over a specific sequence. They are particularly useful for iterating through collections (e.g., lists) and performing an action on each element.\n",
    "While Loop: While loops are used when you don't know the exact number of iterations in advance, and you want to keep executing a block of code until a certain condition becomes false. They are suitable for situations where the termination criteria are based on some dynamic conditions.\n",
    "\n",
    "Initialization and Increment (or Decrement):\n",
    "For Loop: In a for loop, the iterator variable is automatically initialized and incremented (or decremented) as it iterates through the sequence. You don't need to manually update the iterator.\n",
    "While Loop: In a while loop, you need to manually initialize and update the variables that the loop depends on, including the condition that controls the loop's execution.\n"
   ]
  },
  {
   "cell_type": "markdown",
   "id": "38e8fc18-bd03-4592-bcb7-4b3d4b0fab48",
   "metadata": {},
   "source": [
    "3. Write a Python program to calculate the sum of all numbers from 1 to 100 using a for loop.\n"
   ]
  },
  {
   "cell_type": "code",
   "execution_count": 4,
   "id": "f0502083-784f-4f38-ac74-2f153a05f7f8",
   "metadata": {},
   "outputs": [
    {
     "name": "stdout",
     "output_type": "stream",
     "text": [
      "Sum of numbers from 1 to 100:  5050\n"
     ]
    }
   ],
   "source": [
    "sum_num = 0\n",
    "for i in range(1,101):\n",
    "    sum_num += i\n",
    "print(\"Sum of numbers from 1 to 100: \", sum_num)"
   ]
  },
  {
   "cell_type": "markdown",
   "id": "af673772-d350-4dd6-89b7-b79b55807aeb",
   "metadata": {},
   "source": [
    "4.How do you iterate through a list using a for loop in Python?\n"
   ]
  },
  {
   "cell_type": "code",
   "execution_count": 6,
   "id": "70b15d2a-e57c-4988-bb5f-8c1c6c23bb01",
   "metadata": {},
   "outputs": [
    {
     "name": "stdout",
     "output_type": "stream",
     "text": [
      "1\n",
      "2\n",
      "3\n",
      "4\n",
      "5\n",
      "a\n",
      "pw\n",
      "ai\n"
     ]
    }
   ],
   "source": [
    "l1 = [1,2,3,4,5,'a','pw','ai']\n",
    "#iterate through each element in the list and print it\n",
    "for i in l1:\n",
    "    print(i)"
   ]
  },
  {
   "cell_type": "markdown",
   "id": "7e61d39f-1a4e-455f-abc2-9d82ed324d1e",
   "metadata": {},
   "source": [
    "5.Write a Python program to find the product of all elements in a list using a for loop.\n"
   ]
  },
  {
   "cell_type": "code",
   "execution_count": 10,
   "id": "da578167-55f0-416a-810b-83db4be4aca0",
   "metadata": {},
   "outputs": [
    {
     "name": "stdout",
     "output_type": "stream",
     "text": [
      "Product of all element in list l1:  120\n"
     ]
    }
   ],
   "source": [
    "l1 = [1,2,3,4,5]\n",
    "product = 1\n",
    "for i in l1:\n",
    "    product *= i\n",
    "print(\"Product of all element in list l1: \", product)"
   ]
  },
  {
   "cell_type": "markdown",
   "id": "6084590c-30ec-480e-b574-57dbd48b77d0",
   "metadata": {},
   "source": [
    "6.Create a Python program that prints all even numbers from 1 to 20 using a for loop.\n"
   ]
  },
  {
   "cell_type": "code",
   "execution_count": 13,
   "id": "96c164eb-2043-4d76-ab5c-76dd85a0d02c",
   "metadata": {},
   "outputs": [
    {
     "name": "stdout",
     "output_type": "stream",
     "text": [
      "2\n",
      "4\n",
      "6\n",
      "8\n",
      "10\n",
      "12\n",
      "14\n",
      "16\n",
      "18\n",
      "20\n"
     ]
    }
   ],
   "source": [
    "for i in range(1,21):\n",
    "    if i % 2 == 0:\n",
    "        print(i)"
   ]
  },
  {
   "cell_type": "markdown",
   "id": "ead2544e-0f11-44d0-843a-9d99f96f4cbc",
   "metadata": {},
   "source": [
    "7. Write a Python program that calculates the factorial of a number using a for loop.\n"
   ]
  },
  {
   "cell_type": "code",
   "execution_count": 19,
   "id": "47252402-18ea-4d2c-8d0e-1780d2f5adb7",
   "metadata": {},
   "outputs": [
    {
     "name": "stdin",
     "output_type": "stream",
     "text": [
      "Enter a number:  5\n"
     ]
    },
    {
     "name": "stdout",
     "output_type": "stream",
     "text": [
      "Factorial of 5 is 120\n"
     ]
    }
   ],
   "source": [
    "n = int(input(\"Enter a number: \"))\n",
    "fact = 1\n",
    "if n < 0:\n",
    "    print(\"Factorial is not defined for negative number\")\n",
    "if n == 0 :\n",
    "    print(\"The factorial of 0 is 1.\")\n",
    "if n > 1:\n",
    "    for i in range(1, n+1):\n",
    "        fact *= i\n",
    "print(f\"Factorial of {n} is {fact}\")"
   ]
  },
  {
   "cell_type": "markdown",
   "id": "9263f13e-70ed-4fdc-95af-98e26970ee06",
   "metadata": {},
   "source": [
    "8. How can you iterate through the characters of a string using a for loop in Python?\n"
   ]
  },
  {
   "cell_type": "code",
   "execution_count": 20,
   "id": "b7882bc6-fc7f-4f47-948a-a53b8ed7222c",
   "metadata": {},
   "outputs": [
    {
     "name": "stdout",
     "output_type": "stream",
     "text": [
      "H\n",
      "e\n",
      "l\n",
      "l\n",
      "o\n",
      " \n",
      "w\n",
      "o\n",
      "r\n",
      "l\n",
      "d\n",
      "!\n"
     ]
    }
   ],
   "source": [
    "string = \"Hello world!\"\n",
    "for i in string:\n",
    "    print(i)"
   ]
  },
  {
   "cell_type": "markdown",
   "id": "67e51b7c-b0ab-4aaa-bae5-8bde4c922683",
   "metadata": {},
   "source": [
    "9. Write a Python program to find the largest number in a list using a for loop.\n"
   ]
  },
  {
   "cell_type": "code",
   "execution_count": 21,
   "id": "a015930e-ee6e-4fb8-8cbc-af8390563c2a",
   "metadata": {},
   "outputs": [
    {
     "name": "stdout",
     "output_type": "stream",
     "text": [
      "The largest number in the list is:  698\n"
     ]
    }
   ],
   "source": [
    "l1 = [1,52,89,36,698,4,2,6,55]\n",
    "large = 0\n",
    "for i in l1:\n",
    "    if i > large:\n",
    "        large = i\n",
    "print(\"The largest number in the list is: \", large)"
   ]
  },
  {
   "cell_type": "markdown",
   "id": "9c63c5d0-3f02-45d7-bfb7-22c9a3b5d841",
   "metadata": {},
   "source": [
    "10. Create a Python program that prints the Fibonacci sequence up to a specified limit using a for loop.\n"
   ]
  },
  {
   "cell_type": "code",
   "execution_count": 25,
   "id": "fcea67d4-ad60-4965-a8a7-8fdaaee1e1ba",
   "metadata": {},
   "outputs": [
    {
     "name": "stdin",
     "output_type": "stream",
     "text": [
      "Enter a number:  5\n"
     ]
    },
    {
     "name": "stdout",
     "output_type": "stream",
     "text": [
      "5 Fibonacci numbers:\n",
      "0\n",
      "1\n",
      "1\n",
      "2\n",
      "3\n"
     ]
    }
   ],
   "source": [
    "n = int(input(\"Enter a number: \"))\n",
    "x, y = 0, 1\n",
    "print(f\"{n} Fibonacci numbers:\")\n",
    "for i in range(n):\n",
    "    print(x)\n",
    "    x,y = y, y+x\n",
    "    \n"
   ]
  },
  {
   "cell_type": "markdown",
   "id": "1a582622-1eef-48bd-9471-6f04655fabee",
   "metadata": {},
   "source": [
    "11. Write a Python program to count the number of vowels in a given string using a for loop.\n"
   ]
  },
  {
   "cell_type": "code",
   "execution_count": 26,
   "id": "f9d2b648-3e70-4630-85e0-2067029b39e1",
   "metadata": {},
   "outputs": [
    {
     "name": "stdout",
     "output_type": "stream",
     "text": [
      "The number of vowels in string is:  8\n"
     ]
    }
   ],
   "source": [
    "string = \"Hello world, this is my first program\"\n",
    "vowels ={'a','e','i','o','u'}\n",
    "counter = 0\n",
    "\n",
    "for i in string:\n",
    "    if i.lower() in vowels:\n",
    "        counter += 1\n",
    "print(\"The number of vowels in string is: \", counter)"
   ]
  },
  {
   "cell_type": "markdown",
   "id": "d30d6628-ad64-495f-94c2-bf2b984b55fd",
   "metadata": {},
   "source": [
    "12. Create a Python program that generates a multiplication table for a given number using a for loop.\n"
   ]
  },
  {
   "cell_type": "code",
   "execution_count": 27,
   "id": "7d736c07-4355-4031-b995-2964f17c02f4",
   "metadata": {},
   "outputs": [
    {
     "name": "stdin",
     "output_type": "stream",
     "text": [
      "Enter a number:  5\n"
     ]
    },
    {
     "name": "stdout",
     "output_type": "stream",
     "text": [
      "Multipication table of  5\n",
      "5 x 1 = 5\n",
      "5 x 2 = 10\n",
      "5 x 3 = 15\n",
      "5 x 4 = 20\n",
      "5 x 5 = 25\n",
      "5 x 6 = 30\n",
      "5 x 7 = 35\n",
      "5 x 8 = 40\n",
      "5 x 9 = 45\n",
      "5 x 10 = 50\n"
     ]
    }
   ],
   "source": [
    "n = int(input(\"Enter a number: \"))\n",
    "print(\"Multipication table of \", n)\n",
    "\n",
    "for i in range(1,11):\n",
    "    print(f\"{n} x {i} = {n*i}\")"
   ]
  },
  {
   "cell_type": "markdown",
   "id": "398fa065-9cd4-4aff-9f1d-825cf56d90d4",
   "metadata": {},
   "source": [
    "13. Write a Python program to reverse a list using a for loop.\n"
   ]
  },
  {
   "cell_type": "code",
   "execution_count": 41,
   "id": "05b08dcd-e423-4cb5-b130-10bde006779e",
   "metadata": {},
   "outputs": [
    {
     "name": "stdout",
     "output_type": "stream",
     "text": [
      "The reverse of list:  [55, 6, 2, 4, 698, 36, 89, 52, 1]\n"
     ]
    }
   ],
   "source": [
    "l1 = [1,52,89,36,698,4,2,6,55]\n",
    "new_list = []\n",
    "for i in range(len(l1)-1,-1,-1):\n",
    "    new_list.append(l1[i])\n",
    "print(\"The reverse of list: \",new_list)\n"
   ]
  },
  {
   "cell_type": "markdown",
   "id": "4fd81568-5dc1-41cc-9e00-f82f7b2ab934",
   "metadata": {},
   "source": [
    "14. Write a Python program to find the common elements between two lists using a for loop.\n"
   ]
  },
  {
   "cell_type": "code",
   "execution_count": 48,
   "id": "da6a0c99-dd0a-48ad-b606-621bf0a0ed4e",
   "metadata": {},
   "outputs": [
    {
     "name": "stdout",
     "output_type": "stream",
     "text": [
      "The common element in list:  [52, 36]\n"
     ]
    }
   ],
   "source": [
    "l1 = [1,52,89,36,698,4,2,6,55]\n",
    "l2 = [12,56,456,631,641,52,36]\n",
    "\n",
    "l_common = []\n",
    "for i in l1:\n",
    "    if i in l2:\n",
    "        l_common.append(i)\n",
    "\n",
    "print(\"The common element in list: \", l_common)"
   ]
  },
  {
   "cell_type": "markdown",
   "id": "756a6491-5565-4f44-9513-f3f39a38a967",
   "metadata": {},
   "source": [
    "15. Explain how to use a for loop to iterate through the keys and values of a dictionary in Python.\n"
   ]
  },
  {
   "cell_type": "markdown",
   "id": "93ea02e5-916b-4596-92f5-04694d2f6104",
   "metadata": {},
   "source": [
    "By utilizing the .items() method of the dictionary a for loop can be used to  iterate through the keys and values of a dictionary ."
   ]
  },
  {
   "cell_type": "code",
   "execution_count": 49,
   "id": "883ded08-54af-4e3c-bf4f-5899f478e062",
   "metadata": {},
   "outputs": [
    {
     "name": "stdout",
     "output_type": "stream",
     "text": [
      "Key: a, Value: 1\n",
      "Key: b, Value: 2\n",
      "Key: c, Value: 3\n",
      "Key: d, Value: 4\n"
     ]
    }
   ],
   "source": [
    "my_dict = {'a': 1, 'b': 2, 'c': 3, 'd': 4}\n",
    "for key, value in my_dict.items():\n",
    "    print(f\"Key: {key}, Value: {value}\")"
   ]
  },
  {
   "cell_type": "markdown",
   "id": "819fd122-2cbd-417f-8e49-91e789b651fd",
   "metadata": {},
   "source": [
    "16. Write a Python program to find the GCD (Greatest Common Divisor) of two numbers using a for loop.\n"
   ]
  },
  {
   "cell_type": "code",
   "execution_count": 54,
   "id": "e64163f3-2006-4571-a86a-f060b8da3b44",
   "metadata": {},
   "outputs": [
    {
     "name": "stdin",
     "output_type": "stream",
     "text": [
      "Enter first number:  157\n",
      "Enter first number:  314\n"
     ]
    },
    {
     "name": "stdout",
     "output_type": "stream",
     "text": [
      "The GCD of 157 and 314 is 157\n"
     ]
    }
   ],
   "source": [
    "x = int(input(\"Enter first number: \"))\n",
    "y = int(input(\"Enter first number: \"))\n",
    "\n",
    "n = min(x,y)\n",
    "\n",
    "for i in range(1,n+1):\n",
    "    if x%i == 0 and y%i == 0:\n",
    "        GCD = i\n",
    "print(f\"The GCD of {x} and {y} is {GCD}\")"
   ]
  },
  {
   "cell_type": "markdown",
   "id": "274dcd6e-8453-48ca-b12c-279aa5968f1c",
   "metadata": {},
   "source": [
    "17. Create a Python program that checks if a string is a palindrome using a for loop.\n"
   ]
  },
  {
   "cell_type": "code",
   "execution_count": 60,
   "id": "c3176561-085a-470c-b910-3cdf5f6b423d",
   "metadata": {},
   "outputs": [
    {
     "name": "stdout",
     "output_type": "stream",
     "text": [
      "The string is not a palindrome\n"
     ]
    }
   ],
   "source": [
    "string = \"malayalam\"\n",
    "counter = 0\n",
    "for i in range(len(string)):\n",
    "    if string[i] == string[len(string) - 1 - i]:\n",
    "        counter += 1\n",
    "if counter == len(string):\n",
    "    print(\"The string is palindrome\")\n",
    "else:\n",
    "    print(\"The string is not a palindrome\")"
   ]
  },
  {
   "cell_type": "markdown",
   "id": "8cb9efae-2d9a-4f8f-af7a-4334d5366965",
   "metadata": {},
   "source": [
    "18. Write a Python program to remove duplicates from a list using a for loop.\n"
   ]
  },
  {
   "cell_type": "code",
   "execution_count": 65,
   "id": "9dfe3e50-8029-4357-aefe-49228750200f",
   "metadata": {},
   "outputs": [
    {
     "name": "stdout",
     "output_type": "stream",
     "text": [
      "The list with out dupliation:  [1, 52, 89, 36, 698, 4, 2, 6, 55, 10]\n"
     ]
    }
   ],
   "source": [
    "l1 = [1,52,89,36,698,4,2,6,55, 36,1,698, 36,52,10]\n",
    "l2 =[]\n",
    "for i in l1:\n",
    "    if i not in l2:\n",
    "        l2.append(i)\n",
    "print(\"The list with out dupliation: \", l2)"
   ]
  },
  {
   "cell_type": "markdown",
   "id": "8d32590c-acc8-465a-9b98-1e065f10a121",
   "metadata": {},
   "source": [
    "19. Create a Python program that counts the number of words in a sentence using a for loop.\n"
   ]
  },
  {
   "cell_type": "code",
   "execution_count": 71,
   "id": "8833677a-a90b-4f0d-aa2a-a6706a46fd67",
   "metadata": {},
   "outputs": [
    {
     "name": "stdout",
     "output_type": "stream",
     "text": [
      "The nuber of words in a sentence is:  5\n"
     ]
    }
   ],
   "source": [
    "string = \"Hellow world, I am coding\"\n",
    "counter = 0\n",
    "for i in string.split():\n",
    "    if i.isalpha:\n",
    "        counter += 1\n",
    "print(\"The nuber of words in a sentence is: \", counter)\n",
    "    "
   ]
  },
  {
   "cell_type": "markdown",
   "id": "f1a227d9-338e-4c36-bb82-e4e65ce30461",
   "metadata": {},
   "source": [
    "20. Write a Python program to find the sum of all odd numbers from 1 to 50 using a for loop."
   ]
  },
  {
   "cell_type": "code",
   "execution_count": 76,
   "id": "b2818506-c841-42dd-b558-85a41706e82e",
   "metadata": {},
   "outputs": [
    {
     "name": "stdout",
     "output_type": "stream",
     "text": [
      "The sum of all odd numbers from 1 to 50:  625\n"
     ]
    }
   ],
   "source": [
    "counter = 0\n",
    "\n",
    "for i in range(1,50):\n",
    "    if i % 2 != 0:\n",
    "        counter += i\n",
    "        \n",
    "print(\"The sum of all odd numbers from 1 to 50: \", counter)"
   ]
  },
  {
   "cell_type": "markdown",
   "id": "333199de-a4fc-4121-97c1-2ca27978c22c",
   "metadata": {},
   "source": [
    "21. Write a Python program that checks if a given year is a leap year using a for loop.\n"
   ]
  },
  {
   "cell_type": "code",
   "execution_count": 81,
   "id": "cdbc804a-dca1-4a0c-adc3-d8a4a4f9a84c",
   "metadata": {},
   "outputs": [
    {
     "name": "stdin",
     "output_type": "stream",
     "text": [
      "Enter the year:  1996\n"
     ]
    },
    {
     "name": "stdout",
     "output_type": "stream",
     "text": [
      "The year 1996 is a leap year\n"
     ]
    }
   ],
   "source": [
    "n = int(input(\"Enter the year: \"))\n",
    "\n",
    "if (n % 4 == 0 and n % 100 != 0) or n % 400 == 0 :\n",
    "    print (f\"The year {n} is a leap year\")\n",
    "else:\n",
    "    print (f\"The year {n} is not a leap year\")"
   ]
  },
  {
   "cell_type": "markdown",
   "id": "83774c09-bbd0-4398-af1d-5ff8571270c9",
   "metadata": {},
   "source": [
    "22. Create a Python program that calculates the square root of a number using a for loop.\n"
   ]
  },
  {
   "cell_type": "code",
   "execution_count": 89,
   "id": "20670b88-c289-4cdc-b240-39fb9baac8a8",
   "metadata": {},
   "outputs": [
    {
     "name": "stdin",
     "output_type": "stream",
     "text": [
      "Enter a number:  9\n"
     ]
    },
    {
     "name": "stdout",
     "output_type": "stream",
     "text": [
      "The square root of 9.0 is approximately 3.0\n"
     ]
    }
   ],
   "source": [
    "#Babylonian method for square root estimation.\n",
    "num = float(input(\"Enter a number: \"))\n",
    "guess = num / 2  \n",
    "\n",
    "iterations = 10  \n",
    "for _ in range(iterations):\n",
    "    guess = 0.5 * (guess + (num / guess))\n",
    "\n",
    "\n",
    "print(f\"The square root of {num} is approximately {guess}\")\n",
    "\n"
   ]
  },
  {
   "cell_type": "markdown",
   "id": "2c9f6e42-cd0c-40ac-b800-c77566f1c477",
   "metadata": {},
   "source": [
    "23. Write a Python program to find the LCM (Least Common Multiple) of two numbers using a for loop.\n"
   ]
  },
  {
   "cell_type": "code",
   "execution_count": 21,
   "id": "c4239e08-eedd-44e8-96d8-7c4a1d1c30e3",
   "metadata": {},
   "outputs": [
    {
     "name": "stdin",
     "output_type": "stream",
     "text": [
      "Enter first number:  4\n",
      "Enter first number:  5\n"
     ]
    },
    {
     "name": "stdout",
     "output_type": "stream",
     "text": [
      "The LCM of 4 and 5 is 20\n"
     ]
    }
   ],
   "source": [
    "x = int(input(\"Enter first number: \"))\n",
    "y = int(input(\"Enter first number: \"))\n",
    "\n",
    "n = min(x,y)\n",
    "\n",
    "for i in range(1,n+1):\n",
    "    if x%i == 0 and y%i == 0:\n",
    "        GCD = i\n",
    "print(f\"The LCM of {x} and {y} is {(x*y) // GCD}\")"
   ]
  },
  {
   "cell_type": "code",
   "execution_count": null,
   "id": "309909bb-916f-4430-a533-25e76dd050da",
   "metadata": {},
   "outputs": [],
   "source": []
  },
  {
   "cell_type": "markdown",
   "id": "49cb0439-d295-4ed7-84a7-a917e1ca9871",
   "metadata": {},
   "source": [
    "If else :\n"
   ]
  },
  {
   "cell_type": "markdown",
   "id": "8536b285-dce2-491f-aa4d-27304aa0aed8",
   "metadata": {},
   "source": [
    "1. Write a Python program to check if a number is positive, negative, or zero using an if-else statement.\n"
   ]
  },
  {
   "cell_type": "code",
   "execution_count": 92,
   "id": "50970cc8-8faa-47bc-9e74-2d239cba7c19",
   "metadata": {},
   "outputs": [
    {
     "name": "stdin",
     "output_type": "stream",
     "text": [
      "Enter a number:  0\n"
     ]
    },
    {
     "name": "stdout",
     "output_type": "stream",
     "text": [
      "The number is zero\n"
     ]
    }
   ],
   "source": [
    "n = int(input(\"Enter a number: \"))\n",
    "\n",
    "if n > 0:\n",
    "    print(f\"The number {n} is positive\")\n",
    "elif n < 0:\n",
    "    print(\"The number {n} is negative\")\n",
    "else:\n",
    "    print(\"The number is zero\")"
   ]
  },
  {
   "cell_type": "markdown",
   "id": "9f0ec918-fa76-4441-b436-2b68639e5db2",
   "metadata": {},
   "source": [
    "2. Create a Python program that checks if a given number is even or odd using an if-else statement.\n"
   ]
  },
  {
   "cell_type": "code",
   "execution_count": 96,
   "id": "25cf01e4-cfdc-4d93-9c2c-c091d283f6f4",
   "metadata": {},
   "outputs": [
    {
     "name": "stdin",
     "output_type": "stream",
     "text": [
      "Enter a number:  124\n"
     ]
    },
    {
     "name": "stdout",
     "output_type": "stream",
     "text": [
      "124 is even\n"
     ]
    }
   ],
   "source": [
    "n = int(input(\"Enter a number: \"))\n",
    "\n",
    "if n > 0:\n",
    "    if n % 2 == 0:\n",
    "        print(f\"{n} is even\")\n",
    "    else:\n",
    "        print(f\"{n} is odd\")\n",
    "else:\n",
    "    print(\"Invalid entry\")\n",
    "              "
   ]
  },
  {
   "cell_type": "markdown",
   "id": "cf1351b4-4604-4022-b228-acc94bd41271",
   "metadata": {},
   "source": [
    "3. How can you use nested if-else statements in Python, and provide an example?\n"
   ]
  },
  {
   "cell_type": "markdown",
   "id": "eb0efa29-7534-4274-a10f-9bbf52ef23e8",
   "metadata": {},
   "source": [
    "Nested if-else statements is used to create more complex conditional logic by placing one if-else statement inside another. This allows to handle multiple conditions and perform different actions based on the combinations of those conditions. Each nested if-else statement adds another level of conditional checks."
   ]
  },
  {
   "cell_type": "code",
   "execution_count": 99,
   "id": "e1c2e1ea-4681-43c4-9ee3-400fffcab0a0",
   "metadata": {},
   "outputs": [
    {
     "name": "stdin",
     "output_type": "stream",
     "text": [
      "Enter your age:  23\n"
     ]
    },
    {
     "name": "stdout",
     "output_type": "stream",
     "text": [
      "You are an adult.\n",
      "You are eligible to vote and consume alcohol.\n"
     ]
    }
   ],
   "source": [
    "# Input: Get the user's age\n",
    "age = int(input(\"Enter your age: \"))\n",
    "if age >= 18:\n",
    "    print(\"You are an adult.\")   \n",
    "    if age >= 21:\n",
    "        print(\"You are eligible to vote and consume alcohol.\")\n",
    "    else:\n",
    "        print(\"You are eligible to vote but not consume alcohol.\")\n",
    "else:\n",
    "    print(\"You are a minor.\")"
   ]
  },
  {
   "cell_type": "markdown",
   "id": "bd5c89d4-04a5-43f7-8334-b4324a09e737",
   "metadata": {},
   "source": [
    "4. Write a Python program to determine the largest of three numbers using if-else."
   ]
  },
  {
   "cell_type": "code",
   "execution_count": 104,
   "id": "037930e4-88f3-4b9a-a37c-636462f8214b",
   "metadata": {},
   "outputs": [
    {
     "name": "stdin",
     "output_type": "stream",
     "text": [
      "Enter a number 1:  123\n",
      "Enter a number 2:  -154\n",
      "Enter a number 3:  87\n"
     ]
    },
    {
     "name": "stdout",
     "output_type": "stream",
     "text": [
      "The largest is  123\n"
     ]
    }
   ],
   "source": [
    "n1 = int(input(\"Enter a number 1: \"))\n",
    "n2 = int(input(\"Enter a number 2: \"))\n",
    "n3 = int(input(\"Enter a number 3: \"))\n",
    "\n",
    "if n1 > n2:\n",
    "    if n1 > n3:\n",
    "        print(\"The largest is \", n1)\n",
    "    else:\n",
    "        print(\"The largest is \", n3)\n",
    "elif n2>n1:\n",
    "    if n2 > n3:\n",
    "        print(\"The largest is \", n2)\n",
    "    else:\n",
    "        print(\"The largest is \", n3)\n",
    "else:\n",
    "    print(\"all are equal\")"
   ]
  },
  {
   "cell_type": "markdown",
   "id": "9072e2a6-8874-438f-875d-9382e3cb34ab",
   "metadata": {},
   "source": [
    "5. Write a Python program that calculates the absolute value of a number using if-else."
   ]
  },
  {
   "cell_type": "code",
   "execution_count": 106,
   "id": "c67a87d1-7be0-4b34-9133-65812adb6dcf",
   "metadata": {},
   "outputs": [
    {
     "name": "stdin",
     "output_type": "stream",
     "text": [
      "Enter a number:  -1\n"
     ]
    },
    {
     "name": "stdout",
     "output_type": "stream",
     "text": [
      "The absolute value of -1 is: 1\n"
     ]
    }
   ],
   "source": [
    "n = int(input(\"Enter a number: \"))\n",
    "\n",
    "if n > 0:\n",
    "    print(f\"The absolute value of {n} is: {n}\")\n",
    "else:\n",
    "    print(f\"The absolute value of {n} is: {n * -1}\")"
   ]
  },
  {
   "cell_type": "markdown",
   "id": "3c16e3c7-ea29-410a-8fb3-bb05a3c8b9f5",
   "metadata": {},
   "source": [
    "6. Create a Python program that checks if a given character is a vowel or consonant using if-else.\n"
   ]
  },
  {
   "cell_type": "code",
   "execution_count": 107,
   "id": "dc27f08f-1c0c-4376-b6a1-49cb4fc80406",
   "metadata": {},
   "outputs": [
    {
     "name": "stdin",
     "output_type": "stream",
     "text": [
      "Enter a character:  A\n"
     ]
    },
    {
     "name": "stdout",
     "output_type": "stream",
     "text": [
      "Character is a vowel\n"
     ]
    }
   ],
   "source": [
    "char = str(input(\"Enter a character: \"))\n",
    "\n",
    "vowels = {'a', 'e', 'i', 'o', 'u'}\n",
    "\n",
    "if char.lower() in vowels:\n",
    "    print(\"Character is a vowel\")\n",
    "else:\n",
    "    print(\"Character is a consonant\")"
   ]
  },
  {
   "cell_type": "markdown",
   "id": "d1d6f191-0905-4cda-a233-50922347a695",
   "metadata": {},
   "source": [
    "7. Write a Python program to determine if a user is eligible to vote based on their age using if-else.\n"
   ]
  },
  {
   "cell_type": "code",
   "execution_count": 108,
   "id": "e4d6926d-208e-4046-9d04-fa170c26b4b8",
   "metadata": {},
   "outputs": [
    {
     "name": "stdin",
     "output_type": "stream",
     "text": [
      "Enter your age:  10\n"
     ]
    },
    {
     "name": "stdout",
     "output_type": "stream",
     "text": [
      "You are a minor.\n"
     ]
    }
   ],
   "source": [
    "age = int(input(\"Enter your age: \"))\n",
    "if age >= 18:\n",
    "    print(\"You are eligible to vote.\")   \n",
    "    \n",
    "else:\n",
    "    print(\"You are a minor.\")"
   ]
  },
  {
   "cell_type": "markdown",
   "id": "760eb8f2-f570-4f52-821f-ec98c77547a8",
   "metadata": {},
   "source": [
    "8. Create a Python program that calculates the discount amount based on the purchase amount using if-else."
   ]
  },
  {
   "cell_type": "code",
   "execution_count": 109,
   "id": "160c506d-4115-4b5f-8915-9390f90cba00",
   "metadata": {},
   "outputs": [
    {
     "name": "stdin",
     "output_type": "stream",
     "text": [
      "Enter the purchase amount:  2500\n"
     ]
    },
    {
     "name": "stdout",
     "output_type": "stream",
     "text": [
      "You've received a discount of RS 250.00\n",
      "Total amount to pay: RS 2250.00\n"
     ]
    }
   ],
   "source": [
    "purchase_amount = float(input(\"Enter the purchase amount: \"))\n",
    "\n",
    "discount_rate_1 = 0.05  # 5% discount for purchases over 1000 rs\n",
    "discount_rate_2 = 0.1   # 10% discount for purchases over 2000 rs\n",
    "\n",
    "\n",
    "discount_amount = 0.0\n",
    "\n",
    "\n",
    "if purchase_amount > 2000:\n",
    "    discount_amount = purchase_amount * discount_rate_2\n",
    "elif purchase_amount > 1000:\n",
    "    discount_amount = purchase_amount * discount_rate_1\n",
    "\n",
    "# Output the discount amount and the total amount to pay\n",
    "if discount_amount > 0:\n",
    "    total_amount = purchase_amount - discount_amount\n",
    "    print(f\"You've received a discount of RS {discount_amount:.2f}\")\n",
    "    print(f\"Total amount to pay: RS {total_amount:.2f}\")\n",
    "else:\n",
    "    print(\"No discount applied. Total amount to pay:\", purchase_amount)"
   ]
  },
  {
   "cell_type": "markdown",
   "id": "46adcc8c-dd8d-4699-b2a9-2b4c5fc7fdce",
   "metadata": {},
   "source": [
    "9. Write a Python program to check if a number is within a specified range using if-else.\n"
   ]
  },
  {
   "cell_type": "code",
   "execution_count": 112,
   "id": "1c13bae1-aa57-418f-a8ae-caf7ed360007",
   "metadata": {},
   "outputs": [
    {
     "name": "stdin",
     "output_type": "stream",
     "text": [
      "Enter a number:  50\n"
     ]
    },
    {
     "name": "stdout",
     "output_type": "stream",
     "text": [
      "entered number is between 0 and 50\n"
     ]
    }
   ],
   "source": [
    "#check if the entered number is between 0 and 50\n",
    "n = int(input(\"Enter a number: \"))\n",
    "if n <= 50:\n",
    "    print(\"entered number is between 0 and 50\")\n",
    "else:\n",
    "    print(\"entered number is not between 0 and 50\")"
   ]
  },
  {
   "cell_type": "markdown",
   "id": "ba12e0ba-05a4-4aad-ba6d-09d241be45c4",
   "metadata": {},
   "source": [
    "10. Create a Python program that determines the grade of a student based on their score using if-else.\n"
   ]
  },
  {
   "cell_type": "code",
   "execution_count": 114,
   "id": "1e203b04-69ac-47e0-b259-884a853c8692",
   "metadata": {},
   "outputs": [
    {
     "name": "stdin",
     "output_type": "stream",
     "text": [
      "Enter the subject score:  59\n"
     ]
    },
    {
     "name": "stdout",
     "output_type": "stream",
     "text": [
      "Grade: C\n"
     ]
    }
   ],
   "source": [
    "#100-80 A, 60-79 B, 50-59 C, 40-49 D, < 40 Failed\n",
    "\n",
    "n = int(input(\"Enter the subject score: \"))\n",
    "\n",
    "if 80 <= n <= 100:\n",
    "    print(\"Grade: A\")\n",
    "elif 60<= n < 80:\n",
    "    print(\"Grade: B\")\n",
    "elif 50<= n < 60:\n",
    "    print(\"Grade: C\")\n",
    "elif 40<= n < 50:\n",
    "    print(\"Grade: D\")\n",
    "else:\n",
    "    print(\"Falied\")"
   ]
  },
  {
   "cell_type": "markdown",
   "id": "364439d8-5b31-48cf-a591-997b1dd8d2cc",
   "metadata": {},
   "source": [
    "11. Write a Python program to check if a string is empty or not using if-else.\n"
   ]
  },
  {
   "cell_type": "code",
   "execution_count": 121,
   "id": "1e1042ff-759b-4e22-9e90-1e369388ef93",
   "metadata": {},
   "outputs": [
    {
     "name": "stdin",
     "output_type": "stream",
     "text": [
      "Enter a string:  m\n"
     ]
    },
    {
     "name": "stdout",
     "output_type": "stream",
     "text": [
      "String is not empty\n"
     ]
    }
   ],
   "source": [
    "string = str(input(\"Enter a string: \"))\n",
    "\n",
    "if len(string) > 0:\n",
    "    print(\"String is not empty\")\n",
    "else:\n",
    "    print(\"String is empty\")\n",
    "    "
   ]
  },
  {
   "cell_type": "markdown",
   "id": "eab8e94b-1b56-4724-914a-0cf893d3785e",
   "metadata": {},
   "source": [
    "12. Create a Python program that identifies the type of a triangle (e.g., equilateral, isosceles, or scalene) based on input values using if-else.\n"
   ]
  },
  {
   "cell_type": "code",
   "execution_count": 128,
   "id": "e507755e-1306-4cdd-9008-10cfbd854f1c",
   "metadata": {},
   "outputs": [
    {
     "name": "stdin",
     "output_type": "stream",
     "text": [
      "Enter side 1:  1\n",
      "Enter side 2:  4\n",
      "Enter side 3:  4\n"
     ]
    },
    {
     "name": "stdout",
     "output_type": "stream",
     "text": [
      "Triangle: Isosceles\n"
     ]
    }
   ],
   "source": [
    "a = int(input(\"Enter side 1: \"))\n",
    "b = int(input(\"Enter side 2: \"))\n",
    "c = int(input(\"Enter side 3: \"))\n",
    "\n",
    "if (a == b) and (b == c):\n",
    "    print(\"Triangle: Equilateral\")\n",
    "elif (a == b) or (b == c) or (a == c):\n",
    "    print(\"Triangle: Isosceles\")\n",
    "else:\n",
    "    print(\"Triangle: Scalne\")"
   ]
  },
  {
   "cell_type": "markdown",
   "id": "4615d2b1-f920-4785-879c-f7f008dc5e59",
   "metadata": {},
   "source": [
    "13. Write a Python program to determine the day of the week based on a user-provided number using if-else.\n"
   ]
  },
  {
   "cell_type": "code",
   "execution_count": 130,
   "id": "ff99dfe2-9e4f-4578-b10f-316dcfa1a38f",
   "metadata": {},
   "outputs": [
    {
     "name": "stdin",
     "output_type": "stream",
     "text": [
      "Enter a number:  1\n"
     ]
    },
    {
     "name": "stdout",
     "output_type": "stream",
     "text": [
      "Monay\n"
     ]
    }
   ],
   "source": [
    "n = int(input(\"Enter a number: \"))\n",
    "\n",
    "if n % 7 == 0:\n",
    "    print(\"Sunday\")\n",
    "elif n % 7 == 1:\n",
    "    print(\"Monday\")\n",
    "elif n % 7 == 2:\n",
    "    print(\"Tuesday\")\n",
    "elif n % 7 == 3:\n",
    "    print(\"Wednesday\")\n",
    "elif n % 7 == 4:\n",
    "    print(\"Thursday\")\n",
    "elif n % 7 == 5:\n",
    "    print(\"Friday\")\n",
    "elif n % 7 == 6:\n",
    "    print(\"Saturday\")"
   ]
  },
  {
   "cell_type": "markdown",
   "id": "a77d947d-f0c4-4acf-80f5-8ab383a5b097",
   "metadata": {},
   "source": [
    "14. Create a Python program that checks if a given year is a leap year using both if-else and a function"
   ]
  },
  {
   "cell_type": "code",
   "execution_count": 1,
   "id": "2c94fbca-b934-4751-b8b1-9675822df31d",
   "metadata": {},
   "outputs": [
    {
     "name": "stdin",
     "output_type": "stream",
     "text": [
      "Enter a year:  2008\n"
     ]
    },
    {
     "data": {
      "text/plain": [
       "'2008 is Leap Year'"
      ]
     },
     "execution_count": 1,
     "metadata": {},
     "output_type": "execute_result"
    }
   ],
   "source": [
    "def leap_year(year):\n",
    "    \n",
    "    if ((year % 4 == 0 and year % 100 != 0) or (year % 400 == 0)):\n",
    "        return f\"{year} is Leap Year\"\n",
    "    else:\n",
    "        return f\"{year} is not Leap Year\"\n",
    "\n",
    "n = int(input(\"Enter a year: \"))\n",
    "    \n",
    "leap_year(n)"
   ]
  },
  {
   "cell_type": "markdown",
   "id": "4cbafac7-060b-4ff6-bc60-5358f78da449",
   "metadata": {},
   "source": [
    "15. How do you use the \"assert\" statement in Python to add debugging checks within if-else blocks?\n"
   ]
  },
  {
   "cell_type": "code",
   "execution_count": 7,
   "id": "8c9ef545-eaf2-46e7-9aae-457597fcccbe",
   "metadata": {},
   "outputs": [
    {
     "name": "stdin",
     "output_type": "stream",
     "text": [
      "Enter a number:  0\n"
     ]
    },
    {
     "ename": "AssertionError",
     "evalue": "Division ny zero is not possible",
     "output_type": "error",
     "traceback": [
      "\u001b[0;31m---------------------------------------------------------------------------\u001b[0m",
      "\u001b[0;31mAssertionError\u001b[0m                            Traceback (most recent call last)",
      "Cell \u001b[0;32mIn[7], line 6\u001b[0m\n\u001b[1;32m      1\u001b[0m n \u001b[38;5;241m=\u001b[39m \u001b[38;5;28mint\u001b[39m(\u001b[38;5;28minput\u001b[39m(\u001b[38;5;124m\"\u001b[39m\u001b[38;5;124mEnter a number: \u001b[39m\u001b[38;5;124m\"\u001b[39m))\n\u001b[1;32m      4\u001b[0m \u001b[38;5;28;01mif\u001b[39;00m n \u001b[38;5;241m%\u001b[39m \u001b[38;5;241m2\u001b[39m \u001b[38;5;241m==\u001b[39m \u001b[38;5;241m0\u001b[39m:\n\u001b[0;32m----> 6\u001b[0m     \u001b[38;5;28;01massert\u001b[39;00m n \u001b[38;5;241m!=\u001b[39m \u001b[38;5;241m0\u001b[39m, \u001b[38;5;124m\"\u001b[39m\u001b[38;5;124mDivision ny zero is not possible\u001b[39m\u001b[38;5;124m\"\u001b[39m\n\u001b[1;32m      7\u001b[0m     \u001b[38;5;28mprint\u001b[39m(\u001b[38;5;124mf\u001b[39m\u001b[38;5;124m\"\u001b[39m\u001b[38;5;132;01m{\u001b[39;00mn\u001b[38;5;132;01m}\u001b[39;00m\u001b[38;5;124m is even\u001b[39m\u001b[38;5;124m\"\u001b[39m)\n\u001b[1;32m      8\u001b[0m \u001b[38;5;28;01melse\u001b[39;00m:\n",
      "\u001b[0;31mAssertionError\u001b[0m: Division ny zero is not possible"
     ]
    }
   ],
   "source": [
    "n = int(input(\"Enter a number: \"))\n",
    "\n",
    "\n",
    "if n % 2 == 0:\n",
    "    \n",
    "    assert n != 0, \"Division ny zero is not possible\"\n",
    "    print(f\"{n} is even\")\n",
    "else:\n",
    "    print(f\"{n} is odd\")\n"
   ]
  },
  {
   "cell_type": "markdown",
   "id": "93f0411f-34fe-4af8-8851-d5ed9d1afc42",
   "metadata": {},
   "source": [
    "16. Create a Python program that determines the eligibility of a person for a senior citizen discount based on age using if-else."
   ]
  },
  {
   "cell_type": "code",
   "execution_count": 9,
   "id": "a255ec09-e8e8-4a0f-9cff-fda7b618b248",
   "metadata": {},
   "outputs": [
    {
     "name": "stdin",
     "output_type": "stream",
     "text": [
      "Enter your age:  60\n"
     ]
    },
    {
     "name": "stdout",
     "output_type": "stream",
     "text": [
      "You are eligible for senior citizen discount.\n"
     ]
    }
   ],
   "source": [
    "age = int(input(\"Enter your age: \"))\n",
    "if age >= 60:\n",
    "    print(\"You are eligible for senior citizen discount.\")   \n",
    "    \n",
    "else:\n",
    "    print(\"You are not eligible.\")"
   ]
  },
  {
   "cell_type": "markdown",
   "id": "ce017f1f-f09d-4198-8bc9-7b733aeb4fa6",
   "metadata": {},
   "source": [
    "17. Write a Python program to categorize a given character as uppercase, lowercase, or neither using if-else."
   ]
  },
  {
   "cell_type": "code",
   "execution_count": 11,
   "id": "3aee879f-774f-4d82-8fdc-46d72730be89",
   "metadata": {},
   "outputs": [
    {
     "name": "stdin",
     "output_type": "stream",
     "text": [
      "Enter a character:  a\n"
     ]
    },
    {
     "name": "stdout",
     "output_type": "stream",
     "text": [
      "a is lower case\n"
     ]
    }
   ],
   "source": [
    "char = str(input(\"Enter a character: \"))\n",
    "\n",
    "if char.islower():\n",
    "    print(f\"{char} is lower case\")\n",
    "elif char.isupper():\n",
    "    print(f\"{char} is upper case\")\n",
    "else:\n",
    "    print(f\"{char} us neither upper nor lower case\")"
   ]
  },
  {
   "cell_type": "markdown",
   "id": "ca09e083-66aa-497a-a9ef-c9846a311b21",
   "metadata": {},
   "source": [
    "18. Write a Python program to determine the roots of a quadratic equation using if-else.\n"
   ]
  },
  {
   "cell_type": "code",
   "execution_count": 5,
   "id": "a727d36c-e834-4ca9-966b-c0b69e2c5dde",
   "metadata": {},
   "outputs": [
    {
     "name": "stdin",
     "output_type": "stream",
     "text": [
      "Enter coefficient a:  -1\n",
      "Enter coefficient b:  7\n",
      "Enter coefficient c:  10\n"
     ]
    },
    {
     "name": "stdout",
     "output_type": "stream",
     "text": [
      "Roots are real and distinct: -1.22 and 8.22\n"
     ]
    }
   ],
   "source": [
    "#aX^2 + bX + c = 0\n",
    "\n",
    "a = float(input(\"Enter coefficient a: \"))\n",
    "b = float(input(\"Enter coefficient b: \"))\n",
    "c = float(input(\"Enter coefficient c: \"))\n",
    "\n",
    "d = b**2 - (4*a*c)\n",
    "\n",
    "if d > 0:\n",
    "    root1 = (-b + d**0.5) / (2*a)\n",
    "    root2 = (-b - d**0.5) / (2*a)\n",
    "    print(f\"Roots are real and distinct: {round(root1, 2)} and {round(root2, 2)}\")\n",
    "elif d == 0:\n",
    "    root = (-b + d**0.5) / (2*a)\n",
    "    print(f\"Root is real and equal: {round(root)}\")\n",
    "else:\n",
    "    real = -b / 2*a\n",
    "    imaginary = abs(d**0.5)/ 2*a\n",
    "    print(f\"Roots are complex: {round(real, 2)} + {round(imaginary,  2)}i and {round(real, 2)} - {round(imaginary,  2)}i\")"
   ]
  },
  {
   "cell_type": "markdown",
   "id": "eda130b4-b6b3-413e-92b2-eda8a24e3d73",
   "metadata": {},
   "source": [
    "19. Create a Python program that checks if a given year is a century year or not using if-else.\n"
   ]
  },
  {
   "cell_type": "code",
   "execution_count": 4,
   "id": "cb0ba919-f567-4148-87ca-c5e1c1aaeb8a",
   "metadata": {},
   "outputs": [
    {
     "name": "stdin",
     "output_type": "stream",
     "text": [
      "Enter a year:  1901\n"
     ]
    },
    {
     "name": "stdout",
     "output_type": "stream",
     "text": [
      "1901 is not a century year\n"
     ]
    }
   ],
   "source": [
    "n = int(input(\"Enter a year: \"))\n",
    "\n",
    "if n % 100 == 0:\n",
    "    print(f\"{n} is a century year\")\n",
    "else:\n",
    "    print(f\"{n} is not a century year\")"
   ]
  },
  {
   "cell_type": "markdown",
   "id": "8abfc53d-66b9-486c-a5ca-10d067f37966",
   "metadata": {},
   "source": [
    "20. Write a Python program to determine if a given number is a perfect square using if-else.\n"
   ]
  },
  {
   "cell_type": "code",
   "execution_count": 20,
   "id": "39138ede-3875-4e18-ad6e-c4df96a6a1fc",
   "metadata": {},
   "outputs": [
    {
     "name": "stdin",
     "output_type": "stream",
     "text": [
      "Enter a number:  10\n"
     ]
    },
    {
     "name": "stdout",
     "output_type": "stream",
     "text": [
      "10 is not a perfect square\n"
     ]
    }
   ],
   "source": [
    "import math\n",
    "n = int(input(\"Enter a number: \"))\n",
    "sqrt = math.sqrt(n)\n",
    "\n",
    "if n % sqrt == 0:\n",
    "    print(f\"{n} is a perfect square\")\n",
    "else:\n",
    "    print(f\"{n} is not a perfect square\")\n"
   ]
  },
  {
   "cell_type": "markdown",
   "id": "1ad77053-847a-460a-913d-c21496b2b334",
   "metadata": {},
   "source": [
    "21. Explain the purpose of the \"continue\" and \"break\" statements within if-else loops."
   ]
  },
  {
   "cell_type": "markdown",
   "id": "a69bda61-16a3-4899-a5fd-14fcb293dc45",
   "metadata": {},
   "source": [
    "The continue statement is used to skip the remaining code in the current iteration of a loop and move on to the next iteration."
   ]
  },
  {
   "cell_type": "code",
   "execution_count": 22,
   "id": "d42c6aa2-35ee-47a8-93e9-2d0a96f92aed",
   "metadata": {},
   "outputs": [
    {
     "name": "stdout",
     "output_type": "stream",
     "text": [
      "1\n",
      "3\n",
      "5\n",
      "7\n",
      "9\n"
     ]
    }
   ],
   "source": [
    "for i in range(1, 11):\n",
    "    if i % 2 == 0:\n",
    "        continue  # Skip even numbers\n",
    "    print(i)"
   ]
  },
  {
   "cell_type": "markdown",
   "id": "86a43a77-08cb-4968-8b2a-adee8b32fd83",
   "metadata": {},
   "source": [
    "The break statement is used to exit a loop prematurely, regardless of whether the loop's condition is still met."
   ]
  },
  {
   "cell_type": "code",
   "execution_count": 23,
   "id": "ab89730c-3f15-48dc-bee0-953152ac2678",
   "metadata": {},
   "outputs": [
    {
     "name": "stdout",
     "output_type": "stream",
     "text": [
      "7 was found.\n"
     ]
    }
   ],
   "source": [
    "target = 7\n",
    "found = False\n",
    "for i in range(1, 11):\n",
    "    if i == target:\n",
    "        found = True\n",
    "        break  # Exit the loop once the target is found\n",
    "if found:\n",
    "    print(f\"{target} was found.\")\n",
    "else:\n",
    "    print(f\"{target} was not found.\")"
   ]
  },
  {
   "cell_type": "markdown",
   "id": "e3fa9c93-71b8-4704-ab5c-90131901a1f1",
   "metadata": {},
   "source": [
    "22. Create a Python program that calculates the BMI (Body Mass Index) of a person based on their weight and height using if-else.\n",
    "\n"
   ]
  },
  {
   "cell_type": "markdown",
   "id": "179bf79a-85d8-41e3-904f-5bcdf74a297b",
   "metadata": {},
   "source": [
    "BMI is weight in kilograms divided by height in meters squared"
   ]
  },
  {
   "cell_type": "code",
   "execution_count": 3,
   "id": "45aa2a87-cce0-4da1-bcc7-afd2296e8613",
   "metadata": {},
   "outputs": [
    {
     "name": "stdin",
     "output_type": "stream",
     "text": [
      "Enter a weight in Kg:  90\n",
      "Enter a height in meter:  1.65\n"
     ]
    },
    {
     "name": "stdout",
     "output_type": "stream",
     "text": [
      "Obese Class I\n"
     ]
    }
   ],
   "source": [
    "w = float(input(\"Enter a weight in Kg: \"))\n",
    "h = float(input(\"Enter a height in meter: \"))\n",
    "\n",
    "bmi = w / (h**2)\n",
    "\n",
    "if bmi < 16: \n",
    "    print(\"Severe Thinness\")\n",
    "elif 16 <= bmi < 17:\n",
    "    print(\"Moderate Thinness\")\n",
    "elif 17 <= bmi < 18.5:\n",
    "    print(\"Mild Thinness\")\n",
    "elif 18.5 <= bmi < 25:\n",
    "    print(\"Normal\")\n",
    "elif 25 <= bmi < 30:\n",
    "    print(\"Overweight\")\n",
    "elif 30 <= bmi < 35:\n",
    "    print(\"Obese Class I\")\n",
    "elif 35 <= bmi < 40:\n",
    "    print(\"Obese Class II\")\n",
    "else:\n",
    "    print(\"Obese Class III\")"
   ]
  },
  {
   "cell_type": "markdown",
   "id": "36228195-4129-45d9-b4e9-c643d056bd35",
   "metadata": {},
   "source": [
    "23. How can you use the \"filter()\" function with if-else statements to filter elements from a list?"
   ]
  },
  {
   "cell_type": "code",
   "execution_count": 4,
   "id": "209a8bf7-7e92-4585-a627-3e028ef0b82a",
   "metadata": {},
   "outputs": [
    {
     "name": "stdout",
     "output_type": "stream",
     "text": [
      "Filtered numbers: [2, 4, 6, 8, 10]\n"
     ]
    }
   ],
   "source": [
    "def condition(x):\n",
    "    if x % 2 == 0:\n",
    "        return True\n",
    "    else:\n",
    "        return False\n",
    "\n",
    "numbers = [1, 2, 3, 4, 5, 6, 7, 8, 9, 10]\n",
    "\n",
    "filtered_numbers = filter(condition, numbers)\n",
    "\n",
    "print(\"Filtered numbers:\", list(filtered_numbers))"
   ]
  },
  {
   "cell_type": "markdown",
   "id": "32dbb7a1-6bbb-4bb5-b9e9-a96ade8a07e5",
   "metadata": {},
   "source": [
    "24. Write a Python program to determine if a given number is prime or not using if-else.\n"
   ]
  },
  {
   "cell_type": "code",
   "execution_count": 23,
   "id": "9c57870e-ab92-4ac8-a7ca-eb8517702472",
   "metadata": {},
   "outputs": [
    {
     "name": "stdin",
     "output_type": "stream",
     "text": [
      "Enter a number:  11\n"
     ]
    },
    {
     "name": "stdout",
     "output_type": "stream",
     "text": [
      "11 is prime\n"
     ]
    }
   ],
   "source": [
    "n = int(input(\"Enter a number: \"))\n",
    "is_prime = True\n",
    "if n <=1:\n",
    "    print(\"{n} is not prime\")\n",
    "else:\n",
    "    for i in range(2, int(n/2)+1):\n",
    "        if n % i == 0:\n",
    "            is_prime = False\n",
    "            break\n",
    "        \n",
    "if is_prime:\n",
    "    print(f\"{n} is prime\")\n",
    "else:        \n",
    "    print(f\"{n} is not prime\")\n",
    "        "
   ]
  },
  {
   "cell_type": "code",
   "execution_count": null,
   "id": "4260fca3-1c56-4ff9-8eac-6f3b67b9438c",
   "metadata": {},
   "outputs": [],
   "source": []
  },
  {
   "cell_type": "markdown",
   "id": "60dca333-8bb5-4151-8afa-76577e963ebf",
   "metadata": {},
   "source": [
    "Map :-\n"
   ]
  },
  {
   "cell_type": "markdown",
   "id": "faab0f20-aed6-4970-be86-128d7cae371b",
   "metadata": {},
   "source": [
    "1. Explain the purpose of the `map()` function in Python and provide an example of how it can be used to apply a function to each element of an iterable.\n"
   ]
  },
  {
   "cell_type": "markdown",
   "id": "e95c6856-70ac-45d2-86ff-15abcb17b614",
   "metadata": {},
   "source": [
    "The map() function in Python is used to apply a specified function to each item in an iterable (e.g., a list, tuple, or other iterable). It returns an iterator that yields the results of applying the function to each element of the iterable, one by one."
   ]
  },
  {
   "cell_type": "code",
   "execution_count": 8,
   "id": "44c7b4be-da86-4ac6-ac6c-a67f9febe31e",
   "metadata": {},
   "outputs": [
    {
     "name": "stdout",
     "output_type": "stream",
     "text": [
      "Number: [1, 2, 3, 4, 5, 6, 10]\n",
      "Square: [1, 4, 9, 16, 25, 36, 100]\n"
     ]
    }
   ],
   "source": [
    "def square(x):\n",
    "    return x**2\n",
    "\n",
    "number = [1,2,3,4,5,6,10]\n",
    "\n",
    "square_number = list(map(square, number))\n",
    "\n",
    "print(f\"Number: {number}\")\n",
    "print(f\"Square: {square_number}\")\n"
   ]
  },
  {
   "cell_type": "markdown",
   "id": "b32e8f23-df99-47c2-822e-af4e65e5bfe6",
   "metadata": {},
   "source": [
    "2. Write a Python program that uses the `map()` function to square each element of a list of numbers.\n"
   ]
  },
  {
   "cell_type": "code",
   "execution_count": 9,
   "id": "f6b9f227-ad3b-47bc-937a-ae12ed776f50",
   "metadata": {},
   "outputs": [
    {
     "name": "stdout",
     "output_type": "stream",
     "text": [
      "Number: [1, 2, 3, 4, 5, 6, 10]\n",
      "Square: [1, 4, 9, 16, 25, 36, 100]\n"
     ]
    }
   ],
   "source": [
    "def square(x):\n",
    "    return x**2\n",
    "\n",
    "number = [1,2,3,4,5,6,10]\n",
    "\n",
    "square_number = list(map(square, number))\n",
    "\n",
    "print(f\"Number: {number}\")\n",
    "print(f\"Square: {square_number}\")"
   ]
  },
  {
   "cell_type": "markdown",
   "id": "567a0012-71f9-4cc2-807d-ae0dadff3cda",
   "metadata": {},
   "source": [
    "3. How does the `map()` function differ from a list comprehension in Python, and when would you choose one over the other?\n"
   ]
  },
  {
   "cell_type": "markdown",
   "id": "2f703a5c-385c-4481-ba13-cb0902c20f7e",
   "metadata": {},
   "source": [
    "map(): map() is a higher-order function that takes two arguments: a function and an iterable. It applies the function to each element of the iterable and returns an iterator.\n",
    "List Comprehension: List comprehensions have a more compact and expressive syntax. It allow to create a new list by specifying the transformation and filtering conditions within square brackets.\n",
    "\n",
    "map(): In some cases, map() might have a slight performance advantage over list comprehensions, particularly when working with built-in functions or functions that are already defined. \n",
    "List Comprehension: List comprehensions are generally considered more Pythonic and idiomatic for straightforward transformations and filtering. \n",
    "\n",
    "map(): map() is useful when an existing function (or a function to reuse) that want to apply to each element of an iterable.\n",
    "List Comprehension: List comprehensions are great for creating new lists with transformed or filtered data."
   ]
  },
  {
   "cell_type": "markdown",
   "id": "1eb67259-28b3-4114-9c5c-8bf59aed1eac",
   "metadata": {},
   "source": [
    "4. Create a Python program that uses the `map()` function to convert a list of names to uppercase.\n"
   ]
  },
  {
   "cell_type": "code",
   "execution_count": 23,
   "id": "0f410391-ee9f-49f9-bdd5-ba9a1aa5cd8b",
   "metadata": {},
   "outputs": [
    {
     "name": "stdout",
     "output_type": "stream",
     "text": [
      "name in upper: ['RAHUL', 'PRIYA', 'DEEP', 'LEARNING']\n"
     ]
    }
   ],
   "source": [
    "def upper(name):\n",
    "    for i in name.split():\n",
    "        return i.upper()\n",
    "list_name = [\"rahul\", \"priya\", \"deep\", \"learning\"]\n",
    "\n",
    "upper_name = list(map(upper, list_name))\n",
    "\n",
    "print(f\"name in upper: {upper_name}\")"
   ]
  },
  {
   "cell_type": "markdown",
   "id": "00dd05e2-5650-42b0-a728-0ac1c92862c5",
   "metadata": {},
   "source": [
    "5. Write a Python program that uses the `map()` function to calculate the length of each word in a list of strings.\n"
   ]
  },
  {
   "cell_type": "code",
   "execution_count": 26,
   "id": "a7d33ad2-a9e4-40b5-84ae-066da792b265",
   "metadata": {},
   "outputs": [
    {
     "name": "stdout",
     "output_type": "stream",
     "text": [
      " length of each word : [('rahul', 5), ('priya', 5), ('deep', 4), ('learning', 8)]\n"
     ]
    }
   ],
   "source": [
    "def length(name):\n",
    "    for i in name.split():\n",
    "        return i,len(i)\n",
    "list_name = [\"rahul\", \"priya\", \"deep\", \"learning\"]\n",
    "\n",
    "length_word = list(map(length, list_name))\n",
    "\n",
    "print(f\" length of each word : {length_word}\")"
   ]
  },
  {
   "cell_type": "markdown",
   "id": "72f08db6-883d-487d-88ff-0f65dffb3dc3",
   "metadata": {},
   "source": [
    "6. How can you use the `map()` function to apply a custom function to elements of multiple lists simultaneously in Python?\n"
   ]
  },
  {
   "cell_type": "code",
   "execution_count": 3,
   "id": "49b45ed1-d389-4305-83ef-c6d8ad94e610",
   "metadata": {},
   "outputs": [
    {
     "name": "stdout",
     "output_type": "stream",
     "text": [
      "Result: [5, 7, 9]\n"
     ]
    }
   ],
   "source": [
    "def add(x, y):\n",
    "    return x + y\n",
    "\n",
    "# Create two lists\n",
    "list1 = [1, 2, 3]\n",
    "list2 = [4, 5, 6]\n",
    "\n",
    "# Use map() to apply the custom function to elements of both lists\n",
    "result = list(map(add, list1, list2))\n",
    "\n",
    "# Print the result\n",
    "print(\"Result:\", result)"
   ]
  },
  {
   "cell_type": "markdown",
   "id": "8979bc9f-4008-486d-852a-481388979a88",
   "metadata": {},
   "source": [
    "7. Create a Python program that uses `map()` to convert a list of temperatures from Celsius to Fahrenheit.\n"
   ]
  },
  {
   "cell_type": "code",
   "execution_count": 7,
   "id": "f7f9e24d-b907-42b9-8ff3-8c85b168c9cd",
   "metadata": {},
   "outputs": [
    {
     "name": "stdout",
     "output_type": "stream",
     "text": [
      "Temperature in celsius:  [41, 56, 87, 89, 100, 45]\n",
      "Temperature in Fahrenheit:  [105.8, 132.8, 188.6, 192.2, 212.0, 113.0]\n"
     ]
    }
   ],
   "source": [
    "def cel_fah(temp):\n",
    "    return round((temp * (9/5)) + 32 , 2)\n",
    "\n",
    "temp_cel = [41,56,87,89,100,45]\n",
    "\n",
    "temp_fah = list(map(cel_fah, temp_cel))\n",
    "\n",
    "print(\"Temperature in celsius: \", temp_cel)\n",
    "print(\"Temperature in Fahrenheit: \", temp_fah)"
   ]
  },
  {
   "cell_type": "markdown",
   "id": "79c0fd10-ead3-4ac2-b195-4a13fec4bbaf",
   "metadata": {},
   "source": [
    "8. Write a Python program that uses the `map()` function to round each element of a list of floating-point numbers to the nearest integer.\n"
   ]
  },
  {
   "cell_type": "code",
   "execution_count": 1,
   "id": "498bf4d5-bcf5-4d2d-a0ad-1510125ed875",
   "metadata": {},
   "outputs": [
    {
     "data": {
      "text/plain": [
       "[2, 3, 6, 6, 10, 5, 0]"
      ]
     },
     "execution_count": 1,
     "metadata": {},
     "output_type": "execute_result"
    }
   ],
   "source": [
    "number = [2.4,3,5.9,6.3,9.9,5.2, 0.23]\n",
    "rounded = list(map(round, number))\n",
    "rounded"
   ]
  },
  {
   "cell_type": "markdown",
   "id": "67397ded-2bb0-4856-9ac2-42999a9feb47",
   "metadata": {},
   "source": [
    "."
   ]
  },
  {
   "cell_type": "markdown",
   "id": "267595c6-9e2d-4f9e-ac50-f1c799192084",
   "metadata": {},
   "source": [
    "Reduce :-\n"
   ]
  },
  {
   "cell_type": "markdown",
   "id": "159de7e1-0f21-41c8-b5f1-f4708ae1b49d",
   "metadata": {},
   "source": [
    "1. What is the `reduce()` function in Python, and what module should you import to use it? Provide an example of its basic usage"
   ]
  },
  {
   "cell_type": "markdown",
   "id": "d839076d-40e4-412f-b6e5-d8b8c4d3e961",
   "metadata": {},
   "source": [
    "The reduce(fun,seq) function is used to apply a particular function passed in its argument to all of the list elements mentioned in the sequence passed along.This function is defined in “functools” module."
   ]
  },
  {
   "cell_type": "code",
   "execution_count": 6,
   "id": "94e2d5ed-5c1a-4b7f-9fa4-e3cc7af83a63",
   "metadata": {},
   "outputs": [
    {
     "name": "stdout",
     "output_type": "stream",
     "text": [
      "Sum: 15\n"
     ]
    }
   ],
   "source": [
    "from functools import reduce\n",
    "\n",
    "def sum_list(x, y):\n",
    "    return x + y\n",
    "\n",
    "\n",
    "numbers = [1, 2, 3, 4, 5]\n",
    "\n",
    "\n",
    "sum = reduce(sum_list, numbers)\n",
    "\n",
    "print(\"Sum:\", sum)"
   ]
  },
  {
   "cell_type": "markdown",
   "id": "b9ddfd2d-11be-4a94-918f-218655fd8457",
   "metadata": {},
   "source": [
    "2. Write a Python program that uses the `reduce()` function to find the product of all elements in a list.\n"
   ]
  },
  {
   "cell_type": "code",
   "execution_count": 7,
   "id": "3257f340-7b07-47c6-9a03-4890934569aa",
   "metadata": {},
   "outputs": [
    {
     "name": "stdout",
     "output_type": "stream",
     "text": [
      "Product: 120\n"
     ]
    }
   ],
   "source": [
    "from functools import reduce\n",
    "\n",
    "def multiply(x, y):\n",
    "    return x * y\n",
    "\n",
    "\n",
    "numbers = [1, 2, 3, 4, 5]\n",
    "product = reduce(multiply, numbers)\n",
    "\n",
    "print(\"Product:\", product)"
   ]
  },
  {
   "cell_type": "markdown",
   "id": "d23aacde-85e8-4e52-857f-6f089b7f963b",
   "metadata": {},
   "source": [
    "3. Create a Python program that uses `reduce()` to find the maximum element in a list of numbers.\n"
   ]
  },
  {
   "cell_type": "code",
   "execution_count": 8,
   "id": "2bc68783-0111-4694-860f-9205cc243670",
   "metadata": {},
   "outputs": [
    {
     "data": {
      "text/plain": [
       "9.9"
      ]
     },
     "execution_count": 8,
     "metadata": {},
     "output_type": "execute_result"
    }
   ],
   "source": [
    "from functools import reduce\n",
    "number = [2.4,3,5.9,6.3,9.9,5.2, 0.23]\n",
    "maximum = reduce(max, number)\n",
    "maximum"
   ]
  },
  {
   "cell_type": "markdown",
   "id": "5095eb11-d77d-4720-ad63-9caebb7dd1be",
   "metadata": {},
   "source": [
    "4. How can you use the `reduce()` function to concatenate a list of strings into a single string?\n"
   ]
  },
  {
   "cell_type": "code",
   "execution_count": 11,
   "id": "ab4a7a40-3079-49de-8a86-cfc65ce7c216",
   "metadata": {},
   "outputs": [
    {
     "data": {
      "text/plain": [
       "'pwskillassignment'"
      ]
     },
     "execution_count": 11,
     "metadata": {},
     "output_type": "execute_result"
    }
   ],
   "source": [
    "from functools import reduce\n",
    "def concantenate(s1, s2):\n",
    "    return s1 + s2\n",
    "string = [\"pw\", \"skill\", \"assignment\"]\n",
    "\n",
    "con = reduce(concantenate, string)\n",
    "con"
   ]
  },
  {
   "cell_type": "markdown",
   "id": "6d868bf1-14a7-4d3a-a6b0-624b642d9265",
   "metadata": {},
   "source": [
    "5. Write a Python program that calculates the factorial of a number using the `reduce()` function.\n"
   ]
  },
  {
   "cell_type": "code",
   "execution_count": 12,
   "id": "a0639b22-adcd-44cf-9802-7cccd4c2a40d",
   "metadata": {},
   "outputs": [
    {
     "name": "stdin",
     "output_type": "stream",
     "text": [
      "Enter a number:  5\n"
     ]
    },
    {
     "name": "stdout",
     "output_type": "stream",
     "text": [
      "Factorial: 120\n"
     ]
    }
   ],
   "source": [
    "from functools import reduce\n",
    "\n",
    "def fact(x, y):\n",
    "    return x * y\n",
    "\n",
    "numbers = int(input(\"Enter a number: \"))\n",
    "num_list = [i for i in range(1, numbers+1)]\n",
    "product = reduce(fact, num_list)\n",
    "\n",
    "print(\"Factorial:\", product)"
   ]
  },
  {
   "cell_type": "markdown",
   "id": "37474345-ea04-428e-8146-ce409bef7693",
   "metadata": {},
   "source": [
    "6. Create a Python program that uses `reduce()` to find the GCD (Greatest Common Divisor) of a list of numbers.\n"
   ]
  },
  {
   "cell_type": "code",
   "execution_count": 35,
   "id": "961921ee-9824-47da-b80b-c6d47bed3316",
   "metadata": {},
   "outputs": [
    {
     "name": "stdout",
     "output_type": "stream",
     "text": [
      "GCD: 12\n"
     ]
    }
   ],
   "source": [
    "from functools import reduce\n",
    "\n",
    "def GCD(a, b):\n",
    "    while b != 0:\n",
    "        a, b = b, a % b\n",
    "    return a\n",
    "\n",
    "l1 = [36, 48, 60, 72]\n",
    "\n",
    "gcd = reduce(GCD, l1)\n",
    "\n",
    "print(\"GCD:\", gcd)\n"
   ]
  },
  {
   "cell_type": "markdown",
   "id": "2e9fe81c-84ad-4efe-b64f-93da784049ee",
   "metadata": {},
   "source": [
    "7. Write a Python program that uses the `reduce()` function to find the sum of the digits of a given number.\n"
   ]
  },
  {
   "cell_type": "code",
   "execution_count": 36,
   "id": "799ec1e3-be45-4bd8-8e0c-cf3c3edc7bbf",
   "metadata": {},
   "outputs": [
    {
     "name": "stdin",
     "output_type": "stream",
     "text": [
      "Enter a number:  123\n"
     ]
    },
    {
     "name": "stdout",
     "output_type": "stream",
     "text": [
      "Sum of Digits: 6\n"
     ]
    }
   ],
   "source": [
    "from functools import reduce\n",
    "\n",
    "def add_digits(x, y):\n",
    "    return int(x) + int(y)\n",
    "\n",
    "number = input(\"Enter a number: \")\n",
    "sum_of_digits = reduce(add_digits, number)\n",
    "\n",
    "print(\"Sum of Digits:\", sum_of_digits)"
   ]
  },
  {
   "cell_type": "markdown",
   "id": "018a568c-8c4e-4cdd-8adf-44b3f61eb89f",
   "metadata": {},
   "source": [
    "."
   ]
  },
  {
   "cell_type": "markdown",
   "id": "9438d994-3256-4603-94a1-b9bd42a39602",
   "metadata": {},
   "source": [
    "Filter :-\n"
   ]
  },
  {
   "cell_type": "markdown",
   "id": "955933bb-7248-43dc-bf35-cc042dbbe77f",
   "metadata": {},
   "source": [
    "1. Explain the purpose of the `filter()` function in Python and provide an example of how it can be used to filter elements from an iterable.\n"
   ]
  },
  {
   "cell_type": "markdown",
   "id": "2bcdb4db-ec57-41b2-a89b-cb699610228a",
   "metadata": {},
   "source": [
    "The filter() function in Python is used to filter elements from an iterable (e.g., a list, tuple, or other iterable) based on a specified condition or criteria. It returns an iterator that yields the elements from the iterable for which the condition defined by a function is True. "
   ]
  },
  {
   "cell_type": "code",
   "execution_count": 31,
   "id": "596ebca2-2f98-4ce2-8e2c-5db1cae89c17",
   "metadata": {},
   "outputs": [
    {
     "name": "stdout",
     "output_type": "stream",
     "text": [
      "Odd numbers: [1, 3, 5, 7, 9]\n"
     ]
    }
   ],
   "source": [
    "def is_odd(x):\n",
    "    return x % 2 != 0\n",
    "\n",
    "numbers = [1, 2, 3, 4, 5, 6, 7, 8, 9, 10]\n",
    "\n",
    "odd_numbers = list(filter(is_odd, numbers))\n",
    "\n",
    "\n",
    "print(\"Odd numbers:\", odd_numbers)"
   ]
  },
  {
   "cell_type": "markdown",
   "id": "cdd7223f-aad9-4cee-8eb9-82f44623f3d3",
   "metadata": {},
   "source": [
    "2. Write a Python program that uses the `filter()` function to select even numbers from a list of integers."
   ]
  },
  {
   "cell_type": "code",
   "execution_count": 38,
   "id": "e0f8f540-ac5a-48bc-bd33-c5c4e9b4c7d3",
   "metadata": {},
   "outputs": [
    {
     "name": "stdout",
     "output_type": "stream",
     "text": [
      "Even numbers: [2, 4, 6, 8, 10]\n"
     ]
    }
   ],
   "source": [
    "def is_even(x):\n",
    "    return x % 2 == 0\n",
    "\n",
    "numbers = [1, 2, 3, 4, 5, 6, 7, 8, 9, 10]\n",
    "\n",
    "even_numbers = list(filter(is_even, numbers))\n",
    "\n",
    "print(\"Even numbers:\", even_numbers)"
   ]
  },
  {
   "cell_type": "markdown",
   "id": "9bcf2765-b257-48e8-87b6-ee1ea274a78d",
   "metadata": {},
   "source": [
    "3. Create a Python program that uses the `filter()` function to select names that start with a specific letter from a list of strings.\n"
   ]
  },
  {
   "cell_type": "code",
   "execution_count": 32,
   "id": "9f871bb4-ef69-4f5c-9896-3ff7e27ecbc0",
   "metadata": {},
   "outputs": [
    {
     "data": {
      "text/plain": [
       "['rahul']"
      ]
     },
     "execution_count": 32,
     "metadata": {},
     "output_type": "execute_result"
    }
   ],
   "source": [
    "def name(string, s='r'):\n",
    "    if string[0] == s:\n",
    "        return string\n",
    "\n",
    "string = [\"rahul\", 'manu', 'sunil']\n",
    "\n",
    "name_list = list(filter(name, string))\n",
    "\n",
    "name_list"
   ]
  },
  {
   "cell_type": "markdown",
   "id": "8904cfe0-ba19-493f-b4e5-6df01a856edc",
   "metadata": {},
   "source": [
    "4. Write a Python program that uses the `filter()` function to select prime numbers from a list of integers.\n"
   ]
  },
  {
   "cell_type": "code",
   "execution_count": 7,
   "id": "69e03b4f-f1db-48ed-947d-68e2836005c5",
   "metadata": {},
   "outputs": [
    {
     "name": "stdout",
     "output_type": "stream",
     "text": [
      "Even numbers: [1, 3, 5, 7, 9]\n"
     ]
    }
   ],
   "source": [
    "def prime(num):\n",
    "    if num < 1:\n",
    "        return False\n",
    "    if num == 1:\n",
    "        return True\n",
    "    if num == 3:\n",
    "        return True\n",
    "    if num >= 5:\n",
    "        for i in range(2, int(num ** 0.5)+1):\n",
    "            if num % i == 0:\n",
    "                return False\n",
    "                break\n",
    "            else:\n",
    "                return True\n",
    "numbers = [1, 2, 3, 4, 5, 6, 7, 8, 9, 10]\n",
    "\n",
    "prime_numbers = list(filter(prime, numbers))\n",
    "\n",
    "print(\"Prime numbers:\", prime_numbers)"
   ]
  },
  {
   "cell_type": "markdown",
   "id": "29ad4dca-a940-4596-9e16-0e047422b767",
   "metadata": {},
   "source": [
    "5. How can you use the `filter()` function to remove None values from a list in Python?\n"
   ]
  },
  {
   "cell_type": "code",
   "execution_count": 13,
   "id": "638e2d3c-9a09-4afa-be9d-ba2bf3080f92",
   "metadata": {},
   "outputs": [
    {
     "name": "stdout",
     "output_type": "stream",
     "text": [
      "list with out none: [1, 4, 5, 8, 'skill']\n"
     ]
    }
   ],
   "source": [
    "def remove_none(string):\n",
    "        if string != None:\n",
    "            return string\n",
    "        \n",
    "test_list = [1, None, 4, None, None, 5, 8, None, 'skill']\n",
    "\n",
    "without_none = list(filter(remove_none, test_list))\n",
    "\n",
    "print(\"list with out none:\", without_none)"
   ]
  },
  {
   "cell_type": "markdown",
   "id": "77080cbc-52c5-48e2-8c5e-08c9b37c7c13",
   "metadata": {},
   "source": [
    "6. Create a Python program that uses `filter()` to select words longer than a certain length from a list of strings.\n"
   ]
  },
  {
   "cell_type": "code",
   "execution_count": 23,
   "id": "eebea6f1-8e9f-4ba7-96bc-04a47b8e3d02",
   "metadata": {},
   "outputs": [
    {
     "name": "stdin",
     "output_type": "stream",
     "text": [
      "Enter the mininum length of the string:  3\n"
     ]
    },
    {
     "name": "stdout",
     "output_type": "stream",
     "text": [
      "list with out none: ['skill']\n"
     ]
    }
   ],
   "source": [
    "def length(string, l):\n",
    "        if len(string) > l:\n",
    "            return string\n",
    "        \n",
    "test_list = ['skill', 'a', 'of', 'the']\n",
    "l = int(input(\"Enter the mininum length of the string: \"))\n",
    "\n",
    "without_none = list(filter(lambda string: length(string, l), test_list))\n",
    "\n",
    "print(\"list with out none:\", without_none)"
   ]
  },
  {
   "cell_type": "markdown",
   "id": "170d5d63-3c15-4a8e-be8c-73eb82fac124",
   "metadata": {},
   "source": [
    "7. Write a Python program that uses the `filter()` function to select elements greater than a specified threshold from a list of values.\n"
   ]
  },
  {
   "cell_type": "code",
   "execution_count": 37,
   "id": "c15f6022-a661-40f5-8e23-d55127fbb75d",
   "metadata": {},
   "outputs": [
    {
     "name": "stdin",
     "output_type": "stream",
     "text": [
      "Enter the threshold value:  5\n"
     ]
    },
    {
     "name": "stdout",
     "output_type": "stream",
     "text": [
      "list with out none: [6, 7, 8, 9, 10]\n"
     ]
    }
   ],
   "source": [
    "def threshold(list1, limit):\n",
    "    return list1 > limit\n",
    "numbers = [1, 2, 3, 4, 5, 6, 7, 8, 9, 10]\n",
    "limit = int(input(\"Enter the threshold value: \"))\n",
    "\n",
    "upper= list(filter(lambda l1: threshold(l1, limit), numbers))\n",
    "\n",
    "print(\"list with out none:\", upper)"
   ]
  },
  {
   "cell_type": "markdown",
   "id": "d912fe31-0040-43b4-a355-bcc7a55115c4",
   "metadata": {},
   "source": [
    "."
   ]
  },
  {
   "cell_type": "markdown",
   "id": "e207726f-df53-45a5-91b3-40acae0a221a",
   "metadata": {},
   "source": [
    "Recursion:-\n"
   ]
  },
  {
   "cell_type": "markdown",
   "id": "0e1d9a92-c79a-491b-95b0-a3e453eef960",
   "metadata": {},
   "source": [
    "1. Explain the concept of recursion in Python. How does it differ from iteration?\n"
   ]
  },
  {
   "cell_type": "markdown",
   "id": "8511b741-80ba-439b-abea-02e372ef730b",
   "metadata": {},
   "source": [
    "Recursion in programming involves a function calling itself to tackle a problem. Such a recursive function comprises two key components. First, there are base cases, which represent the simplest scenarios where the function can directly provide an answer without further recursion, preventing infinite looping. Second, recursive cases involve the function dividing a complex problem into smaller, akin sub-problems. These sub-problems are then solved by calling the function again with adjusted arguments.\n",
    "Iteration is the process of repeating a set of instructions using loops, such as for and while loops. In iteration, there is more control over the flow of the program and can explicitly specify how many times a set of instructions should be repeated.\n",
    "\n",
    "Key Difference:\n",
    "1. In recursion, control flows through function calls and returns, while in iteration, control flows through loop constructs.\n",
    "2. Recursive functions can consume more memory because each recursive call creates a new stack frame. Iteration typically uses a fixed amount of memory.\n",
    "3. Iteration is usually more efficient for many tasks because it avoids the overhead of function calls. However, for some problems, recursion can be equally efficient or even more so due to its divide-and-conquer nature.\n",
    "4. Recursion can be more elegant for certain problems, making the code easier to understand. Iteration can be more explicit and is often easier to follow for simple repetitive tasks.\n"
   ]
  },
  {
   "cell_type": "markdown",
   "id": "6c21b187-15d6-47f2-b278-cca3dd64e496",
   "metadata": {},
   "source": [
    "2. Write a Python program to calculate the factorial of a number using recursion.\n"
   ]
  },
  {
   "cell_type": "code",
   "execution_count": 39,
   "id": "4ae979db-e0ca-4d67-a2f5-0e696a2cfd71",
   "metadata": {},
   "outputs": [
    {
     "data": {
      "text/plain": [
       "120"
      ]
     },
     "execution_count": 39,
     "metadata": {},
     "output_type": "execute_result"
    }
   ],
   "source": [
    "def fact(n):\n",
    "    if n <= 1:\n",
    "        return 1\n",
    "    else:\n",
    "        return n * fact(n-1)\n",
    "fact(5)"
   ]
  },
  {
   "cell_type": "markdown",
   "id": "9a0d79b0-a89f-4b7c-b23d-f88d4a7bfa12",
   "metadata": {},
   "source": [
    "3. Create a recursive Python function to find the nth Fibonacci number.\n"
   ]
  },
  {
   "cell_type": "code",
   "execution_count": 53,
   "id": "c2655f02-1e51-4082-8ed7-cb544d80bc40",
   "metadata": {},
   "outputs": [
    {
     "data": {
      "text/plain": [
       "34"
      ]
     },
     "execution_count": 53,
     "metadata": {},
     "output_type": "execute_result"
    }
   ],
   "source": [
    "def fib(n):\n",
    "    if n == 0:\n",
    "        return 0\n",
    "    elif n == 1 or n == 2:\n",
    "        return 1\n",
    "    else:\n",
    "        return fib(n-1) + fib(n-2) \n",
    "fib(9)"
   ]
  },
  {
   "cell_type": "markdown",
   "id": "d289c8ff-2dda-4f43-b9f5-df24f9fe4d7d",
   "metadata": {},
   "source": [
    " 4. Write a recursive Python function to calculate the sum of all elements in a list.\n"
   ]
  },
  {
   "cell_type": "code",
   "execution_count": 60,
   "id": "a9e127bd-7c25-44db-9df9-3c2dd5de5b30",
   "metadata": {},
   "outputs": [
    {
     "data": {
      "text/plain": [
       "55"
      ]
     },
     "execution_count": 60,
     "metadata": {},
     "output_type": "execute_result"
    }
   ],
   "source": [
    "def sum_list(list1):\n",
    "    s = 0\n",
    "    if len(list1) == 1:\n",
    "        return list1[0]\n",
    "    else:\n",
    "        return list1[0] + sum_list(list1[1:])\n",
    "    \n",
    "    \n",
    "l = [1,2,3,4,5,6,7,8,9,10]    \n",
    "sum_list(l)"
   ]
  },
  {
   "cell_type": "markdown",
   "id": "c7b67d15-a7f4-41b5-b92a-14b7024caebe",
   "metadata": {},
   "source": [
    "5. How can you prevent a recursive function from running indefinitely, causing a stack overflow error?\n"
   ]
  },
  {
   "cell_type": "markdown",
   "id": "13d6f6a3-3fb9-4c0a-bf22-f6aa939f5ee3",
   "metadata": {},
   "source": [
    "* Define one or more base cases in your recursive function. Base cases are conditions under which the recursion stops and the function returns a result directly\n",
    "* Ensure that the recursive function moves towards the base case(s) with each recursive call. In other words, make sure that the input to the function is modified in a way that brings it closer to the base case. If the input remains unchanged or moves away from the base case, it can lead to infinite recursion.\n"
   ]
  },
  {
   "cell_type": "markdown",
   "id": "94319cd3-e55c-418a-a276-468213a4189f",
   "metadata": {},
   "source": [
    "6. Create a recursive Python function to find the greatest common divisor (GCD) of two numbers using the Euclidean algorithm.\n"
   ]
  },
  {
   "cell_type": "code",
   "execution_count": 61,
   "id": "0324a34a-6588-4e6c-bdd6-b990b49cb7f2",
   "metadata": {},
   "outputs": [
    {
     "data": {
      "text/plain": [
       "10"
      ]
     },
     "execution_count": 61,
     "metadata": {},
     "output_type": "execute_result"
    }
   ],
   "source": [
    "def GCD(x,y):\n",
    "    if y == 0:\n",
    "        return x\n",
    "    else:\n",
    "        return GCD(y, x%y)\n",
    "    \n",
    "x = 10\n",
    "y = 20\n",
    "\n",
    "GCD(x,y)"
   ]
  },
  {
   "cell_type": "markdown",
   "id": "c941cecd-de25-4648-be9a-41b43d4c2cbe",
   "metadata": {},
   "source": [
    "7. Write a recursive Python function to reverse a string.\n"
   ]
  },
  {
   "cell_type": "code",
   "execution_count": 65,
   "id": "248426af-f598-4480-8dc2-8bad9ca50325",
   "metadata": {},
   "outputs": [
    {
     "data": {
      "text/plain": [
       "'luhar'"
      ]
     },
     "execution_count": 65,
     "metadata": {},
     "output_type": "execute_result"
    }
   ],
   "source": [
    "def reverse(string):\n",
    "    if len(string) == 0:\n",
    "        return \"Enter a string\"\n",
    "    elif len(string) == 1:\n",
    "        return string[0]\n",
    "    else:\n",
    "        return reverse(string[1:]) + string[0]\n",
    "\n",
    "string = 'rahul'\n",
    "reverse(string)\n",
    "    "
   ]
  },
  {
   "cell_type": "code",
   "execution_count": 64,
   "id": "a37fe55a-c2fe-46c9-884b-5a31005eae7d",
   "metadata": {},
   "outputs": [
    {
     "data": {
      "text/plain": [
       "'Enter a string'"
      ]
     },
     "execution_count": 64,
     "metadata": {},
     "output_type": "execute_result"
    }
   ],
   "source": [
    "reverse([])"
   ]
  },
  {
   "cell_type": "markdown",
   "id": "61ace056-2e77-4daf-95e2-50ad20a04064",
   "metadata": {},
   "source": [
    "8. Create a recursive Python function to calculate the power of a number (x^n).\n"
   ]
  },
  {
   "cell_type": "code",
   "execution_count": 68,
   "id": "4a56a756-c069-4389-bdaf-ca8bb04bdccd",
   "metadata": {},
   "outputs": [
    {
     "data": {
      "text/plain": [
       "256"
      ]
     },
     "execution_count": 68,
     "metadata": {},
     "output_type": "execute_result"
    }
   ],
   "source": [
    "def power(x,n):\n",
    "    if n == 0:\n",
    "        return 1\n",
    "    else:\n",
    "        return x * power(x, n-1)\n",
    "power(2,8)"
   ]
  },
  {
   "cell_type": "markdown",
   "id": "1646f84e-8fda-495a-9c68-f3a62f3eddce",
   "metadata": {},
   "source": [
    "9. Write a recursive Python function to find all permutations of a given string.\n"
   ]
  },
  {
   "cell_type": "code",
   "execution_count": 70,
   "id": "d1110b8c-c5b4-4efe-ac84-10aba29ec8d7",
   "metadata": {},
   "outputs": [
    {
     "name": "stdin",
     "output_type": "stream",
     "text": [
      "Enter a string:  rahul\n"
     ]
    },
    {
     "name": "stdout",
     "output_type": "stream",
     "text": [
      "Permutations: ['rahul', 'rahlu', 'rauhl', 'raulh', 'ralhu', 'raluh', 'rhaul', 'rhalu', 'rhual', 'rhula', 'rhlau', 'rhlua', 'ruahl', 'rualh', 'ruhal', 'ruhla', 'rulah', 'rulha', 'rlahu', 'rlauh', 'rlhau', 'rlhua', 'rluah', 'rluha', 'arhul', 'arhlu', 'aruhl', 'arulh', 'arlhu', 'arluh', 'ahrul', 'ahrlu', 'ahurl', 'ahulr', 'ahlru', 'ahlur', 'aurhl', 'aurlh', 'auhrl', 'auhlr', 'aulrh', 'aulhr', 'alrhu', 'alruh', 'alhru', 'alhur', 'alurh', 'aluhr', 'hraul', 'hralu', 'hrual', 'hrula', 'hrlau', 'hrlua', 'harul', 'harlu', 'haurl', 'haulr', 'halru', 'halur', 'hural', 'hurla', 'huarl', 'hualr', 'hulra', 'hular', 'hlrau', 'hlrua', 'hlaru', 'hlaur', 'hlura', 'hluar', 'urahl', 'uralh', 'urhal', 'urhla', 'urlah', 'urlha', 'uarhl', 'uarlh', 'uahrl', 'uahlr', 'ualrh', 'ualhr', 'uhral', 'uhrla', 'uharl', 'uhalr', 'uhlra', 'uhlar', 'ulrah', 'ulrha', 'ularh', 'ulahr', 'ulhra', 'ulhar', 'lrahu', 'lrauh', 'lrhau', 'lrhua', 'lruah', 'lruha', 'larhu', 'laruh', 'lahru', 'lahur', 'laurh', 'lauhr', 'lhrau', 'lhrua', 'lharu', 'lhaur', 'lhura', 'lhuar', 'lurah', 'lurha', 'luarh', 'luahr', 'luhra', 'luhar']\n"
     ]
    }
   ],
   "source": [
    "def find_permutations(s):\n",
    "    # Base case: If the string has only one character, there's only one permutation\n",
    "    if len(s) == 1:\n",
    "        return [s]\n",
    "    \n",
    "    # Recursive case: Find permutations of the string without the first character\n",
    "    perms = []\n",
    "    for i, char in enumerate(s):\n",
    "        rest = s[:i] + s[i+1:]\n",
    "        for perm in find_permutations(rest):\n",
    "            perms.append(char + perm)\n",
    "    \n",
    "    return perms\n",
    "\n",
    "# Input: Get a string from the user\n",
    "input_string = input(\"Enter a string: \")\n",
    "\n",
    "# Find and print all permutations using the find_permutations() function\n",
    "permutations = find_permutations(input_string)\n",
    "print(\"Permutations:\", permutations)"
   ]
  },
  {
   "cell_type": "markdown",
   "id": "c3f59a04-3a9c-4acd-8453-78efb17e3923",
   "metadata": {},
   "source": [
    "10. Write a recursive Python function to check if a string is a palindrome.\n"
   ]
  },
  {
   "cell_type": "code",
   "execution_count": 71,
   "id": "ec461bf8-872e-41c3-8647-391a49587da8",
   "metadata": {},
   "outputs": [
    {
     "name": "stdout",
     "output_type": "stream",
     "text": [
      "not palindrome\n"
     ]
    }
   ],
   "source": [
    "def palindrome(string):\n",
    "    if len(string) == 0:\n",
    "        return \"Enter a string\"\n",
    "    elif len(string) == 1:\n",
    "        return string[0]\n",
    "    else:\n",
    "        return reverse(string[1:]) + string[0]\n",
    "\n",
    "string = 'rahul'\n",
    "rev = palindrome(string)\n",
    "\n",
    "if rev == string:\n",
    "    print(\"Palindrome\")\n",
    "else:\n",
    "    print(\"not palindrome\")"
   ]
  },
  {
   "cell_type": "markdown",
   "id": "4249a6eb-b43f-4e10-aea7-c5587ffe09ad",
   "metadata": {},
   "source": [
    "11. Create a recursive Python function to generate all possible combinations of a list of elements."
   ]
  },
  {
   "cell_type": "code",
   "execution_count": 73,
   "id": "31015cd7-61da-4452-8c1e-b332e03ca095",
   "metadata": {},
   "outputs": [
    {
     "name": "stdin",
     "output_type": "stream",
     "text": [
      "Enter a list of elements (space-separated):  rahul mr skill pw\n",
      "Enter the combination length (k):  4\n"
     ]
    },
    {
     "name": "stdout",
     "output_type": "stream",
     "text": [
      "All Combinations:\n",
      "[]\n",
      "['pw']\n",
      "['skill']\n",
      "['skill', 'pw']\n",
      "['mr']\n",
      "['mr', 'pw']\n",
      "['mr', 'skill']\n",
      "['mr', 'skill', 'pw']\n",
      "['rahul']\n",
      "['rahul', 'pw']\n",
      "['rahul', 'skill']\n",
      "['rahul', 'skill', 'pw']\n",
      "['rahul', 'mr']\n",
      "['rahul', 'mr', 'pw']\n",
      "['rahul', 'mr', 'skill']\n",
      "['rahul', 'mr', 'skill', 'pw']\n"
     ]
    }
   ],
   "source": [
    "def generate_combinations(elements, k):\n",
    "    # Base case: If k is 0 or elements is empty, return an empty list\n",
    "    if k == 0 or len(elements) == 0:\n",
    "        return [[]]\n",
    "    \n",
    "    # Recursive case: Generate combinations with and without the first element\n",
    "    first_elem = elements[0]\n",
    "    rest_elems = elements[1:]\n",
    "    \n",
    "    # Generate combinations without the first element\n",
    "    without_first = generate_combinations(rest_elems, k)\n",
    "    \n",
    "    # Generate combinations with the first element\n",
    "    with_first = generate_combinations(rest_elems, k - 1)\n",
    "    with_first = [[first_elem] + combo for combo in with_first]\n",
    "    \n",
    "    # Combine the combinations\n",
    "    return without_first + with_first\n",
    "\n",
    "# Input: Get a list of elements and the combination length (k) from the user\n",
    "elements = input(\"Enter a list of elements (space-separated): \").split()\n",
    "k = int(input(\"Enter the combination length (k): \"))\n",
    "\n",
    "\n",
    "# Generate and print all combinations using the generate_combinations() function\n",
    "combinations = generate_combinations(elements, k)\n",
    "print(\"All Combinations:\")\n",
    "for combo in combinations:\n",
    "    print(combo)"
   ]
  },
  {
   "cell_type": "markdown",
   "id": "ba2219d2-31bb-4538-9f81-de8447ff967d",
   "metadata": {},
   "source": [
    "."
   ]
  },
  {
   "cell_type": "markdown",
   "id": "95b04265-69c5-4bbc-8a59-b4584871f728",
   "metadata": {},
   "source": [
    "Basics of Functions:\n"
   ]
  },
  {
   "cell_type": "markdown",
   "id": "37bc997a-f578-42c0-bb1d-fb810c6bef10",
   "metadata": {},
   "source": [
    "1. What is a function in Python, and why is it used?\n"
   ]
  },
  {
   "cell_type": "markdown",
   "id": "2c32f662-8148-4366-ba97-267ec4992633",
   "metadata": {},
   "source": [
    "A function in Python is a reusable block of code that performs specific tasks. Functions are defined with the def keyword, have parameters for input, and can return results. They are used for modularity, reusability, abstraction, code readability, parameterization, and return values. Functions have their own variable scope and are valuable for testing and debugging. Functions are a fundamental concept in Python, promoting organized, efficient, and maintainable code.\n",
    "\n",
    "Modularity and Reusability: Functions break down a program into manageable parts, promoting code organization and reuse.\n",
    "Abstraction: Functions provide a way to use code without knowing its inner workings, enhancing simplicity.\n",
    "Code Readability: Functions with meaningful names improve code clarity and understanding.\n",
    "Parameterization: Functions accept parameters, enabling code flexibility and adaptability to different inputs.\n",
    "Return Values: Functions can produce results that are usable elsewhere in the program.\n",
    "Scope: Functions have their own variable scope, preventing variable conflicts.\n",
    "Testing and Debugging: Functions simplify testing and debugging by isolating specific functionality for examination"
   ]
  },
  {
   "cell_type": "markdown",
   "id": "9cd3d1fc-7636-4aec-9eed-9face058fcde",
   "metadata": {},
   "source": [
    "2. How do you define a function in Python? Provide an example."
   ]
  },
  {
   "cell_type": "markdown",
   "id": "a2e5ab3e-26f8-4e93-91f8-7b41e85eee9d",
   "metadata": {},
   "source": [
    "Functions are defined using the def keyword, followed by a function name, a pair of parentheses that may contain parameters (also called arguments), and a colon. The function body is indented and contains the code to be executed when the function is called."
   ]
  },
  {
   "cell_type": "code",
   "execution_count": 3,
   "id": "be6d7c76-010d-48b9-b816-3fb805bbd84b",
   "metadata": {},
   "outputs": [
    {
     "name": "stdout",
     "output_type": "stream",
     "text": [
      "7\n"
     ]
    }
   ],
   "source": [
    "def sub_numbers(a, b):\n",
    "    return a - b\n",
    "\n",
    "result = sub_numbers(10, 3)  "
   ]
  },
  {
   "cell_type": "markdown",
   "id": "d0b89e76-1dba-4e55-a172-bf9f0cc55cfe",
   "metadata": {},
   "source": [
    "3. Explain the difference between a function definition and a function call.\n"
   ]
  },
  {
   "cell_type": "markdown",
   "id": "3d9685bf-1865-47d1-b2f4-5cc47b68c64f",
   "metadata": {},
   "source": [
    "A function definition is the process of defining or creating a new function. It involves specifying the function's name, its parameters (if any), and the code that the function will execute when called. However, A function call is the process of executing or using a defined function. When a function is called, the program to execute the code inside the function definition with specific arguments (if required)."
   ]
  },
  {
   "cell_type": "markdown",
   "id": "b259397b-196f-4bbd-b239-1fa0be6c07ac",
   "metadata": {},
   "source": [
    "4. Write a Python program that defines a function to calculate the sum of two numbers and then calls the function.\n"
   ]
  },
  {
   "cell_type": "code",
   "execution_count": 4,
   "id": "d0d3c90a-8e2a-4758-97b7-787da97db06d",
   "metadata": {},
   "outputs": [
    {
     "name": "stdout",
     "output_type": "stream",
     "text": [
      "13\n"
     ]
    }
   ],
   "source": [
    "def add_numbers(a, b):\n",
    "    return a + b\n",
    "\n",
    "result =add_numbers(10, 3)  \n",
    "print(result)  "
   ]
  },
  {
   "cell_type": "markdown",
   "id": "eff9350c-f5a5-48d2-8ca8-b914f8521a52",
   "metadata": {},
   "source": [
    "5. What is a function signature, and what information does it typically include?\n"
   ]
  },
  {
   "cell_type": "markdown",
   "id": "62ebb76d-266d-400c-9ecd-59941872eb47",
   "metadata": {},
   "source": [
    "A function signature, also known as a function prototype or function declaration, is a concise summary of a function's interface. It provides essential information about a function without including the full implementation details. The function signature typically includes the following information:\n",
    "\n",
    "Function Name: The name of the function, which is used to identify and call the function.\n",
    "\n",
    "Return Type: The data type of the value that the function returns when it completes its execution. In Python, functions can return any data type, including int, str, float, bool, list, tuple, and None (for functions that don't return anything).\n",
    "\n",
    "Parameters/Arguments: The list of parameters that the function accepts, enclosed in parentheses. Each parameter typically includes:\n",
    "\n",
    "Parameter Name: The name by which the parameter is referred to within the function.\n",
    "\n",
    "Parameter Type: The data type or types of values that can be passed as arguments.\n",
    "\n",
    "Optional or Default Values: If a parameter is optional or has a default value, it may be indicated in the signature."
   ]
  },
  {
   "cell_type": "markdown",
   "id": "2dae05bf-0379-43f3-bbb3-f07fe3943de4",
   "metadata": {},
   "source": [
    "6. Create a Python function that takes two arguments and returns their product.\n"
   ]
  },
  {
   "cell_type": "markdown",
   "id": "34e7e25b-57c6-4de9-b45a-08d906dfbd92",
   "metadata": {},
   "source": [
    "def multi_numbers(a, b):\n",
    "    return a * b\n",
    "\n",
    "result = multi_numbers(10, 3)  \n",
    "print(result)  "
   ]
  },
  {
   "cell_type": "markdown",
   "id": "1bcb48e2-5f21-4f9a-aafa-13ffa9ad0f9d",
   "metadata": {},
   "source": [
    "."
   ]
  },
  {
   "cell_type": "markdown",
   "id": "b4d79cdc-0c8a-4431-981a-36500dfa666b",
   "metadata": {},
   "source": [
    "Function Parameters and Arguments:\n"
   ]
  },
  {
   "cell_type": "markdown",
   "id": "883200d3-d191-4c66-af25-28efe59c81e7",
   "metadata": {},
   "source": [
    "1. Explain the concepts of formal parameters and actual arguments in Python functions.\n"
   ]
  },
  {
   "cell_type": "markdown",
   "id": "b74dd3ba-0cf3-4096-928b-24e345d6bc04",
   "metadata": {},
   "source": [
    "Formal parameters, also known as formal arguments or simply parameters, are placeholders defined in the function's signature (the function definition) that represent the values the function expects to receive when it is called. These parameters are like variables within the function, and they allow the function to work with different inputs. Formal parameters are defined as part of the function's interface, and they serve as references to the data that will be provided during a function call.\n",
    "Actual arguments, also known as arguments or argument values, are the concrete values or expressions that are passed to a function when it is called. These values are used to fill in the placeholders represented by the formal parameters in the function's definition. Actual arguments can be variables, constants, or expressions that evaluate to the expected data types."
   ]
  },
  {
   "cell_type": "markdown",
   "id": "4d031e01-ea19-40d2-b60a-2e02fabe5fdc",
   "metadata": {},
   "source": [
    "2. Write a Python program that defines a function with default argument values.\n"
   ]
  },
  {
   "cell_type": "code",
   "execution_count": 8,
   "id": "5074404c-e79f-4b60-89c4-da01bd5ce79e",
   "metadata": {},
   "outputs": [
    {
     "name": "stdout",
     "output_type": "stream",
     "text": [
      "6\n"
     ]
    }
   ],
   "source": [
    "def multi_numbers(a = 2, b = 2):\n",
    "    return a * b\n",
    "\n",
    "result = multi_numbers(3)  \n",
    "print(result) "
   ]
  },
  {
   "cell_type": "markdown",
   "id": "731dd83d-becf-4277-9796-e1430eb67c26",
   "metadata": {},
   "source": [
    "3. How do you use keyword arguments in Python function calls? Provide an example.\n"
   ]
  },
  {
   "cell_type": "markdown",
   "id": "ac59a20f-aba3-4ba1-be39-d0e34c4a51ce",
   "metadata": {},
   "source": [
    "Keyword arguments in function calls is used to specify which argument corresponds to which parameter by using the parameter's name. "
   ]
  },
  {
   "cell_type": "code",
   "execution_count": 10,
   "id": "76e0c939-58a4-4fb3-8aa5-1336d6fb5de5",
   "metadata": {},
   "outputs": [
    {
     "name": "stdout",
     "output_type": "stream",
     "text": [
      "A yellow banana is known for its sweet taste.\n",
      "A blue blueberry is known for its tangy taste.\n"
     ]
    }
   ],
   "source": [
    "def describe_fruit(name, color, taste):\n",
    "    description = f\"A {color} {name} is known for its {taste} taste.\"\n",
    "    return description\n",
    "\n",
    "# Using keyword arguments to call the function\n",
    "fruit1 = describe_fruit(name=\"banana\", color=\"yellow\", taste=\"sweet\")\n",
    "fruit2 = describe_fruit(name=\"blueberry\", color=\"blue\", taste=\"tangy\")\n",
    "\n",
    "# Printing the fruit descriptions\n",
    "print(fruit1)\n",
    "print(fruit2)"
   ]
  },
  {
   "cell_type": "markdown",
   "id": "00d9d6a5-e298-4bc2-83b9-8428562c8d34",
   "metadata": {},
   "source": [
    "4. Create a Python function that accepts a variable number of arguments and calculates their sum.\n"
   ]
  },
  {
   "cell_type": "code",
   "execution_count": 13,
   "id": "fa49ad5c-da36-4d79-bba3-b6f016e619cd",
   "metadata": {},
   "outputs": [
    {
     "name": "stdout",
     "output_type": "stream",
     "text": [
      "-15\n",
      "-60\n"
     ]
    }
   ],
   "source": [
    "def calculate_sub(*args):\n",
    "    total = 0\n",
    "    for num in args:\n",
    "        total -= num\n",
    "    return total\n",
    "result1 = calculate_sub(1, 2, 3, 4, 5)\n",
    "result2 = calculate_sub(10, 20, 30)\n",
    "\n",
    "print(result1) \n",
    "print(result2)  \n"
   ]
  },
  {
   "cell_type": "markdown",
   "id": "8a0a7854-3574-4c80-a794-24e4155c516e",
   "metadata": {},
   "source": [
    "5. What is the purpose of the `*args` and `**kwargs` syntax in function parameter lists?\n"
   ]
  },
  {
   "cell_type": "markdown",
   "id": "92a6636c-1c06-498a-a8cd-154c3fe5cdab",
   "metadata": {},
   "source": [
    "*args (Arbitrary Positional Arguments):\n",
    "*args is used to collect any number of positional arguments passed to a function into a tuple.\n",
    "The * (asterisk) notation before args indicates that any extra positional arguments beyond the explicitly defined parameters will be gathered into the args tuple.\n",
    "This allows functions to accept a variable number of positional arguments, making them more adaptable.\n",
    "\n",
    "**kwargs (Arbitrary Keyword Arguments):\n",
    "**kwargs is used to collect any number of keyword arguments (key-value pairs) passed to a function into a dictionary.\n",
    "The ** (double asterisk) notation before kwargs indicates that any extra keyword arguments beyond the explicitly defined parameters will be gathered into the kwargs dictionary.\n",
    "This allows functions to accept a variable number of keyword arguments, providing flexibility in function calls."
   ]
  },
  {
   "cell_type": "markdown",
   "id": "c2ca2b80-8fef-432f-8340-2f28da5b24a6",
   "metadata": {},
   "source": [
    "."
   ]
  },
  {
   "cell_type": "markdown",
   "id": "07b6e516-aee2-4762-a917-1cbeba00b48b",
   "metadata": {},
   "source": [
    "Return Values and Scoping:\n"
   ]
  },
  {
   "cell_type": "markdown",
   "id": "20c34d5f-89a9-4bfb-8eae-28004208b7fa",
   "metadata": {},
   "source": [
    "1. Describe the role of the `return` statement in Python functions and provide examples.\n"
   ]
  },
  {
   "cell_type": "markdown",
   "id": "dab61e6a-37db-4a21-a7b6-faa31b89c8bf",
   "metadata": {},
   "source": [
    "The return statement in Python functions is crucial for specifying the function's output. It allows functions to send back values to the caller, determining the result of the function's execution. Key points about the return statement include:\n",
    "\n",
    "Value Return: It sends values from a function to the caller, accommodating various data types like numbers, strings, lists, or custom objects.\n",
    "\n",
    "Function Termination: When encountered, it abruptly ends the function's execution, preventing further code execution within the function.\n",
    "\n",
    "Optional Usage: Python functions may or may not use the return statement, and multiple return statements can exist in a single function. If omitted, the function implicitly returns None.\n"
   ]
  },
  {
   "cell_type": "markdown",
   "id": "d6e4c5a1-4802-4dde-921a-37ab0085671c",
   "metadata": {},
   "source": [
    "2. Explain the concept of variable scope in Python, including local and global variables.\n"
   ]
  },
  {
   "cell_type": "markdown",
   "id": "a7ffab7f-1ec0-49be-beb2-18520e0bf102",
   "metadata": {},
   "source": [
    "Local Scope (Function Scope):\n",
    "Variables defined within a function have a local scope. They are accessible only within that function.\n",
    "Local variables are created when the function is called and destroyed when the function exits. They do not persist outside the function.\n",
    "Attempting to access a local variable from outside the function or before it's defined within the function will result in a NameError.\n",
    "\n",
    "Global Scope:\n",
    "Variables defined outside of any function or at the top level of a script/module have a global scope.\n",
    "Global variables are accessible from anywhere in the program, both within and outside functions.\n",
    "They are created when the program starts executing and persist until the program terminates\n"
   ]
  },
  {
   "cell_type": "markdown",
   "id": "305be12a-af9f-4da6-9247-f630b9b12c22",
   "metadata": {},
   "source": [
    "3. Write a Python program that demonstrates the use of global variables within functions.\n"
   ]
  },
  {
   "cell_type": "code",
   "execution_count": 15,
   "id": "aff358a3-5b29-4dc6-b2f6-4c36f9b8b0fe",
   "metadata": {},
   "outputs": [
    {
     "name": "stdout",
     "output_type": "stream",
     "text": [
      "Inside the function, global_var = 52\n",
      "Outside the function, global_var = 42\n"
     ]
    }
   ],
   "source": [
    "# Global variable\n",
    "global_var = 42\n",
    "\n",
    "def use_global_variable():\n",
    "    # Access the global variable within the function\n",
    "    print(\"Inside the function, global_var =\", global_var + 10)\n",
    "\n",
    "# Call the function\n",
    "use_global_variable()\n",
    "\n",
    "# Access the global variable outside the function\n",
    "print(\"Outside the function, global_var =\", global_var)"
   ]
  },
  {
   "cell_type": "markdown",
   "id": "100510ca-45ef-4cfa-bc17-5e8e5560f3ae",
   "metadata": {},
   "source": [
    "4. Create a Python function that calculates the factorial of a number and returns it.\n"
   ]
  },
  {
   "cell_type": "code",
   "execution_count": 16,
   "id": "b87aae09-5200-4f16-aac9-7e353548b7cb",
   "metadata": {},
   "outputs": [
    {
     "data": {
      "text/plain": [
       "120"
      ]
     },
     "execution_count": 16,
     "metadata": {},
     "output_type": "execute_result"
    }
   ],
   "source": [
    "def fact(a):\n",
    "    if a == 0:\n",
    "        return 1\n",
    "    for i in range(1, a+10):\n",
    "        return a * fact(a-1)\n",
    "fact(5)"
   ]
  },
  {
   "cell_type": "markdown",
   "id": "9423e1a5-67c3-4448-8b60-a861639ce01b",
   "metadata": {},
   "source": [
    "5. How can you access variables defined outside a function from within the function?\n"
   ]
  },
  {
   "cell_type": "markdown",
   "id": "5de4046f-ebb1-4ae9-851e-3ed93b3044bb",
   "metadata": {},
   "source": [
    "variables defined outside a function can be accessed from within the function using the variable's name directly.\n",
    "\n",
    "Global Variables: Variables defined outside of functions have global scope and are accessible from anywhere within the program.\n",
    "\n",
    "Local Variables: Variables defined inside a function are locally scoped and are only accessible within that function.\n",
    "\n",
    "Shadowing: If a local variable in a function shares the same name as a global variable, the local variable takes precedence within the function's scope, \"shadowing\" the global variable."
   ]
  },
  {
   "cell_type": "code",
   "execution_count": 17,
   "id": "fa22a209-d589-41c9-9527-b3a38ca44bf3",
   "metadata": {},
   "outputs": [
    {
     "data": {
      "text/plain": [
       "120"
      ]
     },
     "execution_count": 17,
     "metadata": {},
     "output_type": "execute_result"
    }
   ],
   "source": [
    "x =5\n",
    "def fact(a):\n",
    "    if a == 0:\n",
    "        return 1\n",
    "    for i in range(1, a+10):\n",
    "        return a * fact(a-1)\n",
    "fact(x)"
   ]
  },
  {
   "cell_type": "markdown",
   "id": "95602fa1-b4a4-4288-90e4-89acd0651a77",
   "metadata": {},
   "source": [
    "."
   ]
  },
  {
   "cell_type": "markdown",
   "id": "1e99366b-c1eb-4548-8d15-42c8c27b853f",
   "metadata": {},
   "source": [
    "Lambda Functions and Higher-Order Functions:\n"
   ]
  },
  {
   "cell_type": "markdown",
   "id": "a55be46b-9a55-4f0a-975e-7de3e938ce93",
   "metadata": {},
   "source": [
    "1. What are lambda functions in Python, and when are they typically used?\n"
   ]
  },
  {
   "cell_type": "markdown",
   "id": "63c0e664-bdc6-4cbf-9dfe-534d225fb5c9",
   "metadata": {},
   "source": [
    "Lambda functions, also known as anonymous functions or lambda expressions, are a feature in Python that allows to create small, unnamed, and inline functions. They are typically used for short, simple operations where a full function definition is not required. Lambda functions are defined using the lambda keyword, followed by one or more arguments, a colon (:), and an expression."
   ]
  },
  {
   "cell_type": "markdown",
   "id": "595ffcc2-5c1f-4968-a4ee-666969461ef6",
   "metadata": {},
   "source": [
    "2. Write a Python program that uses lambda functions to sort a list of tuples based on the second element.\n"
   ]
  },
  {
   "cell_type": "code",
   "execution_count": 18,
   "id": "56ac3841-a06c-49f7-a1d9-9ad54c666d77",
   "metadata": {},
   "outputs": [
    {
     "name": "stdout",
     "output_type": "stream",
     "text": [
      "[(3, 1), (4, 3), (1, 5), (2, 8)]\n"
     ]
    }
   ],
   "source": [
    "# List of tuples \n",
    "pairs = [(1, 5), (3, 1), (2, 8), (4, 3)]\n",
    "\n",
    "# Sort the list of tuples based on the second element (the number)\n",
    "sorted_pairs = sorted(pairs, key=lambda x: x[1])\n",
    "\n",
    "# Print the sorted list\n",
    "print(sorted_pairs)"
   ]
  },
  {
   "cell_type": "markdown",
   "id": "4b9ab863-0fb7-450a-a773-4e4bb3627aba",
   "metadata": {},
   "source": [
    "3. Explain the concept of higher-order functions in Python, and provide an example.\n"
   ]
  },
  {
   "cell_type": "markdown",
   "id": "3ec730f1-0ef1-4b2c-98b6-a2e69e815e76",
   "metadata": {},
   "source": [
    "In Python, higher-order functions are functions that can take other functions as arguments, return functions as results, or both. \n",
    "\n",
    "Function as an Argument: Higher-order functions can accept other functions as arguments. These functions are often referred to as \"callback functions\" or \"function parameters.\"\n",
    "\n",
    "Function as a Return Value: Higher-order functions can return functions as their results. These returned functions can be used later or passed to other functions.\n",
    "\n",
    "Abstraction: Higher-order functions promote code abstraction, allowing you to encapsulate behavior in reusable and composable functions."
   ]
  },
  {
   "cell_type": "code",
   "execution_count": 21,
   "id": "8a5765d1-bf71-402d-b815-d64b0a12e9be",
   "metadata": {},
   "outputs": [
    {
     "name": "stdout",
     "output_type": "stream",
     "text": [
      "Result1: 8\n",
      "Result2: 6\n"
     ]
    }
   ],
   "source": [
    "\n",
    "def apply_operation(operation, x, y):\n",
    "    return operation(x, y)\n",
    "\n",
    "def add(x, y):\n",
    "    return x + y\n",
    "\n",
    "def subtract(x, y):\n",
    "    return x - y\n",
    "\n",
    "result1 = apply_operation(add, 5, 3)\n",
    "result2 = apply_operation(subtract, 10, 4)\n",
    "\n",
    "print(\"Result1:\", result1)  \n",
    "print(\"Result2:\", result2) "
   ]
  },
  {
   "cell_type": "markdown",
   "id": "444039a1-aecf-4a94-b862-3e87d326d17e",
   "metadata": {},
   "source": [
    "4. Create a Python function that takes a list of numbers and a function as arguments, applying the function to each element in the list.\n"
   ]
  },
  {
   "cell_type": "code",
   "execution_count": 24,
   "id": "45f1c0c5-1a37-4039-8f38-08a559493957",
   "metadata": {},
   "outputs": [
    {
     "data": {
      "text/plain": [
       "55"
      ]
     },
     "execution_count": 24,
     "metadata": {},
     "output_type": "execute_result"
    }
   ],
   "source": [
    "def operator_list(sum_list, l):\n",
    "    return sum_list(l)\n",
    "\n",
    "def sum_list(l):\n",
    "    s = 0\n",
    "    if len(l) == 1:\n",
    "        return l[0]\n",
    "    else:\n",
    "        return l[0] + sum_list(l[1:])\n",
    "    \n",
    "    \n",
    "l = [1,2,3,4,5,6,7,8,9,10]   \n",
    "\n",
    "operator_list(sum_list, l)"
   ]
  },
  {
   "cell_type": "markdown",
   "id": "75daddd3-8d1a-4bea-989f-8d29d2ef10ac",
   "metadata": {},
   "source": [
    "."
   ]
  },
  {
   "cell_type": "markdown",
   "id": "676f69ae-9696-4318-a7b5-fda45aea0b9d",
   "metadata": {},
   "source": [
    "Built-in Functions:"
   ]
  },
  {
   "cell_type": "markdown",
   "id": "24efdd9c-acfa-4bc2-84c2-35d30ec8c43b",
   "metadata": {},
   "source": [
    "1. Describe the role of built-in functions like `len()`, `max()`, and `min()` in Python.\n"
   ]
  },
  {
   "cell_type": "markdown",
   "id": "ee03c7d4-bbb2-4e47-85e0-3b1cc665609e",
   "metadata": {},
   "source": [
    "len() Function:\n",
    "\n",
    "The len() function is used to determine the length or the number of elements in a sequence or iterable, such as a string, list, tuple, or dictionary.\n",
    "It takes one argument, which is the iterable you want to measure.\n",
    "The function returns an integer representing the length of the iterable.\n",
    "\n",
    "max() Function:\n",
    "\n",
    "The max() function is used to find the maximum element from a collection of values. It can operate on various data types, including numbers and strings.\n",
    "It can take multiple arguments or an iterable and returns the maximum value.\n",
    "When used with strings, it returns the maximum (lexicographically highest) string based on ASCII values.\n",
    "\n",
    "min() Function:\n",
    "\n",
    "The min() function is used to find the minimum element from a collection of values, similar to max().\n",
    "It can take multiple arguments or an iterable and returns the minimum value.\n",
    "When used with strings, it returns the minimum (lexicographically lowest) string based on ASCII values."
   ]
  },
  {
   "cell_type": "markdown",
   "id": "1395e432-7d31-4306-a4fa-ab73b12e3b90",
   "metadata": {},
   "source": [
    "2.  Write a Python program that uses the `map()` function to apply a function to each element of a list.\n"
   ]
  },
  {
   "cell_type": "code",
   "execution_count": 25,
   "id": "d955f169-1193-420d-a59e-fb5bfc8761d1",
   "metadata": {},
   "outputs": [
    {
     "name": "stdout",
     "output_type": "stream",
     "text": [
      "Number: [1, 2, 3, 4, 5, 6, 10]\n",
      "Square: [1, 4, 9, 16, 25, 36, 100]\n"
     ]
    }
   ],
   "source": [
    "def square(x):\n",
    "    return x**2\n",
    "\n",
    "number = [1,2,3,4,5,6,10]\n",
    "\n",
    "square_number = list(map(square, number))\n",
    "\n",
    "print(f\"Number: {number}\")\n",
    "print(f\"Square: {square_number}\")\n"
   ]
  },
  {
   "cell_type": "markdown",
   "id": "d0be339f-8cba-4b2b-b251-53682b10d000",
   "metadata": {},
   "source": [
    "3. How does the `filter()` function work in Python, and when would you use it?\n"
   ]
  },
  {
   "cell_type": "code",
   "execution_count": 26,
   "id": "e08d363d-23ab-4668-8621-c78c98a7a914",
   "metadata": {},
   "outputs": [
    {
     "name": "stdout",
     "output_type": "stream",
     "text": [
      "Even numbers: [1, 3, 5, 7, 9]\n"
     ]
    }
   ],
   "source": [
    "def is_odd(x):\n",
    "    return x % 2 != 0\n",
    "\n",
    "numbers = [1, 2, 3, 4, 5, 6, 7, 8, 9, 10]\n",
    "\n",
    "odd_numbers = list(filter(is_odd, numbers))\n",
    "\n",
    "\n",
    "print(\"Even numbers:\", odd_numbers)"
   ]
  },
  {
   "cell_type": "markdown",
   "id": "dc3a0853-e95b-4150-962b-114aa73840bb",
   "metadata": {},
   "source": [
    "4. Create a Python program that uses the `reduce()` function to find the product of all elements in a list.\n"
   ]
  },
  {
   "cell_type": "markdown",
   "id": "bf5c03e9-b0ff-46c8-8c79-4f8d14a883d7",
   "metadata": {},
   "source": [
    "The filter() function in Python is used to filter elements from an iterable (such as a list, tuple, or string) based on a specified condition or function. It returns an iterator containing only the elements that satisfy the given condition.\n",
    "\n",
    "The filter() function takes two arguments:\n",
    "\n",
    "A function that defines the condition for filtering. This function should return True for elements that you want to keep and False for elements you want to discard.\n",
    "\n",
    "The iterable (sequence) that you want to filter."
   ]
  },
  {
   "cell_type": "code",
   "execution_count": 29,
   "id": "550a4a38-a835-4c1a-8350-9bc9db347473",
   "metadata": {},
   "outputs": [
    {
     "data": {
      "text/plain": [
       "[2, 4, 6, 8, 10]"
      ]
     },
     "execution_count": 29,
     "metadata": {},
     "output_type": "execute_result"
    }
   ],
   "source": [
    "numbers = [1, 2, 3, 4, 5, 6, 7, 8, 9, 10]\n",
    "def is_even(x):\n",
    "    return x % 2 == 0\n",
    "even_numbers = list(filter(is_even, numbers))\n",
    "even_numbers"
   ]
  },
  {
   "cell_type": "markdown",
   "id": "b2b5c7a6-980a-45a3-b930-7fe7106f01c3",
   "metadata": {},
   "source": [
    "."
   ]
  },
  {
   "cell_type": "markdown",
   "id": "c90abf83-a662-4021-9cc2-3402a1029d47",
   "metadata": {},
   "source": [
    "Function Documentation and Best Practices:\n"
   ]
  },
  {
   "cell_type": "markdown",
   "id": "caa2d9ba-b79b-4bdd-8e07-4f30a42d40ac",
   "metadata": {},
   "source": [
    "1. Explain the purpose of docstrings in Python functions and how to write them.\n"
   ]
  },
  {
   "cell_type": "markdown",
   "id": "ef2b17aa-13db-4903-814b-c3e4e0c89ee1",
   "metadata": {},
   "source": [
    "Docstrings in Python are used to provide documentation and descriptions for functions, modules, classes, and methods. They serve as a form of inline documentation, making it easier for developers to understand the purpose, usage, and behavior of a particular piece of code. Docstrings are especially valuable when working on larger projects, collaborating with others, or creating reusable code.\n",
    "\n",
    "Purpose of Docstrings:\n",
    "\n",
    "Documentation: Docstrings help document the purpose and usage of a function, providing information about what the function does, what parameters it expects, and what it returns.\n",
    "\n",
    "Readability: Well-written docstrings enhance the readability of your code, making it more understandable for both you and other developers who may work with your code.\n",
    "\n",
    "Auto-Generated Documentation: Docstrings can be processed by documentation generation tools, such as Sphinx, to automatically generate documentation for your codebase.\n",
    "\n",
    "Interactive Help: Docstrings can be accessed interactively in Python's interactive mode or through tools like Jupyter Notebook, allowing you to quickly get information about a function.\n",
    "\n",
    "How to Write Docstrings:\n",
    "\n",
    "Docstrings are typically enclosed in triple quotes (single or double) immediately following the definition of a function, class, or module. There are several conventions for writing docstrings, but one common style is to use the \"Google Style\" or \"NumPy Style\" docstring format, which provides information about the function's purpose, parameters, and return values."
   ]
  },
  {
   "cell_type": "markdown",
   "id": "76f524e2-a0be-4e2e-ab38-5ed7cb158189",
   "metadata": {},
   "source": [
    "2. Describe some best practices for naming functions and variables in Python, including naming conventions and guidelines.\n"
   ]
  },
  {
   "cell_type": "markdown",
   "id": "1cf6fc4b-214b-4771-8b0a-96417020cdca",
   "metadata": {},
   "source": [
    "Naming functions and variables in Python is a crucial aspect of writing clean, readable, and maintainable code. Adhering to naming conventions and guidelines helps ensure consistency and makes your code more accessible to other developers. Some best practices for naming functions and variables in Python:\n",
    "\n",
    "1. Follow PEP 8: PEP 8 is the official style guide for Python code. It provides detailed recommendations on naming conventions and coding style. Key points include:\n",
    "\n",
    "Use lowercase letters for variable and function names.\n",
    "Separate words in names with underscores (snake_case) for variables and functions.\n",
    "Use lowercase with words separated by underscores for module and package names (e.g., my_module).\n",
    "Use CapitalizedWords (CamelCase) for class names.\n",
    "Use descriptive names that convey the purpose or content of the variable or function.\n",
    "2. Be Descriptive: Choose meaningful and descriptive names for functions and variables that make their purpose clear. Avoid overly cryptic or abbreviated names.\n",
    "\n",
    "Good: calculate_average_score\n",
    "Avoid: calc_avg\n",
    "3. Use Verbs for Functions: Function names should typically start with a verb that describes the action or operation the function performs.\n",
    "\n",
    "Good: calculate_total, print_report\n",
    "Avoid: total, report\n",
    "4. Use Nouns for Variables: Variable names should generally be nouns or noun phrases that represent the data they store.\n",
    "\n",
    "Good: user_name, product_list\n",
    "Avoid: compute, fetch\n",
    "5. Avoid Single-Character Names: Except for loop iterators (e.g., i, j, k), avoid using single-character variable names. Use descriptive names even for loop iterators when possible.\n",
    "\n",
    "6. Be Consistent: Maintain consistency in naming across your codebase. If you use a particular naming style or convention, stick with it throughout your project.\n",
    "\n",
    "7. Use Constants: For constants, use uppercase letters with underscores to distinguish them from variables. For example: PI = 3.14159.\n",
    "\n",
    "8. Avoid Reserved Words: Avoid using Python's reserved words (e.g., class, int, str) as variable or function names to prevent confusion and errors.\n",
    "\n",
    "9. Use Meaningful Function and Method Names: For functions and methods, choose names that reflect their functionality and purpose. A well-chosen function name can eliminate the need for extensive comments.\n",
    "\n",
    "10. Document Complex Functions: If a function is complex or its behavior is not immediately evident from its name, consider adding a docstring to explain its purpose and usage.\n",
    "\n",
    "11. Consistent Capitalization: Stick to consistent capitalization styles, whether it's camelCase, snake_case, or PascalCase, depending on the type of identifier (variable, function, class).\n",
    "\n",
    "12. Avoid Acronyms and Abbreviations: Minimize the use of acronyms and abbreviations unless they are well-known and widely understood in the context of your code.\n",
    "\n",
    "13. Use Plural for Collections: When naming variables that represent collections (e.g., lists, sets), use plural nouns to indicate their nature.\n",
    "\n",
    "Good: students, books\n",
    "Avoid: student_list, book_set\n",
    "14. Be Mindful of Context: Consider the context in which your code is used when naming functions and variables. Names should make sense within their specific context.\n",
    "\n",
    "15. Refactor When Necessary: If you later discover a better name for a variable or function, don't hesitate to refactor your code to use the more appropriate name."
   ]
  },
  {
   "cell_type": "code",
   "execution_count": null,
   "id": "91ec7ccc-e098-4fa9-a65a-b9168c27ebb8",
   "metadata": {},
   "outputs": [],
   "source": []
  }
 ],
 "metadata": {
  "kernelspec": {
   "display_name": "Python 3 (ipykernel)",
   "language": "python",
   "name": "python3"
  },
  "language_info": {
   "codemirror_mode": {
    "name": "ipython",
    "version": 3
   },
   "file_extension": ".py",
   "mimetype": "text/x-python",
   "name": "python",
   "nbconvert_exporter": "python",
   "pygments_lexer": "ipython3",
   "version": "3.10.8"
  }
 },
 "nbformat": 4,
 "nbformat_minor": 5
}
