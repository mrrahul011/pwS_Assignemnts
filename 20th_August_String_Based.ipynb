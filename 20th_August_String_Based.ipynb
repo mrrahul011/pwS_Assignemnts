{
 "cells": [
  {
   "cell_type": "markdown",
   "id": "3f6f3298-6d6e-42e0-ab74-aa309d1d687c",
   "metadata": {},
   "source": [
    "String Based Practice Questions"
   ]
  },
  {
   "cell_type": "markdown",
   "id": "28cddee6-662e-4d72-8c18-f5d834ed6be8",
   "metadata": {},
   "source": [
    "Q.1. Write a program to reverse a string."
   ]
  },
  {
   "cell_type": "code",
   "execution_count": 4,
   "id": "454bc0a1-eec7-4d50-b9f0-1edba473eb22",
   "metadata": {},
   "outputs": [
    {
     "name": "stdin",
     "output_type": "stream",
     "text": [
      "Enter a string:  happy learning\n"
     ]
    },
    {
     "name": "stdout",
     "output_type": "stream",
     "text": [
      "Reverse of string: gninrael yppah\n"
     ]
    }
   ],
   "source": [
    "#Get the sting input from the user and save it in s\n",
    "s = str(input(\"Enter a string: \"))\n",
    "\n",
    "#define a function str_reverse which take a single input string\n",
    "def str_reverse(string):\n",
    "    reverse = string[: : -1]\n",
    "    return print(f\"Reverse of string: {reverse}\")\n",
    "#call the funtion defined str_reverse and pass on the string s\n",
    "str_reverse(s)"
   ]
  },
  {
   "cell_type": "markdown",
   "id": "6f15f2e2-4e6b-496d-868b-23b984c5ac73",
   "metadata": {},
   "source": [
    "Q2. Check if a string is a palindrome."
   ]
  },
  {
   "cell_type": "code",
   "execution_count": 8,
   "id": "c4e71a7a-a685-4b51-867c-27a356b131d2",
   "metadata": {},
   "outputs": [
    {
     "name": "stdin",
     "output_type": "stream",
     "text": [
      "Enter a string:  lalalal\n"
     ]
    },
    {
     "name": "stdout",
     "output_type": "stream",
     "text": [
      "The string is Palindrome\n"
     ]
    }
   ],
   "source": [
    "#Get a string from the user and store in s\n",
    "s= str(input(\"Enter a string: \"))\n",
    "\n",
    "#define a function str_palindrome which take a single input string\n",
    "def str_palindrome(string):\n",
    "    #reverse the string and store it in a variable reverse\n",
    "    reverse = string[: : -1]\n",
    "    #check is string and reverse aer same if yes print palindrome else print not palindrome\n",
    "    if string == reverse:\n",
    "        return print(f\"The string is Palindrome\")\n",
    "    else:\n",
    "        return print(f\"The string is not Palindrome\")\n",
    "\n",
    "    \n",
    "#call the funtion defined str_palindrome and pass on the string    \n",
    "str_palindrome(s)\n",
    "\n"
   ]
  },
  {
   "cell_type": "markdown",
   "id": "e1118e42-0253-42b8-a70e-1168382c7b65",
   "metadata": {},
   "source": [
    "Q3. Convert a string to uppercase."
   ]
  },
  {
   "cell_type": "code",
   "execution_count": 1,
   "id": "0117ac18-2ae3-4709-b297-14d55f8945f0",
   "metadata": {},
   "outputs": [
    {
     "name": "stdin",
     "output_type": "stream",
     "text": [
      "Enter a string:  llllsdasdfhk;h hjkhdshuew\n"
     ]
    },
    {
     "name": "stdout",
     "output_type": "stream",
     "text": [
      "String in upper case: LLLLSDASDFHK;H HJKHDSHUEW\n"
     ]
    }
   ],
   "source": [
    "#Get a string from the user and store in s\n",
    "s= str(input(\"Enter a string: \"))\n",
    "\n",
    "#define a function str_upper which take a single input string\n",
    "def str_upper(string):\n",
    "    upper =  string.upper()\n",
    "    return print(f\"String in upper case: {upper}\")\n",
    "\n",
    "#call the funtion defined str_upper and pass on the string    \n",
    "str_upper(s)"
   ]
  },
  {
   "cell_type": "markdown",
   "id": "5ddc6210-d0c5-4d5c-8a07-f79262cd3f89",
   "metadata": {},
   "source": [
    "Q4. Convert a string to lowercase."
   ]
  },
  {
   "cell_type": "code",
   "execution_count": 2,
   "id": "51a50d88-13e1-4476-a6bd-4ed40063ff8a",
   "metadata": {},
   "outputs": [
    {
     "name": "stdin",
     "output_type": "stream",
     "text": [
      "Enter a string:  JKDHFJHkhdh hjahdfhhHHHJHKUWEUHG\n"
     ]
    },
    {
     "name": "stdout",
     "output_type": "stream",
     "text": [
      "String in lower case: jkdhfjhkhdh hjahdfhhhhhjhkuweuhg\n"
     ]
    }
   ],
   "source": [
    "#Get a string from the user and store in s\n",
    "s= str(input(\"Enter a string: \"))\n",
    "\n",
    "#define a function str_lower which take a single input string\n",
    "def str_lower(string):\n",
    "    lower=  string.lower()\n",
    "    return print(f\"String in lower case: {lower}\")\n",
    "\n",
    "#call the funtion defined str_lower and pass on the string    \n",
    "str_lower(s)"
   ]
  },
  {
   "cell_type": "markdown",
   "id": "6e9c19cc-ca8a-4bd5-a86c-c5a8ac1cf8bb",
   "metadata": {},
   "source": [
    "Q5. Count the number of vowels in a string."
   ]
  },
  {
   "cell_type": "code",
   "execution_count": 8,
   "id": "da1184a4-f69c-476a-a064-9b0d2e8c111e",
   "metadata": {},
   "outputs": [
    {
     "name": "stdin",
     "output_type": "stream",
     "text": [
      "Enter a sentence:  Hi there I am Rahul\n"
     ]
    },
    {
     "name": "stdout",
     "output_type": "stream",
     "text": [
      "The number of vowels in sebtence: 7\n"
     ]
    }
   ],
   "source": [
    "#Get a sentence from the user and store in s\n",
    "s = str(input(\"Enter a sentence: \"))\n",
    "#Define a function vowel_count which takes the sentence as input\n",
    "def vowel_count(sentence):\n",
    "    #convert the sentence into lower case for checking vowels\n",
    "    c = sentence.lower()\n",
    "    #define a vowel tuple for checking \n",
    "    vowel = ('a', 'e', 'i', 'o', 'u')\n",
    "    #decleare a counter count for updating if a vowel is found\n",
    "    count = 0\n",
    "    #loop througn all the elemnts of the sentence\n",
    "    for i in range(0,len(c)):\n",
    "        #if the world is in vowels add one to the counter\n",
    "        if c[i] in vowel:\n",
    "            count += 1\n",
    "        #mover to the next character in the sentence\n",
    "        i +=1\n",
    "    #return the total count\n",
    "    return print(f\"The number of vowels in sentence: {count}\")\n",
    "\n",
    "vowel_count(s)\n",
    "            "
   ]
  },
  {
   "cell_type": "markdown",
   "id": "9bf7e250-ffb7-409c-8144-5e5106e61a8f",
   "metadata": {},
   "source": [
    "Q6. Count the number of consonants in a string."
   ]
  },
  {
   "cell_type": "code",
   "execution_count": 1,
   "id": "f2d7d1d8-d655-4f38-8dbf-442142cb4b6f",
   "metadata": {},
   "outputs": [
    {
     "name": "stdin",
     "output_type": "stream",
     "text": [
      "Enter a sentence:  Hi there I am Rahul\n"
     ]
    },
    {
     "name": "stdout",
     "output_type": "stream",
     "text": [
      "The number of consonants in sentence: 8\n"
     ]
    }
   ],
   "source": [
    "#Get a sentence from the user and store in s\n",
    "s = str(input(\"Enter a sentence: \"))\n",
    "#Define a function consonants_count which takes the sentence as input\n",
    "def consonants_count(sentence):\n",
    "    #convert the sentence into lower case for checking vowels\n",
    "    c = sentence.lower()\n",
    "    #define a vowel tuple for checking vowels and space\n",
    "    vowel = ('a', 'e', 'i', 'o', 'u', ' ')\n",
    "    #decleare a counter count for updating if a vowel is found\n",
    "    count = 0\n",
    "    #loop througn all the elemnts of the sentence\n",
    "    for i in range(0,len(c)):\n",
    "        #if the world is in vowels and space add one to the counter\n",
    "        if c[i] in vowel:\n",
    "            count += 1\n",
    "\n",
    "    #return the number of consonants by subtracting total lenght of sentence from count\n",
    "    return print(f\"The number of consonants in sentence: {len(c) - count}\")\n",
    "\n",
    "consonants_count(s)"
   ]
  },
  {
   "cell_type": "markdown",
   "id": "db7d9f52-ce1a-4c2d-bdc9-e5919d5f2ce6",
   "metadata": {},
   "source": [
    "Q7. Remove all whitespaces from a string."
   ]
  },
  {
   "cell_type": "code",
   "execution_count": null,
   "id": "3565be98-51f8-4fa1-8a7f-2aa6c20b02f1",
   "metadata": {},
   "outputs": [],
   "source": [
    "#Get a sentence from the user and store in s\n",
    "s = str(input(\"Enter a sentence: \"))\n",
    "#Replace the space\n",
    "print(f\"The sentence without space: {s.replace(' ', '')}\")"
   ]
  },
  {
   "cell_type": "markdown",
   "id": "94c2a49e-5df9-4b22-8c7d-a9393ab06e74",
   "metadata": {},
   "source": [
    "Q8. Find the length of a string without using the `len()` function."
   ]
  },
  {
   "cell_type": "code",
   "execution_count": 5,
   "id": "bf5937ac-77ac-49d2-ae92-e48209a52817",
   "metadata": {},
   "outputs": [
    {
     "name": "stdin",
     "output_type": "stream",
     "text": [
      "Enter a sentence:  Hi there\n"
     ]
    },
    {
     "name": "stdout",
     "output_type": "stream",
     "text": [
      "The sentence length is: 8\n"
     ]
    }
   ],
   "source": [
    "#Get a sentence from the user and store in s\n",
    "s = str(input(\"Enter a sentence: \"))\n",
    "count = 0\n",
    "for i in s:\n",
    "    count +=1\n",
    "print(f\"The sentence length is: {count}\")"
   ]
  },
  {
   "cell_type": "markdown",
   "id": "a0c8aeb4-50f2-4fb3-916f-44eee3fb7967",
   "metadata": {},
   "source": [
    "Q9. Check if a string contains a specific word."
   ]
  },
  {
   "cell_type": "code",
   "execution_count": 6,
   "id": "572998db-25d4-447a-bc7e-594541e15c7a",
   "metadata": {},
   "outputs": [
    {
     "name": "stdin",
     "output_type": "stream",
     "text": [
      "Enter a sentence:  Hi there I am rahul\n",
      "Enter the specific word:  rahul\n"
     ]
    },
    {
     "name": "stdout",
     "output_type": "stream",
     "text": [
      "rahul is in the sring\n"
     ]
    }
   ],
   "source": [
    "#Get a sentence from the user and store in s\n",
    "s = str(input(\"Enter a sentence: \"))\n",
    "#get the word need to be checked\n",
    "c = str(input(\"Enter the specific word: \"))\n",
    "\n",
    "if c.lower() in s.lower():\n",
    "    print(f\"{c} is in the sring\")\n",
    "else:\n",
    "    print(f\"{c} is not in string\")\n",
    "    "
   ]
  },
  {
   "cell_type": "markdown",
   "id": "680688f4-0862-4d6e-8b03-889db40a07e4",
   "metadata": {},
   "source": [
    "Q10. Replace a word in a string with another word."
   ]
  },
  {
   "cell_type": "code",
   "execution_count": 11,
   "id": "860e9e32-c308-495f-ab1e-a9661ac3bc18",
   "metadata": {},
   "outputs": [
    {
     "name": "stdin",
     "output_type": "stream",
     "text": [
      "Enter a sentence:  hi there i am happy\n",
      "Enter the word to replace:  happy\n",
      "Enter the replacement word:  quite\n"
     ]
    },
    {
     "name": "stdout",
     "output_type": "stream",
     "text": [
      "New string: hi there i am quite\n"
     ]
    }
   ],
   "source": [
    "#Get a sentence from the user and store in s\n",
    "s = str(input(\"Enter a sentence: \"))\n",
    "#get the word need to be replaced\n",
    "c = str(input(\"Enter the word to replace: \"))\n",
    "r = str(input(\"Enter the replacement word: \"))\n",
    "\n",
    "print(f\"New string: {s.replace(c, r)}\")\n"
   ]
  },
  {
   "cell_type": "markdown",
   "id": "2eb8dc9e-98d5-4a2a-90ac-65f04d43ac6c",
   "metadata": {},
   "source": [
    "Q11. Count the occurrences of a word in a string."
   ]
  },
  {
   "cell_type": "code",
   "execution_count": 7,
   "id": "99a58314-d152-4345-8383-67c21921ef81",
   "metadata": {},
   "outputs": [
    {
     "name": "stdin",
     "output_type": "stream",
     "text": [
      "Enter the sentence:   You cannot create a sentence with because, because, because is a connecting word.\n",
      "Enter the word:  a\n"
     ]
    },
    {
     "name": "stdout",
     "output_type": "stream",
     "text": [
      "The word 'a' occured '2' times\n"
     ]
    }
   ],
   "source": [
    "#define a function to accept a sentence and the desired word\n",
    "def word_occur(sent, words):\n",
    "    count = 0 #set a counter to zero\n",
    "    sent_list = sent.split() # create a list of the words \n",
    "    for word in sent_list: \n",
    "        if word == words:\n",
    "            count += 1\n",
    "    return count\n",
    "\n",
    "sentence = input(\"Enter the sentence: \")\n",
    "target = input(\"Enter the word: \")\n",
    "total_count = word_occur(sentence, target)\n",
    "print(f\"The word '{target}' occured '{total_count}' times\")\n",
    "        "
   ]
  },
  {
   "cell_type": "markdown",
   "id": "caf49628-56c0-447b-bceb-51f5bdb20f89",
   "metadata": {},
   "source": [
    "Q12. Find the first occurrence of a word in a string."
   ]
  },
  {
   "cell_type": "code",
   "execution_count": 23,
   "id": "2329dea7-6378-4866-a347-b8ed02acaf7c",
   "metadata": {},
   "outputs": [
    {
     "name": "stdin",
     "output_type": "stream",
     "text": [
      "Enter the sentence:   You cannot create a sentence with because, because, because is a connecting word.\n",
      "Enter the word:   create\n"
     ]
    },
    {
     "name": "stdout",
     "output_type": "stream",
     "text": [
      "The word ' create' occured in index '11'.\n"
     ]
    }
   ],
   "source": [
    "def word_index(sent, words):\n",
    "    count = sent.find(words) #set a counter to zero\n",
    "    if count == -1:\n",
    "        return None\n",
    "    return count\n",
    "\n",
    "sentence = input(\"Enter the sentence: \")\n",
    "target = input(\"Enter the word: \")\n",
    "index = word_index(sentence, target)\n",
    "print(f\"The word '{target}' occured in index '{index}'.\")\n",
    "        "
   ]
  },
  {
   "cell_type": "markdown",
   "id": "3e445504-aad0-4f7f-8af4-ae767b232c14",
   "metadata": {},
   "source": [
    "Q13. Find the last occurrence of a word in a string."
   ]
  },
  {
   "cell_type": "code",
   "execution_count": 27,
   "id": "85ca7907-3a54-4b9b-99b0-182463cfd6e3",
   "metadata": {},
   "outputs": [
    {
     "name": "stdin",
     "output_type": "stream",
     "text": [
      "Enter the sentence:   You cannot create a sentence with because, because, because is a connecting word.\n",
      "Enter the word:  a\n"
     ]
    },
    {
     "name": "stdout",
     "output_type": "stream",
     "text": [
      "The word 'a' occured in index '64'.\n"
     ]
    }
   ],
   "source": [
    "def word_index_last(sent, words):\n",
    "    count = sent.rfind(words) #set a counter to zero\n",
    "    if count == -1:\n",
    "        return None\n",
    "    return count\n",
    "\n",
    "sentence = input(\"Enter the sentence: \")\n",
    "target = input(\"Enter the word: \")\n",
    "index = word_index_last(sentence, target)\n",
    "print(f\"The word '{target}' occured in index '{index}'.\")"
   ]
  },
  {
   "cell_type": "markdown",
   "id": "b93c7573-828e-4390-8e54-68ca72b1ecd5",
   "metadata": {},
   "source": [
    "Q14. Split a string into a list of words."
   ]
  },
  {
   "cell_type": "code",
   "execution_count": 29,
   "id": "a4d010da-c28b-4995-b4a3-047a5e778af9",
   "metadata": {},
   "outputs": [
    {
     "name": "stdin",
     "output_type": "stream",
     "text": [
      "Enter the sentence:  You cannot create a sentence with because, because, because is a connecting word\n"
     ]
    },
    {
     "data": {
      "text/plain": [
       "['You',\n",
       " 'cannot',\n",
       " 'create',\n",
       " 'a',\n",
       " 'sentence',\n",
       " 'with',\n",
       " 'because,',\n",
       " 'because,',\n",
       " 'because',\n",
       " 'is',\n",
       " 'a',\n",
       " 'connecting',\n",
       " 'word']"
      ]
     },
     "execution_count": 29,
     "metadata": {},
     "output_type": "execute_result"
    }
   ],
   "source": [
    "def split_string(sent):\n",
    "    return sent.split()\n",
    "string = input(\"Enter the sentence: \")\n",
    "split_string(string)"
   ]
  },
  {
   "cell_type": "markdown",
   "id": "8fe79388-00c1-48c4-b609-c5988e4da4b1",
   "metadata": {},
   "source": [
    "Q15. Join a list of words into a string."
   ]
  },
  {
   "cell_type": "code",
   "execution_count": 50,
   "id": "a08a9490-4c17-413e-a079-43a9c440ce4d",
   "metadata": {},
   "outputs": [
    {
     "name": "stdout",
     "output_type": "stream",
     "text": [
      "Joined string: p w skill\n"
     ]
    }
   ],
   "source": [
    "def join_word_list(sent):\n",
    "    sentence = ' '.join(sent)\n",
    "    return sentence\n",
    "\n",
    "word_list = ['p','w','skill']\n",
    "sentence = join_word_list(word_list)\n",
    "print(f\"Joined string: {sentence}\")\n"
   ]
  },
  {
   "cell_type": "markdown",
   "id": "f55beead-8ba3-4afa-b52d-cfcaa4599ad5",
   "metadata": {},
   "source": [
    "Q16. Convert a string where words are separated by spaces to one where words are separated by underscores."
   ]
  },
  {
   "cell_type": "code",
   "execution_count": 1,
   "id": "1d0d1b84-fce4-4d5c-8856-b59b1f2d63eb",
   "metadata": {},
   "outputs": [
    {
     "name": "stdin",
     "output_type": "stream",
     "text": [
      "Enter the string:  You cannot create a sentence with because, because, because is a connecting word\n"
     ]
    },
    {
     "name": "stdout",
     "output_type": "stream",
     "text": [
      "New string: You_cannot_create_a_sentence_with_because,_because,_because_is_a_connecting_word\n"
     ]
    }
   ],
   "source": [
    "def replace_with_underscore(sentence):\n",
    "    return sentence.replace(' ', '_')\n",
    "\n",
    "string = input(\"Enter the string: \")\n",
    "print(f\"New string: {replace_with_underscore(string)}\")"
   ]
  },
  {
   "cell_type": "markdown",
   "id": "81dc0dbf-1345-46d6-9ca9-935466ce9dc1",
   "metadata": {},
   "source": [
    "Q17.  Check if a string starts with a specific word or phrase."
   ]
  },
  {
   "cell_type": "code",
   "execution_count": 5,
   "id": "9094550f-5750-44b5-96af-0d9ea8344d63",
   "metadata": {},
   "outputs": [
    {
     "name": "stdin",
     "output_type": "stream",
     "text": [
      "Enter the sentence:  You cannot create a sentence with because, because, because is a connecting word\n",
      "Enter the specific word:  You\n"
     ]
    },
    {
     "data": {
      "text/plain": [
       "\"The text starts with the word 'You'\""
      ]
     },
     "execution_count": 5,
     "metadata": {},
     "output_type": "execute_result"
    }
   ],
   "source": [
    "def start_string(sentence, word):\n",
    "    start = sentence.startswith(word)\n",
    "    if start == True:\n",
    "        return f\"The text starts with the word '{word}'\"\n",
    "    else:\n",
    "        return f\"The text doesnot starts with the word '{word}'\"\n",
    "\n",
    "sent = input(\"Enter the sentence: \")\n",
    "word = input(\"Enter the specific word: \")\n",
    "start_string(sent, word)"
   ]
  },
  {
   "cell_type": "markdown",
   "id": "38c951cc-d8f0-4415-840e-9fd65948309f",
   "metadata": {},
   "source": [
    "Q18. Check if a string ends with a specific word or phrase."
   ]
  },
  {
   "cell_type": "code",
   "execution_count": 6,
   "id": "a34af943-b463-4934-b1d6-7222d093b4ec",
   "metadata": {},
   "outputs": [
    {
     "name": "stdin",
     "output_type": "stream",
     "text": [
      "Enter the sentence:  You cannot create a sentence with because, because, because is a connecting word\n",
      "Enter the specific word:  word\n"
     ]
    },
    {
     "data": {
      "text/plain": [
       "\"The text ends with the word 'word'\""
      ]
     },
     "execution_count": 6,
     "metadata": {},
     "output_type": "execute_result"
    }
   ],
   "source": [
    "def end_string(sentence, word):\n",
    "    start = sentence.endswith(word)\n",
    "    if start == True:\n",
    "        return f\"The text ends with the word '{word}'\"\n",
    "    else:\n",
    "        return f\"The text doesnot ends with the word '{word}'\"\n",
    "\n",
    "sent = input(\"Enter the sentence: \")\n",
    "word = input(\"Enter the specific word: \")\n",
    "end_string(sent, word)"
   ]
  },
  {
   "cell_type": "markdown",
   "id": "1af6a237-5239-4872-b2ba-1ca2caa0fae5",
   "metadata": {},
   "source": [
    "Q19. Convert a string to title case (e.g., \"hello world\" to \"Hello World\")."
   ]
  },
  {
   "cell_type": "code",
   "execution_count": 8,
   "id": "e22bf788-5085-4134-8cd0-0c1fc5950309",
   "metadata": {},
   "outputs": [
    {
     "name": "stdin",
     "output_type": "stream",
     "text": [
      "Enter the title:  hello world\n"
     ]
    },
    {
     "data": {
      "text/plain": [
       "'Title Case: Hello World'"
      ]
     },
     "execution_count": 8,
     "metadata": {},
     "output_type": "execute_result"
    }
   ],
   "source": [
    "def convert_titlecase(string):\n",
    "    titlecase = string.title()\n",
    "    return f\"Title Case: {titlecase}\"\n",
    "\n",
    "sentence = input(\"Enter the title: \")\n",
    "convert_titlecase(sentence)"
   ]
  },
  {
   "cell_type": "markdown",
   "id": "53934658-ba2c-4264-b981-a39e82dba1c7",
   "metadata": {},
   "source": [
    "20. Find the longest word in a string."
   ]
  },
  {
   "cell_type": "code",
   "execution_count": 3,
   "id": "4819bd3d-6790-4984-b33e-c45e3c2dae19",
   "metadata": {},
   "outputs": [
    {
     "name": "stdin",
     "output_type": "stream",
     "text": [
      "Enter the sentence:  Find the longest word in a string.\n"
     ]
    },
    {
     "name": "stdout",
     "output_type": "stream",
     "text": [
      "The longest word in the sentence is: 'longest'\n"
     ]
    }
   ],
   "source": [
    "def longest_word(string):\n",
    "    counter = 0 \n",
    "    words = string.split()\n",
    "    for word in words:\n",
    "        if len(word) > counter:\n",
    "            counter = len(word)\n",
    "            long = word\n",
    "    return long\n",
    "\n",
    "sentence = input(\"Enter the sentence: \")\n",
    "lword = longest_word(sentence)\n",
    "print(f\"The longest word in the sentence is: '{lword}'\")\n",
    "    "
   ]
  },
  {
   "cell_type": "markdown",
   "id": "e8790d25-1883-4e44-9e43-5f074ae44a1d",
   "metadata": {},
   "source": [
    "21. Find the shortest word in a string."
   ]
  },
  {
   "cell_type": "code",
   "execution_count": 5,
   "id": "ef4c40ec-2159-4cf6-b118-3b59b0f6a9bb",
   "metadata": {},
   "outputs": [
    {
     "name": "stdin",
     "output_type": "stream",
     "text": [
      "Enter the sentence:  Find the shortest word in a string.\n"
     ]
    },
    {
     "name": "stdout",
     "output_type": "stream",
     "text": [
      "The shortest word in the sentence is: 'a'\n"
     ]
    }
   ],
   "source": [
    "def shortest_word(string):\n",
    "    counter = int(100000000)\n",
    "    words = string.split()\n",
    "    for word in words:\n",
    "        if len(word) < counter:\n",
    "            counter = len(word)\n",
    "            short = word\n",
    "    return short\n",
    "\n",
    "sentence = input(\"Enter the sentence: \")\n",
    "sword = shortest_word(sentence)\n",
    "print(f\"The shortest word in the sentence is: '{sword}'\")"
   ]
  },
  {
   "cell_type": "markdown",
   "id": "786f4031-37bd-473f-8596-300dc887ee8e",
   "metadata": {},
   "source": [
    "Q22. Reverse the order of words in a string."
   ]
  },
  {
   "cell_type": "code",
   "execution_count": 7,
   "id": "25401409-c487-4b4d-b8bb-b6ff4b6794fa",
   "metadata": {},
   "outputs": [
    {
     "name": "stdin",
     "output_type": "stream",
     "text": [
      "Enter the sentence:  Reverse the order of words in a string\n"
     ]
    },
    {
     "name": "stdout",
     "output_type": "stream",
     "text": [
      "The setence in reverse order: 'string a in words of order the Reverse'\n"
     ]
    }
   ],
   "source": [
    "def reverse_order(string):\n",
    "    list_word = string.split()\n",
    "    rev_list = list_word[::-1]\n",
    "    reverse = ' '.join(rev_list)\n",
    "    return reverse\n",
    "\n",
    "sentence = input(\"Enter the sentence: \")\n",
    "rword = reverse_order(sentence)\n",
    "print(f\"The setence in reverse order: '{rword}'\")\n",
    "    "
   ]
  },
  {
   "cell_type": "markdown",
   "id": "f47762d7-2d9b-4332-a3fa-6a088d3c23d9",
   "metadata": {},
   "source": [
    "Q23. Check if a string is alphanumeric."
   ]
  },
  {
   "cell_type": "code",
   "execution_count": 9,
   "id": "2e02b845-9d28-444d-8913-48591b0072ec",
   "metadata": {},
   "outputs": [
    {
     "name": "stdin",
     "output_type": "stream",
     "text": [
      "Enter the sentence:  mrrahul011\n"
     ]
    },
    {
     "data": {
      "text/plain": [
       "'The string is alphanumeric'"
      ]
     },
     "execution_count": 9,
     "metadata": {},
     "output_type": "execute_result"
    }
   ],
   "source": [
    "def alpa_numeric(string):\n",
    "    check =  string.isalnum()\n",
    "    if check == True:\n",
    "        return \"The string is alphanumeric\"\n",
    "    else:\n",
    "        return \"The string is not alpanumeric\"\n",
    "\n",
    "sentence = input(\"Enter the sentence: \")\n",
    "alpa_numeric(sentence)\n",
    "\n",
    "    "
   ]
  },
  {
   "cell_type": "markdown",
   "id": "3e4e055b-a889-4dcd-8963-6ba7d15e4901",
   "metadata": {},
   "source": [
    "Q24. Extract all digits from a string."
   ]
  },
  {
   "cell_type": "code",
   "execution_count": 15,
   "id": "83cc1fb4-dc13-4fe4-99d8-ac507a9c37c6",
   "metadata": {},
   "outputs": [
    {
     "name": "stdin",
     "output_type": "stream",
     "text": [
      "Enter the sentence:  mrrahul012354\n"
     ]
    },
    {
     "name": "stdout",
     "output_type": "stream",
     "text": [
      "The digit in string is: '012354'\n"
     ]
    }
   ],
   "source": [
    "def digit_in_string(string):\n",
    "    digit = '' \n",
    "    for char in string:\n",
    "        if char.isdigit():\n",
    "            digit += char\n",
    "    return digit\n",
    "\n",
    "sentence = input(\"Enter the sentence: \")\n",
    "digits = digit_in_string(sentence)\n",
    "print(f\"The digit in string is: '{digits}'\")"
   ]
  },
  {
   "cell_type": "markdown",
   "id": "f8959f55-5a50-4a8a-b3f6-8298e00ce647",
   "metadata": {},
   "source": [
    "Q25. Extract all alphabets from a string."
   ]
  },
  {
   "cell_type": "code",
   "execution_count": 23,
   "id": "426384e2-a99a-4695-978c-6d529c97c441",
   "metadata": {},
   "outputs": [
    {
     "name": "stdin",
     "output_type": "stream",
     "text": [
      "Enter the sentence:  mrrahul012245\n"
     ]
    },
    {
     "name": "stdout",
     "output_type": "stream",
     "text": [
      "The alphabets in string is: 'mrrahul'\n"
     ]
    }
   ],
   "source": [
    "def alpha_in_string(string):\n",
    "    alpha = '' \n",
    "    for char in string:\n",
    "        if char.isalpha():\n",
    "            alpha += char\n",
    "    return alpha\n",
    "\n",
    "sentence = input(\"Enter the sentence: \")\n",
    "alphas = alpha_in_string(sentence)\n",
    "print(f\"The alphabets in string is: '{alphas}'\")"
   ]
  },
  {
   "cell_type": "markdown",
   "id": "95e66657-cd82-423a-b6ba-dd481d513bde",
   "metadata": {},
   "source": [
    "Q26. Count the number of uppercase letters in a string."
   ]
  },
  {
   "cell_type": "code",
   "execution_count": 24,
   "id": "c508c3af-9e64-44ce-87c9-bb27cbbf4439",
   "metadata": {},
   "outputs": [
    {
     "name": "stdin",
     "output_type": "stream",
     "text": [
      "Enter the sentence:  Count the Number of Uppercase Letters in a String.\n"
     ]
    },
    {
     "name": "stdout",
     "output_type": "stream",
     "text": [
      "The number of uppercase in string is: '5'\n"
     ]
    }
   ],
   "source": [
    "def upper_case(string):\n",
    "    counter = 0\n",
    "    for char in string:\n",
    "        if char.isupper():\n",
    "            counter +=1\n",
    "    return counter\n",
    "\n",
    "sentence = input(\"Enter the sentence: \")\n",
    "upper = upper_case(sentence)\n",
    "print(f\"The number of uppercase in string is: '{upper}'\")"
   ]
  },
  {
   "cell_type": "markdown",
   "id": "c520c5d1-d8df-42aa-8adf-a15048735034",
   "metadata": {},
   "source": [
    "Q27. Count the number of lowercase letters in a string."
   ]
  },
  {
   "cell_type": "code",
   "execution_count": 25,
   "id": "1a0375a9-3c7c-4c9f-a827-37adf3bf3a9e",
   "metadata": {},
   "outputs": [
    {
     "name": "stdin",
     "output_type": "stream",
     "text": [
      "Enter the sentence:  Count the number of lowercase letters in a string.\n"
     ]
    },
    {
     "name": "stdout",
     "output_type": "stream",
     "text": [
      "The number of lowercase in string is: '40'\n"
     ]
    }
   ],
   "source": [
    "def lower_case(string):\n",
    "    counter = 0\n",
    "    for char in string:\n",
    "        if char.islower():\n",
    "            counter +=1\n",
    "    return counter\n",
    "\n",
    "sentence = input(\"Enter the sentence: \")\n",
    "lower = lower_case(sentence)\n",
    "print(f\"The number of lowercase in string is: '{lower}'\")"
   ]
  },
  {
   "cell_type": "markdown",
   "id": "0f8a5569-4ec7-4046-82dd-a2717ca82fda",
   "metadata": {},
   "source": [
    "Q28. Swap the case of each character in a string."
   ]
  },
  {
   "cell_type": "code",
   "execution_count": 26,
   "id": "e8bf808b-a998-4120-86e0-6580d625228f",
   "metadata": {},
   "outputs": [
    {
     "name": "stdin",
     "output_type": "stream",
     "text": [
      "Enter the sentence:   Swap the CASE\n"
     ]
    },
    {
     "name": "stdout",
     "output_type": "stream",
     "text": [
      "Swap the case of each character: ' sWAP THE case'\n"
     ]
    }
   ],
   "source": [
    "def swap_case(string):\n",
    "    swap = string.swapcase()\n",
    "    return swap\n",
    "\n",
    "sentence = input(\"Enter the sentence: \")\n",
    "scase = swap_case(sentence)\n",
    "print(f\"Swap the case of each character: '{scase}'\")"
   ]
  },
  {
   "cell_type": "markdown",
   "id": "8168c05f-74e4-4ffd-951a-3a548f8f6e3f",
   "metadata": {},
   "source": [
    "Q29. Remove a specific word from a string."
   ]
  },
  {
   "cell_type": "code",
   "execution_count": 48,
   "id": "585da535-6f02-44fe-aac6-9e70f8d3c038",
   "metadata": {},
   "outputs": [
    {
     "name": "stdin",
     "output_type": "stream",
     "text": [
      "Enter the sentence Remove a specific word from a string.\n",
      "Enter the word to be removed:  from\n"
     ]
    },
    {
     "name": "stdout",
     "output_type": "stream",
     "text": [
      "New sentence: Remove a specific word a string.\n"
     ]
    }
   ],
   "source": [
    "def remove_word(string, words):\n",
    "    sent = string.split()\n",
    "    new_sent = []\n",
    "    for word in sent:\n",
    "        if word != words:\n",
    "            new_sent.append(word)\n",
    "    new  = ' '.join(new_sent)\n",
    "    return new\n",
    "sentence = input(\"Enter the sentence\")\n",
    "words = input(\"Enter the word to be removed: \")\n",
    "\n",
    "new_sents = remove_word(sentence, words)\n",
    "print(f\"New sentence: {new_sents}\")\n",
    "    "
   ]
  },
  {
   "cell_type": "markdown",
   "id": "fb7e8a8a-50ac-4c24-bfed-fd1e6f3a6ab4",
   "metadata": {},
   "source": [
    "Q30. Check if a string is a valid email address."
   ]
  },
  {
   "cell_type": "code",
   "execution_count": 55,
   "id": "07431489-4e91-498e-9d6a-716bb6a4cf61",
   "metadata": {},
   "outputs": [
    {
     "name": "stdin",
     "output_type": "stream",
     "text": [
      "Enter the email id:  mrrahul011@gmail.com\n"
     ]
    },
    {
     "data": {
      "text/plain": [
       "'Valid email id'"
      ]
     },
     "execution_count": 55,
     "metadata": {},
     "output_type": "execute_result"
    }
   ],
   "source": [
    "import re\n",
    "\n",
    "def check_email(email):\n",
    "    check = '^[a-zA-Z0-9+_.-]+@[a-zA-Z.]+[a-zA-Z]$'\n",
    "    if re.match(check, email):\n",
    "        return \"Valid email id\"\n",
    "    else:\n",
    "        return \"not a valid email id\"\n",
    "\n",
    "email_id = input(\"Enter the email id: \")\n",
    "check_email(email_id)\n",
    "\n",
    "    \n"
   ]
  },
  {
   "cell_type": "markdown",
   "id": "19f17f04-eca5-4772-b003-63a87fd83176",
   "metadata": {},
   "source": [
    "Q31. Extract the username from an email address string."
   ]
  },
  {
   "cell_type": "code",
   "execution_count": 56,
   "id": "823aa9e3-3dac-430e-b050-d4716e2996ca",
   "metadata": {},
   "outputs": [
    {
     "name": "stdin",
     "output_type": "stream",
     "text": [
      "Enter the email id:  mrrahul011@gmail.com\n"
     ]
    },
    {
     "name": "stdout",
     "output_type": "stream",
     "text": [
      "User Name: mrrahul011\n"
     ]
    }
   ],
   "source": [
    "def username(email):\n",
    "    name = email.split('@')[0]\n",
    "    return name\n",
    "\n",
    "email_id = input(\"Enter the email id: \")\n",
    "print(f\"User Name: {username(email_id)}\")\n"
   ]
  },
  {
   "cell_type": "markdown",
   "id": "a27beebf-d15e-4cbc-934d-a8a2050b8a7d",
   "metadata": {},
   "source": [
    "Q32. Extract the domain name from an email address string."
   ]
  },
  {
   "cell_type": "code",
   "execution_count": 58,
   "id": "4bdf6636-a608-4bad-8570-27ecc877ac78",
   "metadata": {},
   "outputs": [
    {
     "name": "stdin",
     "output_type": "stream",
     "text": [
      "Enter the email id:  mrrahul011@gmail.com\n"
     ]
    },
    {
     "name": "stdout",
     "output_type": "stream",
     "text": [
      "Domain Name: gmail.com\n"
     ]
    }
   ],
   "source": [
    "def domainname(email):\n",
    "    name = email.split('@')[1]\n",
    "    return name\n",
    "\n",
    "email_id = input(\"Enter the email id: \")\n",
    "print(f\"Domain Name: {domainname(email_id)}\")"
   ]
  },
  {
   "cell_type": "markdown",
   "id": "9dfeec4f-68e1-4b7a-80d8-786e9ac75aef",
   "metadata": {},
   "source": [
    "Q33. Replace multiple spaces in a string with a single space."
   ]
  },
  {
   "cell_type": "code",
   "execution_count": 60,
   "id": "7d1a4854-c792-4fe2-b66a-ae4446b95a2a",
   "metadata": {},
   "outputs": [
    {
     "name": "stdin",
     "output_type": "stream",
     "text": [
      "Enter the string:  Replace     multiple spaces in a string with       a single     space.\n"
     ]
    },
    {
     "name": "stdout",
     "output_type": "stream",
     "text": [
      "Replace string: Replace multiple spaces in a string with a single space.\n"
     ]
    }
   ],
   "source": [
    "def replace_space(string):\n",
    "    sente = string.split()\n",
    "    replaced = ' '.join(sente)\n",
    "    return replaced\n",
    "sentence = input(\"Enter the string: \")\n",
    "print(f\"Replace string: {replace_space(sentence)}\")"
   ]
  },
  {
   "cell_type": "markdown",
   "id": "36d17b3c-2f0d-435b-a9f1-55df741d691f",
   "metadata": {},
   "source": [
    "Q34. Check if a string is a valid URL."
   ]
  },
  {
   "cell_type": "code",
   "execution_count": 82,
   "id": "fa26ff22-5129-467d-b0c6-c2708746a22a",
   "metadata": {},
   "outputs": [
    {
     "name": "stdin",
     "output_type": "stream",
     "text": [
      "Enter the URL:  https://yellow-musician-smmfs.pwskills.app/lab/tree/work\n"
     ]
    },
    {
     "data": {
      "text/plain": [
       "'Valid URL'"
      ]
     },
     "execution_count": 82,
     "metadata": {},
     "output_type": "execute_result"
    }
   ],
   "source": [
    "from urllib.parse import urlparse\n",
    "\n",
    "def web_validat(url):\n",
    "    web = urlparse(url)\n",
    "    if web.scheme and web.netloc:\n",
    "        return \"Valid URL\"\n",
    "    else:\n",
    "        return \"Invalid URL\"\n",
    "\n",
    "weburl = input(\"Enter the URL: \")\n",
    "web_validat(weburl)"
   ]
  },
  {
   "cell_type": "markdown",
   "id": "23f8364f-752b-46b0-8214-f613fbb40d53",
   "metadata": {},
   "source": [
    "Q35. Extract the protocol (http or https) from a URL string."
   ]
  },
  {
   "cell_type": "code",
   "execution_count": 87,
   "id": "e29838aa-544a-400b-9b6d-c50d3273aa5b",
   "metadata": {},
   "outputs": [
    {
     "name": "stdin",
     "output_type": "stream",
     "text": [
      "Enter the url:  //yellow-musician-smmfs.pwskills.app/lab/tree/work\n"
     ]
    },
    {
     "data": {
      "text/plain": [
       "'Invalid'"
      ]
     },
     "execution_count": 87,
     "metadata": {},
     "output_type": "execute_result"
    }
   ],
   "source": [
    "def protocol_finder(url):\n",
    "    urlfinder = url.find('://')\n",
    "    \n",
    "    if urlfinder !=-1:\n",
    "        return url[:urlfinder]\n",
    "    else:\n",
    "        return 'Invalid'\n",
    "url = input(\"Enter the url: \")\n",
    "protocol_finder(url)\n"
   ]
  },
  {
   "cell_type": "markdown",
   "id": "19811a21-f71f-4050-88ac-55201e386d73",
   "metadata": {},
   "source": [
    "Q36. Find the frequency of each character in a string."
   ]
  },
  {
   "cell_type": "code",
   "execution_count": 2,
   "id": "f92866ff-56a2-4dd5-927c-40d123097507",
   "metadata": {},
   "outputs": [
    {
     "name": "stdin",
     "output_type": "stream",
     "text": [
      "Enter the string:  hello world\n"
     ]
    },
    {
     "data": {
      "text/plain": [
       "{'h': 1, 'e': 1, 'l': 3, 'o': 2, ' ': 1, 'w': 1, 'r': 1, 'd': 1}"
      ]
     },
     "execution_count": 2,
     "metadata": {},
     "output_type": "execute_result"
    }
   ],
   "source": [
    "def count_character(string):\n",
    "    char_dict = {}\n",
    "    for char in string:\n",
    "        if char in char_dict:\n",
    "            char_dict[char] += 1\n",
    "        else:\n",
    "            char_dict[char] = 1\n",
    "    return char_dict\n",
    "\n",
    "sentence = input(\"Enter the string: \")\n",
    "count_character(sentence)"
   ]
  },
  {
   "cell_type": "markdown",
   "id": "b860336f-9a3c-4650-8ff3-b0afe64c00ff",
   "metadata": {},
   "source": [
    "Q37. Remove all punctuation from a string."
   ]
  },
  {
   "cell_type": "code",
   "execution_count": 2,
   "id": "48f29552-68e1-4cb6-918a-3ba80813a7ee",
   "metadata": {},
   "outputs": [
    {
     "name": "stdin",
     "output_type": "stream",
     "text": [
      "Enter the string:  Hello, world! How's it going?\n"
     ]
    },
    {
     "name": "stdout",
     "output_type": "stream",
     "text": [
      "With out punctuation: Hello world Hows it going\n"
     ]
    }
   ],
   "source": [
    "def remove_punctuation(string):\n",
    "    l = {'.', '?','\"',\"'\",',', '-', '!', ':', ';', '(', ')', '[', ']', '/'}\n",
    "    new_list = []\n",
    "    for char in string:\n",
    "        if char not in l:\n",
    "            new_list.append(char)\n",
    "            \n",
    "    return new_list\n",
    "\n",
    "sentence = input(\"Enter the string: \")\n",
    "removed = \"\".join(remove_punctuation(sentence))\n",
    "print(f\"With out punctuation: {removed}\")\n",
    "            "
   ]
  },
  {
   "cell_type": "markdown",
   "id": "eba5c8e0-d1d0-443f-aabb-43ab447e7360",
   "metadata": {},
   "source": [
    "Q38. Check if a string contains only digits."
   ]
  },
  {
   "cell_type": "code",
   "execution_count": 16,
   "id": "ab5ac270-824e-4f37-bef4-57cca9c5ea6c",
   "metadata": {},
   "outputs": [
    {
     "name": "stdin",
     "output_type": "stream",
     "text": [
      "Enter the string:  123456\n"
     ]
    },
    {
     "name": "stdout",
     "output_type": "stream",
     "text": [
      "Input contain only digit: True\n"
     ]
    }
   ],
   "source": [
    "def only_digits(input_string):\n",
    "    if input_string.isdigit():\n",
    "        return True\n",
    "    else:\n",
    "        return False\n",
    "\n",
    "string = input(\"Enter the string: \")\n",
    "print(f\"Input contain only digit: {only_digits(string)}\")"
   ]
  },
  {
   "cell_type": "markdown",
   "id": "630d5090-fc40-441d-82ae-5f3d9a712ae5",
   "metadata": {},
   "source": [
    "Q39. Check if a string contains only alphabets."
   ]
  },
  {
   "cell_type": "code",
   "execution_count": 17,
   "id": "48f0c39f-ef76-4ad5-83ca-eab9952185e2",
   "metadata": {},
   "outputs": [
    {
     "name": "stdin",
     "output_type": "stream",
     "text": [
      "Enter the string:  mrrahul\n"
     ]
    },
    {
     "name": "stdout",
     "output_type": "stream",
     "text": [
      "Input contain only alphebets: True\n"
     ]
    }
   ],
   "source": [
    "def only_alpha(input_string):\n",
    "    if input_string.isalpha():\n",
    "        return True\n",
    "    else:\n",
    "        return False\n",
    "\n",
    "string = input(\"Enter the string: \")\n",
    "print(f\"Input contain only alphebets: {only_alpha(string)}\")"
   ]
  },
  {
   "cell_type": "markdown",
   "id": "bd6a7f1f-7879-4620-8043-b983f5ad4149",
   "metadata": {},
   "source": [
    "Q40. Convert a string to a list of characters."
   ]
  },
  {
   "cell_type": "code",
   "execution_count": 20,
   "id": "a8d6fa82-e423-4486-8ab0-c96b7ce1f926",
   "metadata": {},
   "outputs": [
    {
     "name": "stdin",
     "output_type": "stream",
     "text": [
      "Enter the string:  a string\n"
     ]
    },
    {
     "data": {
      "text/plain": [
       "['a', ' ', 's', 't', 'r', 'i', 'n', 'g']"
      ]
     },
     "execution_count": 20,
     "metadata": {},
     "output_type": "execute_result"
    }
   ],
   "source": [
    "def list_chart(string):\n",
    "    list_char = []\n",
    "    for char in string:\n",
    "        list_char += char\n",
    "    return list_char\n",
    "string = input(\"Enter the string: \")\n",
    "list_chart(string)"
   ]
  },
  {
   "cell_type": "markdown",
   "id": "9b7b90c5-2df2-4c3c-b78d-b810821d377c",
   "metadata": {},
   "source": [
    "Q41. Check if two strings are anagrams."
   ]
  },
  {
   "cell_type": "code",
   "execution_count": 26,
   "id": "fe8d41f9-e688-4f26-b1fe-8bfdb8fdab61",
   "metadata": {},
   "outputs": [
    {
     "name": "stdin",
     "output_type": "stream",
     "text": [
      "Enter string 1: hooonman\n",
      "Enter sting 2:  namnoooh\n"
     ]
    },
    {
     "name": "stdout",
     "output_type": "stream",
     "text": [
      "The entered string is anagrams: True\n"
     ]
    }
   ],
   "source": [
    "def anagram_check(s1, s2):\n",
    "    list1 = s1.replace(' ', '')\n",
    "    list2 = s2.replace(' ', '')\n",
    "    if sorted(list1.lower()) == sorted(list2.lower()):\n",
    "        return True\n",
    "    else:\n",
    "        return False\n",
    "string1 = input(\"Enter string 1:\")\n",
    "string2 = input(\"Enter sting 2: \")\n",
    "\n",
    "print(f\"The entered string is anagrams: {anagram_check(string1, string2)}\")\n",
    "    "
   ]
  },
  {
   "cell_type": "markdown",
   "id": "528fcd63-4e7f-464e-bdcd-3bcb738ac4cb",
   "metadata": {},
   "source": [
    "Q42. Encode a string using a Caesar cipher."
   ]
  },
  {
   "cell_type": "code",
   "execution_count": 59,
   "id": "36ad9eaa-3ed6-4b13-993e-8729077b2d86",
   "metadata": {},
   "outputs": [
    {
     "name": "stdin",
     "output_type": "stream",
     "text": [
      "Enter the string:  Encode a string using a Caesar cipher.\n",
      "Enter shift digit:  28\n"
     ]
    },
    {
     "name": "stdout",
     "output_type": "stream",
     "text": [
      "The encoded message is:\n"
     ]
    },
    {
     "data": {
      "text/plain": [
       "'Gpeqfg c uvtkpi wukpi c Ecguct ekrjgt.'"
      ]
     },
     "execution_count": 59,
     "metadata": {},
     "output_type": "execute_result"
    }
   ],
   "source": [
    "def caesar_encode(string, shift):\n",
    "    encoded = []\n",
    "    for char in string:\n",
    "        if char.isupper():\n",
    "            encoded.append(chr((ord(char) + shift - 65) %26 + 65))\n",
    "        elif char.islower():\n",
    "            encoded.append(chr((ord(char) + shift - 97) %26 + 97))\n",
    "        else:\n",
    "            encoded.append(char)\n",
    "    return ''.join(encoded)\n",
    "            \n",
    "sentence = input(\"Enter the string: \")\n",
    "digit =int(input(\"Enter shift digit: \"))\n",
    "print(\"The encoded message is:\")\n",
    "caesar_encode(sentence, digit)"
   ]
  },
  {
   "cell_type": "markdown",
   "id": "4d92059c-e3fc-4ed8-af04-e2bde6300847",
   "metadata": {},
   "source": [
    "Q43. Decode a Caesar cipher encoded string."
   ]
  },
  {
   "cell_type": "code",
   "execution_count": 62,
   "id": "2fe6e54c-dba0-4d48-9c01-4fd015d537b1",
   "metadata": {},
   "outputs": [
    {
     "name": "stdin",
     "output_type": "stream",
     "text": [
      "Enter the string:  Gpeqfg c uvtkpi wukpi c Ecguct ekrjgt.\n",
      "Enter shift digit:  28\n"
     ]
    },
    {
     "name": "stdout",
     "output_type": "stream",
     "text": [
      "The decoded message is:\n"
     ]
    },
    {
     "data": {
      "text/plain": [
       "'Encode a string using a Caesar cipher.'"
      ]
     },
     "execution_count": 62,
     "metadata": {},
     "output_type": "execute_result"
    }
   ],
   "source": [
    "def caesar_decode(string, shift):\n",
    "    decoded = []\n",
    "    for char in string:\n",
    "        if char.isupper():\n",
    "            decoded.append(chr((ord(char) - shift - 65) %26 + 65))\n",
    "        elif char.islower():\n",
    "            decoded.append(chr((ord(char) - shift - 97) %26 + 97))\n",
    "        else:\n",
    "            decoded.append(char)\n",
    "    return ''.join(decoded)\n",
    "            \n",
    "sentence = input(\"Enter the string: \")\n",
    "digit =int(input(\"Enter shift digit: \"))\n",
    "print(\"The decoded message is:\")\n",
    "caesar_decode(sentence, digit)"
   ]
  },
  {
   "cell_type": "markdown",
   "id": "ffebfb11-8783-4c93-a1fe-ce871f0d1aaa",
   "metadata": {},
   "source": [
    "Q44. Find the most frequent word in a string."
   ]
  },
  {
   "cell_type": "code",
   "execution_count": 87,
   "id": "827b67cd-648d-44ff-b591-1647e8d97b81",
   "metadata": {},
   "outputs": [
    {
     "name": "stdin",
     "output_type": "stream",
     "text": [
      "Enter the sentenc:  Hello world, hello there! How's the world?\n"
     ]
    },
    {
     "data": {
      "text/plain": [
       "['hello']"
      ]
     },
     "execution_count": 87,
     "metadata": {},
     "output_type": "execute_result"
    }
   ],
   "source": [
    "def frequent_word(string):\n",
    "    string = [char.lower() for char in string.split()]\n",
    "   \n",
    "    dic = {}\n",
    "    for char in string:\n",
    "        if char not in dic:\n",
    "            dic[char] = 1\n",
    "        else:\n",
    "            dic[char] +=1\n",
    "    return dic\n",
    "\n",
    "sentence = input(\"Enter the sentenc: \")\n",
    "words = frequent_word(sentence)\n",
    "max_keys = [key for key, value in words.items() if value == max(words.values())]\n",
    "max_keys"
   ]
  },
  {
   "cell_type": "markdown",
   "id": "1176ff6f-7771-48cc-84b5-823dcddad00f",
   "metadata": {},
   "source": [
    "Q45. Find all unique words in a string."
   ]
  },
  {
   "cell_type": "markdown",
   "id": "7c11c4b7-ee5b-4863-a4fe-1931541c8bae",
   "metadata": {},
   "source": [
    "import re\n",
    "def unique(string):\n",
    "    string = re.sub(r'[^\\w\\s]', '', string)\n",
    "    unique = set(char.lower() for char in string.split())\n",
    "    return unique\n",
    "\n",
    "sentence = input(\"Enter the sentenc: \")\n",
    "unique(sentence)"
   ]
  },
  {
   "cell_type": "markdown",
   "id": "396d62a1-d858-4c13-b07f-ade17a75beac",
   "metadata": {},
   "source": [
    "Q46. Count the number of syllables in a string."
   ]
  },
  {
   "cell_type": "code",
   "execution_count": 96,
   "id": "00b44e0f-7505-41cc-8ca6-8991cc9ca831",
   "metadata": {},
   "outputs": [
    {
     "name": "stdin",
     "output_type": "stream",
     "text": [
      "Enter the sentenc:  Count the number of syllables in a string.\n"
     ]
    },
    {
     "name": "stdout",
     "output_type": "stream",
     "text": [
      "The number of syllables are: \n"
     ]
    },
    {
     "data": {
      "text/plain": [
       "11"
      ]
     },
     "execution_count": 96,
     "metadata": {},
     "output_type": "execute_result"
    }
   ],
   "source": [
    "def syllables(string):\n",
    "    syllable = {'a', 'e', 'i','o', 'u'}\n",
    "    counter = 0\n",
    "    for char in string:\n",
    "        if char in syllable:\n",
    "            counter += 1\n",
    "    return counter\n",
    "sentence = input(\"Enter the sentenc: \")\n",
    "print(\"The number of syllables are: \")\n",
    "syllables(sentence)"
   ]
  },
  {
   "cell_type": "markdown",
   "id": "70c0060d-5e3a-4a1c-b1e2-90b16eee0a72",
   "metadata": {},
   "source": [
    "Q47. Check if a string contains any special characters."
   ]
  },
  {
   "cell_type": "code",
   "execution_count": 98,
   "id": "924b9ae7-dc7a-4e38-8539-8d8da2262ab4",
   "metadata": {},
   "outputs": [
    {
     "name": "stdin",
     "output_type": "stream",
     "text": [
      "Enter the sentenc:  mrrahul011@gmail.om\n"
     ]
    },
    {
     "name": "stdout",
     "output_type": "stream",
     "text": [
      "special characters: True\n"
     ]
    }
   ],
   "source": [
    "def spcl_char(string):\n",
    "    if string.isalnum():\n",
    "        return False\n",
    "    else:\n",
    "        return True\n",
    "\n",
    "sentence = input(\"Enter the sentenc: \") \n",
    "print(f\"special characters: {spcl_char(sentence)}\")           "
   ]
  },
  {
   "cell_type": "markdown",
   "id": "4299fe91-1c8b-4877-aff8-de7cccd911bc",
   "metadata": {},
   "source": [
    "Q48. Remove the nth word from a string."
   ]
  },
  {
   "cell_type": "code",
   "execution_count": 32,
   "id": "f75c03ea-1b22-45d9-aa7c-57b74aa7fdbe",
   "metadata": {},
   "outputs": [
    {
     "name": "stdin",
     "output_type": "stream",
     "text": [
      "Enter the sentenc:  Remove the nth word from a string.\n",
      "Enter the position:  8\n"
     ]
    },
    {
     "name": "stdout",
     "output_type": "stream",
     "text": [
      "New sentence:\n",
      "Position out of range\n"
     ]
    }
   ],
   "source": [
    "def nth_word(string, n_pos):\n",
    "    list_w = string.split()\n",
    "    remov_word = list_w.pop(n_pos - 1)\n",
    "    new_list = ' '.join(list_w)\n",
    "    return new_list\n",
    "\n",
    "sentence = input(\"Enter the sentenc: \") \n",
    "position = int(input(\"Enter the position: \"))\n",
    "print(\"New sentence:\")\n",
    "if position <= len(sentence .split()):\n",
    "    print(f\"{nth_word(sentence, position)}\")\n",
    "else: \n",
    "    print(\"Position out of range\")\n",
    "    "
   ]
  },
  {
   "cell_type": "markdown",
   "id": "5f77a87e-a8a8-4f84-b656-4ab14dc897f5",
   "metadata": {},
   "source": [
    "Q49. Insert a word at the nth position in a string."
   ]
  },
  {
   "cell_type": "code",
   "execution_count": 1,
   "id": "d3cb5a6a-9317-4655-ad73-7385bcfc20d5",
   "metadata": {},
   "outputs": [
    {
     "name": "stdin",
     "output_type": "stream",
     "text": [
      "Enter the sentenc:  Insert a word at the nth position in a string.\n",
      "Enter the position:  3 \n",
      "Enter the word:  the\n"
     ]
    },
    {
     "name": "stdout",
     "output_type": "stream",
     "text": [
      "New sentence:\n",
      "Insert a the word at the nth position in a string.\n"
     ]
    }
   ],
   "source": [
    "def nth_word_insert(string, n_pos, word):\n",
    "    list_w = string.split()\n",
    "    remov_word = list_w.insert(n_pos - 1, word)\n",
    "    new_list = ' '.join(list_w)\n",
    "    return new_list\n",
    "\n",
    "sentence = input(\"Enter the sentenc: \") \n",
    "position = int(input(\"Enter the position: \"))\n",
    "word = input(\"Enter the word: \") \n",
    "print(\"New sentence:\")\n",
    "if position <= len(sentence .split()):\n",
    "    print(f\"{nth_word_insert(sentence, position, word)}\")\n",
    "else: \n",
    "    print(\"Position out of range\")\n",
    "    "
   ]
  },
  {
   "cell_type": "markdown",
   "id": "040f63ee-6c7b-45fe-9399-c9a8490bfdb5",
   "metadata": {},
   "source": [
    "Q50. Convert a CSV string to a list of lists."
   ]
  },
  {
   "cell_type": "code",
   "execution_count": 11,
   "id": "c576e2dc-f6c3-4083-842b-6ecd3fe0240b",
   "metadata": {},
   "outputs": [
    {
     "name": "stdin",
     "output_type": "stream",
     "text": [
      "Enter the sentenc in csv:   Name, Age, Country\\nJohn, 25, USA\\nAlice, 30, Canada\\nBob, 22, UK\n"
     ]
    },
    {
     "name": "stdout",
     "output_type": "stream",
     "text": [
      "List of lists from csv: \n"
     ]
    },
    {
     "data": {
      "text/plain": [
       "[[' Name', ' Age', ' Country'],\n",
       " ['John', ' 25', ' USA'],\n",
       " ['Alice', ' 30', ' Canada'],\n",
       " ['Bob', ' 22', ' UK']]"
      ]
     },
     "execution_count": 11,
     "metadata": {},
     "output_type": "execute_result"
    }
   ],
   "source": [
    "def convert_csv(string):\n",
    "    csv_list = string.split('\\\\n')\n",
    "    list_final = []\n",
    "    for word in csv_list:\n",
    "        words = word.split(',')\n",
    "        list_final.append(words)\n",
    "    return list_final\n",
    "\n",
    "sentence = input(\"Enter the sentenc in csv: \")    \n",
    "print(\"List of lists from csv: \")\n",
    "convert_csv(sentence) "
   ]
  },
  {
   "cell_type": "markdown",
   "id": "0ca2f575-0b1f-42e3-bbbe-3169cdcf9cb1",
   "metadata": {},
   "source": [
    "------------------------------------------------------------------------------------------------------------------------------------------------------------------"
   ]
  },
  {
   "cell_type": "markdown",
   "id": "275af60f-2740-49ed-ab67-158b95447d56",
   "metadata": {},
   "source": [
    "List Based Practice Problem :"
   ]
  },
  {
   "cell_type": "markdown",
   "id": "f4725716-baa0-4006-b9da-256e888e5eba",
   "metadata": {},
   "source": [
    "Q1. Create a list with integers from 1 to 10."
   ]
  },
  {
   "cell_type": "code",
   "execution_count": 15,
   "id": "87ee991b-8fef-4633-a518-1605aa7eba31",
   "metadata": {},
   "outputs": [
    {
     "name": "stdout",
     "output_type": "stream",
     "text": [
      "[1, 2, 3, 4, 5, 6, 7, 8, 9, 10]\n"
     ]
    }
   ],
   "source": [
    "#int_list = [1,2,3,4,5,6,7,8,9,10]\n",
    "int_list = [i for i in range(1, 11)]\n",
    "print(int_list)"
   ]
  },
  {
   "cell_type": "markdown",
   "id": "7d07e9f5-3f85-49dc-9fc4-735d4de8954d",
   "metadata": {},
   "source": [
    "Q2. Find the length of a list without using the `len()` function."
   ]
  },
  {
   "cell_type": "code",
   "execution_count": 38,
   "id": "c40db4a3-b725-41d7-9a1c-ab16d3c03814",
   "metadata": {},
   "outputs": [
    {
     "name": "stdin",
     "output_type": "stream",
     "text": [
      "Enter the list:  1 2 3 4 5 67 \n"
     ]
    },
    {
     "name": "stdout",
     "output_type": "stream",
     "text": [
      "Length of list: 13\n",
      "Length of list using len function: 13\n"
     ]
    }
   ],
   "source": [
    "def length_list(inp_list):\n",
    "    counter = 0\n",
    "    for _ in inp_list:\n",
    "        counter +=  1\n",
    "    return counter\n",
    "\n",
    "input_list = list(input(\"Enter the list: \"))\n",
    "print(f\"Length of list: {length_list(input_list)}\")\n",
    "print(f\"Length of list using len function: {len(input_list)}\")"
   ]
  },
  {
   "cell_type": "markdown",
   "id": "db931b36-6a38-4c43-accb-f2742772fe56",
   "metadata": {},
   "source": [
    "Q3. Append an element to the end of a list."
   ]
  },
  {
   "cell_type": "code",
   "execution_count": 49,
   "id": "168811c8-cc91-4e38-a5b0-690e3c2f0e75",
   "metadata": {},
   "outputs": [
    {
     "name": "stdin",
     "output_type": "stream",
     "text": [
      "Enter the list:  123456789\n",
      "Enter the new element pwSkills\n"
     ]
    },
    {
     "name": "stdout",
     "output_type": "stream",
     "text": [
      "New list: ['1', '2', '3', '4', '5', '6', '7', '8', '9', 'pwSkills']\n"
     ]
    }
   ],
   "source": [
    "input_list = list(input(\"Enter the list: \"))\n",
    "new_element = input(\"Enter the new element\")\n",
    "input_list.append(new_element)\n",
    "print(f\"New list: {input_list}\")"
   ]
  },
  {
   "cell_type": "markdown",
   "id": "1fcad0ac-d5c3-470c-9723-18f2b57cccbd",
   "metadata": {},
   "source": [
    "Q4. Insert an element at a specific index in a list.\n"
   ]
  },
  {
   "cell_type": "code",
   "execution_count": 55,
   "id": "f9cf62c1-6c94-4533-8566-b3bea2b4721c",
   "metadata": {},
   "outputs": [
    {
     "name": "stdin",
     "output_type": "stream",
     "text": [
      "Enter the list:  1234567890\n",
      "Enter the index for new element:  5\n",
      "Enter the new element:  pwSkill\n"
     ]
    },
    {
     "name": "stdout",
     "output_type": "stream",
     "text": [
      "New list: ['1', '2', '3', '4', 'pwSkill', '5', '6', '7', '8', '9', '0']\n"
     ]
    }
   ],
   "source": [
    "input_list = list(input(\"Enter the list: \"))\n",
    "index = int(input(\"Enter the index for new element: \"))\n",
    "if index <= len(input_list):\n",
    "    new_element = input('Enter the new element: ')\n",
    "    input_list.insert(index - 1, new_element)\n",
    "    print(f'New list: {input_list}')\n",
    "else:\n",
    "    print(\"Position out of range\")\n",
    "    \n",
    "                  "
   ]
  },
  {
   "cell_type": "markdown",
   "id": "c5111366-47af-4cb4-976f-fe1c4e97771a",
   "metadata": {},
   "source": [
    "Q5. Remove an element from a list by its value."
   ]
  },
  {
   "cell_type": "code",
   "execution_count": 57,
   "id": "f7ed7c32-cdb5-4dd8-84f1-0593f7f3d6f0",
   "metadata": {},
   "outputs": [
    {
     "name": "stdin",
     "output_type": "stream",
     "text": [
      "Enter the list:  123456789\n",
      "Enter the value to remove:  10\n"
     ]
    },
    {
     "name": "stdout",
     "output_type": "stream",
     "text": [
      "Invalid entry\n"
     ]
    }
   ],
   "source": [
    "input_list = list(input(\"Enter the list: \"))\n",
    "value = input(\"Enter the value to remove: \")\n",
    "\n",
    "if value in input_list:\n",
    "    input_list.remove(value)\n",
    "    print(f'New list: {input_list}')\n",
    "else:\n",
    "    print(\"Invalid entry\")"
   ]
  },
  {
   "cell_type": "markdown",
   "id": "aac566d0-9055-4a30-a708-4c5cc070e0d7",
   "metadata": {},
   "source": [
    "Q6. Remove an element from a list by its index."
   ]
  },
  {
   "cell_type": "code",
   "execution_count": 5,
   "id": "cd22b300-b628-466f-9a52-24cc1cf19ac3",
   "metadata": {},
   "outputs": [
    {
     "name": "stdin",
     "output_type": "stream",
     "text": [
      "Enter the list:  123456789\n",
      "Enter the index:  5\n"
     ]
    },
    {
     "name": "stdout",
     "output_type": "stream",
     "text": [
      "New list: ['1', '2', '3', '4', '6', '7', '8', '9']\n"
     ]
    }
   ],
   "source": [
    "input_list = list(input(\"Enter the list: \"))\n",
    "index = int(input(\"Enter the index: \"))\n",
    "\n",
    "if index <= len(input_list):\n",
    "    removed_element = input_list.pop(index -1)\n",
    "    print(f\"New list: {input_list}\")\n",
    "else:\n",
    "    print(\"Position out of range\")\n"
   ]
  },
  {
   "cell_type": "markdown",
   "id": "347da835-761e-4908-b080-2bb48160f8be",
   "metadata": {},
   "source": [
    "Q7. Check if an element exists in a list."
   ]
  },
  {
   "cell_type": "code",
   "execution_count": 8,
   "id": "7685242f-4361-40f3-b054-b80a5121f71a",
   "metadata": {},
   "outputs": [
    {
     "name": "stdin",
     "output_type": "stream",
     "text": [
      "Enter the list:  123456789\n",
      "Enter the element:  9\n"
     ]
    },
    {
     "name": "stdout",
     "output_type": "stream",
     "text": [
      "Element is in the list\n"
     ]
    }
   ],
   "source": [
    "input_list = list(input(\"Enter the list: \"))\n",
    "element = input(\"Enter the element: \")\n",
    "\n",
    "if element in input_list:\n",
    "    print(\"Element is in the list\")\n",
    "else:\n",
    "    print(\"Elemet is not in the list\")"
   ]
  },
  {
   "cell_type": "markdown",
   "id": "0b1848a3-40e0-439f-8ec3-c143c750ee81",
   "metadata": {},
   "source": [
    "Q8. Find the index of the first occurrence of an element in a list."
   ]
  },
  {
   "cell_type": "code",
   "execution_count": 11,
   "id": "964be617-625f-4c8d-b47d-4b00874c70f3",
   "metadata": {},
   "outputs": [
    {
     "name": "stdin",
     "output_type": "stream",
     "text": [
      "Enter the list:  123456789\n",
      "Enter the element:  5\n"
     ]
    },
    {
     "name": "stdout",
     "output_type": "stream",
     "text": [
      "The index of element is: 4\n"
     ]
    }
   ],
   "source": [
    "input_list = list(input(\"Enter the list: \"))\n",
    "element = input(\"Enter the element: \")\n",
    "\n",
    "if element in input_list:\n",
    "    print(f\"The index of element is: {input_list.index(element)}\")\n",
    "else:\n",
    "    print(\"Element not in the list\")"
   ]
  },
  {
   "cell_type": "markdown",
   "id": "c754f5b2-8898-4a27-9bde-daad9fb2b799",
   "metadata": {},
   "source": [
    "Q9. Count the occurrences of an element in a list."
   ]
  },
  {
   "cell_type": "code",
   "execution_count": 12,
   "id": "89c62b1b-8f7d-47b5-99f3-e35881af648c",
   "metadata": {},
   "outputs": [
    {
     "name": "stdin",
     "output_type": "stream",
     "text": [
      "Enter the list:  123456512647\n",
      "Enter the element:  5\n"
     ]
    },
    {
     "name": "stdout",
     "output_type": "stream",
     "text": [
      "The count of element is: 2\n"
     ]
    }
   ],
   "source": [
    "input_list = list(input(\"Enter the list: \"))\n",
    "element = input(\"Enter the element: \")\n",
    "\n",
    "if element in input_list:\n",
    "    print(f\"The count of element is: {input_list.count(element)}\")\n",
    "else:\n",
    "    print(\"Element not in the list\")\n"
   ]
  },
  {
   "cell_type": "markdown",
   "id": "1a524a88-0379-4bc3-956e-d0c1f002d76b",
   "metadata": {},
   "source": [
    "Q10. Reverse the order of elements in a list."
   ]
  },
  {
   "cell_type": "code",
   "execution_count": 15,
   "id": "deb6c074-e9a1-45e4-8660-8877e5d73d03",
   "metadata": {},
   "outputs": [
    {
     "name": "stdin",
     "output_type": "stream",
     "text": [
      "Enter the list:  123456789\n"
     ]
    },
    {
     "name": "stdout",
     "output_type": "stream",
     "text": [
      "Reverse of list: ['9', '8', '7', '6', '5', '4', '3', '2', '1']\n"
     ]
    }
   ],
   "source": [
    "input_list = list(input(\"Enter the list: \"))\n",
    "print(f\"Reverse of list: {input_list[::-1]}\")"
   ]
  },
  {
   "cell_type": "markdown",
   "id": "5107c1d0-f886-45e4-940d-7460df7056bf",
   "metadata": {},
   "source": [
    "Q11. Sort a list in ascending order."
   ]
  },
  {
   "cell_type": "code",
   "execution_count": 4,
   "id": "49f45b34-6665-488a-b6cf-8d70e194c5db",
   "metadata": {},
   "outputs": [
    {
     "name": "stdin",
     "output_type": "stream",
     "text": [
      "Enter the list:  123456789521\n"
     ]
    },
    {
     "name": "stdout",
     "output_type": "stream",
     "text": [
      "Sorted list: \n"
     ]
    },
    {
     "data": {
      "text/plain": [
       "[1, 1, 2, 2, 3, 4, 5, 5, 6, 7, 8, 9]"
      ]
     },
     "execution_count": 4,
     "metadata": {},
     "output_type": "execute_result"
    }
   ],
   "source": [
    "input_list = list(input(\"Enter the list: \"))\n",
    "new_list= []\n",
    "for i in input_list:\n",
    "    new_list.append(int(i))\n",
    "new_list.sort()\n",
    "print(\"Sorted list: \")\n",
    "new_list"
   ]
  },
  {
   "cell_type": "code",
   "execution_count": null,
   "id": "eb203fd8-3ed8-4a92-87a6-e1910ca136c3",
   "metadata": {},
   "outputs": [],
   "source": [
    "Q12. Sort a list in descending order."
   ]
  },
  {
   "cell_type": "code",
   "execution_count": 5,
   "id": "31da437c-739d-48b3-86e4-0e53e7d519c9",
   "metadata": {},
   "outputs": [
    {
     "name": "stdin",
     "output_type": "stream",
     "text": [
      "Enter the list:  123852147951\n"
     ]
    },
    {
     "name": "stdout",
     "output_type": "stream",
     "text": [
      "Sorted list: \n"
     ]
    },
    {
     "data": {
      "text/plain": [
       "[9, 8, 7, 5, 5, 4, 3, 2, 2, 1, 1, 1]"
      ]
     },
     "execution_count": 5,
     "metadata": {},
     "output_type": "execute_result"
    }
   ],
   "source": [
    "input_list = list(input(\"Enter the list: \"))\n",
    "new_list= []\n",
    "for i in input_list:\n",
    "    new_list.append(int(i))\n",
    "new_list.sort(reverse = True)\n",
    "print(\"Sorted list: \")\n",
    "new_list"
   ]
  },
  {
   "cell_type": "markdown",
   "id": "86f76fd1-7dbf-4a5b-8747-ca5dbaf209ff",
   "metadata": {},
   "source": [
    "Q13. Create a list of even numbers from 1 to 20."
   ]
  },
  {
   "cell_type": "code",
   "execution_count": 6,
   "id": "8ff1b313-5c56-4a36-bb9c-713c557451e7",
   "metadata": {},
   "outputs": [
    {
     "name": "stdout",
     "output_type": "stream",
     "text": [
      "LIst of even number: [2, 4, 6, 8, 10, 12, 14, 16, 18, 20]\n"
     ]
    }
   ],
   "source": [
    "even_list = [i for i in range(2, 21, 2)]\n",
    "print(f\"LIst of even number: {even_list}\")"
   ]
  },
  {
   "cell_type": "markdown",
   "id": "13e12d4e-423c-42db-9f6e-173166054e08",
   "metadata": {},
   "source": [
    "Q14. Create a list of odd numbers from 1 to 20."
   ]
  },
  {
   "cell_type": "code",
   "execution_count": 7,
   "id": "0fabc3ac-333c-453b-8906-7b2bc7eed87e",
   "metadata": {},
   "outputs": [
    {
     "name": "stdout",
     "output_type": "stream",
     "text": [
      "LIst of even number: [1, 3, 5, 7, 9, 11, 13, 15, 17, 19]\n"
     ]
    }
   ],
   "source": [
    "odd_list = [i for i in range(1, 21, 2)]\n",
    "print(f\"LIst of even number: {odd_list}\")"
   ]
  },
  {
   "cell_type": "markdown",
   "id": "5b9e56b7-6f0f-44cc-81b0-20be067acc8e",
   "metadata": {},
   "source": [
    "Q15. Find the sum of all elements in a list."
   ]
  },
  {
   "cell_type": "code",
   "execution_count": 14,
   "id": "eb273d36-e48b-45d9-a265-f7672b59ff82",
   "metadata": {},
   "outputs": [
    {
     "name": "stdout",
     "output_type": "stream",
     "text": [
      "The sum of list: 9\n"
     ]
    }
   ],
   "source": [
    "input_list = [1, 3, 5]\n",
    "list_sum = sum(input_list)\n",
    "print(f\"The sum of list: {list_sum}\")"
   ]
  },
  {
   "cell_type": "markdown",
   "id": "e3de81e0-916b-48b9-8fb5-b04cd57fe510",
   "metadata": {},
   "source": [
    "Q16. Find the maximum value in a list."
   ]
  },
  {
   "cell_type": "code",
   "execution_count": 15,
   "id": "9b0a02ca-0cb7-480f-8cc9-cba8cd663037",
   "metadata": {},
   "outputs": [
    {
     "name": "stdout",
     "output_type": "stream",
     "text": [
      "The maximun value in list: 19\n"
     ]
    }
   ],
   "source": [
    "input_list = [1, 3, 5, 7, 9, 11, 13, 15, 17, 19]\n",
    "list_max = max(input_list)\n",
    "print(f\"The maximun value in list: {list_max}\")"
   ]
  },
  {
   "cell_type": "markdown",
   "id": "a5a7b302-df34-49be-909c-1ae652c71c31",
   "metadata": {},
   "source": [
    "Q17. Find the minimum value in a list."
   ]
  },
  {
   "cell_type": "code",
   "execution_count": 16,
   "id": "63546d57-9efd-4533-a6dc-32b42b91bacf",
   "metadata": {},
   "outputs": [
    {
     "name": "stdout",
     "output_type": "stream",
     "text": [
      "The minimun value in list: 1\n"
     ]
    }
   ],
   "source": [
    "input_list = [1, 3, 5, 7, 9, 11, 13, 15, 17, 19]\n",
    "list_min = min(input_list)\n",
    "print(f\"The minimun value in list: {list_min}\")"
   ]
  },
  {
   "cell_type": "markdown",
   "id": "4fa4d099-7e4f-4d47-8ab7-52afdbc4e30d",
   "metadata": {},
   "source": [
    "Q18. Create a list of squares of numbers from 1 to 10."
   ]
  },
  {
   "cell_type": "code",
   "execution_count": 18,
   "id": "d19bf5ac-6fd5-48ac-9964-266d395aceb3",
   "metadata": {},
   "outputs": [
    {
     "name": "stdout",
     "output_type": "stream",
     "text": [
      "List of squares from 1 to 10: [1, 4, 9, 16, 25, 36, 49, 64, 81, 100]\n"
     ]
    }
   ],
   "source": [
    "list_square = [x**2 for x in range(1,11)]\n",
    "print(f\"List of squares from 1 to 10: {list_square}\")"
   ]
  },
  {
   "cell_type": "markdown",
   "id": "022064f3-94ff-431b-8ff8-ace2ba6c8f5c",
   "metadata": {},
   "source": [
    "Q19. Create a list of random numbers."
   ]
  },
  {
   "cell_type": "code",
   "execution_count": 20,
   "id": "72690433-46c3-4d7f-98df-7013b561ed0d",
   "metadata": {},
   "outputs": [
    {
     "name": "stdout",
     "output_type": "stream",
     "text": [
      "List of random integer: [198, 241, 192, 791, 346, 960, 225, 643, 926, 956]\n"
     ]
    }
   ],
   "source": [
    "import random\n",
    "rand_list = [random.randint(1,1000) for _ in range(0,10)]\n",
    "print(f\"List of random integer: {rand_list}\")"
   ]
  },
  {
   "cell_type": "markdown",
   "id": "4f6da02d-0999-4cee-bfcf-598aaefe6684",
   "metadata": {},
   "source": [
    "Q20. Remove duplicates from a list."
   ]
  },
  {
   "cell_type": "code",
   "execution_count": 24,
   "id": "e71cc873-7849-4daa-a831-3d7b79684a29",
   "metadata": {},
   "outputs": [
    {
     "name": "stdout",
     "output_type": "stream",
     "text": [
      "List with out duplicate: {1, 3, 5, 7, 9, 11, 13, 15, 17, 19}\n"
     ]
    }
   ],
   "source": [
    "input_list = [1, 3, 5, 7, 9, 11, 13, 15, 17, 19, 3, 5, 7, 9, 11, 3, 5, 7, 9, 11, 3, 5, 7, 9, 11, ]\n",
    "new_list = set(input_list)\n",
    "print(f\"List with out duplicate: {new_list}\")"
   ]
  },
  {
   "cell_type": "markdown",
   "id": "94de3046-0aa3-472d-a3ab-ca421fa13c84",
   "metadata": {},
   "source": [
    "Q21. Find the common elements between two lists."
   ]
  },
  {
   "cell_type": "code",
   "execution_count": null,
   "id": "04660b48-030f-484a-9e3b-f57985e99713",
   "metadata": {},
   "outputs": [
    {
     "data": {
      "text/plain": [
       "[2, 3, 4, 5, 6, 8, 9]"
      ]
     },
     "execution_count": 26,
     "metadata": {},
     "output_type": "execute_result"
    }
   ],
   "source": [
    "list1 = [1,2,3,4,5,6,6,5,8,9]\n",
    "list2 = [9,8,5,6,4,7,2,3]\n",
    "\n",
    "common_list= [i for i in set(list1) if i in set(list2)]\n",
    "common_list"
   ]
  },
  {
   "cell_type": "markdown",
   "id": "fe82d13c-a816-4988-945d-5d8f430b07fb",
   "metadata": {},
   "source": [
    "Q22. Find the difference between two lists."
   ]
  },
  {
   "cell_type": "code",
   "execution_count": 28,
   "id": "cba47f69-cd73-4eab-81d1-e213ea64f193",
   "metadata": {},
   "outputs": [
    {
     "data": {
      "text/plain": [
       "[10, 20]"
      ]
     },
     "execution_count": 28,
     "metadata": {},
     "output_type": "execute_result"
    }
   ],
   "source": [
    "list1 = [10, 20, 30, 40, 50]\n",
    "list2 = [30, 40, 50, 60, 70]\n",
    "\n",
    "diff_list = [i for i in list1 if i not in list2]\n",
    "diff_list"
   ]
  },
  {
   "cell_type": "markdown",
   "id": "0c23c3b8-4efa-4671-bda4-06b12a70f1a5",
   "metadata": {},
   "source": [
    "Q23. Merge two lists."
   ]
  },
  {
   "cell_type": "code",
   "execution_count": 29,
   "id": "58e56650-23e3-4018-bda2-e543c686a49e",
   "metadata": {},
   "outputs": [
    {
     "data": {
      "text/plain": [
       "[1, 2, 3, 4, 5, 6, 6, 5, 8, 9, 9, 8, 5, 6, 4, 7, 2, 3]"
      ]
     },
     "execution_count": 29,
     "metadata": {},
     "output_type": "execute_result"
    }
   ],
   "source": [
    "list1 = [1,2,3,4,5,6,6,5,8,9]\n",
    "list2 = [9,8,5,6,4,7,2,3]\n",
    "\n",
    "merge_list = list1 + list2\n",
    "merge_list"
   ]
  },
  {
   "cell_type": "markdown",
   "id": "1a3043bb-e751-40ee-80f9-cb7c0efd340e",
   "metadata": {},
   "source": [
    "Q24. Multiply all elements in a list by 2."
   ]
  },
  {
   "cell_type": "code",
   "execution_count": 30,
   "id": "5968e69a-d76e-4d83-8ce9-5104f84e3855",
   "metadata": {},
   "outputs": [
    {
     "name": "stdout",
     "output_type": "stream",
     "text": [
      "List multiplied by 2:\n"
     ]
    },
    {
     "data": {
      "text/plain": [
       "[1, 2, 3, 4, 5, 6, 6, 5, 8, 9, 1, 2, 3, 4, 5, 6, 6, 5, 8, 9]"
      ]
     },
     "execution_count": 30,
     "metadata": {},
     "output_type": "execute_result"
    }
   ],
   "source": [
    "list1 = [1,2,3,4,5,6,6,5,8,9]\n",
    "list_new = list1 * 2\n",
    "print(\"List multiplied by 2:\")\n",
    "list_new"
   ]
  },
  {
   "cell_type": "markdown",
   "id": "f1cbec61-49d1-4fc5-a4c6-5f52320fef59",
   "metadata": {},
   "source": [
    "Q25. Filter out all even numbers from a list."
   ]
  },
  {
   "cell_type": "code",
   "execution_count": 31,
   "id": "bdb39f27-c7de-4df0-80d4-fb8513a00159",
   "metadata": {},
   "outputs": [
    {
     "name": "stdout",
     "output_type": "stream",
     "text": [
      "List of even numbers:\n"
     ]
    },
    {
     "data": {
      "text/plain": [
       "[2, 4, 6, 6, 8]"
      ]
     },
     "execution_count": 31,
     "metadata": {},
     "output_type": "execute_result"
    }
   ],
   "source": [
    "list1 = [1,2,3,4,5,6,6,5,8,9]\n",
    "list_even = [i for i in list1 if i % 2 == 0]\n",
    "print(\"List of even numbers:\")\n",
    "list_even"
   ]
  },
  {
   "cell_type": "markdown",
   "id": "f11f2249-f2ec-47d4-9858-bb6e1fbfab9d",
   "metadata": {},
   "source": [
    "Q26. Convert a list of strings to a list of integers."
   ]
  },
  {
   "cell_type": "code",
   "execution_count": 33,
   "id": "b7b0c2c7-b18a-4cc4-aa03-7f0b6d8c63ec",
   "metadata": {},
   "outputs": [
    {
     "name": "stdout",
     "output_type": "stream",
     "text": [
      "Integer list:\n"
     ]
    },
    {
     "data": {
      "text/plain": [
       "[1, 2, 3, 152, 20]"
      ]
     },
     "execution_count": 33,
     "metadata": {},
     "output_type": "execute_result"
    }
   ],
   "source": [
    "str_list1 = ['1', '2', '3', '152', '20']\n",
    "\n",
    "int_list = [int(i) for i in str_list1]\n",
    "print(\"Integer list:\")\n",
    "int_list"
   ]
  },
  {
   "cell_type": "markdown",
   "id": "10d5c7ba-3c1e-46bb-b748-394755c54a81",
   "metadata": {},
   "source": [
    "Q27. Convert a list of integers to a list of strings."
   ]
  },
  {
   "cell_type": "code",
   "execution_count": 34,
   "id": "5314ba13-30f6-41d3-9faf-4e15d205b06d",
   "metadata": {},
   "outputs": [
    {
     "name": "stdout",
     "output_type": "stream",
     "text": [
      "String list:\n"
     ]
    },
    {
     "data": {
      "text/plain": [
       "['1', '2', '3', '4', '5', '6', '6', '5', '8', '9']"
      ]
     },
     "execution_count": 34,
     "metadata": {},
     "output_type": "execute_result"
    }
   ],
   "source": [
    "int_list1 = [1,2,3,4,5,6,6,5,8,9]\n",
    "\n",
    "str_list = [str(i) for i in int_list1]\n",
    "print(\"String list:\")\n",
    "str_list"
   ]
  },
  {
   "cell_type": "markdown",
   "id": "4fb3bacf-cdae-40e4-99c9-fefa3f787ed1",
   "metadata": {},
   "source": [
    "Q28. Flatten a nested list."
   ]
  },
  {
   "cell_type": "code",
   "execution_count": 37,
   "id": "f0ca9904-32d7-48e7-af3f-59f4918c7014",
   "metadata": {},
   "outputs": [
    {
     "data": {
      "text/plain": [
       "[1, 2, 3, 4, 5, 6, 7, 8, 9]"
      ]
     },
     "execution_count": 37,
     "metadata": {},
     "output_type": "execute_result"
    }
   ],
   "source": [
    "list1 = [[1, 2, 3], [4, 5], [6, 7, 8, 9]]\n",
    "n = []\n",
    "for i in list1:\n",
    "    if type(i) == list:\n",
    "        for j in i:\n",
    "            n.append(j)\n",
    "    else:\n",
    "        n.append(i)\n",
    "n"
   ]
  },
  {
   "cell_type": "markdown",
   "id": "33751745-cd72-4f5f-8a1e-fb7b59525c88",
   "metadata": {},
   "source": [
    "Q29. Create a list of the first 10 Fibonacci numbers."
   ]
  },
  {
   "cell_type": "code",
   "execution_count": 1,
   "id": "661afdc8-f437-497c-a647-669d464d3a97",
   "metadata": {},
   "outputs": [
    {
     "name": "stdout",
     "output_type": "stream",
     "text": [
      "List of first 10 fibonacci seires: \n"
     ]
    },
    {
     "data": {
      "text/plain": [
       "[0, 1, 1, 2, 3, 5, 8, 13, 21, 34]"
      ]
     },
     "execution_count": 1,
     "metadata": {},
     "output_type": "execute_result"
    }
   ],
   "source": [
    "def fibonacci(n):\n",
    "    fib_list = [0, 1]\n",
    "    \n",
    "    for i in range(2, n):\n",
    "        new = fib_list[i -1] + fib_list[i-2]\n",
    "        fib_list.append(new)\n",
    "    return fib_list\n",
    "print(\"List of first 10 fibonacci seires: \")\n",
    "fibonacci(10)"
   ]
  },
  {
   "cell_type": "markdown",
   "id": "ff6d8ce5-8ac5-4730-8a9b-6a0d71761ad1",
   "metadata": {},
   "source": [
    "Q30. Check if a list is sorted."
   ]
  },
  {
   "cell_type": "code",
   "execution_count": 5,
   "id": "2faa1042-3b47-40cd-8551-18adfd36f9b9",
   "metadata": {},
   "outputs": [
    {
     "name": "stdout",
     "output_type": "stream",
     "text": [
      "List is sorted\n"
     ]
    }
   ],
   "source": [
    "list1 = [1,2,3,4,5,6,7,8,9]\n",
    "counter = 0\n",
    "for i in range(1,len(list1)):\n",
    "    if list1[i] < list1[i-1]:\n",
    "        counter += 1\n",
    "if counter > 0:\n",
    "    print(\"List is not sorted\")\n",
    "else:\n",
    "    print(\"List is sorted\")\n",
    "    "
   ]
  },
  {
   "cell_type": "markdown",
   "id": "1eafdc01-90d5-4fc8-98ea-4513da5544b6",
   "metadata": {},
   "source": [
    "Q31. Rotate a list to the left by n positions."
   ]
  },
  {
   "cell_type": "code",
   "execution_count": 6,
   "id": "1f3ecc95-8916-497c-9a19-404b0096f136",
   "metadata": {},
   "outputs": [
    {
     "name": "stdin",
     "output_type": "stream",
     "text": [
      "Enter the position to rotate the list:  3\n"
     ]
    },
    {
     "name": "stdout",
     "output_type": "stream",
     "text": [
      "rotated list: [4, 5, 6, 7, 8, 9, 1, 2, 3]\n"
     ]
    }
   ],
   "source": [
    "list1 = [1,2,3,4,5,6,7,8,9]\n",
    "n_pos = int(input(\"Enter the position to rotate the list: \"))\n",
    "\n",
    "n = n_pos % len(list1) \n",
    "\n",
    "newlist = list1[n:] + list1[:n]\n",
    "\n",
    "print(\"rotated list:\", newlist)"
   ]
  },
  {
   "cell_type": "markdown",
   "id": "4d53535f-d7ca-443c-a3a2-c7be7ff053f6",
   "metadata": {},
   "source": [
    "Q32. Rotate a list to the right by n positions."
   ]
  },
  {
   "cell_type": "code",
   "execution_count": 8,
   "id": "c8fe6cfe-1ac5-4b22-845b-940859c57dce",
   "metadata": {},
   "outputs": [
    {
     "name": "stdin",
     "output_type": "stream",
     "text": [
      "Enter the position to rotate the list:  3\n"
     ]
    },
    {
     "name": "stdout",
     "output_type": "stream",
     "text": [
      "rotated list: [7, 8, 9, 1, 2, 3, 4, 5, 6]\n"
     ]
    }
   ],
   "source": [
    "list1 = [1,2,3,4,5,6,7,8,9]\n",
    "n_pos = int(input(\"Enter the position to rotate the list: \"))\n",
    "\n",
    "n = n_pos % len(list1) \n",
    "\n",
    "newlist = list1[-n:] + list1[:-n]\n",
    "\n",
    "print(\"rotated list:\", newlist)"
   ]
  },
  {
   "cell_type": "markdown",
   "id": "78fb8ee4-6fcc-42b7-bff8-e82162afa628",
   "metadata": {},
   "source": [
    "Q33. Create a list of prime numbers up to 50."
   ]
  },
  {
   "cell_type": "code",
   "execution_count": 42,
   "id": "132f3206-183b-4f5b-a59b-8a193cba3b7f",
   "metadata": {},
   "outputs": [
    {
     "name": "stdout",
     "output_type": "stream",
     "text": [
      "List of prime number up to 50:  [1, 2, 3, 5, 7, 11, 13, 17, 19, 23, 29, 31, 37, 41, 43, 47]\n"
     ]
    }
   ],
   "source": [
    "prime_list = []\n",
    "for i in range(1,51):  \n",
    "        for num in range(2, i):\n",
    "            if (i % num) == 0:\n",
    "                break\n",
    "        else:\n",
    "            prime_list.append(i)\n",
    "           \n",
    "\n",
    "print(\"List of prime number up to 50: \", (prime_list))"
   ]
  },
  {
   "cell_type": "markdown",
   "id": "6ca9b44b-cd45-4e9a-8003-ae502b6257a5",
   "metadata": {},
   "source": [
    "Q34. Split a list into chunks of size `n`."
   ]
  },
  {
   "cell_type": "code",
   "execution_count": 50,
   "id": "6c70545c-7e55-450d-aee9-9dad938075ae",
   "metadata": {},
   "outputs": [
    {
     "name": "stdin",
     "output_type": "stream",
     "text": [
      "Enter the number of chunks : 2\n"
     ]
    },
    {
     "data": {
      "text/plain": [
       "[[1, 2], [3, 4], [5, 6], [7, 8], [9]]"
      ]
     },
     "execution_count": 50,
     "metadata": {},
     "output_type": "execute_result"
    }
   ],
   "source": [
    "list1 =[1,2,3,4,5,6,7,8,9]\n",
    "n = int(input(\"Enter the number of chunks :\"))\n",
    "chunk = []\n",
    "for i in range(0, len(list1), n):\n",
    "    chunks= list1[i:i + n]\n",
    "    chunk.append(chunks)\n",
    "chunk         "
   ]
  },
  {
   "cell_type": "markdown",
   "id": "a3cf5d73-a8e7-46cb-a723-63b3743a60c7",
   "metadata": {},
   "source": [
    "Q35. Find the second largest number in a list."
   ]
  },
  {
   "cell_type": "code",
   "execution_count": 58,
   "id": "e7778f66-3185-40f3-86c8-685e73c01b10",
   "metadata": {},
   "outputs": [
    {
     "name": "stdout",
     "output_type": "stream",
     "text": [
      "Second largest number in list: 43\n"
     ]
    }
   ],
   "source": [
    "list1 =[1, 2, 3, 5, 7, 11, 13, 17, 19, 23, 29, 31, 37, 41, 43, 47]\n",
    "sorted_list= sorted(list1)\n",
    "print(\"Second largest number in list:\", sorted_list[len(list1)-2])"
   ]
  },
  {
   "cell_type": "markdown",
   "id": "fc2563ef-46f3-4fcd-930c-82643764471e",
   "metadata": {},
   "source": [
    "Q36. Replace every element in a list with its square."
   ]
  },
  {
   "cell_type": "code",
   "execution_count": 59,
   "id": "85ffcb6f-75d8-4101-a405-52a3834e078f",
   "metadata": {},
   "outputs": [
    {
     "name": "stdout",
     "output_type": "stream",
     "text": [
      "Square of list: [1, 4, 9, 25, 49, 121, 169, 289, 361, 529, 841, 961, 1369, 1681, 1849, 2209]\n"
     ]
    }
   ],
   "source": [
    "list1 =[1, 2, 3, 5, 7, 11, 13, 17, 19, 23, 29, 31, 37, 41, 43, 47]\n",
    "sqr_list = [x*x for x in list1]\n",
    "print(\"Square of list:\", sqr_list)"
   ]
  },
  {
   "cell_type": "markdown",
   "id": "4f49fb01-4271-411b-a1d9-57c18d638615",
   "metadata": {},
   "source": [
    "Q37. Convert a list to a dictionary where list elements become keys and their\n",
    "indices become values."
   ]
  },
  {
   "cell_type": "code",
   "execution_count": 2,
   "id": "b997694d-1e20-4854-97f1-dfa724b7574d",
   "metadata": {},
   "outputs": [
    {
     "name": "stdout",
     "output_type": "stream",
     "text": [
      "Dictionary of list:  {1: 0, 2: 1, 3: 2, 5: 3, 7: 4, 11: 5, 13: 6, 17: 7, 19: 8, 23: 9, 29: 10, 31: 11, 37: 12, 41: 13, 43: 14, 47: 15}\n"
     ]
    }
   ],
   "source": [
    "list1 =[1, 2, 3, 5, 7, 11, 13, 17, 19, 23, 29, 31, 37, 41, 43, 47]\n",
    "\n",
    "new_dic = {key: value for value, key in enumerate(list1)}\n",
    "print(\"Dictionary of list: \", new_dic)"
   ]
  },
  {
   "cell_type": "markdown",
   "id": "6b6f4f30-f31e-4c5e-a8a1-679c2181fecd",
   "metadata": {},
   "source": [
    "Q38. Shuffle the elements of a list randomly."
   ]
  },
  {
   "cell_type": "code",
   "execution_count": 4,
   "id": "19156e72-7a14-417c-ae8c-5eaabd92fec5",
   "metadata": {},
   "outputs": [
    {
     "name": "stdout",
     "output_type": "stream",
     "text": [
      "shuffled list:  [37, 43, 7, 23, 5, 19, 47, 11, 1, 17, 2, 13, 3, 31, 41, 29]\n"
     ]
    }
   ],
   "source": [
    "import random\n",
    "\n",
    "list1 =[1, 2, 3, 5, 7, 11, 13, 17, 19, 23, 29, 31, 37, 41, 43, 47]\n",
    "random.shuffle(list1)\n",
    "print(\"shuffled list: \", list1 )"
   ]
  },
  {
   "cell_type": "markdown",
   "id": "bbcb2d14-61a9-49d4-9952-a84398a4efdd",
   "metadata": {},
   "source": [
    "Q39. Create a list of the first 10 factorial numbers."
   ]
  },
  {
   "cell_type": "code",
   "execution_count": 7,
   "id": "662a6a77-04d3-43f3-85ba-a2c1ebb7ce0e",
   "metadata": {},
   "outputs": [
    {
     "name": "stdout",
     "output_type": "stream",
     "text": [
      "List of first 10 number:  [1, 1, 2, 6, 24, 120, 720, 5040, 40320, 362880]\n"
     ]
    }
   ],
   "source": [
    "def factorial(n):\n",
    "    \n",
    "    if n == 0 or n == 1:\n",
    "        return 1\n",
    "    else:\n",
    "        return n * factorial(n - 1)\n",
    "fact_list = [factorial(x) for x in range(10)]\n",
    "print(\"List of first 10 number: \", fact_list)"
   ]
  },
  {
   "cell_type": "code",
   "execution_count": 6,
   "id": "81175f74-e7ed-4134-af0b-0590750caecd",
   "metadata": {},
   "outputs": [
    {
     "data": {
      "text/plain": [
       "[1, 1, 2, 6, 24, 120, 720, 5040, 40320, 362880]"
      ]
     },
     "execution_count": 6,
     "metadata": {},
     "output_type": "execute_result"
    }
   ],
   "source": [
    "fact_list\n"
   ]
  },
  {
   "cell_type": "markdown",
   "id": "91efc84a-544e-47bc-b064-0d60c41e65dd",
   "metadata": {},
   "source": [
    "Q40. Check if two lists have at least one element in common."
   ]
  },
  {
   "cell_type": "code",
   "execution_count": 10,
   "id": "10fb18b0-4aac-413f-83f9-22c0f926d9ef",
   "metadata": {},
   "outputs": [
    {
     "name": "stdout",
     "output_type": "stream",
     "text": [
      "The lists have at least one common element.\n"
     ]
    }
   ],
   "source": [
    "list1 = [10, 20, 30, 40, 50]\n",
    "list2 = [30, 40, 50, 60, 70]\n",
    "\n",
    "common_list = [item for item in list1 if item in list2]\n",
    "if len(common_list) > 0:\n",
    "    print(\"The lists have at least one common element.\")\n",
    "else:\n",
    "    print(\"The lists do not have any common elements.\")"
   ]
  },
  {
   "cell_type": "markdown",
   "id": "f46a4f69-c8cf-4a2d-bff3-ef386da4681f",
   "metadata": {},
   "source": [
    "Q41. Remove all elements from a list."
   ]
  },
  {
   "cell_type": "code",
   "execution_count": 11,
   "id": "b5a26aa8-de51-47dd-99f4-3d05aee6b90a",
   "metadata": {},
   "outputs": [
    {
     "name": "stdout",
     "output_type": "stream",
     "text": [
      "Empty list:  []\n"
     ]
    }
   ],
   "source": [
    "list1 = [10, 20, 30, 40, 50]\n",
    "list1.clear()\n",
    "print(\"Empty list: \", list1)"
   ]
  },
  {
   "cell_type": "markdown",
   "id": "24dfb840-7e68-4384-9464-1d32933bbdd3",
   "metadata": {},
   "source": [
    "Q42. Replace negative numbers in a list with 0."
   ]
  },
  {
   "cell_type": "code",
   "execution_count": 14,
   "id": "ae9bbaad-1340-491c-9c35-e223727717d4",
   "metadata": {},
   "outputs": [
    {
     "name": "stdout",
     "output_type": "stream",
     "text": [
      "Replaced list:  [10, 20, 0, 40, 0]\n"
     ]
    }
   ],
   "source": [
    "list1 = [10, 20, -30, 40, -50]\n",
    "\n",
    "for i in range(0, len(list1)):\n",
    "    if list1[i] < 0:\n",
    "        list1[i] = 0\n",
    "print(\"Replaced list: \", list1)        "
   ]
  },
  {
   "cell_type": "markdown",
   "id": "ac392ab5-2630-4852-91b1-4dea3507980d",
   "metadata": {},
   "source": [
    "Q43. Convert a string into a list of words."
   ]
  },
  {
   "cell_type": "code",
   "execution_count": 15,
   "id": "a926eea8-f24f-4545-bc16-a909ce44e028",
   "metadata": {},
   "outputs": [
    {
     "name": "stdin",
     "output_type": "stream",
     "text": [
      "Enter the string:  Hello there, I am world\n"
     ]
    },
    {
     "name": "stdout",
     "output_type": "stream",
     "text": [
      "List of words:  ['Hello', 'there,', 'I', 'am', 'world']\n"
     ]
    }
   ],
   "source": [
    "string = input(\"Enter the string: \")\n",
    "\n",
    "print(\"List of words: \", string.split())"
   ]
  },
  {
   "cell_type": "markdown",
   "id": "af541169-4887-430a-acc5-fd905db5e6a4",
   "metadata": {},
   "source": [
    "Q44. Convert a list of words into a string."
   ]
  },
  {
   "cell_type": "code",
   "execution_count": 22,
   "id": "2be5a154-3757-4192-a277-a9d1a6edf4bf",
   "metadata": {},
   "outputs": [
    {
     "name": "stdout",
     "output_type": "stream",
     "text": [
      "String:  Hello there, I am world\n"
     ]
    }
   ],
   "source": [
    "word = ['Hello', 'there,', 'I', 'am', 'world']\n",
    "string = \" \".join(word)\n",
    "print(\"String: \", string)"
   ]
  },
  {
   "cell_type": "markdown",
   "id": "34a258b6-7b7d-4e8e-9475-eb42306a411c",
   "metadata": {},
   "source": [
    "Q45. Create a list of the first n powers of 2."
   ]
  },
  {
   "cell_type": "code",
   "execution_count": 24,
   "id": "27648b48-f781-4a42-8803-c3af59556b2c",
   "metadata": {},
   "outputs": [
    {
     "name": "stdin",
     "output_type": "stream",
     "text": [
      "Enter the value of n:  5\n"
     ]
    },
    {
     "name": "stdout",
     "output_type": "stream",
     "text": [
      "list of the first n power of 2: [1, 2, 4, 8, 16]\n"
     ]
    }
   ],
   "source": [
    "n = int(input(\"Enter the value of n: \"))\n",
    "\n",
    "power_2list = [2**x for x in range(n)]\n",
    "\n",
    "print(\"list of the first n power of 2:\" , power_2list)"
   ]
  },
  {
   "cell_type": "markdown",
   "id": "4df5153f-b85b-4861-83ee-fd94befd6139",
   "metadata": {},
   "source": [
    "Q46. Find the longest string in a list of strings."
   ]
  },
  {
   "cell_type": "code",
   "execution_count": 25,
   "id": "19c254c7-7c7a-4bfa-be67-f2b339841295",
   "metadata": {},
   "outputs": [
    {
     "name": "stdout",
     "output_type": "stream",
     "text": [
      "Longest string from list:  elderberry\n"
     ]
    }
   ],
   "source": [
    "string_list = [\"apple\", \"banana\", \"cherry\", \"date\", \"elderberry\"]\n",
    "\n",
    "long_string = \"\"\n",
    "\n",
    "for string in string_list:\n",
    "    if len(string) > len(long_string):\n",
    "        long_string = string\n",
    "print(\"Longest string from list: \", long_string)"
   ]
  },
  {
   "cell_type": "markdown",
   "id": "e5c0552a-c852-4003-994a-a99baa47b852",
   "metadata": {},
   "source": [
    "Q47. Find the shortest string in a list of strings."
   ]
  },
  {
   "cell_type": "code",
   "execution_count": 27,
   "id": "ae2bacd0-671f-4741-a6f2-60251f2030fa",
   "metadata": {},
   "outputs": [
    {
     "name": "stdout",
     "output_type": "stream",
     "text": [
      "Shortest string from list:  date\n"
     ]
    }
   ],
   "source": [
    "string_list = [\"apple\", \"banana\", \"cherry\", \"date\", \"elderberry\"]\n",
    "\n",
    "short_string = string_list[0]\n",
    "\n",
    "for string in string_list:\n",
    "    if len(string) < len(short_string):\n",
    "        short_string = string\n",
    "print(\"Shortest string from list: \", short_string)"
   ]
  },
  {
   "cell_type": "markdown",
   "id": "68369024-9e70-4584-bc44-911db12d77ff",
   "metadata": {},
   "source": [
    "Q48. Create a list of the first n triangular numbers."
   ]
  },
  {
   "cell_type": "code",
   "execution_count": 28,
   "id": "de78af60-5356-4a86-b20b-051492ed9ebc",
   "metadata": {},
   "outputs": [
    {
     "name": "stdin",
     "output_type": "stream",
     "text": [
      "Enter the value of n:  6\n"
     ]
    },
    {
     "name": "stdout",
     "output_type": "stream",
     "text": [
      "List of triangular number:  [1, 3, 6, 10, 15, 21]\n"
     ]
    }
   ],
   "source": [
    "n = int(input(\"Enter the value of n: \"))\n",
    "trian_num = [x *  (x+1) //2 for x in range(1, n+1)]\n",
    "\n",
    "print(\"List of triangular number: \", trian_num)"
   ]
  },
  {
   "cell_type": "markdown",
   "id": "043e27e7-bfa0-4803-8896-e80d02e81851",
   "metadata": {},
   "source": [
    "Q49. Check if a list contains another list as a subsequence."
   ]
  },
  {
   "cell_type": "code",
   "execution_count": 29,
   "id": "2349632a-900d-4841-b9d5-9d58e4f2164d",
   "metadata": {},
   "outputs": [
    {
     "name": "stdout",
     "output_type": "stream",
     "text": [
      "The lists have subsequence list elements.\n"
     ]
    }
   ],
   "source": [
    "list1 = [1, 2, 3, 4, 5, 6, 7, 8, 9, 10]\n",
    "list2 = [3, 5, 8]\n",
    "\n",
    "common_list = [x for x in list1 if x in list2]\n",
    "if len(common_list) > 0:\n",
    "    print(\"The lists have subsequence list elements.\")\n",
    "else:\n",
    "    print(\"The lists do not have  subsequence list elements.\")"
   ]
  },
  {
   "cell_type": "markdown",
   "id": "bb8112b2-9c1c-4173-95a4-50452e20c131",
   "metadata": {},
   "source": [
    "Q50. Swap two elements in a list by their indices."
   ]
  },
  {
   "cell_type": "code",
   "execution_count": 32,
   "id": "4ad30526-3858-472e-8909-b283863da014",
   "metadata": {},
   "outputs": [
    {
     "name": "stdin",
     "output_type": "stream",
     "text": [
      "Enter element index:  5\n",
      "Enter element index to swap:  1\n"
     ]
    },
    {
     "name": "stdout",
     "output_type": "stream",
     "text": [
      "The swapped list:  [1, 6, 3, 4, 5, 2, 7, 8, 9, 10]\n"
     ]
    }
   ],
   "source": [
    "list1 = [1, 2, 3, 4, 5, 6, 7, 8, 9, 10]\n",
    "\n",
    "index1 = int(input(\"Enter element index: \"))\n",
    "index2 = int(input(\"Enter element index to swap: \"))\n",
    "\n",
    "temp = list1[index1]\n",
    "list1[index1] = list1[index2]\n",
    "list1[index2] = temp\n",
    "\n",
    "print(\"The swapped list: \", list1)"
   ]
  },
  {
   "cell_type": "markdown",
   "id": "323d7308-2eda-404b-aabd-88d58089469e",
   "metadata": {},
   "source": [
    "."
   ]
  },
  {
   "cell_type": "markdown",
   "id": "0745849d-abc0-47ce-8527-5517d8cebb4e",
   "metadata": {},
   "source": [
    "Tuple based practice problem :"
   ]
  },
  {
   "cell_type": "markdown",
   "id": "c9e12864-a402-49fd-8265-0edeb3c9b1f6",
   "metadata": {},
   "source": [
    "1. Create a tuple with integers from 1 to 5."
   ]
  },
  {
   "cell_type": "code",
   "execution_count": 3,
   "id": "a8571254-274d-416e-9d13-30cd23478f1d",
   "metadata": {},
   "outputs": [
    {
     "name": "stdout",
     "output_type": "stream",
     "text": [
      "tuple with integers from 1 to 5\n"
     ]
    },
    {
     "data": {
      "text/plain": [
       "(1, 2, 3, 4, 5)"
      ]
     },
     "execution_count": 3,
     "metadata": {},
     "output_type": "execute_result"
    }
   ],
   "source": [
    "int_tuple = (x for x in range(1, 6))\n",
    "print(\"tuple with integers from 1 to 5\")\n",
    "tuple(int_tuple)"
   ]
  },
  {
   "cell_type": "markdown",
   "id": "c634442f-a745-4a45-9e00-1578eff7a853",
   "metadata": {},
   "source": [
    "2. Access the third element of a tuple."
   ]
  },
  {
   "cell_type": "code",
   "execution_count": 5,
   "id": "aa9ef875-356e-4f6e-b429-b12196ab3f33",
   "metadata": {},
   "outputs": [
    {
     "name": "stdout",
     "output_type": "stream",
     "text": [
      "Third element of tuple: \n"
     ]
    },
    {
     "data": {
      "text/plain": [
       "3"
      ]
     },
     "execution_count": 5,
     "metadata": {},
     "output_type": "execute_result"
    }
   ],
   "source": [
    "int_tuple = (x for x in range(1, 6))\n",
    "print(\"Third element of tuple: \")\n",
    "tuple(int_tuple)[2]"
   ]
  },
  {
   "cell_type": "markdown",
   "id": "571712c9-141b-4a8c-9876-21614ef5edc5",
   "metadata": {},
   "source": [
    "3. Find the length of a tuple without using the `len()` function."
   ]
  },
  {
   "cell_type": "code",
   "execution_count": 8,
   "id": "6aff1c3c-1176-49b6-8524-8a5b87c5e7fc",
   "metadata": {},
   "outputs": [
    {
     "name": "stdout",
     "output_type": "stream",
     "text": [
      "Length of tuple: \n"
     ]
    },
    {
     "data": {
      "text/plain": [
       "5"
      ]
     },
     "execution_count": 8,
     "metadata": {},
     "output_type": "execute_result"
    }
   ],
   "source": [
    "int_tuple = tuple(x for x in range(1, 6))\n",
    "print(\"Length of tuple: \")\n",
    "counter = 0\n",
    "for i in int_tuple:\n",
    "    counter += 1 \n",
    "counter\n"
   ]
  },
  {
   "cell_type": "markdown",
   "id": "0143c6e4-e7cb-447c-920b-18fcf8a5b735",
   "metadata": {},
   "source": [
    "4. Count the occurrences of an element in a tuple."
   ]
  },
  {
   "cell_type": "code",
   "execution_count": 1,
   "id": "1c61a9d4-9a4b-4cbc-8a20-f6d4f7bca63a",
   "metadata": {},
   "outputs": [
    {
     "name": "stdout",
     "output_type": "stream",
     "text": [
      "Occurrenece of element in tuple: \n"
     ]
    },
    {
     "data": {
      "text/plain": [
       "3"
      ]
     },
     "execution_count": 1,
     "metadata": {},
     "output_type": "execute_result"
    }
   ],
   "source": [
    "int_tuple = (10, 20, 30, 20, 40, 10, 50, 20, 10)\n",
    "element = 10\n",
    "\n",
    "counter = 0\n",
    "print(\"Occurrenece of element in tuple: \")\n",
    "for i in int_tuple:\n",
    "    if i == element:\n",
    "        counter += 1\n",
    "counter"
   ]
  },
  {
   "cell_type": "markdown",
   "id": "fe0c64be-d867-4ef9-9635-bb4bf93a22c8",
   "metadata": {},
   "source": [
    "5. Find the index of the first occurrence of an element in a tuple."
   ]
  },
  {
   "cell_type": "code",
   "execution_count": 6,
   "id": "90dfcb54-13c4-45f8-9722-8c934e6e98a1",
   "metadata": {},
   "outputs": [
    {
     "name": "stdout",
     "output_type": "stream",
     "text": [
      "Index of the first occurrence of an element: \n"
     ]
    },
    {
     "data": {
      "text/plain": [
       "2"
      ]
     },
     "execution_count": 6,
     "metadata": {},
     "output_type": "execute_result"
    }
   ],
   "source": [
    "int_tuple = (10, 20, 30, 20, 40, 10, 50, 20, 10)\n",
    "element = 30\n",
    "counter = 0\n",
    "for i in range(0,len(int_tuple)):\n",
    "    if int_tuple[i] == element:\n",
    "        counter = i\n",
    "        break\n",
    "print(\"Index of the first occurrence of an element: \")  \n",
    "counter"
   ]
  },
  {
   "cell_type": "markdown",
   "id": "c72c0bc2-7f89-45ca-9c7f-adc534f1b86e",
   "metadata": {},
   "source": [
    "6. Check if an element exists in a tuple."
   ]
  },
  {
   "cell_type": "code",
   "execution_count": 11,
   "id": "99902197-2312-4b40-8c17-d03d46ac5229",
   "metadata": {},
   "outputs": [
    {
     "name": "stdout",
     "output_type": "stream",
     "text": [
      "Element exists in a tuple\n"
     ]
    }
   ],
   "source": [
    "int_tuple = (10, 20, 30, 20, 40, 10, 50, 20, 10)\n",
    "element = 30\n",
    "counter = 1\n",
    "for i in int_tuple:\n",
    "    if i == element:\n",
    "        counter += 1\n",
    "\n",
    "if counter > 1:\n",
    "    print(\"Element exists in a tuple\")\n",
    "else:\n",
    "    print(f\"Element doesnot exists in a tuple: \")"
   ]
  },
  {
   "cell_type": "markdown",
   "id": "864346a6-74c6-42da-92a0-39d23c463411",
   "metadata": {},
   "source": [
    "7. Convert a tuple to a list."
   ]
  },
  {
   "cell_type": "code",
   "execution_count": 12,
   "id": "32122880-b006-494c-9bce-01083c4b2bfc",
   "metadata": {},
   "outputs": [
    {
     "name": "stdout",
     "output_type": "stream",
     "text": [
      "List:  [10, 20, 30, 20, 40, 10, 50, 20, 10]\n"
     ]
    }
   ],
   "source": [
    "int_tuple = (10, 20, 30, 20, 40, 10, 50, 20, 10)\n",
    "print(\"List: \", list(int_tuple))"
   ]
  },
  {
   "cell_type": "markdown",
   "id": "e66707ed-c14c-4036-a3b7-55ed4a75b583",
   "metadata": {},
   "source": [
    "8. Convert a list to a tuple."
   ]
  },
  {
   "cell_type": "code",
   "execution_count": 14,
   "id": "651fa698-7ba4-43ee-8f0d-9eb45c87a1f3",
   "metadata": {},
   "outputs": [
    {
     "name": "stdout",
     "output_type": "stream",
     "text": [
      "Tuple:  (10, 20, 30, 20, 40, 10, 50, 20, 10)\n"
     ]
    }
   ],
   "source": [
    "int_tuple = [10, 20, 30, 20, 40, 10, 50, 20, 10]\n",
    "print(\"Tuple: \", tuple(int_tuple))"
   ]
  },
  {
   "cell_type": "markdown",
   "id": "d6d818c9-ffb5-4222-893f-bdfbb3b8d93a",
   "metadata": {},
   "source": [
    "9. Unpack the elements of a tuple into variables."
   ]
  },
  {
   "cell_type": "code",
   "execution_count": 5,
   "id": "6ff51b13-48dc-479b-ab9a-6e1248e71616",
   "metadata": {},
   "outputs": [
    {
     "name": "stdout",
     "output_type": "stream",
     "text": [
      "elements in variable: el1= 10, el2= 20, el3= 30, el4= 20\n"
     ]
    }
   ],
   "source": [
    "int_tuple = [10, 20, 30, 20]\n",
    "el1, el2, el3, el4 = int_tuple\n",
    "print(f\"elements in variable: el1= {el1}, el2= {el2}, el3= {el3}, el4= {el4}\")"
   ]
  },
  {
   "cell_type": "markdown",
   "id": "dde210a7-af1a-41a7-b06c-9ff45128348c",
   "metadata": {},
   "source": [
    "10. Create a tuple of even numbers from 1 to 10."
   ]
  },
  {
   "cell_type": "code",
   "execution_count": 8,
   "id": "2cd622a6-f2d1-4576-895f-8d2392c438fa",
   "metadata": {},
   "outputs": [
    {
     "name": "stdout",
     "output_type": "stream",
     "text": [
      "Tuple of even numbers from 1 to 10: (2, 4, 6, 8, 10)\n"
     ]
    }
   ],
   "source": [
    "even_num = [i for i in range(1, 11) if i %2 ==0]\n",
    "print(\"Tuple of even numbers from 1 to 10:\" , tuple(even_num))"
   ]
  },
  {
   "cell_type": "markdown",
   "id": "eb6929e4-d3ea-4504-91b1-61fac87d7f56",
   "metadata": {},
   "source": [
    "11. Create a tuple of odd numbers from 1 to 10."
   ]
  },
  {
   "cell_type": "code",
   "execution_count": 1,
   "id": "7058405a-649f-459c-9c6b-03fa917f361b",
   "metadata": {},
   "outputs": [
    {
     "name": "stdout",
     "output_type": "stream",
     "text": [
      "Tuple of odd numbers from 1 to 10: (1, 3, 5, 7, 9)\n"
     ]
    }
   ],
   "source": [
    "odd_num = [i for i in range(1, 11) if i %2 !=0]\n",
    "print(\"Tuple of odd numbers from 1 to 10:\" , tuple(odd_num))"
   ]
  },
  {
   "cell_type": "markdown",
   "id": "af0616fb-f021-4ff8-9100-93bbe03962e2",
   "metadata": {},
   "source": [
    "12. Concatenate two tuples."
   ]
  },
  {
   "cell_type": "code",
   "execution_count": 2,
   "id": "004a4ee3-28ad-4927-ab60-7660907871b8",
   "metadata": {},
   "outputs": [
    {
     "data": {
      "text/plain": [
       "(2, 4, 6, 8, 10, 1, 3, 5, 7, 9)"
      ]
     },
     "execution_count": 2,
     "metadata": {},
     "output_type": "execute_result"
    }
   ],
   "source": [
    "t1 = (2, 4, 6, 8, 10)\n",
    "t2 = (1, 3, 5, 7, 9)\n",
    "t1 + t2"
   ]
  },
  {
   "cell_type": "markdown",
   "id": "30eb0e47-0c33-4b97-8b52-e2e450349b9c",
   "metadata": {},
   "source": [
    "13. Repeat a tuple three times."
   ]
  },
  {
   "cell_type": "code",
   "execution_count": 3,
   "id": "e7e6b56a-982c-4c04-8a7c-413a36ad0615",
   "metadata": {},
   "outputs": [
    {
     "name": "stdout",
     "output_type": "stream",
     "text": [
      "Tuple repeated three times: \n"
     ]
    },
    {
     "data": {
      "text/plain": [
       "(2, 4, 6, 8, 10, 2, 4, 6, 8, 10, 2, 4, 6, 8, 10)"
      ]
     },
     "execution_count": 3,
     "metadata": {},
     "output_type": "execute_result"
    }
   ],
   "source": [
    "t1 = (2, 4, 6, 8, 10)\n",
    "print(\"Tuple repeated three times: \")\n",
    "t1 * 3"
   ]
  },
  {
   "cell_type": "markdown",
   "id": "190c9d4d-bcb6-48a6-b8be-950d66d942c5",
   "metadata": {},
   "source": [
    "14. Check if a tuple is empty."
   ]
  },
  {
   "cell_type": "code",
   "execution_count": 7,
   "id": "be1aaade-19bf-45a7-a87d-212a100e8368",
   "metadata": {},
   "outputs": [
    {
     "name": "stdout",
     "output_type": "stream",
     "text": [
      "Empty\n"
     ]
    }
   ],
   "source": [
    "t1 = ()\n",
    "if t1:\n",
    "    print(\"Non Empty\")\n",
    "else:\n",
    "    print(\"Empty\")"
   ]
  },
  {
   "cell_type": "markdown",
   "id": "fe815ac5-a7ad-41de-a058-481e3917a580",
   "metadata": {},
   "source": [
    "15. Create a nested tuple."
   ]
  },
  {
   "cell_type": "code",
   "execution_count": 8,
   "id": "9b20d3ca-a099-492f-8eb2-15dc8f752d0b",
   "metadata": {},
   "outputs": [
    {
     "name": "stdout",
     "output_type": "stream",
     "text": [
      "Nestd tuple:  ((2, 4, 6, 8, 10), (1, 3, 5, 7, 9))\n"
     ]
    }
   ],
   "source": [
    "t1 = (2, 4, 6, 8, 10)\n",
    "t2 = (1, 3, 5, 7, 9)\n",
    "t_nested = (t1, t2)\n",
    "print(\"Nestd tuple: \", t_nested)"
   ]
  },
  {
   "cell_type": "markdown",
   "id": "f2505367-3c9e-4104-bded-19033aa3df19",
   "metadata": {},
   "source": [
    "16. Access the first element of a nested tuple."
   ]
  },
  {
   "cell_type": "code",
   "execution_count": 9,
   "id": "ea82e3a9-af8b-4b05-adac-e2c0aa5cc287",
   "metadata": {},
   "outputs": [
    {
     "name": "stdout",
     "output_type": "stream",
     "text": [
      "First element of Nestd tuple:  (2, 4, 6, 8, 10)\n"
     ]
    }
   ],
   "source": [
    "t1 = (2, 4, 6, 8, 10)\n",
    "t2 = (1, 3, 5, 7, 9)\n",
    "t_nested = (t1, t2)\n",
    "print(\"First element of Nestd tuple: \", t_nested[0])"
   ]
  },
  {
   "cell_type": "markdown",
   "id": "4a3f537b-9775-495a-be40-8b8644e0890a",
   "metadata": {},
   "source": [
    "17. Create a tuple with a single element."
   ]
  },
  {
   "cell_type": "code",
   "execution_count": 14,
   "id": "0b6c7c36-34a2-4c5a-87f4-d4a8a168f41b",
   "metadata": {},
   "outputs": [
    {
     "data": {
      "text/plain": [
       "tuple"
      ]
     },
     "execution_count": 14,
     "metadata": {},
     "output_type": "execute_result"
    }
   ],
   "source": [
    "t1 = (2,)\n",
    "type(t1)"
   ]
  },
  {
   "cell_type": "markdown",
   "id": "fcde99b0-ae22-4500-9a1d-9e43c159bffe",
   "metadata": {},
   "source": [
    "18. Compare two tuples."
   ]
  },
  {
   "cell_type": "code",
   "execution_count": 16,
   "id": "736e584f-2576-4711-955a-88fbc449dbe8",
   "metadata": {},
   "outputs": [
    {
     "name": "stdout",
     "output_type": "stream",
     "text": [
      "t1 == t2: False\n",
      "t1 != t2: True\n",
      "t1 < t2: False\n",
      "t1 <= t2: False\n",
      "t1 > t2: True\n",
      "t1 >= t2: True\n"
     ]
    }
   ],
   "source": [
    "t1 = (2, 4, 6, 8, 10)\n",
    "t2 = (1, 3, 5, 7, 9)\n",
    "\n",
    "print(\"t1 == t2:\", t1 == t2)  \n",
    "print(\"t1 != t2:\", t1 != t2)  \n",
    "print(\"t1 < t2:\", t1 < t2)    \n",
    "print(\"t1 <= t2:\", t1 <= t2) \n",
    "print(\"t1 > t2:\", t1 > t2)    \n",
    "print(\"t1 >= t2:\", t1 >= t2)"
   ]
  },
  {
   "cell_type": "markdown",
   "id": "d117c242-b637-4556-be38-e35db66b7efb",
   "metadata": {},
   "source": [
    "19. Delete a tuple."
   ]
  },
  {
   "cell_type": "code",
   "execution_count": 19,
   "id": "78e8b3ce-0b8d-4035-8e12-229a54d5f8ea",
   "metadata": {},
   "outputs": [],
   "source": [
    "t1 = (2, 4, 6, 8, 10)\n",
    "del(t1)\n"
   ]
  },
  {
   "cell_type": "markdown",
   "id": "f9832c0d-28b5-45ab-925b-ae47762fd591",
   "metadata": {},
   "source": [
    "20. Slice a tuple."
   ]
  },
  {
   "cell_type": "code",
   "execution_count": 24,
   "id": "3de2875a-806f-49ba-9d1f-5cd5adca2ac8",
   "metadata": {},
   "outputs": [
    {
     "name": "stdout",
     "output_type": "stream",
     "text": [
      "Slice 1:  (2, 4)\n",
      "Slice 2:  (6, 8, 10)\n"
     ]
    }
   ],
   "source": [
    "t1 = (2, 4, 6, 8, 10)\n",
    "n = 2\n",
    "t_new1 = t1[:n]\n",
    "t_new2 = t1[n:]\n",
    "\n",
    "print(\"Slice 1: \",t_new1)\n",
    "print(\"Slice 2: \",t_new2)"
   ]
  },
  {
   "cell_type": "markdown",
   "id": "e91c656a-0762-49d9-91c9-37bd65f59529",
   "metadata": {},
   "source": [
    "21. Find the maximum value in a tuple."
   ]
  },
  {
   "cell_type": "code",
   "execution_count": 25,
   "id": "5d836dd5-485e-4c51-875a-326a0cf0e827",
   "metadata": {},
   "outputs": [
    {
     "name": "stdout",
     "output_type": "stream",
     "text": [
      "Maximum valur in tuple:  10\n"
     ]
    }
   ],
   "source": [
    "t1 = (2, 4, 6, 8, 10)\n",
    "print(\"Maximum valur in tuple: \", max(t1))"
   ]
  },
  {
   "cell_type": "markdown",
   "id": "c1854416-0965-44d1-a306-4c0d720c8dd9",
   "metadata": {},
   "source": [
    "22. Find the minimum value in a tuple."
   ]
  },
  {
   "cell_type": "code",
   "execution_count": 26,
   "id": "a39aff13-dbd6-47ed-bae1-f6bbd95373fe",
   "metadata": {},
   "outputs": [
    {
     "name": "stdout",
     "output_type": "stream",
     "text": [
      "Minimum valur in tuple:  2\n"
     ]
    }
   ],
   "source": [
    "t1 = (2, 4, 6, 8, 10)\n",
    "print(\"Minimum valur in tuple: \", min(t1))"
   ]
  },
  {
   "cell_type": "markdown",
   "id": "f28c6b73-4129-450e-83f6-844b5ab7ad10",
   "metadata": {},
   "source": [
    "23. Convert a string to a tuple of characters."
   ]
  },
  {
   "cell_type": "code",
   "execution_count": 27,
   "id": "99358ae8-eed2-4665-9163-a1b2c1ebdaa8",
   "metadata": {},
   "outputs": [
    {
     "data": {
      "text/plain": [
       "('H', 'e', 'l', 'l', 'o', ' ', 'w', 'o', 'r', 'l', 'd', '!')"
      ]
     },
     "execution_count": 27,
     "metadata": {},
     "output_type": "execute_result"
    }
   ],
   "source": [
    "string = \"Hello world!\"\n",
    "tuple_string = tuple(string)\n",
    "tuple_string"
   ]
  },
  {
   "cell_type": "markdown",
   "id": "85532221-2ad9-4149-8a28-cc8e524094be",
   "metadata": {},
   "source": [
    "24. Convert a tuple of characters to a string."
   ]
  },
  {
   "cell_type": "code",
   "execution_count": 29,
   "id": "b0a10139-9b6b-400b-94ab-1ee7457f1822",
   "metadata": {},
   "outputs": [
    {
     "name": "stdout",
     "output_type": "stream",
     "text": [
      "tuple of characters :  ('H', 'e', 'l', 'l', 'o', ' ', 'w', 'o', 'r', 'l', 'd', '!')\n",
      "tuple:  Hello world!\n"
     ]
    }
   ],
   "source": [
    "string = \"Hello world!\"\n",
    "tuple_string = tuple(string)\n",
    "print(\"tuple of characters : \", tuple_string)\n",
    "print(\"tuple: \", ''.join(tuple_string))"
   ]
  },
  {
   "cell_type": "markdown",
   "id": "312abc07-a771-46fb-a7f9-b1771b4cfc9d",
   "metadata": {},
   "source": [
    "25. Create a tuple from multiple data types."
   ]
  },
  {
   "cell_type": "code",
   "execution_count": 30,
   "id": "f9aa9ba9-3b8d-4f69-beba-a06da7e6abfd",
   "metadata": {},
   "outputs": [],
   "source": [
    "tuple_multi = (1, \"rahul\", 3.28)"
   ]
  },
  {
   "cell_type": "markdown",
   "id": "4cf8f057-30e3-4b6e-8a69-cea2b7129679",
   "metadata": {},
   "source": [
    "26. Check if two tuples are identical."
   ]
  },
  {
   "cell_type": "code",
   "execution_count": 31,
   "id": "0c730e27-8168-4dd0-af24-c39fe1156490",
   "metadata": {},
   "outputs": [
    {
     "name": "stdout",
     "output_type": "stream",
     "text": [
      "Tuples are not identical\n"
     ]
    }
   ],
   "source": [
    "t1 = (2, 4, 6, 8, 10)\n",
    "t2 = (1, 3, 5, 7, 9)\n",
    "if t1 == t2:\n",
    "    print(\"Tuples are identical\")\n",
    "else:\n",
    "    print(\"Tuples are not identical\")"
   ]
  },
  {
   "cell_type": "markdown",
   "id": "38687dea-08d6-414a-96f1-dfa5b486172a",
   "metadata": {},
   "source": [
    "27. Sort the elements of a tuple."
   ]
  },
  {
   "cell_type": "code",
   "execution_count": 32,
   "id": "9fa4d6d8-b610-45fb-9190-17d2249f6645",
   "metadata": {},
   "outputs": [
    {
     "name": "stdout",
     "output_type": "stream",
     "text": [
      "sorted tuple:  [1, 2, 4, 7, 9, 9, 10, 23, 56]\n"
     ]
    }
   ],
   "source": [
    "t1 = (10,9,23,56,2,1,4,7,9)\n",
    "print(\"sorted tuple: \", sorted(t1))"
   ]
  },
  {
   "cell_type": "markdown",
   "id": "1b8f00e7-bcf0-433a-8b99-0731e2d8158b",
   "metadata": {},
   "source": [
    "28. Convert a tuple of integers to a tuple of strings."
   ]
  },
  {
   "cell_type": "code",
   "execution_count": 34,
   "id": "d05cfa0b-d5b0-4b9d-a342-9966e0265ba1",
   "metadata": {},
   "outputs": [
    {
     "name": "stdout",
     "output_type": "stream",
     "text": [
      "tuple of integers to a tuple of strings:  ('10', '9', '23', '56', '2', '1', '4', '7', '9')\n"
     ]
    }
   ],
   "source": [
    "t1 = (10,9,23,56,2,1,4,7,9)\n",
    "t2 = tuple(str(i) for i in t1)\n",
    "print(\"tuple of integers to a tuple of strings: \", t2)"
   ]
  },
  {
   "cell_type": "markdown",
   "id": "009c2b27-8b04-4a40-abd9-016c218ccc5b",
   "metadata": {},
   "source": [
    "29. Convert a tuple of strings to a tuple of integers."
   ]
  },
  {
   "cell_type": "code",
   "execution_count": 35,
   "id": "a1aa4a13-278b-407d-8a35-6e20c5e4017a",
   "metadata": {},
   "outputs": [
    {
     "name": "stdout",
     "output_type": "stream",
     "text": [
      "tuple of strings to a tuple of integers:  (10, 9, 23, 56, 2, 1, 4, 7, 9)\n"
     ]
    }
   ],
   "source": [
    "t1 = ('10', '9', '23', '56', '2', '1', '4', '7', '9')\n",
    "t2 = tuple(int(i) for i in t1)\n",
    "print(\"tuple of strings to a tuple of integers: \", t2)"
   ]
  },
  {
   "cell_type": "markdown",
   "id": "2380b6f8-59a2-4dd1-b383-6585af7e9d0f",
   "metadata": {},
   "source": [
    "30. Merge two tuples."
   ]
  },
  {
   "cell_type": "code",
   "execution_count": 37,
   "id": "10c69ed5-ce6b-41c5-bbb8-7b0488f1bb6c",
   "metadata": {},
   "outputs": [
    {
     "name": "stdout",
     "output_type": "stream",
     "text": [
      "Merged tuple:  (10, 9, 23, 56, 2, 1, 4, 7, 9, '10', '9', '23', '56', '2', '1', '4', '7', '9')\n"
     ]
    }
   ],
   "source": [
    "t1 = (10,9,23,56,2,1,4,7,9)\n",
    "t2 = ('10', '9', '23', '56', '2', '1', '4', '7', '9')\n",
    "merged = t1 + t2\n",
    "print(\"Merged tuple: \", merged)"
   ]
  },
  {
   "cell_type": "markdown",
   "id": "6bf4e9d1-d282-431e-8d55-9be225755b4f",
   "metadata": {},
   "source": [
    "31. Flatten a nested tuple."
   ]
  },
  {
   "cell_type": "code",
   "execution_count": 41,
   "id": "19d56f2c-21fb-4cc3-8aaf-6098d6457771",
   "metadata": {},
   "outputs": [
    {
     "name": "stdout",
     "output_type": "stream",
     "text": [
      "The flattened tuple:  (10, 9, 23, 56, 2, 1, 4, 7, 9, '10', '9', '23', '56', '2', '1', '4', '7', '9')\n"
     ]
    }
   ],
   "source": [
    "t1 = (10,9,23,56,2,1,4,7,9)\n",
    "t2 = ('10', '9', '23', '56', '2', '1', '4', '7', '9')\n",
    "merged = t1 + t2\n",
    "flatten= []\n",
    "for item in merged:\n",
    "    flatten.append(item)\n",
    "print(\"The flattened tuple: \", tuple(flatten))"
   ]
  },
  {
   "cell_type": "markdown",
   "id": "05216eaa-a85e-406c-a0d3-c2e57a228f41",
   "metadata": {},
   "source": [
    "32. Create a tuple of the first 5 prime numbers."
   ]
  },
  {
   "cell_type": "code",
   "execution_count": 46,
   "id": "e76ee675-5023-4cd9-ba39-f0fb031f0b78",
   "metadata": {},
   "outputs": [
    {
     "name": "stdout",
     "output_type": "stream",
     "text": [
      "List of prime number up to 50:  (1, 2, 3, 5, 7)\n"
     ]
    }
   ],
   "source": [
    "prime_list = []\n",
    "for i in range(1,20):  \n",
    "        for num in range(2, i):\n",
    "            if (i % num) == 0:\n",
    "                break\n",
    "        else:\n",
    "            prime_list.append(i)\n",
    "           \n",
    "\n",
    "print(\"List of prime number up to 50: \", tuple(prime_list[:5]))"
   ]
  },
  {
   "cell_type": "markdown",
   "id": "172fb904-19ad-45d1-9c76-1fe28d837760",
   "metadata": {},
   "source": [
    "33. Check if a tuple is a palindrome."
   ]
  },
  {
   "cell_type": "markdown",
   "id": "c86649fb-58d6-4d9d-b000-158d24a69b88",
   "metadata": {},
   "source": [
    "33. Check if a tuple is a palindrome."
   ]
  },
  {
   "cell_type": "code",
   "execution_count": 52,
   "id": "4ba4fcc6-196b-4bb3-ab31-5a49ee2ba2d9",
   "metadata": {},
   "outputs": [
    {
     "name": "stdout",
     "output_type": "stream",
     "text": [
      "The tuple is not palindrome\n"
     ]
    }
   ],
   "source": [
    "t1 = (10,9,23,56,2,1,4,7,9)\n",
    "t1_rev = t1[::-1]\n",
    "if t1 == t1_rev:\n",
    "    print(\"The tuple is palindrome\")\n",
    "else:\n",
    "    print(\"The tuple is not palindrome\")"
   ]
  },
  {
   "cell_type": "markdown",
   "id": "de7fba0d-f983-4349-803f-fcc0eb82b2b2",
   "metadata": {},
   "source": [
    "34. Create a tuple of squares of numbers from 1 to 5."
   ]
  },
  {
   "cell_type": "code",
   "execution_count": 55,
   "id": "5619c2ae-04a9-446f-ba5c-0331c2ac16d1",
   "metadata": {},
   "outputs": [
    {
     "data": {
      "text/plain": [
       "(1, 4, 9, 16, 25)"
      ]
     },
     "execution_count": 55,
     "metadata": {},
     "output_type": "execute_result"
    }
   ],
   "source": [
    "\n",
    "t1_sqr = tuple(x*x for x in range(1,6))\n",
    "t1_sqr"
   ]
  },
  {
   "cell_type": "markdown",
   "id": "99add4ea-91db-40b3-92b1-897f06787dfe",
   "metadata": {},
   "source": [
    "35. Filter out all even numbers from a tuple."
   ]
  },
  {
   "cell_type": "code",
   "execution_count": 60,
   "id": "877dac7f-3f05-45a3-8d87-309e7e13b312",
   "metadata": {},
   "outputs": [
    {
     "data": {
      "text/plain": [
       "(9, 23, 1, 7, 9)"
      ]
     },
     "execution_count": 60,
     "metadata": {},
     "output_type": "execute_result"
    }
   ],
   "source": [
    "t1 = (10,9,23,56,2,1,4,7,9)\n",
    "t1_filter = tuple(x for x in t1 if x%2 != 0)\n",
    "t1_filter"
   ]
  },
  {
   "cell_type": "markdown",
   "id": "7311bb61-499f-4099-97e6-cb8fd976c494",
   "metadata": {},
   "source": [
    "36. Multiply all elements in a tuple by 2."
   ]
  },
  {
   "cell_type": "code",
   "execution_count": 62,
   "id": "381e1a9f-7f2a-4c02-bf19-900be68cee0c",
   "metadata": {},
   "outputs": [
    {
     "name": "stdout",
     "output_type": "stream",
     "text": [
      "Multiply all elements in a tuple by 2:  (20, 18, 46, 112, 4, 2, 8, 14, 18)\n"
     ]
    }
   ],
   "source": [
    "t1 = (10,9,23,56,2,1,4,7,9)\n",
    "t2 = tuple(x*2 for x in t1)\n",
    "print(\"Multiply all elements in a tuple by 2: \", t2)"
   ]
  },
  {
   "cell_type": "markdown",
   "id": "7112f3fa-be1e-4aca-a722-42ea10592a4c",
   "metadata": {},
   "source": [
    "37. Create a tuple of random numbers."
   ]
  },
  {
   "cell_type": "code",
   "execution_count": 67,
   "id": "16a690f7-f8cd-4065-94f6-7b022e81df56",
   "metadata": {},
   "outputs": [
    {
     "data": {
      "text/plain": [
       "(63, 89, 46, 77, 95)"
      ]
     },
     "execution_count": 67,
     "metadata": {},
     "output_type": "execute_result"
    }
   ],
   "source": [
    "import random\n",
    "t1 = tuple(random.randint(1, 100) for _ in range(5))\n",
    "t1"
   ]
  },
  {
   "cell_type": "markdown",
   "id": "030082db-1087-41c6-9a17-730d1ffbb946",
   "metadata": {},
   "source": [
    "38. Check if a tuple is sorted."
   ]
  },
  {
   "cell_type": "code",
   "execution_count": 68,
   "id": "32dfbf7f-e77d-42b1-827c-a6bfa9bfc112",
   "metadata": {},
   "outputs": [
    {
     "name": "stdout",
     "output_type": "stream",
     "text": [
      "Tuple is not sorted\n"
     ]
    }
   ],
   "source": [
    "t1 = (10,9,23,56,2,1,4,7,9)\n",
    "counter = 0\n",
    "for i in range(1, len(t1)):\n",
    "    if t1[i] > t1[i-1]:\n",
    "        counter += 1\n",
    "if counter > 1:\n",
    "    print(\"Tuple is not sorted\")\n",
    "else:\n",
    "    print(\"Tuple is sorted\")"
   ]
  },
  {
   "cell_type": "markdown",
   "id": "27ef6f1d-4c8f-456c-912c-34864cf15e36",
   "metadata": {},
   "source": [
    "39. Rotate a tuple to the left by n positions."
   ]
  },
  {
   "cell_type": "code",
   "execution_count": 69,
   "id": "016654b6-fab9-47e0-86b0-28f1ac26b60f",
   "metadata": {},
   "outputs": [
    {
     "name": "stdout",
     "output_type": "stream",
     "text": [
      "Rotated tuple:  (56, 2, 1, 4, 7, 9, 10, 9, 23)\n"
     ]
    }
   ],
   "source": [
    "t1 = (10,9,23,56,2,1,4,7,9)\n",
    "n = 3\n",
    "rotated_tuple = t1[n:] + t1[:n]\n",
    "print(\"Rotated tuple: \", tuple(rotated_tuple))"
   ]
  },
  {
   "cell_type": "markdown",
   "id": "1217aad9-0ae4-479a-a498-c6741082017f",
   "metadata": {},
   "source": [
    "40. Rotate a tuple to the right by n positions."
   ]
  },
  {
   "cell_type": "code",
   "execution_count": 70,
   "id": "0056ce40-ef2f-4a47-94c6-995785525825",
   "metadata": {},
   "outputs": [
    {
     "name": "stdout",
     "output_type": "stream",
     "text": [
      "Rotated tuple:  (4, 7, 9, 10, 9, 23, 56, 2, 1)\n"
     ]
    }
   ],
   "source": [
    "t1 = (10,9,23,56,2,1,4,7,9)\n",
    "n = 3\n",
    "rotated_tuple = t1[-n:] + t1[:-n]\n",
    "print(\"Rotated tuple: \", tuple(rotated_tuple))"
   ]
  },
  {
   "cell_type": "markdown",
   "id": "a39063c7-b303-4d37-bfdd-e474db2da0a2",
   "metadata": {},
   "source": [
    "41. Create a tuple of the first 5 Fibonacci numbers."
   ]
  },
  {
   "cell_type": "code",
   "execution_count": 72,
   "id": "a720cc72-59ec-4ecd-bcce-9c4978d04956",
   "metadata": {},
   "outputs": [
    {
     "name": "stdout",
     "output_type": "stream",
     "text": [
      "Tuple of first 10 fibonacci seires: \n"
     ]
    },
    {
     "data": {
      "text/plain": [
       "(0, 1, 1, 2, 3)"
      ]
     },
     "execution_count": 72,
     "metadata": {},
     "output_type": "execute_result"
    }
   ],
   "source": [
    "def fibonacci(n):\n",
    "    fib_list = [0, 1]\n",
    "    \n",
    "    for i in range(2, n):\n",
    "        new = fib_list[i -1] + fib_list[i-2]\n",
    "        fib_list.append(new)\n",
    "    return tuple(fib_list)\n",
    "print(\"Tuple of first 10 fibonacci seires: \")\n",
    "fibonacci(5)"
   ]
  },
  {
   "cell_type": "markdown",
   "id": "b54f6da3-52a0-498f-827f-c87d7ce60bbf",
   "metadata": {},
   "source": [
    "42. Create a tuple from user input."
   ]
  },
  {
   "cell_type": "code",
   "execution_count": 74,
   "id": "afb59a00-0f22-4e26-905f-22e05c7d7f9b",
   "metadata": {},
   "outputs": [
    {
     "name": "stdin",
     "output_type": "stream",
     "text": [
      "Enter elements separated by commas: 2,5,7,8,2,4,l,f,f\n"
     ]
    },
    {
     "name": "stdout",
     "output_type": "stream",
     "text": [
      "Tuple:  ('2', '5', '7', '8', '2', '4', 'l', 'f', 'f')\n"
     ]
    }
   ],
   "source": [
    "input_tuple = input(\"Enter elements separated by commas:\")\n",
    "tuple1 = input_tuple.split(',')\n",
    "print(\"Tuple: \", tuple(tuple1))"
   ]
  },
  {
   "cell_type": "markdown",
   "id": "ddd85985-a63e-49f1-8d64-170b8ee5aa08",
   "metadata": {},
   "source": [
    "43. Swap two elements in a tuple."
   ]
  },
  {
   "cell_type": "code",
   "execution_count": 80,
   "id": "efdfbce6-e00d-4c91-a8b3-ebae8c34f995",
   "metadata": {},
   "outputs": [
    {
     "data": {
      "text/plain": [
       "(4, 7, 23, 10, 9, 9, 56, 2, 1)"
      ]
     },
     "execution_count": 80,
     "metadata": {},
     "output_type": "execute_result"
    }
   ],
   "source": [
    "t1 = (4, 7, 9, 10, 9, 23, 56, 2, 1)\n",
    "index1 = 2\n",
    "index2 = 5\n",
    "t2 = list(t1)\n",
    "temp = t2[index1]\n",
    "t2[index1] = t2[index2]\n",
    "t2[index2] = temp\n",
    "\n",
    "tuple(t2)"
   ]
  },
  {
   "cell_type": "markdown",
   "id": "a2fc5cb7-fefd-4de8-9066-d5ae47cc4f11",
   "metadata": {},
   "source": [
    "44. Reverse the elements of a tuple."
   ]
  },
  {
   "cell_type": "code",
   "execution_count": 83,
   "id": "074c61fb-3f45-4883-a384-0cf886bbbb7b",
   "metadata": {},
   "outputs": [
    {
     "data": {
      "text/plain": [
       "(1, 2, 56, 23, 9, 10, 9, 7, 4)"
      ]
     },
     "execution_count": 83,
     "metadata": {},
     "output_type": "execute_result"
    }
   ],
   "source": [
    "t1 = (4, 7, 9, 10, 9, 23, 56, 2, 1)\n",
    "t2 = t1[::-1]\n",
    "t2"
   ]
  },
  {
   "cell_type": "markdown",
   "id": "175ba0cd-f2cb-4227-9d74-3a894aec2696",
   "metadata": {},
   "source": [
    "45. Create a tuple of the first n powers of 2."
   ]
  },
  {
   "cell_type": "code",
   "execution_count": 85,
   "id": "20cc0cae-9fc8-495b-8770-e685ef21d123",
   "metadata": {},
   "outputs": [
    {
     "name": "stdin",
     "output_type": "stream",
     "text": [
      "Enter the n:  5\n"
     ]
    },
    {
     "data": {
      "text/plain": [
       "(1, 4, 9, 16, 25)"
      ]
     },
     "execution_count": 85,
     "metadata": {},
     "output_type": "execute_result"
    }
   ],
   "source": [
    "n = int(input(\"Enter the n: \"))\n",
    "t1 = tuple(x ** 2 for x in range(1, n+1) )\n",
    "t1"
   ]
  },
  {
   "cell_type": "markdown",
   "id": "02405f50-f607-4f47-9266-01e8751f9d88",
   "metadata": {},
   "source": [
    "46. Find the longest string in a tuple of strings."
   ]
  },
  {
   "cell_type": "code",
   "execution_count": 92,
   "id": "abf5fee5-ab92-4e57-ae4e-01a67b61906a",
   "metadata": {},
   "outputs": [
    {
     "name": "stdout",
     "output_type": "stream",
     "text": [
      "Longest strig in a tuple:  watermelon\n"
     ]
    }
   ],
   "source": [
    "t1 =  (\"apple\", \"banana\", \"grape\", \"kiwi\", \"watermelon\")\n",
    "\n",
    "t2 = list(t1)\n",
    "long = ''\n",
    "for i in t2:\n",
    "    if len(i) > len(long):\n",
    "        long = i\n",
    "    \n",
    "print(\"Longest strig in a tuple: \", long)"
   ]
  },
  {
   "cell_type": "markdown",
   "id": "a3452e2e-57ce-4c16-ada8-3c727997a9e6",
   "metadata": {},
   "source": [
    "47. Find the shortest string in a tuple of strings."
   ]
  },
  {
   "cell_type": "code",
   "execution_count": 93,
   "id": "8e2a962f-60bc-4b4e-88e6-02702961b673",
   "metadata": {},
   "outputs": [
    {
     "name": "stdout",
     "output_type": "stream",
     "text": [
      "Shortest strig in a tuple:  kiwi\n"
     ]
    }
   ],
   "source": [
    "t1 =  (\"apple\", \"banana\", \"grape\", \"kiwi\", \"watermelon\")\n",
    "\n",
    "t2 = list(t1)\n",
    "short = ''\n",
    "for i in t2:\n",
    "    if len(i) < len(long):\n",
    "        short = i\n",
    "    \n",
    "print(\"Shortest strig in a tuple: \", short)"
   ]
  },
  {
   "cell_type": "markdown",
   "id": "f5ae4e78-49f2-42ed-a980-514f008ac918",
   "metadata": {},
   "source": [
    "48. Create a tuple of the first n triangular numbers."
   ]
  },
  {
   "cell_type": "code",
   "execution_count": 94,
   "id": "acfe2e63-a2b4-485f-b68e-e3b8f529ac1e",
   "metadata": {},
   "outputs": [
    {
     "name": "stdin",
     "output_type": "stream",
     "text": [
      "Enter the number:  6\n"
     ]
    },
    {
     "data": {
      "text/plain": [
       "(1, 3, 6, 10, 15, 21)"
      ]
     },
     "execution_count": 94,
     "metadata": {},
     "output_type": "execute_result"
    }
   ],
   "source": [
    "n = int(input(\"Enter the number: \"))\n",
    "t1 = tuple((i * (i + 1)) // 2 for i in range(1, n + 1))\n",
    "t1"
   ]
  },
  {
   "cell_type": "markdown",
   "id": "cecda5ea-2cc8-478e-ac7b-24d5bfb281d6",
   "metadata": {},
   "source": [
    "49. Check if a tuple contains another tuple as a subsequence."
   ]
  },
  {
   "cell_type": "code",
   "execution_count": 97,
   "id": "b2a1138f-6d6f-4d38-8791-1f1ce114ec1c",
   "metadata": {},
   "outputs": [
    {
     "name": "stdout",
     "output_type": "stream",
     "text": [
      "The tuple have subsequence tuple elements.\n"
     ]
    }
   ],
   "source": [
    "t1 = (10,9,23,56,2,1,4,7,9)\n",
    "t2 = (1,4,7,9)\n",
    "\n",
    "common_list = [x for x in t1 if x in t2]\n",
    "if len(common_list) > 0:\n",
    "    print(\"The tuple have subsequence tuple elements.\")\n",
    "else:\n",
    "    print(\"The tuple do not have  subsequence tuple elements.\")\n"
   ]
  },
  {
   "cell_type": "markdown",
   "id": "bfc1a6ca-839e-4311-9e20-14e13e74316a",
   "metadata": {},
   "source": [
    "50. Create a tuple of alternating 1s and 0s of length n."
   ]
  },
  {
   "cell_type": "code",
   "execution_count": 98,
   "id": "57fc3abe-7283-46c6-bb86-a9f0c244ff7e",
   "metadata": {},
   "outputs": [
    {
     "name": "stdin",
     "output_type": "stream",
     "text": [
      "Enter the number:  5\n"
     ]
    },
    {
     "data": {
      "text/plain": [
       "(1, 0, 1, 0, 1)"
      ]
     },
     "execution_count": 98,
     "metadata": {},
     "output_type": "execute_result"
    }
   ],
   "source": [
    "n = int(input(\"Enter the number: \"))\n",
    "\n",
    "t1 = tuple(x%2 for x in range(1,n+1))\n",
    "t1"
   ]
  },
  {
   "cell_type": "markdown",
   "id": "10aef7d8-1969-42a5-83b7-03e57035a518",
   "metadata": {},
   "source": [
    "Set based problems:"
   ]
  },
  {
   "cell_type": "markdown",
   "id": "dff7a59e-a211-433d-9ae8-22deb2d716ae",
   "metadata": {},
   "source": [
    "1. Create a set with integers from 1 to 5."
   ]
  },
  {
   "cell_type": "code",
   "execution_count": 100,
   "id": "5e2672d1-e4e4-4414-b86c-911e4d701ec4",
   "metadata": {},
   "outputs": [
    {
     "data": {
      "text/plain": [
       "{1, 2, 3, 4, 5}"
      ]
     },
     "execution_count": 100,
     "metadata": {},
     "output_type": "execute_result"
    }
   ],
   "source": [
    "s1 = {x for x in range(1,6)}\n",
    "s1"
   ]
  },
  {
   "cell_type": "markdown",
   "id": "5bfc75a7-6ca8-4fb3-b92d-14a9cdd34397",
   "metadata": {},
   "source": [
    "2. Add an element to a set."
   ]
  },
  {
   "cell_type": "code",
   "execution_count": 101,
   "id": "33e737ff-8d05-4c8e-8f6f-e52091bf85fe",
   "metadata": {},
   "outputs": [
    {
     "data": {
      "text/plain": [
       "{1, 2, 3, 4, 5, 100}"
      ]
     },
     "execution_count": 101,
     "metadata": {},
     "output_type": "execute_result"
    }
   ],
   "source": [
    "s1.add(100)\n",
    "s1"
   ]
  },
  {
   "cell_type": "markdown",
   "id": "b2afd2f5-ff9e-4065-bce7-010c218c905d",
   "metadata": {},
   "source": [
    "3. Remove an element from a set."
   ]
  },
  {
   "cell_type": "code",
   "execution_count": 102,
   "id": "ba97e52e-a354-40aa-ab3e-eff3fa9726f5",
   "metadata": {},
   "outputs": [
    {
     "data": {
      "text/plain": [
       "{1, 2, 3, 4, 100}"
      ]
     },
     "execution_count": 102,
     "metadata": {},
     "output_type": "execute_result"
    }
   ],
   "source": [
    "s1.remove(5)\n",
    "s1"
   ]
  },
  {
   "cell_type": "markdown",
   "id": "ccd0555c-7a7f-49e1-9b4e-2660af941ba3",
   "metadata": {},
   "source": [
    "4. Check if an element exists in a set."
   ]
  },
  {
   "cell_type": "code",
   "execution_count": 104,
   "id": "096fdbea-9faf-4786-9f55-333dcb8070de",
   "metadata": {},
   "outputs": [
    {
     "name": "stdout",
     "output_type": "stream",
     "text": [
      "Element exists in set\n"
     ]
    }
   ],
   "source": [
    "element = 100\n",
    "if element in s1:\n",
    "    print(\"Element exists in set\")\n",
    "else:\n",
    "    print(\"Element doesn't exists in set\")"
   ]
  },
  {
   "cell_type": "markdown",
   "id": "2f5bbeaa-76cc-4269-bfe4-f10440626ef1",
   "metadata": {},
   "source": [
    "5. Find the length of a set without using the len() function"
   ]
  },
  {
   "cell_type": "code",
   "execution_count": 110,
   "id": "395de8eb-6670-4742-8b16-c4386a88fda8",
   "metadata": {},
   "outputs": [
    {
     "name": "stdout",
     "output_type": "stream",
     "text": [
      "Length of set=  5\n"
     ]
    }
   ],
   "source": [
    "counter = 0\n",
    "for i in s1:\n",
    "    counter += 1\n",
    "print(\"Length of set= \", counter)"
   ]
  },
  {
   "cell_type": "markdown",
   "id": "28be0402-7e27-4ed5-9e89-9a675038b4ab",
   "metadata": {},
   "source": [
    "6. Clear all elements from a set."
   ]
  },
  {
   "cell_type": "code",
   "execution_count": 112,
   "id": "52da7d7e-f3e1-4f71-ac55-653d974e7223",
   "metadata": {},
   "outputs": [
    {
     "data": {
      "text/plain": [
       "set()"
      ]
     },
     "execution_count": 112,
     "metadata": {},
     "output_type": "execute_result"
    }
   ],
   "source": [
    "s1.clear()\n",
    "s1"
   ]
  },
  {
   "cell_type": "markdown",
   "id": "42dee3cb-e1af-4189-b9b1-7f7f17055486",
   "metadata": {},
   "source": [
    "7. Create a set of even numbers from 1 to 10"
   ]
  },
  {
   "cell_type": "code",
   "execution_count": 115,
   "id": "99a42f8e-1006-4f05-a533-efd647ab39f8",
   "metadata": {},
   "outputs": [
    {
     "data": {
      "text/plain": [
       "{2, 4, 6, 8, 10}"
      ]
     },
     "execution_count": 115,
     "metadata": {},
     "output_type": "execute_result"
    }
   ],
   "source": [
    "s1 = {i for i in range(1,11) if i % 2 == 0}\n",
    "s1"
   ]
  },
  {
   "cell_type": "markdown",
   "id": "c0900ee2-ac74-408c-8bd3-97ef3a964ff7",
   "metadata": {},
   "source": [
    "8. Create a set of odd numbers from 1 to 10"
   ]
  },
  {
   "cell_type": "code",
   "execution_count": 116,
   "id": "c7570bd1-bcdd-4aa9-8507-d7fc79230e78",
   "metadata": {},
   "outputs": [
    {
     "data": {
      "text/plain": [
       "{1, 3, 5, 7, 9}"
      ]
     },
     "execution_count": 116,
     "metadata": {},
     "output_type": "execute_result"
    }
   ],
   "source": [
    "s1 = {i for i in range(1,11) if i % 2 != 0}\n",
    "s1"
   ]
  },
  {
   "cell_type": "markdown",
   "id": "4a7f0a5a-b7eb-432f-b232-9d775b594873",
   "metadata": {},
   "source": [
    "9. Find the union of two sets"
   ]
  },
  {
   "cell_type": "code",
   "execution_count": 117,
   "id": "100c8dac-7ee2-4153-a4e4-fca5a58e728a",
   "metadata": {},
   "outputs": [
    {
     "data": {
      "text/plain": [
       "{1, 2, 3, 4, 5, 6, 7, 8, 9, 10}"
      ]
     },
     "execution_count": 117,
     "metadata": {},
     "output_type": "execute_result"
    }
   ],
   "source": [
    "s1 = {2, 4, 6, 8, 10}\n",
    "s2 = {1, 3, 5, 7, 9}\n",
    "s_union = s1.union(s2)\n",
    "s_union"
   ]
  },
  {
   "cell_type": "markdown",
   "id": "b7879454-be24-47e9-9c3d-8b9a75cce135",
   "metadata": {},
   "source": [
    "10. Find the intersection of two sets"
   ]
  },
  {
   "cell_type": "code",
   "execution_count": 119,
   "id": "43099418-1721-410d-9403-10a68e677e35",
   "metadata": {},
   "outputs": [
    {
     "data": {
      "text/plain": [
       "{10}"
      ]
     },
     "execution_count": 119,
     "metadata": {},
     "output_type": "execute_result"
    }
   ],
   "source": [
    "s1 = {2, 4, 6, 8, 10}\n",
    "s2 = {1, 3, 5, 7, 9, 10}\n",
    "s_intersection = s1.intersection(s2)\n",
    "s_intersection"
   ]
  },
  {
   "cell_type": "markdown",
   "id": "92a4fada-d243-4d41-bac0-7208259fbf1a",
   "metadata": {},
   "source": [
    "11. Find the difference between two sets."
   ]
  },
  {
   "cell_type": "code",
   "execution_count": 120,
   "id": "b1f49065-57ef-4826-9018-c00cf1381ec9",
   "metadata": {},
   "outputs": [
    {
     "data": {
      "text/plain": [
       "{2, 4, 6, 8}"
      ]
     },
     "execution_count": 120,
     "metadata": {},
     "output_type": "execute_result"
    }
   ],
   "source": [
    "s1 = {2, 4, 6, 8, 10}\n",
    "s2 = {1, 3, 5, 7, 9, 10}\n",
    "s_difference = s1.difference(s2)\n",
    "s_difference"
   ]
  },
  {
   "cell_type": "markdown",
   "id": "96ea16b0-23e2-447a-99de-19fd2422f74c",
   "metadata": {},
   "source": [
    "12. Check if a set is a subset of another set."
   ]
  },
  {
   "cell_type": "code",
   "execution_count": 121,
   "id": "0e693104-91ba-40a0-a84c-082f6af1764f",
   "metadata": {},
   "outputs": [
    {
     "data": {
      "text/plain": [
       "False"
      ]
     },
     "execution_count": 121,
     "metadata": {},
     "output_type": "execute_result"
    }
   ],
   "source": [
    "s1 = {2, 4, 6, 8, 10}\n",
    "s2 = {1, 3, 5, 7, 9, 10}\n",
    "s_subset = s1.issubset(s2)\n",
    "s_subset"
   ]
  },
  {
   "cell_type": "markdown",
   "id": "0e2c689d-0839-4a69-9236-78eba84b8224",
   "metadata": {},
   "source": [
    "13. Check if a set is a superset of another set."
   ]
  },
  {
   "cell_type": "code",
   "execution_count": 123,
   "id": "4a521760-d065-4550-97ce-ceefd9f028dc",
   "metadata": {},
   "outputs": [
    {
     "data": {
      "text/plain": [
       "False"
      ]
     },
     "execution_count": 123,
     "metadata": {},
     "output_type": "execute_result"
    }
   ],
   "source": [
    "s1 = {2, 4, 6, 8, 10}\n",
    "s2 = {1, 3, 5, 7, 9, 10}\n",
    "s_superset = s1.issuperset(s2)\n",
    "s_superset"
   ]
  },
  {
   "cell_type": "markdown",
   "id": "085a870d-3f2e-428c-8345-6d304903e603",
   "metadata": {},
   "source": [
    "14. Create a set from a list"
   ]
  },
  {
   "cell_type": "code",
   "execution_count": 124,
   "id": "f6478edb-0bb9-4ea1-ae88-e90fe2cad261",
   "metadata": {},
   "outputs": [
    {
     "data": {
      "text/plain": [
       "{2, 4, 6, 8, 10}"
      ]
     },
     "execution_count": 124,
     "metadata": {},
     "output_type": "execute_result"
    }
   ],
   "source": [
    "l1 = [2, 4, 6, 8, 10, 10, 6, 8]\n",
    "s1 =set(l1)\n",
    "s1"
   ]
  },
  {
   "cell_type": "markdown",
   "id": "297dcff5-5bed-4120-9d6f-6112dcb609f2",
   "metadata": {},
   "source": [
    "15. Convert a set to a list."
   ]
  },
  {
   "cell_type": "code",
   "execution_count": 125,
   "id": "d3d5b3a5-80c3-4484-a4e9-fb398ff45591",
   "metadata": {},
   "outputs": [
    {
     "data": {
      "text/plain": [
       "[2, 4, 6, 8, 10]"
      ]
     },
     "execution_count": 125,
     "metadata": {},
     "output_type": "execute_result"
    }
   ],
   "source": [
    "s1 ={2, 4, 6, 8, 10}\n",
    "l1 = list(s1)\n",
    "l1"
   ]
  },
  {
   "cell_type": "markdown",
   "id": "a74578d3-0440-440e-b9d5-20d32abd425e",
   "metadata": {},
   "source": [
    "16. Remove a random element from a set."
   ]
  },
  {
   "cell_type": "code",
   "execution_count": 141,
   "id": "f04df22f-80e3-455c-b8a8-3c22df6fb64e",
   "metadata": {},
   "outputs": [
    {
     "name": "stdout",
     "output_type": "stream",
     "text": [
      "Random element to be removed:  6\n"
     ]
    },
    {
     "data": {
      "text/plain": [
       "{2, 4, 8, 10}"
      ]
     },
     "execution_count": 141,
     "metadata": {},
     "output_type": "execute_result"
    }
   ],
   "source": [
    "import random\n",
    "s1 = {2, 4, 6, 8, 10}\n",
    "rand_ele = random.choice(list(s1))\n",
    "print(\"Random element to be removed: \", rand_ele)\n",
    "s1.remove(rand_ele)\n",
    "s1"
   ]
  },
  {
   "cell_type": "markdown",
   "id": "eb3b5ad1-2596-4c7e-bb71-44b43779bc3e",
   "metadata": {},
   "source": [
    "17. Pop an element from a set."
   ]
  },
  {
   "cell_type": "code",
   "execution_count": 142,
   "id": "b3cb5a83-dd1f-45be-93fb-495bc31c53de",
   "metadata": {},
   "outputs": [
    {
     "data": {
      "text/plain": [
       "{4, 6, 8, 10}"
      ]
     },
     "execution_count": 142,
     "metadata": {},
     "output_type": "execute_result"
    }
   ],
   "source": [
    "s1 = {2, 4, 6, 8, 10}\n",
    "s1.pop()\n",
    "s1"
   ]
  },
  {
   "cell_type": "markdown",
   "id": "cb3cd071-f312-48b1-9a79-a705040e8eaa",
   "metadata": {},
   "source": [
    "18. Check if two sets have no elements in common."
   ]
  },
  {
   "cell_type": "code",
   "execution_count": 145,
   "id": "28271ae8-8367-41de-b3e6-a73f7caf97ac",
   "metadata": {},
   "outputs": [
    {
     "name": "stdout",
     "output_type": "stream",
     "text": [
      "No common element\n"
     ]
    }
   ],
   "source": [
    "set1 = {1, 2, 3, 4}\n",
    "set2 = {5, 6, 7, 8}\n",
    "\n",
    "s_intersection = set1.intersection(set2)\n",
    "if s_intersection:\n",
    "    print(\"Common element exit\")\n",
    "else:\n",
    "    print(\"No common element\")"
   ]
  },
  {
   "cell_type": "markdown",
   "id": "176ce122-c272-42fc-8b71-fae19615a0d8",
   "metadata": {},
   "source": [
    "19. Find the symmetric difference between two sets."
   ]
  },
  {
   "cell_type": "code",
   "execution_count": 152,
   "id": "83a2762d-e0e7-4767-8fec-8a78e22bf13e",
   "metadata": {},
   "outputs": [
    {
     "name": "stdout",
     "output_type": "stream",
     "text": [
      "Symmetric difference:  {1, 2, 3, 4, 5, 6, 7, 8}\n"
     ]
    }
   ],
   "source": [
    "set1 = {1, 2, 3, 4}\n",
    "set2 = {5, 6, 7, 8}\n",
    "\n",
    "sym_diff = set1 ^ set2\n",
    "print(\"Symmetric difference: \", sym_diff)"
   ]
  },
  {
   "cell_type": "markdown",
   "id": "da6fe30b-8bc9-45d9-aa12-14b0e31f9c97",
   "metadata": {},
   "source": [
    "20. Update a set with elements from another set."
   ]
  },
  {
   "cell_type": "code",
   "execution_count": 154,
   "id": "e8bbaa93-63eb-42e1-a735-4a4b90412af1",
   "metadata": {},
   "outputs": [
    {
     "name": "stdout",
     "output_type": "stream",
     "text": [
      "Updated set:  {1, 2, 3, 4, 5, 6, 7, 8, 9, 10}\n"
     ]
    }
   ],
   "source": [
    "s1 = {2, 4, 6, 8, 10}\n",
    "s2 = {1, 3, 5, 7, 9, 10}\n",
    "s1.update(s2)\n",
    "print(\"Updated set: \", s1)"
   ]
  },
  {
   "cell_type": "markdown",
   "id": "d96aea85-cb1c-4cc4-984b-fa86fa65a89f",
   "metadata": {},
   "source": [
    "21. Create a set of the first 5 prime numbers."
   ]
  },
  {
   "cell_type": "code",
   "execution_count": 156,
   "id": "ba68640e-feac-4c8e-b7fe-7e23614d1ffa",
   "metadata": {},
   "outputs": [
    {
     "name": "stdout",
     "output_type": "stream",
     "text": [
      "Set of first 5 prime number:  {1, 2, 3, 5, 7}\n"
     ]
    }
   ],
   "source": [
    "prime_list = []\n",
    "for i in range(1,50):  \n",
    "        for num in range(2, i):\n",
    "            if (i % num) == 0:\n",
    "                break\n",
    "        else:\n",
    "            prime_list.append(i)\n",
    "           \n",
    "\n",
    "print(\"Set of first 5 prime number: \", set(prime_list[:5]))"
   ]
  },
  {
   "cell_type": "markdown",
   "id": "84956d54-0a5e-48db-adca-d524bcd41eed",
   "metadata": {},
   "source": [
    "22. Check if two sets are identical."
   ]
  },
  {
   "cell_type": "code",
   "execution_count": 157,
   "id": "4083d72e-173e-4ca4-9584-bd0a0b63956c",
   "metadata": {},
   "outputs": [
    {
     "name": "stdout",
     "output_type": "stream",
     "text": [
      "Not identical set\n"
     ]
    }
   ],
   "source": [
    "s1 = {2, 4, 6, 8, 10}\n",
    "s2 = {1, 3, 5, 7, 9, 10}\n",
    "if s1 == s2:\n",
    "    print(\"identical set\")\n",
    "else:\n",
    "    print(\"Not identical set\")"
   ]
  },
  {
   "cell_type": "markdown",
   "id": "df645f78-8875-4b07-b6ec-2f18b7076eb9",
   "metadata": {},
   "source": [
    "23. Create a frozen set"
   ]
  },
  {
   "cell_type": "code",
   "execution_count": 158,
   "id": "80acaa0f-1404-4480-bb7f-ccdb9d639b02",
   "metadata": {},
   "outputs": [
    {
     "data": {
      "text/plain": [
       "frozenset({2, 4, 6, 8, 10})"
      ]
     },
     "execution_count": 158,
     "metadata": {},
     "output_type": "execute_result"
    }
   ],
   "source": [
    "s1 = {2, 4, 6, 8, 10}\n",
    "frozenset(s1)"
   ]
  },
  {
   "cell_type": "markdown",
   "id": "d23c0732-5f43-4948-9d1f-cd07b18e36c5",
   "metadata": {},
   "source": [
    "24. Check if a set is disjoint with another set."
   ]
  },
  {
   "cell_type": "code",
   "execution_count": 160,
   "id": "50631335-61bb-429f-80b9-3b245242647c",
   "metadata": {},
   "outputs": [
    {
     "name": "stdout",
     "output_type": "stream",
     "text": [
      "Disjoint set:  False\n"
     ]
    }
   ],
   "source": [
    "s1 = {2, 4, 6, 8, 10}\n",
    "s2 = {1, 3, 5, 7, 9, 10}\n",
    "dis_joint = s1.isdisjoint(s2)\n",
    "\n",
    "print(\"Disjoint set: \", dis_joint)"
   ]
  },
  {
   "cell_type": "markdown",
   "id": "5b19f5db-7a35-4549-a296-8ebbf44976e0",
   "metadata": {},
   "source": [
    "25. Create a set of squares of numbers from 1 to 5."
   ]
  },
  {
   "cell_type": "code",
   "execution_count": 161,
   "id": "49aa8e5e-11d7-4757-a1f8-4e0cc59dc463",
   "metadata": {},
   "outputs": [
    {
     "data": {
      "text/plain": [
       "{1, 4, 9, 16, 25}"
      ]
     },
     "execution_count": 161,
     "metadata": {},
     "output_type": "execute_result"
    }
   ],
   "source": [
    "s1 = {i*i for i in range(1,6)}\n",
    "s1"
   ]
  },
  {
   "cell_type": "markdown",
   "id": "d7e31860-96a4-4c13-84f5-8659c6bdd554",
   "metadata": {},
   "source": [
    "26. Filter out all even numbers from a set."
   ]
  },
  {
   "cell_type": "code",
   "execution_count": 163,
   "id": "343c6600-77e1-46ab-8de5-effcf257bd6a",
   "metadata": {},
   "outputs": [
    {
     "data": {
      "text/plain": [
       "{2, 4, 6, 8, 10}"
      ]
     },
     "execution_count": 163,
     "metadata": {},
     "output_type": "execute_result"
    }
   ],
   "source": [
    "s1 = {2, 4, 6, 8, 10}\n",
    "s1_even = {i for i in s1 if i % 2 == 0}\n",
    "s1_even"
   ]
  },
  {
   "cell_type": "markdown",
   "id": "74c458fd-567f-4c47-881c-193f873bfb6e",
   "metadata": {},
   "source": [
    "27. Multiply all elements in a set by 2."
   ]
  },
  {
   "cell_type": "code",
   "execution_count": 165,
   "id": "5718178a-fc45-4db0-99c2-df39737602d2",
   "metadata": {},
   "outputs": [
    {
     "data": {
      "text/plain": [
       "{4, 8, 12, 16, 20}"
      ]
     },
     "execution_count": 165,
     "metadata": {},
     "output_type": "execute_result"
    }
   ],
   "source": [
    "s1 = {2, 4, 6, 8, 10}\n",
    "s1_mult = {i*2 for i in s1}\n",
    "s1_mult"
   ]
  },
  {
   "cell_type": "markdown",
   "id": "f3f14fec-fce4-4845-b336-04b8ca583ad7",
   "metadata": {},
   "source": [
    "28. Create a set of random numbers."
   ]
  },
  {
   "cell_type": "code",
   "execution_count": 172,
   "id": "6770cc19-7f1c-42c8-8130-61b2cca9f106",
   "metadata": {},
   "outputs": [
    {
     "data": {
      "text/plain": [
       "{15, 31, 49, 50, 51, 54, 75, 76, 88}"
      ]
     },
     "execution_count": 172,
     "metadata": {},
     "output_type": "execute_result"
    }
   ],
   "source": [
    "import random\n",
    "\n",
    "s1 ={random.randint(1,100) for i in range(1,10)}\n",
    "s1"
   ]
  },
  {
   "cell_type": "markdown",
   "id": "a4bc9ce7-bf6b-4ed0-babb-8eb899fd4acf",
   "metadata": {},
   "source": [
    "29. Check if a set is empty."
   ]
  },
  {
   "cell_type": "code",
   "execution_count": 177,
   "id": "81157eac-de3c-498c-8523-97d454629a4b",
   "metadata": {},
   "outputs": [
    {
     "name": "stdout",
     "output_type": "stream",
     "text": [
      "Set not empty\n"
     ]
    }
   ],
   "source": [
    "s1 = {15, 31, 49, 50, 51, 54, 75, 76, 88}\n",
    "\n",
    "if len(s1) > 0:\n",
    "    print(\"Set not empty\")\n",
    "else:\n",
    "    print(\"Set is empty\")"
   ]
  },
  {
   "cell_type": "markdown",
   "id": "493c4dd4-2a20-4b7f-b6e5-a071b62e7455",
   "metadata": {},
   "source": [
    "30. Create a nested set (hint: use frozenset)."
   ]
  },
  {
   "cell_type": "code",
   "execution_count": 181,
   "id": "bc106be2-8f78-4af0-89e0-adea405338cb",
   "metadata": {},
   "outputs": [
    {
     "data": {
      "text/plain": [
       "{frozenset({2, 4, 6, 8, 10}), frozenset({15, 31, 49, 50, 51, 54, 75, 76, 88})}"
      ]
     },
     "execution_count": 181,
     "metadata": {},
     "output_type": "execute_result"
    }
   ],
   "source": [
    "s1 = frozenset({2, 4, 6, 8, 10})\n",
    "s2 = frozenset({15, 31, 49, 50, 51, 54, 75, 76, 88})\n",
    "nested_set = {s1, s2}\n",
    "nested_set"
   ]
  },
  {
   "cell_type": "markdown",
   "id": "2899c9f9-91cc-4e1e-a856-c9f67f692b51",
   "metadata": {},
   "source": [
    "31. Remove an element from a set using the discard method."
   ]
  },
  {
   "cell_type": "code",
   "execution_count": 182,
   "id": "0836b53b-a5f9-4c57-8d77-dbc098fb5ff8",
   "metadata": {},
   "outputs": [
    {
     "data": {
      "text/plain": [
       "{15, 31, 49, 51, 54, 75, 76, 88}"
      ]
     },
     "execution_count": 182,
     "metadata": {},
     "output_type": "execute_result"
    }
   ],
   "source": [
    "s1 = {15, 31, 49, 50, 51, 54, 75, 76, 88}\n",
    "element = 50\n",
    "s1.discard(element)\n",
    "s1"
   ]
  },
  {
   "cell_type": "markdown",
   "id": "d8c68fd8-3208-4ff0-ac8a-2dc8d294589b",
   "metadata": {},
   "source": [
    "32. Compare two sets."
   ]
  },
  {
   "cell_type": "code",
   "execution_count": 184,
   "id": "6e1cd674-76f6-48d1-ba4e-d4e7cae3c5a5",
   "metadata": {},
   "outputs": [
    {
     "name": "stdout",
     "output_type": "stream",
     "text": [
      "Set 1: {75, 76, 15, 49, 50, 51, 54, 88, 31}\n",
      "Set 2: {2, 4, 6, 8, 10}\n",
      "Is set1 a subset of set2? False\n",
      "Is set2 a subset of set1? False\n",
      "Intersection: set()\n",
      "Union: {2, 4, 6, 8, 10, 75, 76, 15, 49, 50, 51, 54, 88, 31}\n",
      "Elements in set1 but not in set2: {75, 76, 15, 49, 50, 51, 54, 88, 31}\n"
     ]
    }
   ],
   "source": [
    "s1 = {15, 31, 49, 50, 51, 54, 75, 76, 88}\n",
    "s2 = {2, 4, 6, 8, 10}\n",
    "subset = s1.issubset(s2)\n",
    "\n",
    "\n",
    "superset = s1.issuperset(s2)\n",
    "\n",
    "intersection = s1.intersection(s2)\n",
    "\n",
    "\n",
    "union = s1.union(s2)\n",
    "\n",
    "\n",
    "difference = s1.difference(s2)\n",
    "\n",
    "print(\"Set 1:\", s1)\n",
    "print(\"Set 2:\", s2)\n",
    "print(\"Is set1 a subset of set2?\", subset)\n",
    "print(\"Is set2 a subset of set1?\", superset)\n",
    "print(\"Intersection:\", intersection)\n",
    "print(\"Union:\", union)\n",
    "print(\"Elements in set1 but not in set2:\", difference)\n"
   ]
  },
  {
   "cell_type": "markdown",
   "id": "934e17a4-6363-473b-81fc-ef69b3f91eff",
   "metadata": {},
   "source": [
    "33. Create a set from a string."
   ]
  },
  {
   "cell_type": "code",
   "execution_count": 185,
   "id": "4bf2c7cd-01e0-4c6a-b3be-90a6d179641d",
   "metadata": {},
   "outputs": [
    {
     "data": {
      "text/plain": [
       "{' ', '!', 'H', 'W', 'd', 'e', 'l', 'o', 'r'}"
      ]
     },
     "execution_count": 185,
     "metadata": {},
     "output_type": "execute_result"
    }
   ],
   "source": [
    "string = \"Hello World!\"\n",
    "char_set = set(string)\n",
    "char_set"
   ]
  },
  {
   "cell_type": "markdown",
   "id": "aa4d53ca-dd18-4e68-98bf-9f5db8835706",
   "metadata": {},
   "source": [
    "34. Convert a set of strings to a set of integers."
   ]
  },
  {
   "cell_type": "code",
   "execution_count": 186,
   "id": "402bc82b-c4f6-49c3-8e33-acbb581d7da8",
   "metadata": {},
   "outputs": [
    {
     "data": {
      "text/plain": [
       "{0, 25, 148, 156}"
      ]
     },
     "execution_count": 186,
     "metadata": {},
     "output_type": "execute_result"
    }
   ],
   "source": [
    "s1 = {\"156\", \"148\", \"0\", \"25\"}\n",
    "s2 = {int(i) for i in s1}\n",
    "s2"
   ]
  },
  {
   "cell_type": "markdown",
   "id": "2c11f998-6241-4729-bc0b-295e34a09a3a",
   "metadata": {},
   "source": [
    "35. Convert a set of integers to a set of strings."
   ]
  },
  {
   "cell_type": "code",
   "execution_count": 187,
   "id": "3a5e86b6-b6a7-404d-8178-b26ff9960a43",
   "metadata": {},
   "outputs": [
    {
     "data": {
      "text/plain": [
       "{'0', '148', '156', '25'}"
      ]
     },
     "execution_count": 187,
     "metadata": {},
     "output_type": "execute_result"
    }
   ],
   "source": [
    "s1 = {0, 25, 148, 156}\n",
    "s2 = {str(i) for i in s1}\n",
    "s2"
   ]
  },
  {
   "cell_type": "markdown",
   "id": "6092f867-16af-4c6b-b1c7-01223c2a840c",
   "metadata": {},
   "source": [
    "36. Create a set from a tuple."
   ]
  },
  {
   "cell_type": "code",
   "execution_count": 189,
   "id": "cf1151d7-837b-4e3c-aee3-9ec04cecdd4a",
   "metadata": {},
   "outputs": [
    {
     "data": {
      "text/plain": [
       "{1, 2, 4, 5, 6, 8, 42, 46, 93}"
      ]
     },
     "execution_count": 189,
     "metadata": {},
     "output_type": "execute_result"
    }
   ],
   "source": [
    "t1 = (1,2,4,5,8,42,6,46,2,8,93,2,4)\n",
    "s1 = set(t1)\n",
    "s1"
   ]
  },
  {
   "cell_type": "markdown",
   "id": "7d96596d-2f3f-4444-a6b6-85f89842e56e",
   "metadata": {},
   "source": [
    "37. Convert a set to a tuple."
   ]
  },
  {
   "cell_type": "code",
   "execution_count": 190,
   "id": "f3195035-967c-486d-9b5e-074c9038c3f3",
   "metadata": {},
   "outputs": [
    {
     "data": {
      "text/plain": [
       "(1, 2, 4, 5, 6, 8, 42, 46, 93)"
      ]
     },
     "execution_count": 190,
     "metadata": {},
     "output_type": "execute_result"
    }
   ],
   "source": [
    "s1 = {1, 2, 4, 5, 6, 8, 42, 46, 93}\n",
    "t1 =tuple(s1)\n",
    "t1"
   ]
  },
  {
   "cell_type": "markdown",
   "id": "1e974bc7-7a08-4cbd-9952-f093690807ce",
   "metadata": {},
   "source": [
    "38. Find the maximum value in a set."
   ]
  },
  {
   "cell_type": "code",
   "execution_count": 191,
   "id": "3f65a7f4-4f41-454a-9dbb-ae5ef4058e35",
   "metadata": {},
   "outputs": [
    {
     "name": "stdout",
     "output_type": "stream",
     "text": [
      "Maximum value in set:  93\n"
     ]
    }
   ],
   "source": [
    "s1 = {1, 2, 4, 5, 6, 8, 42, 46, 93}\n",
    "max_val = 0\n",
    "for i in s1:\n",
    "    if i > max_val:\n",
    "        max_val = i\n",
    "print(\"Maximum value in set: \", max_val)\n",
    "    "
   ]
  },
  {
   "cell_type": "markdown",
   "id": "94bf7bc9-cb32-4be5-954e-652b74cc920d",
   "metadata": {},
   "source": [
    "39. Find the minimum value in a set."
   ]
  },
  {
   "cell_type": "code",
   "execution_count": 194,
   "id": "5599f935-b994-4e5d-9363-afe056a1d10e",
   "metadata": {},
   "outputs": [
    {
     "name": "stdout",
     "output_type": "stream",
     "text": [
      "Minimum value in set:  1\n"
     ]
    }
   ],
   "source": [
    "s1 = {1, 2, 4, 5, 6, 8, 42, 46, 93}\n",
    "min_val = 1\n",
    "for i in s1:\n",
    "    if i < min_val:\n",
    "        min_val = i\n",
    "print(\"Minimum value in set: \", min_val)"
   ]
  },
  {
   "cell_type": "markdown",
   "id": "37a095b5-5e3c-4265-9862-d7a979385c1d",
   "metadata": {},
   "source": [
    "40. Create a set from user input."
   ]
  },
  {
   "cell_type": "code",
   "execution_count": 195,
   "id": "f6b724d5-1524-4166-b840-4def26e9a8b5",
   "metadata": {},
   "outputs": [
    {
     "name": "stdin",
     "output_type": "stream",
     "text": [
      "enter the set elements:  1,2,3,4,5,8,2,1,52,5\n"
     ]
    },
    {
     "data": {
      "text/plain": [
       "{',', '1', '2', '3', '4', '5', '8'}"
      ]
     },
     "execution_count": 195,
     "metadata": {},
     "output_type": "execute_result"
    }
   ],
   "source": [
    "s1 = input(\"enter the set elements: \")\n",
    "set(s1)"
   ]
  },
  {
   "cell_type": "markdown",
   "id": "c2e153c7-5f00-4aae-8e36-b9d555de2e5b",
   "metadata": {},
   "source": [
    "41. Check if the intersection of two sets is empty."
   ]
  },
  {
   "cell_type": "code",
   "execution_count": 199,
   "id": "f17ec2af-a498-411a-bf1c-48e734b17bce",
   "metadata": {},
   "outputs": [
    {
     "name": "stdout",
     "output_type": "stream",
     "text": [
      "Non empty set\n"
     ]
    }
   ],
   "source": [
    "s1 = {2, 31, 49, 50, 51, 54, 75, 76, 88}\n",
    "s2 = {2, 4, 6, 8, 10}\n",
    "s = s1.intersection(s2)\n",
    "if len(s) < 1:\n",
    "    print(\"Empty set\")\n",
    "else:\n",
    "    print(\"Non empty set\")"
   ]
  },
  {
   "cell_type": "markdown",
   "id": "54db19e6-166a-44f0-a439-8cb6851af3c5",
   "metadata": {},
   "source": [
    "42. Create a set of the first 5 Fibonacci numbers."
   ]
  },
  {
   "cell_type": "code",
   "execution_count": 201,
   "id": "a00afd26-88b2-4d4c-99da-235914ad416a",
   "metadata": {},
   "outputs": [
    {
     "name": "stdout",
     "output_type": "stream",
     "text": [
      " set of the first 5 Fibonacci numbers: {0, 1, 2, 3, 5}\n"
     ]
    }
   ],
   "source": [
    "x = 0\n",
    "y = 1\n",
    "f_set = set()\n",
    "for i in range(6):\n",
    "    f_set.add(x)\n",
    "    x,y = y, y+x\n",
    "    \n",
    "print(\" set of the first 5 Fibonacci numbers:\", f_set)"
   ]
  },
  {
   "cell_type": "markdown",
   "id": "ffbcaa20-1ef1-419d-a373-8f6280f73cc3",
   "metadata": {},
   "source": [
    "43. Remove duplicates from a list using sets."
   ]
  },
  {
   "cell_type": "code",
   "execution_count": 203,
   "id": "d6a03bc0-be24-4ff6-9a06-aa59b8b90743",
   "metadata": {},
   "outputs": [
    {
     "data": {
      "text/plain": [
       "[2, 75, 76, 49, 50, 51, 54, 88, 31]"
      ]
     },
     "execution_count": 203,
     "metadata": {},
     "output_type": "execute_result"
    }
   ],
   "source": [
    "s1 = {2, 31, 49, 50, 51, 54, 75, 76, 88, 2, 49, 51, 54,}\n",
    "l_uniq = set(s1)\n",
    "list(l_uniq)"
   ]
  },
  {
   "cell_type": "markdown",
   "id": "1e674b1e-c8b8-47e3-b2d4-583fa7cbf727",
   "metadata": {},
   "source": [
    "44. Check if two sets have the same elements, regardless of their count."
   ]
  },
  {
   "cell_type": "code",
   "execution_count": 204,
   "id": "24c484c7-9843-4003-ad85-7f20699632ee",
   "metadata": {},
   "outputs": [
    {
     "name": "stdout",
     "output_type": "stream",
     "text": [
      "two sets have the same elements False\n"
     ]
    }
   ],
   "source": [
    "s1 = {2, 31, 49, 50, 51, 54, 75, 76, 88, 2, 49, 51, 54,}\n",
    "s2 = {2, 4, 6, 8, 10}\n",
    "print(\"two sets have the same elements: \", s1 == s2)"
   ]
  },
  {
   "cell_type": "markdown",
   "id": "e0a47d3b-89ff-4b11-bafe-145be7d763c2",
   "metadata": {},
   "source": [
    "45. Create a set of the first n powers of 2"
   ]
  },
  {
   "cell_type": "code",
   "execution_count": 205,
   "id": "9a172330-b583-489d-a5a1-84a6a82f4938",
   "metadata": {},
   "outputs": [
    {
     "name": "stdin",
     "output_type": "stream",
     "text": [
      "Enter the number:  5\n"
     ]
    },
    {
     "data": {
      "text/plain": [
       "{1, 2, 4, 8, 16}"
      ]
     },
     "execution_count": 205,
     "metadata": {},
     "output_type": "execute_result"
    }
   ],
   "source": [
    "n = int(input(\"Enter the number: \"))\n",
    "\n",
    "s1 = {2**i for i in range(n)}\n",
    "s1"
   ]
  },
  {
   "cell_type": "markdown",
   "id": "64b21110-7acd-4e45-be2d-28d589ab13dd",
   "metadata": {},
   "source": [
    "46. Find the common elements between a set and a list."
   ]
  },
  {
   "cell_type": "code",
   "execution_count": 209,
   "id": "686ea4f2-9425-46c4-8e3b-2136a8423b16",
   "metadata": {},
   "outputs": [
    {
     "data": {
      "text/plain": [
       "{2}"
      ]
     },
     "execution_count": 209,
     "metadata": {},
     "output_type": "execute_result"
    }
   ],
   "source": [
    "s1 = {2, 31, 49, 50, 51, 54, 75, 76, 88, 2, 49, 51, 54,}\n",
    "s2 = [2, 4, 6, 8, 10]\n",
    "common = s1.intersection(set(s2))\n",
    "common"
   ]
  },
  {
   "cell_type": "markdown",
   "id": "301ddebe-c233-46f9-b4aa-41103c874127",
   "metadata": {},
   "source": [
    "47. Create a set of the first n triangular numbers.:"
   ]
  },
  {
   "cell_type": "code",
   "execution_count": 212,
   "id": "2ae367ee-7898-4715-a74a-4b03d7f9903d",
   "metadata": {},
   "outputs": [
    {
     "name": "stdin",
     "output_type": "stream",
     "text": [
      "Enter the number:  10\n"
     ]
    },
    {
     "data": {
      "text/plain": [
       "{1, 3, 6, 10, 15, 21, 28, 36, 45, 55}"
      ]
     },
     "execution_count": 212,
     "metadata": {},
     "output_type": "execute_result"
    }
   ],
   "source": [
    "n = int(input(\"Enter the number: \"))\n",
    "\n",
    "triangular = set(((i * (i + 1)) // 2 for i in range(1, n + 1)))\n",
    "triangular"
   ]
  },
  {
   "cell_type": "markdown",
   "id": "4ff78ea2-5093-44f4-b2df-66f10e146eb1",
   "metadata": {},
   "source": [
    "48. Check if a set contains another set as a subset."
   ]
  },
  {
   "cell_type": "code",
   "execution_count": 214,
   "id": "7583afb4-7fb9-480c-afa3-7b0436f50dd7",
   "metadata": {},
   "outputs": [
    {
     "data": {
      "text/plain": [
       "False"
      ]
     },
     "execution_count": 214,
     "metadata": {},
     "output_type": "execute_result"
    }
   ],
   "source": [
    "s1 = {2, 31, 49, 50, 51, 54, 75, 76, 88, 2, 49, 51, 54,}\n",
    "s2 = {2, 4, 6, 8, 10}\n",
    "sub_set =s1.issubset(s2)\n",
    "sub_set"
   ]
  },
  {
   "cell_type": "markdown",
   "id": "6f9a4c32-241b-41cf-9b05-49955a20401c",
   "metadata": {},
   "source": [
    "49. Create a set of alternating 1s and 0s of length n."
   ]
  },
  {
   "cell_type": "code",
   "execution_count": 215,
   "id": "78222883-8dc9-408a-9361-3f2b4c0580a0",
   "metadata": {},
   "outputs": [
    {
     "name": "stdin",
     "output_type": "stream",
     "text": [
      "Enter the number:  10\n"
     ]
    },
    {
     "data": {
      "text/plain": [
       "{0, 1}"
      ]
     },
     "execution_count": 215,
     "metadata": {},
     "output_type": "execute_result"
    }
   ],
   "source": [
    "n = int(input(\"Enter the number: \"))\n",
    "s1 = set(x%2 for x in range(1,n+1))\n",
    "s1"
   ]
  },
  {
   "cell_type": "markdown",
   "id": "2518e3e6-f131-4ac5-b075-a640cb5d2b53",
   "metadata": {},
   "source": [
    "50. Merge multiple sets into one."
   ]
  },
  {
   "cell_type": "code",
   "execution_count": 218,
   "id": "b219ebe3-00d0-4aef-b840-07c9dd808327",
   "metadata": {},
   "outputs": [
    {
     "data": {
      "text/plain": [
       "{'0', 10, '148', '156', 2, '25', 31, 4, 49, 50, 51, 54, 6, 75, 76, 8, 88}"
      ]
     },
     "execution_count": 218,
     "metadata": {},
     "output_type": "execute_result"
    }
   ],
   "source": [
    "s1 = {2, 31, 49, 50, 51, 54, 75, 76, 88, 2, 49, 51, 54,}\n",
    "s2 = {2, 4, 6, 8, 10}\n",
    "s3 = {\"156\", \"148\", \"0\", \"25\"}\n",
    "merged = s1.union(s2,s3)\n",
    "merged"
   ]
  },
  {
   "cell_type": "code",
   "execution_count": null,
   "id": "4a72b00f-9852-4315-ba63-f2734565ef2b",
   "metadata": {},
   "outputs": [],
   "source": []
  }
 ],
 "metadata": {
  "kernelspec": {
   "display_name": "Python 3 (ipykernel)",
   "language": "python",
   "name": "python3"
  },
  "language_info": {
   "codemirror_mode": {
    "name": "ipython",
    "version": 3
   },
   "file_extension": ".py",
   "mimetype": "text/x-python",
   "name": "python",
   "nbconvert_exporter": "python",
   "pygments_lexer": "ipython3",
   "version": "3.10.8"
  }
 },
 "nbformat": 4,
 "nbformat_minor": 5
}
