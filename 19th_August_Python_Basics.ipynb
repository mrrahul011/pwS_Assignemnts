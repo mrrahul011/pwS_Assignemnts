{
 "cells": [
  {
   "cell_type": "markdown",
   "id": "273fac3e-fecf-4f87-8be8-1deeabc0eac8",
   "metadata": {},
   "source": [
    "Assignment\n"
   ]
  },
  {
   "cell_type": "markdown",
   "id": "4a1d951e-4afd-42df-bbad-5af51f3fe0d6",
   "metadata": {},
   "source": [
    "Topic: Python Basic"
   ]
  },
  {
   "cell_type": "markdown",
   "id": "aa5c78ce-7c4c-40c8-a025-0c66a2905a60",
   "metadata": {},
   "source": [
    "Q1. Declare two variables, `x` and `y`, and assign them integer values. Swap the value"
   ]
  },
  {
   "cell_type": "code",
   "execution_count": 5,
   "id": "4b84f0bf-1663-4371-b180-ff34a465dc5a",
   "metadata": {},
   "outputs": [
    {
     "name": "stdout",
     "output_type": "stream",
     "text": [
      "10 15\n",
      "15 10\n"
     ]
    }
   ],
   "source": [
    "#Declare two variables\n",
    "x = 10\n",
    "y = 15\n",
    "#Print the values in the variables\n",
    "print(x, y)\n",
    "#Add the two number and save in x\n",
    "x = x + y\n",
    "#Subtract y from the sum, we get x and store in y\n",
    "y = x - y\n",
    "#Subtract y which now hold x value from the sum, we get y and store in x\n",
    "x = x - y\n",
    "#Print the swapped values in the variables\n",
    "print(x, y)\n"
   ]
  },
  {
   "cell_type": "markdown",
   "id": "c1e039ca-6b57-4d76-90ea-f4a9e45f8a84",
   "metadata": {},
   "source": [
    "Q2. Create a program that calculates the area of a rectangle. Take the length and\n",
    "width as inputs from the user and store them in variables. Calculate and\n",
    "display the area."
   ]
  },
  {
   "cell_type": "code",
   "execution_count": 44,
   "id": "2e49734e-7594-4ef5-a62b-a04bb9724d4e",
   "metadata": {},
   "outputs": [
    {
     "name": "stdin",
     "output_type": "stream",
     "text": [
      "Enter the lenth of the rectangle:  10\n",
      "Enter the width of the rectangle:  5\n"
     ]
    },
    {
     "name": "stdout",
     "output_type": "stream",
     "text": [
      "The area of rectangle: 50\n"
     ]
    }
   ],
   "source": [
    "#Get length 'l' from the user\n",
    "l = int(input(\"Enter the lenth of the rectangle: \"))\n",
    "#Get width 'w' from the user\n",
    "w = int(input(\"Enter the width of the rectangle: \"))\n",
    "#Calculate area and store in a = l * w\n",
    "a = l * w\n",
    "print(f\"The area of rectangle: {a}\")"
   ]
  },
  {
   "cell_type": "markdown",
   "id": "fdb26253-efc4-4543-b646-91244c89cbaa",
   "metadata": {},
   "source": [
    "Q3. Write a Python program that converts temperatures from Celsius to\n",
    "Fahrenheit. Take the temperature in Celsius as input, store it in a variable,\n",
    "convert it to Fahrenheit, and display the result."
   ]
  },
  {
   "cell_type": "code",
   "execution_count": 8,
   "id": "62712254-e539-4373-adfe-c84f9efb7575",
   "metadata": {},
   "outputs": [
    {
     "name": "stdin",
     "output_type": "stream",
     "text": [
      "Enter the temperature in celsius:  32\n"
     ]
    },
    {
     "name": "stdout",
     "output_type": "stream",
     "text": [
      "Temperature in Fahrenheit: 64\n"
     ]
    }
   ],
   "source": [
    "#Get temperature in celsius and store in c\n",
    "c = int(input(\"Enter the temperature in celsius: \"))\n",
    "# Fahrenheit = celsius + 32\n",
    "f = c + 32\n",
    "print(f\"Temperature in Fahrenheit: {f}\")"
   ]
  },
  {
   "cell_type": "code",
   "execution_count": null,
   "id": "004d83c3-7df9-4106-8c12-ee1dedb02521",
   "metadata": {},
   "outputs": [],
   "source": []
  },
  {
   "cell_type": "markdown",
   "id": "8ed9df90-5b43-4526-833d-0de64d98b8d5",
   "metadata": {},
   "source": [
    "Topic: String Based Questions"
   ]
  },
  {
   "cell_type": "markdown",
   "id": "3e9514d3-4a2c-4b2f-ac9e-6b5c1d2e5ed7",
   "metadata": {},
   "source": [
    "Q1. Write a Python program that takes a string as input and prints the length of\n",
    "the string."
   ]
  },
  {
   "cell_type": "code",
   "execution_count": null,
   "id": "09e4eb6c-f737-4c6a-ab76-cac8845a155c",
   "metadata": {},
   "outputs": [
    {
     "name": "stdin",
     "output_type": "stream",
     "text": [
      "Enter a string:  rahul\n"
     ]
    },
    {
     "name": "stdout",
     "output_type": "stream",
     "text": [
      "Length of string is: 5\n"
     ]
    }
   ],
   "source": [
    "#Get a string from the user and store in s\n",
    "s= str(input(\"Enter a string: \"))\n",
    "print(f\"Length of string is: {len(s)}\")"
   ]
  },
  {
   "cell_type": "markdown",
   "id": "aa79bc8d-6bde-4df5-8bae-db1b0b5ccca2",
   "metadata": {},
   "source": [
    "Q2. Create a program that takes a sentence from the user and counts the number\n",
    "of vowels (a, e, i, o, u) in the string."
   ]
  },
  {
   "cell_type": "code",
   "execution_count": 29,
   "id": "f6e99e4f-eae6-4526-9ba4-6fc0affece22",
   "metadata": {},
   "outputs": [
    {
     "name": "stdin",
     "output_type": "stream",
     "text": [
      "Enter a sentence:  HI THERE I AM RAHUL\n"
     ]
    },
    {
     "name": "stdout",
     "output_type": "stream",
     "text": [
      "Number of vowels is 7 in which 'a' is 2 'e' is 2 'i' is 2 'o' is 0 'u' is 1\n"
     ]
    }
   ],
   "source": [
    "#Get a sentence from the user and store in s\n",
    "s = str(input(\"Enter a sentence: \"))\n",
    "c =  s.lower()\n",
    "count = c.count('a') + c.count('e') + c.count('i') + c.count('o') + c.count('u')\n",
    "print(f\"Number of vowels is {count}\", f\"in which 'a' is {c.count('a')}\",\n",
    "     f\"'e' is {c.count('e')}\",  f\"'i' is {c.count('i')}\",  f\"'o' is {c.count('o')}\",\n",
    "      f\"'u' is {c.count('u')}\")"
   ]
  },
  {
   "cell_type": "markdown",
   "id": "25a05c2c-889c-4dcf-9869-04bf33494ec9",
   "metadata": {},
   "source": [
    "Q3. Given a string, reverse the order of characters using string slicing and print\n",
    "the reversed string."
   ]
  },
  {
   "cell_type": "code",
   "execution_count": 19,
   "id": "dde24ee3-e1c3-42ac-847a-061c49102a35",
   "metadata": {},
   "outputs": [
    {
     "name": "stdin",
     "output_type": "stream",
     "text": [
      "Enter a string:  rahul\n"
     ]
    },
    {
     "name": "stdout",
     "output_type": "stream",
     "text": [
      "Reverse of string is: luhar\n"
     ]
    }
   ],
   "source": [
    "#Get a string from the user and store in s\n",
    "s= str(input(\"Enter a string: \"))\n",
    "r = s[len(s): : -1]\n",
    "print(f\"Reverse of string is: {r}\")"
   ]
  },
  {
   "cell_type": "markdown",
   "id": "2950ee56-1b65-42df-81db-3af26c201115",
   "metadata": {},
   "source": [
    "Q4. Write a program that takes a string as input and checks if it is a palindrome\n",
    "(reads the same forwards and backwards)."
   ]
  },
  {
   "cell_type": "code",
   "execution_count": 45,
   "id": "d8f0f1ab-a817-46d3-8c66-200d2acf568d",
   "metadata": {},
   "outputs": [
    {
     "name": "stdin",
     "output_type": "stream",
     "text": [
      "Enter a string:  madam\n"
     ]
    },
    {
     "name": "stdout",
     "output_type": "stream",
     "text": [
      "Palindrome: True\n"
     ]
    }
   ],
   "source": [
    "#Get a string from the user and store in s\n",
    "s= str(input(\"Enter a string: \"))\n",
    "r = s[len(s): : -1]\n",
    "print(f\"Palindrome: {s == r}\")"
   ]
  },
  {
   "cell_type": "markdown",
   "id": "c73f5d3b-4a82-4458-b170-fed51e51ff79",
   "metadata": {},
   "source": [
    "Q5. Create a program that takes a string as input and removes all the spaces from\n",
    "it. Print the modified string without spaces."
   ]
  },
  {
   "cell_type": "code",
   "execution_count": 43,
   "id": "8ba85224-2359-44ba-af65-6cd67f4a4fd0",
   "metadata": {},
   "outputs": [
    {
     "name": "stdin",
     "output_type": "stream",
     "text": [
      "Enter a string:       rahul\n"
     ]
    },
    {
     "name": "stdout",
     "output_type": "stream",
     "text": [
      "Modified string: rahul\n"
     ]
    }
   ],
   "source": [
    "#Get a string from the user and store in s\n",
    "s= str(input(\"Enter a string: \"))\n",
    "print(f\"Modified string: {s.replace(' ','')}\")"
   ]
  },
  {
   "cell_type": "code",
   "execution_count": null,
   "id": "3be2abaa-3f7a-4634-a231-dea03bc11c7c",
   "metadata": {},
   "outputs": [],
   "source": []
  }
 ],
 "metadata": {
  "kernelspec": {
   "display_name": "Python 3 (ipykernel)",
   "language": "python",
   "name": "python3"
  },
  "language_info": {
   "codemirror_mode": {
    "name": "ipython",
    "version": 3
   },
   "file_extension": ".py",
   "mimetype": "text/x-python",
   "name": "python",
   "nbconvert_exporter": "python",
   "pygments_lexer": "ipython3",
   "version": "3.10.8"
  }
 },
 "nbformat": 4,
 "nbformat_minor": 5
}
