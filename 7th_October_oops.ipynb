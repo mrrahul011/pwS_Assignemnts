{
 "cells": [
  {
   "cell_type": "markdown",
   "id": "68072206-9a9a-4ac1-aa35-3131693dd931",
   "metadata": {},
   "source": [
    "Problem 1: Bank Account:- Create a class representing a bank account with attributes like account number, account holder name, and balance. Implement methods to deposit and withdraw money from the account."
   ]
  },
  {
   "cell_type": "code",
   "execution_count": 15,
   "id": "a765c7d9-0ff5-45ed-bb04-553855cf8aaf",
   "metadata": {},
   "outputs": [],
   "source": [
    "class bank_account:\n",
    "    def __init__(self, account_number, account_holder_name, account_balance = 0.0):\n",
    "        self.account_number = account_number\n",
    "        self.account_holder_name = account_holder_name\n",
    "        self.account_balance = account_balance\n",
    "    \n",
    "    def deposit(self, amount):\n",
    "        try:\n",
    "            if amount > 0:\n",
    "                self.account_balance += amount\n",
    "                print(f\"Deposited INR: {amount}\")\n",
    "                print(f\"New Balance INR: {self.account_balance}\")\n",
    "            else:\n",
    "                raise ValueError(\"Enter amount greater than 0\")\n",
    "        except ValueError as e:\n",
    "            print(f\"Error: {e}\")\n",
    "    \n",
    "    def withdraw(self, amount):\n",
    "        try:\n",
    "            if amount > 0:\n",
    "                if self.account_balance > amount:\n",
    "                    self.account_balance -= amount\n",
    "                    print(f\"Withdraw INR: {amount}\")\n",
    "                    print(f\"Balance INR: {self.account_balance}\")\n",
    "                else:\n",
    "                    print(\"Insufficient Balance\")\n",
    "            else:\n",
    "                raise ValueError(\"Enter amount greater than 0\")    \n",
    "                \n",
    "        except ValueError as e:\n",
    "            print(f\"Error: {e}\")\n",
    "\n",
    "    def get_balance(self):\n",
    "        return self.account_balance\n",
    "    \n",
    "    def display_account_info(self):\n",
    "        print(f\"Account Number: {self.account_number}\")\n",
    "        print(f\"Account Holder Name: {self.account_holder_name}\")\n",
    "        print(f\"Balance: INR {self.account_balance:.2f}\")"
   ]
  },
  {
   "cell_type": "code",
   "execution_count": 16,
   "id": "606681c2-0eb8-4fde-94d8-20461049c94a",
   "metadata": {},
   "outputs": [],
   "source": [
    "account = bank_account(\"12345\", \"John Doe\", 1000.00)"
   ]
  },
  {
   "cell_type": "code",
   "execution_count": 17,
   "id": "b768e4b3-ebba-4389-a72b-c294cf9ee882",
   "metadata": {},
   "outputs": [
    {
     "name": "stdout",
     "output_type": "stream",
     "text": [
      "Account Number: 12345\n",
      "Account Holder Name: John Doe\n",
      "Balance: INR 1000.00\n"
     ]
    }
   ],
   "source": [
    "account.display_account_info()"
   ]
  },
  {
   "cell_type": "code",
   "execution_count": 18,
   "id": "a2057066-ce57-4b4d-836b-cfe2cbe7a24f",
   "metadata": {},
   "outputs": [
    {
     "name": "stdout",
     "output_type": "stream",
     "text": [
      "Deposited INR: 500.5\n",
      "New Balance INR: 1500.5\n",
      "Withdraw INR: 200.25\n",
      "Balance INR: 1300.25\n"
     ]
    }
   ],
   "source": [
    "account.deposit(500.50)\n",
    "account.withdraw(200.25)"
   ]
  },
  {
   "cell_type": "code",
   "execution_count": 19,
   "id": "7c7a3504-a0ab-45e1-9fcc-02c5fbccee72",
   "metadata": {},
   "outputs": [
    {
     "name": "stdout",
     "output_type": "stream",
     "text": [
      "Account Number: 12345\n",
      "Account Holder Name: John Doe\n",
      "Balance: INR 1300.25\n"
     ]
    }
   ],
   "source": [
    " account.display_account_info()"
   ]
  },
  {
   "cell_type": "markdown",
   "id": "38a9c383-022b-413d-bc6c-b9d685dca1a0",
   "metadata": {},
   "source": [
    "Problem 2: Employee Management Create a class representing an employee with attributes like employee ID, name, and salary. Implement methods to calculate the yearly bonus and display employee details."
   ]
  },
  {
   "cell_type": "code",
   "execution_count": 24,
   "id": "cfd8c143-8c91-4630-9941-dcc1f75c5d0b",
   "metadata": {},
   "outputs": [],
   "source": [
    "class employee():\n",
    "    \n",
    "    def __init__(self,employee_id, name, salary):\n",
    "        self.employee_id = employee_id\n",
    "        self.name = name\n",
    "        self.salary = salary\n",
    "    \n",
    "    def bonus(self, percentage):\n",
    "        try:\n",
    "            if percentage >= 0:\n",
    "                bonus = (percentage / 100) * self.salary\n",
    "                return bonus\n",
    "            else:\n",
    "                raise ValueError(\"Bonus percentage must be non-negative.\")\n",
    "        except ValueError as e:\n",
    "            print(f\"Error: {e}\")\n",
    "            \n",
    "    def employee_details(self):\n",
    "        print(f\"Employee ID: {self.employee_id}\")\n",
    "        print(f\"Employee Name: {self.name}\")\n",
    "        print(f\"Employee Salary INR: {self.salary}\")\n",
    "       "
   ]
  },
  {
   "cell_type": "code",
   "execution_count": 25,
   "id": "09e311a8-4d12-443e-a223-cdb3f84b27bc",
   "metadata": {},
   "outputs": [],
   "source": [
    "employee = employee(100, \"Rahul M R\", 500000.0)"
   ]
  },
  {
   "cell_type": "code",
   "execution_count": 26,
   "id": "aac935e2-16c1-4c8b-8014-3a637a87cb72",
   "metadata": {},
   "outputs": [
    {
     "name": "stdout",
     "output_type": "stream",
     "text": [
      "Employee ID: 100\n",
      "Employee Name: Rahul M R\n",
      "Employee Salary INR: 500000.0\n"
     ]
    }
   ],
   "source": [
    "employee.employee_details()"
   ]
  },
  {
   "cell_type": "code",
   "execution_count": 27,
   "id": "33d37ec1-eeb8-4a11-a7b1-95d787c3ef02",
   "metadata": {},
   "outputs": [
    {
     "name": "stdout",
     "output_type": "stream",
     "text": [
      "Yearly Bonus: INR 50000.00\n"
     ]
    }
   ],
   "source": [
    "bonus_percentage = 10  # Bonus as a percentage of the salary\n",
    "yearly_bonus = employee.bonus(bonus_percentage)\n",
    "print(f\"Yearly Bonus: INR {yearly_bonus:.2f}\")"
   ]
  },
  {
   "cell_type": "markdown",
   "id": "b3d471d3-8ae8-4e25-be8c-3977d37299d2",
   "metadata": {},
   "source": [
    "Problem 3: Vehicle Rental Create a class representing a vehicle rental system. Implement methods to rent a vehicle, return a vehicle, and display available vehicles"
   ]
  },
  {
   "cell_type": "code",
   "execution_count": 28,
   "id": "756a35fb-3040-477c-bc10-3a71ffd0904f",
   "metadata": {},
   "outputs": [],
   "source": [
    "class VehicleRentalSystem:\n",
    "    def __init__(self):\n",
    "        self.available_vehicles = []\n",
    "\n",
    "    def add_vehicle(self, vehicle):\n",
    "        self.available_vehicles.append(vehicle)\n",
    "\n",
    "    def rent_vehicle(self, vehicle_type):\n",
    "        for vehicle in self.available_vehicles:\n",
    "            if vehicle.get_type() == vehicle_type:\n",
    "                self.available_vehicles.remove(vehicle)\n",
    "                return vehicle\n",
    "        return None\n",
    "\n",
    "    def return_vehicle(self, vehicle):\n",
    "        self.available_vehicles.append(vehicle)\n",
    "\n",
    "    def display_available_vehicles(self):\n",
    "        if not self.available_vehicles:\n",
    "            print(\"No vehicles available for rent.\")\n",
    "        else:\n",
    "            print(\"Available Vehicles:\")\n",
    "            for vehicle in self.available_vehicles:\n",
    "                print(f\"{vehicle.get_type()} - {vehicle.get_name()}\")"
   ]
  },
  {
   "cell_type": "code",
   "execution_count": 29,
   "id": "31a583f8-ce62-4694-9466-555bedc0242e",
   "metadata": {},
   "outputs": [],
   "source": [
    "class Vehicle:\n",
    "    def __init__(self, vehicle_type, vehicle_name):\n",
    "        self.vehicle_type = vehicle_type\n",
    "        self.vehicle_name = vehicle_name\n",
    "\n",
    "    def get_type(self):\n",
    "        return self.vehicle_type\n",
    "\n",
    "    def get_name(self):\n",
    "        return self.vehicle_name"
   ]
  },
  {
   "cell_type": "code",
   "execution_count": 30,
   "id": "f4db2a30-85f5-42be-a690-967c7c78018a",
   "metadata": {},
   "outputs": [
    {
     "name": "stdout",
     "output_type": "stream",
     "text": [
      "Available Vehicles:\n",
      "Car - Toyota Corolla\n",
      "Car - Honda Civic\n",
      "Bike - Harley Davidson\n"
     ]
    }
   ],
   "source": [
    "rental_system = VehicleRentalSystem()\n",
    "car1 = Vehicle(\"Car\", \"Toyota Corolla\")\n",
    "car2 = Vehicle(\"Car\", \"Honda Civic\")\n",
    "bike1 = Vehicle(\"Bike\", \"Harley Davidson\")\n",
    "\n",
    "rental_system.add_vehicle(car1)\n",
    "rental_system.add_vehicle(car2)\n",
    "rental_system.add_vehicle(bike1)\n",
    "\n",
    "rental_system.display_available_vehicles()"
   ]
  },
  {
   "cell_type": "code",
   "execution_count": 31,
   "id": "17801af9-3962-424a-af5e-e094f1866579",
   "metadata": {},
   "outputs": [
    {
     "name": "stdout",
     "output_type": "stream",
     "text": [
      "Rented: Toyota Corolla\n",
      "Available Vehicles:\n",
      "Car - Honda Civic\n",
      "Bike - Harley Davidson\n"
     ]
    }
   ],
   "source": [
    "rented_vehicle = rental_system.rent_vehicle(\"Car\")\n",
    "if rented_vehicle:\n",
    "    print(f\"Rented: {rented_vehicle.get_name()}\")\n",
    "\n",
    "rental_system.display_available_vehicles()"
   ]
  },
  {
   "cell_type": "code",
   "execution_count": 32,
   "id": "88fa5fbf-eb46-42f2-8272-1160a73406a2",
   "metadata": {},
   "outputs": [
    {
     "name": "stdout",
     "output_type": "stream",
     "text": [
      "Available Vehicles:\n",
      "Car - Honda Civic\n",
      "Bike - Harley Davidson\n",
      "Car - Toyota Corolla\n"
     ]
    }
   ],
   "source": [
    "returned_vehicle = rental_system.return_vehicle(rented_vehicle)\n",
    "if returned_vehicle:\n",
    "    print(f\"Returned: {returned_vehicle.get_name()}\")\n",
    "rental_system.display_available_vehicles()"
   ]
  },
  {
   "cell_type": "markdown",
   "id": "4406b5ab-3c51-45a1-851c-eee6f60456d7",
   "metadata": {},
   "source": [
    "Problem 4: Library Catalog Create classes representing a library and a book. Implement methods to add books to the library, borrow books, and display available books."
   ]
  },
  {
   "cell_type": "code",
   "execution_count": 1,
   "id": "dc40870a-e607-40dd-b072-14fdb1a96fb2",
   "metadata": {},
   "outputs": [],
   "source": [
    "class Book:\n",
    "    def __init__(self, book_id, title, author):\n",
    "        self.book_id = book_id\n",
    "        self.title = title\n",
    "        self.author = author\n",
    "        self.available = True\n",
    "\n",
    "    def __str__(self):\n",
    "        return f\"{self.title} by {self.author}\"\n",
    "\n",
    "    def is_available(self):\n",
    "        return self.available\n",
    "\n",
    "    def borrow(self):\n",
    "        if self.available:\n",
    "            self.available = False\n",
    "            return True\n",
    "        return False\n",
    "\n",
    "    def return_book(self):\n",
    "        if not self.available:\n",
    "            self.available = True\n",
    "            return True\n",
    "        return False"
   ]
  },
  {
   "cell_type": "code",
   "execution_count": 2,
   "id": "99c9c8ec-1b16-449a-a42c-cdc9d615bcbf",
   "metadata": {},
   "outputs": [],
   "source": [
    "class Library:\n",
    "    def __init__(self):\n",
    "        self.books = []\n",
    "\n",
    "    def add_book(self, book):\n",
    "        self.books.append(book)\n",
    "\n",
    "    def display_available_books(self):\n",
    "        if not self.books:\n",
    "            print(\"The library is empty.\")\n",
    "        else:\n",
    "            print(\"Available Books:\")\n",
    "            for book in self.books:\n",
    "                if book.is_available():\n",
    "                    print(book)\n",
    "\n",
    "    def borrow_book(self, book_id):\n",
    "        for book in self.books:\n",
    "            if book.book_id == book_id:\n",
    "                if book.borrow():\n",
    "                    print(f\"You have successfully borrowed '{book.title}'.\")\n",
    "                else:\n",
    "                    print(f\"'{book.title}' is already checked out.\")\n",
    "                return\n",
    "        print(\"Book not found.\")\n",
    "\n",
    "    def return_book(self, book_id):\n",
    "        for book in self.books:\n",
    "            if book.book_id == book_id:\n",
    "                if book.return_book():\n",
    "                    print(f\"You have successfully returned '{book.title}'.\")\n",
    "                else:\n",
    "                    print(f\"'{book.title}' is already available in the library.\")\n",
    "                return\n",
    "        print(\"Book not found.\")\n"
   ]
  },
  {
   "cell_type": "code",
   "execution_count": 3,
   "id": "f42a6ce6-6d3d-4f37-8af8-6906e17c0189",
   "metadata": {},
   "outputs": [],
   "source": [
    "library = Library()\n",
    "\n",
    "book1 = Book(1, \"The Great Gatsby\", \"F. Scott Fitzgerald\")\n",
    "book2 = Book(2, \"To Kill a Mockingbird\", \"Harper Lee\")\n",
    "book3 = Book(3, \"1984\", \"George Orwell\")\n",
    "\n",
    "library.add_book(book1)\n",
    "library.add_book(book2)\n",
    "library.add_book(book3)"
   ]
  },
  {
   "cell_type": "code",
   "execution_count": 4,
   "id": "7dcb6b25-11d1-4874-a7fb-e4a296a77739",
   "metadata": {},
   "outputs": [
    {
     "name": "stdout",
     "output_type": "stream",
     "text": [
      "Available Books:\n",
      "The Great Gatsby by F. Scott Fitzgerald\n",
      "To Kill a Mockingbird by Harper Lee\n",
      "1984 by George Orwell\n"
     ]
    }
   ],
   "source": [
    "library.display_available_books()"
   ]
  },
  {
   "cell_type": "code",
   "execution_count": 5,
   "id": "cb7da4be-26ae-48fa-826c-6feed101c204",
   "metadata": {},
   "outputs": [
    {
     "name": "stdout",
     "output_type": "stream",
     "text": [
      "You have successfully borrowed 'To Kill a Mockingbird'.\n",
      "You have successfully borrowed 'The Great Gatsby'.\n",
      "'The Great Gatsby' is already checked out.\n"
     ]
    }
   ],
   "source": [
    "library.borrow_book(2)\n",
    "library.borrow_book(1)\n",
    "library.borrow_book(1)"
   ]
  },
  {
   "cell_type": "code",
   "execution_count": 6,
   "id": "d8967c8a-7d7e-4b9b-abe8-d697c47d3c99",
   "metadata": {},
   "outputs": [
    {
     "name": "stdout",
     "output_type": "stream",
     "text": [
      "You have successfully returned 'To Kill a Mockingbird'.\n",
      "You have successfully returned 'The Great Gatsby'.\n"
     ]
    }
   ],
   "source": [
    "library.return_book(2)\n",
    "library.return_book(1)"
   ]
  },
  {
   "cell_type": "code",
   "execution_count": 7,
   "id": "d23d99eb-b97b-4488-bd2c-5e248b33d234",
   "metadata": {},
   "outputs": [
    {
     "name": "stdout",
     "output_type": "stream",
     "text": [
      "Available Books:\n",
      "The Great Gatsby by F. Scott Fitzgerald\n",
      "To Kill a Mockingbird by Harper Lee\n",
      "1984 by George Orwell\n"
     ]
    }
   ],
   "source": [
    "library.display_available_books()"
   ]
  },
  {
   "cell_type": "markdown",
   "id": "6dbc9fb4-e9b1-4bb1-8f3d-c7e40ec19b34",
   "metadata": {},
   "source": [
    "Problem 5: Product Inventory Create classes representing a product and an inventory system. Implement methods to add products to the inventory, update product quantity, and display available products."
   ]
  },
  {
   "cell_type": "code",
   "execution_count": 8,
   "id": "35474237-1e23-4487-b71d-cf7924029972",
   "metadata": {},
   "outputs": [],
   "source": [
    "class Product:\n",
    "    def __init__(self, product_id, name, price, quantity):\n",
    "        self.product_id = product_id\n",
    "        self.name = name\n",
    "        self.price = price\n",
    "        self.quantity = quantity\n",
    "\n",
    "    def __str__(self):\n",
    "        return f\"{self.name} (Product ID: {self.product_id}) - Price: ${self.price:.2f}, Quantity: {self.quantity}\"\n",
    "\n",
    "class Inventory:\n",
    "    def __init__(self):\n",
    "        self.products = []\n",
    "\n",
    "    def add_product(self, product):\n",
    "        self.products.append(product)\n",
    "\n",
    "    def display_available_products(self):\n",
    "        if not self.products:\n",
    "            print(\"The inventory is empty.\")\n",
    "        else:\n",
    "            print(\"Available Products:\")\n",
    "            for product in self.products:\n",
    "                print(product)\n",
    "\n",
    "    def update_product_quantity(self, product_id, new_quantity):\n",
    "        for product in self.products:\n",
    "            if product.product_id == product_id:\n",
    "                product.quantity = new_quantity\n",
    "                return\n",
    "        print(\"Product not found.\")\n"
   ]
  },
  {
   "cell_type": "code",
   "execution_count": 9,
   "id": "987abe9e-80bc-4ee7-b695-cc5e8736c49a",
   "metadata": {},
   "outputs": [
    {
     "name": "stdout",
     "output_type": "stream",
     "text": [
      "Available Products:\n",
      "Laptop (Product ID: 1) - Price: $999.99, Quantity: 10\n",
      "Smartphone (Product ID: 2) - Price: $499.99, Quantity: 20\n",
      "Headphones (Product ID: 3) - Price: $49.99, Quantity: 50\n"
     ]
    }
   ],
   "source": [
    " inventory = Inventory()\n",
    "\n",
    "product1 = Product(1, \"Laptop\", 999.99, 10)\n",
    "product2 = Product(2, \"Smartphone\", 499.99, 20)\n",
    "product3 = Product(3, \"Headphones\", 49.99, 50)\n",
    "\n",
    "inventory.add_product(product1)\n",
    "inventory.add_product(product2)\n",
    "inventory.add_product(product3)\n",
    "\n",
    "inventory.display_available_products()"
   ]
  },
  {
   "cell_type": "code",
   "execution_count": 11,
   "id": "886482f1-2852-41ed-aa66-d073d0da2c80",
   "metadata": {},
   "outputs": [],
   "source": [
    "inventory.update_product_quantity(1, 8)"
   ]
  },
  {
   "cell_type": "code",
   "execution_count": 12,
   "id": "24da4929-0a52-4c99-9353-454a9214ed3f",
   "metadata": {},
   "outputs": [],
   "source": [
    "inventory.update_product_quantity(2, 25)"
   ]
  },
  {
   "cell_type": "code",
   "execution_count": 13,
   "id": "ca33b7c0-68a6-4908-a5cb-d6b07fcf462d",
   "metadata": {},
   "outputs": [
    {
     "name": "stdout",
     "output_type": "stream",
     "text": [
      "Product not found.\n"
     ]
    }
   ],
   "source": [
    "inventory.update_product_quantity(4, 15)"
   ]
  },
  {
   "cell_type": "code",
   "execution_count": 14,
   "id": "d84a6701-7ccb-4abb-abd5-785fb69fa7a8",
   "metadata": {},
   "outputs": [
    {
     "name": "stdout",
     "output_type": "stream",
     "text": [
      "Available Products:\n",
      "Laptop (Product ID: 1) - Price: $999.99, Quantity: 8\n",
      "Smartphone (Product ID: 2) - Price: $499.99, Quantity: 25\n",
      "Headphones (Product ID: 3) - Price: $49.99, Quantity: 50\n"
     ]
    }
   ],
   "source": [
    "inventory.display_available_products()"
   ]
  },
  {
   "cell_type": "markdown",
   "id": "0aa222c9-2463-4733-ac26-729ab24746d7",
   "metadata": {},
   "source": [
    "Problem 6: Shape Calculation Create a class representing a shape with attributes like length, width, and height. Implement methods to calculate the area and perimeter of the shape."
   ]
  },
  {
   "cell_type": "code",
   "execution_count": 23,
   "id": "f48f6339-7bf1-41e3-9113-0f2efcd5aff7",
   "metadata": {},
   "outputs": [],
   "source": [
    "class Shape:\n",
    "    def __init__(self, length, width=None, height=None):\n",
    "        self.length = length\n",
    "        self.width = width\n",
    "        self.height = height\n",
    "\n",
    "    def calculate_area(self):\n",
    "        pass\n",
    "\n",
    "    def calculate_perimeter(self):\n",
    "        pass\n",
    "\n",
    "class Rectangle(Shape):\n",
    "    def calculate_area(self):\n",
    "        return self.length * self.width\n",
    "\n",
    "    def calculate_perimeter(self):\n",
    "        return 2 * (self.length + self.width)\n",
    "\n",
    "class Square(Rectangle):\n",
    "    def __init__(self, side_length):\n",
    "        super().__init__(side_length, side_length)\n",
    "\n",
    "class Triangle(Shape):\n",
    "    def calculate_area(self):\n",
    "        return 0.5 * self.length * self.height\n",
    "\n",
    "    def calculate_perimeter(self):\n",
    "        return self.length + self.width + self.height"
   ]
  },
  {
   "cell_type": "code",
   "execution_count": 24,
   "id": "91b9c6a7-25a9-4168-8c64-f3b52479276a",
   "metadata": {},
   "outputs": [
    {
     "name": "stdout",
     "output_type": "stream",
     "text": [
      "Rectangle:\n",
      "Area: 50\n",
      "Perimeter: 30\n"
     ]
    }
   ],
   "source": [
    "rectangle = Rectangle(5, 10)\n",
    "square = Square(4)\n",
    "triangle = Triangle(3, 4, 5)\n",
    "\n",
    "print(\"Rectangle:\")\n",
    "print(f\"Area: {rectangle.calculate_area()}\")\n",
    "print(f\"Perimeter: {rectangle.calculate_perimeter()}\")"
   ]
  },
  {
   "cell_type": "code",
   "execution_count": 25,
   "id": "e42f67af-1d67-4058-a704-ece3f39695e1",
   "metadata": {},
   "outputs": [
    {
     "name": "stdout",
     "output_type": "stream",
     "text": [
      "\n",
      "Square:\n",
      "Area: 16\n",
      "Perimeter: 16\n"
     ]
    }
   ],
   "source": [
    "print(\"\\nSquare:\")\n",
    "print(f\"Area: {square.calculate_area()}\")\n",
    "print(f\"Perimeter: {square.calculate_perimeter()}\")"
   ]
  },
  {
   "cell_type": "code",
   "execution_count": 26,
   "id": "479132e8-6169-4f3f-a949-1aa90df6d2fa",
   "metadata": {},
   "outputs": [
    {
     "name": "stdout",
     "output_type": "stream",
     "text": [
      "\n",
      "Triangle:\n",
      "Area: 7.5\n",
      "Perimeter: 12\n"
     ]
    }
   ],
   "source": [
    "print(\"\\nTriangle:\")\n",
    "print(f\"Area: {triangle.calculate_area()}\")\n",
    "print(f\"Perimeter: {triangle.calculate_perimeter()}\")"
   ]
  },
  {
   "cell_type": "markdown",
   "id": "d37f65a8-cb4f-463c-9cd4-4b419a70185f",
   "metadata": {},
   "source": [
    "Problem 7: Student Management Create a class representing a student with attributes like student ID, name, and grades. Implement methods to calculate the average grade and display student details."
   ]
  },
  {
   "cell_type": "code",
   "execution_count": 27,
   "id": "23ae8f77-3c2c-4282-92d9-091be245f31a",
   "metadata": {},
   "outputs": [],
   "source": [
    "class Student:\n",
    "    def __init__(self, student_id, name, grades=None):\n",
    "        self.student_id = student_id\n",
    "        self.name = name\n",
    "        self.grades = grades if grades else []\n",
    "\n",
    "    def add_grade(self, grade):\n",
    "        self.grades.append(grade)\n",
    "\n",
    "    def calculate_average_grade(self):\n",
    "        if not self.grades:\n",
    "            return 0\n",
    "        return sum(self.grades) / len(self.grades)\n",
    "\n",
    "    def display_student_details(self):\n",
    "        print(\"Student Details:\")\n",
    "        print(f\"Student ID: {self.student_id}\")\n",
    "        print(f\"Name: {self.name}\")\n",
    "        print(\"Grades:\", \", \".join(map(str, self.grades)))\n",
    "        print(f\"Average Grade: {self.calculate_average_grade()}\")"
   ]
  },
  {
   "cell_type": "code",
   "execution_count": 28,
   "id": "2ee46e14-6c95-4f3d-9302-6d5908010e2e",
   "metadata": {},
   "outputs": [
    {
     "name": "stdout",
     "output_type": "stream",
     "text": [
      "Student Details:\n",
      "Student ID: 101\n",
      "Name: John Doe\n",
      "Grades: 95, 87, 91, 78, 88\n",
      "Average Grade: 87.8\n",
      "Student Details:\n",
      "Student ID: 102\n",
      "Name: Jane Smith\n",
      "Grades: 75, 82, 90, 67, 73\n",
      "Average Grade: 77.4\n"
     ]
    }
   ],
   "source": [
    "student1 = Student(101, \"John Doe\", [95, 87, 91, 78, 88])\n",
    "student2 = Student(102, \"Jane Smith\", [75, 82, 90, 67, 73])\n",
    "\n",
    "student1.display_student_details()\n",
    "student2.display_student_details()"
   ]
  },
  {
   "cell_type": "code",
   "execution_count": 29,
   "id": "aa5240e2-705d-4da9-8ee9-73d118f7279d",
   "metadata": {},
   "outputs": [
    {
     "name": "stdout",
     "output_type": "stream",
     "text": [
      "Student Details:\n",
      "Student ID: 101\n",
      "Name: John Doe\n",
      "Grades: 95, 87, 91, 78, 88, 94\n",
      "Average Grade: 88.83333333333333\n"
     ]
    }
   ],
   "source": [
    "student1.add_grade(94)\n",
    "student1.display_student_details()"
   ]
  },
  {
   "cell_type": "markdown",
   "id": "f8d45ee3-5e13-4b2a-8622-6ff6999d1fa9",
   "metadata": {},
   "source": [
    "Problem 8: Email Management Create a class representing an email with attributes like sender, recipient, and subject. Implement methods to send an email and display email details."
   ]
  },
  {
   "cell_type": "code",
   "execution_count": 30,
   "id": "589b782d-a561-481e-9277-310c81baf14e",
   "metadata": {},
   "outputs": [],
   "source": [
    "class Email:\n",
    "    def __init__(self, sender, recipient, subject, message):\n",
    "        self.sender = sender\n",
    "        self.recipient = recipient\n",
    "        self.subject = subject\n",
    "        self.message = message\n",
    "\n",
    "    def send_email(self):\n",
    "        print(\"Email sent successfully!\")\n",
    "\n",
    "    def display_email_details(self):\n",
    "        print(\"Email Details:\")\n",
    "        print(f\"Sender: {self.sender}\")\n",
    "        print(f\"Recipient: {self.recipient}\")\n",
    "        print(f\"Subject: {self.subject}\")\n",
    "        print(f\"Message: {self.message}\")"
   ]
  },
  {
   "cell_type": "code",
   "execution_count": 31,
   "id": "5cd42abc-343d-4718-9311-c3b96f4a2af4",
   "metadata": {},
   "outputs": [],
   "source": [
    "sender = \"john.doe@example.com\"\n",
    "recipient = \"jane.smith@example.com\"\n",
    "subject = \"Hello, Jane!\"\n",
    "message = \"How are you doing today?\""
   ]
  },
  {
   "cell_type": "code",
   "execution_count": 32,
   "id": "9808c0f1-3e7b-491b-8bbb-2c5a5f82ab7e",
   "metadata": {},
   "outputs": [
    {
     "name": "stdout",
     "output_type": "stream",
     "text": [
      "Email sent successfully!\n",
      "Email Details:\n",
      "Sender: john.doe@example.com\n",
      "Recipient: jane.smith@example.com\n",
      "Subject: Hello, Jane!\n",
      "Message: How are you doing today?\n"
     ]
    }
   ],
   "source": [
    "email = Email(sender, recipient, subject, message)\n",
    "email.send_email()\n",
    "email.display_email_details()"
   ]
  },
  {
   "cell_type": "markdown",
   "id": "0efdabba-8d81-45a3-99c3-549907d2a548",
   "metadata": {},
   "source": [
    "Problem 9: Social Media Profile Create a class representing a social media profile with attributes like username and posts. Implement methods to add posts, display posts, and search for posts by keyword."
   ]
  },
  {
   "cell_type": "code",
   "execution_count": 33,
   "id": "56cd9bb6-a415-4bb0-9228-eb7366e5d0dc",
   "metadata": {},
   "outputs": [],
   "source": [
    "class SocialMediaProfile:\n",
    "    def __init__(self, username):\n",
    "        self.username = username\n",
    "        self.posts = []\n",
    "\n",
    "    def add_post(self, content):\n",
    "        self.posts.append(content)\n",
    "\n",
    "    def display_posts(self):\n",
    "        if not self.posts:\n",
    "            print(\"No posts to display for this profile.\")\n",
    "        else:\n",
    "            print(f\"Posts by {self.username}:\")\n",
    "            for post in self.posts:\n",
    "                print(post)\n",
    "\n",
    "    def search_posts(self, keyword):\n",
    "        matching_posts = [post for post in self.posts if keyword.lower() in post.lower()]\n",
    "        if matching_posts:\n",
    "            print(f\"Posts containing '{keyword}' by {self.username}:\")\n",
    "            for post in matching_posts:\n",
    "                print(post)\n",
    "        else:\n",
    "            print(f\"No posts containing '{keyword}' found by {self.username}.\")"
   ]
  },
  {
   "cell_type": "code",
   "execution_count": 34,
   "id": "b5b7bd56-328b-4d26-86e6-f35a29d33075",
   "metadata": {},
   "outputs": [],
   "source": [
    "profile = SocialMediaProfile(\"john_doe\")\n",
    "\n",
    "profile.add_post(\"Enjoying a sunny day at the beach.\")\n",
    "profile.add_post(\"Just had a delicious dinner at my favorite restaurant.\")\n",
    "profile.add_post(\"Hiking in the mountains this weekend!\")"
   ]
  },
  {
   "cell_type": "code",
   "execution_count": 35,
   "id": "cd70789a-8f0d-421e-8f56-c7d8e33839f1",
   "metadata": {},
   "outputs": [
    {
     "name": "stdout",
     "output_type": "stream",
     "text": [
      "Posts by john_doe:\n",
      "Enjoying a sunny day at the beach.\n",
      "Just had a delicious dinner at my favorite restaurant.\n",
      "Hiking in the mountains this weekend!\n"
     ]
    }
   ],
   "source": [
    "profile.display_posts()"
   ]
  },
  {
   "cell_type": "code",
   "execution_count": 36,
   "id": "7e09b403-a725-48ff-9ca2-cf28b071ab49",
   "metadata": {},
   "outputs": [
    {
     "name": "stdout",
     "output_type": "stream",
     "text": [
      "Posts containing 'mountains' by john_doe:\n",
      "Hiking in the mountains this weekend!\n",
      "No posts containing 'gym' found by john_doe.\n"
     ]
    }
   ],
   "source": [
    "profile.search_posts(\"mountains\")\n",
    "profile.search_posts(\"gym\")"
   ]
  },
  {
   "cell_type": "markdown",
   "id": "4344762e-14d0-4586-93e0-82b8b43bb8ed",
   "metadata": {},
   "source": [
    "Problem 10: ToDo List Create a class representing a ToDo list with attributes like tasks and due dates. Implement methods to add tasks, mark tasks as completed, and display pending tasks."
   ]
  },
  {
   "cell_type": "code",
   "execution_count": 37,
   "id": "282e76b7-215b-46fe-8097-fbee3b363db6",
   "metadata": {},
   "outputs": [],
   "source": [
    "class ToDoList:\n",
    "    def __init__(self):\n",
    "        self.tasks = []\n",
    "\n",
    "    def add_task(self, task, due_date=None):\n",
    "        self.tasks.append({\"task\": task, \"due_date\": due_date, \"completed\": False})\n",
    "\n",
    "    def mark_task_as_completed(self, task_index):\n",
    "        if 0 <= task_index < len(self.tasks):\n",
    "            self.tasks[task_index][\"completed\"] = True\n",
    "            print(f\"Task '{self.tasks[task_index]['task']}' marked as completed.\")\n",
    "        else:\n",
    "            print(\"Invalid task index.\")\n",
    "\n",
    "    def display_pending_tasks(self):\n",
    "        pending_tasks = [task for task in self.tasks if not task[\"completed\"]]\n",
    "        if pending_tasks:\n",
    "            print(\"Pending Tasks:\")\n",
    "            for i, task in enumerate(pending_tasks):\n",
    "                print(f\"{i + 1}. {task['task']}\", end=\"\")\n",
    "                if task[\"due_date\"]:\n",
    "                    print(f\" (Due on: {task['due_date']})\")\n",
    "                else:\n",
    "                    print()\n",
    "        else:\n",
    "            print(\"No pending tasks.\")"
   ]
  },
  {
   "cell_type": "code",
   "execution_count": 38,
   "id": "4721a006-87c4-4c1a-a02d-f1ee15f189cc",
   "metadata": {},
   "outputs": [],
   "source": [
    "todo_list = ToDoList()\n",
    "\n",
    "todo_list.add_task(\"Finish the project\", \"2023-10-20\")\n",
    "todo_list.add_task(\"Go to the gym\")\n",
    "todo_list.add_task(\"Buy groceries\", \"2023-10-15\")"
   ]
  },
  {
   "cell_type": "code",
   "execution_count": 39,
   "id": "fb7632fc-c60f-43ad-92c3-34464ccb9f36",
   "metadata": {},
   "outputs": [
    {
     "name": "stdout",
     "output_type": "stream",
     "text": [
      "Pending Tasks:\n",
      "1. Finish the project (Due on: 2023-10-20)\n",
      "2. Go to the gym\n",
      "3. Buy groceries (Due on: 2023-10-15)\n"
     ]
    }
   ],
   "source": [
    "todo_list.display_pending_tasks()"
   ]
  },
  {
   "cell_type": "code",
   "execution_count": 40,
   "id": "da246751-d179-469a-8d5d-10cbbafd3473",
   "metadata": {},
   "outputs": [
    {
     "name": "stdout",
     "output_type": "stream",
     "text": [
      "Task 'Go to the gym' marked as completed.\n",
      "Pending Tasks:\n",
      "1. Finish the project (Due on: 2023-10-20)\n",
      "2. Buy groceries (Due on: 2023-10-15)\n"
     ]
    }
   ],
   "source": [
    "todo_list.mark_task_as_completed(1)\n",
    "todo_list.display_pending_tasks()"
   ]
  },
  {
   "cell_type": "code",
   "execution_count": null,
   "id": "a5bb76aa-63a8-49c0-b294-1ce080f1132e",
   "metadata": {},
   "outputs": [],
   "source": []
  }
 ],
 "metadata": {
  "kernelspec": {
   "display_name": "Python 3 (ipykernel)",
   "language": "python",
   "name": "python3"
  },
  "language_info": {
   "codemirror_mode": {
    "name": "ipython",
    "version": 3
   },
   "file_extension": ".py",
   "mimetype": "text/x-python",
   "name": "python",
   "nbconvert_exporter": "python",
   "pygments_lexer": "ipython3",
   "version": "3.10.8"
  }
 },
 "nbformat": 4,
 "nbformat_minor": 5
}
