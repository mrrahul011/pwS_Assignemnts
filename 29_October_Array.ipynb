{
 "cells": [
  {
   "cell_type": "markdown",
   "id": "b7ad70eb-9aa2-40c9-8e6c-ab939e4e7739",
   "metadata": {},
   "source": [
    "1. Given an array, check if it contains any duplicates or not.\n",
    "arr = [1, 2, 4, 2, 5, 9]\n",
    "Output = True"
   ]
  },
  {
   "cell_type": "code",
   "execution_count": 14,
   "id": "66c48989-ddb9-4e7f-97b4-79e3678640f2",
   "metadata": {},
   "outputs": [
    {
     "name": "stdout",
     "output_type": "stream",
     "text": [
      "Output = True\n"
     ]
    }
   ],
   "source": [
    "#time complexity is O(n)\n",
    "#space complexity is O(n)\n",
    "def duplicates(arr):\n",
    "    dup = []\n",
    "    count = 0\n",
    "    for i in range(len(arr)):\n",
    "        if arr[i] not in dup:\n",
    "            dup.append(arr[i])\n",
    "        else:\n",
    "            count += 1\n",
    "    return count\n",
    "\n",
    "#driver code\n",
    "arr = [1, 2, 4, 2, 5, 9]\n",
    "#function call\n",
    "result = duplicates(arr)\n",
    "if result > 0:\n",
    "    print(\"Output = True\")\n",
    "else:\n",
    "    print(\"Output = False\")\n"
   ]
  },
  {
   "cell_type": "markdown",
   "id": "a36703ae-d26f-426d-b767-ee8241d517af",
   "metadata": {},
   "source": [
    "2. Given an array and an integer k, rotate the array to the right by k steps.\n",
    "arr = [1, 2, 3, 4, 5, 6, 7] k = 3\n",
    "Output = [5, 6, 7, 1, 2, 3, 4]"
   ]
  },
  {
   "cell_type": "code",
   "execution_count": 13,
   "id": "3ba4527d-5414-47c0-802d-db2d590d73d3",
   "metadata": {},
   "outputs": [
    {
     "name": "stdout",
     "output_type": "stream",
     "text": [
      "Output: [5, 6, 7, 1, 2, 3, 4]\n"
     ]
    }
   ],
   "source": [
    "#time complexity is O(n^2)\n",
    "#space complexity is O(n)\n",
    "def rotate_array(arr, k):  \n",
    "    rotated_arr = []  \n",
    "    for i in range(k+1,len(arr)):\n",
    "        rotated_arr.append(arr[i])\n",
    "    for i in range(0,k+1):\n",
    "        rotated_arr.append(arr[i])\n",
    "    return rotated_arr\n",
    "\n",
    "#driver code\n",
    "arr = [1, 2, 3, 4, 5, 6, 7] \n",
    "k = 3\n",
    "output = rotate_array(arr, k)\n",
    "print(f\"Output: {output}\")"
   ]
  },
  {
   "cell_type": "markdown",
   "id": "d357e749-4b7c-4479-a4d4-0200c2c7553c",
   "metadata": {},
   "source": [
    "3. Reverse the given array in-place, means without using any extra data structure.\n",
    "arr = [2, 4, 5, 7, 9, 12]\n",
    "Output = [12, 9, 7, 5, 4, 2]"
   ]
  },
  {
   "cell_type": "code",
   "execution_count": 26,
   "id": "c3711556-d3b7-4d7e-91d9-248d02d76139",
   "metadata": {},
   "outputs": [
    {
     "name": "stdout",
     "output_type": "stream",
     "text": [
      "Output: [12, 9, 7, 5, 4, 2]\n"
     ]
    }
   ],
   "source": [
    "#time complexity is O(n)\n",
    "#space complexity is O(1)\n",
    "def reverse_array(arr):\n",
    "    left = 0\n",
    "    right = len(arr) - 1\n",
    "    while left < right:\n",
    "        arr[left], arr[right] = arr[right], arr[left]\n",
    "        left += 1\n",
    "        right -= 1\n",
    "\n",
    "#driver code\n",
    "arr = [2, 4, 5, 7, 9, 12] \n",
    "#function call\n",
    "reverse_array(arr)\n",
    "print(f\"Output: {arr}\")"
   ]
  },
  {
   "cell_type": "code",
   "execution_count": 24,
   "id": "7178705d-a9fd-4278-9aba-cbc0ea387433",
   "metadata": {},
   "outputs": [
    {
     "data": {
      "text/plain": [
       "[12, 9, 7, 5, 4, 2]"
      ]
     },
     "execution_count": 24,
     "metadata": {},
     "output_type": "execute_result"
    }
   ],
   "source": [
    "arr"
   ]
  },
  {
   "cell_type": "markdown",
   "id": "d29a330d-ab62-448a-9cc7-44e89dca63da",
   "metadata": {},
   "source": [
    "4. Given an array of integers, find the maximum element in an array\n",
    "arr = [10, 5, 20, 8, 15]\n",
    "Output = 20"
   ]
  },
  {
   "cell_type": "code",
   "execution_count": 16,
   "id": "10ffe274-30a3-4fcb-bde0-8fb957d59be0",
   "metadata": {},
   "outputs": [
    {
     "data": {
      "text/plain": [
       "'Output = 20'"
      ]
     },
     "execution_count": 16,
     "metadata": {},
     "output_type": "execute_result"
    }
   ],
   "source": [
    "#time complexity is O(n)\n",
    "#space complexity is O(1)\n",
    "def maximun_element(arr):\n",
    "    max = 0\n",
    "    for i in range(len(arr)):\n",
    "        if arr[i] > max:\n",
    "            max = arr[i]\n",
    "    return f\"Output = {max}\"\n",
    "\n",
    "#driver code\n",
    "arr = [10, 5, 20, 8, 15] \n",
    "#function call\n",
    "maximun_element(arr)"
   ]
  },
  {
   "cell_type": "markdown",
   "id": "d64cb184-874e-4637-b8f3-9e6f2655cb14",
   "metadata": {},
   "source": [
    "5. Given a sorted array, remove the duplicate element without using any extra data structure.\n",
    "arr = [1, 1, 2, 2, 2, 3, 3, 4, 4, 4, 5, 5]\n",
    "Output = [1, 2, 3, 4, 5]"
   ]
  },
  {
   "cell_type": "code",
   "execution_count": 18,
   "id": "2ce175cd-a203-4209-b0a5-ba0c4185666c",
   "metadata": {},
   "outputs": [
    {
     "name": "stdout",
     "output_type": "stream",
     "text": [
      "[1, 2, 3, 4, 5]\n"
     ]
    }
   ],
   "source": [
    "#time complexity is O(n)\n",
    "#space complexity is O(1)\n",
    "def remove_duplicates(nums):\n",
    "    if len(nums) == 0:\n",
    "        return 0\n",
    "\n",
    "    # Initialize two pointers\n",
    "    left = 0\n",
    "\n",
    "    for right in range(1, len(nums)):\n",
    "        if nums[left] != nums[right]:\n",
    "            left += 1\n",
    "            nums[left] = nums[right]\n",
    "\n",
    "    return left + 1\n",
    "\n",
    "# driver code\n",
    "arr = [1, 1, 2, 2, 2, 3, 4, 4, 5]\n",
    "#function call\n",
    "new_length = remove_duplicates(arr)\n",
    "print(arr[:new_length])  # Output: [1, 2, 3, 4, 5]\n"
   ]
  }
 ],
 "metadata": {
  "kernelspec": {
   "display_name": "Python 3 (ipykernel)",
   "language": "python",
   "name": "python3"
  },
  "language_info": {
   "codemirror_mode": {
    "name": "ipython",
    "version": 3
   },
   "file_extension": ".py",
   "mimetype": "text/x-python",
   "name": "python",
   "nbconvert_exporter": "python",
   "pygments_lexer": "ipython3",
   "version": "3.10.8"
  }
 },
 "nbformat": 4,
 "nbformat_minor": 5
}
