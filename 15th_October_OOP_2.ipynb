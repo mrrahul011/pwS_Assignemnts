{
 "cells": [
  {
   "cell_type": "markdown",
   "id": "46b9921d-26b1-4b05-a1ff-070b0885d1e7",
   "metadata": {
    "tags": []
   },
   "source": [
    "## Constructor:"
   ]
  },
  {
   "cell_type": "markdown",
   "id": "da51c8a0-fb9f-4357-8dfe-50ff45520d79",
   "metadata": {},
   "source": [
    "1. What is a constructor in Python? Explain its purpose and usage."
   ]
  },
  {
   "cell_type": "markdown",
   "id": "cf839c4f-da38-43aa-89c2-50d5d2626043",
   "metadata": {},
   "source": [
    "In Python, a constructor is a special method within a class that is automatically called when an object of the class is created. The purpose of a constructor is to initialize the attributes or properties of the object and set it up for use. Constructors play a crucial role in object-oriented programming by allowing you to ensure that objects are in a valid and consistent state when they are created."
   ]
  },
  {
   "cell_type": "code",
   "execution_count": 1,
   "id": "106e878b-e961-4cee-8470-83fe5a13429e",
   "metadata": {},
   "outputs": [
    {
     "name": "stdout",
     "output_type": "stream",
     "text": [
      "Value1\n",
      "Value2\n"
     ]
    }
   ],
   "source": [
    "class MyClass:\n",
    "    def __init__(self, attribute1, attribute2):\n",
    "        self.attribute1 = attribute1\n",
    "        self.attribute2 = attribute2\n",
    "\n",
    "# Creating an object and automatically calling the constructor\n",
    "obj = MyClass(\"Value1\", \"Value2\")\n",
    "\n",
    "# Accessing object attributes\n",
    "print(obj.attribute1)  # Output: Value1\n",
    "print(obj.attribute2)  # Output: Value2"
   ]
  },
  {
   "cell_type": "markdown",
   "id": "738bb1ce-c21d-4feb-bdfa-19f53186e0f8",
   "metadata": {},
   "source": [
    "2. Differentiate between a parameterless constructor and a parameterized constructor in Python."
   ]
  },
  {
   "cell_type": "markdown",
   "id": "36354aa0-7c49-4c27-8743-f782bbfe25fb",
   "metadata": {},
   "source": [
    "Parameterless Constructor (Default Constructor):\n",
    "\n",
    "*A parameterless constructor does not accept any parameters.\n",
    "\n",
    "*It is automatically provided by Python if no constructor is defined in the class.\n",
    "\n",
    "*When an object of the class is created, the parameterless constructor initializes the object's attributes to default or empty values.\n",
    "\n",
    "*If you do not define a parameterized constructor (__init__) in your class, Python automatically provides a default constructor."
   ]
  },
  {
   "cell_type": "code",
   "execution_count": 2,
   "id": "5d067e55-d5f1-498d-adb0-230aa31e0c76",
   "metadata": {},
   "outputs": [],
   "source": [
    "class MyClass:\n",
    "    def method1(self):\n",
    "        # This is a parameterless constructor\n",
    "        pass\n",
    "\n",
    "obj = MyClass()  # Creating an object will automatically call the parameterless constructor\n"
   ]
  },
  {
   "cell_type": "markdown",
   "id": "838b6ca0-0530-4a87-89c0-a462a06b7cca",
   "metadata": {},
   "source": [
    "Parameterized Constructor (Custom Constructor):\n",
    "\n",
    "*A parameterized constructor (often referred to as a custom constructor) accepts one or more parameters.\n",
    "\n",
    "*It is explicitly defined in the class to allow for custom initialization of the object's attributes.\n",
    "\n",
    "*When an object of the class is created, you can pass values as arguments to the constructor to initialize the object's attributes with specific values."
   ]
  },
  {
   "cell_type": "code",
   "execution_count": 3,
   "id": "6643a497-ec30-4a48-9b4d-cd36bf748fcc",
   "metadata": {},
   "outputs": [],
   "source": [
    "class MyClass:\n",
    "    def __init__(self, attribute1, attribute2):\n",
    "        self.attribute1 = attribute1\n",
    "        self.attribute2 = attribute2\n",
    "\n",
    "obj = MyClass(\"Value1\", \"Value2\")  # Creating an object and passing values to the parameterized constructor\n"
   ]
  },
  {
   "cell_type": "markdown",
   "id": "53af1673-976e-4a6c-addf-8cbcc6b4f6e4",
   "metadata": {},
   "source": [
    "3. How do you define a constructor in a Python class? Provide an example."
   ]
  },
  {
   "cell_type": "code",
   "execution_count": 4,
   "id": "cd34a41d-c577-4984-aa04-c8f44ed3a550",
   "metadata": {},
   "outputs": [
    {
     "name": "stdout",
     "output_type": "stream",
     "text": [
      "Value1\n",
      "Value2\n"
     ]
    }
   ],
   "source": [
    "class MyClass:\n",
    "    def __init__(self, attribute1, attribute2):\n",
    "        self.attribute1 = attribute1\n",
    "        self.attribute2 = attribute2\n",
    "\n",
    "# Creating an object and automatically calling the constructor\n",
    "obj = MyClass(\"Value1\", \"Value2\")\n",
    "\n",
    "# Accessing object attributes\n",
    "print(obj.attribute1)  # Output: Value1\n",
    "print(obj.attribute2)  # Output: Value2"
   ]
  },
  {
   "cell_type": "markdown",
   "id": "76096d8b-d0a4-4bb3-a42d-03a7fc085945",
   "metadata": {},
   "source": [
    "4. Explain the `__init__` method in Python and its role in constructors."
   ]
  },
  {
   "cell_type": "markdown",
   "id": "24348275-c61c-4330-823e-f4dacfa50ae9",
   "metadata": {},
   "source": [
    "__init__ also known as the initializer or constructor method. This method is automatically called when an instance of a class is created. Its primary role is to initialize the attributes or properties of the object to their initial values, allowing the object to be set up for use."
   ]
  },
  {
   "cell_type": "markdown",
   "id": "f21c3388-f77c-4890-a7be-f1e3c57fab0f",
   "metadata": {},
   "source": [
    "*Initialization: The primary purpose of the __init__ method is to initialize the object's attributes. It accepts one mandatory parameter, self, which is a reference to the instance being created. Additionally, it can accept other parameters to provide initial values for the object's attributes.\n",
    "\n",
    "*Automatic Invocation: When an object of a class is created, Python automatically invokes the __init__ method for that object. This means you do not need to explicitly call it; it's called automatically during object creation.\n",
    "\n",
    "*Attribute Assignment: Inside the __init__ method, you can use self to set the values of the object's attributes based on the arguments or values passed to the constructor. This allows you to establish the initial state of the object.\n",
    "\n",
    "*Customization: The __init__ method can be customized to accept different parameters and provide different initializations for objects based on your specific requirements. This makes it possible to create objects with different initial states."
   ]
  },
  {
   "cell_type": "markdown",
   "id": "76f22fe7-2337-45bc-9d2a-6058fec476e2",
   "metadata": {},
   "source": [
    "5. In a class named `Person`, create a constructor that initializes the `name` and `age` attributes. Provide an\n",
    "example of creating an object of this class."
   ]
  },
  {
   "cell_type": "code",
   "execution_count": 6,
   "id": "e1161bd4-6f5b-4e15-8288-d8597f8f1181",
   "metadata": {},
   "outputs": [],
   "source": [
    "class person:\n",
    "    def __init__(self, name, age):\n",
    "        self.name = name\n",
    "        self.age = age"
   ]
  },
  {
   "cell_type": "code",
   "execution_count": 8,
   "id": "99ac418c-dcdd-428a-9559-489dd98e50be",
   "metadata": {},
   "outputs": [
    {
     "name": "stdout",
     "output_type": "stream",
     "text": [
      "rahul\n",
      "30\n"
     ]
    }
   ],
   "source": [
    "person1 = person(\"rahul\", 30)\n",
    "print(person1.name)  \n",
    "print(person1.age)  "
   ]
  },
  {
   "cell_type": "markdown",
   "id": "373aec83-e4cc-4ae0-bfd0-8fc2355573d2",
   "metadata": {},
   "source": [
    "6. How can you call a constructor explicitly in Python? Give an example."
   ]
  },
  {
   "cell_type": "markdown",
   "id": "35a742a9-f143-4b86-85df-bd2128a26532",
   "metadata": {},
   "source": [
    "To call a constructor explicitly, use the class name as a function and provide the required arguments. "
   ]
  },
  {
   "cell_type": "code",
   "execution_count": 14,
   "id": "2be486f3-cf3b-4063-8da0-c14e733066f0",
   "metadata": {},
   "outputs": [],
   "source": [
    "class MyClass:\n",
    "    def __init__(self, attribute1, attribute2):\n",
    "        self.attribute1 = attribute1\n",
    "        self.attribute2 = attribute2\n",
    "\n",
    "# Explicitly calling the constructor\n",
    "obj = MyClass.__init__(MyClass,\"Value1\", \"Value2\")"
   ]
  },
  {
   "cell_type": "markdown",
   "id": "f4aa44ea-aec0-4390-8a39-9eb69a0aed9e",
   "metadata": {},
   "source": [
    "7. What is the significance of the `self` parameter in Python constructors? Explain with an example."
   ]
  },
  {
   "cell_type": "markdown",
   "id": "d401a9a3-1ac4-4683-a801-bf9cf00f488a",
   "metadata": {},
   "source": [
    "The self parameter in Python constructors (including the __init__ method) is a reference to the instance of the class that is being created. The self parameter allows to access and modify the instance's attributes and methods within the constructor and other methods of the class."
   ]
  },
  {
   "cell_type": "code",
   "execution_count": 16,
   "id": "ce50b280-3a28-4040-b5a8-dfd2d12be2ce",
   "metadata": {},
   "outputs": [
    {
     "name": "stdout",
     "output_type": "stream",
     "text": [
      "Attribute 1: Value1\n",
      "Attribute 2: Value2\n"
     ]
    }
   ],
   "source": [
    "class MyClass:\n",
    "    def __init__(self, attribute1, attribute2):\n",
    "        self.attribute1 = attribute1\n",
    "        self.attribute2 = attribute2\n",
    "\n",
    "    def display_attributes(self):\n",
    "        print(f\"Attribute 1: {self.attribute1}\")\n",
    "        print(f\"Attribute 2: {self.attribute2}\")\n",
    "\n",
    "# Creating an object of the class\n",
    "obj = MyClass(\"Value1\", \"Value2\")\n",
    "\n",
    "# Accessing and displaying attributes using a method\n",
    "obj.display_attributes()\n"
   ]
  },
  {
   "cell_type": "markdown",
   "id": "e0e987f2-3200-40a9-bffa-4f166bd5babd",
   "metadata": {},
   "source": [
    "8. Discuss the concept of default constructors in Python. When are they used?"
   ]
  },
  {
   "cell_type": "markdown",
   "id": "e8b28ccf-3bf3-437b-909d-dacf9d61c3e8",
   "metadata": {},
   "source": [
    "In Python, a default constructor, also known as a parameterless constructor, is a constructor that is automatically provided by the Python interpreter if no constructor is explicitly defined in a class. It is sometimes called an \"implicit constructor\" because it doesn't take any parameters and provides default initialization behavior. The primary purpose of a default constructor is to ensure that instances of the class are created with minimal initialization when no custom constructor is defined."
   ]
  },
  {
   "cell_type": "code",
   "execution_count": 17,
   "id": "4ea87080-ed9a-4b06-a0dd-55422ca0a294",
   "metadata": {},
   "outputs": [
    {
     "name": "stdout",
     "output_type": "stream",
     "text": [
      "This is a method of MyClass.\n"
     ]
    }
   ],
   "source": [
    "class MyClass:\n",
    "    def some_method(self):\n",
    "        print(\"This is a method of MyClass.\")\n",
    "\n",
    "# Creating an object of the class without a custom constructor\n",
    "obj = MyClass()\n",
    "\n",
    "# Calling a method of the class\n",
    "obj.some_method()\n"
   ]
  },
  {
   "cell_type": "markdown",
   "id": "b6a94b79-33e9-4f8f-bfe5-918f04204934",
   "metadata": {},
   "source": [
    "9. Create a Python class called `Rectangle` with a constructor that initializes the `width` and `height`\n",
    "attributes. Provide a method to calculate the area of the rectangle."
   ]
  },
  {
   "cell_type": "code",
   "execution_count": 18,
   "id": "d7b7c124-dba5-49a6-9e13-ce4866c1a206",
   "metadata": {},
   "outputs": [],
   "source": [
    "class Rectangle:\n",
    "    def __init__(self, width, height):\n",
    "        self.width = width\n",
    "        self.height = height\n",
    "    def area(self):\n",
    "        print(\"The area of rectangle:\")\n",
    "        return self.width * self.height"
   ]
  },
  {
   "cell_type": "code",
   "execution_count": 19,
   "id": "4ef284b9-344b-4355-bef6-caa675c8a12b",
   "metadata": {},
   "outputs": [],
   "source": [
    "rectangle1 = Rectangle(5,4)"
   ]
  },
  {
   "cell_type": "code",
   "execution_count": 20,
   "id": "17dba2f2-abac-4208-a599-92623b86bcb2",
   "metadata": {},
   "outputs": [
    {
     "name": "stdout",
     "output_type": "stream",
     "text": [
      "The area of rectangle:\n"
     ]
    },
    {
     "data": {
      "text/plain": [
       "20"
      ]
     },
     "execution_count": 20,
     "metadata": {},
     "output_type": "execute_result"
    }
   ],
   "source": [
    "rectangle1.area()"
   ]
  },
  {
   "cell_type": "markdown",
   "id": "1e83f8cb-9e40-43a6-9709-e94b42ef66a0",
   "metadata": {},
   "source": [
    "10. How can you have multiple constructors in a Python class? Explain with an example."
   ]
  },
  {
   "cell_type": "markdown",
   "id": "bbe98b5a-c861-42ac-a297-7e9694a3e4ed",
   "metadata": {},
   "source": [
    "Method Overloading Approach:\n",
    "\n",
    "*Define multiple methods with the same name but different parameter lists.\n",
    "\n",
    "*Inside each method, implement the logic for object initialization based on the provided parameters."
   ]
  },
  {
   "cell_type": "code",
   "execution_count": 21,
   "id": "195cd1b1-526e-4e43-805e-1f1064501c18",
   "metadata": {},
   "outputs": [
    {
     "name": "stdout",
     "output_type": "stream",
     "text": [
      "Value1 Value2\n",
      "Value1 Default2\n",
      "Default1 Default2\n"
     ]
    }
   ],
   "source": [
    "class MyClass:\n",
    "    def __init__(self, param1=None, param2=None):\n",
    "        if param1 is not None and param2 is not None:\n",
    "            self.attribute1 = param1\n",
    "            self.attribute2 = param2\n",
    "        elif param1 is not None:\n",
    "            self.attribute1 = param1\n",
    "            self.attribute2 = \"Default2\"\n",
    "        else:\n",
    "            self.attribute1 = \"Default1\"\n",
    "            self.attribute2 = \"Default2\"\n",
    "\n",
    "# Creating objects using different constructors\n",
    "obj1 = MyClass(\"Value1\", \"Value2\")\n",
    "obj2 = MyClass(\"Value1\")\n",
    "obj3 = MyClass()\n",
    "\n",
    "# Printing attributes\n",
    "print(obj1.attribute1, obj1.attribute2)  # Output: Value1 Value2\n",
    "print(obj2.attribute1, obj2.attribute2)  # Output: Value1 Default2\n",
    "print(obj3.attribute1, obj3.attribute2)  # Output: Default1 Default2\n"
   ]
  },
  {
   "cell_type": "markdown",
   "id": "fce9edb7-dd00-4946-96c5-fb1c2c589f73",
   "metadata": {},
   "source": [
    "Default Parameter Values Approach:\n",
    "\n",
    "*Define a single constructor (__init__) with default parameter values for some or all of the attributes.\n",
    "\n",
    "*Use default values to allow the constructor to be called with varying numbers of arguments."
   ]
  },
  {
   "cell_type": "code",
   "execution_count": 22,
   "id": "d5c436ce-607d-4f8f-ae76-285eaddbf457",
   "metadata": {},
   "outputs": [
    {
     "name": "stdout",
     "output_type": "stream",
     "text": [
      "Value1 Value2\n",
      "Value1 Default2\n",
      "Default1 Default2\n"
     ]
    }
   ],
   "source": [
    "class MyClass:\n",
    "    def __init__(self, param1=\"Default1\", param2=\"Default2\"):\n",
    "        self.attribute1 = param1\n",
    "        self.attribute2 = param2\n",
    "\n",
    "# Creating objects using different constructors\n",
    "obj1 = MyClass(\"Value1\", \"Value2\")\n",
    "obj2 = MyClass(\"Value1\")\n",
    "obj3 = MyClass()\n",
    "\n",
    "# Printing attributes\n",
    "print(obj1.attribute1, obj1.attribute2)  # Output: Value1 Value2\n",
    "print(obj2.attribute1, obj2.attribute2)  # Output: Value1 Default2\n",
    "print(obj3.attribute1, obj3.attribute2)  # Output: Default1 Default2\n"
   ]
  },
  {
   "cell_type": "markdown",
   "id": "a6856f48-dfde-408a-9f35-a8ad509a76b2",
   "metadata": {},
   "source": [
    "11. What is method overloading, and how is it related to constructors in Python?"
   ]
  },
  {
   "cell_type": "markdown",
   "id": "aa9f1ea6-84f0-48cb-8df1-f429fa158cc0",
   "metadata": {},
   "source": [
    "Method overloading is a concept in object-oriented programming where a class can have multiple methods with the same name but different parameter lists. The method that gets called at runtime depends on the number and types of arguments passed to the method. Method overloading allows a class to define multiple behaviors for a method based on the input it receives. Python does not allow to define multiple methods with the same name differing only in the parameter lists, and the method that gets executed depends on the arguments passed. Python follows a more dynamic approach where method resolution is determined at runtime. Instead, Python uses the most recent definition of a method with a given name and doesn't consider parameter lists.\n",
    "\n",
    "Method overloading is still related to constructors in Python because constructors can be \"simulated\" by creating multiple constructor-like methods, and the appropriate method is called based on the arguments passed.\n",
    "\n"
   ]
  },
  {
   "cell_type": "markdown",
   "id": "d3ffd07a-63a2-4916-8166-d805fc459a68",
   "metadata": {},
   "source": [
    "12. Explain the use of the `super()` function in Python constructors. Provide an example."
   ]
  },
  {
   "cell_type": "markdown",
   "id": "089a5cdd-50ec-491a-b69e-33cab03eb30c",
   "metadata": {},
   "source": [
    "The super() function in Python is used to call a method from a parent or superclass. It is often used within a subclass's method, such as a constructor, to invoke the constructor of its parent class. This is particularly useful in cases of inheritance when you want to extend the behavior of the parent class in the child class while ensuring that the parent class's initialization is also performed."
   ]
  },
  {
   "cell_type": "code",
   "execution_count": 23,
   "id": "3d126789-7265-442d-9b9e-f4b2d0a4b32a",
   "metadata": {},
   "outputs": [
    {
     "name": "stdout",
     "output_type": "stream",
     "text": [
      "Value1\n",
      "Value2\n",
      "Value3\n"
     ]
    }
   ],
   "source": [
    "class Parent:\n",
    "    def __init__(self, attribute1, attribute2):\n",
    "        self.attribute1 = attribute1\n",
    "        self.attribute2 = attribute2\n",
    "\n",
    "class Child(Parent):\n",
    "    def __init__(self, attribute1, attribute2, attribute3):\n",
    "        # Call the constructor of the parent class\n",
    "        super().__init__(attribute1, attribute2)\n",
    "        self.attribute3 = attribute3\n",
    "\n",
    "# Creating an object of the Child class\n",
    "obj = Child(\"Value1\", \"Value2\", \"Value3\")\n",
    "\n",
    "# Accessing attributes from both parent and child classes\n",
    "print(obj.attribute1)  # Output: Value1\n",
    "print(obj.attribute2)  # Output: Value2\n",
    "print(obj.attribute3)  # Output: Value3\n"
   ]
  },
  {
   "cell_type": "markdown",
   "id": "ed5d1bbf-4fb3-46b4-ba26-7e189504addf",
   "metadata": {},
   "source": [
    "13. Create a class called `Book` with a constructor that initializes the `title`, `author`, and `published_year`\n",
    "attributes. Provide a method to display book details."
   ]
  },
  {
   "cell_type": "code",
   "execution_count": 24,
   "id": "f02145b4-70f7-48bd-b5f0-05cd9f94b0ef",
   "metadata": {},
   "outputs": [],
   "source": [
    "class book:\n",
    "    def __init__(self, title, author, published_year):\n",
    "        self.title = title\n",
    "        self.author = author\n",
    "        self.published_year = published_year\n",
    "    \n",
    "    def display_book(self):\n",
    "        print(f\"Book title: \", self.title)\n",
    "        print(\"Author of book: \", self.author)\n",
    "        print(\"Year of Publishing: \", self.published_year)\n",
    "    \n",
    "    "
   ]
  },
  {
   "cell_type": "code",
   "execution_count": 25,
   "id": "ad4691dc-af28-40ea-a35d-7f9fe545d7e6",
   "metadata": {},
   "outputs": [
    {
     "name": "stdout",
     "output_type": "stream",
     "text": [
      "Book title:  Spartan\n",
      "Author of book:  Valerio Massimo Manfredi\n",
      "Year of Publishing:  1988\n"
     ]
    }
   ],
   "source": [
    "book1 = book(\"Spartan\", \"Valerio Massimo Manfredi\", 1988)\n",
    "book1.display_book()"
   ]
  },
  {
   "cell_type": "markdown",
   "id": "6ba2b4f1-b7c1-4bbd-9e62-1aa71661590f",
   "metadata": {},
   "source": [
    "14. Discuss the differences between constructors and regular methods in Python classes."
   ]
  },
  {
   "cell_type": "markdown",
   "id": "7a0a50dc-b62f-4e30-8870-f11995cb94b8",
   "metadata": {},
   "source": [
    "Constructors: Constructors are special methods used to initialize the attributes of an object when it is created. They set up the initial state of the object.\n",
    "\n",
    "Regular Methods: Regular methods are used to define the behavior or operations that objects of the class can perform. They do not initialize the object but rather operate on the object's attributes.\n",
    "\n",
    "Constructors: Constructors are named __init__ and are automatically called when an instance of the class is created.\n",
    "\n",
    "Regular Methods: Regular methods have user-defined names and are called explicitly using the object's name.\n",
    "\n",
    "Constructors: Constructors accept self as the first parameter, which refers to the instance being created. They can also accept additional parameters to set the initial values of object attributes.\n",
    "\n",
    "Regular Methods: Regular methods can accept parameters as needed, but they do not require self as the first parameter (though it is a common convention to include it).\n",
    "\n",
    "Constructors: Constructors are automatically invoked when an object is created using the class name followed by parentheses.\n",
    "\n",
    "Regular Methods: Regular methods are called explicitly using the object's name followed by a dot (e.g., object.method()).\n",
    "\n",
    "Constructors: Constructors do not return values explicitly; they initialize the object's attributes. However, the object itself is created and returned implicitly.\n",
    "\n",
    "Regular Methods: Regular methods can return values as needed using the return statement."
   ]
  },
  {
   "cell_type": "markdown",
   "id": "6e9dc10d-5c8a-460a-8f3a-4d055898c523",
   "metadata": {},
   "source": [
    "15. Explain the role of the `self` parameter in instance variable initialization within a constructor."
   ]
  },
  {
   "cell_type": "markdown",
   "id": "e3962695-9b48-4ff4-8d33-b1667bb64d2d",
   "metadata": {},
   "source": [
    "The self parameter in a constructor plays a critical role in instance variable initialization within a Python class. It is a reference to the instance being created, and it is used to access and set the instance's attributes (instance variables). The self parameter ensures that the attributes being initialized belong to the specific instance, allowing  to create unique and distinct objects.\n",
    "\n",
    "Instance Scope: The self parameter is used to define instance variables, which are unique to each instance of the class. This means that each object can have its own set of attributes with different values.\n",
    "\n",
    "Attribute Initialization: Inside the constructor (typically __init__), you use self to initialize the attributes by assigning values to them. For example, you might set the initial state of the object by assigning values to attributes like self.attribute1, self.attribute2, etc.\n",
    "\n",
    "Accessing Attributes: After initialization, you can access these attributes using self within the class's methods. For example, you can use self.attribute1 to retrieve the value of attribute1 or update it as needed.\n",
    "\n",
    "Instance Isolation: The self parameter ensures that each instance's attributes are isolated from one another. Changes made to an attribute of one object do not affect the same attribute in other objects created from the same class."
   ]
  },
  {
   "cell_type": "markdown",
   "id": "d0a6fe7a-7c00-4fea-a6ec-07374806e85a",
   "metadata": {},
   "source": [
    "16. How do you prevent a class from having multiple instances by using constructors in Python? Provide an\n",
    "example."
   ]
  },
  {
   "cell_type": "markdown",
   "id": "2236c9b2-721e-406c-be93-5acd8b60c31b",
   "metadata": {},
   "source": [
    "In Python, you can prevent a class from having multiple instances by implementing a design pattern called the Singleton Pattern. The Singleton Pattern restricts a class to having only one instance and provides a global point of access to that instance. To achieve this, you can use a combination of a class attribute to store the single instance and a constructor that checks if an instance already exists and returns it if it does."
   ]
  },
  {
   "cell_type": "code",
   "execution_count": 1,
   "id": "881939e1-6e40-43ab-ae19-a33a0d1cc71a",
   "metadata": {},
   "outputs": [
    {
     "name": "stdout",
     "output_type": "stream",
     "text": [
      "True\n",
      "This is a singleton\n",
      "This is a singleton\n"
     ]
    }
   ],
   "source": [
    "class Singleton:\n",
    "    _instance = None\n",
    "\n",
    "    def __new__(cls):\n",
    "        if cls._instance is None:\n",
    "            cls._instance = super(Singleton, cls).__new__(cls)\n",
    "            cls._instance.initialized = False\n",
    "        return cls._instance\n",
    "\n",
    "    def __init__(self):\n",
    "        if not self.initialized:\n",
    "            self.attribute = \"This is a singleton\"\n",
    "            self.initialized = True\n",
    "\n",
    "# Creating instances of the Singleton class\n",
    "singleton1 = Singleton()\n",
    "singleton2 = Singleton()\n",
    "\n",
    "# Checking if the two variables refer to the same instance\n",
    "print(singleton1 is singleton2)  # Output: True\n",
    "\n",
    "# Accessing the attribute of the singleton\n",
    "print(singleton1.attribute)  # Output: This is a singleton\n",
    "print(singleton2.attribute)  # Output: This is a singleton\n"
   ]
  },
  {
   "cell_type": "markdown",
   "id": "56a41ba7-cdd8-4b92-b08a-bb15a4b29173",
   "metadata": {},
   "source": [
    "17. Create a Python class called `Student` with a constructor that takes a list of subjects as a parameter and\n",
    "initializes the `subjects` attribute."
   ]
  },
  {
   "cell_type": "code",
   "execution_count": 2,
   "id": "b8017743-f866-4207-9fce-c3f05d340de0",
   "metadata": {},
   "outputs": [],
   "source": [
    "class Student:\n",
    "    def __init__(self, subject):\n",
    "        self.subject = subject\n",
    "    def display_subject(self):\n",
    "        print(\"Subject\")\n",
    "        for sub in self.subject:\n",
    "            print(sub)"
   ]
  },
  {
   "cell_type": "code",
   "execution_count": 3,
   "id": "24e4bd62-4061-4352-a126-35352b10e5fd",
   "metadata": {},
   "outputs": [
    {
     "name": "stdout",
     "output_type": "stream",
     "text": [
      "Subject\n",
      "English\n",
      "Science\n",
      "Maths\n",
      "Physics\n"
     ]
    }
   ],
   "source": [
    "subject_lists = [\"English\", \"Science\", \"Maths\", \"Physics\"]\n",
    "student1 = Student(subject_lists)\n",
    "student1.display_subject()"
   ]
  },
  {
   "cell_type": "markdown",
   "id": "c79fb7d9-df0a-4f1a-9e3d-bef47983068d",
   "metadata": {},
   "source": [
    "18. What is the purpose of the `__del__` method in Python classes, and how does it relate to constructors?"
   ]
  },
  {
   "cell_type": "markdown",
   "id": "2d5cff41-8da5-453d-aecb-5275bf368d98",
   "metadata": {},
   "source": [
    "The *__del__* method in Python classes, also known as the destructor, is used for cleaning up resources and performing finalization actions before an object is destroyed or deallocated. It is the counterpart to the __init__ constructor method, which is responsible for initializing an object when it is created. The __del__ method is called when an object is about to be deleted, typically when there are no more references to the object"
   ]
  },
  {
   "cell_type": "markdown",
   "id": "efb06d92-b55c-4bb9-8009-4d369f08bc2a",
   "metadata": {},
   "source": [
    "19. Explain the use of constructor chaining in Python. Provide a practical example."
   ]
  },
  {
   "cell_type": "markdown",
   "id": "23a41bae-a832-446d-a188-4fe2d01ad156",
   "metadata": {},
   "source": [
    "Constructor chaining in Python refers to the process of one constructor (usually in a subclass) calling another constructor (typically in the superclass) to perform initialization tasks. This is often used when you have inheritance between classes, and the subclass needs to perform its own initialization in addition to the initialization provided by the superclass.\n",
    "\n",
    "The super() function is commonly used for constructor chaining to call a constructor in the parent class. Using super(),ensure that the initialization logic in the parent class is executed before the subclass-specific initialization."
   ]
  },
  {
   "cell_type": "code",
   "execution_count": 4,
   "id": "2e63ecb7-b479-4aa6-89b0-7c421802c335",
   "metadata": {},
   "outputs": [
    {
     "name": "stdout",
     "output_type": "stream",
     "text": [
      "Name: Alice\n",
      "Age: 10\n"
     ]
    }
   ],
   "source": [
    "class Parent:\n",
    "    def __init__(self, name):\n",
    "        self.name = name\n",
    "\n",
    "class Child(Parent):\n",
    "    def __init__(self, name, age):\n",
    "        super().__init__(name)  # Call the constructor of the parent class\n",
    "        self.age = age\n",
    "\n",
    "    def display_details(self):\n",
    "        print(f\"Name: {self.name}\")\n",
    "        print(f\"Age: {self.age}\")\n",
    "\n",
    "# Creating an object of the Child class\n",
    "child = Child(\"Alice\", 10)\n",
    "\n",
    "# Displaying the details of the child\n",
    "child.display_details()\n"
   ]
  },
  {
   "cell_type": "markdown",
   "id": "cc2f2f3b-98d6-4d4c-9d87-ac5a8b262990",
   "metadata": {},
   "source": [
    "20. Create a Python class called `Car` with a default constructor that initializes the `make` and `model`\n",
    "attributes. Provide a method to display car information."
   ]
  },
  {
   "cell_type": "code",
   "execution_count": 5,
   "id": "a0616ced-6307-4a8e-ae8f-7948235a3802",
   "metadata": {},
   "outputs": [],
   "source": [
    "class Car:\n",
    "    \n",
    "    def __init__(self, make, model):\n",
    "        self.make = make\n",
    "        self.model = model\n",
    "    \n",
    "    def display_info(self):\n",
    "        print(\"Details of the car: \")\n",
    "        print(\"Make: \", self.make)\n",
    "        print(\"Model: \", self.model)"
   ]
  },
  {
   "cell_type": "code",
   "execution_count": 6,
   "id": "64b2651c-4036-410b-b9f7-6a3924f7919f",
   "metadata": {},
   "outputs": [
    {
     "name": "stdout",
     "output_type": "stream",
     "text": [
      "Details of the car: \n",
      "Make:  Honda\n",
      "Model:  City\n"
     ]
    }
   ],
   "source": [
    "car1 = Car(\"Honda\", \"City\")\n",
    "car1.display_info()"
   ]
  },
  {
   "cell_type": "markdown",
   "id": "7219bb05-09ad-4ee1-9d34-b4a11a5b1369",
   "metadata": {
    "tags": []
   },
   "source": [
    "## Inheritance:"
   ]
  },
  {
   "cell_type": "raw",
   "id": "36543b75-ec33-4cf0-a2da-5cc5bea63818",
   "metadata": {},
   "source": [
    "1. What is inheritance in Python? Explain its significance in object-oriented programming."
   ]
  },
  {
   "cell_type": "markdown",
   "id": "93a1b623-6b6c-40bf-a9eb-116928aae97c",
   "metadata": {},
   "source": [
    "Inheritance is a fundamental concept in object-oriented programming (OOP) that allows to create a new class (a subclass or derived class) by inheriting properties and behaviors from an existing class (a superclass or base class).\n",
    "\n",
    "Significance of inheritance in object-oriented programming:\n",
    "\n",
    "Code Reusability: Inheritance allows you to reuse the attributes and methods of an existing class in a new class, reducing code duplication and promoting a more efficient and maintainable codebase. You can build upon the functionality of a base class without starting from scratch.\n",
    "\n",
    "Abstraction: Inheritance enables the creation of abstract base classes that define common attributes and behaviors shared by multiple subclasses. This abstraction simplifies the design and maintenance of complex systems by providing a clear structure for classes and their relationships.\n",
    "\n",
    "Hierarchy and Organization: Inheritance creates a hierarchy of classes, with subclasses inheriting properties and behaviors from their superclasses. This hierarchy provides a structured and intuitive way to organize and model real-world relationships and concepts in your code.\n",
    "\n",
    "Polymorphism: Inheritance is closely related to the concept of polymorphism, which allows objects of derived classes to be treated as objects of the base class. This enables dynamic binding, where the appropriate method is called based on the actual class of the object, facilitating flexibility and extensibility in your code.\n",
    "\n",
    "Specialization: Subclasses can add their own attributes and methods or override those inherited from the superclass to specialize the behavior of objects. This customization allows you to create different variations of objects based on common templates.\n",
    "\n",
    "Efficiency: Inheritance can lead to more efficient code development and maintenance since you can make changes or updates in a single place (the base class) and have those changes reflected in all subclasses. This reduces the risk of errors and inconsistencies."
   ]
  },
  {
   "cell_type": "markdown",
   "id": "af60611e-712c-4bcf-ba78-bfefbd900738",
   "metadata": {},
   "source": [
    "2. Differentiate between single inheritance and multiple inheritance in Python. Provide examples for each."
   ]
  },
  {
   "cell_type": "markdown",
   "id": "ad1dcaa0-69e0-493d-a96e-7baabe7df71a",
   "metadata": {},
   "source": [
    "Single Inheritance:\n",
    "\n",
    "Definition: Single inheritance refers to the scenario where a class inherits from a single base class. This means that a subclass can have one and only one direct superclass. It creates a linear, one-dimensional hierarchy of classes."
   ]
  },
  {
   "cell_type": "code",
   "execution_count": 7,
   "id": "b2b44834-be80-4e66-8198-628c2c04c4de",
   "metadata": {},
   "outputs": [
    {
     "name": "stdout",
     "output_type": "stream",
     "text": [
      "Animal speaks\n",
      "Dog barks\n"
     ]
    }
   ],
   "source": [
    "class Animal:\n",
    "    def speak(self):\n",
    "        print(\"Animal speaks\")\n",
    "\n",
    "class Dog(Animal):\n",
    "    def bark(self):\n",
    "        print(\"Dog barks\")\n",
    "\n",
    "# Dog is a subclass of Animal (single inheritance)\n",
    "dog = Dog()\n",
    "dog.speak()  # Inherits \"speak\" from Animal\n",
    "dog.bark()\n"
   ]
  },
  {
   "cell_type": "markdown",
   "id": "f64b82fa-a46e-4c75-881f-2c01f4e06c7b",
   "metadata": {},
   "source": [
    "Multiple Inheritance:\n",
    "\n",
    "Definition: Multiple inheritance refers to the scenario where a class inherits from multiple base classes. This means that a subclass can have more than one direct superclass, and it inherits attributes and methods from all of them."
   ]
  },
  {
   "cell_type": "code",
   "execution_count": 8,
   "id": "934af681-c9ef-474b-80c5-c23aef8e721d",
   "metadata": {},
   "outputs": [
    {
     "name": "stdout",
     "output_type": "stream",
     "text": [
      "Method from Parent1\n",
      "Method from Parent2\n",
      "Method from Child\n"
     ]
    }
   ],
   "source": [
    "class Parent1:\n",
    "    def method1(self):\n",
    "        print(\"Method from Parent1\")\n",
    "\n",
    "class Parent2:\n",
    "    def method2(self):\n",
    "        print(\"Method from Parent2\")\n",
    "\n",
    "class Child(Parent1, Parent2):\n",
    "    def method3(self):\n",
    "        print(\"Method from Child\")\n",
    "\n",
    "# Child inherits from both Parent1 and Parent2 (multiple inheritance)\n",
    "child = Child()\n",
    "child.method1()  # Inherits \"method1\" from Parent1\n",
    "child.method2()  # Inherits \"method2\" from Parent2\n",
    "child.method3()\n"
   ]
  },
  {
   "cell_type": "markdown",
   "id": "e410d03c-3008-4085-865a-676054fcbbd0",
   "metadata": {},
   "source": [
    "3. Create a Python class called `Vehicle` with attributes `color` and `speed`. Then, create a child class called\n",
    "`Car` that inherits from `Vehicle` and adds a `brand` attribute. Provide an example of creating a `Car` object."
   ]
  },
  {
   "cell_type": "code",
   "execution_count": 26,
   "id": "54ef7dc6-d3d4-43b3-8f3b-50f45111dd13",
   "metadata": {},
   "outputs": [],
   "source": [
    "class Vechicle:\n",
    "    def __init__(self, color, speed):\n",
    "        self.color = color\n",
    "        self.speed = speed\n",
    "class Car(Vechicle):\n",
    "    def __init__(self, color, speed, brand):\n",
    "        super().__init__(color, speed)\n",
    "        self.brand = brand"
   ]
  },
  {
   "cell_type": "code",
   "execution_count": 27,
   "id": "dfd28f1b-9685-4825-9cbc-0ba472e41e78",
   "metadata": {},
   "outputs": [],
   "source": [
    "my_car = Car(\"Red\", 160, \"Ferrari\")"
   ]
  },
  {
   "cell_type": "markdown",
   "id": "357e1da8-75fa-4268-89bd-ddc2a5e0b602",
   "metadata": {},
   "source": [
    "4. Explain the concept of method overriding in inheritance. Provide a practical example."
   ]
  },
  {
   "cell_type": "markdown",
   "id": "45e6339d-290b-48f4-95d2-45ed13f6a281",
   "metadata": {},
   "source": [
    "Method overriding is a fundamental concept in object-oriented programming and inheritance, where a subclass provides a specific implementation of a method that is already defined in its superclass. Method overriding allows you to customize and specialize the behavior of a method in the subclass while maintaining the method's signature (name and parameters) from the superclass. This enables polymorphism, where objects of the subclass is used interchangeably with objects of the superclass while invoking the appropriate method based on the actual class of the object."
   ]
  },
  {
   "cell_type": "code",
   "execution_count": 20,
   "id": "e5789c97-b067-4355-83c4-d247d202a52d",
   "metadata": {},
   "outputs": [
    {
     "name": "stdout",
     "output_type": "stream",
     "text": [
      "Animal speaks\n",
      "Dog barks\n",
      "Cat meows\n"
     ]
    }
   ],
   "source": [
    "class Animal:\n",
    "    def speak(self):\n",
    "        print(\"Animal speaks\")\n",
    "\n",
    "class Dog(Animal):\n",
    "    def speak(self):\n",
    "        print(\"Dog barks\")\n",
    "\n",
    "class Cat(Animal):\n",
    "    def speak(self):\n",
    "        print(\"Cat meows\")\n",
    "\n",
    "# Example usage\n",
    "if __name__ == \"__main__\":\n",
    "    animal = Animal()\n",
    "    dog = Dog()\n",
    "    cat = Cat()\n",
    "\n",
    "    # Using method overriding and polymorphism\n",
    "    animal.speak()  # Calls the \"speak\" method of the Animal class\n",
    "    dog.speak()     # Calls the \"speak\" method of the Dog class\n",
    "    cat.speak()     # Calls the \"speak\" method of the Cat class\n"
   ]
  },
  {
   "cell_type": "markdown",
   "id": "f29887b1-20e2-487d-bbb0-b7650f3af830",
   "metadata": {},
   "source": [
    "5. How can you access the methods and attributes of a parent class from a child class in Python? Give an\n",
    "example."
   ]
  },
  {
   "cell_type": "markdown",
   "id": "f60b4cce-04c9-4295-923e-5955f25393f9",
   "metadata": {},
   "source": [
    "In Python, you can access the methods and attributes of a parent class from a child class by using the super() function. The super() function allows you to call methods or access attributes of the parent class, also known as the superclass or base class, from within the child class."
   ]
  },
  {
   "cell_type": "code",
   "execution_count": 28,
   "id": "cb9ee22d-2a70-49f7-acb9-0b4f9f59cc44",
   "metadata": {},
   "outputs": [
    {
     "name": "stdout",
     "output_type": "stream",
     "text": [
      "Parent attributes from child:\n",
      "attribute1: A\n",
      "attribute2: B\n",
      "Calling parent method from child:\n",
      "Parent method\n",
      "Child method\n"
     ]
    }
   ],
   "source": [
    "class Parent:\n",
    "    def __init__(self, attribute1, attribute2):\n",
    "        self.attribute1 = attribute1\n",
    "        self.attribute2 = attribute2\n",
    "\n",
    "    def parent_method(self):\n",
    "        print(\"Parent method\")\n",
    "\n",
    "class Child(Parent):\n",
    "    def __init__(self, attribute1, attribute2, attribute3):\n",
    "        super().__init__(attribute1, attribute2)  # Call the parent class constructor\n",
    "        self.attribute3 = attribute3\n",
    "\n",
    "    def child_method(self):\n",
    "        print(\"Child method\")\n",
    "\n",
    "    def combined_method(self):\n",
    "        print(\"Calling parent method from child:\")\n",
    "        super().parent_method()  # Call the parent class method\n",
    "\n",
    "# Example usage\n",
    "if __name__ == \"__main__\":\n",
    "    child = Child(\"A\", \"B\", \"C\")\n",
    "\n",
    "    # Access parent class attributes\n",
    "    print(\"Parent attributes from child:\")\n",
    "    print(\"attribute1:\", child.attribute1)\n",
    "    print(\"attribute2:\", child.attribute2)\n",
    "\n",
    "    # Call parent class method from child\n",
    "    child.combined_method()\n",
    "\n",
    "    # Call child class method\n",
    "    child.child_method()\n"
   ]
  },
  {
   "cell_type": "markdown",
   "id": "a766f695-ed65-409e-bb06-d6ae8fd1e6fa",
   "metadata": {},
   "source": [
    "6. Discuss the use of the `super()` function in Python inheritance. When and why is it used? Provide an\n",
    "example."
   ]
  },
  {
   "cell_type": "markdown",
   "id": "8136fc8c-272f-48bb-955b-a765dcb27346",
   "metadata": {},
   "source": [
    "The super() function in Python is used in the context of inheritance to call methods and access attributes of the parent class (superclass or base class) from a child class (subclass). It provides a way to extend or customize the behavior of a method defined in the parent class, while still being able to reuse the logic provided by the parent class. The primary use cases for super() include:"
   ]
  },
  {
   "cell_type": "markdown",
   "id": "95319091-99a4-4dea-ae22-033b5aa593bc",
   "metadata": {},
   "source": [
    "Calling the Parent Class Constructor: It's often used in the child class's constructor to call the constructor of the parent class, ensuring that the parent class's attributes are properly initialized.\n",
    "\n",
    "Method Overriding: When you override a method in the child class with a method of the same name from the parent class, you can use super() to call the parent class's method and then add or modify behavior as needed.\n",
    "\n",
    "Chaining Constructors: In cases of multiple inheritance, super() allows you to chain constructors from multiple parent classes.\n",
    "\n",
    "Maintaining Code DRYness: It promotes the Don't Repeat Yourself (DRY) principle by reducing code duplication and ensuring consistent behavior across classes in an inheritance hierarchy."
   ]
  },
  {
   "cell_type": "code",
   "execution_count": 29,
   "id": "8fc248de-d18a-42f1-be6b-0e2432852ca0",
   "metadata": {},
   "outputs": [
    {
     "name": "stdout",
     "output_type": "stream",
     "text": [
      "Attributes:\n",
      "attribute1: A\n",
      "attribute2: B\n",
      "attribute3: C\n",
      "Methods:\n",
      "Method in Parent class\n",
      "Method in Child class\n"
     ]
    }
   ],
   "source": [
    "class Parent:\n",
    "    def __init__(self, attribute1, attribute2):\n",
    "        self.attribute1 = attribute1\n",
    "        self.attribute2 = attribute2\n",
    "\n",
    "    def method(self):\n",
    "        print(\"Method in Parent class\")\n",
    "\n",
    "class Child(Parent):\n",
    "    def __init__(self, attribute1, attribute2, attribute3):\n",
    "        super().__init__(attribute1, attribute2)  # Call the constructor of the Parent class\n",
    "        self.attribute3 = attribute3\n",
    "\n",
    "    def method(self):\n",
    "        super().method()  # Call the method from the Parent class\n",
    "        print(\"Method in Child class\")\n",
    "\n",
    "# Example usage\n",
    "if __name__ == \"__main__\":\n",
    "    child = Child(\"A\", \"B\", \"C\")\n",
    "\n",
    "    print(\"Attributes:\")\n",
    "    print(\"attribute1:\", child.attribute1)\n",
    "    print(\"attribute2:\", child.attribute2)\n",
    "    print(\"attribute3:\", child.attribute3)\n",
    "\n",
    "    print(\"Methods:\")\n",
    "    child.method()\n"
   ]
  },
  {
   "cell_type": "markdown",
   "id": "09b485c3-a9b5-46f6-a5a6-eabd1fa321dc",
   "metadata": {},
   "source": [
    "7. Create a Python class called `Animal` with a method `speak()`. Then, create child classes `Dog` and `Cat`"
   ]
  },
  {
   "cell_type": "code",
   "execution_count": 30,
   "id": "c6099d86-32e2-43d9-8f6b-33ebc7cca96a",
   "metadata": {},
   "outputs": [],
   "source": [
    "class Animal:\n",
    "    def speak(self):\n",
    "        pass\n",
    "class Dog(Animal):\n",
    "    def speak(self):\n",
    "        return \"Woof!!!\"\n",
    "\n",
    "class Cat(Animal):\n",
    "    def speak(self):\n",
    "        return \"Meow!!!\""
   ]
  },
  {
   "cell_type": "code",
   "execution_count": 32,
   "id": "3e2d6190-0b2e-4c1b-9ded-2bf2b33bb4b9",
   "metadata": {},
   "outputs": [
    {
     "name": "stdout",
     "output_type": "stream",
     "text": [
      "Dog say Woof!!!\n",
      "Cat say Meow!!!\n"
     ]
    }
   ],
   "source": [
    "dog = Dog()\n",
    "cat = Cat()\n",
    "print(\"Dog say\", dog.speak())\n",
    "print(\"Cat say\", cat.speak())"
   ]
  },
  {
   "cell_type": "markdown",
   "id": "e501592c-d3aa-49b6-83c8-1c2fd32a5c27",
   "metadata": {},
   "source": [
    "8. Explain the role of the `isinstance()` function in Python and how it relates to inheritance."
   ]
  },
  {
   "cell_type": "markdown",
   "id": "6f15b3a5-9820-49ba-8450-27a66df28001",
   "metadata": {},
   "source": [
    "The isinstance() function in Python is used to check if an object belongs to a particular class or is an instance of a class. It plays a crucial role in determining the class hierarchy and how an object is related to other classes, especially in the context of inheritance.\n",
    "\n"
   ]
  },
  {
   "cell_type": "markdown",
   "id": "dbb6390d-d906-49d6-9e96-b3f504aa27f3",
   "metadata": {},
   "source": [
    "9. What is the purpose of the `issubclass()` function in Python? Provide an example."
   ]
  },
  {
   "cell_type": "markdown",
   "id": "6c80b956-3401-4ea3-8790-8476728877ec",
   "metadata": {},
   "source": [
    "The issubclass() function in Python is used to check if a given class is a subclass of another class. It helps determine the inheritance relationship between classes, allowing to check if one class is derived from another. The primary purpose of the issubclass() function is to perform class-level checks for class inheritance."
   ]
  },
  {
   "cell_type": "markdown",
   "id": "3c1302b1-0bd6-441c-b9ec-54f4846a8b05",
   "metadata": {},
   "source": [
    "10. Discuss the concept of constructor inheritance in Python. How are constructors inherited in child classes?"
   ]
  },
  {
   "cell_type": "markdown",
   "id": "6dbe29d9-6d4f-4b03-9954-025945f3d322",
   "metadata": {},
   "source": [
    "In Python, constructor inheritance refers to how constructors of parent classes (superclasses or base classes) are inherited and used in child classes (subclasses) within an inheritance hierarchy. Constructors are special methods in Python, typically named __init__, and they are used to initialize object attributes when an instance of a class is created.\n",
    "\n",
    "Child Class Constructors: When a child class is defined, it can have its own constructor (__init__ method) in which it initializes its own attributes specific to that class. The child class's constructor can call the constructor of the parent class using the super() function to ensure that the attributes of the parent class are also initialized."
   ]
  },
  {
   "cell_type": "markdown",
   "id": "17531549-91b2-4f57-b53f-a57c8f1b691f",
   "metadata": {},
   "source": [
    "11. Create a Python class called `Shape` with a method `area()` that calculates the area of a shape. Then, create child classes `Circle` and `Rectangle` that inherit from `Shape` and implement the `area()` method\n",
    "accordingly. Provide an example."
   ]
  },
  {
   "cell_type": "code",
   "execution_count": 33,
   "id": "5ff236f5-d70e-474e-afe5-1ba221d26c8b",
   "metadata": {},
   "outputs": [],
   "source": [
    "class Shape:\n",
    "    def area(self):\n",
    "        pass\n",
    "\n",
    "class circle(Shape):\n",
    "    def __init__(self, radius):\n",
    "        self.radius = radius\n",
    "    \n",
    "    def area(self):\n",
    "        return self.radius * 3.14\n",
    "\n",
    "class rectangle(Shape):\n",
    "    def __init__(self, length, width):\n",
    "        self.length = length\n",
    "        self.width = width\n",
    "    \n",
    "    def area(self):\n",
    "        return self.length * self.width"
   ]
  },
  {
   "cell_type": "code",
   "execution_count": 40,
   "id": "c5e729cb-851f-47c7-afa9-00ef82d1b041",
   "metadata": {},
   "outputs": [
    {
     "name": "stdout",
     "output_type": "stream",
     "text": [
      "Area of circle is:  31.4\n",
      "Area of rectangle is:  20\n"
     ]
    }
   ],
   "source": [
    "circle1 = circle(10)\n",
    "rect1 = rectangle(5,4)\n",
    "print(\"Area of circle is: \", round(circle1.area(),3))\n",
    "print(\"Area of rectangle is: \", rect1.area())"
   ]
  },
  {
   "cell_type": "markdown",
   "id": "757d64b0-a3fa-4902-8395-96508f958bf2",
   "metadata": {},
   "source": [
    "12. Explain the use of abstract base classes (ABCs) in Python and how they relate to inheritance. Provide an\n",
    "example using the `abc` module."
   ]
  },
  {
   "cell_type": "markdown",
   "id": "57f475bf-8ce0-4ef2-9180-e81577385465",
   "metadata": {},
   "source": [
    "Abstract Base Classes (ABCs) in Python are a way to define abstract classes that serve as templates for other classes. An abstract class is a class that cannot be instantiated on its own and is meant to be subclassed. ABCs provide a way to define a common interface for a group of related classes, ensuring that specific methods and attributes are implemented in those classes. They play a significant role in enforcing a certain structure and behavior in child classes."
   ]
  },
  {
   "cell_type": "code",
   "execution_count": 41,
   "id": "040e0420-0966-46b4-a2db-e207ddfd6aee",
   "metadata": {},
   "outputs": [
    {
     "name": "stdout",
     "output_type": "stream",
     "text": [
      "Area: 78.5\n",
      "Area: 24\n",
      "Area: 16.0\n"
     ]
    }
   ],
   "source": [
    "from abc import ABC, abstractmethod\n",
    "\n",
    "class Shape(ABC):\n",
    "    @abstractmethod\n",
    "    def area(self):\n",
    "        pass\n",
    "\n",
    "class Circle(Shape):\n",
    "    def __init__(self, radius):\n",
    "        self.radius = radius\n",
    "\n",
    "    def area(self):\n",
    "        return 3.14 * self.radius ** 2\n",
    "\n",
    "class Rectangle(Shape):\n",
    "    def __init__(self, length, width):\n",
    "        self.length = length\n",
    "        self.width = width\n",
    "\n",
    "    def area(self):\n",
    "        return self.length * self.width\n",
    "\n",
    "class Triangle(Shape):\n",
    "    def __init__(self, base, height):\n",
    "        self.base = base\n",
    "        self.height = height\n",
    "\n",
    "    def area(self):\n",
    "        return 0.5 * self.base * self.height\n",
    "\n",
    "# Example usage\n",
    "if __name__ == \"__main__\":\n",
    "    circle = Circle(5)\n",
    "    rectangle = Rectangle(4, 6)\n",
    "    triangle = Triangle(4, 8)\n",
    "\n",
    "    shapes = [circle, rectangle, triangle]\n",
    "\n",
    "    for shape in shapes:\n",
    "        print(f\"Area: {shape.area()}\")\n"
   ]
  },
  {
   "cell_type": "markdown",
   "id": "dba526e0-ca6d-42cb-a016-87c0fa62b9ec",
   "metadata": {},
   "source": [
    "13. How can you prevent a child class from modifying certain attributes or methods inherited from a parent\n",
    "class in Python?"
   ]
  },
  {
   "cell_type": "markdown",
   "id": "3d6cb885-34dd-44c3-a6d5-7715b70eff72",
   "metadata": {},
   "source": [
    "In Python, you can prevent a child class from modifying certain attributes or methods inherited from a parent class by using access control and encapsulation techniques. Here are two common approaches:\n",
    "\n",
    "Private Attributes and Methods: You can prefix the attributes or methods you want to protect with a double underscore (__). This makes them \"private,\" and Python name mangling ensures that they are not easily accessible from outside the class. While this doesn't completely prevent modification, it discourages it by convention.\n",
    "\n",
    "Encapsulation with Getters and Setters: Another approach is to provide getter and setter methods for the attributes you want to protect. The getter methods allow reading the values, and the setter methods allow modifying the values while applying certain rules or restrictions. This provides better control over how attributes are accessed and modified."
   ]
  },
  {
   "cell_type": "markdown",
   "id": "9ef71e66-7d46-4c4d-bd79-a021a0ffb249",
   "metadata": {},
   "source": [
    "14. Create a Python class called `Employee` with attributes `name` and `salary`. Then, create a child class\n",
    "`Manager` that inherits from `Employee` and adds an attribute `department`. Provide an example."
   ]
  },
  {
   "cell_type": "code",
   "execution_count": 44,
   "id": "274dabea-466b-4078-b79f-05eeaf5fe778",
   "metadata": {},
   "outputs": [],
   "source": [
    "class Employee:\n",
    "    def __init__(self, name, salary):\n",
    "        self.name = name\n",
    "        self.salary = salary\n",
    "    def display(self):\n",
    "        return f\"Name: {self.name}, Salary: {self.salary}\"\n",
    "class Manager(Employee):\n",
    "    def __init__(self, name, salary, department):\n",
    "        super().__init__(name, salary)\n",
    "        self.department = department\n",
    "    def display(self):\n",
    "        return f\"Name: {self.name}, Salary: {self.salary}, Department: {self.department}\""
   ]
  },
  {
   "cell_type": "code",
   "execution_count": 45,
   "id": "d337d202-ac3d-4a04-a5c1-2df52b479159",
   "metadata": {},
   "outputs": [
    {
     "data": {
      "text/plain": [
       "'Name: Alice, Salary: 500000, Department: HR'"
      ]
     },
     "execution_count": 45,
     "metadata": {},
     "output_type": "execute_result"
    }
   ],
   "source": [
    "employee1 = Manager(\"Alice\", 500000, \"HR\")\n",
    "employee1.display()"
   ]
  },
  {
   "cell_type": "markdown",
   "id": "5de3f2b4-d10a-4795-8687-9452c96dc40c",
   "metadata": {},
   "source": [
    "15. Discuss the concept of method overloading in Python inheritance. How does it differ from method\n",
    "overriding?"
   ]
  },
  {
   "cell_type": "markdown",
   "id": "7d01c2c9-d956-4594-89f5-6c6b178b1d3d",
   "metadata": {},
   "source": [
    "Method Overloading:\n",
    "\n",
    "Method overloading allows a class to define multiple methods with the same name but different parameters. This means you can have multiple methods with the same name, as long as the number or types of their parameters differ.\n",
    "\n",
    "Python does not support method overloading directly as some other languages do (e.g., Java or C++). In Python, you can define multiple methods with the same name, but only the latest defined method will be considered. The parameters and their types are not used to distinguish between overloaded methods.\n",
    "\n",
    "In Python, method overloading is achieved through default arguments or variable-length argument lists (e.g., *args, **kwargs) to create methods that can handle different numbers or types of arguments.\n",
    "\n",
    "Method Overriding:\n",
    "\n",
    "Method overriding is the process of providing a specific implementation of a method in a child class that is already defined in the parent class. The child class's method takes precedence when the method is called on an instance of the child class.\n",
    "\n",
    "Method overriding allows you to customize or extend the behavior of a method provided by the parent class."
   ]
  },
  {
   "cell_type": "markdown",
   "id": "92fc4e79-11e7-4947-abbf-3e4ab015ca92",
   "metadata": {},
   "source": [
    "16. Explain the purpose of the `__init__()` method in Python inheritance and how it is utilized in child classes."
   ]
  },
  {
   "cell_type": "markdown",
   "id": "0e84644f-6422-44d5-a27d-65a0dea9fda9",
   "metadata": {},
   "source": [
    "\n",
    "The __init__() method in Python is a special method (also known as a constructor) that is automatically called when an instance of a class is created. Its primary purpose is to initialize the attributes of an object, allowing you to set the initial state of the object when it is first created. This method is an integral part of Python inheritance and plays a crucial role in child classes.\n",
    "\n",
    "Here's how the __init__() method works and its role in inheritance:\n",
    "\n",
    "Initialization of Attributes: The __init__() method is used to initialize the attributes (data members) of an object. When you create an instance of a class, the __init__() method is automatically called, and you can provide values for the object's attributes during instantiation.\n",
    "\n",
    "Inheritance in Child Classes: In child classes that inherit from a parent class, the __init__() method can be used to initialize attributes specific to the child class. Child classes often call the __init__() method of the parent class using the super() function to ensure that attributes of the parent class are also initialized. This allows you to reuse and extend the initialization behavior of the parent class.\n",
    "\n",
    "Method Overriding: The __init__() method can be overridden in child classes, just like other methods. If a child class provides its own __init__() method, it can extend or customize the initialization process while calling the parent class's __init__() method using super() to ensure that the parent class's attributes are properly initialized."
   ]
  },
  {
   "cell_type": "markdown",
   "id": "f009e661-59d0-4959-81a1-5954baaddc54",
   "metadata": {},
   "source": [
    "17. Create a Python class called `Bird` with a method `fly()`. Then, create child classes `Eagle` and `Sparrow` that inherit from `Bird` and implement the `fly()` method differently. Provide an example of using these\n",
    "classes."
   ]
  },
  {
   "cell_type": "code",
   "execution_count": 49,
   "id": "0a01ef74-480b-4ee1-ad91-8cd9d4f7c4d7",
   "metadata": {},
   "outputs": [],
   "source": [
    "class Bird:\n",
    "    def fly(self):\n",
    "        return \"The bird can fly\"\n",
    "class Eagle(Bird):\n",
    "    def fly(self):\n",
    "        return \"Eagle fly above the cloud\"\n",
    "class Sparrow(Bird):\n",
    "    def fly(self):\n",
    "        return \"Sparrow fly swiftly\"\n",
    "    "
   ]
  },
  {
   "cell_type": "code",
   "execution_count": 50,
   "id": "ab8882f9-07a7-4cd5-ba4a-d2b24f17b2a1",
   "metadata": {},
   "outputs": [
    {
     "name": "stdout",
     "output_type": "stream",
     "text": [
      "Bird: The bird can fly\n",
      "Eagle: Eagle fly above the cloud\n",
      "Sparrow: Sparrow fly swiftly\n"
     ]
    }
   ],
   "source": [
    "bird = Bird()\n",
    "eagle = Eagle()\n",
    "sparrow = Sparrow()\n",
    "\n",
    "print(\"Bird:\", bird.fly())  \n",
    "print(\"Eagle:\", eagle.fly())  \n",
    "print(\"Sparrow:\", sparrow.fly())  "
   ]
  },
  {
   "cell_type": "markdown",
   "id": "87470686-c9bc-4890-9757-8e56b531f47e",
   "metadata": {},
   "source": [
    "18. What is the \"diamond problem\" in multiple inheritance, and how does Python address it?"
   ]
  },
  {
   "cell_type": "markdown",
   "id": "10e0e361-a304-4c60-bede-e10f865093df",
   "metadata": {},
   "source": [
    "The \"diamond problem\" is a complication that can arise in programming languages that support multiple inheritance, such as C++ and Python. It occurs when a particular class inherits from two or more classes that have a common ancestor. This can lead to ambiguity and issues when resolving method or attribute lookups.\n",
    "\n",
    "In Python, this problem is addressed using the method resolution order (MRO) and the C3 linearization algorithm. The C3 linearization algorithm ensures that the method resolution order follows a consistent and predictable order. Python uses C3 linearization to determine the order in which base classes are searched for method or attribute lookups.\n",
    "\n",
    "Python's approach to the diamond problem is as follows:\n",
    "\n",
    "When you create a class hierarchy that results in multiple inheritance, Python calculates the method resolution order for classes involved in the hierarchy.\n",
    "\n",
    "The method resolution order is a linearized sequence of classes, ensuring that method and attribute lookups follow a predictable order, and it avoids ambiguities.\n",
    "\n",
    "The super() function, when used in a method, follows the method resolution order to call the next method in the hierarchy.\n"
   ]
  },
  {
   "cell_type": "markdown",
   "id": "4aeb1f27-86fc-47ec-88b1-17805855c35f",
   "metadata": {},
   "source": [
    "19. Discuss the concept of \"is-a\" and \"has-a\" relationships in inheritance, and provide examples of each."
   ]
  },
  {
   "cell_type": "markdown",
   "id": "f51f5286-312b-4e73-9aa1-7490a4cec6a4",
   "metadata": {},
   "source": [
    "\"is-a\" Relationship (Inheritance):\n",
    "\n",
    "The \"is-a\" relationship is also known as inheritance or specialization. It implies that one class is a specialized version of another class. In other words, a child class is a type of the parent class, and it inherits its attributes and behaviors. This relationship is typically represented through class inheritance.\n",
    "\n",
    "Example: If you have a class Vehicle, you can create specialized classes like Car and Bicycle that inherit from the Vehicle class. This relationship can be expressed as \"A Car is a Vehicle\" and \"A Bicycle is a Vehicle.\""
   ]
  },
  {
   "cell_type": "code",
   "execution_count": 51,
   "id": "4a55eed0-a4a0-4f4d-8527-d801f63ce2ab",
   "metadata": {},
   "outputs": [],
   "source": [
    "class Vehicle:\n",
    "    def move(self):\n",
    "        pass\n",
    "\n",
    "class Car(Vehicle):\n",
    "    def move(self):\n",
    "        return \"Car is moving.\"\n",
    "\n",
    "class Bicycle(Vehicle):\n",
    "    def move(self):\n",
    "        return \"Bicycle is moving.\"\n"
   ]
  },
  {
   "cell_type": "markdown",
   "id": "52786c43-94e2-4a54-a432-51d345eed337",
   "metadata": {},
   "source": [
    "\"has-a\" Relationship (Composition):\n",
    "\n",
    "The \"has-a\" relationship, also known as composition, implies that a class contains another class as a part or component. It represents a class that has a reference to another class as an attribute. This relationship is used when one class \"has\" or \"contains\" objects of another class.\n",
    "\n",
    "Example: If you have a class Book and a class Library, you can say that \"A Library has Books.\" The Library class contains a collection of Book objects."
   ]
  },
  {
   "cell_type": "code",
   "execution_count": 52,
   "id": "453a8f41-9040-45eb-8d57-f03f12da049b",
   "metadata": {},
   "outputs": [],
   "source": [
    "class Book:\n",
    "    def __init__(self, title):\n",
    "        self.title = title\n",
    "\n",
    "class Library:\n",
    "    def __init__(self):\n",
    "        self.books = []\n",
    "\n",
    "    def add_book(self, book):\n",
    "        self.books.append(book)\n"
   ]
  },
  {
   "cell_type": "markdown",
   "id": "ae145de2-744d-4548-8994-41d0dcbb661f",
   "metadata": {},
   "source": [
    "In summary:\n",
    "\n",
    "\"is-a\" relationships (inheritance) are used when a class is a specialized version of another class, and you want to create a hierarchy of classes with shared attributes and behaviors.\n",
    "\n",
    "\"has-a\" relationships (composition) are used when one class contains or is composed of objects of another class, and you want to create more complex objects by combining simpler components.\n",
    "\n",
    "\n",
    "\n",
    "\n",
    "\n"
   ]
  },
  {
   "cell_type": "markdown",
   "id": "fc7302c2-4050-455a-9635-eb3aaf9c17da",
   "metadata": {},
   "source": [
    "20. Create a Python class hierarchy for a university system. Start with a base class `Person` and create child\n",
    "classes `Student` and `Professor`, each with their own attributes and methods. Provide an example of using\n",
    "these classes in a university context."
   ]
  },
  {
   "cell_type": "code",
   "execution_count": 53,
   "id": "3af28328-40cf-4b00-9c30-0023c2a41e24",
   "metadata": {},
   "outputs": [],
   "source": [
    "class Person:\n",
    "    def __init__(self, name, age):\n",
    "        self.name = name\n",
    "        self.age = age\n",
    "        \n",
    "class Student(Person):\n",
    "    def __init__(self, name, age, student_id, subject):\n",
    "        super().__init__(name, age)\n",
    "        self.student_id = student_id\n",
    "        self.subject = subject\n",
    "    def student_info(self):\n",
    "        return f\"{self.name} studies {self.subject}\"\n",
    "    \n",
    "class Professor(Person):\n",
    "    def __init__(self, name, age, employe_id, subject):\n",
    "        super().__init__(name, age)\n",
    "        self.employe_id = employe_id\n",
    "        self.subject = subject\n",
    "    \n",
    "    def teacher_info(self):\n",
    "        return f\"{self.name} teaches {self.subject}\"\n",
    "    "
   ]
  },
  {
   "cell_type": "code",
   "execution_count": 55,
   "id": "584f1203-9b8e-40e6-99cb-b2aa0f6c3412",
   "metadata": {},
   "outputs": [],
   "source": [
    "student1 = Student(\"Alice\", 20, \"ST0145\", \"Biology\")\n",
    "teacher1 = Professor(\"Dr. Smith\", 45, \"EID105\",\"Mathematics\")"
   ]
  },
  {
   "cell_type": "code",
   "execution_count": 58,
   "id": "709fccb5-30ec-4e74-95d2-a34f51fc08ab",
   "metadata": {},
   "outputs": [
    {
     "data": {
      "text/plain": [
       "'Alice studies Biology'"
      ]
     },
     "execution_count": 58,
     "metadata": {},
     "output_type": "execute_result"
    }
   ],
   "source": [
    "student1.student_info()"
   ]
  },
  {
   "cell_type": "code",
   "execution_count": 59,
   "id": "e4f03c32-e12d-4466-b5a8-87c698ce9743",
   "metadata": {},
   "outputs": [
    {
     "data": {
      "text/plain": [
       "'Dr. Smith teaches Mathematics'"
      ]
     },
     "execution_count": 59,
     "metadata": {},
     "output_type": "execute_result"
    }
   ],
   "source": [
    "teacher1.teacher_info()"
   ]
  },
  {
   "cell_type": "markdown",
   "id": "c7a5b2d2-d600-4f65-9899-7d63deca1bc6",
   "metadata": {
    "tags": []
   },
   "source": [
    "## Encapsulation:"
   ]
  },
  {
   "cell_type": "markdown",
   "id": "45b11bcc-b7bb-46ec-bc8a-5216eeb7c161",
   "metadata": {},
   "source": [
    "1. Explain the concept of encapsulation in Python. What is its role in object-oriented programming?"
   ]
  },
  {
   "cell_type": "markdown",
   "id": "b75a0892-b3f5-47a8-b876-db04b01b2f95",
   "metadata": {},
   "source": [
    "Encapsulation is one of the fundamental concepts of object-oriented programming (OOP) and is a key part of the OOP principles. It refers to the practice of bundling the data (attributes) and the methods (functions) that operate on that data into a single unit called a class. The class serves as a blueprint for creating objects, and encapsulation restricts direct access to some of an object's components, providing controlled access to the inner workings of an object.\n",
    "\n",
    "The primary goals and roles of encapsulation in object-oriented programming are:\n",
    "\n",
    "1. **Data Hiding:** Encapsulation hides the internal state of an object from the outside world. This means that the details of an object's implementation, such as its data attributes, can be kept private within the class. This is achieved by declaring attributes as private (by convention, using underscores as a prefix, like `_variable`) and providing public methods (getters and setters) to access and modify the attributes. By doing this, you ensure that the internal state of an object is protected from direct manipulation.\n",
    "\n",
    "2. **Abstraction:** Encapsulation allows you to present a simplified and well-defined interface to the outside world while hiding the complex implementation details. This is achieved by defining public methods that provide a way to interact with the object while abstracting the underlying complexities. Users of the class only need to understand how to use the public methods, not how the methods are implemented.\n",
    "\n",
    "3. **Control:** Encapsulation provides control over the data and behavior of an object. By encapsulating data attributes within a class, you can enforce constraints, validation, and security checks. You can control how data is modified and ensure that it remains in a valid state.\n",
    "\n",
    "4. **Flexibility and Maintenance:** By encapsulating data and methods within a class, you can change the internal implementation without affecting the external code that uses the class. This allows for flexibility in making improvements, bug fixes, or optimizations to a class while ensuring that other parts of the code that depend on the class remain unaffected.\n",
    "\n",
    "In Python, encapsulation is primarily achieved through the use of access control and conventions:\n",
    "\n",
    "- Use single underscores as a convention to indicate that an attribute is intended to be protected (e.g., `_variable`).\n",
    "- Use double underscores to indicate that an attribute is intended to be private and name-mangled to avoid accidental access from subclasses (e.g., `__variable`).\n"
   ]
  },
  {
   "cell_type": "markdown",
   "id": "2b7c8adc-e356-4927-9bdc-f243be2f0f62",
   "metadata": {},
   "source": [
    "2. Describe the key principles of encapsulation, including access control and data hiding."
   ]
  },
  {
   "cell_type": "markdown",
   "id": "e2e1f015-b844-4421-bf71-9681fea5c7c7",
   "metadata": {},
   "source": [
    "The key principles of encapsulation, including access control and data hiding, are fundamental concepts in object-oriented programming (OOP). These principles help structure code in a way that enhances modularity, security, and maintainability. Let's delve into each of these principles:\n",
    "\n",
    "1. **Access Control:**\n",
    "   - **Public:** Public members (attributes and methods) of a class can be accessed from anywhere, both within the class and externally.\n",
    "   - **Protected:** Protected members are not meant to be accessed directly from outside the class. In Python, they are indicated by a single underscore prefix (e.g., `_variable`). Although they can be accessed, it's a convention that they are intended for internal use or by subclasses.\n",
    "   - **Private:** Private members are meant to be inaccessible from outside the class. In Python, they are indicated by a double underscore prefix (e.g., `__variable`). Python performs name mangling, making it harder (but not impossible) to access these members from outside the class. Private members are primarily for internal use within the class.\n",
    "\n",
    "2. **Data Hiding:**\n",
    "   - Data hiding is the practice of encapsulating the internal state of an object and providing controlled access to it.\n",
    "   - It involves defining class attributes as private or protected to hide them from direct external access. This prevents unauthorized or unintended modification of an object's state.\n",
    "   - To access or modify these attributes, getter and setter methods are provided, ensuring that access and changes are controlled and can be validated as needed.\n",
    "   - Data hiding also allows the class to maintain a consistent and valid state.\n",
    "\n",
    "The key benefits of encapsulation, access control, and data hiding include:\n",
    "\n",
    "- **Abstraction:** By hiding internal details, encapsulation provides a simplified and well-defined interface to the outside world. Users of a class interact with public methods, not with the internal data and implementation details.\n",
    "\n",
    "- **Security:** Access control and data hiding provide security by preventing unauthorized access or modification of an object's state. This helps ensure that data remains in a consistent and valid state.\n",
    "\n",
    "- **Flexibility and Maintenance:** Encapsulation allows for changes to the internal implementation without affecting the external code that uses the class. It simplifies code maintenance and makes it easier to optimize or improve a class.\n",
    "\n",
    "- **Modularity:** Classes can be developed, tested, and used as independent modules, enhancing code modularity and reusability.\n"
   ]
  },
  {
   "cell_type": "markdown",
   "id": "55c9aa2b-ab4e-4279-a582-6fe257c35cea",
   "metadata": {},
   "source": [
    "3. How can you achieve encapsulation in Python classes? Provide an example."
   ]
  },
  {
   "cell_type": "markdown",
   "id": "e59dfda5-74dc-40c1-bd13-3cfcd188ba21",
   "metadata": {},
   "source": [
    "Encapsulation in Python classes can be achieved by following these best practices:\n",
    "\n",
    "1. **Use Access Control:** Use access control modifiers to specify the level of visibility for class members. Python provides three levels of access control:\n",
    "   - **Public:** Members are accessible from anywhere.\n",
    "   - **Protected:** Members are indicated with a single underscore prefix (e.g., `_variable`). They are intended for internal or subclass use but can still be accessed.\n",
    "   - **Private:** Members are indicated with a double underscore prefix (e.g., `__variable`). Python performs name mangling, making it more challenging to access these members from outside the class.\n",
    "\n",
    "2. **Provide Getter and Setter Methods:** For attributes that should be hidden from direct external access, provide getter methods to access the attributes and setter methods to modify them. These methods allow you to control access, perform validation, and hide the implementation details.\n",
    "\n"
   ]
  },
  {
   "cell_type": "code",
   "execution_count": 35,
   "id": "f6201b30-bda7-48ed-a3c9-ee54deb991c1",
   "metadata": {},
   "outputs": [
    {
     "name": "stdout",
     "output_type": "stream",
     "text": [
      "Alice\n",
      "101\n",
      "102\n"
     ]
    }
   ],
   "source": [
    "class Student:\n",
    "    def __init__(self, name, roll_number):\n",
    "        self._name = name  # Protected attribute\n",
    "        self.__roll_number = roll_number  # Private attribute\n",
    "\n",
    "    def get_name(self):  # Getter method for name\n",
    "        return self._name\n",
    "\n",
    "    def set_roll_number(self, roll_number):  # Setter method for roll_number\n",
    "        if roll_number > 0:\n",
    "            self.__roll_number = roll_number\n",
    "\n",
    "    def get_roll_number(self):  # Getter method for roll_number\n",
    "        return self.__roll_number\n",
    "\n",
    "# Usage of the Student class\n",
    "student = Student(\"Alice\", 101)\n",
    "print(student.get_name())  # Accessing name via getter method\n",
    "print(student.get_roll_number())  # Accessing roll_number via getter method\n",
    "\n",
    "# Modifying roll_number using the setter method\n",
    "student.set_roll_number(102)\n",
    "print(student.get_roll_number())  # Accessing the modified roll_number\n"
   ]
  },
  {
   "cell_type": "markdown",
   "id": "2fff1022-cd07-49b0-8d23-636fd0a01cbf",
   "metadata": {},
   "source": [
    "4. Discuss the difference between public, private, and protected access modifiers in Python."
   ]
  },
  {
   "cell_type": "markdown",
   "id": "f39554d8-1060-4b5c-87d5-c3e95e731c17",
   "metadata": {},
   "source": [
    "In Python, access modifiers are used to control the visibility and accessibility of class members (attributes and methods). There are three primary access modifiers: public, protected, and private. Each has a different level of visibility and access control:\n",
    "\n",
    "1. **Public (No Prefix):**\n",
    "   - **Access:** Members without any prefix are considered public and can be accessed from anywhere, both within the class and externally.\n",
    "   - **Example:** `variable` or `method()`\n",
    "- **Public**:\n",
    "  - Accessible from anywhere.\n",
    "  - No prefix.\n",
    "  - Commonly used for attributes and methods meant for public consumption.\n",
    "  - Limited encapsulation.\n",
    "  - Example: `variable`, `method()`\n",
    "\n",
    "2. **Protected (Single Underscore Prefix):**\n",
    "   - **Access:** Members with a single underscore prefix (e.g., `_variable` or `_method()`) are considered protected. They are intended for internal use within the class or by subclasses.\n",
    "   - **Convention:** Protection is achieved by convention rather than strict enforcement by the language. This means that it is not enforced and can still be accessed from outside the class. It is a signal to other developers that the member should be treated as protected.\n",
    "- **Protected**:\n",
    "  - Intended for internal use within the class or by subclasses.\n",
    "  - Prefix with a single underscore.\n",
    "  - A signal for other developers to treat the member as protected, but it is not strictly enforced.\n",
    "  - Partial encapsulation.\n",
    "  - Example: `_variable`, `_method()`\n",
    "\n",
    "3. **Private (Double Underscore Prefix):**\n",
    "   - **Access:** Members with a double underscore prefix (e.g., `__variable` or `__method()`) are considered private. They are intended to be inaccessible from outside the class.\n",
    "   - **Name Mangling:** Python employs a name mangling mechanism to make it more challenging to access private members from outside the class. The name of a private member is modified by adding a prefix with the class name (e.g., `_ClassName__variable`). While it is still technically possible to access private members, the name mangling makes it less straightforward.\n",
    "\n",
    "- **Private**:\n",
    "  - Intended to be inaccessible from outside the class.\n",
    "  - Prefix with a double underscore.\n",
    "  - Name mangling mechanism adds class name prefix to the member name.\n",
    "  - Strong encapsulation.\n",
    "  - Example: `__variable`, `__method()`\n"
   ]
  },
  {
   "cell_type": "markdown",
   "id": "2b574a12-79de-46cb-ad05-930d9f1a304a",
   "metadata": {},
   "source": [
    "5. Create a Python class called `Person` with a private attribute `__name`. Provide methods to get and set the\n",
    "name attribute."
   ]
  },
  {
   "cell_type": "code",
   "execution_count": 44,
   "id": "3bb4317a-3218-4626-8651-1531ec71b188",
   "metadata": {},
   "outputs": [],
   "source": [
    "class Person:\n",
    "    def __init__(self, name):\n",
    "        self.__name = name\n",
    "    \n",
    "    def get_name(self):\n",
    "        return self.__name\n",
    "\n",
    "    def set_name(self, new_name):\n",
    "        self.__name = new_name"
   ]
  },
  {
   "cell_type": "code",
   "execution_count": 45,
   "id": "a4f9661d-fd7a-4644-ab22-bccd75656f9e",
   "metadata": {},
   "outputs": [],
   "source": [
    "person = Person(\"Rahul\")"
   ]
  },
  {
   "cell_type": "code",
   "execution_count": 46,
   "id": "5f46d970-af82-4939-9de6-380652a9366b",
   "metadata": {},
   "outputs": [
    {
     "name": "stdout",
     "output_type": "stream",
     "text": [
      "Name:  Rahul\n"
     ]
    }
   ],
   "source": [
    "print(\"Name: \", person.get_name())"
   ]
  },
  {
   "cell_type": "code",
   "execution_count": 47,
   "id": "6b118fdf-05dd-4040-8452-8a79d355b14f",
   "metadata": {},
   "outputs": [
    {
     "name": "stdout",
     "output_type": "stream",
     "text": [
      "New name:  priya\n"
     ]
    }
   ],
   "source": [
    "person.set_name(\"priya\")\n",
    "print(\"New name: \", person.get_name())"
   ]
  },
  {
   "cell_type": "markdown",
   "id": "88c699a9-44e6-44c2-a700-79b5dd2a9265",
   "metadata": {},
   "source": [
    "6. Explain the purpose of getter and setter methods in encapsulation. Provide examples."
   ]
  },
  {
   "cell_type": "markdown",
   "id": "06817d6a-dba8-403f-a7f1-860707c61824",
   "metadata": {},
   "source": [
    "Getters (Accessor Methods):\n",
    "\n",
    "Purpose: Getters are used to retrieve the values of private or protected attributes.\n",
    "Benefits:\n",
    "Allows controlled, read-only access to attributes.\n",
    "Enables validation, computation, or other actions before returning the value.\n",
    "Hides the internal representation of the attribute.\n",
    "Naming Convention: Getters typically have names that start with \"get_\" followed by the attribute name.\n",
    "\n",
    "Setters (Mutator Methods):\n",
    "\n",
    "Purpose: Setters are used to modify the values of private or protected attributes.\n",
    "Benefits:\n",
    "Allows controlled, write-only access to attributes.\n",
    "Enables validation, constraint checking, or other actions before changing the value.\n",
    "Hides the internal mechanism for updating the attribute.\n",
    "Naming Convention: Setters typically have names that start with \"set_\" followed by the attribute name."
   ]
  },
  {
   "cell_type": "code",
   "execution_count": 1,
   "id": "7fd7ebeb-ad9c-426a-be35-51cce3616631",
   "metadata": {},
   "outputs": [
    {
     "name": "stdout",
     "output_type": "stream",
     "text": [
      "Name: Alice\n",
      "New Name: Bob\n"
     ]
    }
   ],
   "source": [
    "class Person:\n",
    "    def __init__(self, name):\n",
    "        self.__name = name  # Private attribute\n",
    "\n",
    "    # Getter method for name\n",
    "    def get_name(self):\n",
    "        return self.__name\n",
    "\n",
    "    # Setter method for name\n",
    "    def set_name(self, new_name):\n",
    "        if len(new_name) > 0:\n",
    "            self.__name = new_name\n",
    "\n",
    "# Creating a Person object\n",
    "person = Person(\"Alice\")\n",
    "\n",
    "# Using the getter method to access the name attribute\n",
    "name = person.get_name()\n",
    "print(\"Name:\", name)\n",
    "\n",
    "# Using the setter method to modify the name attribute\n",
    "person.set_name(\"Bob\")\n",
    "print(\"New Name:\", person.get_name())\n"
   ]
  },
  {
   "cell_type": "markdown",
   "id": "396cd58f-29cb-4961-a2e6-55e78db83481",
   "metadata": {},
   "source": [
    "7. What is name mangling in Python, and how does it affect encapsulation?"
   ]
  },
  {
   "cell_type": "markdown",
   "id": "52041bc6-b759-4d70-b78f-df040777991d",
   "metadata": {},
   "source": [
    "Name mangling in Python is a mechanism used to make the names of certain attributes in a class more unique by adding a prefix with the class name. This is primarily applied to private attributes and is intended to reduce the likelihood of accidental name clashes and unintended access to these attributes.\n",
    "\n",
    "Impact on Encapsulation:\n",
    "\n",
    "*Name mangling makes it more challenging for external code to accidentally or intentionally access private attributes of a class.\n",
    "\n",
    "*It helps prevent naming conflicts when subclasses have attributes with the same name as their parent class.\n",
    "\n",
    "*While name mangling enhances privacy, it is not a strict security mechanism. It does not entirely prevent access to private attributes; it only makes it less straightforward. The original attribute name can still be accessed using the mangled name.\n",
    "\n",
    "*Name mangling is a convention rather than a strict rule. Python trusts developers to respect the intention of making an attribute private and to refrain from accessing it directly from outside the class."
   ]
  },
  {
   "cell_type": "markdown",
   "id": "d2e7d9f6-c446-4bdb-9775-c2d1f5219f63",
   "metadata": {},
   "source": [
    "8. Create a Python class called `BankAccount` with private attributes for the account balance (`__balance`)"
   ]
  },
  {
   "cell_type": "code",
   "execution_count": 7,
   "id": "d364f947-7d6e-4433-a1ce-dae810ebc484",
   "metadata": {},
   "outputs": [],
   "source": [
    "class Bankaccount:\n",
    "    def __init__(self, account_number, initial_balance):\n",
    "        self.__account_number = account_number\n",
    "        self.__balance = initial_balance\n",
    "    \n",
    "    def deposit(self, amount):\n",
    "        if amount > 0:\n",
    "            self.__balance += amount\n",
    "    def get_balance(self):\n",
    "        return self.__balance\n",
    "    def get_account_number(self):\n",
    "        return self.__account_number"
   ]
  },
  {
   "cell_type": "code",
   "execution_count": 12,
   "id": "6dfe246f-f461-4b02-aedb-defb9a6ecda5",
   "metadata": {},
   "outputs": [],
   "source": [
    "account = Bankaccount(\"123456789\", 1000)\n",
    "account.deposit(500)\n",
    "balance = account.get_balance()\n",
    "account = account.get_account_number()"
   ]
  },
  {
   "cell_type": "code",
   "execution_count": 13,
   "id": "2da0259d-9a8f-44a2-8db1-1f522c300cb7",
   "metadata": {},
   "outputs": [
    {
     "name": "stdout",
     "output_type": "stream",
     "text": [
      "Account Number: 123456789\n",
      "Account Balance: 1500\n"
     ]
    }
   ],
   "source": [
    "print(\"Account Number:\", account)\n",
    "print(\"Account Balance:\", balance)"
   ]
  },
  {
   "cell_type": "markdown",
   "id": "909a25dc-6619-44ba-aa95-f1c4aea15438",
   "metadata": {},
   "source": [
    "9. Discuss the advantages of encapsulation in terms of code maintainability and security."
   ]
  },
  {
   "cell_type": "markdown",
   "id": "3a72a3a0-032f-4f27-ae5a-f39db761a779",
   "metadata": {},
   "source": [
    "Encapsulation offers several advantages in terms of code maintainability and security in object-oriented programming. Here are the key benefits:\n",
    "\n",
    "**Advantages for Code Maintainability:**\n",
    "\n",
    "1. **Modularity:** Encapsulation promotes modularity by organizing the code into self-contained units (classes). Each class encapsulates its own data and functionality, making it easier to understand and maintain a specific part of the codebase.\n",
    "\n",
    "2. **Ease of Maintenance:** Encapsulation simplifies maintenance because changes to one class do not necessarily affect other parts of the code. This reduces the risk of unintended consequences when making modifications.\n",
    "\n",
    "3. **Abstraction:** Encapsulation allows you to expose a simplified, high-level interface to the outside world while hiding the internal complexity. Users of a class interact with its public interface without needing to understand the intricate implementation details.\n",
    "\n",
    "4. **Code Reusability:** Encapsulated classes can be reused in other parts of the code or in different projects. This reusability reduces duplication and speeds up development.\n",
    "\n",
    "**Advantages for Security:**\n",
    "\n",
    "1. **Access Control:** Encapsulation enables access control by defining public, protected, and private members within a class. This restricts direct access to internal attributes and methods, reducing the risk of unauthorized or unintended modifications.\n",
    "\n",
    "2. **Data Hiding:** Encapsulation hides the implementation details of a class, preventing direct manipulation of its internal state. It ensures that data remains in a consistent and valid state.\n",
    "\n",
    "3. **Validation and Constraints:** With getter and setter methods, encapsulation allows you to enforce validation rules and constraints. For example, you can ensure that input values are within acceptable ranges before modifying an attribute's value.\n",
    "\n",
    "4. **Security of Sensitive Data:** In applications handling sensitive data, encapsulation can be used to protect sensitive information by restricting access to it and ensuring that only authorized operations are allowed.\n",
    "\n",
    "5. **Protection against Accidental Changes:** Encapsulation helps protect against accidental changes to critical attributes. By encapsulating data and providing controlled access, you minimize the risk of unintentional modifications that can introduce bugs.\n",
    "\n",
    "6. **Code Integrity:** By encapsulating data and behavior within a class, you reduce the potential for data corruption and inconsistencies, promoting the overall integrity of the code.\n",
    "\n"
   ]
  },
  {
   "cell_type": "markdown",
   "id": "342ba205-7c05-4c84-99c5-8e840f6acab1",
   "metadata": {},
   "source": [
    "10. How can you access private attributes in Python? Provide an example demonstrating the use of name\n",
    "mangling."
   ]
  },
  {
   "cell_type": "markdown",
   "id": "ce09bd99-f4e5-462d-b9d6-76408d1fd469",
   "metadata": {},
   "source": [
    "Encapsulation in Python classes can be achieved by following these best practices:\n",
    "\n",
    "Use Access Control: Use access control modifiers to specify the level of visibility for class members. Python provides three levels of access control:\n",
    "\n",
    "Public: Members are accessible from anywhere.\n",
    "Protected: Members are indicated with a single underscore prefix (e.g., _variable). They are intended for internal or subclass use but can still be accessed.\n",
    "Private: Members are indicated with a double underscore prefix (e.g., __variable). Python performs name mangling, making it more challenging to access these members from outside the class.\n",
    "\n",
    "Provide Getter and Setter Methods: For attributes that should be hidden from direct external access, provide getter methods to access the attributes and setter methods to modify them. These methods allow you to control access, perform validation, and hide the implementation details."
   ]
  },
  {
   "cell_type": "markdown",
   "id": "1b6a1f32-ce47-4e30-9fd2-ccfc1d2c59b8",
   "metadata": {},
   "source": [
    "11. Create a Python class hierarchy for a school system, including classes for students, teachers, and courses,\n",
    "and implement encapsulation principles to protect sensitive information."
   ]
  },
  {
   "cell_type": "code",
   "execution_count": 15,
   "id": "d4bbd5c0-a8df-42d0-8cf9-1294f4bd3892",
   "metadata": {},
   "outputs": [],
   "source": [
    "class student:\n",
    "    def __init__(self, student_id, name):\n",
    "        self.__student_id = student_id\n",
    "        self.__name = name\n",
    "        self.__course = []\n",
    "    \n",
    "    def enroll_course(self, course):\n",
    "        self.__course.append(course)\n",
    "        \n",
    "    def get_student_id(self):\n",
    "        return self.__student_id\n",
    "    \n",
    "    def get_name(self):\n",
    "        return self.__name\n",
    "    \n",
    "    def get_course(self):\n",
    "        return self.__course\n",
    "\n",
    "class teacher:\n",
    "    def __init__(self, teacher_id, name):\n",
    "        self.__teacher_id = teacher_id\n",
    "        self.__name = name\n",
    "        self.__course_taught = []\n",
    "    \n",
    "    def assign_course(self,course):\n",
    "        self.__course_taught.append(course)\n",
    "    \n",
    "    def get_teacher_id(self):\n",
    "        return self.__teacher_id\n",
    "    \n",
    "    def get_name(self):\n",
    "        return self.__name\n",
    "    \n",
    "    def get_course_taught(self):\n",
    "        return self.__course_taught\n",
    "\n",
    "class course:\n",
    "    def __init__(self, course_code, course_name):\n",
    "        self.__course_code = course_code\n",
    "        self.__course_name = course_name\n",
    "    \n",
    "    def get_course_code(self):\n",
    "        return self.__course_code\n",
    "    \n",
    "    def get_course_name(self):\n",
    "        return self.__course_name\n",
    "    "
   ]
  },
  {
   "cell_type": "code",
   "execution_count": 17,
   "id": "faecd2f1-dfb6-44d1-9976-3ac774f37472",
   "metadata": {},
   "outputs": [],
   "source": [
    "student1 = student(\"S001\", \"Alice\")\n",
    "student2 = student(\"S002\", \"Bob\")\n",
    "teacher1 = teacher(\"T001\", \"Professor Smith\")\n",
    "teacher2 = teacher(\"T002\", \"Professor Johnson\")\n",
    "course1 = course(\"C101\", \"Mathematics\")\n",
    "course2 = course(\"C102\", \"Science\")"
   ]
  },
  {
   "cell_type": "code",
   "execution_count": 19,
   "id": "b2d153dc-4e61-4f9c-a0e1-3f74cad16754",
   "metadata": {},
   "outputs": [],
   "source": [
    "student1.enroll_course(course1)\n",
    "student2.enroll_course(course2)\n",
    "teacher1.assign_course(course1)\n",
    "teacher2.assign_course(course2)"
   ]
  },
  {
   "cell_type": "code",
   "execution_count": 22,
   "id": "1d0a0a41-4039-4325-9223-2874cbcab710",
   "metadata": {},
   "outputs": [
    {
     "name": "stdout",
     "output_type": "stream",
     "text": [
      "Student ID: S001\n",
      "Student Name: Alice\n",
      "Enrolled Courses: ['Mathematics']\n"
     ]
    }
   ],
   "source": [
    "print(\"Student ID:\", student1.get_student_id())\n",
    "print(\"Student Name:\", student1.get_name())\n",
    "print(\"Enrolled Courses:\", [course.get_course_name() for course in student1.get_course()])\n"
   ]
  },
  {
   "cell_type": "code",
   "execution_count": 24,
   "id": "c06534df-5fa8-477e-9091-f58897fa0914",
   "metadata": {},
   "outputs": [
    {
     "name": "stdout",
     "output_type": "stream",
     "text": [
      "Teacher ID: T001\n",
      "Teacher Name: Professor Smith\n",
      "Courses Taught: ['Mathematics']\n"
     ]
    }
   ],
   "source": [
    "print(\"Teacher ID:\", teacher1.get_teacher_id())\n",
    "print(\"Teacher Name:\", teacher1.get_name())\n",
    "print(\"Courses Taught:\", [course.get_course_name() for course in teacher1.get_course_taught()])"
   ]
  },
  {
   "cell_type": "markdown",
   "id": "728f92de-398d-4d0a-8790-9660d8759d2d",
   "metadata": {},
   "source": [
    "12. Explain the concept of property decorators in Python and how they relate to encapsulation."
   ]
  },
  {
   "cell_type": "markdown",
   "id": "a7f76c2a-f0c5-4a7e-a5e6-eaca5d3eeac9",
   "metadata": {},
   "source": [
    "\n",
    "Property decorators in Python are a feature that allows you to define special methods known as getters, setters, and deleters for class attributes, treating them as if they were simple instance variables. These methods are called with the @property, @attribute.setter, and @attribute.deleter decorators, respectively. Property decorators are a way to implement getter and setter methods in a more Pythonic and concise manner.\n",
    "\n",
    "Property decorators relate to encapsulation by providing controlled access to class attributes. They allow you to hide the internal implementation details of a class attribute and enforce data validation and constraints while providing a clean and simple interface for accessing and modifying the attribute. This helps maintain the integrity and privacy of the attribute, making it an integral part of encapsulation."
   ]
  },
  {
   "cell_type": "markdown",
   "id": "670babb7-acdd-414d-aabb-500fd2bde8e4",
   "metadata": {},
   "source": [
    "13. What is data hiding, and why is it important in encapsulation? Provide examples."
   ]
  },
  {
   "cell_type": "markdown",
   "id": "a3b2fe20-e41c-4a31-88ba-97e19c3da3d3",
   "metadata": {},
   "source": [
    "Data hiding, also known as information hiding, is a fundamental concept in object-oriented programming and encapsulation. It refers to the practice of hiding the internal details of an object and exposing only the necessary information or behavior to the outside world. Data hiding is essential in encapsulation for several reasons:\n",
    "\n",
    "Protecting Sensitive Data: By hiding the internal data and implementation details of an object, you can protect sensitive information or attributes from unauthorized access or modification. This is crucial for maintaining data integrity and security in an application.\n",
    "\n",
    "Reducing Complexity: Data hiding simplifies the interface to an object by exposing only the essential methods and attributes, making it easier to use and understand. Users of the object don't need to be concerned with the underlying complexity.\n",
    "\n",
    "Encapsulation: Data hiding is a core principle of encapsulation. It allows you to encapsulate the implementation details within a class while providing controlled access through public methods (getters and setters). Encapsulation promotes modularity and reduces dependencies between different parts of the codebase.\n",
    "\n",
    "Flexibility and Maintenance: Data hiding allows you to modify the internal implementation of a class without affecting the code that uses the class. This improves code maintainability and makes it easier to evolve and extend your codebase over time."
   ]
  },
  {
   "cell_type": "code",
   "execution_count": 25,
   "id": "03d91bdf-27f9-4bfd-865e-1c86c5a7b101",
   "metadata": {},
   "outputs": [],
   "source": [
    "class User:\n",
    "    def __init__(self, username, password):\n",
    "        self.__username = username  # Private attribute\n",
    "        self.__password = password  # Private attribute\n",
    "\n",
    "    def login(self, username, password):\n",
    "        if username == self.__username and password == self.__password:\n",
    "            return \"Login successful\"\n",
    "        else:\n",
    "            return \"Login failed\"\n"
   ]
  },
  {
   "cell_type": "code",
   "execution_count": 26,
   "id": "a1db9866-bbd8-4dfe-95f1-d060a5484882",
   "metadata": {},
   "outputs": [],
   "source": [
    "user1 = User(\"username\", \"password123\")"
   ]
  },
  {
   "cell_type": "code",
   "execution_count": 27,
   "id": "d56948e4-da29-4780-9617-8895ffc1c38c",
   "metadata": {},
   "outputs": [
    {
     "data": {
      "text/plain": [
       "'Login failed'"
      ]
     },
     "execution_count": 27,
     "metadata": {},
     "output_type": "execute_result"
    }
   ],
   "source": [
    "user1.login(\"username\", \"password\")"
   ]
  },
  {
   "cell_type": "markdown",
   "id": "5ea124df-e1b5-4bc5-a7e9-4f387ef18b74",
   "metadata": {},
   "source": [
    "14. Create a Python class called `Employee` with private attributes for salary (`__salary`) and employee ID (`__employee_id`). Provide a method to calculate yearly bonuses. \n"
   ]
  },
  {
   "cell_type": "code",
   "execution_count": 28,
   "id": "b1e19be4-7908-4870-b40a-8b8f6879e761",
   "metadata": {},
   "outputs": [],
   "source": [
    "class Employee:\n",
    "    def __init__(self, employee_id, name, salary):\n",
    "        self.__employee_id = employee_id  # Private attribute\n",
    "        self.__name = name\n",
    "        self.__salary = salary  # Private attribute\n",
    "\n",
    "    def calculate_yearly_bonus(self, bonus_percentage):\n",
    "        if bonus_percentage > 0:\n",
    "            bonus = (bonus_percentage / 100) * self.__salary\n",
    "            return bonus\n",
    "        else:\n",
    "            return 0\n",
    "\n",
    "    def get_employee_id(self):\n",
    "        return self.__employee_id  # Getter for employee ID\n",
    "\n",
    "    def get_name(self):\n",
    "        return self.__name\n",
    "\n",
    "    def get_salary(self):\n",
    "        return self.__salary  # Getter for salary"
   ]
  },
  {
   "cell_type": "code",
   "execution_count": 30,
   "id": "f97c1ded-f700-467e-990b-5a9aeccccdb4",
   "metadata": {},
   "outputs": [
    {
     "name": "stdout",
     "output_type": "stream",
     "text": [
      "Employee ID: E001\n",
      "Employee Name: John Doe\n",
      "Employee Salary: 60000\n",
      "Yearly Bonus (10%): 6000.0\n"
     ]
    }
   ],
   "source": [
    "# Create an Employee object\n",
    "employee = Employee(\"E001\", \"John Doe\", 60000)\n",
    "\n",
    "# Calculate and display the yearly bonus\n",
    "bonus_percentage = 10  # 10% bonus\n",
    "yearly_bonus = employee.calculate_yearly_bonus(bonus_percentage)\n",
    "print(f\"Employee ID: {employee.get_employee_id()}\")\n",
    "print(f\"Employee Name: {employee.get_name()}\")\n",
    "print(f\"Employee Salary: {employee.get_salary()}\")\n",
    "print(f\"Yearly Bonus ({bonus_percentage}%): {yearly_bonus}\")"
   ]
  },
  {
   "cell_type": "markdown",
   "id": "4c2520e7-f158-44d8-aad4-834241f38ef7",
   "metadata": {},
   "source": [
    "15. Discuss the use of accessors and mutators in encapsulation. How do they help maintain control over  attribute access? "
   ]
  },
  {
   "cell_type": "markdown",
   "id": "c739369b-6dd7-46f6-8178-ec1ba1389743",
   "metadata": {},
   "source": [
    "Accessors and mutators, also known as getters and setters, are methods used in encapsulation to control access to the attributes of a class. They play a crucial role in maintaining control over attribute access by providing a level of abstraction and validation for attribute interactions. Here's how accessors and mutators help achieve this control:\n",
    "\n",
    "**Accessors (Getters):**\n",
    "- Accessors are methods that allow you to retrieve the values of private attributes (getters).\n",
    "- They provide controlled read-only access to the attributes.\n",
    "- Accessors abstract the attribute access, meaning that users of the class interact with the attribute through a method rather than directly accessing the attribute.\n",
    "- Accessors can include additional logic, such as data validation or calculations, before returning the attribute's value.\n",
    "- Accessors provide a point of control where you can enforce rules for attribute access. For example, you can restrict access to certain users or ensure that the attribute's value is within an acceptable range.\n",
    "\n",
    "**Mutators (Setters):**\n",
    "- Mutators are methods that allow you to modify the values of private attributes (setters).\n",
    "- They provide controlled write-only access to the attributes.\n",
    "- Mutators abstract the attribute modification, allowing you to enforce rules and constraints before changing the attribute's value.\n",
    "- Mutators can include logic to validate input, ensuring that the new value is acceptable.\n",
    "- Mutators enable you to encapsulate the changes to an attribute, ensuring that the attribute's integrity is maintained while allowing for controlled modifications.\n",
    "- Mutators can also trigger additional actions or notifications when an attribute is modified.\n"
   ]
  },
  {
   "cell_type": "markdown",
   "id": "a4deff2d-703b-410e-a10c-11187e792b05",
   "metadata": {},
   "source": [
    "16. What are the potential drawbacks or disadvantages of using encapsulation in Python? "
   ]
  },
  {
   "cell_type": "markdown",
   "id": "20a946af-0207-4521-85e9-44930b0683d8",
   "metadata": {},
   "source": [
    "Some of the potential drawbacks of using encapsulation in Python:\n",
    "\n",
    "Complexity: Encapsulation can lead to an increase in the number of methods and getter/setter functions within a class, which can make the code more complex and harder to read. This complexity may make the codebase harder to maintain and understand, especially for large classes.\n",
    "\n",
    "Performance Overhead: Accessing attributes through getters and setters can introduce a slight performance overhead compared to direct attribute access. In some cases, this overhead may be negligible, but in performance-critical applications, it can be a concern.\n",
    "\n",
    "Boilerplate Code: Writing getter and setter methods for each attribute can lead to a lot of boilerplate code, which can be tedious and error-prone. This can be especially frustrating in Python, which emphasizes simplicity and readability.\n",
    "\n",
    "Reduced Flexibility: Encapsulation can restrict the flexibility of your code. If you've exposed an attribute through a getter method and later decide to add logic to the getter, you may break code that relies on the previous behavior.\n",
    "\n",
    "False Sense of Security: Encapsulation doesn't provide absolute data security. Private attributes can still be accessed or modified if a developer is determined to do so. It's a convention, not a strict enforcement.\n",
    "\n",
    "Limited Expressiveness: By abstracting attribute access through getters and setters, you might lose the expressiveness and simplicity of direct attribute access, which is a characteristic of Python's philosophy.\n",
    "\n",
    "Readability and Writing Convenience: Encapsulation can make code less readable and less convenient to write in cases where attribute access is straightforward and unproblematic.\n",
    "\n",
    "Overengineering: There's a risk of overengineering when applying encapsulation to every attribute. Not all attributes require the same level of protection, and overusing encapsulation can make code unnecessarily complex."
   ]
  },
  {
   "cell_type": "markdown",
   "id": "b1a199a0-ddbd-4b95-ad20-dcb7808b88ec",
   "metadata": {},
   "source": [
    "17. Create a Python class for a library system that encapsulates book information, including titles, authors,  and availability status."
   ]
  },
  {
   "cell_type": "code",
   "execution_count": 31,
   "id": "720f2b47-2e48-4e98-88e2-1a1a87574634",
   "metadata": {},
   "outputs": [],
   "source": [
    "class LibraryBook:\n",
    "    def __init__(self, title, author):\n",
    "        self.__title = title  # Encapsulated title attribute\n",
    "        self.__author = author  # Encapsulated author attribute\n",
    "        self.__available = True  # Encapsulated availability status attribute\n",
    "\n",
    "    def get_title(self):\n",
    "        return self.__title  # Accessor (getter) for title\n",
    "\n",
    "    def get_author(self):\n",
    "        return self.__author  # Accessor (getter) for author\n",
    "\n",
    "    def is_available(self):\n",
    "        return self.__available  # Accessor (getter) for availability status\n",
    "\n",
    "    def borrow(self):\n",
    "        if self.__available:\n",
    "            self.__available = False\n",
    "            return \"Book has been borrowed.\"\n",
    "        else:\n",
    "            return \"Book is currently unavailable.\"\n",
    "\n",
    "    def return_book(self):\n",
    "        if not self.__available:\n",
    "            self.__available = True\n",
    "            return \"Book has been returned.\"\n",
    "        else:\n",
    "            return \"Book is already available.\""
   ]
  },
  {
   "cell_type": "code",
   "execution_count": 32,
   "id": "4eeef91e-1a74-4563-8581-54c3d74968bf",
   "metadata": {},
   "outputs": [
    {
     "name": "stdout",
     "output_type": "stream",
     "text": [
      "Title: Python Crash Course\n",
      "Author: Eric Matthes\n",
      "Available: True\n"
     ]
    }
   ],
   "source": [
    "# Create LibraryBook objects\n",
    "book1 = LibraryBook(\"Python Crash Course\", \"Eric Matthes\")\n",
    "book2 = LibraryBook(\"Design Patterns\", \"Erich Gamma\")\n",
    "\n",
    "# Access book information\n",
    "print(f\"Title: {book1.get_title()}\")\n",
    "print(f\"Author: {book1.get_author()}\")\n",
    "print(f\"Available: {book1.is_available()}\")"
   ]
  },
  {
   "cell_type": "code",
   "execution_count": 33,
   "id": "2289afaa-8f3c-43fd-83a2-db675944b306",
   "metadata": {},
   "outputs": [
    {
     "name": "stdout",
     "output_type": "stream",
     "text": [
      "Book has been borrowed.\n",
      "Book has been returned.\n",
      "Book has been borrowed.\n"
     ]
    }
   ],
   "source": [
    "# Borrow and return books\n",
    "print(book1.borrow())\n",
    "print(book1.return_book())\n",
    "print(book2.borrow())"
   ]
  },
  {
   "cell_type": "code",
   "execution_count": 34,
   "id": "7d8bf5e2-7420-4fd3-a503-0382eaa1c691",
   "metadata": {},
   "outputs": [
    {
     "name": "stdout",
     "output_type": "stream",
     "text": [
      "Available: True\n",
      "Available: False\n"
     ]
    }
   ],
   "source": [
    "# Check availability status\n",
    "print(f\"Available: {book1.is_available()}\")\n",
    "print(f\"Available: {book2.is_available()}\")"
   ]
  },
  {
   "cell_type": "markdown",
   "id": "ba5461f0-2b57-4a9c-9255-fb2f452abd9d",
   "metadata": {},
   "source": [
    "18. Explain how encapsulation enhances code reusability and modularity in Python programs. \n"
   ]
  },
  {
   "cell_type": "markdown",
   "id": "45594e12-9998-4053-b0ff-90aeb986d60c",
   "metadata": {},
   "source": [
    "Encapsulation enhances code reusability and modularity in Python programs by promoting well-defined interfaces, reducing dependencies, and encapsulating implementation details. Here's how it achieves these benefits:\n",
    "\n",
    "Well-Defined Interfaces: Encapsulation encourages the definition of well-defined interfaces for classes. By exposing a limited set of methods (public interface) and encapsulating the internal details, encapsulated classes become black boxes that other parts of the code can interact with. This promotes clarity and predictability when using these classes.\n",
    "\n",
    "Reduced Dependencies: Encapsulation minimizes dependencies between different parts of the codebase. When an object's internal details are encapsulated, changes to the implementation of that object have minimal impact on other code that uses it. This reduces the risk of unintended side effects when making modifications.\n",
    "\n",
    "Isolation of Implementation Details: Encapsulation isolates the implementation details of a class from the rest of the codebase. This isolation allows you to change or improve the class's internal logic without affecting the external code that relies on it. It promotes a \"change in one place, update everywhere\" approach.\n",
    "\n",
    "Reusability: By encapsulating behavior within classes, you can reuse those classes in various parts of your program or in different programs altogether. Reusing well-encapsulated classes saves development time and reduces the need to reimplement the same functionality.\n",
    "\n",
    "Modularity: Encapsulation promotes modularity by allowing you to break your code into smaller, self-contained units (classes). Each class encapsulates a specific set of responsibilities, making it easier to manage and understand. This modular approach simplifies testing, debugging, and maintenance.\n",
    "\n",
    "Polymorphism and Inheritance: Encapsulation facilitates the use of polymorphism and inheritance. When you design classes with clear interfaces and encapsulated behavior, you can create subclasses that inherit and extend the functionality without affecting the superclass or other parts of the code.\n",
    "\n",
    "Code Maintenance: Encapsulation makes code maintenance more manageable. Changes or updates to a class's implementation can be made within the class itself, and as long as the public interface remains consistent, external code doesn't need to be modified. This separation of concerns simplifies maintenance and reduces the risk of introducing new bugs.\n",
    "\n",
    "Information Hiding: Encapsulation allows you to hide sensitive or complex information from the rest of the code. You can control access to attributes and methods, ensuring that they are used correctly and safely. This enhances security and code reliability."
   ]
  },
  {
   "cell_type": "markdown",
   "id": "ca531709-fe10-435a-bb02-6b60704f060b",
   "metadata": {},
   "source": [
    "19. Describe the concept of information hiding in encapsulation. Why is it essential in software development? "
   ]
  },
  {
   "cell_type": "markdown",
   "id": "ca2a51ac-35a9-4ab8-8245-93c1438595f3",
   "metadata": {},
   "source": [
    "Information hiding is a fundamental concept in encapsulation that emphasizes the need to hide the internal details of an object or class and expose only the necessary and safe parts of that object to the outside world. It is a key aspect of encapsulation, and it plays a crucial role in ensuring the integrity and security of a software system. Here's why information hiding is essential in software development:\n",
    "\n",
    "Security: Information hiding helps protect sensitive or critical data from unauthorized access or modification. By encapsulating data and making it private or accessible only through controlled methods (getters and setters), you can ensure that only authorized code can interact with and modify that data. This is especially important when dealing with user credentials, financial data, or any other sensitive information.\n",
    "\n",
    "Data Integrity: By encapsulating data and providing controlled access, you can enforce constraints and business rules on that data. For example, you can ensure that an attribute's value remains within a certain range, or you can validate the input before allowing modifications. This helps maintain data integrity and consistency.\n",
    "\n",
    "Reduced Complexity: Hiding implementation details reduces the complexity seen by the users of a class. This makes it easier to understand and use the class. Users don't need to concern themselves with the intricate workings of the class, which is particularly valuable for complex systems with many interacting components.\n",
    "\n",
    "Modularity: Information hiding promotes modularity by encapsulating the internal implementation details of a class. This encapsulation makes it easier to make changes to the class without affecting other parts of the code. It also encourages reusability since well-encapsulated classes can be reused in different parts of the program or in other programs.\n",
    "\n",
    "Abstraction: Hiding implementation details and exposing a clear, well-defined interface allows developers to work at a higher level of abstraction. They can interact with an object based on what it does rather than how it does it. This abstraction simplifies the development process and promotes a better separation of concerns.\n",
    "\n",
    "Code Maintenance: Information hiding makes code maintenance more manageable. When internal details are hidden, you can make changes within a class without affecting external code. This simplifies maintenance, reduces the risk of introducing new bugs, and speeds up the development process.\n",
    "\n",
    "Polymorphism: Encapsulation and information hiding provide a foundation for polymorphism. When objects have well-defined interfaces, you can create subclasses that inherit and extend the functionality without affecting the external code. This allows for flexible and extensible systems.\n",
    "\n",
    "Testing and Debugging: Encapsulation and information hiding simplify testing and debugging. Since internal details are encapsulated, you can focus your testing efforts on the public interface of a class, which is often the most critical part to test. This focused testing reduces the complexity of the testing process."
   ]
  },
  {
   "cell_type": "markdown",
   "id": "52ded3de-f124-4859-af2d-62fef5589752",
   "metadata": {},
   "source": [
    "20. Create a Python class called `Customer` with private attributes for customer details like name, address,  and contact information. Implement encapsulation to ensure data integrity and security"
   ]
  },
  {
   "cell_type": "code",
   "execution_count": 35,
   "id": "47dab59f-f105-413d-b171-766ba6d3afc4",
   "metadata": {},
   "outputs": [],
   "source": [
    "class Customer:\n",
    "    def __init__(self, customer_id, name, address, contact_info):\n",
    "        self.__customer_id = customer_id  # Encapsulated customer_id attribute\n",
    "        self.__name = name  # Encapsulated name attribute\n",
    "        self.__address = address  # Encapsulated address attribute\n",
    "        self.__contact_info = contact_info  # Encapsulated contact_info attribute\n",
    "\n",
    "    # Accessor (Getter) methods\n",
    "    def get_customer_id(self):\n",
    "        return self.__customer_id\n",
    "\n",
    "    def get_name(self):\n",
    "        return self.__name\n",
    "\n",
    "    def get_address(self):\n",
    "        return self.__address\n",
    "\n",
    "    def get_contact_info(self):\n",
    "        return self.__contact_info\n",
    "\n",
    "    # Mutator (Setter) methods \n",
    "    def set_name(self, name):\n",
    "        self.__name = name\n",
    "\n",
    "    def set_address(self, address):\n",
    "        self.__address = address\n",
    "\n",
    "    def set_contact_info(self, contact_info):\n",
    "        self.__contact_info = contact_info"
   ]
  },
  {
   "cell_type": "code",
   "execution_count": 36,
   "id": "bafc8a52-8941-4ca7-86d1-e0744602c1b1",
   "metadata": {},
   "outputs": [
    {
     "name": "stdout",
     "output_type": "stream",
     "text": [
      "Customer ID: C001\n",
      "Name: Alice Johnson\n",
      "Address: 123 Main St, City\n",
      "Contact Info: alice@email.com\n"
     ]
    }
   ],
   "source": [
    "# Create a Customer object\n",
    "customer = Customer(\"C001\", \"Alice Johnson\", \"123 Main St, City\", \"alice@email.com\")\n",
    "\n",
    "# Access and display customer details\n",
    "print(f\"Customer ID: {customer.get_customer_id()}\")\n",
    "print(f\"Name: {customer.get_name()}\")\n",
    "print(f\"Address: {customer.get_address()}\")\n",
    "print(f\"Contact Info: {customer.get_contact_info()}\")"
   ]
  },
  {
   "cell_type": "code",
   "execution_count": 37,
   "id": "285d1392-717f-429a-a4cf-f1cb0888cf66",
   "metadata": {},
   "outputs": [],
   "source": [
    "# Attempt to modify customer details (optional)\n",
    "customer.set_name(\"Bob Smith\")\n",
    "customer.set_address(\"456 Elm St, Town\")\n",
    "customer.set_contact_info(\"bob@email.com\")"
   ]
  },
  {
   "cell_type": "code",
   "execution_count": 38,
   "id": "bcca2e50-663e-4b31-9dad-288cb1765f0f",
   "metadata": {},
   "outputs": [
    {
     "name": "stdout",
     "output_type": "stream",
     "text": [
      "Modified Customer Details:\n",
      "Name: Bob Smith\n",
      "Address: 456 Elm St, Town\n",
      "Contact Info: bob@email.com\n"
     ]
    }
   ],
   "source": [
    "# Display modified customer details\n",
    "print(\"Modified Customer Details:\")\n",
    "print(f\"Name: {customer.get_name()}\")\n",
    "print(f\"Address: {customer.get_address()}\")\n",
    "print(f\"Contact Info: {customer.get_contact_info()}\")"
   ]
  },
  {
   "cell_type": "markdown",
   "id": "0b51f3b1-8a87-4a0c-b5bb-924694c10e86",
   "metadata": {
    "tags": []
   },
   "source": [
    "## Polymorphism"
   ]
  },
  {
   "cell_type": "markdown",
   "id": "653336ee-bc61-4baa-a31f-801b20bc36fc",
   "metadata": {},
   "source": [
    "1. What is polymorphism in Python? Explain how it is related to object-oriented programming."
   ]
  },
  {
   "cell_type": "markdown",
   "id": "e582e129-8f1a-4a07-8532-94c16c4c0c15",
   "metadata": {},
   "source": [
    "Polymorphism is a fundamental concept in object-oriented programming (OOP) that allows objects of different classes to be treated as objects of a common superclass. It enables you to use a common interface to interact with objects of different types, providing flexibility and extensibility in your code.\n",
    "\n",
    "In Python, polymorphism is closely related to OOP and is achieved through method overriding and inheritance. Here's how it works and its relationship to OOP:\n",
    "\n",
    "1. **Inheritance**: In OOP, you can create a hierarchy of classes using inheritance. A subclass inherits attributes and methods from its superclass. This inheritance relationship creates a hierarchical structure of classes.\n",
    "\n",
    "2. **Method Overriding**: In Python, when a subclass defines a method with the same name as a method in its superclass, the subclass's method overrides the superclass's method. This means that the subclass provides its own implementation of the method, tailored to its specific needs.\n",
    "\n",
    "3. **Polymorphism**: Polymorphism is the ability to use objects of different classes in a unified way. It allows you to call methods on objects without knowing their exact class but with the expectation that the correct method implementation for that object's class will be called. This makes your code more flexible and extensible.\n",
    "\n",
    "4. **Common Interfaces**: To achieve polymorphism, you often define common interfaces or abstract methods in a superclass. Subclasses implement these methods with their own behavior. As long as the method signature is consistent, you can use these objects interchangeably.\n",
    "\n",
    "5. **Dynamic Binding**: Polymorphism in Python is achieved through dynamic binding, meaning that the method to be called is determined at runtime based on the actual class of the object."
   ]
  },
  {
   "cell_type": "markdown",
   "id": "dab57fcb-c78b-481e-8e8b-c59f9c65f6c8",
   "metadata": {},
   "source": [
    "2. Describe the difference between compile-time polymorphism and runtime polymorphism in Python."
   ]
  },
  {
   "cell_type": "markdown",
   "id": "573dd6f9-c0e9-4a1e-939d-8531ec4ebfad",
   "metadata": {},
   "source": [
    "In Python, the terms \"compile-time polymorphism\" and \"runtime polymorphism\" are not commonly used. Instead, we typically refer to two different aspects of polymorphism, which are:\n",
    "\n",
    "1. **Compile-Time Polymorphism (Static Polymorphism):**\n",
    "   - Compile-time polymorphism is also known as \"static polymorphism\" or \"early binding.\"\n",
    "   - It refers to polymorphism that is resolved at compile time.\n",
    "   - The method or function to be called is determined at compile time based on the number and types of arguments passed to it.\n",
    "   - Examples of compile-time polymorphism in Python include function overloading using default arguments and method overloading in classes.\n",
    "   - The Python language itself does not support function or method overloading by multiple methods with the same name but different parameters. However, you can achieve a form of function overloading by using default arguments.\n",
    "\n",
    "2. **Runtime Polymorphism (Dynamic Polymorphism):**\n",
    "   - Runtime polymorphism is also known as \"dynamic polymorphism\" or \"late binding.\"\n",
    "   - It refers to polymorphism that is resolved at runtime.\n",
    "   - The method or function to be called is determined at runtime based on the actual class of the object being operated on.\n",
    "   - It is achieved through method overriding and inheritance in object-oriented programming.\n",
    "   - Runtime polymorphism is a fundamental concept in OOP, allowing different subclasses to provide their own implementations of methods defined in a common superclass.\n",
    "\n",
    "In summary, the key difference is when the method or function resolution occurs. Compile-time polymorphism is determined at compile time based on the number and types of arguments, while runtime polymorphism is determined at runtime based on the actual class of the object. Runtime polymorphism is a central feature of object-oriented programming in Python and is achieved through inheritance and method overriding."
   ]
  },
  {
   "cell_type": "markdown",
   "id": "4247cc25-a6e6-4bee-b0a0-f2bbca0f122f",
   "metadata": {},
   "source": [
    "3. Create a Python class hierarchy for shapes (e.g., circle, square, triangle) and demonstrate polymorphism\n",
    "through a common method, such as `calculate_area()`."
   ]
  },
  {
   "cell_type": "code",
   "execution_count": 23,
   "id": "b7ac3182-fa06-4e43-9da9-08fad41b29f0",
   "metadata": {},
   "outputs": [],
   "source": [
    "import math\n",
    "\n",
    "class Shape:\n",
    "    def calculate_area(self):\n",
    "        pass\n",
    "\n",
    "class Circle(Shape):\n",
    "    def __init__(self, radius):\n",
    "        self.radius = radius\n",
    "\n",
    "    def calculate_area(self):\n",
    "        return math.pi * self.radius**2\n",
    "\n",
    "class Square(Shape):\n",
    "    def __init__(self, side_length):\n",
    "        self.side_length = side_length\n",
    "\n",
    "    def calculate_area(self):\n",
    "        return self.side_length**2\n",
    "\n",
    "class Triangle(Shape):\n",
    "    def __init__(self, base, height):\n",
    "        self.base = base\n",
    "        self.height = height\n",
    "\n",
    "    def calculate_area(self):\n",
    "        return 0.5 * self.base * self.height"
   ]
  },
  {
   "cell_type": "code",
   "execution_count": 24,
   "id": "f73590a3-cd11-415b-a399-2366021eced2",
   "metadata": {},
   "outputs": [
    {
     "name": "stdout",
     "output_type": "stream",
     "text": [
      "Area of circle is 78.53981633974483\n",
      "Area of square is 16\n",
      "Area of triangle is 9.0\n"
     ]
    }
   ],
   "source": [
    "# Create instances of different shapes\n",
    "circle = Circle(5)\n",
    "square = Square(4)\n",
    "triangle = Triangle(6, 3)\n",
    "\n",
    "print(f\"Area of circle is {circle.calculate_area()}\")\n",
    "print(f\"Area of square is {square.calculate_area()}\")\n",
    "print(f\"Area of triangle is {triangle.calculate_area()}\")"
   ]
  },
  {
   "cell_type": "markdown",
   "id": "05c66370-b6ed-4740-99fc-34d13d9318f7",
   "metadata": {},
   "source": [
    "4. Explain the concept of method overriding in polymorphism. Provide an example."
   ]
  },
  {
   "cell_type": "markdown",
   "id": "d80f2ba2-462a-41bf-ba40-c79620038b0c",
   "metadata": {},
   "source": [
    "Method overriding is a key concept in polymorphism and object-oriented programming. It allows a subclass to provide its own implementation of a method that is already defined in its superclass. When the method is called on an object of the subclass, the overridden method in the subclass is executed instead of the one in the superclass. Method overriding is used to customize or extend the behavior of a method in a subclass."
   ]
  },
  {
   "cell_type": "code",
   "execution_count": 25,
   "id": "3182217d-cfff-44d0-9860-ff0f30d74f20",
   "metadata": {},
   "outputs": [
    {
     "name": "stdout",
     "output_type": "stream",
     "text": [
      "Some generic sound\n",
      "Woof!\n",
      "Meow!\n"
     ]
    }
   ],
   "source": [
    "class Animal:\n",
    "    def speak(self):\n",
    "        return \"Some generic sound\"\n",
    "\n",
    "class Dog(Animal):\n",
    "    def speak(self):\n",
    "        return \"Woof!\"\n",
    "\n",
    "class Cat(Animal):\n",
    "    def speak(self):\n",
    "        return \"Meow!\"\n",
    "\n",
    "# Create instances of different animals\n",
    "animal = Animal()\n",
    "dog = Dog()\n",
    "cat = Cat()\n",
    "\n",
    "# Demonstrate method overriding\n",
    "print(animal.speak())  # Calls the speak() method of the Animal class\n",
    "print(dog.speak())     # Calls the overridden speak() method of the Dog class\n",
    "print(cat.speak())     # Calls the overridden speak() method of the Cat class\n"
   ]
  },
  {
   "cell_type": "markdown",
   "id": "65d43004-bd59-4641-8bfc-3a423b62fd3f",
   "metadata": {},
   "source": [
    "5. How is polymorphism different from method overloading in Python? Provide examples for both."
   ]
  },
  {
   "cell_type": "markdown",
   "id": "c5f23f82-af95-4d0e-9997-651ea87328ca",
   "metadata": {},
   "source": [
    "Polymorphism and method overloading are related concepts in Python, but they have distinct differences:\n",
    "\n",
    "**Polymorphism:**\n",
    "- Polymorphism refers to the ability of objects of different classes to respond to the same method in a way that is appropriate for their specific class.\n",
    "- It is achieved through method overriding, where a subclass provides its own implementation of a method defined in a superclass.\n",
    "- The method to be called is determined at runtime based on the actual class of the object.\n",
    "- Polymorphism is about providing different behaviors for different classes, enabling dynamic and flexible method invocation.\n",
    "\n"
   ]
  },
  {
   "cell_type": "code",
   "execution_count": 27,
   "id": "a348a6db-3e9a-4710-896b-bc9afeeb2965",
   "metadata": {},
   "outputs": [
    {
     "name": "stdout",
     "output_type": "stream",
     "text": [
      "Woof!\n",
      "Meow!\n"
     ]
    }
   ],
   "source": [
    "#Example of Polymorphism (method overriding):\n",
    "class Animal:\n",
    "    def speak(self):\n",
    "        pass\n",
    "\n",
    "class Dog(Animal):\n",
    "    def speak(self):\n",
    "        return \"Woof!\"\n",
    "\n",
    "class Cat(Animal):\n",
    "    def speak(self):\n",
    "        return \"Meow!\"\n",
    "\n",
    "dog = Dog()\n",
    "cat = Cat()\n",
    "\n",
    "print(dog.speak())  # Calls Dog's speak()\n",
    "print(cat.speak())  # Calls Cat's speak()"
   ]
  },
  {
   "cell_type": "markdown",
   "id": "87611675-aea1-4f4a-9f42-b062f9b5ab68",
   "metadata": {},
   "source": [
    "**Method Overloading:**\n",
    "- Method overloading is a feature that allows you to define multiple methods with the same name in the same class, differing in the number or types of their parameters.\n",
    "- Python, unlike some other languages, does not support true method overloading by having multiple methods with the same name but different parameter lists. It only considers the latest defined method with a given name.\n"
   ]
  },
  {
   "cell_type": "code",
   "execution_count": 28,
   "id": "382cd657-e251-4221-9c26-c15a323d80ed",
   "metadata": {},
   "outputs": [
    {
     "ename": "TypeError",
     "evalue": "Calculator.add() missing 1 required positional argument: 'c'",
     "output_type": "error",
     "traceback": [
      "\u001b[0;31m---------------------------------------------------------------------------\u001b[0m",
      "\u001b[0;31mTypeError\u001b[0m                                 Traceback (most recent call last)",
      "Cell \u001b[0;32mIn[28], line 10\u001b[0m\n\u001b[1;32m      7\u001b[0m         \u001b[38;5;28;01mreturn\u001b[39;00m a \u001b[38;5;241m+\u001b[39m b \u001b[38;5;241m+\u001b[39m c\n\u001b[1;32m      9\u001b[0m calculator \u001b[38;5;241m=\u001b[39m Calculator()\n\u001b[0;32m---> 10\u001b[0m result \u001b[38;5;241m=\u001b[39m \u001b[43mcalculator\u001b[49m\u001b[38;5;241;43m.\u001b[39;49m\u001b[43madd\u001b[49m\u001b[43m(\u001b[49m\u001b[38;5;241;43m2\u001b[39;49m\u001b[43m,\u001b[49m\u001b[43m \u001b[49m\u001b[38;5;241;43m3\u001b[39;49m\u001b[43m)\u001b[49m  \u001b[38;5;66;03m# This would result in a TypeError since the latest 'add' method with three parameters is considered.\u001b[39;00m\n",
      "\u001b[0;31mTypeError\u001b[0m: Calculator.add() missing 1 required positional argument: 'c'"
     ]
    }
   ],
   "source": [
    "#Example of Method Overloading:\n",
    "class Calculator:\n",
    "    def add(self, a, b):\n",
    "        return a + b\n",
    "\n",
    "    def add(self, a, b, c):\n",
    "        return a + b + c\n",
    "\n",
    "calculator = Calculator()\n",
    "result = calculator.add(2, 3)  # This would result in a TypeError since the latest 'add' method with three parameters is considered."
   ]
  },
  {
   "cell_type": "markdown",
   "id": "532d5efb-6a5a-429d-ad81-659377207452",
   "metadata": {},
   "source": [
    "So, the key difference is that polymorphism is about dynamic method invocation based on the object's class, while method overloading, as typically seen in languages like Java or C++, is about defining multiple methods with the same name but different parameter lists, which is not directly supported in Python."
   ]
  },
  {
   "cell_type": "markdown",
   "id": "478dfddb-f345-4bb0-abb0-fe04b7c750eb",
   "metadata": {},
   "source": [
    "6. Create a Python class called `Animal` with a method `speak()`. Then, create child classes like `Dog`, `Cat`, and `Bird`, each with their own `speak()` method. Demonstrate polymorphism by calling the `speak()` method\n",
    "on objects of different subclasses."
   ]
  },
  {
   "cell_type": "code",
   "execution_count": 30,
   "id": "d6cd98e5-779d-45b2-822e-3969c358c1a4",
   "metadata": {},
   "outputs": [
    {
     "name": "stdout",
     "output_type": "stream",
     "text": [
      "Dog says: Woof!\n",
      "Cat says: Meow!\n",
      "Bird says: Tweet!\n"
     ]
    }
   ],
   "source": [
    "class Animal:\n",
    "    def speak(self):\n",
    "        return \"Some generic sound\"\n",
    "\n",
    "class Dog(Animal):\n",
    "    def speak(self):\n",
    "        return \"Woof!\"\n",
    "\n",
    "class Cat(Animal):\n",
    "    def speak(self):\n",
    "        return \"Meow!\"\n",
    "\n",
    "class Bird(Animal):\n",
    "    def speak(self):\n",
    "        return \"Tweet!\"\n",
    "\n",
    "# Create instances of different animals\n",
    "dog = Dog()\n",
    "cat = Cat()\n",
    "bird = Bird()\n",
    "\n",
    "# Demonstrate polymorphism by calling the speak() method\n",
    "animals = [dog, cat, bird]\n",
    "for animal in animals:\n",
    "    print(f\"{animal.__class__.__name__} says: {animal.speak()}\")"
   ]
  },
  {
   "cell_type": "markdown",
   "id": "94f469b5-84a8-4bb6-8772-20593b378c02",
   "metadata": {},
   "source": [
    "7. Discuss the use of abstract methods and classes in achieving polymorphism in Python. Provide an example"
   ]
  },
  {
   "cell_type": "markdown",
   "id": "6cbf6fd2-74a2-4932-9cf4-c168bccf6d29",
   "metadata": {},
   "source": [
    "Abstract methods and classes play a crucial role in achieving polymorphism and ensuring that specific behavior is implemented by subclasses. In Python, you can use the abc (Abstract Base Classes) module to define abstract methods and classes. Abstract methods are methods that have no implementation in the base class, and their implementation is deferred to the subclasses. This enforces the requirement for subclasses to provide their own implementation of these methods."
   ]
  },
  {
   "cell_type": "code",
   "execution_count": 31,
   "id": "b2d73a67-2c9b-412e-989f-99cfa8165e37",
   "metadata": {},
   "outputs": [
    {
     "name": "stdout",
     "output_type": "stream",
     "text": [
      "Dog says: Woof!\n",
      "Cat says: Meow!\n",
      "Bird says: Tweet!\n"
     ]
    }
   ],
   "source": [
    "from abc import ABC, abstractmethod\n",
    "\n",
    "class Animal(ABC):\n",
    "    @abstractmethod\n",
    "    def speak(self):\n",
    "        pass\n",
    "\n",
    "class Dog(Animal):\n",
    "    def speak(self):\n",
    "        return \"Woof!\"\n",
    "\n",
    "class Cat(Animal):\n",
    "    def speak(self):\n",
    "        return \"Meow!\"\n",
    "\n",
    "class Bird(Animal):\n",
    "    def speak(self):\n",
    "        return \"Tweet!\"\n",
    "\n",
    "# Attempt to create an instance of the abstract base class (Animal)\n",
    "# This would result in a TypeError since abstract classes cannot be instantiated.\n",
    "# animal = Animal()\n",
    "\n",
    "# Create instances of different animals\n",
    "dog = Dog()\n",
    "cat = Cat()\n",
    "bird = Bird()\n",
    "\n",
    "# Demonstrate polymorphism by calling the speak() method\n",
    "animals = [dog, cat, bird]\n",
    "for animal in animals:\n",
    "    print(f\"{animal.__class__.__name__} says: {animal.speak()}\")\n"
   ]
  },
  {
   "cell_type": "markdown",
   "id": "5b6b3382-0459-41a9-8249-66f09e771740",
   "metadata": {},
   "source": [
    "8. Create a Python class hierarchy for a vehicle system (e.g., car, bicycle, boat) and implement a polymorphic \"start()\" method that prints a message specific to each vechicle type"
   ]
  },
  {
   "cell_type": "code",
   "execution_count": 32,
   "id": "483081fd-61e6-4852-9a9b-3eebc3b1ce59",
   "metadata": {},
   "outputs": [
    {
     "name": "stdout",
     "output_type": "stream",
     "text": [
      "Car 1 starts the engine and drives.\n",
      "Bicycle 1 starts pedaling.\n",
      "Boat 1 starts the engine and sails.\n"
     ]
    }
   ],
   "source": [
    "class Vehicle:\n",
    "    def __init__(self, name):\n",
    "        self.name = name\n",
    "\n",
    "    def start(self):\n",
    "        pass\n",
    "\n",
    "class Car(Vehicle):\n",
    "    def start(self):\n",
    "        return f\"{self.name} starts the engine and drives.\"\n",
    "\n",
    "class Bicycle(Vehicle):\n",
    "    def start(self):\n",
    "        return f\"{self.name} starts pedaling.\"\n",
    "\n",
    "class Boat(Vehicle):\n",
    "    def start(self):\n",
    "        return f\"{self.name} starts the engine and sails.\"\n",
    "\n",
    "# Create instances of different vehicles\n",
    "car = Car(\"Car 1\")\n",
    "bicycle = Bicycle(\"Bicycle 1\")\n",
    "boat = Boat(\"Boat 1\")\n",
    "\n",
    "# Demonstrate polymorphism by calling the start() method\n",
    "vehicles = [car, bicycle, boat]\n",
    "for vehicle in vehicles:\n",
    "    print(vehicle.start())"
   ]
  },
  {
   "cell_type": "markdown",
   "id": "43cf46e3-fca9-4ce3-b7a8-0fb0fdcfe2e5",
   "metadata": {},
   "source": [
    "9. Explain the significance of the `isinstance()` and `issubclass()` functions in Python polymorphism."
   ]
  },
  {
   "cell_type": "markdown",
   "id": "57b64f61-2514-4893-98dc-08ec24bc6a2c",
   "metadata": {},
   "source": [
    "The `isinstance()` and `issubclass()` functions are important in Python polymorphism for checking the type or class hierarchy of objects and classes, respectively. They provide a way to perform type and class checks, allowing you to work with objects and classes in a polymorphic manner.\n",
    "\n",
    "1. **`isinstance()` function:**\n",
    "   - The `isinstance()` function is used to check if an object belongs to a specific class or is an instance of a specific type.\n",
    "   - It's commonly used to determine if an object is an instance of a particular class or one of its subclasses. This is particularly useful when you want to apply different behaviors based on the type of an object.\n",
    "   - It returns `True` if the object is an instance of the specified class or a subclass, and `False` otherwise.\n",
    "\n",
    "2. **`issubclass()` function:**\n",
    "   - The `issubclass()` function is used to check if a class is a subclass of another class.\n",
    "   - It helps in determining the class hierarchy and relationships between classes, which can be valuable when you want to apply polymorphism and deal with a range of related classes.\n",
    "   - It returns `True` if the first class is a subclass of the second class and `False` otherwise.\n",
    "\n",
    "In the context of polymorphism, these functions allow you to make decisions about which methods or behaviors to apply to objects based on their types or class hierarchies. This is important for writing flexible and extensible code that can work with a variety of objects and classes, promoting the principles of polymorphism and code reuse."
   ]
  },
  {
   "cell_type": "markdown",
   "id": "396c68d8-21e6-44c5-971c-00dfd08bb8f5",
   "metadata": {},
   "source": [
    "10. What is the role of the `@abstractmethod` decorator in achieving polymorphism in Python? Provide an\n",
    "example."
   ]
  },
  {
   "cell_type": "markdown",
   "id": "4ae9b305-4cad-49b0-b60e-9a8861c218f6",
   "metadata": {},
   "source": [
    "\n",
    "The @abstractmethod decorator is used in Python to define abstract methods in abstract base classes. Abstract methods are methods that have no implementation in the base class and must be overridden in concrete (non-abstract) subclasses. This is a key element in achieving polymorphism by enforcing a contract that ensures specific behaviors are implemented in subclasses."
   ]
  },
  {
   "cell_type": "code",
   "execution_count": 35,
   "id": "520dead1-1455-4717-8c7d-90e66cd06110",
   "metadata": {},
   "outputs": [
    {
     "name": "stdout",
     "output_type": "stream",
     "text": [
      "Area of circle is 78.5\n",
      "Area of rectangle is 24\n"
     ]
    }
   ],
   "source": [
    "from abc import ABC, abstractmethod\n",
    "\n",
    "class Shape(ABC):\n",
    "    @abstractmethod\n",
    "    def area(self):\n",
    "        pass\n",
    "\n",
    "class Circle(Shape):\n",
    "    def __init__(self, radius):\n",
    "        self.radius = radius\n",
    "\n",
    "    def area(self):\n",
    "        return 3.14 * self.radius * self.radius\n",
    "\n",
    "class Rectangle(Shape):\n",
    "    def __init__(self, length, width):\n",
    "        self.length = length\n",
    "        self.width = width\n",
    "\n",
    "    def area(self):\n",
    "        return self.length * self.width\n",
    "\n",
    "# Attempt to create an instance of the abstract base class (Shape)\n",
    "# This would result in a TypeError since abstract classes cannot be instantiated.\n",
    "# shape = Shape()\n",
    "\n",
    "# Create instances of different shapes\n",
    "circle = Circle(5)\n",
    "rectangle = Rectangle(4, 6)\n",
    "\n",
    "# Demonstrate polymorphism by calling the area() method\n",
    "print(f\"Area of circle is {circle.area()}\")\n",
    "print(f\"Area of rectangle is {rectangle.area()}\")\n"
   ]
  },
  {
   "cell_type": "markdown",
   "id": "f23bec6a-7075-4d0c-8343-8a32b1904959",
   "metadata": {},
   "source": [
    "11. Create a Python class called `Shape` with a polymorphic method `area()` that calculates the area of different shapes (e.g., circle, rectangle, triangle). "
   ]
  },
  {
   "cell_type": "code",
   "execution_count": 36,
   "id": "15ffe585-362d-417d-8361-f234bfed3670",
   "metadata": {},
   "outputs": [
    {
     "name": "stdout",
     "output_type": "stream",
     "text": [
      "Area of circle is 78.53981633974483\n",
      "Area of square is 16\n",
      "Area of triangle is 9.0\n"
     ]
    }
   ],
   "source": [
    "import math\n",
    "\n",
    "class Shape:\n",
    "    def calculate_area(self):\n",
    "        pass\n",
    "\n",
    "class Circle(Shape):\n",
    "    def __init__(self, radius):\n",
    "        self.radius = radius\n",
    "\n",
    "    def calculate_area(self):\n",
    "        return math.pi * self.radius**2\n",
    "\n",
    "class Square(Shape):\n",
    "    def __init__(self, side_length):\n",
    "        self.side_length = side_length\n",
    "\n",
    "    def calculate_area(self):\n",
    "        return self.side_length**2\n",
    "\n",
    "class Triangle(Shape):\n",
    "    def __init__(self, base, height):\n",
    "        self.base = base\n",
    "        self.height = height\n",
    "\n",
    "    def calculate_area(self):\n",
    "        return 0.5 * self.base * self.height\n",
    "\n",
    "# Create instances of different shapes\n",
    "circle = Circle(5)\n",
    "square = Square(4)\n",
    "triangle = Triangle(6, 3)\n",
    "\n",
    "print(f\"Area of circle is {circle.calculate_area()}\")\n",
    "print(f\"Area of square is {square.calculate_area()}\")\n",
    "print(f\"Area of triangle is {triangle.calculate_area()}\")"
   ]
  },
  {
   "cell_type": "markdown",
   "id": "aa71d3b2-99b1-427e-9269-0bc50d4bbd2c",
   "metadata": {},
   "source": [
    "12. Discuss the benefits of polymorphism in terms of code reusability and flexibility in Python programs."
   ]
  },
  {
   "cell_type": "markdown",
   "id": "c68c3bd6-1ce6-43f6-a0c8-6592c671720b",
   "metadata": {},
   "source": [
    "Polymorphism offers several significant benefits in terms of code reusability and flexibility in Python programs:\n",
    "\n",
    "1. **Code Reusability:**\n",
    "   - Polymorphism promotes code reusability by allowing you to write code that can work with objects of different classes in a consistent way. This reduces code duplication and makes the codebase more maintainable.\n",
    "\n",
    "2. **Flexibility:**\n",
    "   - Polymorphism enhances the flexibility of your code. You can add new classes or subclasses without modifying the existing code that works with the base class, as long as the new classes adhere to the same interface (methods).\n",
    "\n",
    "3. **Extensibility:**\n",
    "   - Polymorphism allows you to extend the behavior of your program easily. You can create new subclasses to introduce new features or variations without affecting the existing code that depends on the base class.\n",
    "\n",
    "4. **Reduced Complexity:**\n",
    "   - Polymorphism simplifies code by eliminating the need for conditional statements that check the class or type of an object. Instead of using complex branching, you can rely on polymorphism to execute the appropriate method based on the actual class of an object.\n",
    "\n",
    "5. **Improved Maintenance:**\n",
    "   - With polymorphism, if a change or improvement is needed in a shared behavior (method), you can update the base class or interface, and all subclasses automatically inherit the change. This simplifies maintenance.\n",
    "\n",
    "6. **Plug-and-Play Components:**\n",
    "   - Polymorphism enables the creation of plug-and-play components. You can design your code to work with any object that follows a specific interface, making it easy to replace or upgrade components without disrupting the entire system.\n",
    "\n",
    "7. **Enhanced Collaboration:**\n",
    "   - Polymorphism is beneficial in collaborative development. Different team members can work on different subclasses without interfering with each other's code. The well-defined interfaces make it clear what each component should do.\n",
    "\n",
    "8. **Testing and Debugging:**\n",
    "   - Polymorphism allows you to write more modular and testable code. You can isolate and test individual components (classes) independently, reducing the complexity of testing and debugging.\n",
    "\n",
    "9. **Scalability:**\n",
    "   - As your project grows, polymorphism helps maintain scalability. It allows you to manage an ever-expanding class hierarchy efficiently, adding new features and variations with minimal disruption to existing code."
   ]
  },
  {
   "cell_type": "markdown",
   "id": "24e7099c-6041-4da3-b76e-6ddb0d0742a1",
   "metadata": {},
   "source": [
    "13. Explain the use of the `super()` function in Python polymorphism. How does it help call methods of parent\n",
    "classes?"
   ]
  },
  {
   "cell_type": "markdown",
   "id": "2419e378-2816-40ff-9abd-8c5c82094155",
   "metadata": {},
   "source": [
    "The super() function in Python is used to call methods from a parent or superclass in the context of inheritance. It is particularly useful when working with polymorphism to invoke methods of a parent class within a subclass."
   ]
  },
  {
   "cell_type": "code",
   "execution_count": 37,
   "id": "db19fbc7-5ac2-4cf2-b712-f7336038ac59",
   "metadata": {},
   "outputs": [
    {
     "name": "stdout",
     "output_type": "stream",
     "text": [
      "This is the show method of the Parent class\n",
      "This is the show method of the Child class\n"
     ]
    }
   ],
   "source": [
    "class Parent:\n",
    "    def show(self):\n",
    "        print(\"This is the show method of the Parent class\")\n",
    "\n",
    "class Child(Parent):\n",
    "    def show(self):\n",
    "        super().show()  # Calls the show method of the Parent class\n",
    "        print(\"This is the show method of the Child class\")\n",
    "\n",
    "child = Child()\n",
    "child.show()"
   ]
  },
  {
   "cell_type": "markdown",
   "id": "918d1195-6b1c-463c-be76-c0f23c812db8",
   "metadata": {},
   "source": [
    "14. Create a Python class hierarchy for a banking system with various account types (e.g., savings, checking, credit card) and demonstrate polymorphism by implementing a common `withdraw()` method. "
   ]
  },
  {
   "cell_type": "code",
   "execution_count": 40,
   "id": "d4d562c5-2455-41f4-b5fa-da4c576d01b3",
   "metadata": {},
   "outputs": [
    {
     "name": "stdout",
     "output_type": "stream",
     "text": [
      "Account: SAV123\n",
      "Withdrew INR 500. New balance: INR 1000\n",
      "\n",
      "Account: CHK456\n",
      "Withdrew INR 500. New balance: INR 700\n",
      "\n",
      "Account: CC789\n",
      "Withdrew INR 500. New balance: INR -1500\n",
      "\n"
     ]
    }
   ],
   "source": [
    "class BankAccount:\n",
    "    def __init__(self, account_number, balance):\n",
    "        self.account_number = account_number\n",
    "        self.balance = balance\n",
    "\n",
    "    def withdraw(self, amount):\n",
    "        if amount <= self.balance:\n",
    "            self.balance -= amount\n",
    "            print(f\"Withdrew INR {amount}. New balance: INR {self.balance}\")\n",
    "        else:\n",
    "            print(\"Insufficient funds.\")\n",
    "\n",
    "class SavingsAccount(BankAccount):\n",
    "    def __init__(self, account_number, balance, interest_rate):\n",
    "        super().__init__(account_number, balance)\n",
    "        self.interest_rate = interest_rate\n",
    "\n",
    "    def withdraw(self, amount):\n",
    "        super().withdraw(amount)  # Call the parent class's withdraw method\n",
    "        if self.balance >= 1000:\n",
    "            self.balance += self.balance * self.interest_rate\n",
    "\n",
    "class CheckingAccount(BankAccount):\n",
    "    def __init__(self, account_number, balance, overdraft_limit):\n",
    "        super().__init__(account_number, balance)\n",
    "        self.overdraft_limit = overdraft_limit\n",
    "\n",
    "    def withdraw(self, amount):\n",
    "        if amount <= self.balance + self.overdraft_limit:\n",
    "            self.balance -= amount\n",
    "            print(f\"Withdrew INR {amount}. New balance: INR {self.balance}\")\n",
    "        else:\n",
    "            print(\"Overdraft limit exceeded.\")\n",
    "\n",
    "class CreditCardAccount(BankAccount):\n",
    "    def __init__(self, account_number, balance, credit_limit):\n",
    "        super().__init__(account_number, balance)\n",
    "        self.credit_limit = credit_limit\n",
    "\n",
    "    def withdraw(self, amount):\n",
    "        if amount <= self.balance + self.credit_limit:\n",
    "            self.balance -= amount\n",
    "            print(f\"Withdrew INR {amount}. New balance: INR {self.balance}\")\n",
    "        else:\n",
    "            print(\"Credit limit exceeded.\")\n",
    "\n",
    "# Create instances of different account types\n",
    "savings_account = SavingsAccount(\"SAV123\", 1500, 0.05)\n",
    "checking_account = CheckingAccount(\"CHK456\", 1200, 500)\n",
    "credit_card_account = CreditCardAccount(\"CC789\", -1000, 2000)\n",
    "\n",
    "# Demonstrate polymorphism by calling the withdraw method on different account types\n",
    "accounts = [savings_account, checking_account, credit_card_account]\n",
    "\n",
    "for account in accounts:\n",
    "    print(f\"Account: {account.account_number}\")\n",
    "    account.withdraw(500)\n",
    "    print()\n"
   ]
  },
  {
   "cell_type": "markdown",
   "id": "df1e45a4-f976-49dd-9784-5048384107eb",
   "metadata": {},
   "source": [
    "15. Describe the concept of operator overloading in Python and how it relates to polymorphism. Provide\n",
    "examples using operators like `+` and `*`."
   ]
  },
  {
   "cell_type": "code",
   "execution_count": 41,
   "id": "6f31ad53-1405-42eb-85f2-77af97bf7ab1",
   "metadata": {},
   "outputs": [
    {
     "name": "stdout",
     "output_type": "stream",
     "text": [
      "3 + 8i\n"
     ]
    }
   ],
   "source": [
    "class ComplexNumber:\n",
    "    def __init__(self, real, imag):\n",
    "        self.real = real\n",
    "        self.imag = imag\n",
    "\n",
    "    def __add__(self, other):\n",
    "        # Overload the + operator to add complex numbers\n",
    "        real_part = self.real + other.real\n",
    "        imag_part = self.imag + other.imag\n",
    "        return ComplexNumber(real_part, imag_part)\n",
    "\n",
    "    def __str__(self):\n",
    "        return f\"{self.real} + {self.imag}i\"\n",
    "\n",
    "# Create complex number objects\n",
    "num1 = ComplexNumber(2, 3)\n",
    "num2 = ComplexNumber(1, 5)\n",
    "\n",
    "# Use the + operator to add complex numbers\n",
    "result = num1 + num2\n",
    "print(result)  # Output: 3 + 8i"
   ]
  },
  {
   "cell_type": "code",
   "execution_count": 42,
   "id": "edd1079b-7d22-4f66-adad-94ddf1385f7f",
   "metadata": {},
   "outputs": [
    {
     "name": "stdout",
     "output_type": "stream",
     "text": [
      "(4, 6)\n"
     ]
    }
   ],
   "source": [
    "class Vector:\n",
    "    def __init__(self, x, y):\n",
    "        self.x = x\n",
    "        self.y = y\n",
    "\n",
    "    def __mul__(self, scalar):\n",
    "        # Overload the * operator to scale the vector by a scalar\n",
    "        new_x = self.x * scalar\n",
    "        new_y = self.y * scalar\n",
    "        return Vector(new_x, new_y)\n",
    "\n",
    "    def __str__(self):\n",
    "        return f\"({self.x}, {self.y})\"\n",
    "\n",
    "# Create vector objects\n",
    "v1 = Vector(2, 3)\n",
    "\n",
    "# Use the * operator to scale the vector\n",
    "scaled_vector = v1 * 2\n",
    "print(scaled_vector)  # Output: (4, 6)\n"
   ]
  },
  {
   "cell_type": "markdown",
   "id": "790f4173-73bb-430b-9b14-48ed480a8739",
   "metadata": {},
   "source": [
    "16. What is dynamic polymorphism, and how is it achieved in Python?"
   ]
  },
  {
   "cell_type": "markdown",
   "id": "b72e03b2-e872-481b-a616-c7a5c49c0b5f",
   "metadata": {},
   "source": [
    "Dynamic polymorphism, also known as runtime polymorphism or late binding, is a concept in object-oriented programming that allows different objects to respond to the same method or operation in a way that is specific to their individual types. Dynamic polymorphism is achieved at runtime, meaning that the specific method to be executed is determined during program execution based on the actual type of the object.\n",
    "\n",
    "In Python, dynamic polymorphism is achieved through:\n",
    "\n",
    "1. Inheritance: Dynamic polymorphism relies on the ability to define a method in a parent class and override it in a subclass. When an overridden method is called on an object, the actual implementation to be executed is determined by the object's type at runtime.\n",
    "\n",
    "2. Method Overriding: In dynamic polymorphism, a subclass can provide its own implementation of a method that is already defined in its superclass. This allows the subclass to change or extend the behavior of the method.\n",
    "\n",
    "3. Base Class Reference: You can use a reference to a base class to hold an object of a derived class. This is a common way to achieve polymorphism, as the reference can be used to call overridden methods, and the specific implementation of the method is determined based on the object's actual type."
   ]
  },
  {
   "cell_type": "markdown",
   "id": "e650d8c0-34bc-45ca-8a22-75dc2611f6b5",
   "metadata": {},
   "source": [
    "17. Create a Python class hierarchy for employees in a company (e.g., manager, developer, designer) and implement polymorphism through a common `calculate_salary()` method. "
   ]
  },
  {
   "cell_type": "code",
   "execution_count": 44,
   "id": "d982b545-de48-41b3-839e-7a97b00d2187",
   "metadata": {},
   "outputs": [
    {
     "name": "stdout",
     "output_type": "stream",
     "text": [
      "John Manager's salary: INR 70000\n",
      "Alice Developer's salary: INR 52000\n",
      "Eva Designer's salary: INR 62500\n"
     ]
    }
   ],
   "source": [
    "class Employee:\n",
    "    def __init__(self, employee_id, name, base_salary):\n",
    "        self.employee_id = employee_id\n",
    "        self.name = name\n",
    "        self.base_salary = base_salary\n",
    "\n",
    "    def calculate_salary(self):\n",
    "        return self.base_salary\n",
    "\n",
    "class Manager(Employee):\n",
    "    def __init__(self, employee_id, name, base_salary, bonus):\n",
    "        super().__init__(employee_id, name, base_salary)\n",
    "        self.bonus = bonus\n",
    "\n",
    "    def calculate_salary(self):\n",
    "        # Override the calculate_salary method for managers\n",
    "        return self.base_salary + self.bonus\n",
    "\n",
    "class Developer(Employee):\n",
    "    def __init__(self, employee_id, name, base_salary, coding_languages):\n",
    "        super().__init__(employee_id, name, base_salary)\n",
    "        self.coding_languages = coding_languages\n",
    "\n",
    "    def calculate_salary(self):\n",
    "        # Override the calculate_salary method for developers\n",
    "        return self.base_salary + len(self.coding_languages) * 1000\n",
    "\n",
    "class Designer(Employee):\n",
    "    def __init__(self, employee_id, name, base_salary, projects_completed):\n",
    "        super().__init__(employee_id, name, base_salary)\n",
    "        self.projects_completed = projects_completed\n",
    "\n",
    "    def calculate_salary(self):\n",
    "        # Override the calculate_salary method for designers\n",
    "        return self.base_salary + self.projects_completed * 500\n",
    "\n",
    "# Create instances of different types of employees\n",
    "manager = Manager(101, \"John Manager\", 60000, 10000)\n",
    "developer = Developer(102, \"Alice Developer\", 50000, [\"Python\", \"JavaScript\"])\n",
    "designer = Designer(103, \"Eva Designer\", 55000, 15)\n",
    "\n",
    "# Demonstrate polymorphism by calling the calculate_salary method on different employee types\n",
    "employees = [manager, developer, designer]\n",
    "\n",
    "for employee in employees:\n",
    "    print(f\"{employee.name}'s salary: INR {employee.calculate_salary()}\")\n"
   ]
  },
  {
   "cell_type": "markdown",
   "id": "d016b858-c2ed-40be-a811-1812806843bc",
   "metadata": {},
   "source": [
    "18. Discuss the concept of function pointers and how they can be used to achieve polymorphism in Python. "
   ]
  },
  {
   "cell_type": "markdown",
   "id": "6b07897d-1b87-4a6b-926b-422881782912",
   "metadata": {},
   "source": [
    "First-Class Functions: In Python, functions are first-class citizens, which means you can treat them as objects. You can assign functions to variables, pass them as arguments, and return them from other functions.\n",
    "\n",
    "Function Dispatching: You can use dictionaries or if-else structures to dispatch function calls based on the type of an object, which is similar to the concept of function pointers"
   ]
  },
  {
   "cell_type": "markdown",
   "id": "be4d7a2b-f6aa-45fa-b238-1e81bc8e8b7e",
   "metadata": {},
   "source": [
    "19. Explain the role of interfaces and abstract classes in polymorphism, drawing comparisons between them."
   ]
  },
  {
   "cell_type": "markdown",
   "id": "a3e9a99b-4639-4792-bc67-4577a8408759",
   "metadata": {},
   "source": [
    "**Abstract Classes:**\n",
    "\n",
    "1. **Definition:** An abstract class is a class that cannot be instantiated directly. It serves as a blueprint for other classes. Abstract classes can contain both abstract and concrete methods.\n",
    "\n",
    "2. **Abstract Methods:** An abstract class can have abstract methods, which are declared but not implemented in the abstract class itself. Subclasses of an abstract class must provide implementations for these abstract methods.\n",
    "\n",
    "3. **Inheritance:** Subclasses inherit the attributes and methods from an abstract class, and they are required to implement the abstract methods.\n",
    "\n",
    "4. **Commonality:** Abstract classes are typically used when you want to provide a common base class with some default behavior that can be shared by multiple subclasses. Abstract classes allow you to define a common interface with a mixture of abstract and concrete methods.\n",
    "\n",
    "**Interfaces:**\n",
    "\n",
    "1. **Definition:** An interface is a collection of abstract methods. In Python, interfaces are not defined explicitly, but you can achieve the same effect by creating classes with abstract methods and then implementing those methods in other classes.\n",
    "\n",
    "2. **Abstract Methods:** Interfaces contain only abstract methods, and the classes that implement the interface must provide concrete implementations for all the methods in the interface.\n",
    "\n",
    "3. **Multiple Inheritance:** In Python, a class can implement multiple interfaces. This provides more flexibility in defining the behavior of a class.\n",
    "\n",
    "4. **Commonality:** Interfaces are used to define a contract that multiple classes can adhere to. They ensure that specific methods are available in implementing classes, promoting polymorphism.\n",
    "\n",
    "**Comparisons:**\n",
    "\n",
    "- **Abstract classes** can contain both abstract and concrete methods, while **interfaces** contain only abstract methods.\n",
    "\n",
    "- **Abstract classes** are used when you want to provide a common base class with some default behavior, while **interfaces** define a contract that multiple classes must adhere to.\n",
    "\n",
    "- **Interfaces** allow multiple inheritance, meaning a class can implement multiple interfaces, whereas a class can inherit from only one base class (abstract or not).\n",
    "\n",
    "- Both mechanisms support polymorphism, allowing different classes to implement the same interface and be treated interchangeably. However, the choice between using abstract classes or interfaces depends on the design and requirements of the system."
   ]
  },
  {
   "cell_type": "markdown",
   "id": "f4582b3c-4e76-4ed6-949c-7d414b861a5d",
   "metadata": {},
   "source": [
    "20. Create a Python class for a zoo simulation, demonstrating polymorphism with different animal types (e.g., mammals, birds, reptiles) and their behavior (e.g., eating, sleeping, making sounds). "
   ]
  },
  {
   "cell_type": "code",
   "execution_count": 45,
   "id": "ee8c5466-c236-4e65-a771-2718be813fc3",
   "metadata": {},
   "outputs": [
    {
     "name": "stdout",
     "output_type": "stream",
     "text": [
      "Leo the mammal is eating.\n",
      "Leo the mammal is sleeping.\n",
      "Leo the mammal is making a sound.\n",
      "\n",
      "Eddy the bird is eating.\n",
      "Eddy the bird is sleeping.\n",
      "Eddy the bird is singing.\n",
      "\n",
      "Sammy the reptile is eating.\n",
      "Sammy the reptile is basking in the sun.\n",
      "Sammy the reptile is hissing.\n",
      "\n"
     ]
    }
   ],
   "source": [
    "class Animal:\n",
    "    def __init__(self, name):\n",
    "        self.name = name\n",
    "\n",
    "    def eat(self):\n",
    "        pass\n",
    "\n",
    "    def sleep(self):\n",
    "        pass\n",
    "\n",
    "    def make_sound(self):\n",
    "        pass\n",
    "\n",
    "class Mammal(Animal):\n",
    "    def __init__(self, name):\n",
    "        super().__init__(name)\n",
    "\n",
    "    def eat(self):\n",
    "        return f\"{self.name} the mammal is eating.\"\n",
    "\n",
    "    def sleep(self):\n",
    "        return f\"{self.name} the mammal is sleeping.\"\n",
    "\n",
    "    def make_sound(self):\n",
    "        return f\"{self.name} the mammal is making a sound.\"\n",
    "\n",
    "class Bird(Animal):\n",
    "    def __init__(self, name):\n",
    "        super().__init__(name)\n",
    "\n",
    "    def eat(self):\n",
    "        return f\"{self.name} the bird is eating.\"\n",
    "\n",
    "    def sleep(self):\n",
    "        return f\"{self.name} the bird is sleeping.\"\n",
    "\n",
    "    def make_sound(self):\n",
    "        return f\"{self.name} the bird is singing.\"\n",
    "\n",
    "class Reptile(Animal):\n",
    "    def __init__(self, name):\n",
    "        super().__init__(name)\n",
    "\n",
    "    def eat(self):\n",
    "        return f\"{self.name} the reptile is eating.\"\n",
    "\n",
    "    def sleep(self):\n",
    "        return f\"{self.name} the reptile is basking in the sun.\"\n",
    "\n",
    "    def make_sound(self):\n",
    "        return f\"{self.name} the reptile is hissing.\"\n",
    "\n",
    "# Create instances of different types of animals\n",
    "lion = Mammal(\"Leo\")\n",
    "eagle = Bird(\"Eddy\")\n",
    "snake = Reptile(\"Sammy\")\n",
    "\n",
    "# Demonstrate polymorphism by calling different animal behaviors\n",
    "zoo = [lion, eagle, snake]\n",
    "\n",
    "for animal in zoo:\n",
    "    print(animal.eat())\n",
    "    print(animal.sleep())\n",
    "    print(animal.make_sound())\n",
    "    print()\n"
   ]
  },
  {
   "cell_type": "markdown",
   "id": "e8b8f409-b403-4f96-ab10-aac7cdedb1de",
   "metadata": {
    "tags": []
   },
   "source": [
    "## Abstraction:"
   ]
  },
  {
   "cell_type": "markdown",
   "id": "6b484281-7b24-4496-8daa-a6dd1f483491",
   "metadata": {},
   "source": [
    "1. What is abstraction in Python, and how does it relate to object-oriented programming?"
   ]
  },
  {
   "cell_type": "markdown",
   "id": "e9a6a289-2c02-4150-9407-89614e6bc032",
   "metadata": {},
   "source": [
    "Abstraction is a fundamental concept in object-oriented programming (OOP) that allows you to model and manage complexity by hiding irrelevant details while exposing the essential features of an object. Abstraction provides a simplified and high-level view of an object or system, making it easier to work with.\n",
    "\n",
    "In Python, and OOP in general, abstraction is closely related to the following key concepts:\n",
    "\n",
    "1. **Classes and Objects:** Abstraction involves defining classes that represent real-world entities or concepts. These classes encapsulate both data (attributes) and behavior (methods) related to the entity they model. Objects are instances of these classes, and they allow you to work with specific instances of the abstract concept.\n",
    "\n",
    "2. **Data Hiding:** Abstraction often involves hiding the internal details of a class (data and methods) that are not relevant to the user of the class. This is achieved through access control mechanisms, such as public, private, and protected attributes and methods.\n",
    "\n",
    "3. **Encapsulation:** Encapsulation is a mechanism used to bundle data and methods that operate on that data into a single unit (i.e., a class). This ensures that data and behavior are closely related and controlled within the class, providing a higher level of abstraction. It also enforces data protection by limiting direct access to class attributes.\n",
    "\n",
    "4. **Abstract Classes and Methods:** Abstraction may also involve defining abstract classes and methods. Abstract classes cannot be instantiated and are meant to be subclassed. Abstract methods are declared in abstract classes but do not provide an implementation. Subclasses of abstract classes are required to implement these abstract methods, enforcing a contract.\n",
    "\n",
    "5. **Polymorphism:** Abstraction allows for the use of polymorphism, where different objects of the same or related classes can be treated interchangeably, providing a high level of abstraction and code reusability."
   ]
  },
  {
   "cell_type": "markdown",
   "id": "153622bd-730b-4fa6-a70e-a6224509a960",
   "metadata": {},
   "source": [
    "2. Describe the benefits of abstraction in terms of code organization and complexity reduction."
   ]
  },
  {
   "cell_type": "markdown",
   "id": "5d0b821e-fa13-408f-b77b-1743af119c6e",
   "metadata": {},
   "source": [
    "Abstraction provides several benefits in terms of code organization and complexity reduction in software development:\n",
    "\n",
    "1. **Hides Complexity:** Abstraction allows you to hide the internal details and complexities of a class or module. This means that the users of the class or module can interact with a simplified and high-level interface, making it easier to use without needing to understand the inner workings.\n",
    "\n",
    "2. **Modularity:** Abstraction encourages modularity by breaking down a complex system into smaller, manageable components. Each component can be abstracted as a class or module, and these components can be developed, tested, and maintained independently.\n",
    "\n",
    "3. **Code Reusability:** Abstraction promotes code reusability by creating reusable components that can be used in various parts of an application. When you abstract common functionality into classes or modules, you can reuse those components in different contexts, reducing code duplication.\n",
    "\n",
    "4. **Separation of Concerns:** Abstraction helps separate concerns in your code. Each class or module can focus on a specific aspect or responsibility, making it easier to understand, maintain, and test. This separation of concerns also leads to cleaner and more maintainable code.\n",
    "\n",
    "5. **Easier Maintenance:** Because abstraction isolates components and hides internal details, when you need to make changes or fixes, you can do so without affecting other parts of the code. This reduces the risk of introducing unintended side effects.\n",
    "\n",
    "6. **Improved Collaboration:** Abstraction makes it easier for multiple developers to work on a project simultaneously. Each developer can work on different components with well-defined interfaces, reducing conflicts and coordination overhead.\n",
    "\n",
    "7. **Enhanced Scalability:** Abstraction allows you to scale your codebase more easily. When you need to add new features or extend existing functionality, you can do so by creating new classes or modules that adhere to the established abstractions.\n",
    "\n",
    "8. **Simplified Testing:** Abstraction simplifies testing because you can test individual components in isolation. This makes it easier to write unit tests for each class or module, ensuring that each piece of the system functions correctly.\n",
    "\n",
    "9. **Reduced Cognitive Load:** Abstraction reduces the cognitive load on developers because they don't need to keep the entire system in their minds at once. They can focus on the specific component they are working on, knowing that the abstractions provide a clear and consistent interface to the rest of the system.\n",
    "\n",
    "10. **Code Readability:** Abstraction improves code readability because it allows developers to work with a high-level interface that abstracts away unnecessary implementation details. This makes the code more understandable and self-explanatory."
   ]
  },
  {
   "cell_type": "markdown",
   "id": "51083122-9419-4961-86e8-51201355e979",
   "metadata": {},
   "source": [
    "3. Create a Python class called `Shape` with an abstract method `calculate_area()`. Then, create child classes (e.g., `Circle`, `Rectangle`) that implement the `calculate_area()` method. Provide an example of using these classes."
   ]
  },
  {
   "cell_type": "code",
   "execution_count": 49,
   "id": "284b1871-9425-46aa-a024-e28b7971e82a",
   "metadata": {},
   "outputs": [
    {
     "name": "stdout",
     "output_type": "stream",
     "text": [
      "Area of the circle: 78.53750000000001\n",
      "Area of the rectangle: 24\n"
     ]
    }
   ],
   "source": [
    "from abc import ABC, abstractmethod\n",
    "\n",
    "class Shape(ABC):\n",
    "    @abstractmethod\n",
    "    def calculate_area(self):\n",
    "        pass\n",
    "\n",
    "class Circle(Shape):\n",
    "    def __init__(self, radius):\n",
    "        self.radius = radius\n",
    "\n",
    "    def calculate_area(self):\n",
    "        return 3.1415 * self.radius * self.radius\n",
    "\n",
    "class Rectangle(Shape):\n",
    "    def __init__(self, length, width):\n",
    "        self.length = length\n",
    "        self.width = width\n",
    "\n",
    "    def calculate_area(self):\n",
    "        return self.length * self.width\n",
    "\n",
    "# Create instances of Circle and Rectangle\n",
    "circle = Circle(5)\n",
    "rectangle = Rectangle(4, 6)\n",
    "\n",
    "# Calculate and print the areas\n",
    "print(f\"Area of the circle: {circle.calculate_area()}\")\n",
    "print(f\"Area of the rectangle: {rectangle.calculate_area()}\")\n"
   ]
  },
  {
   "cell_type": "markdown",
   "id": "05294341-359d-4dbd-8dd7-f18103d1b8e5",
   "metadata": {},
   "source": [
    "4. Explain the concept of abstract classes in Python and how they are defined using the `abc` module. Provide\n",
    "an example."
   ]
  },
  {
   "cell_type": "markdown",
   "id": "c5e5a4e5-af9e-42ef-a73e-f7f13dc883aa",
   "metadata": {},
   "source": [
    "In Python, abstract classes are classes that cannot be instantiated directly and are meant to serve as blueprints for other classes. Abstract classes define methods that must be implemented by any concrete (non-abstract) subclasses. The abc module (Abstract Base Classes) in Python provides the infrastructure for creating abstract classes."
   ]
  },
  {
   "cell_type": "code",
   "execution_count": 50,
   "id": "4802a837-f18f-40eb-bded-7f0103c26742",
   "metadata": {},
   "outputs": [
    {
     "name": "stdout",
     "output_type": "stream",
     "text": [
      "Area of the circle: 78.53750000000001\n",
      "Perimeter of the circle: 31.415000000000003\n",
      "Area of the rectangle: 24\n",
      "Perimeter of the rectangle: 20\n"
     ]
    }
   ],
   "source": [
    "from abc import ABC, abstractmethod\n",
    "\n",
    "class Shape(ABC):\n",
    "    @abstractmethod\n",
    "    def calculate_area(self):\n",
    "        pass\n",
    "\n",
    "    @abstractmethod\n",
    "    def calculate_perimeter(self):\n",
    "        pass\n",
    "\n",
    "class Circle(Shape):\n",
    "    def __init__(self, radius):\n",
    "        self.radius = radius\n",
    "\n",
    "    def calculate_area(self):\n",
    "        return 3.1415 * self.radius * self.radius\n",
    "\n",
    "    def calculate_perimeter(self):\n",
    "        return 2 * 3.1415 * self.radius\n",
    "\n",
    "class Rectangle(Shape):\n",
    "    def __init__(self, length, width):\n",
    "        self.length = length\n",
    "        self.width = width\n",
    "\n",
    "    def calculate_area(self):\n",
    "        return self.length * self.width\n",
    "\n",
    "    def calculate_perimeter(self):\n",
    "        return 2 * (self.length + self.width)\n",
    "\n",
    "# You can't create an instance of an abstract class\n",
    "# shape = Shape()  # This will raise a TypeError\n",
    "\n",
    "# Create instances of Circle and Rectangle\n",
    "circle = Circle(5)\n",
    "rectangle = Rectangle(4, 6)\n",
    "\n",
    "# Calculate and print the areas and perimeters\n",
    "print(f\"Area of the circle: {circle.calculate_area()}\")\n",
    "print(f\"Perimeter of the circle: {circle.calculate_perimeter()}\")\n",
    "print(f\"Area of the rectangle: {rectangle.calculate_area()}\")\n",
    "print(f\"Perimeter of the rectangle: {rectangle.calculate_perimeter()}\")\n"
   ]
  },
  {
   "cell_type": "markdown",
   "id": "343d01eb-f6f7-4ed6-80b1-2821c39a0408",
   "metadata": {},
   "source": [
    "5. How do abstract classes differ from regular classes in Python? Discuss their use cases."
   ]
  },
  {
   "cell_type": "markdown",
   "id": "3886fbd9-3ec3-4d53-bf8b-31fcb8d40e54",
   "metadata": {},
   "source": [
    "Abstract classes and regular classes in Python differ in several key aspects:\n",
    "\n",
    "1. Instantiation:\n",
    "   - Regular classes can be instantiated directly to create objects.\n",
    "   - Abstract classes cannot be instantiated directly. They exist to define a common interface for their subclasses.\n",
    "\n",
    "2. Abstract Methods:\n",
    "   - Abstract classes may contain abstract methods, which are methods without an implementation. Subclasses of an abstract class must provide implementations for these abstract methods.\n",
    "   - Regular classes do not have abstract methods, and all methods defined within them must have implementations.\n",
    "\n",
    "3. Use Cases:\n",
    "   - Abstract classes are typically used to define a common interface for a group of related classes. They serve as blueprints or templates for creating concrete subclasses that share a common set of methods and attributes. Abstract classes ensure that concrete subclasses adhere to a certain structure and interface.\n",
    "   - Regular classes are used to create objects directly. They define the behavior and attributes of instances of the class.\n",
    "\n",
    "Here are some common use cases for each:\n",
    "\n",
    "Use Cases for Abstract Classes:\n",
    "- Creating a hierarchy of related classes: Abstract classes are useful when you have a group of related classes that share some common behaviors or methods. By defining an abstract class, you can ensure that all subclasses implement these common behaviors.\n",
    "- Implementing plugins or extensions: Abstract classes are often used in plugin architectures where multiple plugins extend a common base class. The base class defines the required interface, and each plugin must provide implementations for the required methods.\n",
    "\n",
    "Use Cases for Regular Classes:\n",
    "- Defining concrete objects: Regular classes are used to create instances of objects that have specific attributes and behaviors. For example, you might create a `Person` class to represent individual people, each with a name, age, and other attributes.\n",
    "- Implementing utility classes: Regular classes are suitable for creating utility classes that provide specific functionality. For instance, a `MathUtils` class can contain various mathematical functions, and its methods have complete implementations."
   ]
  },
  {
   "cell_type": "markdown",
   "id": "fb74658f-e8a6-401e-9b62-43ad1d3f86de",
   "metadata": {},
   "source": [
    "6. Create a Python class for a bank account and demonstrate abstraction by hiding the account balance and\n",
    "providing methods to deposit and withdraw funds."
   ]
  },
  {
   "cell_type": "code",
   "execution_count": 51,
   "id": "95d74a56-5c03-4b8b-b7d9-8d737b705a46",
   "metadata": {},
   "outputs": [
    {
     "name": "stdout",
     "output_type": "stream",
     "text": [
      "Deposited $500.0. New balance: $1500.0\n",
      "Withdrew $200.0. New balance: $1300.0\n",
      "Insufficient funds. Withdrawal not allowed.\n",
      "Current balance: $1300.0\n",
      "Account Number: 12345, Account Holder: John Doe, Balance: $1300.0\n"
     ]
    }
   ],
   "source": [
    "class BankAccount:\n",
    "    def __init__(self, account_number, account_holder, initial_balance=0.0):\n",
    "        self._account_number = account_number\n",
    "        self._account_holder = account_holder\n",
    "        self._balance = initial_balance\n",
    "\n",
    "    def deposit(self, amount):\n",
    "        if amount > 0:\n",
    "            self._balance += amount\n",
    "            print(f\"Deposited ${amount}. New balance: ${self._balance}\")\n",
    "        else:\n",
    "            print(\"Invalid deposit amount. Please enter a positive amount.\")\n",
    "\n",
    "    def withdraw(self, amount):\n",
    "        if 0 < amount <= self._balance:\n",
    "            self._balance -= amount\n",
    "            print(f\"Withdrew ${amount}. New balance: ${self._balance}\")\n",
    "        elif amount <= 0:\n",
    "            print(\"Invalid withdrawal amount. Please enter a positive amount.\")\n",
    "        else:\n",
    "            print(\"Insufficient funds. Withdrawal not allowed.\")\n",
    "\n",
    "    def get_balance(self):\n",
    "        return self._balance\n",
    "\n",
    "    def get_account_info(self):\n",
    "        return f\"Account Number: {self._account_number}, Account Holder: {self._account_holder}, Balance: ${self._balance}\"\n",
    "\n",
    "# Create a bank account\n",
    "account1 = BankAccount(\"12345\", \"John Doe\", 1000.0)\n",
    "\n",
    "# Deposit and withdraw funds\n",
    "account1.deposit(500.0)\n",
    "account1.withdraw(200.0)\n",
    "account1.withdraw(1500.0)\n",
    "\n",
    "# Access account balance\n",
    "balance = account1.get_balance()\n",
    "print(f\"Current balance: ${balance}\")\n",
    "\n",
    "# Access account information\n",
    "account_info = account1.get_account_info()\n",
    "print(account_info)\n"
   ]
  },
  {
   "cell_type": "markdown",
   "id": "3137543c-4224-4d13-8a94-52f7358cb7c2",
   "metadata": {},
   "source": [
    "7. Discuss the concept of interface classes in Python and their role in achieving abstraction."
   ]
  },
  {
   "cell_type": "markdown",
   "id": "4162a547-385f-44c0-8604-6fd40e9bffe1",
   "metadata": {},
   "source": [
    "In Python, interface classes are not built-in like they are in some other programming languages such as Java or C#. However, the concept of interface-like behavior can be achieved in Python through abstract base classes and duck typing. Python provides a module called `abc` (Abstract Base Classes) that allows you to define abstract methods and create classes that serve as interfaces, even though there's no strict enforcement of interfaces like in some statically-typed languages.\n",
    "\n",
    "Here's a discussion of the concept of interface classes in Python and their role in achieving abstraction:\n",
    "\n",
    "1. **Abstract Base Classes (ABCs):** Python's `abc` module allows you to define abstract classes and methods. An abstract class is a class that cannot be instantiated directly, and it may contain one or more abstract methods, which are methods without implementations. Concrete subclasses must provide implementations for these abstract methods.\n",
    "\n",
    "2. **Duck Typing:** In Python, you often achieve interface-like behavior through \"duck typing.\" This means that if an object behaves like a certain interface (exposes the expected methods), it's considered to implement that interface. Python doesn't require explicit declarations of interfaces; it relies on the behavior of objects.\n",
    "\n",
    "3. **Role of Interface Classes:** Interface classes in Python serve as a contract that specifies the methods a class must implement to fulfill a particular role or interface. This enables polymorphism and abstraction. When different classes implement the same interface, you can interact with them using a common set of methods, even if their internal implementations differ.\n",
    "\n"
   ]
  },
  {
   "cell_type": "markdown",
   "id": "39b2cf99-c17e-420f-8893-e4134d37bd9b",
   "metadata": {},
   "source": [
    "8. Create a Python class hierarchy for animals and implement abstraction by defining common methods (e.g., `eat()`, `sleep()`) in an abstract base class. "
   ]
  },
  {
   "cell_type": "code",
   "execution_count": 52,
   "id": "02da2c58-71dc-41c8-904d-3b27755a5a50",
   "metadata": {},
   "outputs": [
    {
     "name": "stdout",
     "output_type": "stream",
     "text": [
      "Buddy: Buddy is eating dog food.\n",
      "Buddy: Buddy is sleeping in its dog bed.\n",
      "\n",
      "Whiskers: Whiskers is eating cat food.\n",
      "Whiskers: Whiskers is napping on the couch.\n",
      "\n",
      "Simba: Simba is hunting for prey.\n",
      "Simba: Simba is resting in the shade.\n",
      "\n"
     ]
    }
   ],
   "source": [
    "from abc import ABC, abstractmethod\n",
    "\n",
    "class Animal(ABC):\n",
    "    def __init__(self, name):\n",
    "        self.name = name\n",
    "\n",
    "    @abstractmethod\n",
    "    def eat(self):\n",
    "        pass\n",
    "\n",
    "    @abstractmethod\n",
    "    def sleep(self):\n",
    "        pass\n",
    "\n",
    "class Dog(Animal):\n",
    "    def eat(self):\n",
    "        return f\"{self.name} is eating dog food.\"\n",
    "\n",
    "    def sleep(self):\n",
    "        return f\"{self.name} is sleeping in its dog bed.\"\n",
    "\n",
    "class Cat(Animal):\n",
    "    def eat(self):\n",
    "        return f\"{self.name} is eating cat food.\"\n",
    "\n",
    "    def sleep(self):\n",
    "        return f\"{self.name} is napping on the couch.\"\n",
    "\n",
    "class Lion(Animal):\n",
    "    def eat(self):\n",
    "        return f\"{self.name} is hunting for prey.\"\n",
    "\n",
    "    def sleep(self):\n",
    "        return f\"{self.name} is resting in the shade.\"\n",
    "\n",
    "# Create instances of different animals\n",
    "dog = Dog(\"Buddy\")\n",
    "cat = Cat(\"Whiskers\")\n",
    "lion = Lion(\"Simba\")\n",
    "\n",
    "# Interact with the animals\n",
    "animals = [dog, cat, lion]\n",
    "\n",
    "for animal in animals:\n",
    "    print(f\"{animal.name}: {animal.eat()}\")\n",
    "    print(f\"{animal.name}: {animal.sleep()}\")\n",
    "    print()\n"
   ]
  },
  {
   "cell_type": "markdown",
   "id": "781f66a5-b8c4-44f5-b578-a137ee00e92f",
   "metadata": {},
   "source": [
    "9. Explain the significance of encapsulation in achieving abstraction. Provide examples."
   ]
  },
  {
   "cell_type": "markdown",
   "id": "759a9716-d278-4fc1-b70b-b1f3842f117d",
   "metadata": {},
   "source": [
    "Encapsulation is a fundamental concept in achieving abstraction in object-oriented programming. It involves bundling data (attributes) and the methods (functions) that operate on that data into a single unit, which is called a class. Encapsulation serves as a protective barrier that prevents the direct access and modification of an object's internal state from outside the class. This ensures that the object's data is accessed and manipulated through well-defined interfaces, promoting data integrity, and abstraction.\n",
    "\n",
    "Here's the significance of encapsulation in achieving abstraction with examples:\n",
    "\n",
    "1. **Data Hiding:** Encapsulation hides the internal state of an object by making its attributes private or protected. This prevents direct access to the object's data from outside the class, promoting data security and reducing the risk of unintended data modification. \n",
    "\n",
    "2. **Abstraction through Method Interfaces:** Encapsulation promotes abstraction by defining well-defined interfaces (methods) to interact with an object. Users of the class don't need to know the implementation details; they only need to use the provided methods.\n",
    "\n",
    "3. **Encapsulation and Abstraction for Modularity:** Encapsulation allows you to encapsulate the internal details of a class, making it a modular building block in your code. This helps reduce the complexity of your code by abstracting away the details of how the class works.\n",
    "\n",
    "4. **Flexibility and Maintenance:** Encapsulation allows you to change the internal implementation of a class without affecting the code that uses the class. This flexibility in maintaining and evolving your codebase is crucial for large and complex software systems."
   ]
  },
  {
   "cell_type": "code",
   "execution_count": 54,
   "id": "4d5f3e09-b954-41c6-b686-359a17287541",
   "metadata": {},
   "outputs": [
    {
     "name": "stdout",
     "output_type": "stream",
     "text": [
      "Driving Toyota Camry.\n"
     ]
    }
   ],
   "source": [
    "class Car:\n",
    "    def __init__(self, make, model):\n",
    "        self.make = make\n",
    "        self.model = model\n",
    "\n",
    "    def start(self):\n",
    "        print(f\"{self.make} {self.model} is starting.\")\n",
    "\n",
    "def drive(car):\n",
    "    print(f\"Driving {car.make} {car.model}.\")\n",
    "\n",
    "my_car = Car(\"Toyota\", \"Camry\")\n",
    "drive(my_car)  # Abstraction: Drive the car without knowing its internal details\n",
    "\n",
    " "
   ]
  },
  {
   "cell_type": "markdown",
   "id": "4cd1e19a-39ea-475b-b185-e74ca57cd48a",
   "metadata": {},
   "source": [
    "10. What is the purpose of abstract methods, and how do they enforce abstraction in Python classes?"
   ]
  },
  {
   "cell_type": "markdown",
   "id": "b082396e-ffeb-40ec-875a-54fe4d5d7bd1",
   "metadata": {},
   "source": [
    "Abstract methods are a key feature in Python used to enforce abstraction and provide a mechanism for defining a method's signature in an abstract base class without implementing it. The primary purposes of abstract methods are:\n",
    "\n",
    "1. **Enforce Abstraction:** Abstract methods define a contract that concrete subclasses must adhere to. They enforce the presence of specific methods in derived classes, ensuring that all derived classes provide their own implementations for these methods. This promotes consistency and abstraction.\n",
    "\n",
    "2. **Provide a Template:** Abstract methods serve as a template for the behavior that subclasses should implement. They specify the method's name and parameter list but leave the actual implementation to the derived classes.\n",
    "\n",
    "Define and use abstract methods in Python:\n",
    "\n",
    "1. **Import the `abc` Module:** You need to import the `abc` (Abstract Base Classes) module to work with abstract methods.\n",
    "\n",
    "2. **Create an Abstract Base Class:** Define an abstract base class by subclassing `ABC` from the `abc` module.\n",
    "\n",
    "3. **Define Abstract Methods:** Declare abstract methods in the abstract base class using the `@abstractmethod` decorator. These methods are only defined with their names and parameters, not with any actual code.\n",
    "\n",
    "4. **Implement Derived Classes:** Concrete subclasses inherit from the abstract base class and are required to provide implementations for the abstract methods."
   ]
  },
  {
   "cell_type": "markdown",
   "id": "ee0a583e-ba3b-4bd0-8018-39385b961eee",
   "metadata": {},
   "source": [
    "11. Create a Python class for a vehicle system and demonstrate abstraction by defining common methods (e.g., `start()`, `stop()`) in an abstract base class. "
   ]
  },
  {
   "cell_type": "code",
   "execution_count": 55,
   "id": "56c38c63-8c6f-4326-957e-9207dcfb32ae",
   "metadata": {},
   "outputs": [
    {
     "name": "stdout",
     "output_type": "stream",
     "text": [
      "Toyota Camry is starting.\n",
      "Toyota Camry is stopping.\n",
      "Trek Mountain Bike is pedaling.\n",
      "Trek Mountain Bike is braking.\n",
      "Bayliner Speedboat is sailing.\n",
      "Bayliner Speedboat is anchoring.\n"
     ]
    }
   ],
   "source": [
    "from abc import ABC, abstractmethod\n",
    "\n",
    "class Vehicle(ABC):\n",
    "    def __init__(self, make, model):\n",
    "        self.make = make\n",
    "        self.model = model\n",
    "\n",
    "    @abstractmethod\n",
    "    def start(self):\n",
    "        pass\n",
    "\n",
    "    @abstractmethod\n",
    "    def stop(self):\n",
    "        pass\n",
    "\n",
    "class Car(Vehicle):\n",
    "    def start(self):\n",
    "        return f\"{self.make} {self.model} is starting.\"\n",
    "\n",
    "    def stop(self):\n",
    "        return f\"{self.make} {self.model} is stopping.\"\n",
    "\n",
    "class Bicycle(Vehicle):\n",
    "    def start(self):\n",
    "        return f\"{self.make} {self.model} is pedaling.\"\n",
    "\n",
    "    def stop(self):\n",
    "        return f\"{self.make} {self.model} is braking.\"\n",
    "\n",
    "class Boat(Vehicle):\n",
    "    def start(self):\n",
    "        return f\"{self.make} {self.model} is sailing.\"\n",
    "\n",
    "    def stop(self):\n",
    "        return f\"{self.make} {self.model} is anchoring.\"\n",
    "\n",
    "# Creating instances of concrete subclasses\n",
    "my_car = Car(\"Toyota\", \"Camry\")\n",
    "my_bicycle = Bicycle(\"Trek\", \"Mountain Bike\")\n",
    "my_boat = Boat(\"Bayliner\", \"Speedboat\")\n",
    "\n",
    "# Using the common methods from the abstract base class\n",
    "print(my_car.start())\n",
    "print(my_car.stop())\n",
    "\n",
    "print(my_bicycle.start())\n",
    "print(my_bicycle.stop())\n",
    "\n",
    "print(my_boat.start())\n",
    "print(my_boat.stop())\n"
   ]
  },
  {
   "cell_type": "markdown",
   "id": "088be42c-3bdf-4558-85e0-987fb841d7f0",
   "metadata": {},
   "source": [
    "12. Describe the use of abstract properties in Python and how they can be employed in abstract classes."
   ]
  },
  {
   "cell_type": "markdown",
   "id": "83d17c58-1a2d-4245-a6cd-9454569be748",
   "metadata": {},
   "source": [
    "Abstract properties in Python are a way to enforce a contract within abstract classes by requiring derived classes to provide specific attributes with getter and setter methods. They are useful when you want to ensure that certain attributes exist in derived classes and adhere to a specific interface. Here's how you can use abstract properties in abstract classes:\n",
    "\n",
    "1. **Import the `abc` Module:** Just like with abstract methods, you need to import the `abc` (Abstract Base Classes) module to work with abstract properties.\n",
    "\n",
    "2. **Create an Abstract Base Class:** Define an abstract base class by subclassing `ABC` from the `abc` module.\n",
    "\n",
    "3. **Define Abstract Properties:** Declare abstract properties in the abstract base class using the `@property` decorator for getter methods and the `@property_name.setter` decorator for setter methods. These abstract properties are defined in the abstract base class but should not be implemented.\n",
    "\n",
    "4. **Implement Derived Classes:** Concrete subclasses inherit from the abstract base class and must provide implementations for the abstract properties.\n",
    "\n",
    "Abstract properties are a powerful tool for defining and enforcing attributes in abstract classes, ensuring that derived classes adhere to a specific interface."
   ]
  },
  {
   "cell_type": "markdown",
   "id": "8741fb13-a04c-4ae5-8846-ce3845024aa7",
   "metadata": {},
   "source": [
    "13. Create a Python class hierarchy for employees in a company (e.g., manager, developer, designer) and implement abstraction by defining a common `get_salary()` method. "
   ]
  },
  {
   "cell_type": "code",
   "execution_count": 56,
   "id": "d0d478d5-1d3c-44f2-9371-6438d186a2b2",
   "metadata": {},
   "outputs": [
    {
     "name": "stdout",
     "output_type": "stream",
     "text": [
      "Alice's salary is $75000 per year.\n",
      "Bob's salary is $72800 per year.\n",
      "Carol's salary is $72000 per year.\n"
     ]
    }
   ],
   "source": [
    "from abc import ABC, abstractmethod\n",
    "\n",
    "class Employee(ABC):\n",
    "    def __init__(self, name, employee_id):\n",
    "        self.name = name\n",
    "        self.employee_id = employee_id\n",
    "\n",
    "    @abstractmethod\n",
    "    def get_salary(self):\n",
    "        pass\n",
    "\n",
    "class Manager(Employee):\n",
    "    def __init__(self, name, employee_id, salary):\n",
    "        super().__init__(name, employee_id)\n",
    "        self.salary = salary\n",
    "\n",
    "    def get_salary(self):\n",
    "        return f\"{self.name}'s salary is ${self.salary} per year.\"\n",
    "\n",
    "class Developer(Employee):\n",
    "    def __init__(self, name, employee_id, hourly_rate, hours_worked):\n",
    "        super().__init__(name, employee_id)\n",
    "        self.hourly_rate = hourly_rate\n",
    "        self.hours_worked = hours_worked\n",
    "\n",
    "    def get_salary(self):\n",
    "        return f\"{self.name}'s salary is ${self.hourly_rate * self.hours_worked} per year.\"\n",
    "\n",
    "class Designer(Employee):\n",
    "    def __init__(self, name, employee_id, monthly_salary):\n",
    "        super().__init__(name, employee_id)\n",
    "        self.monthly_salary = monthly_salary\n",
    "\n",
    "    def get_salary(self):\n",
    "        return f\"{self.name}'s salary is ${self.monthly_salary * 12} per year.\"\n",
    "\n",
    "# Creating instances of different employees\n",
    "manager = Manager(\"Alice\", 101, 75000)\n",
    "developer = Developer(\"Bob\", 102, 35, 2080)  # Assuming 35 dollars per hour, 2080 hours per year\n",
    "designer = Designer(\"Carol\", 103, 6000)  # Monthly salary of $6000\n",
    "\n",
    "# Calling the common get_salary() method for each employee\n",
    "print(manager.get_salary())\n",
    "print(developer.get_salary())\n",
    "print(designer.get_salary())\n"
   ]
  },
  {
   "cell_type": "markdown",
   "id": "d86586e4-8f13-4fdf-94c2-f0ccaa962da5",
   "metadata": {},
   "source": [
    "14. Discuss the differences between abstract classes and concrete classes in Python, including their\n",
    "instantiation."
   ]
  },
  {
   "cell_type": "markdown",
   "id": "0d82feef-0719-4d75-97cd-8c76190a7f69",
   "metadata": {},
   "source": [
    "Abstract classes and concrete classes in Python have distinct characteristics, particularly in terms of their definitions and instantiation:\n",
    "\n",
    "1. **Definition:**\n",
    "\n",
    "   - **Abstract Classes:**\n",
    "     - Abstract classes are defined using the `abc` module (Abstract Base Classes) and the `ABC` metaclass.\n",
    "     - They may contain abstract methods, which are declared using the `@abstractmethod` decorator.\n",
    "     - Abstract classes serve as templates or blueprints for other classes and cannot be instantiated directly.\n",
    "     - Abstract classes are designed to be subclassed, and derived classes must provide concrete implementations of the abstract methods.\n",
    "\n",
    "   - **Concrete Classes:**\n",
    "     - Concrete classes are regular Python classes that do not use the `abc` module or the `ABC` metaclass.\n",
    "     - They may contain concrete methods, attributes, and constructors.\n",
    "     - Concrete classes can be instantiated directly to create objects.\n",
    "     - They may also be subclassed to create more specific concrete classes or to extend functionality.\n",
    "\n",
    "2. **Instantiation:**\n",
    "\n",
    "   - **Abstract Classes:**\n",
    "     - Abstract classes cannot be instantiated directly using the `MyAbstractClass()` syntax.\n",
    "     - They serve as a blueprint for creating concrete subclasses.\n",
    "     - You can only create instances of concrete subclasses derived from the abstract class.\n",
    "     - Abstract classes provide a common interface and enforce that specific methods must be implemented in derived concrete classes.\n",
    "\n",
    "   - **Concrete Classes:**\n",
    "     - Concrete classes can be instantiated directly using the `MyConcreteClass()` syntax.\n",
    "     - They represent tangible objects with attributes and methods.\n",
    "     - Instances of concrete classes are used to work with real data and perform specific tasks.\n",
    "     - Concrete classes may or may not have inheritance relationships with other classes."
   ]
  },
  {
   "cell_type": "markdown",
   "id": "e4983fd9-5623-44d4-b63c-62d673871403",
   "metadata": {},
   "source": [
    "15. Explain the concept of abstract data types (ADTs) and their role in achieving abstraction in Python."
   ]
  },
  {
   "cell_type": "markdown",
   "id": "e53c2730-523d-4a56-a3db-c7f67a546a5c",
   "metadata": {},
   "source": [
    "Abstract Data Types (ADTs) are a high-level concept in computer science and software engineering that play a crucial role in achieving abstraction. ADTs provide a way to model data structures and the operations that can be performed on them without specifying the implementation details. They help hide the complexities of data structures and emphasize how data is organized and manipulated.\n",
    "\n",
    "In Python, you can create ADTs using classes and methods, leveraging object-oriented programming principles. Here's how ADTs relate to achieving abstraction in Python:\n",
    "\n",
    "1. **Data Abstraction:**\n",
    "   - ADTs define the structure and behavior of data in an abstract manner. They focus on what the data represents and how it can be manipulated without revealing the internal details.\n",
    "   - In Python, you can create custom classes to represent ADTs, defining attributes and methods that represent the abstract data structure. These classes serve as abstractions for data.\n",
    "\n",
    "2. **Encapsulation:**\n",
    "   - ADTs encapsulate data and related operations within a single unit. This encapsulation ensures that data and operations are bundled together, providing a clean and organized way to interact with the data.\n",
    "   - Python classes encapsulate data (attributes) and methods, allowing you to control access to the data through methods (getters and setters).\n",
    "\n",
    "3. **Information Hiding:**\n",
    "   - ADTs hide the internal details of data structures, allowing users of the ADT to work with data without needing to understand the underlying implementation.\n",
    "   - In Python, encapsulation and access control mechanisms like private attributes and methods (using name mangling) can be used to hide implementation details from external code.\n",
    "\n",
    "4. **Abstraction Layers:**\n",
    "   - ADTs can be thought of as abstraction layers that provide a well-defined interface for interacting with data.\n",
    "   - Python classes, with their methods, offer a clean and high-level interface for data manipulation. Users of the class only need to know how to use the methods without worrying about implementation details.\n",
    "\n",
    "5. **Reusability:**\n",
    "   - ADTs promote code reusability. Once you've defined an ADT, you can use it in multiple parts of your code or in different projects without rewriting the same data and operations.\n",
    "   - Python classes can be reused in various contexts, providing a consistent way to work with data and reducing the need for redundant code.\n",
    "\n",
    "6. **Modularity:**\n",
    "   - ADTs encourage modularity by breaking down complex systems into manageable components. Each ADT represents a specific data structure with a defined set of operations.\n",
    "   - In Python, you can create modular classes for different data structures and their operations, making your code more organized and maintainable.\n",
    "\n",
    "Overall, abstract data types in Python, implemented as classes and methods, allow you to create high-level, reusable, and modular abstractions for data structures, promoting abstraction, encapsulation, and information hiding. This, in turn, enhances code readability, maintainability, and reusability."
   ]
  },
  {
   "cell_type": "markdown",
   "id": "83337ecd-583c-4b3c-ac63-cc5491eeefc8",
   "metadata": {},
   "source": [
    "16. Create a Python class for a computer system, demonstrating abstraction by defining common methods (e.g., `power_on()`, `shutdown()`) in an abstract base class."
   ]
  },
  {
   "cell_type": "code",
   "execution_count": 57,
   "id": "6b2371d9-b095-41c1-aa95-113fd1f215fd",
   "metadata": {},
   "outputs": [
    {
     "name": "stdout",
     "output_type": "stream",
     "text": [
      "Dell XPS 9000 desktop is powering on.\n",
      "HP Pavilion 15 laptop is shutting down.\n"
     ]
    }
   ],
   "source": [
    "from abc import ABC, abstractmethod\n",
    "\n",
    "class Computer(ABC):\n",
    "    def __init__(self, brand, model):\n",
    "        self.brand = brand\n",
    "        self.model = model\n",
    "\n",
    "    @abstractmethod\n",
    "    def power_on(self):\n",
    "        pass\n",
    "\n",
    "    @abstractmethod\n",
    "    def shutdown(self):\n",
    "        pass\n",
    "\n",
    "class DesktopComputer(Computer):\n",
    "    def power_on(self):\n",
    "        return f\"{self.brand} {self.model} desktop is powering on.\"\n",
    "\n",
    "    def shutdown(self):\n",
    "        return f\"{self.brand} {self.model} desktop is shutting down.\"\n",
    "\n",
    "class LaptopComputer(Computer):\n",
    "    def power_on(self):\n",
    "        return f\"{self.brand} {self.model} laptop is powering on.\"\n",
    "\n",
    "    def shutdown(self):\n",
    "        return f\"{self.brand} {self.model} laptop is shutting down.\"\n",
    "\n",
    "# Instantiate and use computer objects\n",
    "desktop = DesktopComputer(\"Dell\", \"XPS 9000\")\n",
    "laptop = LaptopComputer(\"HP\", \"Pavilion 15\")\n",
    "\n",
    "print(desktop.power_on())\n",
    "print(laptop.shutdown())\n"
   ]
  },
  {
   "cell_type": "markdown",
   "id": "4a9e141b-33b1-4d7e-a66d-405da4695597",
   "metadata": {},
   "source": [
    "17. Discuss the benefits of using abstraction in large-scale software development projects."
   ]
  },
  {
   "cell_type": "markdown",
   "id": "4375d650-315a-4f64-bdc2-9a25c6d22bc4",
   "metadata": {},
   "source": [
    "Using abstraction in large-scale software development projects offers several significant benefits:\n",
    "\n",
    "1. **Simplified Code:** Abstraction allows developers to work with high-level concepts rather than dealing with low-level details. This simplifies the code, making it easier to read, understand, and maintain.\n",
    "\n",
    "2. **Modularity:** Abstraction enables breaking down complex systems into smaller, manageable modules. Each module can focus on a specific aspect of functionality, promoting modularity and reusability. Modules can be developed and tested independently, enhancing the overall development process.\n",
    "\n",
    "3. **Encapsulation:** Abstraction hides the internal complexities of objects and exposes only the necessary functionality. This encapsulation ensures that the internal implementation details are hidden from the users of the class or module, enhancing security and preventing unintended interference.\n",
    "\n",
    "4. **Flexibility:** Abstraction allows for interchangeable components. If multiple classes adhere to the same abstract interface, they can be used interchangeably. This flexibility facilitates the swapping of components without affecting the overall system, promoting agility in software development.\n",
    "\n",
    "5. **Code Reusability:** Abstract classes and interfaces can be inherited or implemented by multiple classes. This promotes code reuse, as the same interface or abstract class can be used across various parts of the system or in different projects.\n",
    "\n",
    "6. **Maintenance and Debugging:** Abstraction simplifies the debugging process. If an issue arises, developers can focus on the abstract interface without delving into the internal implementations of concrete classes. This separation of concerns speeds up the debugging and maintenance process.\n",
    "\n",
    "7. **Collaborative Development:** Abstraction allows teams to work collaboratively. Developers can work on different parts of a project, creating implementations based on a shared abstract interface. As long as they adhere to the abstraction, the components will integrate seamlessly.\n",
    "\n",
    "8. **Adaptability:** Abstraction allows developers to create systems that can adapt to changing requirements. By modifying or extending concrete implementations while adhering to the established abstraction, developers can accommodate new features or changes without disrupting existing code.\n",
    "\n",
    "9. **Enhanced Testing:** Abstract interfaces provide clear boundaries for testing. Test cases can be designed around these interfaces, ensuring that different implementations meet the same expectations. This standardization simplifies the testing process and promotes robust software quality.\n",
    "\n",
    "10. **Code Understandability:** Abstraction promotes a clearer understanding of the system's architecture. By defining abstract interfaces, developers create a clear contract for the behavior of classes. This clarity enhances communication among team members and stakeholders.\n",
    "\n",
    "In large-scale projects, where complexity is inherent, abstraction is essential. It promotes a structured, modular, and organized approach to software development, making it easier to manage, expand, and maintain the system over time."
   ]
  },
  {
   "cell_type": "markdown",
   "id": "68e67574-c52c-4ba2-a1d5-3316958974c7",
   "metadata": {},
   "source": [
    "18. Explain how abstraction enhances code reusability and modularity in Python programs."
   ]
  },
  {
   "cell_type": "markdown",
   "id": "adf0a18c-c6e8-4eb5-b4a2-7bde477e6bf8",
   "metadata": {},
   "source": [
    "Abstraction enhances code reusability and modularity in Python programs by promoting a structured, organized, and efficient approach to software development. Here's how abstraction achieves this:\n",
    "\n",
    "1. **Modularity:** Abstraction encourages breaking down complex systems into smaller, self-contained modules. Each module is responsible for a specific aspect of functionality, such as data storage, user interface, or business logic. This modular design promotes the separation of concerns, making it easier to understand, develop, test, and maintain individual components.\n",
    "\n",
    "2. **Code Reusability:** Abstraction allows you to create abstract classes and interfaces that define a common set of methods or properties. Concrete classes can then implement these abstract classes or interfaces, providing consistent and reusable functionality across different parts of the program. This reusability reduces redundancy and promotes a \"write once, use many times\" approach.\n",
    "\n",
    "3. **Flexibility:** Abstract classes and interfaces provide a contract that multiple classes can adhere to. This contract ensures that different classes implement the same methods or properties, making them interchangeable. This flexibility allows you to swap components without affecting the overall system. It's particularly valuable in situations where requirements change or when you want to plug in different implementations.\n",
    "\n",
    "4. **Encapsulation:** Abstraction hides the internal details of classes and modules, exposing only what is necessary for other parts of the program to interact with them. This encapsulation enhances security and prevents unintended interference with the internal implementation. Developers can work with the abstract interface without needing to know the specifics of how it works.\n",
    "\n",
    "5. **Simplified Code:** Abstraction simplifies code by allowing you to work with high-level concepts rather than low-level details. This simplification results in code that is easier to read, understand, and maintain. It also reduces the cognitive load on developers, making it easier to work with and extend the codebase.\n",
    "\n",
    "6. **Standardized Interfaces:** Abstract classes and interfaces define standardized methods and properties. This standardization makes it clear how different parts of the program should interact with each other. When classes adhere to these standards, it ensures a consistent and predictable behavior, improving code quality.\n",
    "\n",
    "7. **Testing and Quality Assurance:** Abstraction provides clear boundaries for testing. Test cases can be designed around abstract interfaces, allowing you to test different implementations using the same set of tests. This standardizes the testing process, improves test coverage, and enhances the overall quality of the software.\n",
    "\n",
    "8. **Collaborative Development:** Abstraction supports collaborative development. Teams can work on different parts of a project, creating implementations based on shared abstract interfaces. As long as they adhere to the abstraction, the components will seamlessly integrate, allowing multiple developers to work on different aspects of the project simultaneously."
   ]
  },
  {
   "cell_type": "markdown",
   "id": "ab28b0d2-8353-4509-9edf-58546c8635f5",
   "metadata": {},
   "source": [
    "19. Create a Python class for a library system, implementing abstraction by defining common methods (e.g., `add_book()`, `borrow_book()`) in an abstract base class. "
   ]
  },
  {
   "cell_type": "code",
   "execution_count": 58,
   "id": "e302a61c-de6e-4c12-9d21-f939f691ff9b",
   "metadata": {},
   "outputs": [
    {
     "name": "stdout",
     "output_type": "stream",
     "text": [
      "Book Title: Python Programming\n",
      "Author: John Smith\n",
      "ISBN: 978-1234567890\n",
      "Python Programming by John Smith has been checked out.\n",
      "Python Programming has been checked in.\n",
      "DVD Title: Python: The Movie\n",
      "Director: Jane Doe\n",
      "Release Year: 2022\n",
      "Python: The Movie by Jane Doe has been checked out.\n"
     ]
    }
   ],
   "source": [
    "from abc import ABC, abstractmethod\n",
    "\n",
    "class LibraryItem(ABC):\n",
    "    def __init__(self, title, author):\n",
    "        self.title = title\n",
    "        self.author = author\n",
    "        self.checked_out = False\n",
    "\n",
    "    @abstractmethod\n",
    "    def display_info(self):\n",
    "        pass\n",
    "\n",
    "    def check_out(self):\n",
    "        if not self.checked_out:\n",
    "            self.checked_out = True\n",
    "            print(f\"{self.title} by {self.author} has been checked out.\")\n",
    "        else:\n",
    "            print(f\"{self.title} is already checked out.\")\n",
    "\n",
    "    def check_in(self):\n",
    "        if self.checked_out:\n",
    "            self.checked_out = False\n",
    "            print(f\"{self.title} has been checked in.\")\n",
    "        else:\n",
    "            print(f\"{self.title} is already checked in.\")\n",
    "\n",
    "class Book(LibraryItem):\n",
    "    def __init__(self, title, author, isbn):\n",
    "        super().__init__(title, author)\n",
    "        self.isbn = isbn\n",
    "\n",
    "    def display_info(self):\n",
    "        return f\"Book Title: {self.title}\\nAuthor: {self.author}\\nISBN: {self.isbn}\"\n",
    "\n",
    "class DVD(LibraryItem):\n",
    "    def __init__(self, title, director, release_year):\n",
    "        super().__init__(title, director)\n",
    "        self.release_year = release_year\n",
    "\n",
    "    def display_info(self):\n",
    "        return f\"DVD Title: {self.title}\\nDirector: {self.author}\\nRelease Year: {self.release_year}\"\n",
    "\n",
    "# Example usage:\n",
    "book = Book(\"Python Programming\", \"John Smith\", \"978-1234567890\")\n",
    "dvd = DVD(\"Python: The Movie\", \"Jane Doe\", 2022)\n",
    "\n",
    "print(book.display_info())\n",
    "book.check_out()\n",
    "book.check_in()\n",
    "\n",
    "print(dvd.display_info())\n",
    "dvd.check_out()\n"
   ]
  },
  {
   "cell_type": "markdown",
   "id": "d9dba1d6-9135-4bdd-b2b9-dcdda41e2e55",
   "metadata": {},
   "source": [
    "20. Describe the concept of method abstraction in Python and how it relates to polymorphism."
   ]
  },
  {
   "cell_type": "markdown",
   "id": "fdf6e904-8b90-4fed-a4ee-1a0c57261dd6",
   "metadata": {},
   "source": [
    "Method abstraction in Python is closely related to the concept of polymorphism and is a key component of object-oriented programming. Method abstraction allows you to define a common interface for a set of related classes by declaring abstract methods in an abstract base class (usually done using the `abc` module). These abstract methods define the method signatures that must be implemented by concrete subclasses.\n",
    "\n",
    "Here's how method abstraction and polymorphism are related:\n",
    "\n",
    "1. **Abstraction**: Method abstraction involves defining abstract methods in a base class. These abstract methods are placeholders that declare the method signature without providing an implementation. They serve as a contract that concrete subclasses must adhere to.\n",
    "\n",
    "2. **Polymorphism**: Polymorphism is the ability of different classes to be treated as instances of a common superclass. In Python, polymorphism allows objects of different classes to be used interchangeably if they implement the same abstract methods. This enables you to write code that operates on objects based on their common interface (abstract methods), rather than their specific types.\n",
    "\n",
    "Method abstraction and polymorphism work together to achieve the following benefits:\n",
    "\n",
    "- **Code Reusability**: By defining a common interface through abstract methods, you can write code that can work with a wide range of objects without needing to know their specific types. This promotes code reusability.\n",
    "\n",
    "- **Flexibility**: You can easily add new classes that conform to the same interface without needing to modify existing code. This flexibility makes your code more adaptable to changes and extensions.\n",
    "\n",
    "- **Reduced Coupling**: Abstraction reduces the coupling between classes, as classes interact based on a contract (the abstract methods) rather than specific implementations. This results in a more modular and maintainable codebase.\n",
    "\n",
    "- **Enhanced Readability**: Code that relies on a common interface is often more readable and easier to understand, as it focuses on what an object can do (the abstract methods it implements) rather than how it's implemented."
   ]
  },
  {
   "cell_type": "markdown",
   "id": "9da916bf-710f-4119-aca7-e0f700624838",
   "metadata": {
    "tags": []
   },
   "source": [
    "## Composition:"
   ]
  },
  {
   "cell_type": "markdown",
   "id": "8ac15b28-9bf6-4fae-b7cd-9f7642ce3b88",
   "metadata": {},
   "source": [
    "1. Explain the concept of composition in Python and how it is used to build complex objects from simpler ones."
   ]
  },
  {
   "cell_type": "markdown",
   "id": "62db5d0e-caa9-4666-8365-3ffc15b475b5",
   "metadata": {},
   "source": [
    "Composition is a fundamental concept in object-oriented programming that allows you to build complex objects by combining simpler ones. It is a way to model a \"has-a\" relationship between objects, where one object is composed of one or more other objects. Composition is used to create more modular and flexible code by breaking down complex systems into smaller, reusable components.\n",
    "\n",
    "In Python, composition is often implemented by including instances of other classes as attributes within a class. This is sometimes referred to as \"has-a\" or \"contains-a\" relationship, as an object of one class contains or is composed of objects of another class.\n",
    "\n",
    "Key points about composition in Python:\n",
    "\n",
    "1. **Modular Design**: Composition promotes a modular design where each component (class) has a specific responsibility. This makes the codebase easier to understand and maintain.\n",
    "\n",
    "2. **Reusability**: You can reuse existing classes and components when building complex objects, reducing code duplication.\n",
    "\n",
    "3. **Flexibility**: You can change or extend the behavior of a complex object by modifying or replacing its components, without affecting the entire system.\n",
    "\n",
    "4. **Encapsulation**: Composition often involves encapsulating the internal details of a component, hiding its implementation from the outside world. This promotes data hiding and information hiding.\n",
    "\n",
    "Composition provides a way to create flexible and modular code, making it easier to design and maintain complex systems in Python. It's a powerful tool for achieving code reusability and promoting a \"has-a\" relationship between objects."
   ]
  },
  {
   "cell_type": "markdown",
   "id": "b4894165-a452-403d-99e5-63ce06664ef4",
   "metadata": {},
   "source": [
    "2. Describe the difference between composition and inheritance in object-oriented programming."
   ]
  },
  {
   "cell_type": "markdown",
   "id": "cef7f6f8-0fcb-44d2-97a9-24d126014978",
   "metadata": {},
   "source": [
    "Composition and inheritance are two fundamental concepts in object-oriented programming (OOP) that enable code reuse and modularity. However, they differ in their approaches to achieving these goals.\n",
    "\n",
    "**Differences**:\n",
    "\n",
    "1. **Relationship Type**: Composition establishes a \"has-a\" relationship, while inheritance establishes an \"is-a\" relationship.\n",
    "\n",
    "2. **Modularity vs. Specialization**: Composition emphasizes modularity and code reuse through modular components, whereas inheritance emphasizes specialization by inheriting and extending the behavior of existing classes.\n",
    "\n",
    "3. **Flexibility**: Composition offers greater flexibility in terms of changing and customizing the behavior of objects by changing their components. Inheritance, on the other hand, can lead to a rigid class hierarchy.\n",
    "\n",
    "4. **Code Reusability**: Both composition and inheritance support code reusability, but composition is often more flexible and less prone to some of the issues associated with inheritance, such as tight coupling and inheritance-related bugs."
   ]
  },
  {
   "cell_type": "markdown",
   "id": "8c33700d-d399-4e39-9b25-4d9bf22a53b1",
   "metadata": {},
   "source": [
    "3. Create a Python class called `Author` with attributes for name and birthdate. Then, create a `Book` class\n",
    "that contains an instance of `Author` as a composition. Provide an example of creating a `Book` object."
   ]
  },
  {
   "cell_type": "code",
   "execution_count": 46,
   "id": "0a35d0f4-d854-4f6f-9f84-91bec2008d45",
   "metadata": {},
   "outputs": [
    {
     "name": "stdout",
     "output_type": "stream",
     "text": [
      "Title: Harry Potter and the Sorcerer's Stone, Published in 1997\n",
      "Author: J.K. Rowling (born July 31, 1965)\n"
     ]
    }
   ],
   "source": [
    "class Author:\n",
    "    def __init__(self, name, birthdate):\n",
    "        self.name = name\n",
    "        self.birthdate = birthdate\n",
    "\n",
    "class Book:\n",
    "    def __init__(self, title, author, publication_year):\n",
    "        self.title = title\n",
    "        self.author = author\n",
    "        self.publication_year = publication_year\n",
    "\n",
    "    def display_info(self):\n",
    "        author_info = f\"Author: {self.author.name} (born {self.author.birthdate})\"\n",
    "        book_info = f\"Title: {self.title}, Published in {self.publication_year}\"\n",
    "        return f\"{book_info}\\n{author_info}\"\n",
    "\n",
    "# Create an Author instance\n",
    "author = Author(\"J.K. Rowling\", \"July 31, 1965\")\n",
    "\n",
    "# Create a Book instance with the Author instance as part of the composition\n",
    "book = Book(\"Harry Potter and the Sorcerer's Stone\", author, 1997)\n",
    "\n",
    "# Display book information\n",
    "print(book.display_info())\n"
   ]
  },
  {
   "cell_type": "markdown",
   "id": "ba85539b-75d9-4398-bfe5-324e361aacb8",
   "metadata": {},
   "source": [
    "4. Discuss the benefits of using composition over inheritance in Python, especially in terms of code flexibility\n",
    "and reusability."
   ]
  },
  {
   "cell_type": "markdown",
   "id": "cce9c553-91dc-44dc-85e9-acbacd44a00d",
   "metadata": {},
   "source": [
    "Using composition over inheritance is a design principle in object-oriented programming that encourages developers to favor composition (building complex objects by combining simpler objects) rather than relying solely on inheritance (creating new classes based on existing classes). Composition offers several benefits, especially in terms of code flexibility and reusability in Python:\n",
    "\n",
    "1. **Flexibility and Reduced Coupling:**\n",
    "   - Composition allows you to create objects with only the components (objects) they need, reducing unnecessary dependencies.\n",
    "   - It promotes loose coupling between classes, making it easier to modify or replace components without affecting the entire system.\n",
    "   - Inheritance can lead to tight coupling, making it challenging to change the superclass without affecting all subclasses.\n",
    "\n",
    "2. **Code Reusability:**\n",
    "   - Composition encourages reusing existing classes, which can be more versatile and reusable than a single base class.\n",
    "   - You can create a library of reusable components and assemble them in various combinations to create different classes and objects.\n",
    "   - Inheritance often results in a deep hierarchy, making it harder to reuse and combine functionality from different classes.\n",
    "\n",
    "3. **Single Responsibility Principle (SRP):**\n",
    "   - Composition aligns with the SRP, a key principle in SOLID design. Each class or component has a single responsibility, making it easier to understand and maintain.\n",
    "   - Inheritance can lead to bloated classes that violate the SRP as they inherit methods that might not be relevant to their purpose.\n",
    "\n",
    "4. **Flexibility in Object Creation:**\n",
    "   - Composition allows dynamic creation of objects at runtime. You can assemble objects with the desired components, providing flexibility in configuring objects.\n",
    "   - Inheritance requires the creation of fixed subclasses at design time, which might not cover all use cases.\n",
    "\n",
    "5. **Avoiding Fragile Base Class Problem:**\n",
    "   - Inheritance can lead to the fragile base class problem, where changes to a base class can inadvertently break subclasses.\n",
    "   - Composition mitigates this issue, as changes to a component class usually have a smaller impact, affecting only the classes that use that component.\n",
    "\n",
    "6. **Testability:**\n",
    "   - Composition facilitates testing by allowing you to replace components with mock objects or test doubles during unit testing.\n",
    "   - Inheritance can make it harder to isolate and test specific behavior, as you are stuck with the inherited methods.\n",
    "\n",
    "7. **Simplifying Multiple Inheritance:**\n",
    "   - In Python, multiple inheritance can lead to the diamond problem and complex method resolution order (MRO) issues.\n",
    "   - Composition simplifies this by allowing you to select and control which components to use, avoiding MRO conflicts.\n",
    "\n",
    "8. **Enhanced Encapsulation:**\n",
    "   - Composition can enhance encapsulation by hiding the details of a component class within the composite class. Clients only interact with the composite class's interface.\n",
    "   - Inheritance exposes the implementation details of the base class to subclasses, which can lead to tight coupling."
   ]
  },
  {
   "cell_type": "markdown",
   "id": "4b96d76d-747d-4d68-b765-a6ddcc83b53f",
   "metadata": {},
   "source": [
    "5. How can you implement composition in Python classes? Provide examples of using composition to create\n",
    "complex objects."
   ]
  },
  {
   "cell_type": "code",
   "execution_count": 47,
   "id": "265c0fab-a233-42e2-aa1d-83e6704abaf0",
   "metadata": {},
   "outputs": [
    {
     "name": "stdout",
     "output_type": "stream",
     "text": [
      "Total area of the house: 650 square feet\n"
     ]
    }
   ],
   "source": [
    "class Room:\n",
    "    def __init__(self, name, area):\n",
    "        self.name = name\n",
    "        self.area = area\n",
    "\n",
    "class House:\n",
    "    def __init__(self):\n",
    "        self.rooms = {\n",
    "            \"living_room\": Room(\"Living Room\", 300),\n",
    "            \"kitchen\": Room(\"Kitchen\", 200),\n",
    "            \"bedroom\": Room(\"Bedroom\", 150),\n",
    "        }\n",
    "\n",
    "    def get_total_area(self):\n",
    "        return sum(room.area for room in self.rooms.values())\n",
    "\n",
    "# Create a House instance\n",
    "my_house = House()\n",
    "\n",
    "# Calculate and display the total area of the house\n",
    "total_area = my_house.get_total_area()\n",
    "print(f\"Total area of the house: {total_area} square feet\")\n",
    "# Output: Total area of the house: 650 square feet\n"
   ]
  },
  {
   "cell_type": "markdown",
   "id": "8372cac8-3428-46a5-9d16-d77f21a09db5",
   "metadata": {},
   "source": [
    "6. Create a Python class hierarchy for a music player system, using composition to represent playlists and\n",
    "songs."
   ]
  },
  {
   "cell_type": "code",
   "execution_count": 48,
   "id": "3587441b-0327-4b68-bfe9-99e40692bf05",
   "metadata": {},
   "outputs": [
    {
     "name": "stdout",
     "output_type": "stream",
     "text": [
      "Playing playlist: My Playlist\n",
      "Now playing: Song 1 by Artist A\n",
      "Now playing: Song 2 by Artist B\n",
      "Now playing: Song 3 by Artist C\n"
     ]
    }
   ],
   "source": [
    "class Song:\n",
    "    def __init__(self, title, artist, duration):\n",
    "        self.title = title\n",
    "        self.artist = artist\n",
    "        self.duration = duration\n",
    "\n",
    "    def play(self):\n",
    "        print(f\"Now playing: {self.title} by {self.artist}\")\n",
    "\n",
    "class Playlist:\n",
    "    def __init__(self, name):\n",
    "        self.name = name\n",
    "        self.songs = []\n",
    "\n",
    "    def add_song(self, song):\n",
    "        self.songs.append(song)\n",
    "\n",
    "    def play(self):\n",
    "        print(f\"Playing playlist: {self.name}\")\n",
    "        for song in self.songs:\n",
    "            song.play()\n",
    "\n",
    "class MusicPlayer:\n",
    "    def __init__(self):\n",
    "        self.playlists = []\n",
    "        self.current_playlist = None\n",
    "\n",
    "    def create_playlist(self, name):\n",
    "        playlist = Playlist(name)\n",
    "        self.playlists.append(playlist)\n",
    "        return playlist\n",
    "\n",
    "    def set_current_playlist(self, playlist):\n",
    "        self.current_playlist = playlist\n",
    "\n",
    "    def play_current_playlist(self):\n",
    "        if self.current_playlist:\n",
    "            self.current_playlist.play()\n",
    "        else:\n",
    "            print(\"No playlist selected. Please set a current playlist.\")\n",
    "\n",
    "# Create Song instances\n",
    "song1 = Song(\"Song 1\", \"Artist A\", \"3:30\")\n",
    "song2 = Song(\"Song 2\", \"Artist B\", \"4:15\")\n",
    "song3 = Song(\"Song 3\", \"Artist C\", \"2:50\")\n",
    "\n",
    "# Create MusicPlayer instance\n",
    "music_player = MusicPlayer()\n",
    "\n",
    "# Create and add songs to a playlist\n",
    "my_playlist = music_player.create_playlist(\"My Playlist\")\n",
    "my_playlist.add_song(song1)\n",
    "my_playlist.add_song(song2)\n",
    "my_playlist.add_song(song3)\n",
    "\n",
    "# Set the current playlist and play it\n",
    "music_player.set_current_playlist(my_playlist)\n",
    "music_player.play_current_playlist()\n"
   ]
  },
  {
   "cell_type": "markdown",
   "id": "c4e681cf-35c8-4444-8c45-91ebbce62197",
   "metadata": {},
   "source": [
    "7. Explain the concept of \"has-a\" relationships in composition and how it helps design software systems."
   ]
  },
  {
   "cell_type": "markdown",
   "id": "3b08458c-9c2d-4f1b-8d2e-42411de977d9",
   "metadata": {},
   "source": [
    "In software design, a \"has-a\" relationship is a type of relationship between classes, indicating that one class contains or is composed of another class. It's a form of composition where one class \"has\" another class as a part or attribute. This relationship helps design software systems by allowing you to create more complex and flexible objects by combining simpler ones. Here are some key points about \"has-a\" relationships in composition:\n",
    "\n",
    "1. **Composition**: \"Has-a\" relationships are a form of composition, where a class is composed of one or more instances of other classes. This allows you to create complex objects by combining simpler ones, making your code more modular and maintainable.\n",
    "\n",
    "2. **Reusability**: By using \"has-a\" relationships, you can reuse existing classes and components. For example, you can create a `Playlist` class that \"has\" `Song` objects. This promotes code reusability because you can use the same `Song` class in multiple playlists.\n",
    "\n",
    "3. **Flexibility**: \"Has-a\" relationships provide flexibility in designing software systems. You can easily change or extend the composition of objects without affecting the overall structure of your code. For instance, you can add new songs to a playlist or change the songs within a playlist without modifying the `Playlist` class itself.\n",
    "\n",
    "4. **Abstraction**: \"Has-a\" relationships allow you to abstract the complexity of an object by breaking it down into smaller, more manageable components. This promotes a high level of abstraction in your code, making it easier to understand and maintain.\n",
    "\n",
    "5. **Encapsulation**: Each component within the \"has-a\" relationship maintains its encapsulation. This means that the internal details of a component are hidden from the outside, ensuring data integrity and security.\n",
    "\n",
    "6. **Complexity Management**: In large software systems, managing complexity is essential. \"Has-a\" relationships help manage complexity by dividing a system into smaller, interconnected parts, which can be developed and tested independently."
   ]
  },
  {
   "cell_type": "markdown",
   "id": "ff540103-ff13-4926-ab88-3b1699cc2140",
   "metadata": {},
   "source": [
    "8. Create a Python class for a computer system, using composition to represent components like CPU, RAM, and storage devices."
   ]
  },
  {
   "cell_type": "code",
   "execution_count": 59,
   "id": "d107bca6-8992-402a-9ab6-05c474c04c34",
   "metadata": {},
   "outputs": [
    {
     "name": "stdout",
     "output_type": "stream",
     "text": [
      "Computer Specifications:\n",
      "CPU: Intel i7, Clock Speed: 2.6 GHz\n",
      "RAM: 16 GB, Speed: 2400 MHz\n",
      "Storage: 512 GB SSD\n"
     ]
    }
   ],
   "source": [
    "class CPU:\n",
    "    def __init__(self, brand, model, clock_speed):\n",
    "        self.brand = brand\n",
    "        self.model = model\n",
    "        self.clock_speed = clock_speed\n",
    "\n",
    "    def info(self):\n",
    "        return f\"CPU: {self.brand} {self.model}, Clock Speed: {self.clock_speed} GHz\"\n",
    "\n",
    "class RAM:\n",
    "    def __init__(self, capacity, speed):\n",
    "        self.capacity = capacity\n",
    "        self.speed = speed\n",
    "\n",
    "    def info(self):\n",
    "        return f\"RAM: {self.capacity} GB, Speed: {self.speed} MHz\"\n",
    "\n",
    "class Storage:\n",
    "    def __init__(self, capacity, storage_type):\n",
    "        self.capacity = capacity\n",
    "        self.storage_type = storage_type\n",
    "\n",
    "    def info(self):\n",
    "        return f\"Storage: {self.capacity} GB {self.storage_type}\"\n",
    "\n",
    "class Computer:\n",
    "    def __init__(self, cpu, ram, storage):\n",
    "        self.cpu = cpu\n",
    "        self.ram = ram\n",
    "        self.storage = storage\n",
    "\n",
    "    def system_info(self):\n",
    "        cpu_info = self.cpu.info()\n",
    "        ram_info = self.ram.info()\n",
    "        storage_info = self.storage.info()\n",
    "        return f\"Computer Specifications:\\n{cpu_info}\\n{ram_info}\\n{storage_info}\"\n",
    "\n",
    "# Create CPU, RAM, and Storage instances\n",
    "cpu = CPU(\"Intel\", \"i7\", 2.6)\n",
    "ram = RAM(16, 2400)\n",
    "storage = Storage(512, \"SSD\")\n",
    "\n",
    "# Create a Computer instance using composition\n",
    "my_computer = Computer(cpu, ram, storage)\n",
    "\n",
    "# Display the computer system information\n",
    "print(my_computer.system_info())\n"
   ]
  },
  {
   "cell_type": "markdown",
   "id": "b64e84ff-ef69-4dd7-bf8a-81f325d9dc8d",
   "metadata": {},
   "source": [
    "9. Describe the concept of \"delegation\" in composition and how it simplifies the design of complex systems."
   ]
  },
  {
   "cell_type": "markdown",
   "id": "e29737f2-216b-4c50-a7ee-9640490eb8b0",
   "metadata": {},
   "source": [
    "\"Delegation\" in composition is a design principle where an object delegates certain responsibilities or behaviors to another object instead of implementing those behaviors itself. It simplifies the design of complex systems by allowing each component to focus on its specific functionality, promoting code reuse, and making the system more modular and maintainable.\n",
    "\n",
    "Here are some key points about delegation in composition:\n",
    "\n",
    "1. **Single Responsibility Principle (SRP):** Delegation aligns with the SRP, a fundamental principle of software design that states that a class should have only one reason to change. By delegating specific tasks to separate classes or objects, you ensure that each class has a well-defined responsibility.\n",
    "\n",
    "2. **Code Reusability:** Delegation encourages code reuse. Instead of duplicating code for common functionality, you can delegate that functionality to shared components, reducing redundancy and making the codebase more maintainable.\n",
    "\n",
    "3. **Modularity:** Delegation promotes modularity, allowing you to encapsulate complex behaviors in separate modules or classes. Each module can be developed, tested, and maintained independently.\n",
    "\n",
    "4. **Ease of Testing:** Delegating specific tasks to dedicated classes simplifies testing. You can focus on testing the behavior of each component in isolation, which makes it easier to identify and fix issues.\n",
    "\n",
    "5. **Flexibility:** Delegation makes it easier to swap or extend components. If a better component becomes available or you need to add new functionality, you can do so without rewriting the entire system. This is crucial for adapting to changing requirements.\n",
    "\n",
    "6. **Loose Coupling:** Delegation helps achieve loose coupling between components. Components don't need to know the internal details of each other; they only need to know the interface they're interacting with."
   ]
  },
  {
   "cell_type": "markdown",
   "id": "420312f2-132a-467d-ba15-ca50bff9fe20",
   "metadata": {},
   "source": [
    "10. Create a Python class for a car, using composition to represent components like the engine, wheels, and\n",
    "transmission."
   ]
  },
  {
   "cell_type": "code",
   "execution_count": 60,
   "id": "d1c655b8-b45c-4452-96d3-af724d4b7401",
   "metadata": {},
   "outputs": [
    {
     "name": "stdout",
     "output_type": "stream",
     "text": [
      "2023 Toyota Camry is starting:\n",
      "Engine started\n",
      "2023 Toyota Camry is in motion:\n",
      "Wheel is rotating\n",
      "Wheel is rotating\n",
      "Wheel is rotating\n",
      "Wheel is rotating\n",
      "Gear shifted\n"
     ]
    }
   ],
   "source": [
    "class Engine:\n",
    "    def __init__(self, horsepower):\n",
    "        self.horsepower = horsepower\n",
    "\n",
    "    def start(self):\n",
    "        print(\"Engine started\")\n",
    "\n",
    "class Wheel:\n",
    "    def __init__(self, size):\n",
    "        self.size = size\n",
    "\n",
    "    def rotate(self):\n",
    "        print(\"Wheel is rotating\")\n",
    "\n",
    "class Transmission:\n",
    "    def __init__(self, transmission_type):\n",
    "        self.transmission_type = transmission_type\n",
    "\n",
    "    def shift_gear(self):\n",
    "        print(\"Gear shifted\")\n",
    "\n",
    "class Car:\n",
    "    def __init__(self, make, model, year, engine_horsepower, wheel_size, transmission_type):\n",
    "        self.make = make\n",
    "        self.model = model\n",
    "        self.year = year\n",
    "        self.engine = Engine(engine_horsepower)\n",
    "        self.wheels = [Wheel(wheel_size) for _ in range(4)]  # A typical car has four wheels\n",
    "        self.transmission = Transmission(transmission_type)\n",
    "\n",
    "    def start(self):\n",
    "        print(f\"{self.year} {self.make} {self.model} is starting:\")\n",
    "        self.engine.start()\n",
    "\n",
    "    def drive(self):\n",
    "        print(f\"{self.year} {self.make} {self.model} is in motion:\")\n",
    "        for wheel in self.wheels:\n",
    "            wheel.rotate()\n",
    "        self.transmission.shift_gear()\n",
    "\n",
    "# Create a car object\n",
    "my_car = Car(\"Toyota\", \"Camry\", 2023, 200, 17, \"Automatic\")\n",
    "\n",
    "# Start and drive the car\n",
    "my_car.start()\n",
    "my_car.drive()\n"
   ]
  },
  {
   "cell_type": "markdown",
   "id": "a807061a-0925-4475-bcb8-17253850051a",
   "metadata": {},
   "source": [
    "11. How can you encapsulate and hide the details of composed objects in Python classes to maintain\n",
    "abstraction?"
   ]
  },
  {
   "cell_type": "markdown",
   "id": "6b17acff-f666-4b59-bbe9-1ba519edcdf1",
   "metadata": {},
   "source": [
    "To encapsulate and hide the details of composed objects in Python classes, you can follow these steps:\n",
    "\n",
    "1. Create classes for the composed objects: Define classes for the individual components or objects that you want to compose. These classes should encapsulate the details and behaviors of the components.\n",
    "\n",
    "2. Create a container class: Define a container class that represents the composite object. This class will have instances of the composed objects as attributes.\n",
    "\n",
    "3. Use abstraction: Abstraction is essential to hide the details of the composed objects. Define an interface or set of methods in the container class to interact with the composed objects. These methods should provide a high-level abstraction, allowing the user of the container class to work with the composite object without needing to know the internal details of the components.\n",
    "\n",
    "4. Implement methods in the container class: In the container class, implement methods that delegate the operations to the composed objects. These methods should provide a simplified, abstracted interface to the composed objects. You can call methods on the composed objects and return the results or perform any necessary logic.\n",
    "\n",
    "5. Provide access control: Use access control mechanisms in Python to make the attributes of the composed objects private or protected. You can use name mangling (prefixing attributes with double underscores) or other mechanisms to indicate that these attributes should not be accessed directly from outside the container class."
   ]
  },
  {
   "cell_type": "markdown",
   "id": "df67affc-f864-42dd-904b-acb80f006ab0",
   "metadata": {},
   "source": [
    "12. Create a Python class for a university course, using composition to represent students, instructors, and course materials."
   ]
  },
  {
   "cell_type": "code",
   "execution_count": 61,
   "id": "671a8960-5c5a-479b-8e80-51cdab03ffe6",
   "metadata": {},
   "outputs": [
    {
     "name": "stdout",
     "output_type": "stream",
     "text": [
      "Course: Introduction to Python Programming\n",
      "Instructor:\n",
      "Instructor ID: 101, Name: Dr. Smith\n",
      "Students:\n",
      "Student ID: 1, Name: Alice\n",
      "Student ID: 2, Name: Bob\n",
      "Student ID: 3, Name: Charlie\n",
      "Course Materials:\n",
      "Material Title: Lecture 1\n",
      "This is the content of the first lecture.\n",
      "Material Title: Assignment 1\n",
      "Please complete the assignment by the due date.\n",
      "Material Title: Syllabus\n",
      "Course schedule and policies.\n"
     ]
    }
   ],
   "source": [
    "class Student:\n",
    "    def __init__(self, student_id, name):\n",
    "        self.student_id = student_id\n",
    "        self.name = name\n",
    "\n",
    "    def __str__(self):\n",
    "        return f\"Student ID: {self.student_id}, Name: {self.name}\"\n",
    "\n",
    "class Instructor:\n",
    "    def __init__(self, instructor_id, name):\n",
    "        self.instructor_id = instructor_id\n",
    "        self.name = name\n",
    "\n",
    "    def __str__(self):\n",
    "        return f\"Instructor ID: {self.instructor_id}, Name: {self.name}\"\n",
    "\n",
    "class CourseMaterial:\n",
    "    def __init__(self, title, content):\n",
    "        self.title = title\n",
    "        self.content = content\n",
    "\n",
    "    def __str__(self):\n",
    "        return f\"Material Title: {self.title}\\n{self.content}\"\n",
    "\n",
    "class UniversityCourse:\n",
    "    def __init__(self, course_name, instructor, students, course_materials):\n",
    "        self.course_name = course_name\n",
    "        self.instructor = instructor\n",
    "        self.students = students\n",
    "        self.course_materials = course_materials\n",
    "\n",
    "    def display_course_info(self):\n",
    "        print(f\"Course: {self.course_name}\")\n",
    "        print(\"Instructor:\")\n",
    "        print(self.instructor)\n",
    "        print(\"Students:\")\n",
    "        for student in self.students:\n",
    "            print(student)\n",
    "        print(\"Course Materials:\")\n",
    "        for material in self.course_materials:\n",
    "            print(material)\n",
    "\n",
    "# Create students\n",
    "student1 = Student(1, \"Alice\")\n",
    "student2 = Student(2, \"Bob\")\n",
    "student3 = Student(3, \"Charlie\")\n",
    "\n",
    "# Create an instructor\n",
    "instructor = Instructor(101, \"Dr. Smith\")\n",
    "\n",
    "# Create course materials\n",
    "material1 = CourseMaterial(\"Lecture 1\", \"This is the content of the first lecture.\")\n",
    "material2 = CourseMaterial(\"Assignment 1\", \"Please complete the assignment by the due date.\")\n",
    "material3 = CourseMaterial(\"Syllabus\", \"Course schedule and policies.\")\n",
    "\n",
    "# Create a university course\n",
    "course = UniversityCourse(\"Introduction to Python Programming\", instructor, [student1, student2, student3], [material1, material2, material3])\n",
    "\n",
    "# Display course information\n",
    "course.display_course_info()\n"
   ]
  },
  {
   "cell_type": "markdown",
   "id": "781a0b7b-04d7-437d-a22c-345e0caaf533",
   "metadata": {},
   "source": [
    "13. Discuss the challenges and drawbacks of composition, such as increased complexity and potential for  tight coupling between objects. "
   ]
  },
  {
   "cell_type": "markdown",
   "id": "a5877d82-f47e-4de9-ab0e-2a5ba827e84f",
   "metadata": {},
   "source": [
    "Composition is a powerful concept in object-oriented programming, but like any programming technique, it comes with its challenges and potential drawbacks. Here are some of the challenges and drawbacks of composition:\n",
    "\n",
    "1. Increased Complexity: Composition can lead to increased code complexity, especially when an object is composed of multiple components. Managing the interactions between different objects can become challenging.\n",
    "\n",
    "2. Tight Coupling: If not designed carefully, composition can lead to tight coupling between objects. Tight coupling means that the components are highly dependent on each other, and changes in one component can affect others. This can make the code less flexible and harder to maintain.\n",
    "\n",
    "3. Code Duplication: In some cases, you may find yourself duplicating code across multiple classes that use composition to incorporate similar functionality from different components. This duplication can lead to maintenance challenges.\n",
    "\n",
    "4. Performance Overhead: Using composition may introduce some performance overhead compared to inheritance, as it often involves method calls to delegate functionality to composed objects. While this overhead is usually negligible, it can be a concern in performance-critical applications.\n",
    "\n",
    "5. Increased Object Creation Overhead: When you create complex objects using composition, you may need to create and manage many component objects. This can lead to increased object creation overhead, which may affect the application's memory usage and performance.\n",
    "\n",
    "6. Learning Curve: Understanding and correctly implementing composition can be more challenging for developers who are new to object-oriented programming. It may require a deeper understanding of how objects interact and how to design class relationships.\n",
    "\n",
    "7. Design Complexity: Designing classes with composition can be more complex than simple inheritance hierarchies. Developers need to carefully plan the relationships between classes and ensure that they meet the requirements of the application.\n",
    "\n",
    "8. Potential for Overhead: Composition can lead to a certain level of overhead, both in terms of memory usage and performance. While this overhead is usually acceptable, it's important to be aware of it and consider it in performance-critical applications.\n",
    "\n",
    "To address these challenges and drawbacks, it's essential to carefully plan your class relationships, minimize tight coupling, and use composition when it truly adds value to your design. When used appropriately, composition can result in flexible, maintainable, and reusable code."
   ]
  },
  {
   "cell_type": "markdown",
   "id": "66363b73-66d5-4f8d-a9c0-7b90928b407f",
   "metadata": {},
   "source": [
    "14. Create a Python class hierarchy for a restaurant system, using composition to represent menus, dishes,  and ingredients. "
   ]
  },
  {
   "cell_type": "code",
   "execution_count": 63,
   "id": "abd28593-70b9-439a-91a6-77d3ad0871e6",
   "metadata": {},
   "outputs": [
    {
     "name": "stdout",
     "output_type": "stream",
     "text": [
      "Menu: Indian Cuisine\n",
      "Biryani - A flavorful rice dish with spices and vegetables\n",
      "Ingredients: 200 grams of Rice, 2 pieces of Onion, 2 pieces of Tomato, 3 pieces of Potato\n",
      "Dal - A lentil-based dish with a rich and savory flavor\n",
      "Ingredients: 100 grams of Lentils, 2 pieces of Onion, 2 pieces of Tomato\n",
      "\n"
     ]
    }
   ],
   "source": [
    "class Ingredient:\n",
    "    def __init__(self, name, quantity, unit):\n",
    "        self.name = name\n",
    "        self.quantity = quantity\n",
    "        self.unit = unit\n",
    "\n",
    "    def __str__(self):\n",
    "        return f\"{self.quantity} {self.unit} of {self.name}\"\n",
    "\n",
    "\n",
    "class Dish:\n",
    "    def __init__(self, name, description, ingredients):\n",
    "        self.name = name\n",
    "        self.description = description\n",
    "        self.ingredients = ingredients\n",
    "\n",
    "    def __str__(self):\n",
    "        return f\"{self.name} - {self.description}\\nIngredients: {', '.join(map(str, self.ingredients))}\"\n",
    "\n",
    "\n",
    "class Menu:\n",
    "    def __init__(self, name, dishes):\n",
    "        self.name = name\n",
    "        self.dishes = dishes\n",
    "\n",
    "    def __str__(self):\n",
    "        menu_str = f\"Menu: {self.name}\\n\"\n",
    "        for dish in self.dishes:\n",
    "            menu_str += str(dish) + \"\\n\"\n",
    "        return menu_str\n",
    "\n",
    "\n",
    "# Ingredients\n",
    "onion = Ingredient(\"Onion\", 2, \"pieces\")\n",
    "tomato = Ingredient(\"Tomato\", 2, \"pieces\")\n",
    "potato = Ingredient(\"Potato\", 3, \"pieces\")\n",
    "rice = Ingredient(\"Rice\", 200, \"grams\")\n",
    "lentils = Ingredient(\"Lentils\", 100, \"grams\")\n",
    "\n",
    "# Dishes\n",
    "biryani_ingredients = [rice, onion, tomato, potato]\n",
    "biryani = Dish(\"Biryani\", \"A flavorful rice dish with spices and vegetables\", biryani_ingredients)\n",
    "\n",
    "dal_ingredients = [lentils, onion, tomato]\n",
    "dal = Dish(\"Dal\", \"A lentil-based dish with a rich and savory flavor\", dal_ingredients)\n",
    "\n",
    "# Menu\n",
    "indian_menu_dishes = [biryani, dal]\n",
    "indian_menu = Menu(\"Indian Cuisine\", indian_menu_dishes)\n",
    "\n",
    "# Display the menu\n",
    "print(indian_menu)\n"
   ]
  },
  {
   "cell_type": "markdown",
   "id": "3a971a6b-6bd0-4ae3-b4a0-53c81bdf54b7",
   "metadata": {},
   "source": [
    "15. Explain how composition enhances code maintainability and modularity in Python programs."
   ]
  },
  {
   "cell_type": "markdown",
   "id": "204f57dd-a60a-4427-9231-903a4903589e",
   "metadata": {},
   "source": [
    "Composition enhances code maintainability and modularity in Python programs in several ways:\n",
    "\n",
    "1. **Separation of Concerns**: Composition allows you to separate different concerns into separate classes or modules. For example, you can have one class responsible for managing ingredients, another for defining dishes, and a menu class that brings them together. This separation makes it easier to understand, modify, and maintain each part of the code independently.\n",
    "\n",
    "2. **Modularity**: With composition, you can build complex systems by composing smaller, reusable components. These components can be developed and tested separately, promoting code reuse and modularity. If you need to change or extend a specific component, you can do so without affecting the entire system.\n",
    "\n",
    "3. **Flexibility**: Composition allows you to change or replace components easily. For example, if you want to add a new dish to the menu, you can create a new dish object and add it to the menu without modifying the existing classes. This flexibility makes it easier to adapt to changing requirements.\n",
    "\n",
    "4. **Code Reusability**: Components created through composition can be reused in different parts of your codebase or even in different projects. For example, you can reuse the `Ingredient` class in various dishes, promoting code reusability and reducing redundancy.\n",
    "\n",
    "5. **Encapsulation**: Composition supports encapsulation, which means you can hide the implementation details of each component. This ensures that the internal structure of a component is not exposed, making it easier to make changes without affecting the rest of the system.\n",
    "\n",
    "6. **Testing and Debugging**: Smaller components are easier to test and debug. You can write unit tests for each component independently, making it simpler to identify and fix issues. Additionally, if a component fails, it's often easier to isolate and address the problem without affecting the entire system.\n",
    "\n",
    "7. **Scalability**: When your codebase grows, composition allows you to scale your system efficiently. You can add more components or replace existing ones as needed. This scalability is essential for handling larger and more complex software projects.\n",
    "\n",
    "8. **Code Readability**: Composition can lead to more readable code. Instead of having complex monolithic classes, you can break down your code into smaller, more manageable pieces. This makes it easier for other developers to understand and work with your code."
   ]
  },
  {
   "cell_type": "markdown",
   "id": "ad41efd1-6719-4bcc-90c9-307cbe2eba88",
   "metadata": {},
   "source": [
    "16. Create a Python class for a computer game character, using composition to represent attributes like  weapons, armor, and inventory. "
   ]
  },
  {
   "cell_type": "code",
   "execution_count": 65,
   "id": "dbf2e534-0dfc-4e58-8363-ab594bf6a7ee",
   "metadata": {},
   "outputs": [
    {
     "name": "stdout",
     "output_type": "stream",
     "text": [
      "Hero attacks Enemy with Sword for 10 damage!\n",
      "Enemy attacks Hero with Claw for 8 damage!\n",
      "Hero's Health: 92\n",
      "Enemy's Health: 40\n"
     ]
    }
   ],
   "source": [
    "class Weapon:\n",
    "    def __init__(self, name, damage):\n",
    "        self.name = name\n",
    "        self.damage = damage\n",
    "\n",
    "class Armor:\n",
    "    def __init__(self, name, defense):\n",
    "        self.name = name\n",
    "        self.defense = defense\n",
    "\n",
    "class Inventory:\n",
    "    def __init__(self):\n",
    "        self.items = []\n",
    "\n",
    "    def add_item(self, item):\n",
    "        self.items.append(item)\n",
    "\n",
    "class GameCharacter:\n",
    "    def __init__(self, name, health):\n",
    "        self.name = name\n",
    "        self.health = health\n",
    "        self.weapon = None\n",
    "        self.armor = None\n",
    "        self.inventory = Inventory()\n",
    "\n",
    "    def equip_weapon(self, weapon):\n",
    "        self.weapon = weapon\n",
    "\n",
    "    def equip_armor(self, armor):\n",
    "        self.armor = armor\n",
    "\n",
    "    def add_item_to_inventory(self, item):\n",
    "        self.inventory.add_item(item)\n",
    "\n",
    "    def attack(self, target):\n",
    "        if self.weapon:\n",
    "            print(f\"{self.name} attacks {target.name} with {self.weapon.name} for {self.weapon.damage} damage!\")\n",
    "            target.health -= self.weapon.damage\n",
    "        else:\n",
    "            print(f\"{self.name} attacks {target.name} but has no weapon equipped!\")\n",
    "\n",
    "# Usage\n",
    "player_weapon = Weapon(\"Sword\", 10)\n",
    "player_armor = Armor(\"Plate Mail\", 5)\n",
    "\n",
    "enemy_weapon = Weapon(\"Claw\", 8)\n",
    "\n",
    "player = GameCharacter(\"Hero\", 100)\n",
    "player.equip_weapon(player_weapon)\n",
    "player.equip_armor(player_armor)\n",
    "player.add_item_to_inventory(\"Health Potion\")\n",
    "\n",
    "enemy = GameCharacter(\"Enemy\", 50)\n",
    "enemy.equip_weapon(enemy_weapon)\n",
    "\n",
    "player.attack(enemy)\n",
    "enemy.attack(player)\n",
    "\n",
    "print(f\"{player.name}'s Health: {player.health}\")\n",
    "print(f\"{enemy.name}'s Health: {enemy.health}\")\n"
   ]
  },
  {
   "cell_type": "markdown",
   "id": "ad3cfb88-0e1a-45a9-84bb-a2b00a4f3f7e",
   "metadata": {},
   "source": [
    "17. Describe the concept of \"aggregation\" in composition and how it differs from simple composition. "
   ]
  },
  {
   "cell_type": "markdown",
   "id": "de8f6786-bb22-4600-aed9-0a3b3a680e98",
   "metadata": {},
   "source": [
    "Aggregation is a specialized form of composition in object-oriented programming that represents a \"whole-part\" relationship between objects. In aggregation, one class is considered as the whole, and it contains or is composed of other classes, which are the parts. The key distinction between aggregation and simple composition is the lifecycle of the contained objects and the strength of their association.\n",
    "\n",
    "Main differences between aggregation and simple composition:\n",
    "\n",
    "1. Lifecycle:\n",
    "   - In simple composition, the lifetime of the contained objects is tightly coupled to the lifetime of the whole object. When the whole object is destroyed, the contained objects are typically destroyed as well.\n",
    "   - In aggregation, the contained objects have an independent lifecycle. They can exist independently of the whole object, and when the whole object is destroyed, the contained objects can continue to exist.\n",
    "\n",
    "2. Multiplicity:\n",
    "   - In simple composition, there is usually a one-to-one or one-to-many relationship between the whole and its parts. This means that a whole can contain multiple parts, but each part is associated with one specific whole.\n",
    "   - In aggregation, the multiplicity is often many-to-one or many-to-many. This allows multiple wholes to share the same parts, and the same part can be associated with multiple wholes.\n",
    "\n",
    "3. Weak vs. Strong Relationship:\n",
    "   - In simple composition, the relationship between the whole and its parts is typically strong. The whole object directly owns and manages its parts.\n",
    "   - In aggregation, the relationship is weaker. The whole object may have a reference to its parts, but it doesn't directly control their creation and destruction.\n",
    "\n",
    "Aggregation is useful when you want to represent relationships where objects can be shared among different owners or when you need to model independent objects within a larger structure. It provides greater flexibility and reusability, as the same part can be associated with multiple wholes."
   ]
  },
  {
   "cell_type": "markdown",
   "id": "084e93c8-5827-4889-a346-61cc6d54fe80",
   "metadata": {},
   "source": [
    "18. Create a Python class for a house, using composition to represent rooms, furniture, and appliances."
   ]
  },
  {
   "cell_type": "code",
   "execution_count": 66,
   "id": "224c4cdc-2c2d-49ad-91de-fc341e076128",
   "metadata": {},
   "outputs": [
    {
     "name": "stdout",
     "output_type": "stream",
     "text": [
      "House with the following rooms:\n",
      "Room: Living Room\n",
      "\n",
      "Furniture:\n",
      "This is a piece of sofa furniture.\n",
      "This is a piece of coffee table furniture.\n",
      "\n",
      "Appliances:\n",
      "\n",
      "Room: Kitchen\n",
      "\n",
      "Furniture:\n",
      "\n",
      "\n",
      "Appliances:\n",
      "This is a fridge appliance.\n",
      "This is a oven appliance.\n"
     ]
    }
   ],
   "source": [
    "class Furniture:\n",
    "    def __init__(self, name):\n",
    "        self.name = name\n",
    "\n",
    "    def description(self):\n",
    "        return f\"This is a piece of {self.name} furniture.\"\n",
    "\n",
    "\n",
    "class Appliance:\n",
    "    def __init__(self, name):\n",
    "        self.name = name\n",
    "\n",
    "    def description(self):\n",
    "        return f\"This is a {self.name} appliance.\"\n",
    "\n",
    "\n",
    "class Room:\n",
    "    def __init__(self, name):\n",
    "        self.name = name\n",
    "        self.furniture = []\n",
    "        self.appliances = []\n",
    "\n",
    "    def add_furniture(self, furniture):\n",
    "        self.furniture.append(furniture)\n",
    "\n",
    "    def add_appliance(self, appliance):\n",
    "        self.appliances.append(appliance)\n",
    "\n",
    "    def describe_contents(self):\n",
    "        furniture_desc = \"\\n\".join([item.description() for item in self.furniture])\n",
    "        appliance_desc = \"\\n\".join([item.description() for item in self.appliances])\n",
    "        return f\"Room: {self.name}\\n\\nFurniture:\\n{furniture_desc}\\n\\nAppliances:\\n{appliance_desc}\"\n",
    "\n",
    "\n",
    "class House:\n",
    "    def __init__(self):\n",
    "        self.rooms = []\n",
    "\n",
    "    def add_room(self, room):\n",
    "        self.rooms.append(room)\n",
    "\n",
    "    def describe_house(self):\n",
    "        room_desc = \"\\n\".join([room.describe_contents() for room in self.rooms])\n",
    "        return f\"House with the following rooms:\\n{room_desc}\"\n",
    "\n",
    "\n",
    "# Create furniture and appliances\n",
    "sofa = Furniture(\"sofa\")\n",
    "table = Furniture(\"coffee table\")\n",
    "fridge = Appliance(\"fridge\")\n",
    "oven = Appliance(\"oven\")\n",
    "\n",
    "# Create rooms and add furniture and appliances\n",
    "living_room = Room(\"Living Room\")\n",
    "living_room.add_furniture(sofa)\n",
    "living_room.add_furniture(table)\n",
    "\n",
    "kitchen = Room(\"Kitchen\")\n",
    "kitchen.add_appliance(fridge)\n",
    "kitchen.add_appliance(oven)\n",
    "\n",
    "# Create a house and add rooms\n",
    "my_house = House()\n",
    "my_house.add_room(living_room)\n",
    "my_house.add_room(kitchen)\n",
    "\n",
    "# Describe the house\n",
    "print(my_house.describe_house())\n"
   ]
  },
  {
   "cell_type": "markdown",
   "id": "980471a2-81c6-438d-b2ff-ba321d58e340",
   "metadata": {},
   "source": [
    "19. How can you achieve flexibility in composed objects by allowing them to be replaced or modified dynamically at runtime?"
   ]
  },
  {
   "cell_type": "markdown",
   "id": "56896c3f-2489-46bf-86ae-d4d9c611bd66",
   "metadata": {},
   "source": [
    "Flexibility  can achieve in composed objects by allowing them to be replaced or modified dynamically at runtime through a design pattern known as the \"Strategy Pattern.\" The Strategy Pattern defines a family of algorithms, encapsulates each one, and makes them interchangeable. It allows you to select and use an algorithm or strategy dynamically without altering the client code that uses it.\n",
    "\n",
    "Steps:\n",
    "\n",
    "1. Define a set of interchangeable strategies: Create different classes (strategies) that represent variations of a behavior or algorithm.\n",
    "\n",
    "2. Encapsulate each strategy: Each strategy class should encapsulate a specific algorithm, making them interchangeable.\n",
    "\n",
    "3. Use composition: Compose the context class (the class that needs the behavior) with an instance of the strategy interface. The context class holds a reference to the current strategy.\n",
    "\n",
    "4. Allow runtime switching: Provide a method in the context class that allows you to change the currently assigned strategy at runtime. This method replaces the current strategy with another one.\n",
    "\n",
    "By following the Strategy Pattern, you can dynamically switch or replace the behavior of a composed object without modifying the client code. This approach promotes flexibility and makes it easier to adapt to changing requirements."
   ]
  },
  {
   "cell_type": "markdown",
   "id": "eac972eb-3f76-456a-b4c6-d9fea9c4b55a",
   "metadata": {},
   "source": [
    "20. Create a Python class for a social media application, using composition to represent users, posts, and comments."
   ]
  },
  {
   "cell_type": "code",
   "execution_count": 69,
   "id": "3859d78d-f2cc-4d93-bc8f-b464736741b9",
   "metadata": {},
   "outputs": [
    {
     "name": "stdout",
     "output_type": "stream",
     "text": [
      "Post by Alice: Hello, World!\n",
      "Comments:\n",
      "- Bob: Great post!\n",
      "- Alice: Thanks!\n",
      "------\n",
      "Post by Bob: Python is awesome!\n",
      "Comments:\n",
      "- Alice: I agree!\n",
      "------\n"
     ]
    }
   ],
   "source": [
    "class Comment:\n",
    "    def __init__(self, text, user):\n",
    "        self.text = text\n",
    "        self.user = user\n",
    "\n",
    "class Post:\n",
    "    def __init__(self, content, user):\n",
    "        self.content = content\n",
    "        self.user = user\n",
    "        self.comments = []\n",
    "\n",
    "    def add_comment(self, text, user):\n",
    "        comment = Comment(text, user)\n",
    "        self.comments.append(comment)\n",
    "\n",
    "class User:\n",
    "    def __init__(self, username):\n",
    "        self.username = username\n",
    "        self.posts = []\n",
    "\n",
    "    def create_post(self, content):\n",
    "        post = Post(content, self)\n",
    "        self.posts.append(post)\n",
    "        return post\n",
    "\n",
    "    def display_posts(self):\n",
    "        for post in self.posts:\n",
    "            print(f\"Post by {self.username}: {post.content}\")\n",
    "            print(\"Comments:\")\n",
    "            for comment in post.comments:\n",
    "                print(f\"- {comment.user.username}: {comment.text}\")\n",
    "            print(\"------\")\n",
    "\n",
    "\n",
    "# Example usage\n",
    "user1 = User(\"Alice\")\n",
    "user2 = User(\"Bob\")\n",
    "\n",
    "post1 = user1.create_post(\"Hello, World!\")\n",
    "post1.add_comment(\"Great post!\", user2)\n",
    "post1.add_comment(\"Thanks!\", user1)\n",
    "\n",
    "post2 = user2.create_post(\"Python is awesome!\")\n",
    "post2.add_comment(\"I agree!\", user1)\n",
    "\n",
    "user1.display_posts()\n",
    "user2.display_posts()\n"
   ]
  },
  {
   "cell_type": "raw",
   "id": "3938c3e5-1347-473e-b3ba-c116f1206599",
   "metadata": {},
   "source": [
    "----------------------------------END-------------------------------------"
   ]
  }
 ],
 "metadata": {
  "kernelspec": {
   "display_name": "Python 3 (ipykernel)",
   "language": "python",
   "name": "python3"
  },
  "language_info": {
   "codemirror_mode": {
    "name": "ipython",
    "version": 3
   },
   "file_extension": ".py",
   "mimetype": "text/x-python",
   "name": "python",
   "nbconvert_exporter": "python",
   "pygments_lexer": "ipython3",
   "version": "3.10.8"
  }
 },
 "nbformat": 4,
 "nbformat_minor": 5
}
